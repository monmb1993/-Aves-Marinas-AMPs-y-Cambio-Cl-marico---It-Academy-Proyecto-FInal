{
 "cells": [
  {
   "cell_type": "markdown",
   "id": "f92f7136",
   "metadata": {},
   "source": [
    "# Instalación e Importación de librerias"
   ]
  },
  {
   "cell_type": "code",
   "execution_count": 225,
   "id": "82dcb318",
   "metadata": {},
   "outputs": [],
   "source": [
    "#pip install pySankey\n",
    "#pip install bokeh_sampledata\n",
    "#pip install holoviews\n",
    "#C:\\Users\\monic\\OneDrive\\Desktop\\AnalisisPajaros\\.conda\\python.exe -m pip install statsmodels\n",
    "#C:\\Users\\monic\\OneDrive\\Desktop\\AnalisisPajaros\\.conda\\python.exe -m pip install mord\n",
    "#C:\\Users\\monic\\OneDrive\\Desktop\\AnalisisPajaros\\.conda\\python.exe -m pip install sklearn"
   ]
  },
  {
   "cell_type": "code",
   "execution_count": 226,
   "id": "d7fbe362",
   "metadata": {},
   "outputs": [],
   "source": [
    "import pandas as pd \n",
    "import csv\n",
    "import matplotlib.pyplot as plt\n",
    "import numpy as np\n",
    "import plotly.express as px\n",
    "import seaborn as sns\n",
    "import plotly.graph_objects as go\n",
    "import plotly.figure_factory as ff\n",
    "from pySankey.sankey import sankey\n",
    "from matplotlib.patches import Patch"
   ]
  },
  {
   "cell_type": "markdown",
   "id": "3f15b8a3",
   "metadata": {},
   "source": [
    "# Importación DataFrame y corrección de pequeños errores"
   ]
  },
  {
   "cell_type": "code",
   "execution_count": 227,
   "id": "2c3be316",
   "metadata": {},
   "outputs": [
    {
     "data": {
      "application/vnd.microsoft.datawrangler.viewer.v0+json": {
       "columns": [
        {
         "name": "index",
         "rawType": "int64",
         "type": "integer"
        },
        {
         "name": "date",
         "rawType": "int64",
         "type": "integer"
        },
        {
         "name": "speciesname",
         "rawType": "object",
         "type": "string"
        },
        {
         "name": "Scientific name",
         "rawType": "object",
         "type": "string"
        },
        {
         "name": "year",
         "rawType": "int64",
         "type": "integer"
        },
        {
         "name": "yday",
         "rawType": "int64",
         "type": "integer"
        },
        {
         "name": "fecha",
         "rawType": "object",
         "type": "string"
        },
        {
         "name": "fecha_formateada",
         "rawType": "object",
         "type": "string"
        },
        {
         "name": "month",
         "rawType": "int64",
         "type": "integer"
        },
        {
         "name": "nombre_mes",
         "rawType": "object",
         "type": "string"
        },
        {
         "name": "count_aves",
         "rawType": "int64",
         "type": "integer"
        },
        {
         "name": "speciesid",
         "rawType": "int64",
         "type": "integer"
        },
        {
         "name": "Ordre",
         "rawType": "object",
         "type": "string"
        },
        {
         "name": "Catalan name",
         "rawType": "object",
         "type": "string"
        },
        {
         "name": "Protection status in Catlunya",
         "rawType": "object",
         "type": "string"
        },
        {
         "name": "Average SST month",
         "rawType": "float64",
         "type": "float"
        },
        {
         "name": "Average SST 1975-2000",
         "rawType": "float64",
         "type": "float"
        },
        {
         "name": "SST change",
         "rawType": "float64",
         "type": "float"
        },
        {
         "name": "Arrossegament de fons al Mediterrani",
         "rawType": "float64",
         "type": "float"
        },
        {
         "name": "Arts menors en el Mediterrani",
         "rawType": "float64",
         "type": "float"
        },
        {
         "name": "Encerclament al Mediterrani",
         "rawType": "float64",
         "type": "float"
        },
        {
         "name": "Encerclament tonyina vermella al Mediterrani",
         "rawType": "float64",
         "type": "float"
        },
        {
         "name": "Palangre de fons al Mediterrani",
         "rawType": "float64",
         "type": "float"
        },
        {
         "name": "Palangre de superficie al Mediterrani",
         "rawType": "float64",
         "type": "float"
        },
        {
         "name": "Total CAT",
         "rawType": "float64",
         "type": "float"
        },
        {
         "name": "NOMBRE COMÚN",
         "rawType": "object",
         "type": "string"
        },
        {
         "name": "LR2004",
         "rawType": "object",
         "type": "string"
        },
        {
         "name": "LR2021 Invern/Migrat",
         "rawType": "object",
         "type": "string"
        },
        {
         "name": "LR2021 Repro",
         "rawType": "object",
         "type": "string"
        },
        {
         "name": "EVOLUCIÓN CATEGORÍA 2004-2021",
         "rawType": "object",
         "type": "string"
        },
        {
         "name": "Estatus Consolidado",
         "rawType": "object",
         "type": "string"
        },
        {
         "name": "Biosphere reserve",
         "rawType": "float64",
         "type": "float"
        },
        {
         "name": "MPA with a national statute",
         "rawType": "float64",
         "type": "float"
        },
        {
         "name": "Marine Natura 2000 proposed site",
         "rawType": "float64",
         "type": "float"
        },
        {
         "name": "Marine Natura 2000 site",
         "rawType": "float64",
         "type": "float"
        },
        {
         "name": "Ramsar site",
         "rawType": "float64",
         "type": "float"
        },
        {
         "name": "SPAMI",
         "rawType": "float64",
         "type": "float"
        },
        {
         "name": "World heritage site",
         "rawType": "float64",
         "type": "float"
        },
        {
         "name": "calculo",
         "rawType": "float64",
         "type": "float"
        },
        {
         "name": "Total_MPAs",
         "rawType": "float64",
         "type": "float"
        },
        {
         "name": "Nombre_cetegoria_2021",
         "rawType": "object",
         "type": "string"
        },
        {
         "name": "Nombre_categoria_2004",
         "rawType": "object",
         "type": "string"
        }
       ],
       "ref": "e973ba16-17f0-4d43-a1f2-751c1897aeda",
       "rows": [
        [
         "75",
         "39102",
         "Balearic Shearwater",
         "Puffinus mauretanicus",
         "2007",
         "20",
         "20/01/2007",
         "2007-01-20",
         "1",
         "Enero",
         "9",
         "454",
         "Procel·lariformes",
         "Baldriga balear",
         "Critically Endangered",
         "14.7",
         "12.3",
         "2.4",
         "331.0",
         "700.0",
         "100.0",
         "6.0",
         "56.0",
         "10.0",
         "1203.0",
         "Pardela balear",
         "CR",
         "Sin datos",
         "CR",
         "Sin Variaciones",
         "CR",
         "4450.05",
         "2594.0",
         "156.01",
         "2146.42",
         "0.0",
         "247.22",
         "135.56",
         "0.0",
         "9729.26",
         "En Peligro Crítico",
         "En Peligro Crítico"
        ],
        [
         "76",
         "39102",
         "Balearic-/Yelkouan Shearwater",
         "Puffinus sp.",
         "2007",
         "20",
         "20/01/2007",
         "2007-01-20",
         "1",
         "Enero",
         "4",
         "4646",
         "Procel·lariformes",
         "Baldriga balear/mediterranea",
         "Critically Endangered/Protected",
         "14.7",
         "12.3",
         "2.4",
         "331.0",
         "700.0",
         "100.0",
         "6.0",
         "56.0",
         "10.0",
         "1203.0",
         "Pardela balear/mediterránea",
         "CR/EN",
         "Sin datos",
         "CR/VU",
         "Sin Variaciones/Desfavorable",
         "CR/VU",
         "4450.05",
         "2594.0",
         "156.01",
         "2146.42",
         "0.0",
         "247.22",
         "135.56",
         "0.0",
         "9729.26",
         "En Peligro Crítico/Vulnerable",
         "En Peligro Crítico/En Peligro"
        ],
        [
         "77",
         "39102",
         "Black-headed Gull",
         "Chroicocephalus ridibundus",
         "2007",
         "20",
         "20/01/2007",
         "2007-01-20",
         "1",
         "Enero",
         "5",
         "200",
         "Charadriiformes",
         "Gavina riallera",
         "No Evaluated",
         "14.7",
         "12.3",
         "2.4",
         "331.0",
         "700.0",
         "100.0",
         "6.0",
         "56.0",
         "10.0",
         "1203.0",
         "Gaviota reidora",
         "NE",
         "LC",
         "Sin datos",
         "Favorable",
         "LC",
         "4450.05",
         "2594.0",
         "156.01",
         "2146.42",
         "0.0",
         "247.22",
         "135.56",
         "0.0",
         "9729.26",
         "Preocupación Menor",
         "No Evaluado"
        ],
        [
         "78",
         "39102",
         "Cormorant",
         "Phalacrocorax carbo",
         "2007",
         "20",
         "20/01/2007",
         "2007-01-20",
         "1",
         "Enero",
         "12",
         "20",
         "Suliformes",
         "Corb marí gros",
         "No Evaluated",
         "14.7",
         "12.3",
         "2.4",
         "331.0",
         "700.0",
         "100.0",
         "6.0",
         "56.0",
         "10.0",
         "1203.0",
         "Cormorán grande",
         "NE",
         "LC",
         "LC",
         "Favorable",
         "LC",
         "4450.05",
         "2594.0",
         "156.01",
         "2146.42",
         "0.0",
         "247.22",
         "135.56",
         "0.0",
         "9729.26",
         "Preocupación Menor",
         "No Evaluado"
        ],
        [
         "79",
         "39102",
         "Gannet",
         "Morus bassanus",
         "2007",
         "20",
         "20/01/2007",
         "2007-01-20",
         "1",
         "Enero",
         "13",
         "19",
         "Suliformes",
         "Mascarell",
         "Protected",
         "14.7",
         "12.3",
         "2.4",
         "331.0",
         "700.0",
         "100.0",
         "6.0",
         "56.0",
         "10.0",
         "1203.0",
         "Alcatraz atlántico",
         "NE",
         "LC",
         "Sin datos",
         "Favorable",
         "LC",
         "4450.05",
         "2594.0",
         "156.01",
         "2146.42",
         "0.0",
         "247.22",
         "135.56",
         "0.0",
         "9729.26",
         "Preocupación Menor",
         "No Evaluado"
        ],
        [
         "80",
         "39102",
         "Razorbill",
         "Alca torda",
         "2007",
         "20",
         "20/01/2007",
         "2007-01-20",
         "1",
         "Enero",
         "13",
         "226",
         "Charadriiformes",
         "Gavot",
         "Vulnerable",
         "14.7",
         "12.3",
         "2.4",
         "331.0",
         "700.0",
         "100.0",
         "6.0",
         "56.0",
         "10.0",
         "1203.0",
         "Alca común",
         "NE",
         "DD",
         "Sin datos",
         "Datos Insuficientes",
         "DD",
         "4450.05",
         "2594.0",
         "156.01",
         "2146.42",
         "0.0",
         "247.22",
         "135.56",
         "0.0",
         "9729.26",
         "Datos Insuficientes",
         "No Evaluado"
        ],
        [
         "81",
         "39102",
         "Sandwich Tern",
         "Thalasseus sandvicensis",
         "2007",
         "20",
         "20/01/2007",
         "2007-01-20",
         "1",
         "Enero",
         "7",
         "215",
         "Charadriiformes",
         "Xatrac becllarg",
         "Vulnerable",
         "14.7",
         "12.3",
         "2.4",
         "331.0",
         "700.0",
         "100.0",
         "6.0",
         "56.0",
         "10.0",
         "1203.0",
         "Charrán patinegro",
         "NT",
         "Sin datos",
         "VU",
         "Desfavorable",
         "VU",
         "4450.05",
         "2594.0",
         "156.01",
         "2146.42",
         "0.0",
         "247.22",
         "135.56",
         "0.0",
         "9729.26",
         "Vulnerable",
         "Casi Amenazado"
        ],
        [
         "82",
         "39102",
         "Yelkouan Shearwater",
         "Puffinus yelkouan",
         "2007",
         "20",
         "20/01/2007",
         "2007-01-20",
         "1",
         "Enero",
         "15",
         "495",
         "Procel·lariformes",
         "Baldriga mediterrània",
         "Vulnerable",
         "14.7",
         "12.3",
         "2.4",
         "331.0",
         "700.0",
         "100.0",
         "6.0",
         "56.0",
         "10.0",
         "1203.0",
         "Pardela mediterránea",
         "NE",
         "Sin datos",
         "VU",
         "Desfavorable",
         "VU",
         "4450.05",
         "2594.0",
         "156.01",
         "2146.42",
         "0.0",
         "247.22",
         "135.56",
         "0.0",
         "9729.26",
         "Vulnerable",
         "No Evaluado"
        ],
        [
         "83",
         "39102",
         "Yellow-legged Gull",
         "Larus michahellis",
         "2007",
         "20",
         "20/01/2007",
         "2007-01-20",
         "1",
         "Enero",
         "6",
         "445",
         "Charadriiformes",
         "Gavià argentat",
         "No Evaluated",
         "14.7",
         "12.3",
         "2.4",
         "331.0",
         "700.0",
         "100.0",
         "6.0",
         "56.0",
         "10.0",
         "1203.0",
         "Gaviota patiamarilla",
         "NE",
         "Sin datos",
         "NT",
         "Desfavorable",
         "NT",
         "4450.05",
         "2594.0",
         "156.01",
         "2146.42",
         "0.0",
         "247.22",
         "135.56",
         "0.0",
         "9729.26",
         "Casi Amenazado",
         "No Evaluado"
        ],
        [
         "84",
         "39133",
         "Balearic Shearwater",
         "Puffinus mauretanicus",
         "2007",
         "51",
         "20/02/2007",
         "2007-02-20",
         "2",
         "Febrero",
         "4",
         "454",
         "Procel·lariformes",
         "Baldriga balear",
         "Critically Endangered",
         "13.6",
         "12.39",
         "1.21",
         "331.0",
         "700.0",
         "100.0",
         "6.0",
         "56.0",
         "10.0",
         "1203.0",
         "Pardela balear",
         "CR",
         "Sin datos",
         "CR",
         "Sin Variaciones",
         "CR",
         "4450.05",
         "2594.0",
         "156.01",
         "2146.42",
         "0.0",
         "247.22",
         "135.56",
         "0.0",
         "9729.26",
         "En Peligro Crítico",
         "En Peligro Crítico"
        ],
        [
         "85",
         "39133",
         "Balearic-/Yelkouan Shearwater",
         "Puffinus sp.",
         "2007",
         "51",
         "20/02/2007",
         "2007-02-20",
         "2",
         "Febrero",
         "2",
         "4646",
         "Procel·lariformes",
         "Baldriga balear/mediterranea",
         "Critically Endangered/Protected",
         "13.6",
         "12.39",
         "1.21",
         "331.0",
         "700.0",
         "100.0",
         "6.0",
         "56.0",
         "10.0",
         "1203.0",
         "Pardela balear/mediterránea",
         "CR/EN",
         "Sin datos",
         "CR/VU",
         "Sin Variaciones/Desfavorable",
         "CR/VU",
         "4450.05",
         "2594.0",
         "156.01",
         "2146.42",
         "0.0",
         "247.22",
         "135.56",
         "0.0",
         "9729.26",
         "En Peligro Crítico/Vulnerable",
         "En Peligro Crítico/En Peligro"
        ],
        [
         "86",
         "39133",
         "Black-headed Gull",
         "Chroicocephalus ridibundus",
         "2007",
         "51",
         "20/02/2007",
         "2007-02-20",
         "2",
         "Febrero",
         "10",
         "200",
         "Charadriiformes",
         "Gavina riallera",
         "No Evaluated",
         "13.6",
         "12.39",
         "1.21",
         "331.0",
         "700.0",
         "100.0",
         "6.0",
         "56.0",
         "10.0",
         "1203.0",
         "Gaviota reidora",
         "NE",
         "LC",
         "Sin datos",
         "Favorable",
         "LC",
         "4450.05",
         "2594.0",
         "156.01",
         "2146.42",
         "0.0",
         "247.22",
         "135.56",
         "0.0",
         "9729.26",
         "Preocupación Menor",
         "No Evaluado"
        ],
        [
         "87",
         "39133",
         "Cormorant",
         "Phalacrocorax carbo",
         "2007",
         "51",
         "20/02/2007",
         "2007-02-20",
         "2",
         "Febrero",
         "5",
         "20",
         "Suliformes",
         "Corb marí gros",
         "No Evaluated",
         "13.6",
         "12.39",
         "1.21",
         "331.0",
         "700.0",
         "100.0",
         "6.0",
         "56.0",
         "10.0",
         "1203.0",
         "Cormorán grande",
         "NE",
         "LC",
         "LC",
         "Favorable",
         "LC",
         "4450.05",
         "2594.0",
         "156.01",
         "2146.42",
         "0.0",
         "247.22",
         "135.56",
         "0.0",
         "9729.26",
         "Preocupación Menor",
         "No Evaluado"
        ],
        [
         "88",
         "39133",
         "Gannet",
         "Morus bassanus",
         "2007",
         "51",
         "20/02/2007",
         "2007-02-20",
         "2",
         "Febrero",
         "5",
         "19",
         "Suliformes",
         "Mascarell",
         "Protected",
         "13.6",
         "12.39",
         "1.21",
         "331.0",
         "700.0",
         "100.0",
         "6.0",
         "56.0",
         "10.0",
         "1203.0",
         "Alcatraz atlántico",
         "NE",
         "LC",
         "Sin datos",
         "Favorable",
         "LC",
         "4450.05",
         "2594.0",
         "156.01",
         "2146.42",
         "0.0",
         "247.22",
         "135.56",
         "0.0",
         "9729.26",
         "Preocupación Menor",
         "No Evaluado"
        ],
        [
         "89",
         "39133",
         "Kittiwake",
         "Rissa tridactyla",
         "2007",
         "51",
         "20/02/2007",
         "2007-02-20",
         "2",
         "Febrero",
         "1",
         "211",
         "Charadriiformes",
         "Gavineta de tres dits",
         "Protected",
         "13.6",
         "12.39",
         "1.21",
         "331.0",
         "700.0",
         "100.0",
         "6.0",
         "56.0",
         "10.0",
         "1203.0",
         "Gaviota tridáctila",
         "VU",
         "Sin datos",
         "CR",
         "Desfavorable",
         "CR",
         "4450.05",
         "2594.0",
         "156.01",
         "2146.42",
         "0.0",
         "247.22",
         "135.56",
         "0.0",
         "9729.26",
         "En Peligro Crítico",
         "Vulnerable"
        ],
        [
         "90",
         "39133",
         "Mediterranean Gull",
         "Larus melanocephalus",
         "2007",
         "51",
         "20/02/2007",
         "2007-02-20",
         "2",
         "Febrero",
         "3",
         "196",
         "Charadriiformes",
         "Gavina capnegra",
         "Protected",
         "13.6",
         "12.39",
         "1.21",
         "331.0",
         "700.0",
         "100.0",
         "6.0",
         "56.0",
         "10.0",
         "1203.0",
         "Gaviota cabecinegra",
         "NE",
         "NT",
         "Sin datos",
         "Desfavorable",
         "NT",
         "4450.05",
         "2594.0",
         "156.01",
         "2146.42",
         "0.0",
         "247.22",
         "135.56",
         "0.0",
         "9729.26",
         "Casi Amenazado",
         "No Evaluado"
        ],
        [
         "91",
         "39133",
         "Razorbill",
         "Alca torda",
         "2007",
         "51",
         "20/02/2007",
         "2007-02-20",
         "2",
         "Febrero",
         "1",
         "226",
         "Charadriiformes",
         "Gavot",
         "Vulnerable",
         "13.6",
         "12.39",
         "1.21",
         "331.0",
         "700.0",
         "100.0",
         "6.0",
         "56.0",
         "10.0",
         "1203.0",
         "Alca común",
         "NE",
         "DD",
         "Sin datos",
         "Datos Insuficientes",
         "DD",
         "4450.05",
         "2594.0",
         "156.01",
         "2146.42",
         "0.0",
         "247.22",
         "135.56",
         "0.0",
         "9729.26",
         "Datos Insuficientes",
         "No Evaluado"
        ],
        [
         "92",
         "39133",
         "Sandwich Tern",
         "Thalasseus sandvicensis",
         "2007",
         "51",
         "20/02/2007",
         "2007-02-20",
         "2",
         "Febrero",
         "5",
         "215",
         "Charadriiformes",
         "Xatrac becllarg",
         "Vulnerable",
         "13.6",
         "12.39",
         "1.21",
         "331.0",
         "700.0",
         "100.0",
         "6.0",
         "56.0",
         "10.0",
         "1203.0",
         "Charrán patinegro",
         "NT",
         "Sin datos",
         "VU",
         "Desfavorable",
         "VU",
         "4450.05",
         "2594.0",
         "156.01",
         "2146.42",
         "0.0",
         "247.22",
         "135.56",
         "0.0",
         "9729.26",
         "Vulnerable",
         "Casi Amenazado"
        ],
        [
         "93",
         "39133",
         "Yelkouan Shearwater",
         "Puffinus yelkouan",
         "2007",
         "51",
         "20/02/2007",
         "2007-02-20",
         "2",
         "Febrero",
         "5",
         "495",
         "Procel·lariformes",
         "Baldriga mediterrània",
         "Vulnerable",
         "13.6",
         "12.39",
         "1.21",
         "331.0",
         "700.0",
         "100.0",
         "6.0",
         "56.0",
         "10.0",
         "1203.0",
         "Pardela mediterránea",
         "NE",
         "Sin datos",
         "VU",
         "Desfavorable",
         "VU",
         "4450.05",
         "2594.0",
         "156.01",
         "2146.42",
         "0.0",
         "247.22",
         "135.56",
         "0.0",
         "9729.26",
         "Vulnerable",
         "No Evaluado"
        ],
        [
         "94",
         "39133",
         "Yellow-legged Gull",
         "Larus michahellis",
         "2007",
         "51",
         "20/02/2007",
         "2007-02-20",
         "2",
         "Febrero",
         "6",
         "445",
         "Charadriiformes",
         "Gavià argentat",
         "No Evaluated",
         "13.6",
         "12.39",
         "1.21",
         "331.0",
         "700.0",
         "100.0",
         "6.0",
         "56.0",
         "10.0",
         "1203.0",
         "Gaviota patiamarilla",
         "NE",
         "Sin datos",
         "NT",
         "Desfavorable",
         "NT",
         "4450.05",
         "2594.0",
         "156.01",
         "2146.42",
         "0.0",
         "247.22",
         "135.56",
         "0.0",
         "9729.26",
         "Casi Amenazado",
         "No Evaluado"
        ],
        [
         "95",
         "39144",
         "Balearic Shearwater",
         "Puffinus mauretanicus",
         "2007",
         "62",
         "03/03/2007",
         "2007-03-03",
         "3",
         "Marzo",
         "6",
         "454",
         "Procel·lariformes",
         "Baldriga balear",
         "Critically Endangered",
         "13.6",
         "12.58",
         "1.02",
         "331.0",
         "700.0",
         "100.0",
         "6.0",
         "56.0",
         "10.0",
         "1203.0",
         "Pardela balear",
         "CR",
         "Sin datos",
         "CR",
         "Sin Variaciones",
         "CR",
         "4450.05",
         "2594.0",
         "156.01",
         "2146.42",
         "0.0",
         "247.22",
         "135.56",
         "0.0",
         "9729.26",
         "En Peligro Crítico",
         "En Peligro Crítico"
        ],
        [
         "96",
         "39144",
         "Balearic-/Yelkouan Shearwater",
         "Puffinus sp.",
         "2007",
         "62",
         "03/03/2007",
         "2007-03-03",
         "3",
         "Marzo",
         "6",
         "4646",
         "Procel·lariformes",
         "Baldriga balear/mediterranea",
         "Critically Endangered/Protected",
         "13.6",
         "12.58",
         "1.02",
         "331.0",
         "700.0",
         "100.0",
         "6.0",
         "56.0",
         "10.0",
         "1203.0",
         "Pardela balear/mediterránea",
         "CR/EN",
         "Sin datos",
         "CR/VU",
         "Sin Variaciones/Desfavorable",
         "CR/VU",
         "4450.05",
         "2594.0",
         "156.01",
         "2146.42",
         "0.0",
         "247.22",
         "135.56",
         "0.0",
         "9729.26",
         "En Peligro Crítico/Vulnerable",
         "En Peligro Crítico/En Peligro"
        ],
        [
         "97",
         "39144",
         "Black-headed Gull",
         "Chroicocephalus ridibundus",
         "2007",
         "62",
         "03/03/2007",
         "2007-03-03",
         "3",
         "Marzo",
         "4",
         "200",
         "Charadriiformes",
         "Gavina riallera",
         "No Evaluated",
         "13.6",
         "12.58",
         "1.02",
         "331.0",
         "700.0",
         "100.0",
         "6.0",
         "56.0",
         "10.0",
         "1203.0",
         "Gaviota reidora",
         "NE",
         "LC",
         "Sin datos",
         "Favorable",
         "LC",
         "4450.05",
         "2594.0",
         "156.01",
         "2146.42",
         "0.0",
         "247.22",
         "135.56",
         "0.0",
         "9729.26",
         "Preocupación Menor",
         "No Evaluado"
        ],
        [
         "98",
         "39144",
         "Cormorant",
         "Phalacrocorax carbo",
         "2007",
         "62",
         "03/03/2007",
         "2007-03-03",
         "3",
         "Marzo",
         "6",
         "20",
         "Suliformes",
         "Corb marí gros",
         "No Evaluated",
         "13.6",
         "12.58",
         "1.02",
         "331.0",
         "700.0",
         "100.0",
         "6.0",
         "56.0",
         "10.0",
         "1203.0",
         "Cormorán grande",
         "NE",
         "LC",
         "LC",
         "Favorable",
         "LC",
         "4450.05",
         "2594.0",
         "156.01",
         "2146.42",
         "0.0",
         "247.22",
         "135.56",
         "0.0",
         "9729.26",
         "Preocupación Menor",
         "No Evaluado"
        ],
        [
         "99",
         "39144",
         "Gannet",
         "Morus bassanus",
         "2007",
         "62",
         "03/03/2007",
         "2007-03-03",
         "3",
         "Marzo",
         "10",
         "19",
         "Suliformes",
         "Mascarell",
         "Protected",
         "13.6",
         "12.58",
         "1.02",
         "331.0",
         "700.0",
         "100.0",
         "6.0",
         "56.0",
         "10.0",
         "1203.0",
         "Alcatraz atlántico",
         "NE",
         "LC",
         "Sin datos",
         "Favorable",
         "LC",
         "4450.05",
         "2594.0",
         "156.01",
         "2146.42",
         "0.0",
         "247.22",
         "135.56",
         "0.0",
         "9729.26",
         "Preocupación Menor",
         "No Evaluado"
        ],
        [
         "100",
         "39144",
         "Razorbill",
         "Alca torda",
         "2007",
         "62",
         "03/03/2007",
         "2007-03-03",
         "3",
         "Marzo",
         "6",
         "226",
         "Charadriiformes",
         "Gavot",
         "Vulnerable",
         "13.6",
         "12.58",
         "1.02",
         "331.0",
         "700.0",
         "100.0",
         "6.0",
         "56.0",
         "10.0",
         "1203.0",
         "Alca común",
         "NE",
         "DD",
         "Sin datos",
         "Datos Insuficientes",
         "DD",
         "4450.05",
         "2594.0",
         "156.01",
         "2146.42",
         "0.0",
         "247.22",
         "135.56",
         "0.0",
         "9729.26",
         "Datos Insuficientes",
         "No Evaluado"
        ],
        [
         "101",
         "39144",
         "Sandwich Tern",
         "Thalasseus sandvicensis",
         "2007",
         "62",
         "03/03/2007",
         "2007-03-03",
         "3",
         "Marzo",
         "4",
         "215",
         "Charadriiformes",
         "Xatrac becllarg",
         "Vulnerable",
         "13.6",
         "12.58",
         "1.02",
         "331.0",
         "700.0",
         "100.0",
         "6.0",
         "56.0",
         "10.0",
         "1203.0",
         "Charrán patinegro",
         "NT",
         "Sin datos",
         "VU",
         "Desfavorable",
         "VU",
         "4450.05",
         "2594.0",
         "156.01",
         "2146.42",
         "0.0",
         "247.22",
         "135.56",
         "0.0",
         "9729.26",
         "Vulnerable",
         "Casi Amenazado"
        ],
        [
         "102",
         "39144",
         "Shag",
         "Phalacrocorax aristotelis",
         "2007",
         "62",
         "03/03/2007",
         "2007-03-03",
         "3",
         "Marzo",
         "2",
         "21",
         "Suliformes",
         "Corbmarí emplomallat mediterrani",
         "Vulnerable",
         "13.6",
         "12.58",
         "1.02",
         "331.0",
         "700.0",
         "100.0",
         "6.0",
         "56.0",
         "10.0",
         "1203.0",
         "Cormorán moñudo",
         "VU",
         "Sin datos",
         "VU",
         "Sin Variaciones",
         "VU",
         "4450.05",
         "2594.0",
         "156.01",
         "2146.42",
         "0.0",
         "247.22",
         "135.56",
         "0.0",
         "9729.26",
         "Vulnerable",
         "Vulnerable"
        ],
        [
         "103",
         "39144",
         "Yelkouan Shearwater",
         "Puffinus yelkouan",
         "2007",
         "62",
         "03/03/2007",
         "2007-03-03",
         "3",
         "Marzo",
         "6",
         "495",
         "Procel·lariformes",
         "Baldriga mediterrània",
         "Vulnerable",
         "13.6",
         "12.58",
         "1.02",
         "331.0",
         "700.0",
         "100.0",
         "6.0",
         "56.0",
         "10.0",
         "1203.0",
         "Pardela mediterránea",
         "NE",
         "Sin datos",
         "VU",
         "Desfavorable",
         "VU",
         "4450.05",
         "2594.0",
         "156.01",
         "2146.42",
         "0.0",
         "247.22",
         "135.56",
         "0.0",
         "9729.26",
         "Vulnerable",
         "No Evaluado"
        ],
        [
         "104",
         "39179",
         "Arctic Skua",
         "Stercorarius parasiticus",
         "2007",
         "97",
         "07/04/2007",
         "2007-04-07",
         "4",
         "Abril",
         "4",
         "192",
         "Charadriiformes",
         "Paràsit cuapunxegut",
         "Protected",
         "15.0",
         "13.34",
         "1.66",
         "331.0",
         "700.0",
         "100.0",
         "6.0",
         "56.0",
         "10.0",
         "1203.0",
         "Págalo parásito",
         "NE",
         "NE",
         "Sin datos",
         "No Evaluada",
         "NE",
         "4450.05",
         "2594.0",
         "156.01",
         "2146.42",
         "0.0",
         "247.22",
         "135.56",
         "0.0",
         "9729.26",
         "No Evaluado",
         "No Evaluado"
        ],
        [
         "105",
         "39179",
         "Balearic Shearwater",
         "Puffinus mauretanicus",
         "2007",
         "97",
         "07/04/2007",
         "2007-04-07",
         "4",
         "Abril",
         "6",
         "454",
         "Procel·lariformes",
         "Baldriga balear",
         "Critically Endangered",
         "15.0",
         "13.34",
         "1.66",
         "331.0",
         "700.0",
         "100.0",
         "6.0",
         "56.0",
         "10.0",
         "1203.0",
         "Pardela balear",
         "CR",
         "Sin datos",
         "CR",
         "Sin Variaciones",
         "CR",
         "4450.05",
         "2594.0",
         "156.01",
         "2146.42",
         "0.0",
         "247.22",
         "135.56",
         "0.0",
         "9729.26",
         "En Peligro Crítico",
         "En Peligro Crítico"
        ],
        [
         "106",
         "39179",
         "Balearic-/Yelkouan Shearwater",
         "Puffinus sp.",
         "2007",
         "97",
         "07/04/2007",
         "2007-04-07",
         "4",
         "Abril",
         "6",
         "4646",
         "Procel·lariformes",
         "Baldriga balear/mediterranea",
         "Critically Endangered/Protected",
         "15.0",
         "13.34",
         "1.66",
         "331.0",
         "700.0",
         "100.0",
         "6.0",
         "56.0",
         "10.0",
         "1203.0",
         "Pardela balear/mediterránea",
         "CR/EN",
         "Sin datos",
         "CR/VU",
         "Sin Variaciones/Desfavorable",
         "CR/VU",
         "4450.05",
         "2594.0",
         "156.01",
         "2146.42",
         "0.0",
         "247.22",
         "135.56",
         "0.0",
         "9729.26",
         "En Peligro Crítico/Vulnerable",
         "En Peligro Crítico/En Peligro"
        ],
        [
         "107",
         "39179",
         "Black-headed Gull",
         "Chroicocephalus ridibundus",
         "2007",
         "97",
         "07/04/2007",
         "2007-04-07",
         "4",
         "Abril",
         "1",
         "200",
         "Charadriiformes",
         "Gavina riallera",
         "No Evaluated",
         "15.0",
         "13.34",
         "1.66",
         "331.0",
         "700.0",
         "100.0",
         "6.0",
         "56.0",
         "10.0",
         "1203.0",
         "Gaviota reidora",
         "NE",
         "LC",
         "Sin datos",
         "Favorable",
         "LC",
         "4450.05",
         "2594.0",
         "156.01",
         "2146.42",
         "0.0",
         "247.22",
         "135.56",
         "0.0",
         "9729.26",
         "Preocupación Menor",
         "No Evaluado"
        ],
        [
         "108",
         "39179",
         "Cormorant",
         "Phalacrocorax carbo",
         "2007",
         "97",
         "07/04/2007",
         "2007-04-07",
         "4",
         "Abril",
         "3",
         "20",
         "Suliformes",
         "Corb marí gros",
         "No Evaluated",
         "15.0",
         "13.34",
         "1.66",
         "331.0",
         "700.0",
         "100.0",
         "6.0",
         "56.0",
         "10.0",
         "1203.0",
         "Cormorán grande",
         "NE",
         "LC",
         "LC",
         "Favorable",
         "LC",
         "4450.05",
         "2594.0",
         "156.01",
         "2146.42",
         "0.0",
         "247.22",
         "135.56",
         "0.0",
         "9729.26",
         "Preocupación Menor",
         "No Evaluado"
        ],
        [
         "109",
         "39179",
         "Gannet",
         "Morus bassanus",
         "2007",
         "97",
         "07/04/2007",
         "2007-04-07",
         "4",
         "Abril",
         "14",
         "19",
         "Suliformes",
         "Mascarell",
         "Protected",
         "15.0",
         "13.34",
         "1.66",
         "331.0",
         "700.0",
         "100.0",
         "6.0",
         "56.0",
         "10.0",
         "1203.0",
         "Alcatraz atlántico",
         "NE",
         "LC",
         "Sin datos",
         "Favorable",
         "LC",
         "4450.05",
         "2594.0",
         "156.01",
         "2146.42",
         "0.0",
         "247.22",
         "135.56",
         "0.0",
         "9729.26",
         "Preocupación Menor",
         "No Evaluado"
        ],
        [
         "110",
         "39179",
         "Great Skua",
         "Stercorarius skua",
         "2007",
         "97",
         "07/04/2007",
         "2007-04-07",
         "4",
         "Abril",
         "1",
         "194",
         "Charadriiformes",
         "Paràsit gros",
         "Protected",
         "15.0",
         "13.34",
         "1.66",
         "331.0",
         "700.0",
         "100.0",
         "6.0",
         "56.0",
         "10.0",
         "1203.0",
         "Págalo grande",
         "NE",
         "NE",
         "Sin datos",
         "No Evaluada",
         "NE",
         "4450.05",
         "2594.0",
         "156.01",
         "2146.42",
         "0.0",
         "247.22",
         "135.56",
         "0.0",
         "9729.26",
         "No Evaluado",
         "No Evaluado"
        ],
        [
         "111",
         "39179",
         "Mediterranean Gull",
         "Larus melanocephalus",
         "2007",
         "97",
         "07/04/2007",
         "2007-04-07",
         "4",
         "Abril",
         "5",
         "196",
         "Charadriiformes",
         "Gavina capnegra",
         "Protected",
         "15.0",
         "13.34",
         "1.66",
         "331.0",
         "700.0",
         "100.0",
         "6.0",
         "56.0",
         "10.0",
         "1203.0",
         "Gaviota cabecinegra",
         "NE",
         "NT",
         "Sin datos",
         "Desfavorable",
         "NT",
         "4450.05",
         "2594.0",
         "156.01",
         "2146.42",
         "0.0",
         "247.22",
         "135.56",
         "0.0",
         "9729.26",
         "Casi Amenazado",
         "No Evaluado"
        ],
        [
         "112",
         "39179",
         "Puffin",
         "Fratercula arctica",
         "2007",
         "97",
         "07/04/2007",
         "2007-04-07",
         "4",
         "Abril",
         "2",
         "229",
         "Charadriiformes",
         "Fraret",
         "Protected",
         "15.0",
         "13.34",
         "1.66",
         "331.0",
         "700.0",
         "100.0",
         "6.0",
         "56.0",
         "10.0",
         "1203.0",
         "Frailecillo atlántico",
         "NE",
         "Sin datos",
         "DD",
         "Datos Insuficientes",
         "DD",
         "4450.05",
         "2594.0",
         "156.01",
         "2146.42",
         "0.0",
         "247.22",
         "135.56",
         "0.0",
         "9729.26",
         "Datos Insuficientes",
         "No Evaluado"
        ],
        [
         "113",
         "39179",
         "Razorbill",
         "Alca torda",
         "2007",
         "97",
         "07/04/2007",
         "2007-04-07",
         "4",
         "Abril",
         "4",
         "226",
         "Charadriiformes",
         "Gavot",
         "Vulnerable",
         "15.0",
         "13.34",
         "1.66",
         "331.0",
         "700.0",
         "100.0",
         "6.0",
         "56.0",
         "10.0",
         "1203.0",
         "Alca común",
         "NE",
         "DD",
         "Sin datos",
         "Datos Insuficientes",
         "DD",
         "4450.05",
         "2594.0",
         "156.01",
         "2146.42",
         "0.0",
         "247.22",
         "135.56",
         "0.0",
         "9729.26",
         "Datos Insuficientes",
         "No Evaluado"
        ],
        [
         "114",
         "39179",
         "Sandwich Tern",
         "Thalasseus sandvicensis",
         "2007",
         "97",
         "07/04/2007",
         "2007-04-07",
         "4",
         "Abril",
         "5",
         "215",
         "Charadriiformes",
         "Xatrac becllarg",
         "Vulnerable",
         "15.0",
         "13.34",
         "1.66",
         "331.0",
         "700.0",
         "100.0",
         "6.0",
         "56.0",
         "10.0",
         "1203.0",
         "Charrán patinegro",
         "NT",
         "Sin datos",
         "VU",
         "Desfavorable",
         "VU",
         "4450.05",
         "2594.0",
         "156.01",
         "2146.42",
         "0.0",
         "247.22",
         "135.56",
         "0.0",
         "9729.26",
         "Vulnerable",
         "Casi Amenazado"
        ],
        [
         "115",
         "39179",
         "Shag",
         "Phalacrocorax aristotelis",
         "2007",
         "97",
         "07/04/2007",
         "2007-04-07",
         "4",
         "Abril",
         "2",
         "21",
         "Suliformes",
         "Corbmarí emplomallat mediterrani",
         "Vulnerable",
         "15.0",
         "13.34",
         "1.66",
         "331.0",
         "700.0",
         "100.0",
         "6.0",
         "56.0",
         "10.0",
         "1203.0",
         "Cormorán moñudo",
         "VU",
         "Sin datos",
         "VU",
         "Sin Variaciones",
         "VU",
         "4450.05",
         "2594.0",
         "156.01",
         "2146.42",
         "0.0",
         "247.22",
         "135.56",
         "0.0",
         "9729.26",
         "Vulnerable",
         "Vulnerable"
        ],
        [
         "116",
         "39179",
         "Yelkouan Shearwater",
         "Puffinus yelkouan",
         "2007",
         "97",
         "07/04/2007",
         "2007-04-07",
         "4",
         "Abril",
         "4",
         "495",
         "Procel·lariformes",
         "Baldriga mediterrània",
         "Vulnerable",
         "15.0",
         "13.34",
         "1.66",
         "331.0",
         "700.0",
         "100.0",
         "6.0",
         "56.0",
         "10.0",
         "1203.0",
         "Pardela mediterránea",
         "NE",
         "Sin datos",
         "VU",
         "Desfavorable",
         "VU",
         "4450.05",
         "2594.0",
         "156.01",
         "2146.42",
         "0.0",
         "247.22",
         "135.56",
         "0.0",
         "9729.26",
         "Vulnerable",
         "No Evaluado"
        ],
        [
         "117",
         "39207",
         "Arctic Skua",
         "Stercorarius parasiticus",
         "2007",
         "125",
         "05/05/2007",
         "2007-05-05",
         "5",
         "Mayo",
         "1",
         "192",
         "Charadriiformes",
         "Paràsit cuapunxegut",
         "Protected",
         "17.4",
         "15.54",
         "1.86",
         "331.0",
         "700.0",
         "100.0",
         "6.0",
         "56.0",
         "10.0",
         "1203.0",
         "Págalo parásito",
         "NE",
         "NE",
         "Sin datos",
         "No Evaluada",
         "NE",
         "4450.05",
         "2594.0",
         "156.01",
         "2146.42",
         "0.0",
         "247.22",
         "135.56",
         "0.0",
         "9729.26",
         "No Evaluado",
         "No Evaluado"
        ],
        [
         "118",
         "39207",
         "Audouin's Gull",
         "Larus audouinii",
         "2007",
         "125",
         "05/05/2007",
         "2007-05-05",
         "5",
         "Mayo",
         "1",
         "677",
         "Charadriiformes",
         "Gavina corsa",
         "Critically Endangered",
         "17.4",
         "15.54",
         "1.86",
         "331.0",
         "700.0",
         "100.0",
         "6.0",
         "56.0",
         "10.0",
         "1203.0",
         "Gaviota de Audouin",
         "VU",
         "Sin datos",
         "VU",
         "Sin Variaciones",
         "VU",
         "4450.05",
         "2594.0",
         "156.01",
         "2146.42",
         "0.0",
         "247.22",
         "135.56",
         "0.0",
         "9729.26",
         "Vulnerable",
         "Vulnerable"
        ],
        [
         "119",
         "39207",
         "Balearic Shearwater",
         "Puffinus mauretanicus",
         "2007",
         "125",
         "05/05/2007",
         "2007-05-05",
         "5",
         "Mayo",
         "15",
         "454",
         "Procel·lariformes",
         "Baldriga balear",
         "Critically Endangered",
         "17.4",
         "15.54",
         "1.86",
         "331.0",
         "700.0",
         "100.0",
         "6.0",
         "56.0",
         "10.0",
         "1203.0",
         "Pardela balear",
         "CR",
         "Sin datos",
         "CR",
         "Sin Variaciones",
         "CR",
         "4450.05",
         "2594.0",
         "156.01",
         "2146.42",
         "0.0",
         "247.22",
         "135.56",
         "0.0",
         "9729.26",
         "En Peligro Crítico",
         "En Peligro Crítico"
        ],
        [
         "120",
         "39207",
         "Balearic-/Yelkouan Shearwater",
         "Puffinus sp.",
         "2007",
         "125",
         "05/05/2007",
         "2007-05-05",
         "5",
         "Mayo",
         "15",
         "4646",
         "Procel·lariformes",
         "Baldriga balear/mediterranea",
         "Critically Endangered/Protected",
         "17.4",
         "15.54",
         "1.86",
         "331.0",
         "700.0",
         "100.0",
         "6.0",
         "56.0",
         "10.0",
         "1203.0",
         "Pardela balear/mediterránea",
         "CR/EN",
         "Sin datos",
         "CR/VU",
         "Sin Variaciones/Desfavorable",
         "CR/VU",
         "4450.05",
         "2594.0",
         "156.01",
         "2146.42",
         "0.0",
         "247.22",
         "135.56",
         "0.0",
         "9729.26",
         "En Peligro Crítico/Vulnerable",
         "En Peligro Crítico/En Peligro"
        ],
        [
         "121",
         "39207",
         "Common Tern",
         "Sterna hirundo",
         "2007",
         "125",
         "05/05/2007",
         "2007-05-05",
         "5",
         "Mayo",
         "3",
         "217",
         "Charadriiformes",
         "Xatrac comú",
         "Vulnerable",
         "17.4",
         "15.54",
         "1.86",
         "331.0",
         "700.0",
         "100.0",
         "6.0",
         "56.0",
         "10.0",
         "1203.0",
         "Charrán común",
         "NT",
         "Sin datos",
         "NT",
         "Sin Variaciones",
         "NT",
         "4450.05",
         "2594.0",
         "156.01",
         "2146.42",
         "0.0",
         "247.22",
         "135.56",
         "0.0",
         "9729.26",
         "Casi Amenazado",
         "Casi Amenazado"
        ],
        [
         "122",
         "39207",
         "Gannet",
         "Morus bassanus",
         "2007",
         "125",
         "05/05/2007",
         "2007-05-05",
         "5",
         "Mayo",
         "15",
         "19",
         "Suliformes",
         "Mascarell",
         "Protected",
         "17.4",
         "15.54",
         "1.86",
         "331.0",
         "700.0",
         "100.0",
         "6.0",
         "56.0",
         "10.0",
         "1203.0",
         "Alcatraz atlántico",
         "NE",
         "LC",
         "Sin datos",
         "Favorable",
         "LC",
         "4450.05",
         "2594.0",
         "156.01",
         "2146.42",
         "0.0",
         "247.22",
         "135.56",
         "0.0",
         "9729.26",
         "Preocupación Menor",
         "No Evaluado"
        ],
        [
         "123",
         "39207",
         "Mediterranean Gull",
         "Larus melanocephalus",
         "2007",
         "125",
         "05/05/2007",
         "2007-05-05",
         "5",
         "Mayo",
         "1",
         "196",
         "Charadriiformes",
         "Gavina capnegra",
         "Protected",
         "17.4",
         "15.54",
         "1.86",
         "331.0",
         "700.0",
         "100.0",
         "6.0",
         "56.0",
         "10.0",
         "1203.0",
         "Gaviota cabecinegra",
         "NE",
         "NT",
         "Sin datos",
         "Desfavorable",
         "NT",
         "4450.05",
         "2594.0",
         "156.01",
         "2146.42",
         "0.0",
         "247.22",
         "135.56",
         "0.0",
         "9729.26",
         "Casi Amenazado",
         "No Evaluado"
        ],
        [
         "124",
         "39207",
         "Sandwich Tern",
         "Thalasseus sandvicensis",
         "2007",
         "125",
         "05/05/2007",
         "2007-05-05",
         "5",
         "Mayo",
         "5",
         "215",
         "Charadriiformes",
         "Xatrac becllarg",
         "Vulnerable",
         "17.4",
         "15.54",
         "1.86",
         "331.0",
         "700.0",
         "100.0",
         "6.0",
         "56.0",
         "10.0",
         "1203.0",
         "Charrán patinegro",
         "NT",
         "Sin datos",
         "VU",
         "Desfavorable",
         "VU",
         "4450.05",
         "2594.0",
         "156.01",
         "2146.42",
         "0.0",
         "247.22",
         "135.56",
         "0.0",
         "9729.26",
         "Vulnerable",
         "Casi Amenazado"
        ]
       ],
       "shape": {
        "columns": 41,
        "rows": 1855
       }
      },
      "text/html": [
       "<div>\n",
       "<style scoped>\n",
       "    .dataframe tbody tr th:only-of-type {\n",
       "        vertical-align: middle;\n",
       "    }\n",
       "\n",
       "    .dataframe tbody tr th {\n",
       "        vertical-align: top;\n",
       "    }\n",
       "\n",
       "    .dataframe thead th {\n",
       "        text-align: right;\n",
       "    }\n",
       "</style>\n",
       "<table border=\"1\" class=\"dataframe\">\n",
       "  <thead>\n",
       "    <tr style=\"text-align: right;\">\n",
       "      <th></th>\n",
       "      <th>date</th>\n",
       "      <th>speciesname</th>\n",
       "      <th>Scientific name</th>\n",
       "      <th>year</th>\n",
       "      <th>yday</th>\n",
       "      <th>fecha</th>\n",
       "      <th>fecha_formateada</th>\n",
       "      <th>month</th>\n",
       "      <th>nombre_mes</th>\n",
       "      <th>count_aves</th>\n",
       "      <th>...</th>\n",
       "      <th>MPA with a national statute</th>\n",
       "      <th>Marine Natura 2000 proposed site</th>\n",
       "      <th>Marine Natura 2000 site</th>\n",
       "      <th>Ramsar site</th>\n",
       "      <th>SPAMI</th>\n",
       "      <th>World heritage site</th>\n",
       "      <th>calculo</th>\n",
       "      <th>Total_MPAs</th>\n",
       "      <th>Nombre_cetegoria_2021</th>\n",
       "      <th>Nombre_categoria_2004</th>\n",
       "    </tr>\n",
       "  </thead>\n",
       "  <tbody>\n",
       "    <tr>\n",
       "      <th>75</th>\n",
       "      <td>39102</td>\n",
       "      <td>Balearic Shearwater</td>\n",
       "      <td>Puffinus mauretanicus</td>\n",
       "      <td>2007</td>\n",
       "      <td>20</td>\n",
       "      <td>20/01/2007</td>\n",
       "      <td>2007-01-20</td>\n",
       "      <td>1</td>\n",
       "      <td>Enero</td>\n",
       "      <td>9</td>\n",
       "      <td>...</td>\n",
       "      <td>2594.00</td>\n",
       "      <td>156.01</td>\n",
       "      <td>2146.42</td>\n",
       "      <td>0.0</td>\n",
       "      <td>247.22</td>\n",
       "      <td>135.56</td>\n",
       "      <td>0.0</td>\n",
       "      <td>9729.26</td>\n",
       "      <td>En Peligro Crítico</td>\n",
       "      <td>En Peligro Crítico</td>\n",
       "    </tr>\n",
       "    <tr>\n",
       "      <th>76</th>\n",
       "      <td>39102</td>\n",
       "      <td>Balearic-/Yelkouan Shearwater</td>\n",
       "      <td>Puffinus sp.</td>\n",
       "      <td>2007</td>\n",
       "      <td>20</td>\n",
       "      <td>20/01/2007</td>\n",
       "      <td>2007-01-20</td>\n",
       "      <td>1</td>\n",
       "      <td>Enero</td>\n",
       "      <td>4</td>\n",
       "      <td>...</td>\n",
       "      <td>2594.00</td>\n",
       "      <td>156.01</td>\n",
       "      <td>2146.42</td>\n",
       "      <td>0.0</td>\n",
       "      <td>247.22</td>\n",
       "      <td>135.56</td>\n",
       "      <td>0.0</td>\n",
       "      <td>9729.26</td>\n",
       "      <td>En Peligro Crítico/Vulnerable</td>\n",
       "      <td>En Peligro Crítico/En Peligro</td>\n",
       "    </tr>\n",
       "    <tr>\n",
       "      <th>77</th>\n",
       "      <td>39102</td>\n",
       "      <td>Black-headed Gull</td>\n",
       "      <td>Chroicocephalus ridibundus</td>\n",
       "      <td>2007</td>\n",
       "      <td>20</td>\n",
       "      <td>20/01/2007</td>\n",
       "      <td>2007-01-20</td>\n",
       "      <td>1</td>\n",
       "      <td>Enero</td>\n",
       "      <td>5</td>\n",
       "      <td>...</td>\n",
       "      <td>2594.00</td>\n",
       "      <td>156.01</td>\n",
       "      <td>2146.42</td>\n",
       "      <td>0.0</td>\n",
       "      <td>247.22</td>\n",
       "      <td>135.56</td>\n",
       "      <td>0.0</td>\n",
       "      <td>9729.26</td>\n",
       "      <td>Preocupación Menor</td>\n",
       "      <td>No Evaluado</td>\n",
       "    </tr>\n",
       "    <tr>\n",
       "      <th>78</th>\n",
       "      <td>39102</td>\n",
       "      <td>Cormorant</td>\n",
       "      <td>Phalacrocorax carbo</td>\n",
       "      <td>2007</td>\n",
       "      <td>20</td>\n",
       "      <td>20/01/2007</td>\n",
       "      <td>2007-01-20</td>\n",
       "      <td>1</td>\n",
       "      <td>Enero</td>\n",
       "      <td>12</td>\n",
       "      <td>...</td>\n",
       "      <td>2594.00</td>\n",
       "      <td>156.01</td>\n",
       "      <td>2146.42</td>\n",
       "      <td>0.0</td>\n",
       "      <td>247.22</td>\n",
       "      <td>135.56</td>\n",
       "      <td>0.0</td>\n",
       "      <td>9729.26</td>\n",
       "      <td>Preocupación Menor</td>\n",
       "      <td>No Evaluado</td>\n",
       "    </tr>\n",
       "    <tr>\n",
       "      <th>79</th>\n",
       "      <td>39102</td>\n",
       "      <td>Gannet</td>\n",
       "      <td>Morus bassanus</td>\n",
       "      <td>2007</td>\n",
       "      <td>20</td>\n",
       "      <td>20/01/2007</td>\n",
       "      <td>2007-01-20</td>\n",
       "      <td>1</td>\n",
       "      <td>Enero</td>\n",
       "      <td>13</td>\n",
       "      <td>...</td>\n",
       "      <td>2594.00</td>\n",
       "      <td>156.01</td>\n",
       "      <td>2146.42</td>\n",
       "      <td>0.0</td>\n",
       "      <td>247.22</td>\n",
       "      <td>135.56</td>\n",
       "      <td>0.0</td>\n",
       "      <td>9729.26</td>\n",
       "      <td>Preocupación Menor</td>\n",
       "      <td>No Evaluado</td>\n",
       "    </tr>\n",
       "    <tr>\n",
       "      <th>...</th>\n",
       "      <td>...</td>\n",
       "      <td>...</td>\n",
       "      <td>...</td>\n",
       "      <td>...</td>\n",
       "      <td>...</td>\n",
       "      <td>...</td>\n",
       "      <td>...</td>\n",
       "      <td>...</td>\n",
       "      <td>...</td>\n",
       "      <td>...</td>\n",
       "      <td>...</td>\n",
       "      <td>...</td>\n",
       "      <td>...</td>\n",
       "      <td>...</td>\n",
       "      <td>...</td>\n",
       "      <td>...</td>\n",
       "      <td>...</td>\n",
       "      <td>...</td>\n",
       "      <td>...</td>\n",
       "      <td>...</td>\n",
       "      <td>...</td>\n",
       "    </tr>\n",
       "    <tr>\n",
       "      <th>1925</th>\n",
       "      <td>45262</td>\n",
       "      <td>Razorbill</td>\n",
       "      <td>Alca torda</td>\n",
       "      <td>2023</td>\n",
       "      <td>336</td>\n",
       "      <td>02/12/2023</td>\n",
       "      <td>2023-12-02</td>\n",
       "      <td>12</td>\n",
       "      <td>Diciembre</td>\n",
       "      <td>12</td>\n",
       "      <td>...</td>\n",
       "      <td>49295.58</td>\n",
       "      <td>4459.98</td>\n",
       "      <td>20091.67</td>\n",
       "      <td>0.0</td>\n",
       "      <td>247.22</td>\n",
       "      <td>135.56</td>\n",
       "      <td>0.0</td>\n",
       "      <td>79481.71</td>\n",
       "      <td>Datos Insuficientes</td>\n",
       "      <td>No Evaluado</td>\n",
       "    </tr>\n",
       "    <tr>\n",
       "      <th>1926</th>\n",
       "      <td>45262</td>\n",
       "      <td>Sandwich Tern</td>\n",
       "      <td>Thalasseus sandvicensis</td>\n",
       "      <td>2023</td>\n",
       "      <td>336</td>\n",
       "      <td>02/12/2023</td>\n",
       "      <td>2023-12-02</td>\n",
       "      <td>12</td>\n",
       "      <td>Diciembre</td>\n",
       "      <td>1</td>\n",
       "      <td>...</td>\n",
       "      <td>49295.58</td>\n",
       "      <td>4459.98</td>\n",
       "      <td>20091.67</td>\n",
       "      <td>0.0</td>\n",
       "      <td>247.22</td>\n",
       "      <td>135.56</td>\n",
       "      <td>0.0</td>\n",
       "      <td>79481.71</td>\n",
       "      <td>Vulnerable</td>\n",
       "      <td>Casi Amenazado</td>\n",
       "    </tr>\n",
       "    <tr>\n",
       "      <th>1927</th>\n",
       "      <td>45262</td>\n",
       "      <td>Shag</td>\n",
       "      <td>Phalacrocorax aristotelis</td>\n",
       "      <td>2023</td>\n",
       "      <td>336</td>\n",
       "      <td>02/12/2023</td>\n",
       "      <td>2023-12-02</td>\n",
       "      <td>12</td>\n",
       "      <td>Diciembre</td>\n",
       "      <td>9</td>\n",
       "      <td>...</td>\n",
       "      <td>49295.58</td>\n",
       "      <td>4459.98</td>\n",
       "      <td>20091.67</td>\n",
       "      <td>0.0</td>\n",
       "      <td>247.22</td>\n",
       "      <td>135.56</td>\n",
       "      <td>0.0</td>\n",
       "      <td>79481.71</td>\n",
       "      <td>Vulnerable</td>\n",
       "      <td>Vulnerable</td>\n",
       "    </tr>\n",
       "    <tr>\n",
       "      <th>1928</th>\n",
       "      <td>45262</td>\n",
       "      <td>Yelkouan Shearwater</td>\n",
       "      <td>Puffinus yelkouan</td>\n",
       "      <td>2023</td>\n",
       "      <td>336</td>\n",
       "      <td>02/12/2023</td>\n",
       "      <td>2023-12-02</td>\n",
       "      <td>12</td>\n",
       "      <td>Diciembre</td>\n",
       "      <td>58</td>\n",
       "      <td>...</td>\n",
       "      <td>49295.58</td>\n",
       "      <td>4459.98</td>\n",
       "      <td>20091.67</td>\n",
       "      <td>0.0</td>\n",
       "      <td>247.22</td>\n",
       "      <td>135.56</td>\n",
       "      <td>0.0</td>\n",
       "      <td>79481.71</td>\n",
       "      <td>Vulnerable</td>\n",
       "      <td>No Evaluado</td>\n",
       "    </tr>\n",
       "    <tr>\n",
       "      <th>1929</th>\n",
       "      <td>45262</td>\n",
       "      <td>Yellow-legged Gull</td>\n",
       "      <td>Larus michahellis</td>\n",
       "      <td>2023</td>\n",
       "      <td>336</td>\n",
       "      <td>02/12/2023</td>\n",
       "      <td>2023-12-02</td>\n",
       "      <td>12</td>\n",
       "      <td>Diciembre</td>\n",
       "      <td>1</td>\n",
       "      <td>...</td>\n",
       "      <td>49295.58</td>\n",
       "      <td>4459.98</td>\n",
       "      <td>20091.67</td>\n",
       "      <td>0.0</td>\n",
       "      <td>247.22</td>\n",
       "      <td>135.56</td>\n",
       "      <td>0.0</td>\n",
       "      <td>79481.71</td>\n",
       "      <td>Casi Amenazado</td>\n",
       "      <td>No Evaluado</td>\n",
       "    </tr>\n",
       "  </tbody>\n",
       "</table>\n",
       "<p>1855 rows × 41 columns</p>\n",
       "</div>"
      ],
      "text/plain": [
       "       date                    speciesname             Scientific name  year  \\\n",
       "75    39102            Balearic Shearwater       Puffinus mauretanicus  2007   \n",
       "76    39102  Balearic-/Yelkouan Shearwater                Puffinus sp.  2007   \n",
       "77    39102              Black-headed Gull  Chroicocephalus ridibundus  2007   \n",
       "78    39102                      Cormorant         Phalacrocorax carbo  2007   \n",
       "79    39102                         Gannet              Morus bassanus  2007   \n",
       "...     ...                            ...                         ...   ...   \n",
       "1925  45262                      Razorbill                  Alca torda  2023   \n",
       "1926  45262                  Sandwich Tern     Thalasseus sandvicensis  2023   \n",
       "1927  45262                           Shag   Phalacrocorax aristotelis  2023   \n",
       "1928  45262            Yelkouan Shearwater           Puffinus yelkouan  2023   \n",
       "1929  45262             Yellow-legged Gull           Larus michahellis  2023   \n",
       "\n",
       "      yday       fecha fecha_formateada  month nombre_mes  count_aves  ...  \\\n",
       "75      20  20/01/2007       2007-01-20      1      Enero           9  ...   \n",
       "76      20  20/01/2007       2007-01-20      1      Enero           4  ...   \n",
       "77      20  20/01/2007       2007-01-20      1      Enero           5  ...   \n",
       "78      20  20/01/2007       2007-01-20      1      Enero          12  ...   \n",
       "79      20  20/01/2007       2007-01-20      1      Enero          13  ...   \n",
       "...    ...         ...              ...    ...        ...         ...  ...   \n",
       "1925   336  02/12/2023       2023-12-02     12  Diciembre          12  ...   \n",
       "1926   336  02/12/2023       2023-12-02     12  Diciembre           1  ...   \n",
       "1927   336  02/12/2023       2023-12-02     12  Diciembre           9  ...   \n",
       "1928   336  02/12/2023       2023-12-02     12  Diciembre          58  ...   \n",
       "1929   336  02/12/2023       2023-12-02     12  Diciembre           1  ...   \n",
       "\n",
       "      MPA with a national statute Marine Natura 2000 proposed site  \\\n",
       "75                        2594.00                           156.01   \n",
       "76                        2594.00                           156.01   \n",
       "77                        2594.00                           156.01   \n",
       "78                        2594.00                           156.01   \n",
       "79                        2594.00                           156.01   \n",
       "...                           ...                              ...   \n",
       "1925                     49295.58                          4459.98   \n",
       "1926                     49295.58                          4459.98   \n",
       "1927                     49295.58                          4459.98   \n",
       "1928                     49295.58                          4459.98   \n",
       "1929                     49295.58                          4459.98   \n",
       "\n",
       "     Marine Natura 2000 site Ramsar site   SPAMI  World heritage site  \\\n",
       "75                   2146.42         0.0  247.22               135.56   \n",
       "76                   2146.42         0.0  247.22               135.56   \n",
       "77                   2146.42         0.0  247.22               135.56   \n",
       "78                   2146.42         0.0  247.22               135.56   \n",
       "79                   2146.42         0.0  247.22               135.56   \n",
       "...                      ...         ...     ...                  ...   \n",
       "1925                20091.67         0.0  247.22               135.56   \n",
       "1926                20091.67         0.0  247.22               135.56   \n",
       "1927                20091.67         0.0  247.22               135.56   \n",
       "1928                20091.67         0.0  247.22               135.56   \n",
       "1929                20091.67         0.0  247.22               135.56   \n",
       "\n",
       "      calculo  Total_MPAs          Nombre_cetegoria_2021  \\\n",
       "75        0.0     9729.26             En Peligro Crítico   \n",
       "76        0.0     9729.26  En Peligro Crítico/Vulnerable   \n",
       "77        0.0     9729.26             Preocupación Menor   \n",
       "78        0.0     9729.26             Preocupación Menor   \n",
       "79        0.0     9729.26             Preocupación Menor   \n",
       "...       ...         ...                            ...   \n",
       "1925      0.0    79481.71            Datos Insuficientes   \n",
       "1926      0.0    79481.71                     Vulnerable   \n",
       "1927      0.0    79481.71                     Vulnerable   \n",
       "1928      0.0    79481.71                     Vulnerable   \n",
       "1929      0.0    79481.71                 Casi Amenazado   \n",
       "\n",
       "              Nombre_categoria_2004  \n",
       "75               En Peligro Crítico  \n",
       "76    En Peligro Crítico/En Peligro  \n",
       "77                      No Evaluado  \n",
       "78                      No Evaluado  \n",
       "79                      No Evaluado  \n",
       "...                             ...  \n",
       "1925                    No Evaluado  \n",
       "1926                 Casi Amenazado  \n",
       "1927                     Vulnerable  \n",
       "1928                    No Evaluado  \n",
       "1929                    No Evaluado  \n",
       "\n",
       "[1855 rows x 41 columns]"
      ]
     },
     "execution_count": 227,
     "metadata": {},
     "output_type": "execute_result"
    }
   ],
   "source": [
    "# Importar mi DataFrame\n",
    "censo = pd.read_csv(r'C:/Users/monic/OneDrive/Desktop/It Academmy - Data Analysis/Projecte/Python archibos buenos/tabla_madre.csv', delimiter=',', quotechar='\"')\n",
    "\n",
    "# Reemplazo de ciertos valores por unos más correctos\n",
    "censo['LR2021 Repro'] = censo['LR2021 Repro'].replace('VU(EN/VU)', 'VU')\n",
    "censo['Estatus Consolidado'] = censo['Estatus Consolidado'].replace('VU(EN/VU)', 'VU')\n",
    "censo['LR2004'] = censo['LR2004'].replace('EN/VU', 'VU')\n",
    "\n",
    "# Cambio a variable númerica\n",
    "censo['Average SST month'] = pd.to_numeric(censo['Average SST month'], errors='coerce')\n",
    "censo['SST change'] = pd.to_numeric(censo['SST change'], errors='coerce')\n",
    "\n",
    "# Cálculo del área total Marina Protegida en el mar Balear\n",
    "censo['Total_MPAs'] = censo['World heritage site'] + censo['SPAMI'] + censo['Marine Natura 2000 site'] + censo['Marine Natura 2000 proposed site'] + censo['MPA with a national statute'] + censo['Biosphere reserve']\n",
    "\n",
    "# Pongo el nombre de la categoría en columnas \n",
    "categorias_esp = {\n",
    "    'LC': 'Preocupación Menor',\n",
    "    'EN': 'En Peligro',\n",
    "    'VU': 'Vulnerable',\n",
    "    'NT': 'Casi Amenazado',\n",
    "    'NE': 'No Evaluado',\n",
    "    'DD': 'Datos Insuficientes',\n",
    "    'CR/EN': 'En Peligro Crítico/En Peligro',\n",
    "    'CR/VU': 'En Peligro Crítico/Vulnerable',\n",
    "    'CR': 'En Peligro Crítico',\n",
    "}\n",
    "censo['Nombre_cetegoria_2021'] = censo['Estatus Consolidado'].map(categorias_esp)\n",
    "censo['Nombre_categoria_2004']=censo['LR2004'].map(categorias_esp)\n",
    "\n",
    "# Selecciono solo los datos de caen dentro de los años 2007 a 2024\n",
    "censo = censo[censo['year'].isin(list(range(2007,2024)))]\n",
    "\n",
    "censo"
   ]
  },
  {
   "cell_type": "markdown",
   "id": "67c607fc",
   "metadata": {},
   "source": [
    "# Visulizaciones"
   ]
  },
  {
   "cell_type": "code",
   "execution_count": 228,
   "id": "3c0e7879",
   "metadata": {},
   "outputs": [],
   "source": [
    "# Selecciono los meses de verano e invierno\n",
    "invierno = list(range(1, 3)) + list(range(9, 13))\n",
    "verano = list(range(3, 9))\n",
    "\n",
    "# Seleccion de los individuos invernantes\n",
    "invernantes = censo[censo['month'].isin(invierno)]\n",
    "invernantes_count= invernantes.groupby(['Ordre', 'Scientific name', 'NOMBRE COMÚN', 'Catalan name'])['count_aves'].sum().reset_index()\n",
    "\n",
    "# Selección de los individuos estivales\n",
    "estivales = censo[censo['month'].isin(verano)]\n",
    "estivales_count= estivales.groupby(['Ordre', 'Scientific name', 'NOMBRE COMÚN', 'Catalan name'])['count_aves'].sum().reset_index()"
   ]
  },
  {
   "cell_type": "markdown",
   "id": "9d8a074b",
   "metadata": {},
   "source": [
    "## Ivernantes"
   ]
  },
  {
   "cell_type": "code",
   "execution_count": 229,
   "id": "92f26f0c",
   "metadata": {},
   "outputs": [
    {
     "data": {
      "application/vnd.plotly.v1+json": {
       "config": {
        "plotlyServerURL": "https://plot.ly"
       },
       "data": [
        {
         "branchvalues": "total",
         "customdata": [
          [
           "Alca común",
           "Gavot",
           "Charadriiformes",
           "Alca torda",
           171
          ],
          [
           "Gaviota reidora",
           "Gavina riallera",
           "Charadriiformes",
           "Chroicocephalus ridibundus",
           308
          ],
          [
           "Frailecillo atlántico",
           "Fraret",
           "Charadriiformes",
           "Fratercula arctica",
           7
          ],
          [
           "Gaviota enana",
           "Gavina menuda",
           "Charadriiformes",
           "Hydrocoloeus minutus",
           1
          ],
          [
           "Gaviota de Audouin",
           "Gavina corsa",
           "Charadriiformes",
           "Larus audouinii",
           3
          ],
          [
           "Gaviota sombría",
           "Gavià fosc",
           "Charadriiformes",
           "Larus fuscus",
           11
          ],
          [
           "Gaviota cabecinegra",
           "Gavina capnegra",
           "Charadriiformes",
           "Larus melanocephalus",
           142
          ],
          [
           "Gaviota patiamarilla",
           "Gavià argentat",
           "Charadriiformes",
           "Larus michahellis",
           119
          ],
          [
           "Gaviota tridáctila",
           "Gavineta de tres dits",
           "Charadriiformes",
           "Rissa tridactyla",
           104
          ],
          [
           "Págalo parásito",
           "Paràsit cuapunxegut",
           "Charadriiformes",
           "Stercorarius parasiticus",
           7
          ],
          [
           "Págalo grande",
           "Paràsit gros",
           "Charadriiformes",
           "Stercorarius skua",
           48
          ],
          [
           "Charrán común",
           "Xatrac comú",
           "Charadriiformes",
           "Sterna hirundo",
           3
          ],
          [
           "Charrán patinegro",
           "Xatrac becllarg",
           "Charadriiformes",
           "Thalasseus sandvicensis",
           348
          ],
          [
           "Pardela cenicienta mediterránea",
           "Baldriga cendrosa mediterrània",
           "Procel·lariformes",
           "Calonectris diomedea",
           182
          ],
          [
           "Paíño europeo",
           "Ocell de tempesta",
           "Procel·lariformes",
           "Hydrobates pelagicus",
           7
          ],
          [
           "Pardela balear",
           "Baldriga balear",
           "Procel·lariformes",
           "Puffinus mauretanicus",
           412
          ],
          [
           "Pardela balear/mediterránea",
           "Baldriga balear/mediterranea",
           "Procel·lariformes",
           "Puffinus sp.",
           164
          ],
          [
           "Pardela mediterránea",
           "Baldriga mediterrània",
           "Procel·lariformes",
           "Puffinus yelkouan",
           567
          ],
          [
           "Alcatraz atlántico",
           "Mascarell",
           "Suliformes",
           "Morus bassanus",
           653
          ],
          [
           "Cormorán moñudo",
           "Corbmarí emplomallat mediterrani",
           "Suliformes",
           "Phalacrocorax aristotelis",
           309
          ],
          [
           "Cormorán grande",
           "Corb marí gros",
           "Suliformes",
           "Phalacrocorax carbo",
           244
          ],
          [
           "(?)",
           "(?)",
           "Charadriiformes",
           "(?)",
           1272
          ],
          [
           "(?)",
           "(?)",
           "Procel·lariformes",
           "(?)",
           1332
          ],
          [
           "(?)",
           "(?)",
           "Suliformes",
           "(?)",
           1206
          ]
         ],
         "domain": {
          "x": [
           0,
           1
          ],
          "y": [
           0,
           1
          ]
         },
         "hovertemplate": "<b>Orden:</b> %{customdata[2]}<br><b>Especie:</b> %{label}<br><b>Nombre Catalán:</b> %{customdata[1]}<br><b>Nombre Científico:</b> %{customdata[3]}<br><b>Observaciones:</b> %{value}<extra></extra>",
         "hovertext": [
          "Alca común",
          "Gaviota reidora",
          "Frailecillo atlántico",
          "Gaviota enana",
          "Gaviota de Audouin",
          "Gaviota sombría",
          "Gaviota cabecinegra",
          "Gaviota patiamarilla",
          "Gaviota tridáctila",
          "Págalo parásito",
          "Págalo grande",
          "Charrán común",
          "Charrán patinegro",
          "Pardela cenicienta mediterránea",
          "Paíño europeo",
          "Pardela balear",
          "Pardela balear/mediterránea",
          "Pardela mediterránea",
          "Alcatraz atlántico",
          "Cormorán moñudo",
          "Cormorán grande",
          "(?)",
          "(?)",
          "(?)"
         ],
         "ids": [
          "Charadriiformes/Alca común",
          "Charadriiformes/Gaviota reidora",
          "Charadriiformes/Frailecillo atlántico",
          "Charadriiformes/Gaviota enana",
          "Charadriiformes/Gaviota de Audouin",
          "Charadriiformes/Gaviota sombría",
          "Charadriiformes/Gaviota cabecinegra",
          "Charadriiformes/Gaviota patiamarilla",
          "Charadriiformes/Gaviota tridáctila",
          "Charadriiformes/Págalo parásito",
          "Charadriiformes/Págalo grande",
          "Charadriiformes/Charrán común",
          "Charadriiformes/Charrán patinegro",
          "Procel·lariformes/Pardela cenicienta mediterránea",
          "Procel·lariformes/Paíño europeo",
          "Procel·lariformes/Pardela balear",
          "Procel·lariformes/Pardela balear/mediterránea",
          "Procel·lariformes/Pardela mediterránea",
          "Suliformes/Alcatraz atlántico",
          "Suliformes/Cormorán moñudo",
          "Suliformes/Cormorán grande",
          "Charadriiformes",
          "Procel·lariformes",
          "Suliformes"
         ],
         "insidetextfont": {
          "color": "black",
          "family": "Arial",
          "size": 14,
          "weight": "bold"
         },
         "insidetextorientation": "radial",
         "labels": [
          "Alca común",
          "Gaviota reidora",
          "Frailecillo atlántico",
          "Gaviota enana",
          "Gaviota de Audouin",
          "Gaviota sombría",
          "Gaviota cabecinegra",
          "Gaviota patiamarilla",
          "Gaviota tridáctila",
          "Págalo parásito",
          "Págalo grande",
          "Charrán común",
          "Charrán patinegro",
          "Pardela cenicienta mediterránea",
          "Paíño europeo",
          "Pardela balear",
          "Pardela balear/mediterránea",
          "Pardela mediterránea",
          "Alcatraz atlántico",
          "Cormorán moñudo",
          "Cormorán grande",
          "Charadriiformes",
          "Procel·lariformes",
          "Suliformes"
         ],
         "name": "",
         "parents": [
          "Charadriiformes",
          "Charadriiformes",
          "Charadriiformes",
          "Charadriiformes",
          "Charadriiformes",
          "Charadriiformes",
          "Charadriiformes",
          "Charadriiformes",
          "Charadriiformes",
          "Charadriiformes",
          "Charadriiformes",
          "Charadriiformes",
          "Charadriiformes",
          "Procel·lariformes",
          "Procel·lariformes",
          "Procel·lariformes",
          "Procel·lariformes",
          "Procel·lariformes",
          "Suliformes",
          "Suliformes",
          "Suliformes",
          "",
          "",
          ""
         ],
         "textfont": {
          "color": "black",
          "family": "Arial",
          "size": 12
         },
         "type": "sunburst",
         "values": {
          "bdata": "AAAAAABgZUAAAAAAAEBzQAAAAAAAABxAAAAAAAAA8D8AAAAAAAAIQAAAAAAAACZAAAAAAADAYUAAAAAAAMBdQAAAAAAAAFpAAAAAAAAAHEAAAAAAAABIQAAAAAAAAAhAAAAAAADAdUAAAAAAAMBmQAAAAAAAABxAAAAAAADAeUAAAAAAAIBkQAAAAAAAuIFAAAAAAABohEAAAAAAAFBzQAAAAAAAgG5AAAAAAADgk0AAAAAAANCUQAAAAAAA2JJA",
          "dtype": "f8"
         }
        }
       ],
       "layout": {
        "height": 1000,
        "legend": {
         "tracegroupgap": 0
        },
        "sunburstcolorway": [
         "rgb(102, 197, 204)",
         "rgb(246, 207, 113)",
         "rgb(248, 156, 116)",
         "rgb(220, 176, 242)",
         "rgb(135, 197, 95)",
         "rgb(158, 185, 243)",
         "rgb(254, 136, 177)",
         "rgb(201, 219, 116)",
         "rgb(139, 224, 164)",
         "rgb(180, 151, 231)",
         "rgb(179, 179, 179)"
        ],
        "template": {
         "data": {
          "bar": [
           {
            "error_x": {
             "color": "#2a3f5f"
            },
            "error_y": {
             "color": "#2a3f5f"
            },
            "marker": {
             "line": {
              "color": "#E5ECF6",
              "width": 0.5
             },
             "pattern": {
              "fillmode": "overlay",
              "size": 10,
              "solidity": 0.2
             }
            },
            "type": "bar"
           }
          ],
          "barpolar": [
           {
            "marker": {
             "line": {
              "color": "#E5ECF6",
              "width": 0.5
             },
             "pattern": {
              "fillmode": "overlay",
              "size": 10,
              "solidity": 0.2
             }
            },
            "type": "barpolar"
           }
          ],
          "carpet": [
           {
            "aaxis": {
             "endlinecolor": "#2a3f5f",
             "gridcolor": "white",
             "linecolor": "white",
             "minorgridcolor": "white",
             "startlinecolor": "#2a3f5f"
            },
            "baxis": {
             "endlinecolor": "#2a3f5f",
             "gridcolor": "white",
             "linecolor": "white",
             "minorgridcolor": "white",
             "startlinecolor": "#2a3f5f"
            },
            "type": "carpet"
           }
          ],
          "choropleth": [
           {
            "colorbar": {
             "outlinewidth": 0,
             "ticks": ""
            },
            "type": "choropleth"
           }
          ],
          "contour": [
           {
            "colorbar": {
             "outlinewidth": 0,
             "ticks": ""
            },
            "colorscale": [
             [
              0,
              "#0d0887"
             ],
             [
              0.1111111111111111,
              "#46039f"
             ],
             [
              0.2222222222222222,
              "#7201a8"
             ],
             [
              0.3333333333333333,
              "#9c179e"
             ],
             [
              0.4444444444444444,
              "#bd3786"
             ],
             [
              0.5555555555555556,
              "#d8576b"
             ],
             [
              0.6666666666666666,
              "#ed7953"
             ],
             [
              0.7777777777777778,
              "#fb9f3a"
             ],
             [
              0.8888888888888888,
              "#fdca26"
             ],
             [
              1,
              "#f0f921"
             ]
            ],
            "type": "contour"
           }
          ],
          "contourcarpet": [
           {
            "colorbar": {
             "outlinewidth": 0,
             "ticks": ""
            },
            "type": "contourcarpet"
           }
          ],
          "heatmap": [
           {
            "colorbar": {
             "outlinewidth": 0,
             "ticks": ""
            },
            "colorscale": [
             [
              0,
              "#0d0887"
             ],
             [
              0.1111111111111111,
              "#46039f"
             ],
             [
              0.2222222222222222,
              "#7201a8"
             ],
             [
              0.3333333333333333,
              "#9c179e"
             ],
             [
              0.4444444444444444,
              "#bd3786"
             ],
             [
              0.5555555555555556,
              "#d8576b"
             ],
             [
              0.6666666666666666,
              "#ed7953"
             ],
             [
              0.7777777777777778,
              "#fb9f3a"
             ],
             [
              0.8888888888888888,
              "#fdca26"
             ],
             [
              1,
              "#f0f921"
             ]
            ],
            "type": "heatmap"
           }
          ],
          "histogram": [
           {
            "marker": {
             "pattern": {
              "fillmode": "overlay",
              "size": 10,
              "solidity": 0.2
             }
            },
            "type": "histogram"
           }
          ],
          "histogram2d": [
           {
            "colorbar": {
             "outlinewidth": 0,
             "ticks": ""
            },
            "colorscale": [
             [
              0,
              "#0d0887"
             ],
             [
              0.1111111111111111,
              "#46039f"
             ],
             [
              0.2222222222222222,
              "#7201a8"
             ],
             [
              0.3333333333333333,
              "#9c179e"
             ],
             [
              0.4444444444444444,
              "#bd3786"
             ],
             [
              0.5555555555555556,
              "#d8576b"
             ],
             [
              0.6666666666666666,
              "#ed7953"
             ],
             [
              0.7777777777777778,
              "#fb9f3a"
             ],
             [
              0.8888888888888888,
              "#fdca26"
             ],
             [
              1,
              "#f0f921"
             ]
            ],
            "type": "histogram2d"
           }
          ],
          "histogram2dcontour": [
           {
            "colorbar": {
             "outlinewidth": 0,
             "ticks": ""
            },
            "colorscale": [
             [
              0,
              "#0d0887"
             ],
             [
              0.1111111111111111,
              "#46039f"
             ],
             [
              0.2222222222222222,
              "#7201a8"
             ],
             [
              0.3333333333333333,
              "#9c179e"
             ],
             [
              0.4444444444444444,
              "#bd3786"
             ],
             [
              0.5555555555555556,
              "#d8576b"
             ],
             [
              0.6666666666666666,
              "#ed7953"
             ],
             [
              0.7777777777777778,
              "#fb9f3a"
             ],
             [
              0.8888888888888888,
              "#fdca26"
             ],
             [
              1,
              "#f0f921"
             ]
            ],
            "type": "histogram2dcontour"
           }
          ],
          "mesh3d": [
           {
            "colorbar": {
             "outlinewidth": 0,
             "ticks": ""
            },
            "type": "mesh3d"
           }
          ],
          "parcoords": [
           {
            "line": {
             "colorbar": {
              "outlinewidth": 0,
              "ticks": ""
             }
            },
            "type": "parcoords"
           }
          ],
          "pie": [
           {
            "automargin": true,
            "type": "pie"
           }
          ],
          "scatter": [
           {
            "fillpattern": {
             "fillmode": "overlay",
             "size": 10,
             "solidity": 0.2
            },
            "type": "scatter"
           }
          ],
          "scatter3d": [
           {
            "line": {
             "colorbar": {
              "outlinewidth": 0,
              "ticks": ""
             }
            },
            "marker": {
             "colorbar": {
              "outlinewidth": 0,
              "ticks": ""
             }
            },
            "type": "scatter3d"
           }
          ],
          "scattercarpet": [
           {
            "marker": {
             "colorbar": {
              "outlinewidth": 0,
              "ticks": ""
             }
            },
            "type": "scattercarpet"
           }
          ],
          "scattergeo": [
           {
            "marker": {
             "colorbar": {
              "outlinewidth": 0,
              "ticks": ""
             }
            },
            "type": "scattergeo"
           }
          ],
          "scattergl": [
           {
            "marker": {
             "colorbar": {
              "outlinewidth": 0,
              "ticks": ""
             }
            },
            "type": "scattergl"
           }
          ],
          "scattermap": [
           {
            "marker": {
             "colorbar": {
              "outlinewidth": 0,
              "ticks": ""
             }
            },
            "type": "scattermap"
           }
          ],
          "scattermapbox": [
           {
            "marker": {
             "colorbar": {
              "outlinewidth": 0,
              "ticks": ""
             }
            },
            "type": "scattermapbox"
           }
          ],
          "scatterpolar": [
           {
            "marker": {
             "colorbar": {
              "outlinewidth": 0,
              "ticks": ""
             }
            },
            "type": "scatterpolar"
           }
          ],
          "scatterpolargl": [
           {
            "marker": {
             "colorbar": {
              "outlinewidth": 0,
              "ticks": ""
             }
            },
            "type": "scatterpolargl"
           }
          ],
          "scatterternary": [
           {
            "marker": {
             "colorbar": {
              "outlinewidth": 0,
              "ticks": ""
             }
            },
            "type": "scatterternary"
           }
          ],
          "surface": [
           {
            "colorbar": {
             "outlinewidth": 0,
             "ticks": ""
            },
            "colorscale": [
             [
              0,
              "#0d0887"
             ],
             [
              0.1111111111111111,
              "#46039f"
             ],
             [
              0.2222222222222222,
              "#7201a8"
             ],
             [
              0.3333333333333333,
              "#9c179e"
             ],
             [
              0.4444444444444444,
              "#bd3786"
             ],
             [
              0.5555555555555556,
              "#d8576b"
             ],
             [
              0.6666666666666666,
              "#ed7953"
             ],
             [
              0.7777777777777778,
              "#fb9f3a"
             ],
             [
              0.8888888888888888,
              "#fdca26"
             ],
             [
              1,
              "#f0f921"
             ]
            ],
            "type": "surface"
           }
          ],
          "table": [
           {
            "cells": {
             "fill": {
              "color": "#EBF0F8"
             },
             "line": {
              "color": "white"
             }
            },
            "header": {
             "fill": {
              "color": "#C8D4E3"
             },
             "line": {
              "color": "white"
             }
            },
            "type": "table"
           }
          ]
         },
         "layout": {
          "annotationdefaults": {
           "arrowcolor": "#2a3f5f",
           "arrowhead": 0,
           "arrowwidth": 1
          },
          "autotypenumbers": "strict",
          "coloraxis": {
           "colorbar": {
            "outlinewidth": 0,
            "ticks": ""
           }
          },
          "colorscale": {
           "diverging": [
            [
             0,
             "#8e0152"
            ],
            [
             0.1,
             "#c51b7d"
            ],
            [
             0.2,
             "#de77ae"
            ],
            [
             0.3,
             "#f1b6da"
            ],
            [
             0.4,
             "#fde0ef"
            ],
            [
             0.5,
             "#f7f7f7"
            ],
            [
             0.6,
             "#e6f5d0"
            ],
            [
             0.7,
             "#b8e186"
            ],
            [
             0.8,
             "#7fbc41"
            ],
            [
             0.9,
             "#4d9221"
            ],
            [
             1,
             "#276419"
            ]
           ],
           "sequential": [
            [
             0,
             "#0d0887"
            ],
            [
             0.1111111111111111,
             "#46039f"
            ],
            [
             0.2222222222222222,
             "#7201a8"
            ],
            [
             0.3333333333333333,
             "#9c179e"
            ],
            [
             0.4444444444444444,
             "#bd3786"
            ],
            [
             0.5555555555555556,
             "#d8576b"
            ],
            [
             0.6666666666666666,
             "#ed7953"
            ],
            [
             0.7777777777777778,
             "#fb9f3a"
            ],
            [
             0.8888888888888888,
             "#fdca26"
            ],
            [
             1,
             "#f0f921"
            ]
           ],
           "sequentialminus": [
            [
             0,
             "#0d0887"
            ],
            [
             0.1111111111111111,
             "#46039f"
            ],
            [
             0.2222222222222222,
             "#7201a8"
            ],
            [
             0.3333333333333333,
             "#9c179e"
            ],
            [
             0.4444444444444444,
             "#bd3786"
            ],
            [
             0.5555555555555556,
             "#d8576b"
            ],
            [
             0.6666666666666666,
             "#ed7953"
            ],
            [
             0.7777777777777778,
             "#fb9f3a"
            ],
            [
             0.8888888888888888,
             "#fdca26"
            ],
            [
             1,
             "#f0f921"
            ]
           ]
          },
          "colorway": [
           "#636efa",
           "#EF553B",
           "#00cc96",
           "#ab63fa",
           "#FFA15A",
           "#19d3f3",
           "#FF6692",
           "#B6E880",
           "#FF97FF",
           "#FECB52"
          ],
          "font": {
           "color": "#2a3f5f"
          },
          "geo": {
           "bgcolor": "white",
           "lakecolor": "white",
           "landcolor": "#E5ECF6",
           "showlakes": true,
           "showland": true,
           "subunitcolor": "white"
          },
          "hoverlabel": {
           "align": "left"
          },
          "hovermode": "closest",
          "mapbox": {
           "style": "light"
          },
          "paper_bgcolor": "white",
          "plot_bgcolor": "#E5ECF6",
          "polar": {
           "angularaxis": {
            "gridcolor": "white",
            "linecolor": "white",
            "ticks": ""
           },
           "bgcolor": "#E5ECF6",
           "radialaxis": {
            "gridcolor": "white",
            "linecolor": "white",
            "ticks": ""
           }
          },
          "scene": {
           "xaxis": {
            "backgroundcolor": "#E5ECF6",
            "gridcolor": "white",
            "gridwidth": 2,
            "linecolor": "white",
            "showbackground": true,
            "ticks": "",
            "zerolinecolor": "white"
           },
           "yaxis": {
            "backgroundcolor": "#E5ECF6",
            "gridcolor": "white",
            "gridwidth": 2,
            "linecolor": "white",
            "showbackground": true,
            "ticks": "",
            "zerolinecolor": "white"
           },
           "zaxis": {
            "backgroundcolor": "#E5ECF6",
            "gridcolor": "white",
            "gridwidth": 2,
            "linecolor": "white",
            "showbackground": true,
            "ticks": "",
            "zerolinecolor": "white"
           }
          },
          "shapedefaults": {
           "line": {
            "color": "#2a3f5f"
           }
          },
          "ternary": {
           "aaxis": {
            "gridcolor": "white",
            "linecolor": "white",
            "ticks": ""
           },
           "baxis": {
            "gridcolor": "white",
            "linecolor": "white",
            "ticks": ""
           },
           "bgcolor": "#E5ECF6",
           "caxis": {
            "gridcolor": "white",
            "linecolor": "white",
            "ticks": ""
           }
          },
          "title": {
           "x": 0.05
          },
          "xaxis": {
           "automargin": true,
           "gridcolor": "white",
           "linecolor": "white",
           "ticks": "",
           "title": {
            "standoff": 15
           },
           "zerolinecolor": "white",
           "zerolinewidth": 2
          },
          "yaxis": {
           "automargin": true,
           "gridcolor": "white",
           "linecolor": "white",
           "ticks": "",
           "title": {
            "standoff": 15
           },
           "zerolinecolor": "white",
           "zerolinewidth": 2
          }
         }
        },
        "title": {
         "text": "Numero de Individuos Invernantes por Orden Taxonómico y Especie"
        },
        "width": 1000
       }
      }
     },
     "metadata": {},
     "output_type": "display_data"
    }
   ],
   "source": [
    "fig = px.sunburst(invernantes_count,\n",
    "                  path=['Ordre', 'NOMBRE COMÚN'], # Creo la jerarquia\n",
    "                  values='count_aves', # El numero de individuos\n",
    "                  title='Numero de Individuos Invernantes por Orden Taxonómico y Especie',\n",
    "                  color_discrete_sequence=px.colors.qualitative.Pastel,\n",
    "                  hover_name = 'NOMBRE COMÚN',\n",
    "                  hover_data={\n",
    "                          \"NOMBRE COMÚN\": True,\n",
    "                          'Catalan name':True,\n",
    "                          'Ordre':True,\n",
    "                          \"Scientific name\": True,\n",
    "                          \"count_aves\":True\n",
    "                          }, \n",
    "                  height=1000,  \n",
    "                  width=1000 \n",
    "                 )\n",
    "\n",
    "# Personalización del hover data\n",
    "fig.update_traces(\n",
    "      hovertemplate=\"<b>Orden:</b> %{customdata[2]}<br>\" + # El orden\n",
    "                  \"<b>Especie:</b> %{label}<br>\" + # El nombre científico\n",
    "                  \"<b>Nombre Catalán:</b> %{customdata[1]}<br>\" + \n",
    "                  \"<b>Nombre Científico:</b> %{customdata[3]}<br>\" + \n",
    "                  \"<b>Observaciones:</b> %{value}<extra></extra>\",\n",
    "    textfont=dict(size=12, family=\"Arial\", color=\"black\"),\n",
    "    insidetextfont=dict(family=\"Arial\", size=14, color=\"black\", weight=\"bold\"), \n",
    "    insidetextorientation='radial'\n",
    ")\n",
    "\n",
    "fig.show()\n",
    "\n",
    "# Guardar archivo en HTML\n",
    "# fig.write_html(\"censo_aves_interactivo.html\")"
   ]
  },
  {
   "cell_type": "markdown",
   "id": "e5bb6b8c",
   "metadata": {},
   "source": [
    "## Estivales"
   ]
  },
  {
   "cell_type": "code",
   "execution_count": 230,
   "id": "b846552c",
   "metadata": {},
   "outputs": [
    {
     "data": {
      "application/vnd.plotly.v1+json": {
       "config": {
        "plotlyServerURL": "https://plot.ly"
       },
       "data": [
        {
         "branchvalues": "total",
         "customdata": [
          [
           "Alca común",
           "Gavot",
           "Charadriiformes",
           "Alca torda",
           65
          ],
          [
           "Gaviota reidora",
           "Gavina riallera",
           "Charadriiformes",
           "Chroicocephalus ridibundus",
           293
          ],
          [
           "Frailecillo atlántico",
           "Fraret",
           "Charadriiformes",
           "Fratercula arctica",
           33
          ],
          [
           "Gaviota enana",
           "Gavina menuda",
           "Charadriiformes",
           "Hydrocoloeus minutus",
           100
          ],
          [
           "Gaviota de Audouin",
           "Gavina corsa",
           "Charadriiformes",
           "Larus audouinii",
           34
          ],
          [
           "Gaviota sombría",
           "Gavià fosc",
           "Charadriiformes",
           "Larus fuscus",
           31
          ],
          [
           "Gaviota cabecinegra",
           "Gavina capnegra",
           "Charadriiformes",
           "Larus melanocephalus",
           296
          ],
          [
           "Gaviota patiamarilla",
           "Gavià argentat",
           "Charadriiformes",
           "Larus michahellis",
           141
          ],
          [
           "Gaviota tridáctila",
           "Gavineta de tres dits",
           "Charadriiformes",
           "Rissa tridactyla",
           79
          ],
          [
           "Págalo parásito",
           "Paràsit cuapunxegut",
           "Charadriiformes",
           "Stercorarius parasiticus",
           44
          ],
          [
           "Págalo pomarino",
           "Paràsit cuaample",
           "Charadriiformes",
           "Stercorarius pomarinus",
           22
          ],
          [
           "Págalo grande",
           "Paràsit gros",
           "Charadriiformes",
           "Stercorarius skua",
           55
          ],
          [
           "Charrán común",
           "Xatrac comú",
           "Charadriiformes",
           "Sterna hirundo",
           28
          ],
          [
           "Charrán patinegro",
           "Xatrac becllarg",
           "Charadriiformes",
           "Thalasseus sandvicensis",
           342
          ],
          [
           "Pardela cenicienta mediterránea",
           "Baldriga cendrosa mediterrània",
           "Procel·lariformes",
           "Calonectris diomedea",
           415
          ],
          [
           "Paíño europeo",
           "Ocell de tempesta",
           "Procel·lariformes",
           "Hydrobates pelagicus",
           27
          ],
          [
           "Pardela balear",
           "Baldriga balear",
           "Procel·lariformes",
           "Puffinus mauretanicus",
           479
          ],
          [
           "Pardela balear/mediterránea",
           "Baldriga balear/mediterranea",
           "Procel·lariformes",
           "Puffinus sp.",
           248
          ],
          [
           "Pardela mediterránea",
           "Baldriga mediterrània",
           "Procel·lariformes",
           "Puffinus yelkouan",
           521
          ],
          [
           "Alcatraz atlántico",
           "Mascarell",
           "Suliformes",
           "Morus bassanus",
           570
          ],
          [
           "Cormorán moñudo",
           "Corbmarí emplomallat mediterrani",
           "Suliformes",
           "Phalacrocorax aristotelis",
           370
          ],
          [
           "Cormorán grande",
           "Corb marí gros",
           "Suliformes",
           "Phalacrocorax carbo",
           171
          ],
          [
           "(?)",
           "(?)",
           "Charadriiformes",
           "(?)",
           1563
          ],
          [
           "(?)",
           "(?)",
           "Procel·lariformes",
           "(?)",
           1690
          ],
          [
           "(?)",
           "(?)",
           "Suliformes",
           "(?)",
           1111
          ]
         ],
         "domain": {
          "x": [
           0,
           1
          ],
          "y": [
           0,
           1
          ]
         },
         "hovertemplate": "<b>Orden:</b> %{customdata[2]}<br><b>Especie:</b> %{label}<br><b>Nombre Catalán:</b> %{customdata[1]}<br><b>Nombre Científico:</b> %{customdata[3]}<br><b>Observaciones:</b> %{value}<extra></extra>",
         "hovertext": [
          "Alca común",
          "Gaviota reidora",
          "Frailecillo atlántico",
          "Gaviota enana",
          "Gaviota de Audouin",
          "Gaviota sombría",
          "Gaviota cabecinegra",
          "Gaviota patiamarilla",
          "Gaviota tridáctila",
          "Págalo parásito",
          "Págalo pomarino",
          "Págalo grande",
          "Charrán común",
          "Charrán patinegro",
          "Pardela cenicienta mediterránea",
          "Paíño europeo",
          "Pardela balear",
          "Pardela balear/mediterránea",
          "Pardela mediterránea",
          "Alcatraz atlántico",
          "Cormorán moñudo",
          "Cormorán grande",
          "(?)",
          "(?)",
          "(?)"
         ],
         "ids": [
          "Charadriiformes/Alca común",
          "Charadriiformes/Gaviota reidora",
          "Charadriiformes/Frailecillo atlántico",
          "Charadriiformes/Gaviota enana",
          "Charadriiformes/Gaviota de Audouin",
          "Charadriiformes/Gaviota sombría",
          "Charadriiformes/Gaviota cabecinegra",
          "Charadriiformes/Gaviota patiamarilla",
          "Charadriiformes/Gaviota tridáctila",
          "Charadriiformes/Págalo parásito",
          "Charadriiformes/Págalo pomarino",
          "Charadriiformes/Págalo grande",
          "Charadriiformes/Charrán común",
          "Charadriiformes/Charrán patinegro",
          "Procel·lariformes/Pardela cenicienta mediterránea",
          "Procel·lariformes/Paíño europeo",
          "Procel·lariformes/Pardela balear",
          "Procel·lariformes/Pardela balear/mediterránea",
          "Procel·lariformes/Pardela mediterránea",
          "Suliformes/Alcatraz atlántico",
          "Suliformes/Cormorán moñudo",
          "Suliformes/Cormorán grande",
          "Charadriiformes",
          "Procel·lariformes",
          "Suliformes"
         ],
         "insidetextfont": {
          "color": "black",
          "family": "Arial",
          "size": 14,
          "weight": "bold"
         },
         "insidetextorientation": "radial",
         "labels": [
          "Alca común",
          "Gaviota reidora",
          "Frailecillo atlántico",
          "Gaviota enana",
          "Gaviota de Audouin",
          "Gaviota sombría",
          "Gaviota cabecinegra",
          "Gaviota patiamarilla",
          "Gaviota tridáctila",
          "Págalo parásito",
          "Págalo pomarino",
          "Págalo grande",
          "Charrán común",
          "Charrán patinegro",
          "Pardela cenicienta mediterránea",
          "Paíño europeo",
          "Pardela balear",
          "Pardela balear/mediterránea",
          "Pardela mediterránea",
          "Alcatraz atlántico",
          "Cormorán moñudo",
          "Cormorán grande",
          "Charadriiformes",
          "Procel·lariformes",
          "Suliformes"
         ],
         "name": "",
         "parents": [
          "Charadriiformes",
          "Charadriiformes",
          "Charadriiformes",
          "Charadriiformes",
          "Charadriiformes",
          "Charadriiformes",
          "Charadriiformes",
          "Charadriiformes",
          "Charadriiformes",
          "Charadriiformes",
          "Charadriiformes",
          "Charadriiformes",
          "Charadriiformes",
          "Charadriiformes",
          "Procel·lariformes",
          "Procel·lariformes",
          "Procel·lariformes",
          "Procel·lariformes",
          "Procel·lariformes",
          "Suliformes",
          "Suliformes",
          "Suliformes",
          "",
          "",
          ""
         ],
         "textfont": {
          "color": "black",
          "family": "Arial",
          "size": 12
         },
         "type": "sunburst",
         "values": {
          "bdata": "AAAAAABAUEAAAAAAAFByQAAAAAAAgEBAAAAAAAAAWUAAAAAAAABBQAAAAAAAAD9AAAAAAACAckAAAAAAAKBhQAAAAAAAwFNAAAAAAAAARkAAAAAAAAA2QAAAAAAAgEtAAAAAAAAAPEAAAAAAAGB1QAAAAAAA8HlAAAAAAAAAO0AAAAAAAPB9QAAAAAAAAG9AAAAAAABIgEAAAAAAANCBQAAAAAAAIHdAAAAAAABgZUAAAAAAAGyYQAAAAAAAaJpAAAAAAABckUA=",
          "dtype": "f8"
         }
        }
       ],
       "layout": {
        "height": 1000,
        "legend": {
         "tracegroupgap": 0
        },
        "sunburstcolorway": [
         "rgb(102, 197, 204)",
         "rgb(246, 207, 113)",
         "rgb(248, 156, 116)",
         "rgb(220, 176, 242)",
         "rgb(135, 197, 95)",
         "rgb(158, 185, 243)",
         "rgb(254, 136, 177)",
         "rgb(201, 219, 116)",
         "rgb(139, 224, 164)",
         "rgb(180, 151, 231)",
         "rgb(179, 179, 179)"
        ],
        "template": {
         "data": {
          "bar": [
           {
            "error_x": {
             "color": "#2a3f5f"
            },
            "error_y": {
             "color": "#2a3f5f"
            },
            "marker": {
             "line": {
              "color": "#E5ECF6",
              "width": 0.5
             },
             "pattern": {
              "fillmode": "overlay",
              "size": 10,
              "solidity": 0.2
             }
            },
            "type": "bar"
           }
          ],
          "barpolar": [
           {
            "marker": {
             "line": {
              "color": "#E5ECF6",
              "width": 0.5
             },
             "pattern": {
              "fillmode": "overlay",
              "size": 10,
              "solidity": 0.2
             }
            },
            "type": "barpolar"
           }
          ],
          "carpet": [
           {
            "aaxis": {
             "endlinecolor": "#2a3f5f",
             "gridcolor": "white",
             "linecolor": "white",
             "minorgridcolor": "white",
             "startlinecolor": "#2a3f5f"
            },
            "baxis": {
             "endlinecolor": "#2a3f5f",
             "gridcolor": "white",
             "linecolor": "white",
             "minorgridcolor": "white",
             "startlinecolor": "#2a3f5f"
            },
            "type": "carpet"
           }
          ],
          "choropleth": [
           {
            "colorbar": {
             "outlinewidth": 0,
             "ticks": ""
            },
            "type": "choropleth"
           }
          ],
          "contour": [
           {
            "colorbar": {
             "outlinewidth": 0,
             "ticks": ""
            },
            "colorscale": [
             [
              0,
              "#0d0887"
             ],
             [
              0.1111111111111111,
              "#46039f"
             ],
             [
              0.2222222222222222,
              "#7201a8"
             ],
             [
              0.3333333333333333,
              "#9c179e"
             ],
             [
              0.4444444444444444,
              "#bd3786"
             ],
             [
              0.5555555555555556,
              "#d8576b"
             ],
             [
              0.6666666666666666,
              "#ed7953"
             ],
             [
              0.7777777777777778,
              "#fb9f3a"
             ],
             [
              0.8888888888888888,
              "#fdca26"
             ],
             [
              1,
              "#f0f921"
             ]
            ],
            "type": "contour"
           }
          ],
          "contourcarpet": [
           {
            "colorbar": {
             "outlinewidth": 0,
             "ticks": ""
            },
            "type": "contourcarpet"
           }
          ],
          "heatmap": [
           {
            "colorbar": {
             "outlinewidth": 0,
             "ticks": ""
            },
            "colorscale": [
             [
              0,
              "#0d0887"
             ],
             [
              0.1111111111111111,
              "#46039f"
             ],
             [
              0.2222222222222222,
              "#7201a8"
             ],
             [
              0.3333333333333333,
              "#9c179e"
             ],
             [
              0.4444444444444444,
              "#bd3786"
             ],
             [
              0.5555555555555556,
              "#d8576b"
             ],
             [
              0.6666666666666666,
              "#ed7953"
             ],
             [
              0.7777777777777778,
              "#fb9f3a"
             ],
             [
              0.8888888888888888,
              "#fdca26"
             ],
             [
              1,
              "#f0f921"
             ]
            ],
            "type": "heatmap"
           }
          ],
          "histogram": [
           {
            "marker": {
             "pattern": {
              "fillmode": "overlay",
              "size": 10,
              "solidity": 0.2
             }
            },
            "type": "histogram"
           }
          ],
          "histogram2d": [
           {
            "colorbar": {
             "outlinewidth": 0,
             "ticks": ""
            },
            "colorscale": [
             [
              0,
              "#0d0887"
             ],
             [
              0.1111111111111111,
              "#46039f"
             ],
             [
              0.2222222222222222,
              "#7201a8"
             ],
             [
              0.3333333333333333,
              "#9c179e"
             ],
             [
              0.4444444444444444,
              "#bd3786"
             ],
             [
              0.5555555555555556,
              "#d8576b"
             ],
             [
              0.6666666666666666,
              "#ed7953"
             ],
             [
              0.7777777777777778,
              "#fb9f3a"
             ],
             [
              0.8888888888888888,
              "#fdca26"
             ],
             [
              1,
              "#f0f921"
             ]
            ],
            "type": "histogram2d"
           }
          ],
          "histogram2dcontour": [
           {
            "colorbar": {
             "outlinewidth": 0,
             "ticks": ""
            },
            "colorscale": [
             [
              0,
              "#0d0887"
             ],
             [
              0.1111111111111111,
              "#46039f"
             ],
             [
              0.2222222222222222,
              "#7201a8"
             ],
             [
              0.3333333333333333,
              "#9c179e"
             ],
             [
              0.4444444444444444,
              "#bd3786"
             ],
             [
              0.5555555555555556,
              "#d8576b"
             ],
             [
              0.6666666666666666,
              "#ed7953"
             ],
             [
              0.7777777777777778,
              "#fb9f3a"
             ],
             [
              0.8888888888888888,
              "#fdca26"
             ],
             [
              1,
              "#f0f921"
             ]
            ],
            "type": "histogram2dcontour"
           }
          ],
          "mesh3d": [
           {
            "colorbar": {
             "outlinewidth": 0,
             "ticks": ""
            },
            "type": "mesh3d"
           }
          ],
          "parcoords": [
           {
            "line": {
             "colorbar": {
              "outlinewidth": 0,
              "ticks": ""
             }
            },
            "type": "parcoords"
           }
          ],
          "pie": [
           {
            "automargin": true,
            "type": "pie"
           }
          ],
          "scatter": [
           {
            "fillpattern": {
             "fillmode": "overlay",
             "size": 10,
             "solidity": 0.2
            },
            "type": "scatter"
           }
          ],
          "scatter3d": [
           {
            "line": {
             "colorbar": {
              "outlinewidth": 0,
              "ticks": ""
             }
            },
            "marker": {
             "colorbar": {
              "outlinewidth": 0,
              "ticks": ""
             }
            },
            "type": "scatter3d"
           }
          ],
          "scattercarpet": [
           {
            "marker": {
             "colorbar": {
              "outlinewidth": 0,
              "ticks": ""
             }
            },
            "type": "scattercarpet"
           }
          ],
          "scattergeo": [
           {
            "marker": {
             "colorbar": {
              "outlinewidth": 0,
              "ticks": ""
             }
            },
            "type": "scattergeo"
           }
          ],
          "scattergl": [
           {
            "marker": {
             "colorbar": {
              "outlinewidth": 0,
              "ticks": ""
             }
            },
            "type": "scattergl"
           }
          ],
          "scattermap": [
           {
            "marker": {
             "colorbar": {
              "outlinewidth": 0,
              "ticks": ""
             }
            },
            "type": "scattermap"
           }
          ],
          "scattermapbox": [
           {
            "marker": {
             "colorbar": {
              "outlinewidth": 0,
              "ticks": ""
             }
            },
            "type": "scattermapbox"
           }
          ],
          "scatterpolar": [
           {
            "marker": {
             "colorbar": {
              "outlinewidth": 0,
              "ticks": ""
             }
            },
            "type": "scatterpolar"
           }
          ],
          "scatterpolargl": [
           {
            "marker": {
             "colorbar": {
              "outlinewidth": 0,
              "ticks": ""
             }
            },
            "type": "scatterpolargl"
           }
          ],
          "scatterternary": [
           {
            "marker": {
             "colorbar": {
              "outlinewidth": 0,
              "ticks": ""
             }
            },
            "type": "scatterternary"
           }
          ],
          "surface": [
           {
            "colorbar": {
             "outlinewidth": 0,
             "ticks": ""
            },
            "colorscale": [
             [
              0,
              "#0d0887"
             ],
             [
              0.1111111111111111,
              "#46039f"
             ],
             [
              0.2222222222222222,
              "#7201a8"
             ],
             [
              0.3333333333333333,
              "#9c179e"
             ],
             [
              0.4444444444444444,
              "#bd3786"
             ],
             [
              0.5555555555555556,
              "#d8576b"
             ],
             [
              0.6666666666666666,
              "#ed7953"
             ],
             [
              0.7777777777777778,
              "#fb9f3a"
             ],
             [
              0.8888888888888888,
              "#fdca26"
             ],
             [
              1,
              "#f0f921"
             ]
            ],
            "type": "surface"
           }
          ],
          "table": [
           {
            "cells": {
             "fill": {
              "color": "#EBF0F8"
             },
             "line": {
              "color": "white"
             }
            },
            "header": {
             "fill": {
              "color": "#C8D4E3"
             },
             "line": {
              "color": "white"
             }
            },
            "type": "table"
           }
          ]
         },
         "layout": {
          "annotationdefaults": {
           "arrowcolor": "#2a3f5f",
           "arrowhead": 0,
           "arrowwidth": 1
          },
          "autotypenumbers": "strict",
          "coloraxis": {
           "colorbar": {
            "outlinewidth": 0,
            "ticks": ""
           }
          },
          "colorscale": {
           "diverging": [
            [
             0,
             "#8e0152"
            ],
            [
             0.1,
             "#c51b7d"
            ],
            [
             0.2,
             "#de77ae"
            ],
            [
             0.3,
             "#f1b6da"
            ],
            [
             0.4,
             "#fde0ef"
            ],
            [
             0.5,
             "#f7f7f7"
            ],
            [
             0.6,
             "#e6f5d0"
            ],
            [
             0.7,
             "#b8e186"
            ],
            [
             0.8,
             "#7fbc41"
            ],
            [
             0.9,
             "#4d9221"
            ],
            [
             1,
             "#276419"
            ]
           ],
           "sequential": [
            [
             0,
             "#0d0887"
            ],
            [
             0.1111111111111111,
             "#46039f"
            ],
            [
             0.2222222222222222,
             "#7201a8"
            ],
            [
             0.3333333333333333,
             "#9c179e"
            ],
            [
             0.4444444444444444,
             "#bd3786"
            ],
            [
             0.5555555555555556,
             "#d8576b"
            ],
            [
             0.6666666666666666,
             "#ed7953"
            ],
            [
             0.7777777777777778,
             "#fb9f3a"
            ],
            [
             0.8888888888888888,
             "#fdca26"
            ],
            [
             1,
             "#f0f921"
            ]
           ],
           "sequentialminus": [
            [
             0,
             "#0d0887"
            ],
            [
             0.1111111111111111,
             "#46039f"
            ],
            [
             0.2222222222222222,
             "#7201a8"
            ],
            [
             0.3333333333333333,
             "#9c179e"
            ],
            [
             0.4444444444444444,
             "#bd3786"
            ],
            [
             0.5555555555555556,
             "#d8576b"
            ],
            [
             0.6666666666666666,
             "#ed7953"
            ],
            [
             0.7777777777777778,
             "#fb9f3a"
            ],
            [
             0.8888888888888888,
             "#fdca26"
            ],
            [
             1,
             "#f0f921"
            ]
           ]
          },
          "colorway": [
           "#636efa",
           "#EF553B",
           "#00cc96",
           "#ab63fa",
           "#FFA15A",
           "#19d3f3",
           "#FF6692",
           "#B6E880",
           "#FF97FF",
           "#FECB52"
          ],
          "font": {
           "color": "#2a3f5f"
          },
          "geo": {
           "bgcolor": "white",
           "lakecolor": "white",
           "landcolor": "#E5ECF6",
           "showlakes": true,
           "showland": true,
           "subunitcolor": "white"
          },
          "hoverlabel": {
           "align": "left"
          },
          "hovermode": "closest",
          "mapbox": {
           "style": "light"
          },
          "paper_bgcolor": "white",
          "plot_bgcolor": "#E5ECF6",
          "polar": {
           "angularaxis": {
            "gridcolor": "white",
            "linecolor": "white",
            "ticks": ""
           },
           "bgcolor": "#E5ECF6",
           "radialaxis": {
            "gridcolor": "white",
            "linecolor": "white",
            "ticks": ""
           }
          },
          "scene": {
           "xaxis": {
            "backgroundcolor": "#E5ECF6",
            "gridcolor": "white",
            "gridwidth": 2,
            "linecolor": "white",
            "showbackground": true,
            "ticks": "",
            "zerolinecolor": "white"
           },
           "yaxis": {
            "backgroundcolor": "#E5ECF6",
            "gridcolor": "white",
            "gridwidth": 2,
            "linecolor": "white",
            "showbackground": true,
            "ticks": "",
            "zerolinecolor": "white"
           },
           "zaxis": {
            "backgroundcolor": "#E5ECF6",
            "gridcolor": "white",
            "gridwidth": 2,
            "linecolor": "white",
            "showbackground": true,
            "ticks": "",
            "zerolinecolor": "white"
           }
          },
          "shapedefaults": {
           "line": {
            "color": "#2a3f5f"
           }
          },
          "ternary": {
           "aaxis": {
            "gridcolor": "white",
            "linecolor": "white",
            "ticks": ""
           },
           "baxis": {
            "gridcolor": "white",
            "linecolor": "white",
            "ticks": ""
           },
           "bgcolor": "#E5ECF6",
           "caxis": {
            "gridcolor": "white",
            "linecolor": "white",
            "ticks": ""
           }
          },
          "title": {
           "x": 0.05
          },
          "xaxis": {
           "automargin": true,
           "gridcolor": "white",
           "linecolor": "white",
           "ticks": "",
           "title": {
            "standoff": 15
           },
           "zerolinecolor": "white",
           "zerolinewidth": 2
          },
          "yaxis": {
           "automargin": true,
           "gridcolor": "white",
           "linecolor": "white",
           "ticks": "",
           "title": {
            "standoff": 15
           },
           "zerolinecolor": "white",
           "zerolinewidth": 2
          }
         }
        },
        "title": {
         "text": "Numero de Individuos Invernantes por Orden Taxonómico y Especie"
        },
        "width": 1000
       }
      }
     },
     "metadata": {},
     "output_type": "display_data"
    }
   ],
   "source": [
    "fig = px.sunburst(estivales_count,\n",
    "                  path=['Ordre', 'NOMBRE COMÚN'], # Creo la jerarquia\n",
    "                  values='count_aves', # El numero de individuos\n",
    "                  title='Numero de Individuos Invernantes por Orden Taxonómico y Especie',\n",
    "                  color_discrete_sequence=px.colors.qualitative.Pastel,\n",
    "                  hover_name = 'NOMBRE COMÚN',\n",
    "                  hover_data={\n",
    "                          \"NOMBRE COMÚN\": True,\n",
    "                          'Catalan name':True,\n",
    "                          'Ordre':True,\n",
    "                          \"Scientific name\": True,\n",
    "                          \"count_aves\":True\n",
    "                          }, \n",
    "                  height=1000,  \n",
    "                  width=1000 \n",
    "                 )\n",
    "\n",
    "# Personalización del hover data\n",
    "fig.update_traces(\n",
    "      hovertemplate=\"<b>Orden:</b> %{customdata[2]}<br>\" + # El orden\n",
    "                  \"<b>Especie:</b> %{label}<br>\" + # El nombre científico\n",
    "                  \"<b>Nombre Catalán:</b> %{customdata[1]}<br>\" + \n",
    "                  \"<b>Nombre Científico:</b> %{customdata[3]}<br>\" + \n",
    "                  \"<b>Observaciones:</b> %{value}<extra></extra>\",\n",
    "    textfont=dict(size=12, family=\"Arial\", color=\"black\"),\n",
    "    insidetextfont=dict(family=\"Arial\", size=14, color=\"black\", weight=\"bold\"), \n",
    "    insidetextorientation='radial'\n",
    ")\n",
    "\n",
    "fig.show()\n",
    "\n",
    "# Guardar archivo en HTML\n",
    "# fig.write_html(\"censo_aves_interactivo.html\")"
   ]
  },
  {
   "cell_type": "markdown",
   "id": "8dfdaa60",
   "metadata": {},
   "source": [
    "## Porcentaje de especies por categoria de protección en 2007 y 2023"
   ]
  },
  {
   "cell_type": "code",
   "execution_count": 231,
   "id": "80be1f88",
   "metadata": {},
   "outputs": [],
   "source": [
    "# Paleta de colores que usaré\n",
    "color= {\n",
    "    'CR': '#F5A9A9',\n",
    "    'En Peligro Crítico':'#F5A9A9',\n",
    "    'CR/EN': '#FFC28E',\n",
    "    'En Peligro Crítico/En Peligro':'#FFC28E',\n",
    "    'CR/VU': '#FFC28E',\n",
    "    'En Peligro Crítico/Vulnerable':'#FFC28E',\n",
    "    'EN': '#FFEB9C',\n",
    "    'En Peligro':'#FFEB9C',\n",
    "    'NE': '#C8A2E8',\n",
    "    'No Evaluado':'#C8A2E8',\n",
    "    'NT': '#A5D6F2',\n",
    "    'Casi Amenazado':'#A5D6F2',\n",
    "    'VU': '#FFFFB2',\n",
    "    'Vulnerable':'#FFFFB2',\n",
    "    'LC': '#C8E6A7',\n",
    "    'Preocupación Menor':'#C8E6A7',\n",
    "    'DD': '#DCDCDC',\n",
    "    'Datos Insuficientes':'#DCDCDC',\n",
    "    'Favorable': '#C8E6A7',\n",
    "    'Sin Variaciones': '#A5D6F2', \n",
    "    'Sin Variaciones/Desfavorable': '#FFEB9C', \n",
    "    'Desfavorable': '#F5A9A9', \n",
    "    'Datos Insuficientes': '#DCDCDC', \n",
    "    'No Evaluada': '#C8A2E8' \n",
    "}"
   ]
  },
  {
   "cell_type": "markdown",
   "id": "161eb659",
   "metadata": {},
   "source": [
    "### 2007"
   ]
  },
  {
   "cell_type": "code",
   "execution_count": 248,
   "id": "5724c263",
   "metadata": {},
   "outputs": [
    {
     "data": {
      "application/vnd.microsoft.datawrangler.viewer.v0+json": {
       "columns": [
        {
         "name": "index",
         "rawType": "int64",
         "type": "integer"
        },
        {
         "name": "date",
         "rawType": "int64",
         "type": "integer"
        },
        {
         "name": "speciesname",
         "rawType": "object",
         "type": "string"
        },
        {
         "name": "Scientific name",
         "rawType": "object",
         "type": "string"
        },
        {
         "name": "year",
         "rawType": "int64",
         "type": "integer"
        },
        {
         "name": "yday",
         "rawType": "int64",
         "type": "integer"
        },
        {
         "name": "fecha",
         "rawType": "object",
         "type": "string"
        },
        {
         "name": "fecha_formateada",
         "rawType": "object",
         "type": "string"
        },
        {
         "name": "month",
         "rawType": "int64",
         "type": "integer"
        },
        {
         "name": "nombre_mes",
         "rawType": "object",
         "type": "string"
        },
        {
         "name": "count_aves",
         "rawType": "int64",
         "type": "integer"
        },
        {
         "name": "speciesid",
         "rawType": "int64",
         "type": "integer"
        },
        {
         "name": "Ordre",
         "rawType": "object",
         "type": "string"
        },
        {
         "name": "Catalan name",
         "rawType": "object",
         "type": "string"
        },
        {
         "name": "Protection status in Catlunya",
         "rawType": "object",
         "type": "string"
        },
        {
         "name": "Average SST month",
         "rawType": "float64",
         "type": "float"
        },
        {
         "name": "Average SST 1975-2000",
         "rawType": "float64",
         "type": "float"
        },
        {
         "name": "SST change",
         "rawType": "float64",
         "type": "float"
        },
        {
         "name": "Arrossegament de fons al Mediterrani",
         "rawType": "float64",
         "type": "float"
        },
        {
         "name": "Arts menors en el Mediterrani",
         "rawType": "float64",
         "type": "float"
        },
        {
         "name": "Encerclament al Mediterrani",
         "rawType": "float64",
         "type": "float"
        },
        {
         "name": "Encerclament tonyina vermella al Mediterrani",
         "rawType": "float64",
         "type": "float"
        },
        {
         "name": "Palangre de fons al Mediterrani",
         "rawType": "float64",
         "type": "float"
        },
        {
         "name": "Palangre de superficie al Mediterrani",
         "rawType": "float64",
         "type": "float"
        },
        {
         "name": "Total CAT",
         "rawType": "float64",
         "type": "float"
        },
        {
         "name": "NOMBRE COMÚN",
         "rawType": "object",
         "type": "string"
        },
        {
         "name": "LR2004",
         "rawType": "object",
         "type": "string"
        },
        {
         "name": "LR2021 Invern/Migrat",
         "rawType": "object",
         "type": "string"
        },
        {
         "name": "LR2021 Repro",
         "rawType": "object",
         "type": "string"
        },
        {
         "name": "EVOLUCIÓN CATEGORÍA 2004-2021",
         "rawType": "object",
         "type": "string"
        },
        {
         "name": "Estatus Consolidado",
         "rawType": "object",
         "type": "string"
        },
        {
         "name": "Biosphere reserve",
         "rawType": "float64",
         "type": "float"
        },
        {
         "name": "MPA with a national statute",
         "rawType": "float64",
         "type": "float"
        },
        {
         "name": "Marine Natura 2000 proposed site",
         "rawType": "float64",
         "type": "float"
        },
        {
         "name": "Marine Natura 2000 site",
         "rawType": "float64",
         "type": "float"
        },
        {
         "name": "Ramsar site",
         "rawType": "float64",
         "type": "float"
        },
        {
         "name": "SPAMI",
         "rawType": "float64",
         "type": "float"
        },
        {
         "name": "World heritage site",
         "rawType": "float64",
         "type": "float"
        },
        {
         "name": "calculo",
         "rawType": "float64",
         "type": "float"
        },
        {
         "name": "Total_MPAs",
         "rawType": "float64",
         "type": "float"
        },
        {
         "name": "Nombre_cetegoria_2021",
         "rawType": "object",
         "type": "string"
        },
        {
         "name": "Nombre_categoria_2004",
         "rawType": "object",
         "type": "string"
        }
       ],
       "ref": "50833e36-2b70-471c-80e1-5466a9a8f5e2",
       "rows": [
        [
         "1804",
         "44941",
         "Balearic Shearwater",
         "Puffinus mauretanicus",
         "2023",
         "15",
         "15/01/2023",
         "2023-01-15",
         "1",
         "Enero",
         "5",
         "454",
         "Procel·lariformes",
         "Baldriga balear",
         "Critically Endangered",
         "14.6",
         "12.3",
         "2.3",
         "206.0",
         "323.0",
         "57.0",
         "4.0",
         "16.0",
         "11.0",
         "617.0",
         "Pardela balear",
         "CR",
         "Sin datos",
         "CR",
         "Sin Variaciones",
         "CR",
         "5251.7",
         "49295.58",
         "4459.9800000000005",
         "20091.67",
         "0.0",
         "247.22",
         "135.56",
         "0.0",
         "79481.70999999999",
         "En Peligro Crítico",
         "En Peligro Crítico"
        ],
        [
         "1805",
         "44941",
         "Balearic-/Yelkouan Shearwater",
         "Puffinus sp.",
         "2023",
         "15",
         "15/01/2023",
         "2023-01-15",
         "1",
         "Enero",
         "3",
         "4646",
         "Procel·lariformes",
         "Baldriga balear/mediterranea",
         "Critically Endangered/Protected",
         "14.6",
         "12.3",
         "2.3",
         "206.0",
         "323.0",
         "57.0",
         "4.0",
         "16.0",
         "11.0",
         "617.0",
         "Pardela balear/mediterránea",
         "CR/EN",
         "Sin datos",
         "CR/VU",
         "Sin Variaciones/Desfavorable",
         "CR/VU",
         "5251.7",
         "49295.58",
         "4459.9800000000005",
         "20091.67",
         "0.0",
         "247.22",
         "135.56",
         "0.0",
         "79481.70999999999",
         "En Peligro Crítico/Vulnerable",
         "En Peligro Crítico/En Peligro"
        ],
        [
         "1806",
         "44941",
         "Cormorant",
         "Phalacrocorax carbo",
         "2023",
         "15",
         "15/01/2023",
         "2023-01-15",
         "1",
         "Enero",
         "1",
         "20",
         "Suliformes",
         "Corb marí gros",
         "No Evaluated",
         "14.6",
         "12.3",
         "2.3",
         "206.0",
         "323.0",
         "57.0",
         "4.0",
         "16.0",
         "11.0",
         "617.0",
         "Cormorán grande",
         "NE",
         "LC",
         "LC",
         "Favorable",
         "LC",
         "5251.7",
         "49295.58",
         "4459.9800000000005",
         "20091.67",
         "0.0",
         "247.22",
         "135.56",
         "0.0",
         "79481.70999999999",
         "Preocupación Menor",
         "No Evaluado"
        ],
        [
         "1807",
         "44941",
         "Gannet",
         "Morus bassanus",
         "2023",
         "15",
         "15/01/2023",
         "2023-01-15",
         "1",
         "Enero",
         "6",
         "19",
         "Suliformes",
         "Mascarell",
         "Protected",
         "14.6",
         "12.3",
         "2.3",
         "206.0",
         "323.0",
         "57.0",
         "4.0",
         "16.0",
         "11.0",
         "617.0",
         "Alcatraz atlántico",
         "NE",
         "LC",
         "Sin datos",
         "Favorable",
         "LC",
         "5251.7",
         "49295.58",
         "4459.9800000000005",
         "20091.67",
         "0.0",
         "247.22",
         "135.56",
         "0.0",
         "79481.70999999999",
         "Preocupación Menor",
         "No Evaluado"
        ],
        [
         "1808",
         "44941",
         "Great Skua",
         "Stercorarius skua",
         "2023",
         "15",
         "15/01/2023",
         "2023-01-15",
         "1",
         "Enero",
         "1",
         "194",
         "Charadriiformes",
         "Paràsit gros",
         "Protected",
         "14.6",
         "12.3",
         "2.3",
         "206.0",
         "323.0",
         "57.0",
         "4.0",
         "16.0",
         "11.0",
         "617.0",
         "Págalo grande",
         "NE",
         "NE",
         "Sin datos",
         "No Evaluada",
         "NE",
         "5251.7",
         "49295.58",
         "4459.9800000000005",
         "20091.67",
         "0.0",
         "247.22",
         "135.56",
         "0.0",
         "79481.70999999999",
         "No Evaluado",
         "No Evaluado"
        ],
        [
         "1809",
         "44941",
         "Kittiwake",
         "Rissa tridactyla",
         "2023",
         "15",
         "15/01/2023",
         "2023-01-15",
         "1",
         "Enero",
         "6",
         "211",
         "Charadriiformes",
         "Gavineta de tres dits",
         "Protected",
         "14.6",
         "12.3",
         "2.3",
         "206.0",
         "323.0",
         "57.0",
         "4.0",
         "16.0",
         "11.0",
         "617.0",
         "Gaviota tridáctila",
         "VU",
         "Sin datos",
         "CR",
         "Desfavorable",
         "CR",
         "5251.7",
         "49295.58",
         "4459.9800000000005",
         "20091.67",
         "0.0",
         "247.22",
         "135.56",
         "0.0",
         "79481.70999999999",
         "En Peligro Crítico",
         "Vulnerable"
        ],
        [
         "1810",
         "44941",
         "Mediterranean Gull",
         "Larus melanocephalus",
         "2023",
         "15",
         "15/01/2023",
         "2023-01-15",
         "1",
         "Enero",
         "1",
         "196",
         "Charadriiformes",
         "Gavina capnegra",
         "Protected",
         "14.6",
         "12.3",
         "2.3",
         "206.0",
         "323.0",
         "57.0",
         "4.0",
         "16.0",
         "11.0",
         "617.0",
         "Gaviota cabecinegra",
         "NE",
         "NT",
         "Sin datos",
         "Desfavorable",
         "NT",
         "5251.7",
         "49295.58",
         "4459.9800000000005",
         "20091.67",
         "0.0",
         "247.22",
         "135.56",
         "0.0",
         "79481.70999999999",
         "Casi Amenazado",
         "No Evaluado"
        ],
        [
         "1811",
         "44941",
         "Razorbill",
         "Alca torda",
         "2023",
         "15",
         "15/01/2023",
         "2023-01-15",
         "1",
         "Enero",
         "5",
         "226",
         "Charadriiformes",
         "Gavot",
         "Vulnerable",
         "14.6",
         "12.3",
         "2.3",
         "206.0",
         "323.0",
         "57.0",
         "4.0",
         "16.0",
         "11.0",
         "617.0",
         "Alca común",
         "NE",
         "DD",
         "Sin datos",
         "Datos Insuficientes",
         "DD",
         "5251.7",
         "49295.58",
         "4459.9800000000005",
         "20091.67",
         "0.0",
         "247.22",
         "135.56",
         "0.0",
         "79481.70999999999",
         "Datos Insuficientes",
         "No Evaluado"
        ],
        [
         "1812",
         "44941",
         "Sandwich Tern",
         "Thalasseus sandvicensis",
         "2023",
         "15",
         "15/01/2023",
         "2023-01-15",
         "1",
         "Enero",
         "6",
         "215",
         "Charadriiformes",
         "Xatrac becllarg",
         "Vulnerable",
         "14.6",
         "12.3",
         "2.3",
         "206.0",
         "323.0",
         "57.0",
         "4.0",
         "16.0",
         "11.0",
         "617.0",
         "Charrán patinegro",
         "NT",
         "Sin datos",
         "VU",
         "Desfavorable",
         "VU",
         "5251.7",
         "49295.58",
         "4459.9800000000005",
         "20091.67",
         "0.0",
         "247.22",
         "135.56",
         "0.0",
         "79481.70999999999",
         "Vulnerable",
         "Casi Amenazado"
        ],
        [
         "1813",
         "44941",
         "Shag",
         "Phalacrocorax aristotelis",
         "2023",
         "15",
         "15/01/2023",
         "2023-01-15",
         "1",
         "Enero",
         "2",
         "21",
         "Suliformes",
         "Corbmarí emplomallat mediterrani",
         "Vulnerable",
         "14.6",
         "12.3",
         "2.3",
         "206.0",
         "323.0",
         "57.0",
         "4.0",
         "16.0",
         "11.0",
         "617.0",
         "Cormorán moñudo",
         "VU",
         "Sin datos",
         "VU",
         "Sin Variaciones",
         "VU",
         "5251.7",
         "49295.58",
         "4459.9800000000005",
         "20091.67",
         "0.0",
         "247.22",
         "135.56",
         "0.0",
         "79481.70999999999",
         "Vulnerable",
         "Vulnerable"
        ],
        [
         "1814",
         "44941",
         "Yelkouan Shearwater",
         "Puffinus yelkouan",
         "2023",
         "15",
         "15/01/2023",
         "2023-01-15",
         "1",
         "Enero",
         "6",
         "495",
         "Procel·lariformes",
         "Baldriga mediterrània",
         "Vulnerable",
         "14.6",
         "12.3",
         "2.3",
         "206.0",
         "323.0",
         "57.0",
         "4.0",
         "16.0",
         "11.0",
         "617.0",
         "Pardela mediterránea",
         "NE",
         "Sin datos",
         "VU",
         "Desfavorable",
         "VU",
         "5251.7",
         "49295.58",
         "4459.9800000000005",
         "20091.67",
         "0.0",
         "247.22",
         "135.56",
         "0.0",
         "79481.70999999999",
         "Vulnerable",
         "No Evaluado"
        ],
        [
         "1815",
         "44941",
         "Yellow-legged Gull",
         "Larus michahellis",
         "2023",
         "15",
         "15/01/2023",
         "2023-01-15",
         "1",
         "Enero",
         "1",
         "445",
         "Charadriiformes",
         "Gavià argentat",
         "No Evaluated",
         "14.6",
         "12.3",
         "2.3",
         "206.0",
         "323.0",
         "57.0",
         "4.0",
         "16.0",
         "11.0",
         "617.0",
         "Gaviota patiamarilla",
         "NE",
         "Sin datos",
         "NT",
         "Desfavorable",
         "NT",
         "5251.7",
         "49295.58",
         "4459.9800000000005",
         "20091.67",
         "0.0",
         "247.22",
         "135.56",
         "0.0",
         "79481.70999999999",
         "Casi Amenazado",
         "No Evaluado"
        ],
        [
         "1816",
         "44968",
         "Balearic Shearwater",
         "Puffinus mauretanicus",
         "2023",
         "42",
         "11/02/2023",
         "2023-02-11",
         "2",
         "Febrero",
         "3",
         "454",
         "Procel·lariformes",
         "Baldriga balear",
         "Critically Endangered",
         "13.2",
         "12.39",
         "0.81",
         "206.0",
         "323.0",
         "57.0",
         "4.0",
         "16.0",
         "11.0",
         "617.0",
         "Pardela balear",
         "CR",
         "Sin datos",
         "CR",
         "Sin Variaciones",
         "CR",
         "5251.7",
         "49295.58",
         "4459.9800000000005",
         "20091.67",
         "0.0",
         "247.22",
         "135.56",
         "0.0",
         "79481.70999999999",
         "En Peligro Crítico",
         "En Peligro Crítico"
        ],
        [
         "1817",
         "44968",
         "Black-headed Gull",
         "Chroicocephalus ridibundus",
         "2023",
         "42",
         "11/02/2023",
         "2023-02-11",
         "2",
         "Febrero",
         "2",
         "200",
         "Charadriiformes",
         "Gavina riallera",
         "No Evaluated",
         "13.2",
         "12.39",
         "0.81",
         "206.0",
         "323.0",
         "57.0",
         "4.0",
         "16.0",
         "11.0",
         "617.0",
         "Gaviota reidora",
         "NE",
         "LC",
         "Sin datos",
         "Favorable",
         "LC",
         "5251.7",
         "49295.58",
         "4459.9800000000005",
         "20091.67",
         "0.0",
         "247.22",
         "135.56",
         "0.0",
         "79481.70999999999",
         "Preocupación Menor",
         "No Evaluado"
        ],
        [
         "1818",
         "44968",
         "Cormorant",
         "Phalacrocorax carbo",
         "2023",
         "42",
         "11/02/2023",
         "2023-02-11",
         "2",
         "Febrero",
         "2",
         "20",
         "Suliformes",
         "Corb marí gros",
         "No Evaluated",
         "13.2",
         "12.39",
         "0.81",
         "206.0",
         "323.0",
         "57.0",
         "4.0",
         "16.0",
         "11.0",
         "617.0",
         "Cormorán grande",
         "NE",
         "LC",
         "LC",
         "Favorable",
         "LC",
         "5251.7",
         "49295.58",
         "4459.9800000000005",
         "20091.67",
         "0.0",
         "247.22",
         "135.56",
         "0.0",
         "79481.70999999999",
         "Preocupación Menor",
         "No Evaluado"
        ],
        [
         "1819",
         "44968",
         "Gannet",
         "Morus bassanus",
         "2023",
         "42",
         "11/02/2023",
         "2023-02-11",
         "2",
         "Febrero",
         "6",
         "19",
         "Suliformes",
         "Mascarell",
         "Protected",
         "13.2",
         "12.39",
         "0.81",
         "206.0",
         "323.0",
         "57.0",
         "4.0",
         "16.0",
         "11.0",
         "617.0",
         "Alcatraz atlántico",
         "NE",
         "LC",
         "Sin datos",
         "Favorable",
         "LC",
         "5251.7",
         "49295.58",
         "4459.9800000000005",
         "20091.67",
         "0.0",
         "247.22",
         "135.56",
         "0.0",
         "79481.70999999999",
         "Preocupación Menor",
         "No Evaluado"
        ],
        [
         "1820",
         "44968",
         "Kittiwake",
         "Rissa tridactyla",
         "2023",
         "42",
         "11/02/2023",
         "2023-02-11",
         "2",
         "Febrero",
         "1",
         "211",
         "Charadriiformes",
         "Gavineta de tres dits",
         "Protected",
         "13.2",
         "12.39",
         "0.81",
         "206.0",
         "323.0",
         "57.0",
         "4.0",
         "16.0",
         "11.0",
         "617.0",
         "Gaviota tridáctila",
         "VU",
         "Sin datos",
         "CR",
         "Desfavorable",
         "CR",
         "5251.7",
         "49295.58",
         "4459.9800000000005",
         "20091.67",
         "0.0",
         "247.22",
         "135.56",
         "0.0",
         "79481.70999999999",
         "En Peligro Crítico",
         "Vulnerable"
        ],
        [
         "1821",
         "44968",
         "Mediterranean Gull",
         "Larus melanocephalus",
         "2023",
         "42",
         "11/02/2023",
         "2023-02-11",
         "2",
         "Febrero",
         "5",
         "196",
         "Charadriiformes",
         "Gavina capnegra",
         "Protected",
         "13.2",
         "12.39",
         "0.81",
         "206.0",
         "323.0",
         "57.0",
         "4.0",
         "16.0",
         "11.0",
         "617.0",
         "Gaviota cabecinegra",
         "NE",
         "NT",
         "Sin datos",
         "Desfavorable",
         "NT",
         "5251.7",
         "49295.58",
         "4459.9800000000005",
         "20091.67",
         "0.0",
         "247.22",
         "135.56",
         "0.0",
         "79481.70999999999",
         "Casi Amenazado",
         "No Evaluado"
        ],
        [
         "1822",
         "44968",
         "Puffin",
         "Fratercula arctica",
         "2023",
         "42",
         "11/02/2023",
         "2023-02-11",
         "2",
         "Febrero",
         "1",
         "229",
         "Charadriiformes",
         "Fraret",
         "Protected",
         "13.2",
         "12.39",
         "0.81",
         "206.0",
         "323.0",
         "57.0",
         "4.0",
         "16.0",
         "11.0",
         "617.0",
         "Frailecillo atlántico",
         "NE",
         "Sin datos",
         "DD",
         "Datos Insuficientes",
         "DD",
         "5251.7",
         "49295.58",
         "4459.9800000000005",
         "20091.67",
         "0.0",
         "247.22",
         "135.56",
         "0.0",
         "79481.70999999999",
         "Datos Insuficientes",
         "No Evaluado"
        ],
        [
         "1823",
         "44968",
         "Razorbill",
         "Alca torda",
         "2023",
         "42",
         "11/02/2023",
         "2023-02-11",
         "2",
         "Febrero",
         "5",
         "226",
         "Charadriiformes",
         "Gavot",
         "Vulnerable",
         "13.2",
         "12.39",
         "0.81",
         "206.0",
         "323.0",
         "57.0",
         "4.0",
         "16.0",
         "11.0",
         "617.0",
         "Alca común",
         "NE",
         "DD",
         "Sin datos",
         "Datos Insuficientes",
         "DD",
         "5251.7",
         "49295.58",
         "4459.9800000000005",
         "20091.67",
         "0.0",
         "247.22",
         "135.56",
         "0.0",
         "79481.70999999999",
         "Datos Insuficientes",
         "No Evaluado"
        ],
        [
         "1824",
         "44968",
         "Sandwich Tern",
         "Thalasseus sandvicensis",
         "2023",
         "42",
         "11/02/2023",
         "2023-02-11",
         "2",
         "Febrero",
         "5",
         "215",
         "Charadriiformes",
         "Xatrac becllarg",
         "Vulnerable",
         "13.2",
         "12.39",
         "0.81",
         "206.0",
         "323.0",
         "57.0",
         "4.0",
         "16.0",
         "11.0",
         "617.0",
         "Charrán patinegro",
         "NT",
         "Sin datos",
         "VU",
         "Desfavorable",
         "VU",
         "5251.7",
         "49295.58",
         "4459.9800000000005",
         "20091.67",
         "0.0",
         "247.22",
         "135.56",
         "0.0",
         "79481.70999999999",
         "Vulnerable",
         "Casi Amenazado"
        ],
        [
         "1825",
         "44968",
         "Shag",
         "Phalacrocorax aristotelis",
         "2023",
         "42",
         "11/02/2023",
         "2023-02-11",
         "2",
         "Febrero",
         "1",
         "21",
         "Suliformes",
         "Corbmarí emplomallat mediterrani",
         "Vulnerable",
         "13.2",
         "12.39",
         "0.81",
         "206.0",
         "323.0",
         "57.0",
         "4.0",
         "16.0",
         "11.0",
         "617.0",
         "Cormorán moñudo",
         "VU",
         "Sin datos",
         "VU",
         "Sin Variaciones",
         "VU",
         "5251.7",
         "49295.58",
         "4459.9800000000005",
         "20091.67",
         "0.0",
         "247.22",
         "135.56",
         "0.0",
         "79481.70999999999",
         "Vulnerable",
         "Vulnerable"
        ],
        [
         "1826",
         "44968",
         "Yelkouan Shearwater",
         "Puffinus yelkouan",
         "2023",
         "42",
         "11/02/2023",
         "2023-02-11",
         "2",
         "Febrero",
         "6",
         "495",
         "Procel·lariformes",
         "Baldriga mediterrània",
         "Vulnerable",
         "13.2",
         "12.39",
         "0.81",
         "206.0",
         "323.0",
         "57.0",
         "4.0",
         "16.0",
         "11.0",
         "617.0",
         "Pardela mediterránea",
         "NE",
         "Sin datos",
         "VU",
         "Desfavorable",
         "VU",
         "5251.7",
         "49295.58",
         "4459.9800000000005",
         "20091.67",
         "0.0",
         "247.22",
         "135.56",
         "0.0",
         "79481.70999999999",
         "Vulnerable",
         "No Evaluado"
        ],
        [
         "1827",
         "44968",
         "Yellow-legged Gull",
         "Larus michahellis",
         "2023",
         "42",
         "11/02/2023",
         "2023-02-11",
         "2",
         "Febrero",
         "1",
         "445",
         "Charadriiformes",
         "Gavià argentat",
         "No Evaluated",
         "13.2",
         "12.39",
         "0.81",
         "206.0",
         "323.0",
         "57.0",
         "4.0",
         "16.0",
         "11.0",
         "617.0",
         "Gaviota patiamarilla",
         "NE",
         "Sin datos",
         "NT",
         "Desfavorable",
         "NT",
         "5251.7",
         "49295.58",
         "4459.9800000000005",
         "20091.67",
         "0.0",
         "247.22",
         "135.56",
         "0.0",
         "79481.70999999999",
         "Casi Amenazado",
         "No Evaluado"
        ],
        [
         "1828",
         "44996",
         "Balearic-/Yelkouan Shearwater",
         "Puffinus sp.",
         "2023",
         "70",
         "11/03/2023",
         "2023-03-11",
         "3",
         "Marzo",
         "2",
         "4646",
         "Procel·lariformes",
         "Baldriga balear/mediterranea",
         "Critically Endangered/Protected",
         "13.6",
         "12.58",
         "1.02",
         "206.0",
         "323.0",
         "57.0",
         "4.0",
         "16.0",
         "11.0",
         "617.0",
         "Pardela balear/mediterránea",
         "CR/EN",
         "Sin datos",
         "CR/VU",
         "Sin Variaciones/Desfavorable",
         "CR/VU",
         "5251.7",
         "49295.58",
         "4459.9800000000005",
         "20091.67",
         "0.0",
         "247.22",
         "135.56",
         "0.0",
         "79481.70999999999",
         "En Peligro Crítico/Vulnerable",
         "En Peligro Crítico/En Peligro"
        ],
        [
         "1829",
         "44996",
         "Black-headed Gull",
         "Chroicocephalus ridibundus",
         "2023",
         "70",
         "11/03/2023",
         "2023-03-11",
         "3",
         "Marzo",
         "1",
         "200",
         "Charadriiformes",
         "Gavina riallera",
         "No Evaluated",
         "13.6",
         "12.58",
         "1.02",
         "206.0",
         "323.0",
         "57.0",
         "4.0",
         "16.0",
         "11.0",
         "617.0",
         "Gaviota reidora",
         "NE",
         "LC",
         "Sin datos",
         "Favorable",
         "LC",
         "5251.7",
         "49295.58",
         "4459.9800000000005",
         "20091.67",
         "0.0",
         "247.22",
         "135.56",
         "0.0",
         "79481.70999999999",
         "Preocupación Menor",
         "No Evaluado"
        ],
        [
         "1830",
         "44996",
         "Common Tern",
         "Sterna hirundo",
         "2023",
         "70",
         "11/03/2023",
         "2023-03-11",
         "3",
         "Marzo",
         "1",
         "217",
         "Charadriiformes",
         "Xatrac comú",
         "Vulnerable",
         "13.6",
         "12.58",
         "1.02",
         "206.0",
         "323.0",
         "57.0",
         "4.0",
         "16.0",
         "11.0",
         "617.0",
         "Charrán común",
         "NT",
         "Sin datos",
         "NT",
         "Sin Variaciones",
         "NT",
         "5251.7",
         "49295.58",
         "4459.9800000000005",
         "20091.67",
         "0.0",
         "247.22",
         "135.56",
         "0.0",
         "79481.70999999999",
         "Casi Amenazado",
         "Casi Amenazado"
        ],
        [
         "1831",
         "44996",
         "Cormorant",
         "Phalacrocorax carbo",
         "2023",
         "70",
         "11/03/2023",
         "2023-03-11",
         "3",
         "Marzo",
         "3",
         "20",
         "Suliformes",
         "Corb marí gros",
         "No Evaluated",
         "13.6",
         "12.58",
         "1.02",
         "206.0",
         "323.0",
         "57.0",
         "4.0",
         "16.0",
         "11.0",
         "617.0",
         "Cormorán grande",
         "NE",
         "LC",
         "LC",
         "Favorable",
         "LC",
         "5251.7",
         "49295.58",
         "4459.9800000000005",
         "20091.67",
         "0.0",
         "247.22",
         "135.56",
         "0.0",
         "79481.70999999999",
         "Preocupación Menor",
         "No Evaluado"
        ],
        [
         "1832",
         "44996",
         "Gannet",
         "Morus bassanus",
         "2023",
         "70",
         "11/03/2023",
         "2023-03-11",
         "3",
         "Marzo",
         "2",
         "19",
         "Suliformes",
         "Mascarell",
         "Protected",
         "13.6",
         "12.58",
         "1.02",
         "206.0",
         "323.0",
         "57.0",
         "4.0",
         "16.0",
         "11.0",
         "617.0",
         "Alcatraz atlántico",
         "NE",
         "LC",
         "Sin datos",
         "Favorable",
         "LC",
         "5251.7",
         "49295.58",
         "4459.9800000000005",
         "20091.67",
         "0.0",
         "247.22",
         "135.56",
         "0.0",
         "79481.70999999999",
         "Preocupación Menor",
         "No Evaluado"
        ],
        [
         "1833",
         "44996",
         "Kittiwake",
         "Rissa tridactyla",
         "2023",
         "70",
         "11/03/2023",
         "2023-03-11",
         "3",
         "Marzo",
         "9",
         "211",
         "Charadriiformes",
         "Gavineta de tres dits",
         "Protected",
         "13.6",
         "12.58",
         "1.02",
         "206.0",
         "323.0",
         "57.0",
         "4.0",
         "16.0",
         "11.0",
         "617.0",
         "Gaviota tridáctila",
         "VU",
         "Sin datos",
         "CR",
         "Desfavorable",
         "CR",
         "5251.7",
         "49295.58",
         "4459.9800000000005",
         "20091.67",
         "0.0",
         "247.22",
         "135.56",
         "0.0",
         "79481.70999999999",
         "En Peligro Crítico",
         "Vulnerable"
        ],
        [
         "1834",
         "44996",
         "Lesser Black-backed Gull",
         "Larus fuscus",
         "2023",
         "70",
         "11/03/2023",
         "2023-03-11",
         "3",
         "Marzo",
         "4",
         "203",
         "Charadriiformes",
         "Gavià fosc",
         "No Evaluated",
         "13.6",
         "12.58",
         "1.02",
         "206.0",
         "323.0",
         "57.0",
         "4.0",
         "16.0",
         "11.0",
         "617.0",
         "Gaviota sombría",
         "LC",
         "LC",
         "LC",
         "Sin Variaciones",
         "LC",
         "5251.7",
         "49295.58",
         "4459.9800000000005",
         "20091.67",
         "0.0",
         "247.22",
         "135.56",
         "0.0",
         "79481.70999999999",
         "Preocupación Menor",
         "Preocupación Menor"
        ],
        [
         "1835",
         "44996",
         "Little Gull",
         "Hydrocoloeus minutus",
         "2023",
         "70",
         "11/03/2023",
         "2023-03-11",
         "3",
         "Marzo",
         "1",
         "197",
         "Charadriiformes",
         "Gavina menuda",
         "Protected",
         "13.6",
         "12.58",
         "1.02",
         "206.0",
         "323.0",
         "57.0",
         "4.0",
         "16.0",
         "11.0",
         "617.0",
         "Gaviota enana",
         "NE",
         "NE",
         "Sin datos",
         "No Evaluada",
         "NE",
         "5251.7",
         "49295.58",
         "4459.9800000000005",
         "20091.67",
         "0.0",
         "247.22",
         "135.56",
         "0.0",
         "79481.70999999999",
         "No Evaluado",
         "No Evaluado"
        ],
        [
         "1836",
         "44996",
         "Mediterranean Gull",
         "Larus melanocephalus",
         "2023",
         "70",
         "11/03/2023",
         "2023-03-11",
         "3",
         "Marzo",
         "2",
         "196",
         "Charadriiformes",
         "Gavina capnegra",
         "Protected",
         "13.6",
         "12.58",
         "1.02",
         "206.0",
         "323.0",
         "57.0",
         "4.0",
         "16.0",
         "11.0",
         "617.0",
         "Gaviota cabecinegra",
         "NE",
         "NT",
         "Sin datos",
         "Desfavorable",
         "NT",
         "5251.7",
         "49295.58",
         "4459.9800000000005",
         "20091.67",
         "0.0",
         "247.22",
         "135.56",
         "0.0",
         "79481.70999999999",
         "Casi Amenazado",
         "No Evaluado"
        ],
        [
         "1837",
         "44996",
         "Razorbill",
         "Alca torda",
         "2023",
         "70",
         "11/03/2023",
         "2023-03-11",
         "3",
         "Marzo",
         "1",
         "226",
         "Charadriiformes",
         "Gavot",
         "Vulnerable",
         "13.6",
         "12.58",
         "1.02",
         "206.0",
         "323.0",
         "57.0",
         "4.0",
         "16.0",
         "11.0",
         "617.0",
         "Alca común",
         "NE",
         "DD",
         "Sin datos",
         "Datos Insuficientes",
         "DD",
         "5251.7",
         "49295.58",
         "4459.9800000000005",
         "20091.67",
         "0.0",
         "247.22",
         "135.56",
         "0.0",
         "79481.70999999999",
         "Datos Insuficientes",
         "No Evaluado"
        ],
        [
         "1838",
         "44996",
         "Sandwich Tern",
         "Thalasseus sandvicensis",
         "2023",
         "70",
         "11/03/2023",
         "2023-03-11",
         "3",
         "Marzo",
         "1",
         "215",
         "Charadriiformes",
         "Xatrac becllarg",
         "Vulnerable",
         "13.6",
         "12.58",
         "1.02",
         "206.0",
         "323.0",
         "57.0",
         "4.0",
         "16.0",
         "11.0",
         "617.0",
         "Charrán patinegro",
         "NT",
         "Sin datos",
         "VU",
         "Desfavorable",
         "VU",
         "5251.7",
         "49295.58",
         "4459.9800000000005",
         "20091.67",
         "0.0",
         "247.22",
         "135.56",
         "0.0",
         "79481.70999999999",
         "Vulnerable",
         "Casi Amenazado"
        ],
        [
         "1839",
         "44996",
         "Shag",
         "Phalacrocorax aristotelis",
         "2023",
         "70",
         "11/03/2023",
         "2023-03-11",
         "3",
         "Marzo",
         "2",
         "21",
         "Suliformes",
         "Corbmarí emplomallat mediterrani",
         "Vulnerable",
         "13.6",
         "12.58",
         "1.02",
         "206.0",
         "323.0",
         "57.0",
         "4.0",
         "16.0",
         "11.0",
         "617.0",
         "Cormorán moñudo",
         "VU",
         "Sin datos",
         "VU",
         "Sin Variaciones",
         "VU",
         "5251.7",
         "49295.58",
         "4459.9800000000005",
         "20091.67",
         "0.0",
         "247.22",
         "135.56",
         "0.0",
         "79481.70999999999",
         "Vulnerable",
         "Vulnerable"
        ],
        [
         "1840",
         "44996",
         "Yelkouan Shearwater",
         "Puffinus yelkouan",
         "2023",
         "70",
         "11/03/2023",
         "2023-03-11",
         "3",
         "Marzo",
         "6",
         "495",
         "Procel·lariformes",
         "Baldriga mediterrània",
         "Vulnerable",
         "13.6",
         "12.58",
         "1.02",
         "206.0",
         "323.0",
         "57.0",
         "4.0",
         "16.0",
         "11.0",
         "617.0",
         "Pardela mediterránea",
         "NE",
         "Sin datos",
         "VU",
         "Desfavorable",
         "VU",
         "5251.7",
         "49295.58",
         "4459.9800000000005",
         "20091.67",
         "0.0",
         "247.22",
         "135.56",
         "0.0",
         "79481.70999999999",
         "Vulnerable",
         "No Evaluado"
        ],
        [
         "1841",
         "44996",
         "Yellow-legged Gull",
         "Larus michahellis",
         "2023",
         "70",
         "11/03/2023",
         "2023-03-11",
         "3",
         "Marzo",
         "1",
         "445",
         "Charadriiformes",
         "Gavià argentat",
         "No Evaluated",
         "13.6",
         "12.58",
         "1.02",
         "206.0",
         "323.0",
         "57.0",
         "4.0",
         "16.0",
         "11.0",
         "617.0",
         "Gaviota patiamarilla",
         "NE",
         "Sin datos",
         "NT",
         "Desfavorable",
         "NT",
         "5251.7",
         "49295.58",
         "4459.9800000000005",
         "20091.67",
         "0.0",
         "247.22",
         "135.56",
         "0.0",
         "79481.70999999999",
         "Casi Amenazado",
         "No Evaluado"
        ],
        [
         "1842",
         "45020",
         "Arctic Skua",
         "Stercorarius parasiticus",
         "2023",
         "94",
         "04/04/2023",
         "2023-04-04",
         "4",
         "Abril",
         "1",
         "192",
         "Charadriiformes",
         "Paràsit cuapunxegut",
         "Protected",
         "14.4",
         "13.34",
         "1.06",
         "206.0",
         "323.0",
         "57.0",
         "4.0",
         "16.0",
         "11.0",
         "617.0",
         "Págalo parásito",
         "NE",
         "NE",
         "Sin datos",
         "No Evaluada",
         "NE",
         "5251.7",
         "49295.58",
         "4459.9800000000005",
         "20091.67",
         "0.0",
         "247.22",
         "135.56",
         "0.0",
         "79481.70999999999",
         "No Evaluado",
         "No Evaluado"
        ],
        [
         "1843",
         "45020",
         "Balearic Shearwater",
         "Puffinus mauretanicus",
         "2023",
         "94",
         "04/04/2023",
         "2023-04-04",
         "4",
         "Abril",
         "2",
         "454",
         "Procel·lariformes",
         "Baldriga balear",
         "Critically Endangered",
         "14.4",
         "13.34",
         "1.06",
         "206.0",
         "323.0",
         "57.0",
         "4.0",
         "16.0",
         "11.0",
         "617.0",
         "Pardela balear",
         "CR",
         "Sin datos",
         "CR",
         "Sin Variaciones",
         "CR",
         "5251.7",
         "49295.58",
         "4459.9800000000005",
         "20091.67",
         "0.0",
         "247.22",
         "135.56",
         "0.0",
         "79481.70999999999",
         "En Peligro Crítico",
         "En Peligro Crítico"
        ],
        [
         "1844",
         "45020",
         "Black-headed Gull",
         "Chroicocephalus ridibundus",
         "2023",
         "94",
         "04/04/2023",
         "2023-04-04",
         "4",
         "Abril",
         "6",
         "200",
         "Charadriiformes",
         "Gavina riallera",
         "No Evaluated",
         "14.4",
         "13.34",
         "1.06",
         "206.0",
         "323.0",
         "57.0",
         "4.0",
         "16.0",
         "11.0",
         "617.0",
         "Gaviota reidora",
         "NE",
         "LC",
         "Sin datos",
         "Favorable",
         "LC",
         "5251.7",
         "49295.58",
         "4459.9800000000005",
         "20091.67",
         "0.0",
         "247.22",
         "135.56",
         "0.0",
         "79481.70999999999",
         "Preocupación Menor",
         "No Evaluado"
        ],
        [
         "1845",
         "45020",
         "Cormorant",
         "Phalacrocorax carbo",
         "2023",
         "94",
         "04/04/2023",
         "2023-04-04",
         "4",
         "Abril",
         "1",
         "20",
         "Suliformes",
         "Corb marí gros",
         "No Evaluated",
         "14.4",
         "13.34",
         "1.06",
         "206.0",
         "323.0",
         "57.0",
         "4.0",
         "16.0",
         "11.0",
         "617.0",
         "Cormorán grande",
         "NE",
         "LC",
         "LC",
         "Favorable",
         "LC",
         "5251.7",
         "49295.58",
         "4459.9800000000005",
         "20091.67",
         "0.0",
         "247.22",
         "135.56",
         "0.0",
         "79481.70999999999",
         "Preocupación Menor",
         "No Evaluado"
        ],
        [
         "1846",
         "45020",
         "Gannet",
         "Morus bassanus",
         "2023",
         "94",
         "04/04/2023",
         "2023-04-04",
         "4",
         "Abril",
         "2",
         "19",
         "Suliformes",
         "Mascarell",
         "Protected",
         "14.4",
         "13.34",
         "1.06",
         "206.0",
         "323.0",
         "57.0",
         "4.0",
         "16.0",
         "11.0",
         "617.0",
         "Alcatraz atlántico",
         "NE",
         "LC",
         "Sin datos",
         "Favorable",
         "LC",
         "5251.7",
         "49295.58",
         "4459.9800000000005",
         "20091.67",
         "0.0",
         "247.22",
         "135.56",
         "0.0",
         "79481.70999999999",
         "Preocupación Menor",
         "No Evaluado"
        ],
        [
         "1847",
         "45020",
         "Kittiwake",
         "Rissa tridactyla",
         "2023",
         "94",
         "04/04/2023",
         "2023-04-04",
         "4",
         "Abril",
         "8",
         "211",
         "Charadriiformes",
         "Gavineta de tres dits",
         "Protected",
         "14.4",
         "13.34",
         "1.06",
         "206.0",
         "323.0",
         "57.0",
         "4.0",
         "16.0",
         "11.0",
         "617.0",
         "Gaviota tridáctila",
         "VU",
         "Sin datos",
         "CR",
         "Desfavorable",
         "CR",
         "5251.7",
         "49295.58",
         "4459.9800000000005",
         "20091.67",
         "0.0",
         "247.22",
         "135.56",
         "0.0",
         "79481.70999999999",
         "En Peligro Crítico",
         "Vulnerable"
        ],
        [
         "1848",
         "45020",
         "Lesser Black-backed Gull",
         "Larus fuscus",
         "2023",
         "94",
         "04/04/2023",
         "2023-04-04",
         "4",
         "Abril",
         "1",
         "203",
         "Charadriiformes",
         "Gavià fosc",
         "No Evaluated",
         "14.4",
         "13.34",
         "1.06",
         "206.0",
         "323.0",
         "57.0",
         "4.0",
         "16.0",
         "11.0",
         "617.0",
         "Gaviota sombría",
         "LC",
         "LC",
         "LC",
         "Sin Variaciones",
         "LC",
         "5251.7",
         "49295.58",
         "4459.9800000000005",
         "20091.67",
         "0.0",
         "247.22",
         "135.56",
         "0.0",
         "79481.70999999999",
         "Preocupación Menor",
         "Preocupación Menor"
        ],
        [
         "1849",
         "45020",
         "Little Gull",
         "Hydrocoloeus minutus",
         "2023",
         "94",
         "04/04/2023",
         "2023-04-04",
         "4",
         "Abril",
         "4",
         "197",
         "Charadriiformes",
         "Gavina menuda",
         "Protected",
         "14.4",
         "13.34",
         "1.06",
         "206.0",
         "323.0",
         "57.0",
         "4.0",
         "16.0",
         "11.0",
         "617.0",
         "Gaviota enana",
         "NE",
         "NE",
         "Sin datos",
         "No Evaluada",
         "NE",
         "5251.7",
         "49295.58",
         "4459.9800000000005",
         "20091.67",
         "0.0",
         "247.22",
         "135.56",
         "0.0",
         "79481.70999999999",
         "No Evaluado",
         "No Evaluado"
        ],
        [
         "1850",
         "45020",
         "Mediterranean Gull",
         "Larus melanocephalus",
         "2023",
         "94",
         "04/04/2023",
         "2023-04-04",
         "4",
         "Abril",
         "6",
         "196",
         "Charadriiformes",
         "Gavina capnegra",
         "Protected",
         "14.4",
         "13.34",
         "1.06",
         "206.0",
         "323.0",
         "57.0",
         "4.0",
         "16.0",
         "11.0",
         "617.0",
         "Gaviota cabecinegra",
         "NE",
         "NT",
         "Sin datos",
         "Desfavorable",
         "NT",
         "5251.7",
         "49295.58",
         "4459.9800000000005",
         "20091.67",
         "0.0",
         "247.22",
         "135.56",
         "0.0",
         "79481.70999999999",
         "Casi Amenazado",
         "No Evaluado"
        ],
        [
         "1851",
         "45020",
         "Puffin",
         "Fratercula arctica",
         "2023",
         "94",
         "04/04/2023",
         "2023-04-04",
         "4",
         "Abril",
         "4",
         "229",
         "Charadriiformes",
         "Fraret",
         "Protected",
         "14.4",
         "13.34",
         "1.06",
         "206.0",
         "323.0",
         "57.0",
         "4.0",
         "16.0",
         "11.0",
         "617.0",
         "Frailecillo atlántico",
         "NE",
         "Sin datos",
         "DD",
         "Datos Insuficientes",
         "DD",
         "5251.7",
         "49295.58",
         "4459.9800000000005",
         "20091.67",
         "0.0",
         "247.22",
         "135.56",
         "0.0",
         "79481.70999999999",
         "Datos Insuficientes",
         "No Evaluado"
        ],
        [
         "1852",
         "45020",
         "Razorbill",
         "Alca torda",
         "2023",
         "94",
         "04/04/2023",
         "2023-04-04",
         "4",
         "Abril",
         "6",
         "226",
         "Charadriiformes",
         "Gavot",
         "Vulnerable",
         "14.4",
         "13.34",
         "1.06",
         "206.0",
         "323.0",
         "57.0",
         "4.0",
         "16.0",
         "11.0",
         "617.0",
         "Alca común",
         "NE",
         "DD",
         "Sin datos",
         "Datos Insuficientes",
         "DD",
         "5251.7",
         "49295.58",
         "4459.9800000000005",
         "20091.67",
         "0.0",
         "247.22",
         "135.56",
         "0.0",
         "79481.70999999999",
         "Datos Insuficientes",
         "No Evaluado"
        ],
        [
         "1853",
         "45020",
         "Sandwich Tern",
         "Thalasseus sandvicensis",
         "2023",
         "94",
         "04/04/2023",
         "2023-04-04",
         "4",
         "Abril",
         "1",
         "215",
         "Charadriiformes",
         "Xatrac becllarg",
         "Vulnerable",
         "14.4",
         "13.34",
         "1.06",
         "206.0",
         "323.0",
         "57.0",
         "4.0",
         "16.0",
         "11.0",
         "617.0",
         "Charrán patinegro",
         "NT",
         "Sin datos",
         "VU",
         "Desfavorable",
         "VU",
         "5251.7",
         "49295.58",
         "4459.9800000000005",
         "20091.67",
         "0.0",
         "247.22",
         "135.56",
         "0.0",
         "79481.70999999999",
         "Vulnerable",
         "Casi Amenazado"
        ]
       ],
       "shape": {
        "columns": 41,
        "rows": 126
       }
      },
      "text/html": [
       "<div>\n",
       "<style scoped>\n",
       "    .dataframe tbody tr th:only-of-type {\n",
       "        vertical-align: middle;\n",
       "    }\n",
       "\n",
       "    .dataframe tbody tr th {\n",
       "        vertical-align: top;\n",
       "    }\n",
       "\n",
       "    .dataframe thead th {\n",
       "        text-align: right;\n",
       "    }\n",
       "</style>\n",
       "<table border=\"1\" class=\"dataframe\">\n",
       "  <thead>\n",
       "    <tr style=\"text-align: right;\">\n",
       "      <th></th>\n",
       "      <th>date</th>\n",
       "      <th>speciesname</th>\n",
       "      <th>Scientific name</th>\n",
       "      <th>year</th>\n",
       "      <th>yday</th>\n",
       "      <th>fecha</th>\n",
       "      <th>fecha_formateada</th>\n",
       "      <th>month</th>\n",
       "      <th>nombre_mes</th>\n",
       "      <th>count_aves</th>\n",
       "      <th>...</th>\n",
       "      <th>MPA with a national statute</th>\n",
       "      <th>Marine Natura 2000 proposed site</th>\n",
       "      <th>Marine Natura 2000 site</th>\n",
       "      <th>Ramsar site</th>\n",
       "      <th>SPAMI</th>\n",
       "      <th>World heritage site</th>\n",
       "      <th>calculo</th>\n",
       "      <th>Total_MPAs</th>\n",
       "      <th>Nombre_cetegoria_2021</th>\n",
       "      <th>Nombre_categoria_2004</th>\n",
       "    </tr>\n",
       "  </thead>\n",
       "  <tbody>\n",
       "    <tr>\n",
       "      <th>1804</th>\n",
       "      <td>44941</td>\n",
       "      <td>Balearic Shearwater</td>\n",
       "      <td>Puffinus mauretanicus</td>\n",
       "      <td>2023</td>\n",
       "      <td>15</td>\n",
       "      <td>15/01/2023</td>\n",
       "      <td>2023-01-15</td>\n",
       "      <td>1</td>\n",
       "      <td>Enero</td>\n",
       "      <td>5</td>\n",
       "      <td>...</td>\n",
       "      <td>49295.58</td>\n",
       "      <td>4459.98</td>\n",
       "      <td>20091.67</td>\n",
       "      <td>0.0</td>\n",
       "      <td>247.22</td>\n",
       "      <td>135.56</td>\n",
       "      <td>0.0</td>\n",
       "      <td>79481.71</td>\n",
       "      <td>En Peligro Crítico</td>\n",
       "      <td>En Peligro Crítico</td>\n",
       "    </tr>\n",
       "    <tr>\n",
       "      <th>1805</th>\n",
       "      <td>44941</td>\n",
       "      <td>Balearic-/Yelkouan Shearwater</td>\n",
       "      <td>Puffinus sp.</td>\n",
       "      <td>2023</td>\n",
       "      <td>15</td>\n",
       "      <td>15/01/2023</td>\n",
       "      <td>2023-01-15</td>\n",
       "      <td>1</td>\n",
       "      <td>Enero</td>\n",
       "      <td>3</td>\n",
       "      <td>...</td>\n",
       "      <td>49295.58</td>\n",
       "      <td>4459.98</td>\n",
       "      <td>20091.67</td>\n",
       "      <td>0.0</td>\n",
       "      <td>247.22</td>\n",
       "      <td>135.56</td>\n",
       "      <td>0.0</td>\n",
       "      <td>79481.71</td>\n",
       "      <td>En Peligro Crítico/Vulnerable</td>\n",
       "      <td>En Peligro Crítico/En Peligro</td>\n",
       "    </tr>\n",
       "    <tr>\n",
       "      <th>1806</th>\n",
       "      <td>44941</td>\n",
       "      <td>Cormorant</td>\n",
       "      <td>Phalacrocorax carbo</td>\n",
       "      <td>2023</td>\n",
       "      <td>15</td>\n",
       "      <td>15/01/2023</td>\n",
       "      <td>2023-01-15</td>\n",
       "      <td>1</td>\n",
       "      <td>Enero</td>\n",
       "      <td>1</td>\n",
       "      <td>...</td>\n",
       "      <td>49295.58</td>\n",
       "      <td>4459.98</td>\n",
       "      <td>20091.67</td>\n",
       "      <td>0.0</td>\n",
       "      <td>247.22</td>\n",
       "      <td>135.56</td>\n",
       "      <td>0.0</td>\n",
       "      <td>79481.71</td>\n",
       "      <td>Preocupación Menor</td>\n",
       "      <td>No Evaluado</td>\n",
       "    </tr>\n",
       "    <tr>\n",
       "      <th>1807</th>\n",
       "      <td>44941</td>\n",
       "      <td>Gannet</td>\n",
       "      <td>Morus bassanus</td>\n",
       "      <td>2023</td>\n",
       "      <td>15</td>\n",
       "      <td>15/01/2023</td>\n",
       "      <td>2023-01-15</td>\n",
       "      <td>1</td>\n",
       "      <td>Enero</td>\n",
       "      <td>6</td>\n",
       "      <td>...</td>\n",
       "      <td>49295.58</td>\n",
       "      <td>4459.98</td>\n",
       "      <td>20091.67</td>\n",
       "      <td>0.0</td>\n",
       "      <td>247.22</td>\n",
       "      <td>135.56</td>\n",
       "      <td>0.0</td>\n",
       "      <td>79481.71</td>\n",
       "      <td>Preocupación Menor</td>\n",
       "      <td>No Evaluado</td>\n",
       "    </tr>\n",
       "    <tr>\n",
       "      <th>1808</th>\n",
       "      <td>44941</td>\n",
       "      <td>Great Skua</td>\n",
       "      <td>Stercorarius skua</td>\n",
       "      <td>2023</td>\n",
       "      <td>15</td>\n",
       "      <td>15/01/2023</td>\n",
       "      <td>2023-01-15</td>\n",
       "      <td>1</td>\n",
       "      <td>Enero</td>\n",
       "      <td>1</td>\n",
       "      <td>...</td>\n",
       "      <td>49295.58</td>\n",
       "      <td>4459.98</td>\n",
       "      <td>20091.67</td>\n",
       "      <td>0.0</td>\n",
       "      <td>247.22</td>\n",
       "      <td>135.56</td>\n",
       "      <td>0.0</td>\n",
       "      <td>79481.71</td>\n",
       "      <td>No Evaluado</td>\n",
       "      <td>No Evaluado</td>\n",
       "    </tr>\n",
       "    <tr>\n",
       "      <th>...</th>\n",
       "      <td>...</td>\n",
       "      <td>...</td>\n",
       "      <td>...</td>\n",
       "      <td>...</td>\n",
       "      <td>...</td>\n",
       "      <td>...</td>\n",
       "      <td>...</td>\n",
       "      <td>...</td>\n",
       "      <td>...</td>\n",
       "      <td>...</td>\n",
       "      <td>...</td>\n",
       "      <td>...</td>\n",
       "      <td>...</td>\n",
       "      <td>...</td>\n",
       "      <td>...</td>\n",
       "      <td>...</td>\n",
       "      <td>...</td>\n",
       "      <td>...</td>\n",
       "      <td>...</td>\n",
       "      <td>...</td>\n",
       "      <td>...</td>\n",
       "    </tr>\n",
       "    <tr>\n",
       "      <th>1925</th>\n",
       "      <td>45262</td>\n",
       "      <td>Razorbill</td>\n",
       "      <td>Alca torda</td>\n",
       "      <td>2023</td>\n",
       "      <td>336</td>\n",
       "      <td>02/12/2023</td>\n",
       "      <td>2023-12-02</td>\n",
       "      <td>12</td>\n",
       "      <td>Diciembre</td>\n",
       "      <td>12</td>\n",
       "      <td>...</td>\n",
       "      <td>49295.58</td>\n",
       "      <td>4459.98</td>\n",
       "      <td>20091.67</td>\n",
       "      <td>0.0</td>\n",
       "      <td>247.22</td>\n",
       "      <td>135.56</td>\n",
       "      <td>0.0</td>\n",
       "      <td>79481.71</td>\n",
       "      <td>Datos Insuficientes</td>\n",
       "      <td>No Evaluado</td>\n",
       "    </tr>\n",
       "    <tr>\n",
       "      <th>1926</th>\n",
       "      <td>45262</td>\n",
       "      <td>Sandwich Tern</td>\n",
       "      <td>Thalasseus sandvicensis</td>\n",
       "      <td>2023</td>\n",
       "      <td>336</td>\n",
       "      <td>02/12/2023</td>\n",
       "      <td>2023-12-02</td>\n",
       "      <td>12</td>\n",
       "      <td>Diciembre</td>\n",
       "      <td>1</td>\n",
       "      <td>...</td>\n",
       "      <td>49295.58</td>\n",
       "      <td>4459.98</td>\n",
       "      <td>20091.67</td>\n",
       "      <td>0.0</td>\n",
       "      <td>247.22</td>\n",
       "      <td>135.56</td>\n",
       "      <td>0.0</td>\n",
       "      <td>79481.71</td>\n",
       "      <td>Vulnerable</td>\n",
       "      <td>Casi Amenazado</td>\n",
       "    </tr>\n",
       "    <tr>\n",
       "      <th>1927</th>\n",
       "      <td>45262</td>\n",
       "      <td>Shag</td>\n",
       "      <td>Phalacrocorax aristotelis</td>\n",
       "      <td>2023</td>\n",
       "      <td>336</td>\n",
       "      <td>02/12/2023</td>\n",
       "      <td>2023-12-02</td>\n",
       "      <td>12</td>\n",
       "      <td>Diciembre</td>\n",
       "      <td>9</td>\n",
       "      <td>...</td>\n",
       "      <td>49295.58</td>\n",
       "      <td>4459.98</td>\n",
       "      <td>20091.67</td>\n",
       "      <td>0.0</td>\n",
       "      <td>247.22</td>\n",
       "      <td>135.56</td>\n",
       "      <td>0.0</td>\n",
       "      <td>79481.71</td>\n",
       "      <td>Vulnerable</td>\n",
       "      <td>Vulnerable</td>\n",
       "    </tr>\n",
       "    <tr>\n",
       "      <th>1928</th>\n",
       "      <td>45262</td>\n",
       "      <td>Yelkouan Shearwater</td>\n",
       "      <td>Puffinus yelkouan</td>\n",
       "      <td>2023</td>\n",
       "      <td>336</td>\n",
       "      <td>02/12/2023</td>\n",
       "      <td>2023-12-02</td>\n",
       "      <td>12</td>\n",
       "      <td>Diciembre</td>\n",
       "      <td>58</td>\n",
       "      <td>...</td>\n",
       "      <td>49295.58</td>\n",
       "      <td>4459.98</td>\n",
       "      <td>20091.67</td>\n",
       "      <td>0.0</td>\n",
       "      <td>247.22</td>\n",
       "      <td>135.56</td>\n",
       "      <td>0.0</td>\n",
       "      <td>79481.71</td>\n",
       "      <td>Vulnerable</td>\n",
       "      <td>No Evaluado</td>\n",
       "    </tr>\n",
       "    <tr>\n",
       "      <th>1929</th>\n",
       "      <td>45262</td>\n",
       "      <td>Yellow-legged Gull</td>\n",
       "      <td>Larus michahellis</td>\n",
       "      <td>2023</td>\n",
       "      <td>336</td>\n",
       "      <td>02/12/2023</td>\n",
       "      <td>2023-12-02</td>\n",
       "      <td>12</td>\n",
       "      <td>Diciembre</td>\n",
       "      <td>1</td>\n",
       "      <td>...</td>\n",
       "      <td>49295.58</td>\n",
       "      <td>4459.98</td>\n",
       "      <td>20091.67</td>\n",
       "      <td>0.0</td>\n",
       "      <td>247.22</td>\n",
       "      <td>135.56</td>\n",
       "      <td>0.0</td>\n",
       "      <td>79481.71</td>\n",
       "      <td>Casi Amenazado</td>\n",
       "      <td>No Evaluado</td>\n",
       "    </tr>\n",
       "  </tbody>\n",
       "</table>\n",
       "<p>126 rows × 41 columns</p>\n",
       "</div>"
      ],
      "text/plain": [
       "       date                    speciesname            Scientific name  year  \\\n",
       "1804  44941            Balearic Shearwater      Puffinus mauretanicus  2023   \n",
       "1805  44941  Balearic-/Yelkouan Shearwater               Puffinus sp.  2023   \n",
       "1806  44941                      Cormorant        Phalacrocorax carbo  2023   \n",
       "1807  44941                         Gannet             Morus bassanus  2023   \n",
       "1808  44941                     Great Skua          Stercorarius skua  2023   \n",
       "...     ...                            ...                        ...   ...   \n",
       "1925  45262                      Razorbill                 Alca torda  2023   \n",
       "1926  45262                  Sandwich Tern    Thalasseus sandvicensis  2023   \n",
       "1927  45262                           Shag  Phalacrocorax aristotelis  2023   \n",
       "1928  45262            Yelkouan Shearwater          Puffinus yelkouan  2023   \n",
       "1929  45262             Yellow-legged Gull          Larus michahellis  2023   \n",
       "\n",
       "      yday       fecha fecha_formateada  month nombre_mes  count_aves  ...  \\\n",
       "1804    15  15/01/2023       2023-01-15      1      Enero           5  ...   \n",
       "1805    15  15/01/2023       2023-01-15      1      Enero           3  ...   \n",
       "1806    15  15/01/2023       2023-01-15      1      Enero           1  ...   \n",
       "1807    15  15/01/2023       2023-01-15      1      Enero           6  ...   \n",
       "1808    15  15/01/2023       2023-01-15      1      Enero           1  ...   \n",
       "...    ...         ...              ...    ...        ...         ...  ...   \n",
       "1925   336  02/12/2023       2023-12-02     12  Diciembre          12  ...   \n",
       "1926   336  02/12/2023       2023-12-02     12  Diciembre           1  ...   \n",
       "1927   336  02/12/2023       2023-12-02     12  Diciembre           9  ...   \n",
       "1928   336  02/12/2023       2023-12-02     12  Diciembre          58  ...   \n",
       "1929   336  02/12/2023       2023-12-02     12  Diciembre           1  ...   \n",
       "\n",
       "      MPA with a national statute Marine Natura 2000 proposed site  \\\n",
       "1804                     49295.58                          4459.98   \n",
       "1805                     49295.58                          4459.98   \n",
       "1806                     49295.58                          4459.98   \n",
       "1807                     49295.58                          4459.98   \n",
       "1808                     49295.58                          4459.98   \n",
       "...                           ...                              ...   \n",
       "1925                     49295.58                          4459.98   \n",
       "1926                     49295.58                          4459.98   \n",
       "1927                     49295.58                          4459.98   \n",
       "1928                     49295.58                          4459.98   \n",
       "1929                     49295.58                          4459.98   \n",
       "\n",
       "     Marine Natura 2000 site Ramsar site   SPAMI  World heritage site  \\\n",
       "1804                20091.67         0.0  247.22               135.56   \n",
       "1805                20091.67         0.0  247.22               135.56   \n",
       "1806                20091.67         0.0  247.22               135.56   \n",
       "1807                20091.67         0.0  247.22               135.56   \n",
       "1808                20091.67         0.0  247.22               135.56   \n",
       "...                      ...         ...     ...                  ...   \n",
       "1925                20091.67         0.0  247.22               135.56   \n",
       "1926                20091.67         0.0  247.22               135.56   \n",
       "1927                20091.67         0.0  247.22               135.56   \n",
       "1928                20091.67         0.0  247.22               135.56   \n",
       "1929                20091.67         0.0  247.22               135.56   \n",
       "\n",
       "      calculo  Total_MPAs          Nombre_cetegoria_2021  \\\n",
       "1804      0.0    79481.71             En Peligro Crítico   \n",
       "1805      0.0    79481.71  En Peligro Crítico/Vulnerable   \n",
       "1806      0.0    79481.71             Preocupación Menor   \n",
       "1807      0.0    79481.71             Preocupación Menor   \n",
       "1808      0.0    79481.71                    No Evaluado   \n",
       "...       ...         ...                            ...   \n",
       "1925      0.0    79481.71            Datos Insuficientes   \n",
       "1926      0.0    79481.71                     Vulnerable   \n",
       "1927      0.0    79481.71                     Vulnerable   \n",
       "1928      0.0    79481.71                     Vulnerable   \n",
       "1929      0.0    79481.71                 Casi Amenazado   \n",
       "\n",
       "              Nombre_categoria_2004  \n",
       "1804             En Peligro Crítico  \n",
       "1805  En Peligro Crítico/En Peligro  \n",
       "1806                    No Evaluado  \n",
       "1807                    No Evaluado  \n",
       "1808                    No Evaluado  \n",
       "...                             ...  \n",
       "1925                    No Evaluado  \n",
       "1926                 Casi Amenazado  \n",
       "1927                     Vulnerable  \n",
       "1928                    No Evaluado  \n",
       "1929                    No Evaluado  \n",
       "\n",
       "[126 rows x 41 columns]"
      ]
     },
     "execution_count": 248,
     "metadata": {},
     "output_type": "execute_result"
    }
   ],
   "source": [
    "total_por_estatus_2007 = censo[censo['year'] == 2023]\n",
    "total_por_estatus_2007"
   ]
  },
  {
   "cell_type": "code",
   "execution_count": 232,
   "id": "e1039297",
   "metadata": {},
   "outputs": [
    {
     "data": {
      "application/vnd.microsoft.datawrangler.viewer.v0+json": {
       "columns": [
        {
         "name": "index",
         "rawType": "int64",
         "type": "integer"
        },
        {
         "name": "year",
         "rawType": "int64",
         "type": "integer"
        },
        {
         "name": "Estado",
         "rawType": "object",
         "type": "string"
        },
        {
         "name": "speciesid",
         "rawType": "int64",
         "type": "integer"
        },
        {
         "name": "porcentaje_por_estatus",
         "rawType": "float64",
         "type": "float"
        }
       ],
       "ref": "8d159e0c-beec-4b25-9e98-156c3c5d7d99",
       "rows": [
        [
         "0",
         "2007",
         "CR",
         "1",
         "5.26"
        ],
        [
         "1",
         "2007",
         "CR/EN",
         "1",
         "5.26"
        ],
        [
         "2",
         "2007",
         "EN",
         "1",
         "5.26"
        ],
        [
         "3",
         "2007",
         "NE",
         "10",
         "52.63"
        ],
        [
         "4",
         "2007",
         "NT",
         "2",
         "10.53"
        ],
        [
         "5",
         "2007",
         "VU",
         "4",
         "21.05"
        ]
       ],
       "shape": {
        "columns": 4,
        "rows": 6
       }
      },
      "text/html": [
       "<div>\n",
       "<style scoped>\n",
       "    .dataframe tbody tr th:only-of-type {\n",
       "        vertical-align: middle;\n",
       "    }\n",
       "\n",
       "    .dataframe tbody tr th {\n",
       "        vertical-align: top;\n",
       "    }\n",
       "\n",
       "    .dataframe thead th {\n",
       "        text-align: right;\n",
       "    }\n",
       "</style>\n",
       "<table border=\"1\" class=\"dataframe\">\n",
       "  <thead>\n",
       "    <tr style=\"text-align: right;\">\n",
       "      <th></th>\n",
       "      <th>year</th>\n",
       "      <th>Estado</th>\n",
       "      <th>speciesid</th>\n",
       "      <th>porcentaje_por_estatus</th>\n",
       "    </tr>\n",
       "  </thead>\n",
       "  <tbody>\n",
       "    <tr>\n",
       "      <th>0</th>\n",
       "      <td>2007</td>\n",
       "      <td>CR</td>\n",
       "      <td>1</td>\n",
       "      <td>5.26</td>\n",
       "    </tr>\n",
       "    <tr>\n",
       "      <th>1</th>\n",
       "      <td>2007</td>\n",
       "      <td>CR/EN</td>\n",
       "      <td>1</td>\n",
       "      <td>5.26</td>\n",
       "    </tr>\n",
       "    <tr>\n",
       "      <th>2</th>\n",
       "      <td>2007</td>\n",
       "      <td>EN</td>\n",
       "      <td>1</td>\n",
       "      <td>5.26</td>\n",
       "    </tr>\n",
       "    <tr>\n",
       "      <th>3</th>\n",
       "      <td>2007</td>\n",
       "      <td>NE</td>\n",
       "      <td>10</td>\n",
       "      <td>52.63</td>\n",
       "    </tr>\n",
       "    <tr>\n",
       "      <th>4</th>\n",
       "      <td>2007</td>\n",
       "      <td>NT</td>\n",
       "      <td>2</td>\n",
       "      <td>10.53</td>\n",
       "    </tr>\n",
       "    <tr>\n",
       "      <th>5</th>\n",
       "      <td>2007</td>\n",
       "      <td>VU</td>\n",
       "      <td>4</td>\n",
       "      <td>21.05</td>\n",
       "    </tr>\n",
       "  </tbody>\n",
       "</table>\n",
       "</div>"
      ],
      "text/plain": [
       "   year Estado  speciesid  porcentaje_por_estatus\n",
       "0  2007     CR          1                    5.26\n",
       "1  2007  CR/EN          1                    5.26\n",
       "2  2007     EN          1                    5.26\n",
       "3  2007     NE         10                   52.63\n",
       "4  2007     NT          2                   10.53\n",
       "5  2007     VU          4                   21.05"
      ]
     },
     "execution_count": 232,
     "metadata": {},
     "output_type": "execute_result"
    }
   ],
   "source": [
    "# Quiero ver el numero de especies por su estado de conservación y hacer el porcentage para los datos de 2007.\n",
    "total_por_estatus_2007 = censo[censo['year'] == 2007]\n",
    "\n",
    "total_por_estatus_2007=total_por_estatus_2007.groupby(['year','LR2004'])['speciesid'].nunique().reset_index()\n",
    "\n",
    "total_por_estatus_2007\n",
    "\n",
    "# Calcular el gran total de especies\n",
    "total_especies = censo[censo['year'] == 2007]\n",
    "total_especies = total_especies['speciesid'].nunique()\n",
    "\n",
    "# Calcular el porcentaje de especies por cada estatus\n",
    "total_por_estatus_2007['porcentaje_por_estatus'] = ((total_por_estatus_2007['speciesid'] / total_especies) * 100).round(2)\n",
    "\n",
    "total_por_estatus_2007.rename(columns={\n",
    "    'LR2004':'Estado'    \n",
    "}, inplace=True)\n",
    "\n",
    "total_por_estatus_2007"
   ]
  },
  {
   "cell_type": "markdown",
   "id": "20cfb04c",
   "metadata": {},
   "source": [
    "### 2023"
   ]
  },
  {
   "cell_type": "code",
   "execution_count": 233,
   "id": "0d936387",
   "metadata": {},
   "outputs": [
    {
     "data": {
      "application/vnd.microsoft.datawrangler.viewer.v0+json": {
       "columns": [
        {
         "name": "index",
         "rawType": "int64",
         "type": "integer"
        },
        {
         "name": "year",
         "rawType": "int64",
         "type": "integer"
        },
        {
         "name": "Estado",
         "rawType": "object",
         "type": "string"
        },
        {
         "name": "speciesid",
         "rawType": "int64",
         "type": "integer"
        },
        {
         "name": "porcentaje_por_estatus",
         "rawType": "float64",
         "type": "float"
        }
       ],
       "ref": "3221a357-3f6a-4ee2-aee3-4fcea3955b84",
       "rows": [
        [
         "0",
         "2023",
         "CR",
         "2",
         "10.0"
        ],
        [
         "1",
         "2023",
         "CR/VU",
         "1",
         "5.0"
        ],
        [
         "2",
         "2023",
         "DD",
         "2",
         "10.0"
        ],
        [
         "3",
         "2023",
         "EN",
         "1",
         "5.0"
        ],
        [
         "4",
         "2023",
         "LC",
         "4",
         "20.0"
        ],
        [
         "5",
         "2023",
         "NE",
         "3",
         "15.0"
        ],
        [
         "6",
         "2023",
         "NT",
         "3",
         "15.0"
        ],
        [
         "7",
         "2023",
         "VU",
         "4",
         "20.0"
        ]
       ],
       "shape": {
        "columns": 4,
        "rows": 8
       }
      },
      "text/html": [
       "<div>\n",
       "<style scoped>\n",
       "    .dataframe tbody tr th:only-of-type {\n",
       "        vertical-align: middle;\n",
       "    }\n",
       "\n",
       "    .dataframe tbody tr th {\n",
       "        vertical-align: top;\n",
       "    }\n",
       "\n",
       "    .dataframe thead th {\n",
       "        text-align: right;\n",
       "    }\n",
       "</style>\n",
       "<table border=\"1\" class=\"dataframe\">\n",
       "  <thead>\n",
       "    <tr style=\"text-align: right;\">\n",
       "      <th></th>\n",
       "      <th>year</th>\n",
       "      <th>Estado</th>\n",
       "      <th>speciesid</th>\n",
       "      <th>porcentaje_por_estatus</th>\n",
       "    </tr>\n",
       "  </thead>\n",
       "  <tbody>\n",
       "    <tr>\n",
       "      <th>0</th>\n",
       "      <td>2023</td>\n",
       "      <td>CR</td>\n",
       "      <td>2</td>\n",
       "      <td>10.0</td>\n",
       "    </tr>\n",
       "    <tr>\n",
       "      <th>1</th>\n",
       "      <td>2023</td>\n",
       "      <td>CR/VU</td>\n",
       "      <td>1</td>\n",
       "      <td>5.0</td>\n",
       "    </tr>\n",
       "    <tr>\n",
       "      <th>2</th>\n",
       "      <td>2023</td>\n",
       "      <td>DD</td>\n",
       "      <td>2</td>\n",
       "      <td>10.0</td>\n",
       "    </tr>\n",
       "    <tr>\n",
       "      <th>3</th>\n",
       "      <td>2023</td>\n",
       "      <td>EN</td>\n",
       "      <td>1</td>\n",
       "      <td>5.0</td>\n",
       "    </tr>\n",
       "    <tr>\n",
       "      <th>4</th>\n",
       "      <td>2023</td>\n",
       "      <td>LC</td>\n",
       "      <td>4</td>\n",
       "      <td>20.0</td>\n",
       "    </tr>\n",
       "    <tr>\n",
       "      <th>5</th>\n",
       "      <td>2023</td>\n",
       "      <td>NE</td>\n",
       "      <td>3</td>\n",
       "      <td>15.0</td>\n",
       "    </tr>\n",
       "    <tr>\n",
       "      <th>6</th>\n",
       "      <td>2023</td>\n",
       "      <td>NT</td>\n",
       "      <td>3</td>\n",
       "      <td>15.0</td>\n",
       "    </tr>\n",
       "    <tr>\n",
       "      <th>7</th>\n",
       "      <td>2023</td>\n",
       "      <td>VU</td>\n",
       "      <td>4</td>\n",
       "      <td>20.0</td>\n",
       "    </tr>\n",
       "  </tbody>\n",
       "</table>\n",
       "</div>"
      ],
      "text/plain": [
       "   year Estado  speciesid  porcentaje_por_estatus\n",
       "0  2023     CR          2                    10.0\n",
       "1  2023  CR/VU          1                     5.0\n",
       "2  2023     DD          2                    10.0\n",
       "3  2023     EN          1                     5.0\n",
       "4  2023     LC          4                    20.0\n",
       "5  2023     NE          3                    15.0\n",
       "6  2023     NT          3                    15.0\n",
       "7  2023     VU          4                    20.0"
      ]
     },
     "execution_count": 233,
     "metadata": {},
     "output_type": "execute_result"
    }
   ],
   "source": [
    "total_por_estatus_2023 = censo[censo['year'] == 2023]\n",
    "\n",
    "total_por_estatus_2023=total_por_estatus_2023.groupby(['year','Estatus Consolidado'])['speciesid'].nunique().reset_index()\n",
    "\n",
    "total_por_estatus_2023\n",
    "\n",
    "# Calcular el gran total de especies\n",
    "total_especies = censo[censo['year'] == 2023]\n",
    "total_especies = total_especies['speciesid'].nunique()\n",
    "\n",
    "# Calcular el porcentaje de especies por cada estatus\n",
    "total_por_estatus_2023['porcentaje_por_estatus'] = (total_por_estatus_2023['speciesid'] / total_especies) * 100\n",
    "\n",
    "total_por_estatus_2023.rename(columns={\n",
    "    'Estatus Consolidado':'Estado'    \n",
    "}, inplace=True)\n",
    "\n",
    "total_por_estatus_2023"
   ]
  },
  {
   "cell_type": "markdown",
   "id": "78a40626",
   "metadata": {},
   "source": [
    "### 2007 y 2023"
   ]
  },
  {
   "cell_type": "code",
   "execution_count": 234,
   "id": "71c7eb2b",
   "metadata": {},
   "outputs": [
    {
     "data": {
      "application/vnd.microsoft.datawrangler.viewer.v0+json": {
       "columns": [
        {
         "name": "index",
         "rawType": "int64",
         "type": "integer"
        },
        {
         "name": "year",
         "rawType": "int64",
         "type": "integer"
        },
        {
         "name": "Estado",
         "rawType": "object",
         "type": "string"
        },
        {
         "name": "speciesid",
         "rawType": "int64",
         "type": "integer"
        },
        {
         "name": "porcentaje_por_estatus",
         "rawType": "float64",
         "type": "float"
        }
       ],
       "ref": "5791f552-b475-4122-b513-64e4880b8d60",
       "rows": [
        [
         "0",
         "2007",
         "CR",
         "1",
         "5.26"
        ],
        [
         "1",
         "2007",
         "CR/EN",
         "1",
         "5.26"
        ],
        [
         "2",
         "2007",
         "EN",
         "1",
         "5.26"
        ],
        [
         "3",
         "2007",
         "NE",
         "10",
         "52.63"
        ],
        [
         "4",
         "2007",
         "NT",
         "2",
         "10.53"
        ],
        [
         "5",
         "2007",
         "VU",
         "4",
         "21.05"
        ],
        [
         "6",
         "2023",
         "CR",
         "2",
         "10.0"
        ],
        [
         "7",
         "2023",
         "CR/VU",
         "1",
         "5.0"
        ],
        [
         "8",
         "2023",
         "DD",
         "2",
         "10.0"
        ],
        [
         "9",
         "2023",
         "EN",
         "1",
         "5.0"
        ],
        [
         "10",
         "2023",
         "LC",
         "4",
         "20.0"
        ],
        [
         "11",
         "2023",
         "NE",
         "3",
         "15.0"
        ],
        [
         "12",
         "2023",
         "NT",
         "3",
         "15.0"
        ],
        [
         "13",
         "2023",
         "VU",
         "4",
         "20.0"
        ]
       ],
       "shape": {
        "columns": 4,
        "rows": 14
       }
      },
      "text/html": [
       "<div>\n",
       "<style scoped>\n",
       "    .dataframe tbody tr th:only-of-type {\n",
       "        vertical-align: middle;\n",
       "    }\n",
       "\n",
       "    .dataframe tbody tr th {\n",
       "        vertical-align: top;\n",
       "    }\n",
       "\n",
       "    .dataframe thead th {\n",
       "        text-align: right;\n",
       "    }\n",
       "</style>\n",
       "<table border=\"1\" class=\"dataframe\">\n",
       "  <thead>\n",
       "    <tr style=\"text-align: right;\">\n",
       "      <th></th>\n",
       "      <th>year</th>\n",
       "      <th>Estado</th>\n",
       "      <th>speciesid</th>\n",
       "      <th>porcentaje_por_estatus</th>\n",
       "    </tr>\n",
       "  </thead>\n",
       "  <tbody>\n",
       "    <tr>\n",
       "      <th>0</th>\n",
       "      <td>2007</td>\n",
       "      <td>CR</td>\n",
       "      <td>1</td>\n",
       "      <td>5.26</td>\n",
       "    </tr>\n",
       "    <tr>\n",
       "      <th>1</th>\n",
       "      <td>2007</td>\n",
       "      <td>CR/EN</td>\n",
       "      <td>1</td>\n",
       "      <td>5.26</td>\n",
       "    </tr>\n",
       "    <tr>\n",
       "      <th>2</th>\n",
       "      <td>2007</td>\n",
       "      <td>EN</td>\n",
       "      <td>1</td>\n",
       "      <td>5.26</td>\n",
       "    </tr>\n",
       "    <tr>\n",
       "      <th>3</th>\n",
       "      <td>2007</td>\n",
       "      <td>NE</td>\n",
       "      <td>10</td>\n",
       "      <td>52.63</td>\n",
       "    </tr>\n",
       "    <tr>\n",
       "      <th>4</th>\n",
       "      <td>2007</td>\n",
       "      <td>NT</td>\n",
       "      <td>2</td>\n",
       "      <td>10.53</td>\n",
       "    </tr>\n",
       "    <tr>\n",
       "      <th>5</th>\n",
       "      <td>2007</td>\n",
       "      <td>VU</td>\n",
       "      <td>4</td>\n",
       "      <td>21.05</td>\n",
       "    </tr>\n",
       "    <tr>\n",
       "      <th>6</th>\n",
       "      <td>2023</td>\n",
       "      <td>CR</td>\n",
       "      <td>2</td>\n",
       "      <td>10.00</td>\n",
       "    </tr>\n",
       "    <tr>\n",
       "      <th>7</th>\n",
       "      <td>2023</td>\n",
       "      <td>CR/VU</td>\n",
       "      <td>1</td>\n",
       "      <td>5.00</td>\n",
       "    </tr>\n",
       "    <tr>\n",
       "      <th>8</th>\n",
       "      <td>2023</td>\n",
       "      <td>DD</td>\n",
       "      <td>2</td>\n",
       "      <td>10.00</td>\n",
       "    </tr>\n",
       "    <tr>\n",
       "      <th>9</th>\n",
       "      <td>2023</td>\n",
       "      <td>EN</td>\n",
       "      <td>1</td>\n",
       "      <td>5.00</td>\n",
       "    </tr>\n",
       "    <tr>\n",
       "      <th>10</th>\n",
       "      <td>2023</td>\n",
       "      <td>LC</td>\n",
       "      <td>4</td>\n",
       "      <td>20.00</td>\n",
       "    </tr>\n",
       "    <tr>\n",
       "      <th>11</th>\n",
       "      <td>2023</td>\n",
       "      <td>NE</td>\n",
       "      <td>3</td>\n",
       "      <td>15.00</td>\n",
       "    </tr>\n",
       "    <tr>\n",
       "      <th>12</th>\n",
       "      <td>2023</td>\n",
       "      <td>NT</td>\n",
       "      <td>3</td>\n",
       "      <td>15.00</td>\n",
       "    </tr>\n",
       "    <tr>\n",
       "      <th>13</th>\n",
       "      <td>2023</td>\n",
       "      <td>VU</td>\n",
       "      <td>4</td>\n",
       "      <td>20.00</td>\n",
       "    </tr>\n",
       "  </tbody>\n",
       "</table>\n",
       "</div>"
      ],
      "text/plain": [
       "    year Estado  speciesid  porcentaje_por_estatus\n",
       "0   2007     CR          1                    5.26\n",
       "1   2007  CR/EN          1                    5.26\n",
       "2   2007     EN          1                    5.26\n",
       "3   2007     NE         10                   52.63\n",
       "4   2007     NT          2                   10.53\n",
       "5   2007     VU          4                   21.05\n",
       "6   2023     CR          2                   10.00\n",
       "7   2023  CR/VU          1                    5.00\n",
       "8   2023     DD          2                   10.00\n",
       "9   2023     EN          1                    5.00\n",
       "10  2023     LC          4                   20.00\n",
       "11  2023     NE          3                   15.00\n",
       "12  2023     NT          3                   15.00\n",
       "13  2023     VU          4                   20.00"
      ]
     },
     "execution_count": 234,
     "metadata": {},
     "output_type": "execute_result"
    }
   ],
   "source": [
    "total_estatus_2007_2023 = pd.concat([total_por_estatus_2007, total_por_estatus_2023], axis=0, ignore_index=True)\n",
    "total_estatus_2007_2023 "
   ]
  },
  {
   "cell_type": "markdown",
   "id": "e0fa8b32",
   "metadata": {},
   "source": [
    "### Grafico para 2007"
   ]
  },
  {
   "cell_type": "code",
   "execution_count": 235,
   "id": "5ffa5795",
   "metadata": {},
   "outputs": [
    {
     "data": {
      "image/png": "[encoded data removed]",
      "text/plain": [
       "<Figure size 1200x700 with 1 Axes>"
      ]
     },
     "metadata": {},
     "output_type": "display_data"
    }
   ],
   "source": [
    "# Leyenda de las categorias 2004\n",
    "leyenda = {\n",
    "    #'LC': 'Preocupación Menor',\n",
    "    'NT':'Casi Amenazado',\n",
    "    'VU': 'Vulnerable',\n",
    "    'EN':'En Peligro',\n",
    "    'CR/EN':'En Peligro Crítico/En Peligro',\n",
    "    'CR':'En Peligro Crítico',\n",
    "    'NE': 'No Evaluado'  \n",
    "}\n",
    "\n",
    "# Ordenar mi DF con orden de leyenda\n",
    "orden = list(leyenda.keys()) #Lista con los elementos del diccionario\n",
    "\n",
    "total_por_estatus_2007['Estado']=pd.Categorical(total_por_estatus_2007['Estado'], categories=orden, ordered=True) # Pasar columna estado a categorica con orden \n",
    "\n",
    "total_por_estatus2007=total_por_estatus_2007.sort_values('Estado')\n",
    "\n",
    "# Grafico de Barras\n",
    "plt.figure(figsize=(12, 7)) # Ajusta el tamaño de la figura\n",
    "ax = sns.barplot(x=total_por_estatus_2007['Estado'], \n",
    "            y=total_por_estatus_2007['porcentaje_por_estatus'], \n",
    "            hue = total_por_estatus_2007['Estado'] ,\n",
    "            palette=color, \n",
    "            order=orden, \n",
    "            hue_order=orden,  # Uso el color de la paleta que cree antes y el orden de las categorias que he creado más arriba\n",
    "            dodge=False, \n",
    "            ax=plt.gca(), \n",
    "            legend=False)\n",
    "\n",
    "plt.title('Porcentaje de Especies por Estado de Conservación en 2007', fontsize=16)\n",
    "plt.xlabel('Estado de Conservación', fontsize=12)\n",
    "plt.ylabel('Porcentaje de Especies (%)', fontsize=12)\n",
    "plt.xticks(rotation=45, ha='right') \n",
    "plt.grid(axis='y', linestyle='--', alpha=0.7) \n",
    "plt.tight_layout() \n",
    "\n",
    "# Creo una leyenda con mi diccionario leyenda\n",
    "elementos_visuales = []\n",
    "elementos_visuales_leyenda = []\n",
    "\n",
    "for key in orden:\n",
    "    if key in color:\n",
    "        elementos_visuales.append(Patch(facecolor=color[key], edgecolor='black', linewidth=1))\n",
    "        elementos_visuales_leyenda.append(leyenda[key])\n",
    "        \n",
    "# Añadir la leyenda al grafico\n",
    "ax.legend(handles = elementos_visuales, labels = elementos_visuales_leyenda,\n",
    "          title=\"Estatus de Conservación en 2004\",\n",
    "          loc='upper left',\n",
    "          bbox_to_anchor=(1, 1)\n",
    "          )\n",
    "\n",
    "# Añadir las etiquetas de datos\n",
    "for container in ax.containers:\n",
    "    ax.bar_label(container, fmt='%.1f%%' ,label_type='edge', padding=2)\n",
    "    \n",
    "plt.savefig('especies_estado_conservacion_2007.png', dpi=300, bbox_inches='tight')\n",
    "    \n",
    "plt.show()"
   ]
  },
  {
   "cell_type": "markdown",
   "id": "43692cdb",
   "metadata": {},
   "source": [
    "### Grafico para 2023"
   ]
  },
  {
   "cell_type": "code",
   "execution_count": 236,
   "id": "4b97cbbe",
   "metadata": {},
   "outputs": [
    {
     "data": {
      "image/png": "[encoded data removed]",
      "text/plain": [
       "<Figure size 1200x700 with 1 Axes>"
      ]
     },
     "metadata": {},
     "output_type": "display_data"
    }
   ],
   "source": [
    "#Leyenda de los datos de 2023\n",
    "leyenda_2023 = {\n",
    "    'LC': 'Preocupación Menor',\n",
    "    'NT':'Casi Amenazado',\n",
    "    'VU': 'Vulnerable',\n",
    "    'EN':'En Peligro',\n",
    "    'CR/VU':'En Peligro Crítico/Vulnerable',\n",
    "    'CR':'En Peligro Crítico',\n",
    "    'NE': 'No Evaluado', \n",
    "    'DD': 'Datos Insuficientes'\n",
    "}\n",
    "\n",
    "# Ordenar mi DF con orden de leyenda\n",
    "orden_2023 = list(leyenda_2023.keys())\n",
    "\n",
    "total_por_estatus_2023['Estado']=pd.Categorical(total_por_estatus_2023['Estado'], categories=orden_2023, ordered=True) #Pasa Estado a categorico con el orden del diccionario leyenda\n",
    "\n",
    "total_por_estatus_2023=total_por_estatus_2023.sort_values('Estado')\n",
    "\n",
    "\n",
    "# Gráfico de barras\n",
    "plt.figure(figsize=(12, 7)) \n",
    "ax = sns.barplot(x=total_por_estatus_2023['Estado'], \n",
    "            y=total_por_estatus_2023['porcentaje_por_estatus'], \n",
    "            hue = total_por_estatus_2023['Estado'] ,\n",
    "            palette=color, \n",
    "            order=orden_2023, \n",
    "            hue_order=orden_2023, \n",
    "            dodge=False, \n",
    "            ax=plt.gca(), \n",
    "            legend=False)\n",
    "\n",
    "plt.title('Porcentaje de Especies por Estado de Conservación en 2023', fontsize=16)\n",
    "plt.xlabel('Estado de Conservación', fontsize=12)\n",
    "plt.ylabel('Porcentaje de Especies (%)', fontsize=12)\n",
    "plt.xticks(rotation=45, ha='right') \n",
    "plt.grid(axis='y', linestyle='--', alpha=0.7) \n",
    "plt.tight_layout() \n",
    "\n",
    "# Creo elementos de una leyenda con mi diccionario leyenda\n",
    "elementos_visuales = []\n",
    "elementos_visuales_leyenda = []\n",
    "\n",
    "for key in orden_2023:\n",
    "    if key in color:\n",
    "        elementos_visuales.append(Patch(facecolor=color[key], edgecolor='black', linewidth=1))\n",
    "        elementos_visuales_leyenda.append(leyenda_2023[key])\n",
    "        \n",
    "# Añadir la leyenda al grafico\n",
    "ax.legend(handles = elementos_visuales, \n",
    "          labels = elementos_visuales_leyenda,\n",
    "          title=\"Estado de Conservación en 2021\",\n",
    "          loc='upper left',\n",
    "          bbox_to_anchor=(1, 1)\n",
    "          )\n",
    "\n",
    "# Añadir las etiquetas de datos\n",
    "for container in ax.containers:\n",
    "    ax.bar_label(container, fmt='%.1f%%' ,label_type='edge', padding=2)\n",
    "\n",
    "plt.savefig('especies_estado_conservacion_2023.png', dpi=300, bbox_inches='tight')\n",
    "plt.show()"
   ]
  },
  {
   "cell_type": "markdown",
   "id": "00217a47",
   "metadata": {},
   "source": [
    "### Datos combinados 2007 y 2023"
   ]
  },
  {
   "cell_type": "code",
   "execution_count": 237,
   "id": "bba5142a",
   "metadata": {},
   "outputs": [
    {
     "data": {
      "image/png": "[encoded data removed]",
      "text/plain": [
       "<Figure size 1200x700 with 1 Axes>"
      ]
     },
     "metadata": {},
     "output_type": "display_data"
    }
   ],
   "source": [
    "# Sigo una estrategia diferente para crear el orden del DataFrame\n",
    "# Leyenda de las categorias 2004_2021\n",
    "leyenda_2006_2023 = {\n",
    "    'LC': 'Preocupación Menor',\n",
    "    'NT':'Casi Amenazado',\n",
    "    'VU': 'Vulnerable',\n",
    "    'EN':'En Peligro',\n",
    "    'CR/VU':'En Peligro Crítico/Vulnerable',\n",
    "    'CR/EN':'En Peligro Crítico/En Peligro',\n",
    "    'CR':'En Peligro Crítico',\n",
    "    'NE': 'No Evaluado',\n",
    "    'DD': 'Datos Insuficientes'  \n",
    "}\n",
    "\n",
    "# Este es el diccionario que me generará el orden de mi DF\n",
    "leyenda_orden = {\n",
    "    'LC': 1,\n",
    "    'NT':2,\n",
    "    'VU': 3,\n",
    "    'EN':4,\n",
    "    'CR/VU':5,\n",
    "    'CR/EN':6,\n",
    "    'CR':7,\n",
    "    'NE': 8,\n",
    "    'DD': 9 \n",
    "}\n",
    "\n",
    "# Mapeo el DF para añadir la columna de orden\n",
    "total_estatus_2007_2023['orden'] = total_estatus_2007_2023['Estado'].map(leyenda_orden)\n",
    "\n",
    "# Ordeno mi DF\n",
    "total_estatus_2007_2023=total_estatus_2007_2023.sort_values(['year','orden'])\n",
    "\n",
    "\n",
    "# Grafico de Barras\n",
    "plt.figure(figsize=(12, 7))\n",
    "ax = sns.barplot(x=total_estatus_2007_2023['year'], \n",
    "            y=total_estatus_2007_2023['porcentaje_por_estatus'], \n",
    "            hue = total_estatus_2007_2023['Estado'] ,\n",
    "            palette=color,  # Uso el color de la paleta que cree antes y el orden de las categorias que he creado más arriba\n",
    "            ax=plt.gca(), \n",
    "            legend=False)\n",
    "\n",
    "plt.title('Porcentaje de Especies por Estado de Conservación en 2007', fontsize=16)\n",
    "plt.xlabel('Estado de Conservación', fontsize=12)\n",
    "plt.ylabel('Porcentaje de Especies (%)', fontsize=12)\n",
    "plt.xticks(rotation=45, ha='right') \n",
    "plt.grid(axis='y', linestyle='--', alpha=0.7) \n",
    "plt.tight_layout() \n",
    "\n",
    "# Creo una leyenda con mi diccionario leyenda\n",
    "elementos_visuales = []\n",
    "elementos_visuales_leyenda = []\n",
    "\n",
    "for key in orden:\n",
    "    if key in color:\n",
    "        elementos_visuales.append(Patch(facecolor=color[key], edgecolor='black', linewidth=1))\n",
    "        elementos_visuales_leyenda.append(leyenda_2006_2023[key])\n",
    "        \n",
    "# Añadir la leyenda al grafico\n",
    "ax.legend(handles = elementos_visuales, labels = elementos_visuales_leyenda,\n",
    "          title=\"Estatus de Conservación en 2004\",\n",
    "          loc='upper left',\n",
    "          bbox_to_anchor=(1, 1)\n",
    "          )\n",
    "\n",
    "for container in ax.containers:\n",
    "    ax.bar_label(container, fmt='%.1f%%' ,label_type='edge', padding=2)\n",
    "    \n",
    "\n",
    "    \n",
    "plt.show()"
   ]
  },
  {
   "cell_type": "markdown",
   "id": "04ce02e7",
   "metadata": {},
   "source": [
    "Este grafico tiene espacios vacios tanto en 2007 como 2023 porque las categorias de las aves en 2004 y 2021 no son exactamente las mismas, por este motivo no usaré este grafico"
   ]
  },
  {
   "cell_type": "markdown",
   "id": "063436d4",
   "metadata": {},
   "source": [
    "### Porcentaje de especies por cambio de categoria en 2023"
   ]
  },
  {
   "cell_type": "code",
   "execution_count": 238,
   "id": "9a7277b6",
   "metadata": {},
   "outputs": [
    {
     "data": {
      "application/vnd.microsoft.datawrangler.viewer.v0+json": {
       "columns": [
        {
         "name": "index",
         "rawType": "int64",
         "type": "integer"
        },
        {
         "name": "EVOLUCIÓN CATEGORÍA 2004-2021",
         "rawType": "object",
         "type": "string"
        },
        {
         "name": "speciesid",
         "rawType": "int64",
         "type": "integer"
        },
        {
         "name": "porcentaje_por_estatus_cambio",
         "rawType": "float64",
         "type": "float"
        }
       ],
       "ref": "a0479f09-dc49-4edc-b4b5-30dd91e1329c",
       "rows": [
        [
         "0",
         "Datos Insuficientes",
         "2",
         "10.0"
        ],
        [
         "1",
         "Desfavorable",
         "5",
         "25.0"
        ],
        [
         "2",
         "Favorable",
         "3",
         "15.0"
        ],
        [
         "3",
         "No Evaluada",
         "3",
         "15.0"
        ],
        [
         "4",
         "Sin Variaciones",
         "6",
         "30.0"
        ],
        [
         "5",
         "Sin Variaciones/Desfavorable",
         "1",
         "5.0"
        ]
       ],
       "shape": {
        "columns": 3,
        "rows": 6
       }
      },
      "text/html": [
       "<div>\n",
       "<style scoped>\n",
       "    .dataframe tbody tr th:only-of-type {\n",
       "        vertical-align: middle;\n",
       "    }\n",
       "\n",
       "    .dataframe tbody tr th {\n",
       "        vertical-align: top;\n",
       "    }\n",
       "\n",
       "    .dataframe thead th {\n",
       "        text-align: right;\n",
       "    }\n",
       "</style>\n",
       "<table border=\"1\" class=\"dataframe\">\n",
       "  <thead>\n",
       "    <tr style=\"text-align: right;\">\n",
       "      <th></th>\n",
       "      <th>EVOLUCIÓN CATEGORÍA 2004-2021</th>\n",
       "      <th>speciesid</th>\n",
       "      <th>porcentaje_por_estatus_cambio</th>\n",
       "    </tr>\n",
       "  </thead>\n",
       "  <tbody>\n",
       "    <tr>\n",
       "      <th>0</th>\n",
       "      <td>Datos Insuficientes</td>\n",
       "      <td>2</td>\n",
       "      <td>10.0</td>\n",
       "    </tr>\n",
       "    <tr>\n",
       "      <th>1</th>\n",
       "      <td>Desfavorable</td>\n",
       "      <td>5</td>\n",
       "      <td>25.0</td>\n",
       "    </tr>\n",
       "    <tr>\n",
       "      <th>2</th>\n",
       "      <td>Favorable</td>\n",
       "      <td>3</td>\n",
       "      <td>15.0</td>\n",
       "    </tr>\n",
       "    <tr>\n",
       "      <th>3</th>\n",
       "      <td>No Evaluada</td>\n",
       "      <td>3</td>\n",
       "      <td>15.0</td>\n",
       "    </tr>\n",
       "    <tr>\n",
       "      <th>4</th>\n",
       "      <td>Sin Variaciones</td>\n",
       "      <td>6</td>\n",
       "      <td>30.0</td>\n",
       "    </tr>\n",
       "    <tr>\n",
       "      <th>5</th>\n",
       "      <td>Sin Variaciones/Desfavorable</td>\n",
       "      <td>1</td>\n",
       "      <td>5.0</td>\n",
       "    </tr>\n",
       "  </tbody>\n",
       "</table>\n",
       "</div>"
      ],
      "text/plain": [
       "  EVOLUCIÓN CATEGORÍA 2004-2021  speciesid  porcentaje_por_estatus_cambio\n",
       "0           Datos Insuficientes          2                           10.0\n",
       "1                  Desfavorable          5                           25.0\n",
       "2                     Favorable          3                           15.0\n",
       "3                   No Evaluada          3                           15.0\n",
       "4               Sin Variaciones          6                           30.0\n",
       "5  Sin Variaciones/Desfavorable          1                            5.0"
      ]
     },
     "execution_count": 238,
     "metadata": {},
     "output_type": "execute_result"
    }
   ],
   "source": [
    "total_por_estatus_2023_cambio = censo[censo['year'] == 2023]\n",
    "\n",
    "total_por_estatus_2023_cambio=total_por_estatus_2023_cambio.groupby(['EVOLUCIÓN CATEGORÍA 2004-2021'])['speciesid'].nunique().reset_index()\n",
    "\n",
    "total_por_estatus_2023_cambio\n",
    "\n",
    "# Calcular el gran total de especies\n",
    "total_especies = censo[censo['year'] == 2023]\n",
    "total_especies = total_especies['speciesid'].nunique()\n",
    "\n",
    "# Calcular el porcentaje de especies por cada estatus\n",
    "total_por_estatus_2023_cambio['porcentaje_por_estatus_cambio'] = (total_por_estatus_2023_cambio['speciesid'] / total_especies) * 100\n",
    "\n",
    "total_por_estatus_2023_cambio"
   ]
  },
  {
   "cell_type": "code",
   "execution_count": 239,
   "id": "f49aed0c",
   "metadata": {},
   "outputs": [
    {
     "data": {
      "application/vnd.microsoft.datawrangler.viewer.v0+json": {
       "columns": [
        {
         "name": "index",
         "rawType": "int64",
         "type": "integer"
        },
        {
         "name": "EVOLUCIÓN CATEGORÍA 2004-2021",
         "rawType": "category",
         "type": "unknown"
        },
        {
         "name": "speciesid",
         "rawType": "int64",
         "type": "integer"
        },
        {
         "name": "porcentaje_por_estatus_cambio",
         "rawType": "float64",
         "type": "float"
        }
       ],
       "ref": "2b7a758d-c1de-4199-adb4-3f843226aa44",
       "rows": [
        [
         "2",
         "Favorable",
         "3",
         "15.0"
        ],
        [
         "4",
         "Sin Variaciones",
         "6",
         "30.0"
        ],
        [
         "5",
         "Sin Variaciones/Desfavorable",
         "1",
         "5.0"
        ],
        [
         "1",
         "Desfavorable",
         "5",
         "25.0"
        ],
        [
         "0",
         "Datos Insuficientes",
         "2",
         "10.0"
        ],
        [
         "3",
         "No Evaluada",
         "3",
         "15.0"
        ]
       ],
       "shape": {
        "columns": 3,
        "rows": 6
       }
      },
      "text/html": [
       "<div>\n",
       "<style scoped>\n",
       "    .dataframe tbody tr th:only-of-type {\n",
       "        vertical-align: middle;\n",
       "    }\n",
       "\n",
       "    .dataframe tbody tr th {\n",
       "        vertical-align: top;\n",
       "    }\n",
       "\n",
       "    .dataframe thead th {\n",
       "        text-align: right;\n",
       "    }\n",
       "</style>\n",
       "<table border=\"1\" class=\"dataframe\">\n",
       "  <thead>\n",
       "    <tr style=\"text-align: right;\">\n",
       "      <th></th>\n",
       "      <th>EVOLUCIÓN CATEGORÍA 2004-2021</th>\n",
       "      <th>speciesid</th>\n",
       "      <th>porcentaje_por_estatus_cambio</th>\n",
       "    </tr>\n",
       "  </thead>\n",
       "  <tbody>\n",
       "    <tr>\n",
       "      <th>2</th>\n",
       "      <td>Favorable</td>\n",
       "      <td>3</td>\n",
       "      <td>15.0</td>\n",
       "    </tr>\n",
       "    <tr>\n",
       "      <th>4</th>\n",
       "      <td>Sin Variaciones</td>\n",
       "      <td>6</td>\n",
       "      <td>30.0</td>\n",
       "    </tr>\n",
       "    <tr>\n",
       "      <th>5</th>\n",
       "      <td>Sin Variaciones/Desfavorable</td>\n",
       "      <td>1</td>\n",
       "      <td>5.0</td>\n",
       "    </tr>\n",
       "    <tr>\n",
       "      <th>1</th>\n",
       "      <td>Desfavorable</td>\n",
       "      <td>5</td>\n",
       "      <td>25.0</td>\n",
       "    </tr>\n",
       "    <tr>\n",
       "      <th>0</th>\n",
       "      <td>Datos Insuficientes</td>\n",
       "      <td>2</td>\n",
       "      <td>10.0</td>\n",
       "    </tr>\n",
       "    <tr>\n",
       "      <th>3</th>\n",
       "      <td>No Evaluada</td>\n",
       "      <td>3</td>\n",
       "      <td>15.0</td>\n",
       "    </tr>\n",
       "  </tbody>\n",
       "</table>\n",
       "</div>"
      ],
      "text/plain": [
       "  EVOLUCIÓN CATEGORÍA 2004-2021  speciesid  porcentaje_por_estatus_cambio\n",
       "2                     Favorable          3                           15.0\n",
       "4               Sin Variaciones          6                           30.0\n",
       "5  Sin Variaciones/Desfavorable          1                            5.0\n",
       "1                  Desfavorable          5                           25.0\n",
       "0           Datos Insuficientes          2                           10.0\n",
       "3                   No Evaluada          3                           15.0"
      ]
     },
     "execution_count": 239,
     "metadata": {},
     "output_type": "execute_result"
    }
   ],
   "source": [
    "# Lista con los elementos ordenados\n",
    "orden_cambio_categorias= ['Favorable', 'Sin Variaciones', 'Sin Variaciones/Desfavorable','Desfavorable','Datos Insuficientes', 'No Evaluada']\n",
    "\n",
    "# Diccionario para luego hacer la leyenda manualmente\n",
    "leyenda_cambio = {\n",
    "    'Favorable': 'Favorable',\n",
    "    'Sin Variaciones': 'Sin Variaciones',\n",
    "    'Sin Variaciones/Desfavorable': 'Sin Variaciones/Desfavorable',\n",
    "    'Desfavorable': 'Desfavorable',\n",
    "    'Datos Insuficientes': 'Datos Insuficientes',\n",
    "    'No Evaluada': 'No Evaluada'\n",
    "}\n",
    "\n",
    "# Como antes, paso la columna a categorica y ordeno el DF.\n",
    "total_por_estatus_2023_cambio['EVOLUCIÓN CATEGORÍA 2004-2021'] = pd.Categorical(\n",
    "    total_por_estatus_2023_cambio['EVOLUCIÓN CATEGORÍA 2004-2021'],\n",
    "    categories=orden_cambio_categorias,\n",
    "    ordered=True\n",
    ")\n",
    "total_por_estatus_2023_cambio = total_por_estatus_2023_cambio.sort_values('EVOLUCIÓN CATEGORÍA 2004-2021')\n",
    "\n",
    "total_por_estatus_2023_cambio\n"
   ]
  },
  {
   "cell_type": "code",
   "execution_count": 240,
   "id": "55293414",
   "metadata": {},
   "outputs": [
    {
     "data": {
      "image/png": "[encoded data removed]",
      "text/plain": [
       "<Figure size 1200x700 with 1 Axes>"
      ]
     },
     "metadata": {},
     "output_type": "display_data"
    }
   ],
   "source": [
    "plt.figure(figsize=(12, 7)) # Ajusta el tamaño de la figura\n",
    "ax=sns.barplot(x=total_por_estatus_2023_cambio['EVOLUCIÓN CATEGORÍA 2004-2021'], \n",
    "            y=total_por_estatus_2023_cambio['porcentaje_por_estatus_cambio'], \n",
    "            hue = total_por_estatus_2023_cambio['EVOLUCIÓN CATEGORÍA 2004-2021'],\n",
    "            palette=color, \n",
    "            order=orden_cambio_categorias,\n",
    "            dodge=False,\n",
    "            ax=plt.gca(), \n",
    "            legend=False)\n",
    "\n",
    "plt.title('Porcentaje de Especies por Cambio en su Estado de Conservación en 2023', fontsize=16)\n",
    "plt.xlabel('Cambio del Estado de Conservación', fontsize=12)\n",
    "plt.ylabel('Porcentaje de Especies (%)', fontsize=12)\n",
    "plt.xticks(rotation=45, ha='right') \n",
    "plt.grid(axis='y', linestyle='--', alpha=0.7) \n",
    "plt.tight_layout() \n",
    "\n",
    "# Creo listas para los elementos visuales de la leyenda\n",
    "elementos_visuales = []\n",
    "elementos_visuales_leyenda = []\n",
    "\n",
    "# Añadir los elementos visuales\n",
    "for key in orden_cambio_categorias:\n",
    "    if key in color:\n",
    "        elementos_visuales.append(Patch(facecolor=color[key], edgecolor='black', linewidth=1))\n",
    "        elementos_visuales_leyenda.append(leyenda_cambio[key]) #\n",
    " \n",
    "# Crear manualmente la leyenda       \n",
    "ax.legend(handles=elementos_visuales, labels=elementos_visuales_leyenda,\n",
    "          title=\"Cambio del Estatus de Conservación\",\n",
    "          loc='upper left',\n",
    "          bbox_to_anchor=(1, 1))\n",
    "\n",
    "# Añadir las etiquetas de los datos\n",
    "for container in ax.containers:\n",
    "    ax.bar_label(container, fmt='%.1f%%' ,label_type='edge', padding=2)\n",
    "\n",
    "\n",
    "plt.savefig('grafico_cambio_estado_conservacion_2023.png', dpi=300, bbox_inches='tight')\n",
    "\n",
    "plt.show()"
   ]
  },
  {
   "cell_type": "markdown",
   "id": "1190ccd1",
   "metadata": {},
   "source": [
    "### Porcentaje de especies por cambio de categoria en 2023 con SANKEY"
   ]
  },
  {
   "cell_type": "code",
   "execution_count": 241,
   "id": "5aed5974",
   "metadata": {},
   "outputs": [
    {
     "data": {
      "application/vnd.microsoft.datawrangler.viewer.v0+json": {
       "columns": [
        {
         "name": "index",
         "rawType": "int64",
         "type": "integer"
        },
        {
         "name": "Nombre_categoria_2004",
         "rawType": "object",
         "type": "string"
        },
        {
         "name": "Nombre_cetegoria_2021",
         "rawType": "object",
         "type": "string"
        },
        {
         "name": "num_especies",
         "rawType": "int64",
         "type": "integer"
        }
       ],
       "ref": "1ba9247e-cd51-4dc3-b24a-01b82a943ce6",
       "rows": [
        [
         "0",
         "Casi Amenazado",
         "Casi Amenazado",
         "1"
        ],
        [
         "1",
         "Casi Amenazado",
         "Vulnerable",
         "1"
        ],
        [
         "2",
         "En Peligro",
         "En Peligro",
         "1"
        ],
        [
         "3",
         "En Peligro Crítico",
         "En Peligro Crítico",
         "1"
        ],
        [
         "4",
         "En Peligro Crítico/En Peligro",
         "En Peligro Crítico/Vulnerable",
         "1"
        ],
        [
         "5",
         "No Evaluado",
         "Casi Amenazado",
         "2"
        ],
        [
         "6",
         "No Evaluado",
         "Datos Insuficientes",
         "2"
        ],
        [
         "7",
         "No Evaluado",
         "No Evaluado",
         "4"
        ],
        [
         "8",
         "No Evaluado",
         "Preocupación Menor",
         "3"
        ],
        [
         "9",
         "No Evaluado",
         "Vulnerable",
         "1"
        ],
        [
         "10",
         "Preocupación Menor",
         "Preocupación Menor",
         "1"
        ],
        [
         "11",
         "Vulnerable",
         "En Peligro",
         "1"
        ],
        [
         "12",
         "Vulnerable",
         "En Peligro Crítico",
         "1"
        ],
        [
         "13",
         "Vulnerable",
         "Vulnerable",
         "2"
        ]
       ],
       "shape": {
        "columns": 3,
        "rows": 14
       }
      },
      "text/html": [
       "<div>\n",
       "<style scoped>\n",
       "    .dataframe tbody tr th:only-of-type {\n",
       "        vertical-align: middle;\n",
       "    }\n",
       "\n",
       "    .dataframe tbody tr th {\n",
       "        vertical-align: top;\n",
       "    }\n",
       "\n",
       "    .dataframe thead th {\n",
       "        text-align: right;\n",
       "    }\n",
       "</style>\n",
       "<table border=\"1\" class=\"dataframe\">\n",
       "  <thead>\n",
       "    <tr style=\"text-align: right;\">\n",
       "      <th></th>\n",
       "      <th>Nombre_categoria_2004</th>\n",
       "      <th>Nombre_cetegoria_2021</th>\n",
       "      <th>num_especies</th>\n",
       "    </tr>\n",
       "  </thead>\n",
       "  <tbody>\n",
       "    <tr>\n",
       "      <th>0</th>\n",
       "      <td>Casi Amenazado</td>\n",
       "      <td>Casi Amenazado</td>\n",
       "      <td>1</td>\n",
       "    </tr>\n",
       "    <tr>\n",
       "      <th>1</th>\n",
       "      <td>Casi Amenazado</td>\n",
       "      <td>Vulnerable</td>\n",
       "      <td>1</td>\n",
       "    </tr>\n",
       "    <tr>\n",
       "      <th>2</th>\n",
       "      <td>En Peligro</td>\n",
       "      <td>En Peligro</td>\n",
       "      <td>1</td>\n",
       "    </tr>\n",
       "    <tr>\n",
       "      <th>3</th>\n",
       "      <td>En Peligro Crítico</td>\n",
       "      <td>En Peligro Crítico</td>\n",
       "      <td>1</td>\n",
       "    </tr>\n",
       "    <tr>\n",
       "      <th>4</th>\n",
       "      <td>En Peligro Crítico/En Peligro</td>\n",
       "      <td>En Peligro Crítico/Vulnerable</td>\n",
       "      <td>1</td>\n",
       "    </tr>\n",
       "    <tr>\n",
       "      <th>5</th>\n",
       "      <td>No Evaluado</td>\n",
       "      <td>Casi Amenazado</td>\n",
       "      <td>2</td>\n",
       "    </tr>\n",
       "    <tr>\n",
       "      <th>6</th>\n",
       "      <td>No Evaluado</td>\n",
       "      <td>Datos Insuficientes</td>\n",
       "      <td>2</td>\n",
       "    </tr>\n",
       "    <tr>\n",
       "      <th>7</th>\n",
       "      <td>No Evaluado</td>\n",
       "      <td>No Evaluado</td>\n",
       "      <td>4</td>\n",
       "    </tr>\n",
       "    <tr>\n",
       "      <th>8</th>\n",
       "      <td>No Evaluado</td>\n",
       "      <td>Preocupación Menor</td>\n",
       "      <td>3</td>\n",
       "    </tr>\n",
       "    <tr>\n",
       "      <th>9</th>\n",
       "      <td>No Evaluado</td>\n",
       "      <td>Vulnerable</td>\n",
       "      <td>1</td>\n",
       "    </tr>\n",
       "    <tr>\n",
       "      <th>10</th>\n",
       "      <td>Preocupación Menor</td>\n",
       "      <td>Preocupación Menor</td>\n",
       "      <td>1</td>\n",
       "    </tr>\n",
       "    <tr>\n",
       "      <th>11</th>\n",
       "      <td>Vulnerable</td>\n",
       "      <td>En Peligro</td>\n",
       "      <td>1</td>\n",
       "    </tr>\n",
       "    <tr>\n",
       "      <th>12</th>\n",
       "      <td>Vulnerable</td>\n",
       "      <td>En Peligro Crítico</td>\n",
       "      <td>1</td>\n",
       "    </tr>\n",
       "    <tr>\n",
       "      <th>13</th>\n",
       "      <td>Vulnerable</td>\n",
       "      <td>Vulnerable</td>\n",
       "      <td>2</td>\n",
       "    </tr>\n",
       "  </tbody>\n",
       "</table>\n",
       "</div>"
      ],
      "text/plain": [
       "            Nombre_categoria_2004          Nombre_cetegoria_2021  num_especies\n",
       "0                  Casi Amenazado                 Casi Amenazado             1\n",
       "1                  Casi Amenazado                     Vulnerable             1\n",
       "2                      En Peligro                     En Peligro             1\n",
       "3              En Peligro Crítico             En Peligro Crítico             1\n",
       "4   En Peligro Crítico/En Peligro  En Peligro Crítico/Vulnerable             1\n",
       "5                     No Evaluado                 Casi Amenazado             2\n",
       "6                     No Evaluado            Datos Insuficientes             2\n",
       "7                     No Evaluado                    No Evaluado             4\n",
       "8                     No Evaluado             Preocupación Menor             3\n",
       "9                     No Evaluado                     Vulnerable             1\n",
       "10             Preocupación Menor             Preocupación Menor             1\n",
       "11                     Vulnerable                     En Peligro             1\n",
       "12                     Vulnerable             En Peligro Crítico             1\n",
       "13                     Vulnerable                     Vulnerable             2"
      ]
     },
     "execution_count": 241,
     "metadata": {},
     "output_type": "execute_result"
    }
   ],
   "source": [
    "# Seleccion de las columnas\n",
    "censo_categoria=censo[['speciesname', 'LR2004', 'Estatus Consolidado', 'count_aves', 'Nombre_categoria_2004' ,'Nombre_cetegoria_2021']]\n",
    "\n",
    "censo_categoria3 = censo_categoria.groupby(['Nombre_categoria_2004', 'Nombre_cetegoria_2021']).agg({\n",
    "    'speciesname': pd.Series.nunique\n",
    "    }).reset_index()\n",
    "\n",
    "censo_categoria3.rename(columns={\n",
    "    'speciesname':'num_especies'    \n",
    "}, inplace=True)\n",
    "\n",
    "censo_categoria3"
   ]
  },
  {
   "cell_type": "markdown",
   "id": "ca3aa0ea",
   "metadata": {},
   "source": [
    "### Calcular los porcentages de especies por categoria"
   ]
  },
  {
   "cell_type": "code",
   "execution_count": 242,
   "id": "1c1da7eb",
   "metadata": {},
   "outputs": [
    {
     "name": "stderr",
     "output_type": "stream",
     "text": [
      "C:\\Users\\monic\\AppData\\Local\\Temp\\ipykernel_19980\\1483504417.py:20: UserWarning:\n",
      "\n",
      "FigureCanvasAgg is non-interactive, and thus cannot be shown\n",
      "\n"
     ]
    },
    {
     "data": {
      "image/png": "[encoded data removed]",
      "text/plain": [
       "<Figure size 1000x1000 with 1 Axes>"
      ]
     },
     "metadata": {},
     "output_type": "display_data"
    }
   ],
   "source": [
    "# Creación de la figura\n",
    "sankey(\n",
    "    left=censo_categoria3[\"Nombre_categoria_2004\"], \n",
    "    right=censo_categoria3[\"Nombre_cetegoria_2021\"], \n",
    "    leftWeight= censo_categoria3[\"num_especies\"], \n",
    "    rightWeight=censo_categoria3[\"num_especies\"], \n",
    "    aspect=50, fontsize=20, colorDict=color\n",
    ")\n",
    "\n",
    "fig = plt.gcf()\n",
    "\n",
    "# Indicamos el tamaño\n",
    "fig.set_size_inches(10, 10)\n",
    "\n",
    "# Ponemos el color del fondo blanco\n",
    "fig.set_facecolor(\"w\")\n",
    "\n",
    "fig.savefig(\"cambio_estado_especies_sankey.png\", bbox_inches=\"tight\", dpi=300)\n",
    "\n",
    "fig.show()"
   ]
  },
  {
   "cell_type": "markdown",
   "id": "6fb4283e",
   "metadata": {},
   "source": [
    "### Suburst para el tipo de categoria"
   ]
  },
  {
   "cell_type": "code",
   "execution_count": 243,
   "id": "0d2fc3da",
   "metadata": {},
   "outputs": [],
   "source": [
    "\n",
    "censo_sun = censo[['speciesid', 'speciesname', 'NOMBRE COMÚN', 'Catalan name', 'Scientific name','Ordre' ,'count_aves', 'year', 'EVOLUCIÓN CATEGORÍA 2004-2021', 'LR2004', 'Nombre_categoria_2004', 'Estatus Consolidado', 'Nombre_cetegoria_2021']]\n",
    "\n",
    "censo_sun_2023 = censo_sun[censo_sun['year'] == 2023]\n",
    "censo_sun_2007 = censo_sun[censo_sun['year'] == 2007]\n"
   ]
  },
  {
   "cell_type": "code",
   "execution_count": 244,
   "id": "b5aec1fd",
   "metadata": {},
   "outputs": [
    {
     "data": {
      "application/vnd.plotly.v1+json": {
       "config": {
        "plotlyServerURL": "https://plot.ly"
       },
       "data": [
        {
         "branchvalues": "total",
         "customdata": [
          [
           "(?)",
           "(?)",
           "Charadriiformes",
           "(?)",
           39,
           "Datos Insuficientes",
           "DD",
           "No Evaluado",
           "Datos Insuficientes"
          ],
          [
           "(?)",
           "(?)",
           "Charadriiformes",
           "(?)",
           39,
           "Datos Insuficientes",
           "DD",
           "No Evaluado",
           "Datos Insuficientes"
          ],
          [
           "Alca común",
           "Gavot",
           "Charadriiformes",
           "Alca torda",
           30,
           "Datos Insuficientes",
           "DD",
           "No Evaluado",
           "Datos Insuficientes"
          ],
          [
           "Frailecillo atlántico",
           "Fraret",
           "Charadriiformes",
           "Fratercula arctica",
           9,
           "Datos Insuficientes",
           "DD",
           "No Evaluado",
           "Datos Insuficientes"
          ],
          [
           "(?)",
           "(?)",
           "(?)",
           "(?)",
           151,
           "Desfavorable",
           "VU",
           "(?)",
           "Vulnerable"
          ],
          [
           "Gaviota tridáctila",
           "Gavineta de tres dits",
           "Charadriiformes",
           "Rissa tridactyla",
           27,
           "Desfavorable",
           "CR",
           "Vulnerable",
           "En Peligro Crítico"
          ],
          [
           "Gaviota cabecinegra",
           "Gavina capnegra",
           "Charadriiformes",
           "Larus melanocephalus",
           26,
           "Desfavorable",
           "NT",
           "No Evaluado",
           "Casi Amenazado"
          ],
          [
           "Charrán patinegro",
           "Xatrac becllarg",
           "Charadriiformes",
           "Thalasseus sandvicensis",
           43,
           "Desfavorable",
           "VU",
           "Casi Amenazado",
           "Vulnerable"
          ],
          [
           "Pardela mediterránea",
           "Baldriga mediterrània",
           "Procel·lariformes",
           "Puffinus yelkouan",
           108,
           "Desfavorable",
           "VU",
           "No Evaluado",
           "Vulnerable"
          ],
          [
           "Gaviota patiamarilla",
           "Gavià argentat",
           "Charadriiformes",
           "Larus michahellis",
           11,
           "Desfavorable",
           "NT",
           "No Evaluado",
           "Casi Amenazado"
          ],
          [
           "(?)",
           "(?)",
           "Charadriiformes",
           "(?)",
           37,
           "Desfavorable",
           "NT",
           "No Evaluado",
           "Casi Amenazado"
          ],
          [
           "Gaviota tridáctila",
           "Gavineta de tres dits",
           "Charadriiformes",
           "Rissa tridactyla",
           27,
           "Desfavorable",
           "CR",
           "Vulnerable",
           "En Peligro Crítico"
          ],
          [
           "(?)",
           "(?)",
           "(?)",
           "(?)",
           215,
           "Desfavorable",
           "(?)",
           "(?)",
           "(?)"
          ],
          [
           "Cormorán grande",
           "Corb marí gros",
           "Suliformes",
           "Phalacrocorax carbo",
           9,
           "Favorable",
           "LC",
           "No Evaluado",
           "Preocupación Menor"
          ],
          [
           "(?)",
           "(?)",
           "(?)",
           "(?)",
           67,
           "Favorable",
           "LC",
           "No Evaluado",
           "Preocupación Menor"
          ],
          [
           "Gaviota reidora",
           "Gavina riallera",
           "Charadriiformes",
           "Chroicocephalus ridibundus",
           15,
           "Favorable",
           "LC",
           "No Evaluado",
           "Preocupación Menor"
          ],
          [
           "Alcatraz atlántico",
           "Mascarell",
           "Suliformes",
           "Morus bassanus",
           43,
           "Favorable",
           "LC",
           "No Evaluado",
           "Preocupación Menor"
          ],
          [
           "(?)",
           "(?)",
           "(?)",
           "(?)",
           67,
           "Favorable",
           "LC",
           "No Evaluado",
           "Preocupación Menor"
          ],
          [
           "(?)",
           "(?)",
           "Charadriiformes",
           "(?)",
           11,
           "No Evaluada",
           "NE",
           "No Evaluado",
           "No Evaluado"
          ],
          [
           "Págalo grande",
           "Paràsit gros",
           "Charadriiformes",
           "Stercorarius skua",
           3,
           "No Evaluada",
           "NE",
           "No Evaluado",
           "No Evaluado"
          ],
          [
           "Págalo parásito",
           "Paràsit cuapunxegut",
           "Charadriiformes",
           "Stercorarius parasiticus",
           1,
           "No Evaluada",
           "NE",
           "No Evaluado",
           "No Evaluado"
          ],
          [
           "Gaviota enana",
           "Gavina menuda",
           "Charadriiformes",
           "Hydrocoloeus minutus",
           7,
           "No Evaluada",
           "NE",
           "No Evaluado",
           "No Evaluado"
          ],
          [
           "(?)",
           "(?)",
           "Charadriiformes",
           "(?)",
           11,
           "No Evaluada",
           "NE",
           "No Evaluado",
           "No Evaluado"
          ],
          [
           "Charrán común",
           "Xatrac comú",
           "Charadriiformes",
           "Sterna hirundo",
           2,
           "Sin Variaciones",
           "NT",
           "Casi Amenazado",
           "Casi Amenazado"
          ],
          [
           "(?)",
           "(?)",
           "(?)",
           "(?)",
           38,
           "Sin Variaciones",
           "VU",
           "Vulnerable",
           "Vulnerable"
          ],
          [
           "(?)",
           "(?)",
           "(?)",
           "(?)",
           124,
           "Sin Variaciones",
           "(?)",
           "(?)",
           "(?)"
          ],
          [
           "Gaviota sombría",
           "Gavià fosc",
           "Charadriiformes",
           "Larus fuscus",
           8,
           "Sin Variaciones",
           "LC",
           "Preocupación Menor",
           "Preocupación Menor"
          ],
          [
           "Pardela cenicienta mediterránea",
           "Baldriga cendrosa mediterrània",
           "Procel·lariformes",
           "Calonectris diomedea",
           41,
           "Sin Variaciones",
           "EN",
           "En Peligro",
           "En Peligro"
          ],
          [
           "Pardela balear",
           "Baldriga balear",
           "Procel·lariformes",
           "Puffinus mauretanicus",
           35,
           "Sin Variaciones",
           "CR",
           "En Peligro Crítico",
           "En Peligro Crítico"
          ],
          [
           "Pardela balear",
           "Baldriga balear",
           "Procel·lariformes",
           "Puffinus mauretanicus",
           35,
           "Sin Variaciones",
           "CR",
           "En Peligro Crítico",
           "En Peligro Crítico"
          ],
          [
           "Pardela cenicienta mediterránea",
           "Baldriga cendrosa mediterrània",
           "Procel·lariformes",
           "Calonectris diomedea",
           41,
           "Sin Variaciones",
           "EN",
           "En Peligro",
           "En Peligro"
          ],
          [
           "Gaviota sombría",
           "Gavià fosc",
           "Charadriiformes",
           "Larus fuscus",
           8,
           "Sin Variaciones",
           "LC",
           "Preocupación Menor",
           "Preocupación Menor"
          ],
          [
           "Charrán común",
           "Xatrac comú",
           "Charadriiformes",
           "Sterna hirundo",
           2,
           "Sin Variaciones",
           "NT",
           "Casi Amenazado",
           "Casi Amenazado"
          ],
          [
           "Cormorán moñudo",
           "Corbmarí emplomallat mediterrani",
           "Suliformes",
           "Phalacrocorax aristotelis",
           33,
           "Sin Variaciones",
           "VU",
           "Vulnerable",
           "Vulnerable"
          ],
          [
           "Gaviota de Audouin",
           "Gavina corsa",
           "Charadriiformes",
           "Larus audouinii",
           5,
           "Sin Variaciones",
           "VU",
           "Vulnerable",
           "Vulnerable"
          ],
          [
           "Pardela balear/mediterránea",
           "Baldriga balear/mediterranea",
           "Procel·lariformes",
           "Puffinus sp.",
           6,
           "Sin Variaciones/Desfavorable",
           "CR/VU",
           "En Peligro Crítico/En Peligro",
           "En Peligro Crítico/Vulnerable"
          ],
          [
           "Pardela balear/mediterránea",
           "Baldriga balear/mediterranea",
           "Procel·lariformes",
           "Puffinus sp.",
           6,
           "Sin Variaciones/Desfavorable",
           "CR/VU",
           "En Peligro Crítico/En Peligro",
           "En Peligro Crítico/Vulnerable"
          ],
          [
           "Pardela balear/mediterránea",
           "Baldriga balear/mediterranea",
           "Procel·lariformes",
           "Puffinus sp.",
           6,
           "Sin Variaciones/Desfavorable",
           "CR/VU",
           "En Peligro Crítico/En Peligro",
           "En Peligro Crítico/Vulnerable"
          ]
         ],
         "domain": {
          "x": [
           0,
           1
          ],
          "y": [
           0,
           1
          ]
         },
         "hovertemplate": "<b>Orden:</b> %{customdata[2]}<br><b>Especie:</b> %{label}<br><b>Nombre Catalán:</b> %{customdata[1]}<br><b>Nombre Científico:</b> %{customdata[3]}<br><b>Estado de conservación 2021:</b> %{customdata[8]}<br><b>Estado de conservación 2004:</b> %{customdata[7]}<br><b>Cambio de Estado:</b> %{customdata[5]}<br><b>Observaciones:</b> %{value}<extra></extra>",
         "hovertext": [
          "(?)",
          "(?)",
          "Alca común",
          "Frailecillo atlántico",
          "(?)",
          "Gaviota tridáctila",
          "Gaviota cabecinegra",
          "Charrán patinegro",
          "Pardela mediterránea",
          "Gaviota patiamarilla",
          "(?)",
          "Gaviota tridáctila",
          "(?)",
          "Cormorán grande",
          "(?)",
          "Gaviota reidora",
          "Alcatraz atlántico",
          "(?)",
          "(?)",
          "Págalo grande",
          "Págalo parásito",
          "Gaviota enana",
          "(?)",
          "Charrán común",
          "(?)",
          "(?)",
          "Gaviota sombría",
          "Pardela cenicienta mediterránea",
          "Pardela balear",
          "Pardela balear",
          "Pardela cenicienta mediterránea",
          "Gaviota sombría",
          "Charrán común",
          "Cormorán moñudo",
          "Gaviota de Audouin",
          "Pardela balear/mediterránea",
          "Pardela balear/mediterránea",
          "Pardela balear/mediterránea"
         ],
         "ids": [
          "Datos Insuficientes",
          "Datos Insuficientes/DD",
          "Datos Insuficientes/DD/Alca común",
          "Datos Insuficientes/DD/Frailecillo atlántico",
          "Desfavorable/VU",
          "Desfavorable/CR/Gaviota tridáctila",
          "Desfavorable/NT/Gaviota cabecinegra",
          "Desfavorable/VU/Charrán patinegro",
          "Desfavorable/VU/Pardela mediterránea",
          "Desfavorable/NT/Gaviota patiamarilla",
          "Desfavorable/NT",
          "Desfavorable/CR",
          "Desfavorable",
          "Favorable/LC/Cormorán grande",
          "Favorable",
          "Favorable/LC/Gaviota reidora",
          "Favorable/LC/Alcatraz atlántico",
          "Favorable/LC",
          "No Evaluada/NE",
          "No Evaluada/NE/Págalo grande",
          "No Evaluada/NE/Págalo parásito",
          "No Evaluada/NE/Gaviota enana",
          "No Evaluada",
          "Sin Variaciones/NT",
          "Sin Variaciones/VU",
          "Sin Variaciones",
          "Sin Variaciones/LC",
          "Sin Variaciones/EN",
          "Sin Variaciones/CR/Pardela balear",
          "Sin Variaciones/CR",
          "Sin Variaciones/EN/Pardela cenicienta mediterránea",
          "Sin Variaciones/LC/Gaviota sombría",
          "Sin Variaciones/NT/Charrán común",
          "Sin Variaciones/VU/Cormorán moñudo",
          "Sin Variaciones/VU/Gaviota de Audouin",
          "Sin Variaciones/Desfavorable",
          "Sin Variaciones/Desfavorable/CR/VU/Pardela balear/mediterránea",
          "Sin Variaciones/Desfavorable/CR/VU"
         ],
         "insidetextfont": {
          "color": "black",
          "family": "Arial",
          "size": 14,
          "weight": "bold"
         },
         "insidetextorientation": "radial",
         "labels": [
          "Datos Insuficientes",
          "DD",
          "Alca común",
          "Frailecillo atlántico",
          "VU",
          "Gaviota tridáctila",
          "Gaviota cabecinegra",
          "Charrán patinegro",
          "Pardela mediterránea",
          "Gaviota patiamarilla",
          "NT",
          "CR",
          "Desfavorable",
          "Cormorán grande",
          "Favorable",
          "Gaviota reidora",
          "Alcatraz atlántico",
          "LC",
          "NE",
          "Págalo grande",
          "Págalo parásito",
          "Gaviota enana",
          "No Evaluada",
          "NT",
          "VU",
          "Sin Variaciones",
          "LC",
          "EN",
          "Pardela balear",
          "CR",
          "Pardela cenicienta mediterránea",
          "Gaviota sombría",
          "Charrán común",
          "Cormorán moñudo",
          "Gaviota de Audouin",
          "Sin Variaciones/Desfavorable",
          "Pardela balear/mediterránea",
          "CR/VU"
         ],
         "marker": {
          "colors": [
           "#DCDCDC",
           "#DCDCDC",
           "#DCDCDC",
           "#DCDCDC",
           "#F5A9A9",
           "#F5A9A9",
           "#F5A9A9",
           "#F5A9A9",
           "#F5A9A9",
           "#F5A9A9",
           "#F5A9A9",
           "#F5A9A9",
           "#F5A9A9",
           "#C8E6A7",
           "#C8E6A7",
           "#C8E6A7",
           "#C8E6A7",
           "#C8E6A7",
           "#C8A2E8",
           "#C8A2E8",
           "#C8A2E8",
           "#C8A2E8",
           "#C8A2E8",
           "#A5D6F2",
           "#A5D6F2",
           "#A5D6F2",
           "#A5D6F2",
           "#A5D6F2",
           "#A5D6F2",
           "#A5D6F2",
           "#A5D6F2",
           "#A5D6F2",
           "#A5D6F2",
           "#A5D6F2",
           "#A5D6F2",
           "#FFEB9C",
           "#FFEB9C",
           "#FFEB9C"
          ]
         },
         "name": "",
         "parents": [
          "",
          "Datos Insuficientes",
          "Datos Insuficientes/DD",
          "Datos Insuficientes/DD",
          "Desfavorable",
          "Desfavorable/CR",
          "Desfavorable/NT",
          "Desfavorable/VU",
          "Desfavorable/VU",
          "Desfavorable/NT",
          "Desfavorable",
          "Desfavorable",
          "",
          "Favorable/LC",
          "",
          "Favorable/LC",
          "Favorable/LC",
          "Favorable",
          "No Evaluada",
          "No Evaluada/NE",
          "No Evaluada/NE",
          "No Evaluada/NE",
          "",
          "Sin Variaciones",
          "Sin Variaciones",
          "",
          "Sin Variaciones",
          "Sin Variaciones",
          "Sin Variaciones/CR",
          "Sin Variaciones",
          "Sin Variaciones/EN",
          "Sin Variaciones/LC",
          "Sin Variaciones/NT",
          "Sin Variaciones/VU",
          "Sin Variaciones/VU",
          "",
          "Sin Variaciones/Desfavorable/CR/VU",
          "Sin Variaciones/Desfavorable"
         ],
         "textfont": {
          "color": "black",
          "family": "Arial",
          "size": 12
         },
         "type": "sunburst",
         "values": {
          "bdata": "AAAAAACAQ0AAAAAAAIBDQAAAAAAAAD5AAAAAAAAAIkAAAAAAAOBiQAAAAAAAADtAAAAAAAAAOkAAAAAAAIBFQAAAAAAAAFtAAAAAAAAAJkAAAAAAAIBCQAAAAAAAADtAAAAAAADgakAAAAAAAAAiQAAAAAAAwFBAAAAAAAAALkAAAAAAAIBFQAAAAAAAwFBAAAAAAAAAJkAAAAAAAAAIQAAAAAAAAPA/AAAAAAAAHEAAAAAAAAAmQAAAAAAAAABAAAAAAAAAQ0AAAAAAAABfQAAAAAAAACBAAAAAAACAREAAAAAAAIBBQAAAAAAAgEFAAAAAAACAREAAAAAAAAAgQAAAAAAAAABAAAAAAACAQEAAAAAAAAAUQAAAAAAAABhAAAAAAAAAGEAAAAAAAAAYQA==",
          "dtype": "f8"
         }
        }
       ],
       "layout": {
        "height": 1000,
        "legend": {
         "tracegroupgap": 0
        },
        "template": {
         "data": {
          "bar": [
           {
            "error_x": {
             "color": "#2a3f5f"
            },
            "error_y": {
             "color": "#2a3f5f"
            },
            "marker": {
             "line": {
              "color": "#E5ECF6",
              "width": 0.5
             },
             "pattern": {
              "fillmode": "overlay",
              "size": 10,
              "solidity": 0.2
             }
            },
            "type": "bar"
           }
          ],
          "barpolar": [
           {
            "marker": {
             "line": {
              "color": "#E5ECF6",
              "width": 0.5
             },
             "pattern": {
              "fillmode": "overlay",
              "size": 10,
              "solidity": 0.2
             }
            },
            "type": "barpolar"
           }
          ],
          "carpet": [
           {
            "aaxis": {
             "endlinecolor": "#2a3f5f",
             "gridcolor": "white",
             "linecolor": "white",
             "minorgridcolor": "white",
             "startlinecolor": "#2a3f5f"
            },
            "baxis": {
             "endlinecolor": "#2a3f5f",
             "gridcolor": "white",
             "linecolor": "white",
             "minorgridcolor": "white",
             "startlinecolor": "#2a3f5f"
            },
            "type": "carpet"
           }
          ],
          "choropleth": [
           {
            "colorbar": {
             "outlinewidth": 0,
             "ticks": ""
            },
            "type": "choropleth"
           }
          ],
          "contour": [
           {
            "colorbar": {
             "outlinewidth": 0,
             "ticks": ""
            },
            "colorscale": [
             [
              0,
              "#0d0887"
             ],
             [
              0.1111111111111111,
              "#46039f"
             ],
             [
              0.2222222222222222,
              "#7201a8"
             ],
             [
              0.3333333333333333,
              "#9c179e"
             ],
             [
              0.4444444444444444,
              "#bd3786"
             ],
             [
              0.5555555555555556,
              "#d8576b"
             ],
             [
              0.6666666666666666,
              "#ed7953"
             ],
             [
              0.7777777777777778,
              "#fb9f3a"
             ],
             [
              0.8888888888888888,
              "#fdca26"
             ],
             [
              1,
              "#f0f921"
             ]
            ],
            "type": "contour"
           }
          ],
          "contourcarpet": [
           {
            "colorbar": {
             "outlinewidth": 0,
             "ticks": ""
            },
            "type": "contourcarpet"
           }
          ],
          "heatmap": [
           {
            "colorbar": {
             "outlinewidth": 0,
             "ticks": ""
            },
            "colorscale": [
             [
              0,
              "#0d0887"
             ],
             [
              0.1111111111111111,
              "#46039f"
             ],
             [
              0.2222222222222222,
              "#7201a8"
             ],
             [
              0.3333333333333333,
              "#9c179e"
             ],
             [
              0.4444444444444444,
              "#bd3786"
             ],
             [
              0.5555555555555556,
              "#d8576b"
             ],
             [
              0.6666666666666666,
              "#ed7953"
             ],
             [
              0.7777777777777778,
              "#fb9f3a"
             ],
             [
              0.8888888888888888,
              "#fdca26"
             ],
             [
              1,
              "#f0f921"
             ]
            ],
            "type": "heatmap"
           }
          ],
          "histogram": [
           {
            "marker": {
             "pattern": {
              "fillmode": "overlay",
              "size": 10,
              "solidity": 0.2
             }
            },
            "type": "histogram"
           }
          ],
          "histogram2d": [
           {
            "colorbar": {
             "outlinewidth": 0,
             "ticks": ""
            },
            "colorscale": [
             [
              0,
              "#0d0887"
             ],
             [
              0.1111111111111111,
              "#46039f"
             ],
             [
              0.2222222222222222,
              "#7201a8"
             ],
             [
              0.3333333333333333,
              "#9c179e"
             ],
             [
              0.4444444444444444,
              "#bd3786"
             ],
             [
              0.5555555555555556,
              "#d8576b"
             ],
             [
              0.6666666666666666,
              "#ed7953"
             ],
             [
              0.7777777777777778,
              "#fb9f3a"
             ],
             [
              0.8888888888888888,
              "#fdca26"
             ],
             [
              1,
              "#f0f921"
             ]
            ],
            "type": "histogram2d"
           }
          ],
          "histogram2dcontour": [
           {
            "colorbar": {
             "outlinewidth": 0,
             "ticks": ""
            },
            "colorscale": [
             [
              0,
              "#0d0887"
             ],
             [
              0.1111111111111111,
              "#46039f"
             ],
             [
              0.2222222222222222,
              "#7201a8"
             ],
             [
              0.3333333333333333,
              "#9c179e"
             ],
             [
              0.4444444444444444,
              "#bd3786"
             ],
             [
              0.5555555555555556,
              "#d8576b"
             ],
             [
              0.6666666666666666,
              "#ed7953"
             ],
             [
              0.7777777777777778,
              "#fb9f3a"
             ],
             [
              0.8888888888888888,
              "#fdca26"
             ],
             [
              1,
              "#f0f921"
             ]
            ],
            "type": "histogram2dcontour"
           }
          ],
          "mesh3d": [
           {
            "colorbar": {
             "outlinewidth": 0,
             "ticks": ""
            },
            "type": "mesh3d"
           }
          ],
          "parcoords": [
           {
            "line": {
             "colorbar": {
              "outlinewidth": 0,
              "ticks": ""
             }
            },
            "type": "parcoords"
           }
          ],
          "pie": [
           {
            "automargin": true,
            "type": "pie"
           }
          ],
          "scatter": [
           {
            "fillpattern": {
             "fillmode": "overlay",
             "size": 10,
             "solidity": 0.2
            },
            "type": "scatter"
           }
          ],
          "scatter3d": [
           {
            "line": {
             "colorbar": {
              "outlinewidth": 0,
              "ticks": ""
             }
            },
            "marker": {
             "colorbar": {
              "outlinewidth": 0,
              "ticks": ""
             }
            },
            "type": "scatter3d"
           }
          ],
          "scattercarpet": [
           {
            "marker": {
             "colorbar": {
              "outlinewidth": 0,
              "ticks": ""
             }
            },
            "type": "scattercarpet"
           }
          ],
          "scattergeo": [
           {
            "marker": {
             "colorbar": {
              "outlinewidth": 0,
              "ticks": ""
             }
            },
            "type": "scattergeo"
           }
          ],
          "scattergl": [
           {
            "marker": {
             "colorbar": {
              "outlinewidth": 0,
              "ticks": ""
             }
            },
            "type": "scattergl"
           }
          ],
          "scattermap": [
           {
            "marker": {
             "colorbar": {
              "outlinewidth": 0,
              "ticks": ""
             }
            },
            "type": "scattermap"
           }
          ],
          "scattermapbox": [
           {
            "marker": {
             "colorbar": {
              "outlinewidth": 0,
              "ticks": ""
             }
            },
            "type": "scattermapbox"
           }
          ],
          "scatterpolar": [
           {
            "marker": {
             "colorbar": {
              "outlinewidth": 0,
              "ticks": ""
             }
            },
            "type": "scatterpolar"
           }
          ],
          "scatterpolargl": [
           {
            "marker": {
             "colorbar": {
              "outlinewidth": 0,
              "ticks": ""
             }
            },
            "type": "scatterpolargl"
           }
          ],
          "scatterternary": [
           {
            "marker": {
             "colorbar": {
              "outlinewidth": 0,
              "ticks": ""
             }
            },
            "type": "scatterternary"
           }
          ],
          "surface": [
           {
            "colorbar": {
             "outlinewidth": 0,
             "ticks": ""
            },
            "colorscale": [
             [
              0,
              "#0d0887"
             ],
             [
              0.1111111111111111,
              "#46039f"
             ],
             [
              0.2222222222222222,
              "#7201a8"
             ],
             [
              0.3333333333333333,
              "#9c179e"
             ],
             [
              0.4444444444444444,
              "#bd3786"
             ],
             [
              0.5555555555555556,
              "#d8576b"
             ],
             [
              0.6666666666666666,
              "#ed7953"
             ],
             [
              0.7777777777777778,
              "#fb9f3a"
             ],
             [
              0.8888888888888888,
              "#fdca26"
             ],
             [
              1,
              "#f0f921"
             ]
            ],
            "type": "surface"
           }
          ],
          "table": [
           {
            "cells": {
             "fill": {
              "color": "#EBF0F8"
             },
             "line": {
              "color": "white"
             }
            },
            "header": {
             "fill": {
              "color": "#C8D4E3"
             },
             "line": {
              "color": "white"
             }
            },
            "type": "table"
           }
          ]
         },
         "layout": {
          "annotationdefaults": {
           "arrowcolor": "#2a3f5f",
           "arrowhead": 0,
           "arrowwidth": 1
          },
          "autotypenumbers": "strict",
          "coloraxis": {
           "colorbar": {
            "outlinewidth": 0,
            "ticks": ""
           }
          },
          "colorscale": {
           "diverging": [
            [
             0,
             "#8e0152"
            ],
            [
             0.1,
             "#c51b7d"
            ],
            [
             0.2,
             "#de77ae"
            ],
            [
             0.3,
             "#f1b6da"
            ],
            [
             0.4,
             "#fde0ef"
            ],
            [
             0.5,
             "#f7f7f7"
            ],
            [
             0.6,
             "#e6f5d0"
            ],
            [
             0.7,
             "#b8e186"
            ],
            [
             0.8,
             "#7fbc41"
            ],
            [
             0.9,
             "#4d9221"
            ],
            [
             1,
             "#276419"
            ]
           ],
           "sequential": [
            [
             0,
             "#0d0887"
            ],
            [
             0.1111111111111111,
             "#46039f"
            ],
            [
             0.2222222222222222,
             "#7201a8"
            ],
            [
             0.3333333333333333,
             "#9c179e"
            ],
            [
             0.4444444444444444,
             "#bd3786"
            ],
            [
             0.5555555555555556,
             "#d8576b"
            ],
            [
             0.6666666666666666,
             "#ed7953"
            ],
            [
             0.7777777777777778,
             "#fb9f3a"
            ],
            [
             0.8888888888888888,
             "#fdca26"
            ],
            [
             1,
             "#f0f921"
            ]
           ],
           "sequentialminus": [
            [
             0,
             "#0d0887"
            ],
            [
             0.1111111111111111,
             "#46039f"
            ],
            [
             0.2222222222222222,
             "#7201a8"
            ],
            [
             0.3333333333333333,
             "#9c179e"
            ],
            [
             0.4444444444444444,
             "#bd3786"
            ],
            [
             0.5555555555555556,
             "#d8576b"
            ],
            [
             0.6666666666666666,
             "#ed7953"
            ],
            [
             0.7777777777777778,
             "#fb9f3a"
            ],
            [
             0.8888888888888888,
             "#fdca26"
            ],
            [
             1,
             "#f0f921"
            ]
           ]
          },
          "colorway": [
           "#636efa",
           "#EF553B",
           "#00cc96",
           "#ab63fa",
           "#FFA15A",
           "#19d3f3",
           "#FF6692",
           "#B6E880",
           "#FF97FF",
           "#FECB52"
          ],
          "font": {
           "color": "#2a3f5f"
          },
          "geo": {
           "bgcolor": "white",
           "lakecolor": "white",
           "landcolor": "#E5ECF6",
           "showlakes": true,
           "showland": true,
           "subunitcolor": "white"
          },
          "hoverlabel": {
           "align": "left"
          },
          "hovermode": "closest",
          "mapbox": {
           "style": "light"
          },
          "paper_bgcolor": "white",
          "plot_bgcolor": "#E5ECF6",
          "polar": {
           "angularaxis": {
            "gridcolor": "white",
            "linecolor": "white",
            "ticks": ""
           },
           "bgcolor": "#E5ECF6",
           "radialaxis": {
            "gridcolor": "white",
            "linecolor": "white",
            "ticks": ""
           }
          },
          "scene": {
           "xaxis": {
            "backgroundcolor": "#E5ECF6",
            "gridcolor": "white",
            "gridwidth": 2,
            "linecolor": "white",
            "showbackground": true,
            "ticks": "",
            "zerolinecolor": "white"
           },
           "yaxis": {
            "backgroundcolor": "#E5ECF6",
            "gridcolor": "white",
            "gridwidth": 2,
            "linecolor": "white",
            "showbackground": true,
            "ticks": "",
            "zerolinecolor": "white"
           },
           "zaxis": {
            "backgroundcolor": "#E5ECF6",
            "gridcolor": "white",
            "gridwidth": 2,
            "linecolor": "white",
            "showbackground": true,
            "ticks": "",
            "zerolinecolor": "white"
           }
          },
          "shapedefaults": {
           "line": {
            "color": "#2a3f5f"
           }
          },
          "ternary": {
           "aaxis": {
            "gridcolor": "white",
            "linecolor": "white",
            "ticks": ""
           },
           "baxis": {
            "gridcolor": "white",
            "linecolor": "white",
            "ticks": ""
           },
           "bgcolor": "#E5ECF6",
           "caxis": {
            "gridcolor": "white",
            "linecolor": "white",
            "ticks": ""
           }
          },
          "title": {
           "x": 0.05
          },
          "xaxis": {
           "automargin": true,
           "gridcolor": "white",
           "linecolor": "white",
           "ticks": "",
           "title": {
            "standoff": 15
           },
           "zerolinecolor": "white",
           "zerolinewidth": 2
          },
          "yaxis": {
           "automargin": true,
           "gridcolor": "white",
           "linecolor": "white",
           "ticks": "",
           "title": {
            "standoff": 15
           },
           "zerolinecolor": "white",
           "zerolinewidth": 2
          }
         }
        },
        "title": {
         "text": "Numero de Individuos por Cambio de Estado de Conservación y Especie en 2023"
        },
        "width": 1000
       }
      }
     },
     "metadata": {},
     "output_type": "display_data"
    }
   ],
   "source": [
    "fig = px.sunburst(censo_sun_2023,\n",
    "                  path=['EVOLUCIÓN CATEGORÍA 2004-2021', 'Estatus Consolidado' ,'NOMBRE COMÚN'], # Creo la jerarquia\n",
    "                  values='count_aves',\n",
    "                  title='Numero de Individuos por Cambio de Estado de Conservación y Especie en 2023',\n",
    "                  color='EVOLUCIÓN CATEGORÍA 2004-2021',\n",
    "                  color_discrete_map=color,\n",
    "                  hover_name = 'NOMBRE COMÚN',\n",
    "                  hover_data={\n",
    "                          \"NOMBRE COMÚN\": True,\n",
    "                          'Catalan name':True,\n",
    "                          'Ordre':True,\n",
    "                          \"Scientific name\": True,\n",
    "                          \"count_aves\":True,\n",
    "                          'EVOLUCIÓN CATEGORÍA 2004-2021':True, \n",
    "                          'Estatus Consolidado':True, \n",
    "                          'Nombre_categoria_2004':True,\n",
    "                          'Nombre_cetegoria_2021':True\n",
    "                          }, \n",
    "                  height=1000,  \n",
    "                  width=1000 \n",
    "                 )\n",
    "\n",
    "# Personalización del hover data\n",
    "fig.update_traces(\n",
    "      hovertemplate=\"<b>Orden:</b> %{customdata[2]}<br>\" + # El orden\n",
    "                  \"<b>Especie:</b> %{label}<br>\" + # El nombre científico\n",
    "                  \"<b>Nombre Catalán:</b> %{customdata[1]}<br>\" + \n",
    "                  \"<b>Nombre Científico:</b> %{customdata[3]}<br>\" + \n",
    "                  \"<b>Estado de conservación 2021:</b> %{customdata[8]}<br>\" +\n",
    "                  \"<b>Estado de conservación 2004:</b> %{customdata[7]}<br>\" +\n",
    "                  \"<b>Cambio de Estado:</b> %{customdata[5]}<br>\"\n",
    "                  \"<b>Observaciones:</b> %{value}<extra></extra>\",\n",
    "    textfont=dict(size=12, family=\"Arial\", color=\"black\"),\n",
    "    insidetextfont=dict(family=\"Arial\", size=14, color=\"black\", weight=\"bold\"), \n",
    "    insidetextorientation='radial'\n",
    ")\n",
    "\n",
    "fig.show()\n",
    "\n",
    "# Guardar archivo en HTML\n",
    "fig.write_html(\"sun_individuos_cambio_estado_conservacion_especie_2023.html\")"
   ]
  },
  {
   "cell_type": "code",
   "execution_count": 245,
   "id": "8b367b68",
   "metadata": {},
   "outputs": [
    {
     "data": {
      "application/vnd.plotly.v1+json": {
       "config": {
        "plotlyServerURL": "https://plot.ly"
       },
       "data": [
        {
         "branchvalues": "total",
         "customdata": [
          [
           "Pardela balear",
           "Baldriga balear",
           "Procel·lariformes",
           "Puffinus mauretanicus",
           35,
           "Sin Variaciones",
           "CR",
           "En Peligro Crítico",
           "En Peligro Crítico"
          ],
          [
           "(?)",
           "(?)",
           "(?)",
           "(?)",
           62,
           "(?)",
           "CR",
           "(?)",
           "En Peligro Crítico"
          ],
          [
           "Gaviota tridáctila",
           "Gavineta de tres dits",
           "Charadriiformes",
           "Rissa tridactyla",
           27,
           "Desfavorable",
           "CR",
           "Vulnerable",
           "En Peligro Crítico"
          ],
          [
           "Pardela balear/mediterránea",
           "Baldriga balear/mediterranea",
           "Procel·lariformes",
           "Puffinus sp.",
           6,
           "Sin Variaciones/Desfavorable",
           "CR/VU",
           "En Peligro Crítico/En Peligro",
           "En Peligro Crítico/Vulnerable"
          ],
          [
           "Pardela balear/mediterránea",
           "Baldriga balear/mediterranea",
           "Procel·lariformes",
           "Puffinus sp.",
           6,
           "Sin Variaciones/Desfavorable",
           "CR/VU",
           "En Peligro Crítico/En Peligro",
           "En Peligro Crítico/Vulnerable"
          ],
          [
           "(?)",
           "(?)",
           "Charadriiformes",
           "(?)",
           39,
           "Datos Insuficientes",
           "DD",
           "No Evaluado",
           "Datos Insuficientes"
          ],
          [
           "Alca común",
           "Gavot",
           "Charadriiformes",
           "Alca torda",
           30,
           "Datos Insuficientes",
           "DD",
           "No Evaluado",
           "Datos Insuficientes"
          ],
          [
           "Frailecillo atlántico",
           "Fraret",
           "Charadriiformes",
           "Fratercula arctica",
           9,
           "Datos Insuficientes",
           "DD",
           "No Evaluado",
           "Datos Insuficientes"
          ],
          [
           "Pardela cenicienta mediterránea",
           "Baldriga cendrosa mediterrània",
           "Procel·lariformes",
           "Calonectris diomedea",
           41,
           "Sin Variaciones",
           "EN",
           "En Peligro",
           "En Peligro"
          ],
          [
           "Pardela cenicienta mediterránea",
           "Baldriga cendrosa mediterrània",
           "Procel·lariformes",
           "Calonectris diomedea",
           41,
           "Sin Variaciones",
           "EN",
           "En Peligro",
           "En Peligro"
          ],
          [
           "Cormorán grande",
           "Corb marí gros",
           "Suliformes",
           "Phalacrocorax carbo",
           9,
           "Favorable",
           "LC",
           "No Evaluado",
           "Preocupación Menor"
          ],
          [
           "(?)",
           "(?)",
           "(?)",
           "(?)",
           75,
           "(?)",
           "LC",
           "(?)",
           "Preocupación Menor"
          ],
          [
           "Gaviota reidora",
           "Gavina riallera",
           "Charadriiformes",
           "Chroicocephalus ridibundus",
           15,
           "Favorable",
           "LC",
           "No Evaluado",
           "Preocupación Menor"
          ],
          [
           "Alcatraz atlántico",
           "Mascarell",
           "Suliformes",
           "Morus bassanus",
           43,
           "Favorable",
           "LC",
           "No Evaluado",
           "Preocupación Menor"
          ],
          [
           "Gaviota sombría",
           "Gavià fosc",
           "Charadriiformes",
           "Larus fuscus",
           8,
           "Sin Variaciones",
           "LC",
           "Preocupación Menor",
           "Preocupación Menor"
          ],
          [
           "(?)",
           "(?)",
           "Charadriiformes",
           "(?)",
           11,
           "No Evaluada",
           "NE",
           "No Evaluado",
           "No Evaluado"
          ],
          [
           "Págalo grande",
           "Paràsit gros",
           "Charadriiformes",
           "Stercorarius skua",
           3,
           "No Evaluada",
           "NE",
           "No Evaluado",
           "No Evaluado"
          ],
          [
           "Págalo parásito",
           "Paràsit cuapunxegut",
           "Charadriiformes",
           "Stercorarius parasiticus",
           1,
           "No Evaluada",
           "NE",
           "No Evaluado",
           "No Evaluado"
          ],
          [
           "Gaviota enana",
           "Gavina menuda",
           "Charadriiformes",
           "Hydrocoloeus minutus",
           7,
           "No Evaluada",
           "NE",
           "No Evaluado",
           "No Evaluado"
          ],
          [
           "Charrán común",
           "Xatrac comú",
           "Charadriiformes",
           "Sterna hirundo",
           2,
           "Sin Variaciones",
           "NT",
           "Casi Amenazado",
           "Casi Amenazado"
          ],
          [
           "Gaviota patiamarilla",
           "Gavià argentat",
           "Charadriiformes",
           "Larus michahellis",
           11,
           "Desfavorable",
           "NT",
           "No Evaluado",
           "Casi Amenazado"
          ],
          [
           "(?)",
           "(?)",
           "Charadriiformes",
           "(?)",
           39,
           "(?)",
           "NT",
           "(?)",
           "Casi Amenazado"
          ],
          [
           "Gaviota cabecinegra",
           "Gavina capnegra",
           "Charadriiformes",
           "Larus melanocephalus",
           26,
           "Desfavorable",
           "NT",
           "No Evaluado",
           "Casi Amenazado"
          ],
          [
           "Gaviota de Audouin",
           "Gavina corsa",
           "Charadriiformes",
           "Larus audouinii",
           5,
           "Sin Variaciones",
           "VU",
           "Vulnerable",
           "Vulnerable"
          ],
          [
           "(?)",
           "(?)",
           "(?)",
           "(?)",
           189,
           "(?)",
           "VU",
           "(?)",
           "Vulnerable"
          ],
          [
           "Pardela mediterránea",
           "Baldriga mediterrània",
           "Procel·lariformes",
           "Puffinus yelkouan",
           108,
           "Desfavorable",
           "VU",
           "No Evaluado",
           "Vulnerable"
          ],
          [
           "Cormorán moñudo",
           "Corbmarí emplomallat mediterrani",
           "Suliformes",
           "Phalacrocorax aristotelis",
           33,
           "Sin Variaciones",
           "VU",
           "Vulnerable",
           "Vulnerable"
          ],
          [
           "Charrán patinegro",
           "Xatrac becllarg",
           "Charadriiformes",
           "Thalasseus sandvicensis",
           43,
           "Desfavorable",
           "VU",
           "Casi Amenazado",
           "Vulnerable"
          ]
         ],
         "domain": {
          "x": [
           0,
           1
          ],
          "y": [
           0,
           1
          ]
         },
         "hovertemplate": "<b>Orden:</b> %{customdata[2]}<br><b>Especie:</b> %{label}<br><b>Nombre Catalán:</b> %{customdata[1]}<br><b>Nombre Científico:</b> %{customdata[3]}<br><b>Estado de conservación 2021:</b> %{customdata[8]}<br><b>Estado de conservación 2004:</b> %{customdata[7]}<br><b>Cambio de Estado:</b> %{customdata[5]}<br><b>Observaciones:</b> %{value}<extra></extra>",
         "hovertext": [
          "Pardela balear",
          "(?)",
          "Gaviota tridáctila",
          "Pardela balear/mediterránea",
          "Pardela balear/mediterránea",
          "(?)",
          "Alca común",
          "Frailecillo atlántico",
          "Pardela cenicienta mediterránea",
          "Pardela cenicienta mediterránea",
          "Cormorán grande",
          "(?)",
          "Gaviota reidora",
          "Alcatraz atlántico",
          "Gaviota sombría",
          "(?)",
          "Págalo grande",
          "Págalo parásito",
          "Gaviota enana",
          "Charrán común",
          "Gaviota patiamarilla",
          "(?)",
          "Gaviota cabecinegra",
          "Gaviota de Audouin",
          "(?)",
          "Pardela mediterránea",
          "Cormorán moñudo",
          "Charrán patinegro"
         ],
         "ids": [
          "CR/Pardela balear",
          "CR",
          "CR/Gaviota tridáctila",
          "CR/VU/Pardela balear/mediterránea",
          "CR/VU",
          "DD",
          "DD/Alca común",
          "DD/Frailecillo atlántico",
          "EN",
          "EN/Pardela cenicienta mediterránea",
          "LC/Cormorán grande",
          "LC",
          "LC/Gaviota reidora",
          "LC/Alcatraz atlántico",
          "LC/Gaviota sombría",
          "NE",
          "NE/Págalo grande",
          "NE/Págalo parásito",
          "NE/Gaviota enana",
          "NT/Charrán común",
          "NT/Gaviota patiamarilla",
          "NT",
          "NT/Gaviota cabecinegra",
          "VU/Gaviota de Audouin",
          "VU",
          "VU/Pardela mediterránea",
          "VU/Cormorán moñudo",
          "VU/Charrán patinegro"
         ],
         "insidetextfont": {
          "color": "black",
          "family": "Arial",
          "size": 14,
          "weight": "bold"
         },
         "insidetextorientation": "radial",
         "labels": [
          "Pardela balear",
          "CR",
          "Gaviota tridáctila",
          "Pardela balear/mediterránea",
          "CR/VU",
          "DD",
          "Alca común",
          "Frailecillo atlántico",
          "EN",
          "Pardela cenicienta mediterránea",
          "Cormorán grande",
          "LC",
          "Gaviota reidora",
          "Alcatraz atlántico",
          "Gaviota sombría",
          "NE",
          "Págalo grande",
          "Págalo parásito",
          "Gaviota enana",
          "Charrán común",
          "Gaviota patiamarilla",
          "NT",
          "Gaviota cabecinegra",
          "Gaviota de Audouin",
          "VU",
          "Pardela mediterránea",
          "Cormorán moñudo",
          "Charrán patinegro"
         ],
         "marker": {
          "colors": [
           "#F5A9A9",
           "#F5A9A9",
           "#F5A9A9",
           "#FFC28E",
           "#FFC28E",
           "#DCDCDC",
           "#DCDCDC",
           "#DCDCDC",
           "#FFEB9C",
           "#FFEB9C",
           "#C8E6A7",
           "#C8E6A7",
           "#C8E6A7",
           "#C8E6A7",
           "#C8E6A7",
           "#C8A2E8",
           "#C8A2E8",
           "#C8A2E8",
           "#C8A2E8",
           "#A5D6F2",
           "#A5D6F2",
           "#A5D6F2",
           "#A5D6F2",
           "#FFFFB2",
           "#FFFFB2",
           "#FFFFB2",
           "#FFFFB2",
           "#FFFFB2"
          ]
         },
         "name": "",
         "parents": [
          "CR",
          "",
          "CR",
          "CR/VU",
          "",
          "",
          "DD",
          "DD",
          "",
          "EN",
          "LC",
          "",
          "LC",
          "LC",
          "LC",
          "",
          "NE",
          "NE",
          "NE",
          "NT",
          "NT",
          "",
          "NT",
          "VU",
          "",
          "VU",
          "VU",
          "VU"
         ],
         "textfont": {
          "color": "black",
          "family": "Arial",
          "size": 12
         },
         "type": "sunburst",
         "values": {
          "bdata": "AAAAAACAQUAAAAAAAABPQAAAAAAAADtAAAAAAAAAGEAAAAAAAAAYQAAAAAAAgENAAAAAAAAAPkAAAAAAAAAiQAAAAAAAgERAAAAAAACAREAAAAAAAAAiQAAAAAAAwFJAAAAAAAAALkAAAAAAAIBFQAAAAAAAACBAAAAAAAAAJkAAAAAAAAAIQAAAAAAAAPA/AAAAAAAAHEAAAAAAAAAAQAAAAAAAACZAAAAAAACAQ0AAAAAAAAA6QAAAAAAAABRAAAAAAACgZ0AAAAAAAABbQAAAAAAAgEBAAAAAAACARUA=",
          "dtype": "f8"
         }
        }
       ],
       "layout": {
        "height": 1000,
        "legend": {
         "tracegroupgap": 0
        },
        "template": {
         "data": {
          "bar": [
           {
            "error_x": {
             "color": "#2a3f5f"
            },
            "error_y": {
             "color": "#2a3f5f"
            },
            "marker": {
             "line": {
              "color": "#E5ECF6",
              "width": 0.5
             },
             "pattern": {
              "fillmode": "overlay",
              "size": 10,
              "solidity": 0.2
             }
            },
            "type": "bar"
           }
          ],
          "barpolar": [
           {
            "marker": {
             "line": {
              "color": "#E5ECF6",
              "width": 0.5
             },
             "pattern": {
              "fillmode": "overlay",
              "size": 10,
              "solidity": 0.2
             }
            },
            "type": "barpolar"
           }
          ],
          "carpet": [
           {
            "aaxis": {
             "endlinecolor": "#2a3f5f",
             "gridcolor": "white",
             "linecolor": "white",
             "minorgridcolor": "white",
             "startlinecolor": "#2a3f5f"
            },
            "baxis": {
             "endlinecolor": "#2a3f5f",
             "gridcolor": "white",
             "linecolor": "white",
             "minorgridcolor": "white",
             "startlinecolor": "#2a3f5f"
            },
            "type": "carpet"
           }
          ],
          "choropleth": [
           {
            "colorbar": {
             "outlinewidth": 0,
             "ticks": ""
            },
            "type": "choropleth"
           }
          ],
          "contour": [
           {
            "colorbar": {
             "outlinewidth": 0,
             "ticks": ""
            },
            "colorscale": [
             [
              0,
              "#0d0887"
             ],
             [
              0.1111111111111111,
              "#46039f"
             ],
             [
              0.2222222222222222,
              "#7201a8"
             ],
             [
              0.3333333333333333,
              "#9c179e"
             ],
             [
              0.4444444444444444,
              "#bd3786"
             ],
             [
              0.5555555555555556,
              "#d8576b"
             ],
             [
              0.6666666666666666,
              "#ed7953"
             ],
             [
              0.7777777777777778,
              "#fb9f3a"
             ],
             [
              0.8888888888888888,
              "#fdca26"
             ],
             [
              1,
              "#f0f921"
             ]
            ],
            "type": "contour"
           }
          ],
          "contourcarpet": [
           {
            "colorbar": {
             "outlinewidth": 0,
             "ticks": ""
            },
            "type": "contourcarpet"
           }
          ],
          "heatmap": [
           {
            "colorbar": {
             "outlinewidth": 0,
             "ticks": ""
            },
            "colorscale": [
             [
              0,
              "#0d0887"
             ],
             [
              0.1111111111111111,
              "#46039f"
             ],
             [
              0.2222222222222222,
              "#7201a8"
             ],
             [
              0.3333333333333333,
              "#9c179e"
             ],
             [
              0.4444444444444444,
              "#bd3786"
             ],
             [
              0.5555555555555556,
              "#d8576b"
             ],
             [
              0.6666666666666666,
              "#ed7953"
             ],
             [
              0.7777777777777778,
              "#fb9f3a"
             ],
             [
              0.8888888888888888,
              "#fdca26"
             ],
             [
              1,
              "#f0f921"
             ]
            ],
            "type": "heatmap"
           }
          ],
          "histogram": [
           {
            "marker": {
             "pattern": {
              "fillmode": "overlay",
              "size": 10,
              "solidity": 0.2
             }
            },
            "type": "histogram"
           }
          ],
          "histogram2d": [
           {
            "colorbar": {
             "outlinewidth": 0,
             "ticks": ""
            },
            "colorscale": [
             [
              0,
              "#0d0887"
             ],
             [
              0.1111111111111111,
              "#46039f"
             ],
             [
              0.2222222222222222,
              "#7201a8"
             ],
             [
              0.3333333333333333,
              "#9c179e"
             ],
             [
              0.4444444444444444,
              "#bd3786"
             ],
             [
              0.5555555555555556,
              "#d8576b"
             ],
             [
              0.6666666666666666,
              "#ed7953"
             ],
             [
              0.7777777777777778,
              "#fb9f3a"
             ],
             [
              0.8888888888888888,
              "#fdca26"
             ],
             [
              1,
              "#f0f921"
             ]
            ],
            "type": "histogram2d"
           }
          ],
          "histogram2dcontour": [
           {
            "colorbar": {
             "outlinewidth": 0,
             "ticks": ""
            },
            "colorscale": [
             [
              0,
              "#0d0887"
             ],
             [
              0.1111111111111111,
              "#46039f"
             ],
             [
              0.2222222222222222,
              "#7201a8"
             ],
             [
              0.3333333333333333,
              "#9c179e"
             ],
             [
              0.4444444444444444,
              "#bd3786"
             ],
             [
              0.5555555555555556,
              "#d8576b"
             ],
             [
              0.6666666666666666,
              "#ed7953"
             ],
             [
              0.7777777777777778,
              "#fb9f3a"
             ],
             [
              0.8888888888888888,
              "#fdca26"
             ],
             [
              1,
              "#f0f921"
             ]
            ],
            "type": "histogram2dcontour"
           }
          ],
          "mesh3d": [
           {
            "colorbar": {
             "outlinewidth": 0,
             "ticks": ""
            },
            "type": "mesh3d"
           }
          ],
          "parcoords": [
           {
            "line": {
             "colorbar": {
              "outlinewidth": 0,
              "ticks": ""
             }
            },
            "type": "parcoords"
           }
          ],
          "pie": [
           {
            "automargin": true,
            "type": "pie"
           }
          ],
          "scatter": [
           {
            "fillpattern": {
             "fillmode": "overlay",
             "size": 10,
             "solidity": 0.2
            },
            "type": "scatter"
           }
          ],
          "scatter3d": [
           {
            "line": {
             "colorbar": {
              "outlinewidth": 0,
              "ticks": ""
             }
            },
            "marker": {
             "colorbar": {
              "outlinewidth": 0,
              "ticks": ""
             }
            },
            "type": "scatter3d"
           }
          ],
          "scattercarpet": [
           {
            "marker": {
             "colorbar": {
              "outlinewidth": 0,
              "ticks": ""
             }
            },
            "type": "scattercarpet"
           }
          ],
          "scattergeo": [
           {
            "marker": {
             "colorbar": {
              "outlinewidth": 0,
              "ticks": ""
             }
            },
            "type": "scattergeo"
           }
          ],
          "scattergl": [
           {
            "marker": {
             "colorbar": {
              "outlinewidth": 0,
              "ticks": ""
             }
            },
            "type": "scattergl"
           }
          ],
          "scattermap": [
           {
            "marker": {
             "colorbar": {
              "outlinewidth": 0,
              "ticks": ""
             }
            },
            "type": "scattermap"
           }
          ],
          "scattermapbox": [
           {
            "marker": {
             "colorbar": {
              "outlinewidth": 0,
              "ticks": ""
             }
            },
            "type": "scattermapbox"
           }
          ],
          "scatterpolar": [
           {
            "marker": {
             "colorbar": {
              "outlinewidth": 0,
              "ticks": ""
             }
            },
            "type": "scatterpolar"
           }
          ],
          "scatterpolargl": [
           {
            "marker": {
             "colorbar": {
              "outlinewidth": 0,
              "ticks": ""
             }
            },
            "type": "scatterpolargl"
           }
          ],
          "scatterternary": [
           {
            "marker": {
             "colorbar": {
              "outlinewidth": 0,
              "ticks": ""
             }
            },
            "type": "scatterternary"
           }
          ],
          "surface": [
           {
            "colorbar": {
             "outlinewidth": 0,
             "ticks": ""
            },
            "colorscale": [
             [
              0,
              "#0d0887"
             ],
             [
              0.1111111111111111,
              "#46039f"
             ],
             [
              0.2222222222222222,
              "#7201a8"
             ],
             [
              0.3333333333333333,
              "#9c179e"
             ],
             [
              0.4444444444444444,
              "#bd3786"
             ],
             [
              0.5555555555555556,
              "#d8576b"
             ],
             [
              0.6666666666666666,
              "#ed7953"
             ],
             [
              0.7777777777777778,
              "#fb9f3a"
             ],
             [
              0.8888888888888888,
              "#fdca26"
             ],
             [
              1,
              "#f0f921"
             ]
            ],
            "type": "surface"
           }
          ],
          "table": [
           {
            "cells": {
             "fill": {
              "color": "#EBF0F8"
             },
             "line": {
              "color": "white"
             }
            },
            "header": {
             "fill": {
              "color": "#C8D4E3"
             },
             "line": {
              "color": "white"
             }
            },
            "type": "table"
           }
          ]
         },
         "layout": {
          "annotationdefaults": {
           "arrowcolor": "#2a3f5f",
           "arrowhead": 0,
           "arrowwidth": 1
          },
          "autotypenumbers": "strict",
          "coloraxis": {
           "colorbar": {
            "outlinewidth": 0,
            "ticks": ""
           }
          },
          "colorscale": {
           "diverging": [
            [
             0,
             "#8e0152"
            ],
            [
             0.1,
             "#c51b7d"
            ],
            [
             0.2,
             "#de77ae"
            ],
            [
             0.3,
             "#f1b6da"
            ],
            [
             0.4,
             "#fde0ef"
            ],
            [
             0.5,
             "#f7f7f7"
            ],
            [
             0.6,
             "#e6f5d0"
            ],
            [
             0.7,
             "#b8e186"
            ],
            [
             0.8,
             "#7fbc41"
            ],
            [
             0.9,
             "#4d9221"
            ],
            [
             1,
             "#276419"
            ]
           ],
           "sequential": [
            [
             0,
             "#0d0887"
            ],
            [
             0.1111111111111111,
             "#46039f"
            ],
            [
             0.2222222222222222,
             "#7201a8"
            ],
            [
             0.3333333333333333,
             "#9c179e"
            ],
            [
             0.4444444444444444,
             "#bd3786"
            ],
            [
             0.5555555555555556,
             "#d8576b"
            ],
            [
             0.6666666666666666,
             "#ed7953"
            ],
            [
             0.7777777777777778,
             "#fb9f3a"
            ],
            [
             0.8888888888888888,
             "#fdca26"
            ],
            [
             1,
             "#f0f921"
            ]
           ],
           "sequentialminus": [
            [
             0,
             "#0d0887"
            ],
            [
             0.1111111111111111,
             "#46039f"
            ],
            [
             0.2222222222222222,
             "#7201a8"
            ],
            [
             0.3333333333333333,
             "#9c179e"
            ],
            [
             0.4444444444444444,
             "#bd3786"
            ],
            [
             0.5555555555555556,
             "#d8576b"
            ],
            [
             0.6666666666666666,
             "#ed7953"
            ],
            [
             0.7777777777777778,
             "#fb9f3a"
            ],
            [
             0.8888888888888888,
             "#fdca26"
            ],
            [
             1,
             "#f0f921"
            ]
           ]
          },
          "colorway": [
           "#636efa",
           "#EF553B",
           "#00cc96",
           "#ab63fa",
           "#FFA15A",
           "#19d3f3",
           "#FF6692",
           "#B6E880",
           "#FF97FF",
           "#FECB52"
          ],
          "font": {
           "color": "#2a3f5f"
          },
          "geo": {
           "bgcolor": "white",
           "lakecolor": "white",
           "landcolor": "#E5ECF6",
           "showlakes": true,
           "showland": true,
           "subunitcolor": "white"
          },
          "hoverlabel": {
           "align": "left"
          },
          "hovermode": "closest",
          "mapbox": {
           "style": "light"
          },
          "paper_bgcolor": "white",
          "plot_bgcolor": "#E5ECF6",
          "polar": {
           "angularaxis": {
            "gridcolor": "white",
            "linecolor": "white",
            "ticks": ""
           },
           "bgcolor": "#E5ECF6",
           "radialaxis": {
            "gridcolor": "white",
            "linecolor": "white",
            "ticks": ""
           }
          },
          "scene": {
           "xaxis": {
            "backgroundcolor": "#E5ECF6",
            "gridcolor": "white",
            "gridwidth": 2,
            "linecolor": "white",
            "showbackground": true,
            "ticks": "",
            "zerolinecolor": "white"
           },
           "yaxis": {
            "backgroundcolor": "#E5ECF6",
            "gridcolor": "white",
            "gridwidth": 2,
            "linecolor": "white",
            "showbackground": true,
            "ticks": "",
            "zerolinecolor": "white"
           },
           "zaxis": {
            "backgroundcolor": "#E5ECF6",
            "gridcolor": "white",
            "gridwidth": 2,
            "linecolor": "white",
            "showbackground": true,
            "ticks": "",
            "zerolinecolor": "white"
           }
          },
          "shapedefaults": {
           "line": {
            "color": "#2a3f5f"
           }
          },
          "ternary": {
           "aaxis": {
            "gridcolor": "white",
            "linecolor": "white",
            "ticks": ""
           },
           "baxis": {
            "gridcolor": "white",
            "linecolor": "white",
            "ticks": ""
           },
           "bgcolor": "#E5ECF6",
           "caxis": {
            "gridcolor": "white",
            "linecolor": "white",
            "ticks": ""
           }
          },
          "title": {
           "x": 0.05
          },
          "xaxis": {
           "automargin": true,
           "gridcolor": "white",
           "linecolor": "white",
           "ticks": "",
           "title": {
            "standoff": 15
           },
           "zerolinecolor": "white",
           "zerolinewidth": 2
          },
          "yaxis": {
           "automargin": true,
           "gridcolor": "white",
           "linecolor": "white",
           "ticks": "",
           "title": {
            "standoff": 15
           },
           "zerolinecolor": "white",
           "zerolinewidth": 2
          }
         }
        },
        "title": {
         "text": "Numero de Individuos por Cambio de Estado de Conservación y Especie en 2023"
        },
        "width": 1000
       }
      }
     },
     "metadata": {},
     "output_type": "display_data"
    }
   ],
   "source": [
    "fig = px.sunburst(censo_sun_2023,\n",
    "                  path=['Estatus Consolidado' ,'NOMBRE COMÚN'], # Creo la jerarquia\n",
    "                  values='count_aves',\n",
    "                  title='Numero de Individuos por Cambio de Estado de Conservación y Especie en 2023',\n",
    "                  color= 'Estatus Consolidado',\n",
    "                  color_discrete_map= color,\n",
    "                  hover_name = 'NOMBRE COMÚN',\n",
    "                  hover_data={\n",
    "                          \"NOMBRE COMÚN\": True,\n",
    "                          'Catalan name':True,\n",
    "                          'Ordre':True,\n",
    "                          \"Scientific name\": True,\n",
    "                          \"count_aves\":True,\n",
    "                          'EVOLUCIÓN CATEGORÍA 2004-2021':True, \n",
    "                          'Estatus Consolidado':True,\n",
    "                          'Nombre_categoria_2004':True,\n",
    "                          'Nombre_cetegoria_2021':True\n",
    "                          }, \n",
    "                  height=1000,  \n",
    "                  width=1000 \n",
    "                 )\n",
    "\n",
    "# Personalización del hover data\n",
    "fig.update_traces(\n",
    "      hovertemplate=\"<b>Orden:</b> %{customdata[2]}<br>\" + # El orden\n",
    "                  \"<b>Especie:</b> %{label}<br>\" + # El nombre científico\n",
    "                  \"<b>Nombre Catalán:</b> %{customdata[1]}<br>\" + \n",
    "                  \"<b>Nombre Científico:</b> %{customdata[3]}<br>\" + \n",
    "                  \"<b>Estado de conservación 2021:</b> %{customdata[8]}<br>\" +\n",
    "                  \"<b>Estado de conservación 2004:</b> %{customdata[7]}<br>\" +\n",
    "                  \"<b>Cambio de Estado:</b> %{customdata[5]}<br>\"\n",
    "                  \"<b>Observaciones:</b> %{value}<extra></extra>\",\n",
    "    textfont=dict(size=12, family=\"Arial\", color=\"black\"),\n",
    "    insidetextfont=dict(family=\"Arial\", size=14, color=\"black\", weight=\"bold\"), \n",
    "    insidetextorientation='radial'\n",
    ")\n",
    "\n",
    "fig.show()\n",
    "\n",
    "# Guardar archivo en HTML\n",
    "fig.write_html(\"sun_individuos_cambio_especie_2023.html\")"
   ]
  }
 ],
 "metadata": {
  "kernelspec": {
   "display_name": "AnalisisPajaros",
   "language": "python",
   "name": "python3"
  },
  "language_info": {
   "codemirror_mode": {
    "name": "ipython",
    "version": 3
   },
   "file_extension": ".py",
   "mimetype": "text/x-python",
   "name": "python",
   "nbconvert_exporter": "python",
   "pygments_lexer": "ipython3",
   "version": "3.12.9"
  }
 },
 "nbformat": 4,
 "nbformat_minor": 5
}
