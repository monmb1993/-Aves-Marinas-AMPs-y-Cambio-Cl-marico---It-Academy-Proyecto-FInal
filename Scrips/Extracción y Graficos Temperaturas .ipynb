{
 "cells": [
  {
   "cell_type": "markdown",
   "id": "5ef6afb8",
   "metadata": {},
   "source": [
    "# Graficas evolución Temperatura"
   ]
  },
  {
   "cell_type": "code",
   "execution_count": 2,
   "id": "a2c9e197",
   "metadata": {},
   "outputs": [],
   "source": [
    "import pandas as pd \n",
    "import csv\n",
    "from pprint import pprint\n",
    "from datetime import datetime, timedelta\n",
    "from scipy.stats import pearsonr\n",
    "import matplotlib.pyplot as plt\n",
    "import scipy.stats as stats\n",
    "import numpy as np\n",
    "import plotly.express as px"
   ]
  },
  {
   "cell_type": "markdown",
   "id": "42264f66",
   "metadata": {},
   "source": [
    "# Imprtación de los datos"
   ]
  },
  {
   "cell_type": "code",
   "execution_count": 3,
   "id": "51b0d5dd",
   "metadata": {},
   "outputs": [
    {
     "data": {
      "application/vnd.microsoft.datawrangler.viewer.v0+json": {
       "columns": [
        {
         "name": "index",
         "rawType": "int64",
         "type": "integer"
        },
        {
         "name": "year",
         "rawType": "int64",
         "type": "integer"
        },
        {
         "name": "Enero",
         "rawType": "float64",
         "type": "float"
        },
        {
         "name": "Febrero",
         "rawType": "float64",
         "type": "float"
        },
        {
         "name": "Marzo",
         "rawType": "float64",
         "type": "float"
        },
        {
         "name": "Abril",
         "rawType": "float64",
         "type": "float"
        },
        {
         "name": "Mayo",
         "rawType": "float64",
         "type": "float"
        },
        {
         "name": "Junio",
         "rawType": "float64",
         "type": "float"
        },
        {
         "name": "Julio",
         "rawType": "float64",
         "type": "float"
        },
        {
         "name": "Agosto",
         "rawType": "float64",
         "type": "float"
        },
        {
         "name": "Septiembre",
         "rawType": "float64",
         "type": "float"
        },
        {
         "name": "Octubre",
         "rawType": "float64",
         "type": "float"
        },
        {
         "name": "Noviembre",
         "rawType": "float64",
         "type": "float"
        },
        {
         "name": "Diciembre",
         "rawType": "float64",
         "type": "float"
        },
        {
         "name": "Media Anual",
         "rawType": "float64",
         "type": "float"
        }
       ],
       "ref": "0207d5ae-eb99-4691-9f6f-0db4954718fb",
       "rows": [
        [
         "0",
         "2025",
         "13.9",
         "12.8",
         "13.1",
         "15.0",
         null,
         null,
         null,
         null,
         null,
         null,
         null,
         null,
         "13.7"
        ],
        [
         "1",
         "2024",
         "13.3",
         "14.0",
         "14.0",
         "14.6",
         "16.7",
         "20.9",
         "23.7",
         "25.1",
         "22.3",
         "19.3",
         "18.5",
         "16.0",
         "18.2"
        ],
        [
         "2",
         "2023",
         "14.6",
         "13.2",
         "13.6",
         "14.4",
         "16.8",
         "21.5",
         "24.4",
         "24.8",
         "22.6",
         "21.4",
         "17.3",
         "14.8",
         "18.3"
        ],
        [
         "3",
         "2022",
         "13.8",
         "13.4",
         "12.9",
         "13.9",
         "17.1",
         "21.4",
         "23.9",
         "25.2",
         "23.2",
         "21.4",
         "18.3",
         "15.4",
         "18.3"
        ],
        [
         "4",
         "2021",
         "13.5",
         "12.9",
         "13.1",
         "14.1",
         "15.8",
         "21.2",
         "23.4",
         "23.3",
         "22.8",
         "19.7",
         "16.9",
         "14.8",
         "17.6"
        ],
        [
         "5",
         "2020",
         "14.0",
         "13.6",
         "13.9",
         "15.0",
         "18.4",
         "20.8",
         "23.4",
         "24.2",
         "22.0",
         "18.3",
         "16.3",
         "14.5",
         "17.9"
        ],
        [
         "6",
         "2019",
         "13.9",
         "13.1",
         "14.0",
         "14.0",
         "15.5",
         "18.8",
         "24.4",
         "23.6",
         "21.4",
         "19.6",
         "16.8",
         "15.9",
         "17.6"
        ],
        [
         "7",
         "2018",
         "13.4",
         "13.1",
         "12.3",
         "14.0",
         "16.8",
         "20.8",
         "23.2",
         "24.2",
         "22.3",
         "19.7",
         "17.7",
         "16.1",
         "17.8"
        ],
        [
         "8",
         "2017",
         "13.9",
         "12.8",
         "13.7",
         "14.8",
         "17.1",
         "21.9",
         "23.8",
         "23.6",
         "23.0",
         "19.2",
         "16.5",
         "13.6",
         "17.8"
        ],
        [
         "9",
         "2016",
         "14.5",
         "13.8",
         "13.3",
         "14.0",
         "15.9",
         "20.3",
         "22.4",
         "22.5",
         "23.0",
         "19.7",
         "17.4",
         "15.1",
         "17.7"
        ],
        [
         "10",
         "2015",
         "14.4",
         "13.0",
         "13.4",
         "14.6",
         "16.9",
         "20.2",
         "23.3",
         "23.0",
         "20.6",
         "18.3",
         "17.4",
         "15.3",
         "17.5"
        ],
        [
         "11",
         "2014",
         "13.8",
         "13.3",
         "13.9",
         "15.0",
         "16.4",
         "20.0",
         "21.9",
         "22.3",
         "22.0",
         "21.2",
         "18.8",
         "16.0",
         "17.9"
        ],
        [
         "12",
         "2013",
         "13.4",
         "12.7",
         "12.3",
         "13.5",
         "15.7",
         "18.0",
         "21.9",
         "22.9",
         "22.1",
         "19.2",
         "16.5",
         "14.0",
         "16.9"
        ],
        [
         "13",
         "2012",
         "14.0",
         "12.8",
         "13.2",
         "14.1",
         "16.4",
         "20.0",
         "21.5",
         "23.9",
         "20.3",
         "18.9",
         "16.1",
         "14.2",
         "17.1"
        ],
        [
         "14",
         "2011",
         "13.0",
         "12.3",
         "12.7",
         "15.0",
         "18.0",
         "19.6",
         "21.3",
         "22.2",
         "23.2",
         "19.8",
         "17.2",
         "15.9",
         "17.5"
        ],
        [
         "15",
         "2010",
         "12.8",
         "12.5",
         "11.8",
         "13.8",
         "15.5",
         "18.2",
         "22.1",
         "23.0",
         "20.9",
         "17.8",
         "15.9",
         "14.1",
         "16.5"
        ],
        [
         "16",
         "2009",
         "13.2",
         "12.5",
         "13.4",
         "13.5",
         "16.5",
         "20.5",
         "22.1",
         "23.4",
         "21.9",
         "19.5",
         "17.0",
         "14.7",
         "17.4"
        ],
        [
         "17",
         "2008",
         "13.3",
         "13.4",
         "13.0",
         "13.4",
         "16.3",
         "19.3",
         "22.4",
         "23.0",
         "20.4",
         "18.2",
         "16.3",
         "14.1",
         "16.9"
        ],
        [
         "18",
         "2007",
         "14.7",
         "13.6",
         "13.6",
         "15.0",
         "17.4",
         "19.2",
         "21.9",
         "22.2",
         "19.7",
         "18.5",
         "15.8",
         "14.1",
         "17.1"
        ],
        [
         "19",
         "2006",
         "12.4",
         "11.7",
         "12.4",
         "14.1",
         "16.7",
         "19.9",
         "24.1",
         "24.0",
         "20.8",
         "19.4",
         "18.4",
         "16.1",
         "17.5"
        ],
        [
         "20",
         "2005",
         "13.4",
         "12.4",
         "12.8",
         "13.6",
         "16.1",
         "19.9",
         "23.1",
         "22.3",
         "20.9",
         "18.5",
         "17.3",
         "14.4",
         "17.1"
        ],
        [
         "21",
         "2004",
         "13.3",
         "12.6",
         "12.2",
         "13.0",
         "15.2",
         "19.7",
         "22.0",
         "23.0",
         "22.0",
         "19.3",
         "16.3",
         "15.1",
         "17.0"
        ],
        [
         "22",
         "2003",
         "13.4",
         "12.2",
         "12.0",
         "13.5",
         "16.4",
         "21.0",
         "23.3",
         "24.7",
         "21.5",
         "18.5",
         "15.9",
         "13.8",
         "17.2"
        ],
        [
         "23",
         "2002",
         "13.4",
         "12.9",
         "13.3",
         "14.0",
         "15.6",
         "19.6",
         "21.3",
         "21.0",
         "20.9",
         "18.8",
         "16.4",
         "14.2",
         "16.8"
        ],
        [
         "24",
         "2001",
         "13.2",
         "12.5",
         "13.4",
         "14.1",
         "15.9",
         "19.8",
         "21.9",
         "23.2",
         "20.9",
         "19.2",
         "17.1",
         "14.2",
         "17.1"
        ],
        [
         "25",
         "2000",
         "12.9",
         "12.7",
         "12.8",
         "13.3",
         "16.8",
         "19.5",
         "21.1",
         "21.9",
         "22.0",
         "18.4",
         "16.9",
         "14.6",
         "16.9"
        ]
       ],
       "shape": {
        "columns": 14,
        "rows": 26
       }
      },
      "text/html": [
       "<div>\n",
       "<style scoped>\n",
       "    .dataframe tbody tr th:only-of-type {\n",
       "        vertical-align: middle;\n",
       "    }\n",
       "\n",
       "    .dataframe tbody tr th {\n",
       "        vertical-align: top;\n",
       "    }\n",
       "\n",
       "    .dataframe thead th {\n",
       "        text-align: right;\n",
       "    }\n",
       "</style>\n",
       "<table border=\"1\" class=\"dataframe\">\n",
       "  <thead>\n",
       "    <tr style=\"text-align: right;\">\n",
       "      <th></th>\n",
       "      <th>year</th>\n",
       "      <th>Enero</th>\n",
       "      <th>Febrero</th>\n",
       "      <th>Marzo</th>\n",
       "      <th>Abril</th>\n",
       "      <th>Mayo</th>\n",
       "      <th>Junio</th>\n",
       "      <th>Julio</th>\n",
       "      <th>Agosto</th>\n",
       "      <th>Septiembre</th>\n",
       "      <th>Octubre</th>\n",
       "      <th>Noviembre</th>\n",
       "      <th>Diciembre</th>\n",
       "      <th>Media Anual</th>\n",
       "    </tr>\n",
       "  </thead>\n",
       "  <tbody>\n",
       "    <tr>\n",
       "      <th>0</th>\n",
       "      <td>2025</td>\n",
       "      <td>13.9</td>\n",
       "      <td>12.8</td>\n",
       "      <td>13.1</td>\n",
       "      <td>15.0</td>\n",
       "      <td>NaN</td>\n",
       "      <td>NaN</td>\n",
       "      <td>NaN</td>\n",
       "      <td>NaN</td>\n",
       "      <td>NaN</td>\n",
       "      <td>NaN</td>\n",
       "      <td>NaN</td>\n",
       "      <td>NaN</td>\n",
       "      <td>13.7</td>\n",
       "    </tr>\n",
       "    <tr>\n",
       "      <th>1</th>\n",
       "      <td>2024</td>\n",
       "      <td>13.3</td>\n",
       "      <td>14.0</td>\n",
       "      <td>14.0</td>\n",
       "      <td>14.6</td>\n",
       "      <td>16.7</td>\n",
       "      <td>20.9</td>\n",
       "      <td>23.7</td>\n",
       "      <td>25.1</td>\n",
       "      <td>22.3</td>\n",
       "      <td>19.3</td>\n",
       "      <td>18.5</td>\n",
       "      <td>16.0</td>\n",
       "      <td>18.2</td>\n",
       "    </tr>\n",
       "    <tr>\n",
       "      <th>2</th>\n",
       "      <td>2023</td>\n",
       "      <td>14.6</td>\n",
       "      <td>13.2</td>\n",
       "      <td>13.6</td>\n",
       "      <td>14.4</td>\n",
       "      <td>16.8</td>\n",
       "      <td>21.5</td>\n",
       "      <td>24.4</td>\n",
       "      <td>24.8</td>\n",
       "      <td>22.6</td>\n",
       "      <td>21.4</td>\n",
       "      <td>17.3</td>\n",
       "      <td>14.8</td>\n",
       "      <td>18.3</td>\n",
       "    </tr>\n",
       "    <tr>\n",
       "      <th>3</th>\n",
       "      <td>2022</td>\n",
       "      <td>13.8</td>\n",
       "      <td>13.4</td>\n",
       "      <td>12.9</td>\n",
       "      <td>13.9</td>\n",
       "      <td>17.1</td>\n",
       "      <td>21.4</td>\n",
       "      <td>23.9</td>\n",
       "      <td>25.2</td>\n",
       "      <td>23.2</td>\n",
       "      <td>21.4</td>\n",
       "      <td>18.3</td>\n",
       "      <td>15.4</td>\n",
       "      <td>18.3</td>\n",
       "    </tr>\n",
       "    <tr>\n",
       "      <th>4</th>\n",
       "      <td>2021</td>\n",
       "      <td>13.5</td>\n",
       "      <td>12.9</td>\n",
       "      <td>13.1</td>\n",
       "      <td>14.1</td>\n",
       "      <td>15.8</td>\n",
       "      <td>21.2</td>\n",
       "      <td>23.4</td>\n",
       "      <td>23.3</td>\n",
       "      <td>22.8</td>\n",
       "      <td>19.7</td>\n",
       "      <td>16.9</td>\n",
       "      <td>14.8</td>\n",
       "      <td>17.6</td>\n",
       "    </tr>\n",
       "    <tr>\n",
       "      <th>5</th>\n",
       "      <td>2020</td>\n",
       "      <td>14.0</td>\n",
       "      <td>13.6</td>\n",
       "      <td>13.9</td>\n",
       "      <td>15.0</td>\n",
       "      <td>18.4</td>\n",
       "      <td>20.8</td>\n",
       "      <td>23.4</td>\n",
       "      <td>24.2</td>\n",
       "      <td>22.0</td>\n",
       "      <td>18.3</td>\n",
       "      <td>16.3</td>\n",
       "      <td>14.5</td>\n",
       "      <td>17.9</td>\n",
       "    </tr>\n",
       "    <tr>\n",
       "      <th>6</th>\n",
       "      <td>2019</td>\n",
       "      <td>13.9</td>\n",
       "      <td>13.1</td>\n",
       "      <td>14.0</td>\n",
       "      <td>14.0</td>\n",
       "      <td>15.5</td>\n",
       "      <td>18.8</td>\n",
       "      <td>24.4</td>\n",
       "      <td>23.6</td>\n",
       "      <td>21.4</td>\n",
       "      <td>19.6</td>\n",
       "      <td>16.8</td>\n",
       "      <td>15.9</td>\n",
       "      <td>17.6</td>\n",
       "    </tr>\n",
       "    <tr>\n",
       "      <th>7</th>\n",
       "      <td>2018</td>\n",
       "      <td>13.4</td>\n",
       "      <td>13.1</td>\n",
       "      <td>12.3</td>\n",
       "      <td>14.0</td>\n",
       "      <td>16.8</td>\n",
       "      <td>20.8</td>\n",
       "      <td>23.2</td>\n",
       "      <td>24.2</td>\n",
       "      <td>22.3</td>\n",
       "      <td>19.7</td>\n",
       "      <td>17.7</td>\n",
       "      <td>16.1</td>\n",
       "      <td>17.8</td>\n",
       "    </tr>\n",
       "    <tr>\n",
       "      <th>8</th>\n",
       "      <td>2017</td>\n",
       "      <td>13.9</td>\n",
       "      <td>12.8</td>\n",
       "      <td>13.7</td>\n",
       "      <td>14.8</td>\n",
       "      <td>17.1</td>\n",
       "      <td>21.9</td>\n",
       "      <td>23.8</td>\n",
       "      <td>23.6</td>\n",
       "      <td>23.0</td>\n",
       "      <td>19.2</td>\n",
       "      <td>16.5</td>\n",
       "      <td>13.6</td>\n",
       "      <td>17.8</td>\n",
       "    </tr>\n",
       "    <tr>\n",
       "      <th>9</th>\n",
       "      <td>2016</td>\n",
       "      <td>14.5</td>\n",
       "      <td>13.8</td>\n",
       "      <td>13.3</td>\n",
       "      <td>14.0</td>\n",
       "      <td>15.9</td>\n",
       "      <td>20.3</td>\n",
       "      <td>22.4</td>\n",
       "      <td>22.5</td>\n",
       "      <td>23.0</td>\n",
       "      <td>19.7</td>\n",
       "      <td>17.4</td>\n",
       "      <td>15.1</td>\n",
       "      <td>17.7</td>\n",
       "    </tr>\n",
       "    <tr>\n",
       "      <th>10</th>\n",
       "      <td>2015</td>\n",
       "      <td>14.4</td>\n",
       "      <td>13.0</td>\n",
       "      <td>13.4</td>\n",
       "      <td>14.6</td>\n",
       "      <td>16.9</td>\n",
       "      <td>20.2</td>\n",
       "      <td>23.3</td>\n",
       "      <td>23.0</td>\n",
       "      <td>20.6</td>\n",
       "      <td>18.3</td>\n",
       "      <td>17.4</td>\n",
       "      <td>15.3</td>\n",
       "      <td>17.5</td>\n",
       "    </tr>\n",
       "    <tr>\n",
       "      <th>11</th>\n",
       "      <td>2014</td>\n",
       "      <td>13.8</td>\n",
       "      <td>13.3</td>\n",
       "      <td>13.9</td>\n",
       "      <td>15.0</td>\n",
       "      <td>16.4</td>\n",
       "      <td>20.0</td>\n",
       "      <td>21.9</td>\n",
       "      <td>22.3</td>\n",
       "      <td>22.0</td>\n",
       "      <td>21.2</td>\n",
       "      <td>18.8</td>\n",
       "      <td>16.0</td>\n",
       "      <td>17.9</td>\n",
       "    </tr>\n",
       "    <tr>\n",
       "      <th>12</th>\n",
       "      <td>2013</td>\n",
       "      <td>13.4</td>\n",
       "      <td>12.7</td>\n",
       "      <td>12.3</td>\n",
       "      <td>13.5</td>\n",
       "      <td>15.7</td>\n",
       "      <td>18.0</td>\n",
       "      <td>21.9</td>\n",
       "      <td>22.9</td>\n",
       "      <td>22.1</td>\n",
       "      <td>19.2</td>\n",
       "      <td>16.5</td>\n",
       "      <td>14.0</td>\n",
       "      <td>16.9</td>\n",
       "    </tr>\n",
       "    <tr>\n",
       "      <th>13</th>\n",
       "      <td>2012</td>\n",
       "      <td>14.0</td>\n",
       "      <td>12.8</td>\n",
       "      <td>13.2</td>\n",
       "      <td>14.1</td>\n",
       "      <td>16.4</td>\n",
       "      <td>20.0</td>\n",
       "      <td>21.5</td>\n",
       "      <td>23.9</td>\n",
       "      <td>20.3</td>\n",
       "      <td>18.9</td>\n",
       "      <td>16.1</td>\n",
       "      <td>14.2</td>\n",
       "      <td>17.1</td>\n",
       "    </tr>\n",
       "    <tr>\n",
       "      <th>14</th>\n",
       "      <td>2011</td>\n",
       "      <td>13.0</td>\n",
       "      <td>12.3</td>\n",
       "      <td>12.7</td>\n",
       "      <td>15.0</td>\n",
       "      <td>18.0</td>\n",
       "      <td>19.6</td>\n",
       "      <td>21.3</td>\n",
       "      <td>22.2</td>\n",
       "      <td>23.2</td>\n",
       "      <td>19.8</td>\n",
       "      <td>17.2</td>\n",
       "      <td>15.9</td>\n",
       "      <td>17.5</td>\n",
       "    </tr>\n",
       "    <tr>\n",
       "      <th>15</th>\n",
       "      <td>2010</td>\n",
       "      <td>12.8</td>\n",
       "      <td>12.5</td>\n",
       "      <td>11.8</td>\n",
       "      <td>13.8</td>\n",
       "      <td>15.5</td>\n",
       "      <td>18.2</td>\n",
       "      <td>22.1</td>\n",
       "      <td>23.0</td>\n",
       "      <td>20.9</td>\n",
       "      <td>17.8</td>\n",
       "      <td>15.9</td>\n",
       "      <td>14.1</td>\n",
       "      <td>16.5</td>\n",
       "    </tr>\n",
       "    <tr>\n",
       "      <th>16</th>\n",
       "      <td>2009</td>\n",
       "      <td>13.2</td>\n",
       "      <td>12.5</td>\n",
       "      <td>13.4</td>\n",
       "      <td>13.5</td>\n",
       "      <td>16.5</td>\n",
       "      <td>20.5</td>\n",
       "      <td>22.1</td>\n",
       "      <td>23.4</td>\n",
       "      <td>21.9</td>\n",
       "      <td>19.5</td>\n",
       "      <td>17.0</td>\n",
       "      <td>14.7</td>\n",
       "      <td>17.4</td>\n",
       "    </tr>\n",
       "    <tr>\n",
       "      <th>17</th>\n",
       "      <td>2008</td>\n",
       "      <td>13.3</td>\n",
       "      <td>13.4</td>\n",
       "      <td>13.0</td>\n",
       "      <td>13.4</td>\n",
       "      <td>16.3</td>\n",
       "      <td>19.3</td>\n",
       "      <td>22.4</td>\n",
       "      <td>23.0</td>\n",
       "      <td>20.4</td>\n",
       "      <td>18.2</td>\n",
       "      <td>16.3</td>\n",
       "      <td>14.1</td>\n",
       "      <td>16.9</td>\n",
       "    </tr>\n",
       "    <tr>\n",
       "      <th>18</th>\n",
       "      <td>2007</td>\n",
       "      <td>14.7</td>\n",
       "      <td>13.6</td>\n",
       "      <td>13.6</td>\n",
       "      <td>15.0</td>\n",
       "      <td>17.4</td>\n",
       "      <td>19.2</td>\n",
       "      <td>21.9</td>\n",
       "      <td>22.2</td>\n",
       "      <td>19.7</td>\n",
       "      <td>18.5</td>\n",
       "      <td>15.8</td>\n",
       "      <td>14.1</td>\n",
       "      <td>17.1</td>\n",
       "    </tr>\n",
       "    <tr>\n",
       "      <th>19</th>\n",
       "      <td>2006</td>\n",
       "      <td>12.4</td>\n",
       "      <td>11.7</td>\n",
       "      <td>12.4</td>\n",
       "      <td>14.1</td>\n",
       "      <td>16.7</td>\n",
       "      <td>19.9</td>\n",
       "      <td>24.1</td>\n",
       "      <td>24.0</td>\n",
       "      <td>20.8</td>\n",
       "      <td>19.4</td>\n",
       "      <td>18.4</td>\n",
       "      <td>16.1</td>\n",
       "      <td>17.5</td>\n",
       "    </tr>\n",
       "    <tr>\n",
       "      <th>20</th>\n",
       "      <td>2005</td>\n",
       "      <td>13.4</td>\n",
       "      <td>12.4</td>\n",
       "      <td>12.8</td>\n",
       "      <td>13.6</td>\n",
       "      <td>16.1</td>\n",
       "      <td>19.9</td>\n",
       "      <td>23.1</td>\n",
       "      <td>22.3</td>\n",
       "      <td>20.9</td>\n",
       "      <td>18.5</td>\n",
       "      <td>17.3</td>\n",
       "      <td>14.4</td>\n",
       "      <td>17.1</td>\n",
       "    </tr>\n",
       "    <tr>\n",
       "      <th>21</th>\n",
       "      <td>2004</td>\n",
       "      <td>13.3</td>\n",
       "      <td>12.6</td>\n",
       "      <td>12.2</td>\n",
       "      <td>13.0</td>\n",
       "      <td>15.2</td>\n",
       "      <td>19.7</td>\n",
       "      <td>22.0</td>\n",
       "      <td>23.0</td>\n",
       "      <td>22.0</td>\n",
       "      <td>19.3</td>\n",
       "      <td>16.3</td>\n",
       "      <td>15.1</td>\n",
       "      <td>17.0</td>\n",
       "    </tr>\n",
       "    <tr>\n",
       "      <th>22</th>\n",
       "      <td>2003</td>\n",
       "      <td>13.4</td>\n",
       "      <td>12.2</td>\n",
       "      <td>12.0</td>\n",
       "      <td>13.5</td>\n",
       "      <td>16.4</td>\n",
       "      <td>21.0</td>\n",
       "      <td>23.3</td>\n",
       "      <td>24.7</td>\n",
       "      <td>21.5</td>\n",
       "      <td>18.5</td>\n",
       "      <td>15.9</td>\n",
       "      <td>13.8</td>\n",
       "      <td>17.2</td>\n",
       "    </tr>\n",
       "    <tr>\n",
       "      <th>23</th>\n",
       "      <td>2002</td>\n",
       "      <td>13.4</td>\n",
       "      <td>12.9</td>\n",
       "      <td>13.3</td>\n",
       "      <td>14.0</td>\n",
       "      <td>15.6</td>\n",
       "      <td>19.6</td>\n",
       "      <td>21.3</td>\n",
       "      <td>21.0</td>\n",
       "      <td>20.9</td>\n",
       "      <td>18.8</td>\n",
       "      <td>16.4</td>\n",
       "      <td>14.2</td>\n",
       "      <td>16.8</td>\n",
       "    </tr>\n",
       "    <tr>\n",
       "      <th>24</th>\n",
       "      <td>2001</td>\n",
       "      <td>13.2</td>\n",
       "      <td>12.5</td>\n",
       "      <td>13.4</td>\n",
       "      <td>14.1</td>\n",
       "      <td>15.9</td>\n",
       "      <td>19.8</td>\n",
       "      <td>21.9</td>\n",
       "      <td>23.2</td>\n",
       "      <td>20.9</td>\n",
       "      <td>19.2</td>\n",
       "      <td>17.1</td>\n",
       "      <td>14.2</td>\n",
       "      <td>17.1</td>\n",
       "    </tr>\n",
       "    <tr>\n",
       "      <th>25</th>\n",
       "      <td>2000</td>\n",
       "      <td>12.9</td>\n",
       "      <td>12.7</td>\n",
       "      <td>12.8</td>\n",
       "      <td>13.3</td>\n",
       "      <td>16.8</td>\n",
       "      <td>19.5</td>\n",
       "      <td>21.1</td>\n",
       "      <td>21.9</td>\n",
       "      <td>22.0</td>\n",
       "      <td>18.4</td>\n",
       "      <td>16.9</td>\n",
       "      <td>14.6</td>\n",
       "      <td>16.9</td>\n",
       "    </tr>\n",
       "  </tbody>\n",
       "</table>\n",
       "</div>"
      ],
      "text/plain": [
       "    year  Enero  Febrero  Marzo  Abril  Mayo  Junio  Julio  Agosto  \\\n",
       "0   2025   13.9     12.8   13.1   15.0   NaN    NaN    NaN     NaN   \n",
       "1   2024   13.3     14.0   14.0   14.6  16.7   20.9   23.7    25.1   \n",
       "2   2023   14.6     13.2   13.6   14.4  16.8   21.5   24.4    24.8   \n",
       "3   2022   13.8     13.4   12.9   13.9  17.1   21.4   23.9    25.2   \n",
       "4   2021   13.5     12.9   13.1   14.1  15.8   21.2   23.4    23.3   \n",
       "5   2020   14.0     13.6   13.9   15.0  18.4   20.8   23.4    24.2   \n",
       "6   2019   13.9     13.1   14.0   14.0  15.5   18.8   24.4    23.6   \n",
       "7   2018   13.4     13.1   12.3   14.0  16.8   20.8   23.2    24.2   \n",
       "8   2017   13.9     12.8   13.7   14.8  17.1   21.9   23.8    23.6   \n",
       "9   2016   14.5     13.8   13.3   14.0  15.9   20.3   22.4    22.5   \n",
       "10  2015   14.4     13.0   13.4   14.6  16.9   20.2   23.3    23.0   \n",
       "11  2014   13.8     13.3   13.9   15.0  16.4   20.0   21.9    22.3   \n",
       "12  2013   13.4     12.7   12.3   13.5  15.7   18.0   21.9    22.9   \n",
       "13  2012   14.0     12.8   13.2   14.1  16.4   20.0   21.5    23.9   \n",
       "14  2011   13.0     12.3   12.7   15.0  18.0   19.6   21.3    22.2   \n",
       "15  2010   12.8     12.5   11.8   13.8  15.5   18.2   22.1    23.0   \n",
       "16  2009   13.2     12.5   13.4   13.5  16.5   20.5   22.1    23.4   \n",
       "17  2008   13.3     13.4   13.0   13.4  16.3   19.3   22.4    23.0   \n",
       "18  2007   14.7     13.6   13.6   15.0  17.4   19.2   21.9    22.2   \n",
       "19  2006   12.4     11.7   12.4   14.1  16.7   19.9   24.1    24.0   \n",
       "20  2005   13.4     12.4   12.8   13.6  16.1   19.9   23.1    22.3   \n",
       "21  2004   13.3     12.6   12.2   13.0  15.2   19.7   22.0    23.0   \n",
       "22  2003   13.4     12.2   12.0   13.5  16.4   21.0   23.3    24.7   \n",
       "23  2002   13.4     12.9   13.3   14.0  15.6   19.6   21.3    21.0   \n",
       "24  2001   13.2     12.5   13.4   14.1  15.9   19.8   21.9    23.2   \n",
       "25  2000   12.9     12.7   12.8   13.3  16.8   19.5   21.1    21.9   \n",
       "\n",
       "    Septiembre  Octubre  Noviembre  Diciembre  Media Anual  \n",
       "0          NaN      NaN        NaN        NaN         13.7  \n",
       "1         22.3     19.3       18.5       16.0         18.2  \n",
       "2         22.6     21.4       17.3       14.8         18.3  \n",
       "3         23.2     21.4       18.3       15.4         18.3  \n",
       "4         22.8     19.7       16.9       14.8         17.6  \n",
       "5         22.0     18.3       16.3       14.5         17.9  \n",
       "6         21.4     19.6       16.8       15.9         17.6  \n",
       "7         22.3     19.7       17.7       16.1         17.8  \n",
       "8         23.0     19.2       16.5       13.6         17.8  \n",
       "9         23.0     19.7       17.4       15.1         17.7  \n",
       "10        20.6     18.3       17.4       15.3         17.5  \n",
       "11        22.0     21.2       18.8       16.0         17.9  \n",
       "12        22.1     19.2       16.5       14.0         16.9  \n",
       "13        20.3     18.9       16.1       14.2         17.1  \n",
       "14        23.2     19.8       17.2       15.9         17.5  \n",
       "15        20.9     17.8       15.9       14.1         16.5  \n",
       "16        21.9     19.5       17.0       14.7         17.4  \n",
       "17        20.4     18.2       16.3       14.1         16.9  \n",
       "18        19.7     18.5       15.8       14.1         17.1  \n",
       "19        20.8     19.4       18.4       16.1         17.5  \n",
       "20        20.9     18.5       17.3       14.4         17.1  \n",
       "21        22.0     19.3       16.3       15.1         17.0  \n",
       "22        21.5     18.5       15.9       13.8         17.2  \n",
       "23        20.9     18.8       16.4       14.2         16.8  \n",
       "24        20.9     19.2       17.1       14.2         17.1  \n",
       "25        22.0     18.4       16.9       14.6         16.9  "
      ]
     },
     "execution_count": 3,
     "metadata": {},
     "output_type": "execute_result"
    }
   ],
   "source": [
    "df_temperatura = pd.read_csv(\"C:/Users/monic/OneDrive/Desktop/It Academmy - Data Analysis/Projecte/Temperaturas a 0m Catalunya_MOD .csv\", delimiter=\",\", quotechar='\"', encoding='latin-1')\n",
    "df_temperatura"
   ]
  },
  {
   "cell_type": "markdown",
   "id": "8f76ea57",
   "metadata": {},
   "source": [
    "Cambio la estructura del Data Frame para que quede a lo largo y no a lo ancho."
   ]
  },
  {
   "cell_type": "code",
   "execution_count": 4,
   "id": "29514c7d",
   "metadata": {},
   "outputs": [
    {
     "data": {
      "application/vnd.microsoft.datawrangler.viewer.v0+json": {
       "columns": [
        {
         "name": "index",
         "rawType": "int64",
         "type": "integer"
        },
        {
         "name": "year",
         "rawType": "int64",
         "type": "integer"
        },
        {
         "name": "nombre_mes",
         "rawType": "object",
         "type": "string"
        },
        {
         "name": "average_temperature",
         "rawType": "float64",
         "type": "float"
        }
       ],
       "ref": "cd32a0bf-c74f-4f46-bab5-0d02f7dc0f0d",
       "rows": [
        [
         "0",
         "2025",
         "Enero",
         "13.9"
        ],
        [
         "1",
         "2024",
         "Enero",
         "13.3"
        ],
        [
         "2",
         "2023",
         "Enero",
         "14.6"
        ],
        [
         "3",
         "2022",
         "Enero",
         "13.8"
        ],
        [
         "4",
         "2021",
         "Enero",
         "13.5"
        ],
        [
         "5",
         "2020",
         "Enero",
         "14.0"
        ],
        [
         "6",
         "2019",
         "Enero",
         "13.9"
        ],
        [
         "7",
         "2018",
         "Enero",
         "13.4"
        ],
        [
         "8",
         "2017",
         "Enero",
         "13.9"
        ],
        [
         "9",
         "2016",
         "Enero",
         "14.5"
        ],
        [
         "10",
         "2015",
         "Enero",
         "14.4"
        ],
        [
         "11",
         "2014",
         "Enero",
         "13.8"
        ],
        [
         "12",
         "2013",
         "Enero",
         "13.4"
        ],
        [
         "13",
         "2012",
         "Enero",
         "14.0"
        ],
        [
         "14",
         "2011",
         "Enero",
         "13.0"
        ],
        [
         "15",
         "2010",
         "Enero",
         "12.8"
        ],
        [
         "16",
         "2009",
         "Enero",
         "13.2"
        ],
        [
         "17",
         "2008",
         "Enero",
         "13.3"
        ],
        [
         "18",
         "2007",
         "Enero",
         "14.7"
        ],
        [
         "19",
         "2006",
         "Enero",
         "12.4"
        ],
        [
         "20",
         "2005",
         "Enero",
         "13.4"
        ],
        [
         "21",
         "2004",
         "Enero",
         "13.3"
        ],
        [
         "22",
         "2003",
         "Enero",
         "13.4"
        ],
        [
         "23",
         "2002",
         "Enero",
         "13.4"
        ],
        [
         "24",
         "2001",
         "Enero",
         "13.2"
        ],
        [
         "25",
         "2000",
         "Enero",
         "12.9"
        ],
        [
         "26",
         "2025",
         "Febrero",
         "12.8"
        ],
        [
         "27",
         "2024",
         "Febrero",
         "14.0"
        ],
        [
         "28",
         "2023",
         "Febrero",
         "13.2"
        ],
        [
         "29",
         "2022",
         "Febrero",
         "13.4"
        ],
        [
         "30",
         "2021",
         "Febrero",
         "12.9"
        ],
        [
         "31",
         "2020",
         "Febrero",
         "13.6"
        ],
        [
         "32",
         "2019",
         "Febrero",
         "13.1"
        ],
        [
         "33",
         "2018",
         "Febrero",
         "13.1"
        ],
        [
         "34",
         "2017",
         "Febrero",
         "12.8"
        ],
        [
         "35",
         "2016",
         "Febrero",
         "13.8"
        ],
        [
         "36",
         "2015",
         "Febrero",
         "13.0"
        ],
        [
         "37",
         "2014",
         "Febrero",
         "13.3"
        ],
        [
         "38",
         "2013",
         "Febrero",
         "12.7"
        ],
        [
         "39",
         "2012",
         "Febrero",
         "12.8"
        ],
        [
         "40",
         "2011",
         "Febrero",
         "12.3"
        ],
        [
         "41",
         "2010",
         "Febrero",
         "12.5"
        ],
        [
         "42",
         "2009",
         "Febrero",
         "12.5"
        ],
        [
         "43",
         "2008",
         "Febrero",
         "13.4"
        ],
        [
         "44",
         "2007",
         "Febrero",
         "13.6"
        ],
        [
         "45",
         "2006",
         "Febrero",
         "11.7"
        ],
        [
         "46",
         "2005",
         "Febrero",
         "12.4"
        ],
        [
         "47",
         "2004",
         "Febrero",
         "12.6"
        ],
        [
         "48",
         "2003",
         "Febrero",
         "12.2"
        ],
        [
         "49",
         "2002",
         "Febrero",
         "12.9"
        ]
       ],
       "shape": {
        "columns": 3,
        "rows": 338
       }
      },
      "text/html": [
       "<div>\n",
       "<style scoped>\n",
       "    .dataframe tbody tr th:only-of-type {\n",
       "        vertical-align: middle;\n",
       "    }\n",
       "\n",
       "    .dataframe tbody tr th {\n",
       "        vertical-align: top;\n",
       "    }\n",
       "\n",
       "    .dataframe thead th {\n",
       "        text-align: right;\n",
       "    }\n",
       "</style>\n",
       "<table border=\"1\" class=\"dataframe\">\n",
       "  <thead>\n",
       "    <tr style=\"text-align: right;\">\n",
       "      <th></th>\n",
       "      <th>year</th>\n",
       "      <th>nombre_mes</th>\n",
       "      <th>average_temperature</th>\n",
       "    </tr>\n",
       "  </thead>\n",
       "  <tbody>\n",
       "    <tr>\n",
       "      <th>0</th>\n",
       "      <td>2025</td>\n",
       "      <td>Enero</td>\n",
       "      <td>13.9</td>\n",
       "    </tr>\n",
       "    <tr>\n",
       "      <th>1</th>\n",
       "      <td>2024</td>\n",
       "      <td>Enero</td>\n",
       "      <td>13.3</td>\n",
       "    </tr>\n",
       "    <tr>\n",
       "      <th>2</th>\n",
       "      <td>2023</td>\n",
       "      <td>Enero</td>\n",
       "      <td>14.6</td>\n",
       "    </tr>\n",
       "    <tr>\n",
       "      <th>3</th>\n",
       "      <td>2022</td>\n",
       "      <td>Enero</td>\n",
       "      <td>13.8</td>\n",
       "    </tr>\n",
       "    <tr>\n",
       "      <th>4</th>\n",
       "      <td>2021</td>\n",
       "      <td>Enero</td>\n",
       "      <td>13.5</td>\n",
       "    </tr>\n",
       "    <tr>\n",
       "      <th>...</th>\n",
       "      <td>...</td>\n",
       "      <td>...</td>\n",
       "      <td>...</td>\n",
       "    </tr>\n",
       "    <tr>\n",
       "      <th>333</th>\n",
       "      <td>2004</td>\n",
       "      <td>Media Anual</td>\n",
       "      <td>17.0</td>\n",
       "    </tr>\n",
       "    <tr>\n",
       "      <th>334</th>\n",
       "      <td>2003</td>\n",
       "      <td>Media Anual</td>\n",
       "      <td>17.2</td>\n",
       "    </tr>\n",
       "    <tr>\n",
       "      <th>335</th>\n",
       "      <td>2002</td>\n",
       "      <td>Media Anual</td>\n",
       "      <td>16.8</td>\n",
       "    </tr>\n",
       "    <tr>\n",
       "      <th>336</th>\n",
       "      <td>2001</td>\n",
       "      <td>Media Anual</td>\n",
       "      <td>17.1</td>\n",
       "    </tr>\n",
       "    <tr>\n",
       "      <th>337</th>\n",
       "      <td>2000</td>\n",
       "      <td>Media Anual</td>\n",
       "      <td>16.9</td>\n",
       "    </tr>\n",
       "  </tbody>\n",
       "</table>\n",
       "<p>338 rows × 3 columns</p>\n",
       "</div>"
      ],
      "text/plain": [
       "     year   nombre_mes  average_temperature\n",
       "0    2025        Enero                 13.9\n",
       "1    2024        Enero                 13.3\n",
       "2    2023        Enero                 14.6\n",
       "3    2022        Enero                 13.8\n",
       "4    2021        Enero                 13.5\n",
       "..    ...          ...                  ...\n",
       "333  2004  Media Anual                 17.0\n",
       "334  2003  Media Anual                 17.2\n",
       "335  2002  Media Anual                 16.8\n",
       "336  2001  Media Anual                 17.1\n",
       "337  2000  Media Anual                 16.9\n",
       "\n",
       "[338 rows x 3 columns]"
      ]
     },
     "execution_count": 4,
     "metadata": {},
     "output_type": "execute_result"
    }
   ],
   "source": [
    "df_temperatura_melted = pd.melt(df_temperatura,\n",
    "                                id_vars=['year'],\n",
    "                                value_vars=['Enero', 'Febrero', 'Marzo', 'Abril', 'Mayo', 'Junio', 'Julio', 'Agosto', 'Septiembre', 'Octubre', 'Noviembre', 'Diciembre', 'Media Anual'],\n",
    "                                var_name='nombre_mes',\n",
    "                                value_name='average_temperature')\n",
    "\n",
    "df_temperatura_melted "
   ]
  },
  {
   "cell_type": "markdown",
   "id": "3a5f1f2a",
   "metadata": {},
   "source": [
    "Ahora voy a seleccionar algunos años entre 2007 y 2023 para poder hacer los graficos de líneas"
   ]
  },
  {
   "cell_type": "code",
   "execution_count": 5,
   "id": "3ee0cbe9",
   "metadata": {},
   "outputs": [
    {
     "name": "stderr",
     "output_type": "stream",
     "text": [
      "C:\\Users\\monic\\AppData\\Local\\Temp\\ipykernel_27676\\2746125910.py:4: SettingWithCopyWarning: \n",
      "A value is trying to be set on a copy of a slice from a DataFrame\n",
      "\n",
      "See the caveats in the documentation: https://pandas.pydata.org/pandas-docs/stable/user_guide/indexing.html#returning-a-view-versus-a-copy\n",
      "  temp_2007.rename(columns= {\n",
      "C:\\Users\\monic\\AppData\\Local\\Temp\\ipykernel_27676\\2746125910.py:11: SettingWithCopyWarning: \n",
      "A value is trying to be set on a copy of a slice from a DataFrame\n",
      "\n",
      "See the caveats in the documentation: https://pandas.pydata.org/pandas-docs/stable/user_guide/indexing.html#returning-a-view-versus-a-copy\n",
      "  temp_2012.rename(columns= {\n",
      "C:\\Users\\monic\\AppData\\Local\\Temp\\ipykernel_27676\\2746125910.py:18: SettingWithCopyWarning: \n",
      "A value is trying to be set on a copy of a slice from a DataFrame\n",
      "\n",
      "See the caveats in the documentation: https://pandas.pydata.org/pandas-docs/stable/user_guide/indexing.html#returning-a-view-versus-a-copy\n",
      "  temp_2017.rename(columns= {\n",
      "C:\\Users\\monic\\AppData\\Local\\Temp\\ipykernel_27676\\2746125910.py:26: SettingWithCopyWarning: \n",
      "A value is trying to be set on a copy of a slice from a DataFrame\n",
      "\n",
      "See the caveats in the documentation: https://pandas.pydata.org/pandas-docs/stable/user_guide/indexing.html#returning-a-view-versus-a-copy\n",
      "  temp_2023.rename(columns= {\n"
     ]
    }
   ],
   "source": [
    "# DF con las temperaturas de 2007 hasta 2023\n",
    "temp_2007 = df_temperatura_melted[df_temperatura_melted['year'] == 2007]\n",
    "\n",
    "temp_2007.rename(columns= {\n",
    "    'average_temperature': 'Tª 2007'\n",
    "}, inplace=True)\n",
    "\n",
    "\n",
    "temp_2012 = df_temperatura_melted[df_temperatura_melted['year'] == 2012]\n",
    "\n",
    "temp_2012.rename(columns= {\n",
    "    'average_temperature': 'Tª 2012'\n",
    "}, inplace=True)\n",
    "\n",
    "\n",
    "temp_2017 = df_temperatura_melted[df_temperatura_melted['year'] == 2017]\n",
    "\n",
    "temp_2017.rename(columns= {\n",
    "    'average_temperature': 'Tª 2017'\n",
    "}, inplace=True)\n",
    "\n",
    "\n",
    "\n",
    "temp_2023 = df_temperatura_melted[df_temperatura_melted['year'] == 2023]\n",
    "\n",
    "temp_2023.rename(columns= {\n",
    "    'average_temperature': 'Tª 2023'\n",
    "}, inplace=True)"
   ]
  },
  {
   "cell_type": "markdown",
   "id": "fa1a484e",
   "metadata": {},
   "source": [
    "Subo el DF con la media de las temperaturas históricas."
   ]
  },
  {
   "cell_type": "code",
   "execution_count": 6,
   "id": "8f8e0b6f",
   "metadata": {},
   "outputs": [
    {
     "data": {
      "application/vnd.microsoft.datawrangler.viewer.v0+json": {
       "columns": [
        {
         "name": "index",
         "rawType": "int64",
         "type": "integer"
        },
        {
         "name": "nombre_mes",
         "rawType": "object",
         "type": "string"
        },
        {
         "name": "Media 1975_2000",
         "rawType": "float64",
         "type": "float"
        }
       ],
       "ref": "5237de9d-a7bf-46bc-99fb-af59ee318717",
       "rows": [
        [
         "0",
         "Abril",
         "13.34"
        ],
        [
         "1",
         "Agosto",
         "22.77"
        ],
        [
         "2",
         "Diciembre",
         "13.96"
        ],
        [
         "3",
         "Enero",
         "12.3"
        ],
        [
         "4",
         "Febrero",
         "12.39"
        ],
        [
         "5",
         "Julio",
         "21.61"
        ],
        [
         "6",
         "Junio",
         "18.91"
        ],
        [
         "7",
         "Marzo",
         "12.58"
        ],
        [
         "8",
         "Mayo",
         "15.54"
        ],
        [
         "9",
         "Noviembre",
         "16.22"
        ],
        [
         "10",
         "Octubre",
         "18.43"
        ],
        [
         "11",
         "Septiembre",
         "21.21"
        ]
       ],
       "shape": {
        "columns": 2,
        "rows": 12
       }
      },
      "text/html": [
       "<div>\n",
       "<style scoped>\n",
       "    .dataframe tbody tr th:only-of-type {\n",
       "        vertical-align: middle;\n",
       "    }\n",
       "\n",
       "    .dataframe tbody tr th {\n",
       "        vertical-align: top;\n",
       "    }\n",
       "\n",
       "    .dataframe thead th {\n",
       "        text-align: right;\n",
       "    }\n",
       "</style>\n",
       "<table border=\"1\" class=\"dataframe\">\n",
       "  <thead>\n",
       "    <tr style=\"text-align: right;\">\n",
       "      <th></th>\n",
       "      <th>nombre_mes</th>\n",
       "      <th>Media 1975_2000</th>\n",
       "    </tr>\n",
       "  </thead>\n",
       "  <tbody>\n",
       "    <tr>\n",
       "      <th>0</th>\n",
       "      <td>Abril</td>\n",
       "      <td>13.34</td>\n",
       "    </tr>\n",
       "    <tr>\n",
       "      <th>1</th>\n",
       "      <td>Agosto</td>\n",
       "      <td>22.77</td>\n",
       "    </tr>\n",
       "    <tr>\n",
       "      <th>2</th>\n",
       "      <td>Diciembre</td>\n",
       "      <td>13.96</td>\n",
       "    </tr>\n",
       "    <tr>\n",
       "      <th>3</th>\n",
       "      <td>Enero</td>\n",
       "      <td>12.30</td>\n",
       "    </tr>\n",
       "    <tr>\n",
       "      <th>4</th>\n",
       "      <td>Febrero</td>\n",
       "      <td>12.39</td>\n",
       "    </tr>\n",
       "    <tr>\n",
       "      <th>5</th>\n",
       "      <td>Julio</td>\n",
       "      <td>21.61</td>\n",
       "    </tr>\n",
       "    <tr>\n",
       "      <th>6</th>\n",
       "      <td>Junio</td>\n",
       "      <td>18.91</td>\n",
       "    </tr>\n",
       "    <tr>\n",
       "      <th>7</th>\n",
       "      <td>Marzo</td>\n",
       "      <td>12.58</td>\n",
       "    </tr>\n",
       "    <tr>\n",
       "      <th>8</th>\n",
       "      <td>Mayo</td>\n",
       "      <td>15.54</td>\n",
       "    </tr>\n",
       "    <tr>\n",
       "      <th>9</th>\n",
       "      <td>Noviembre</td>\n",
       "      <td>16.22</td>\n",
       "    </tr>\n",
       "    <tr>\n",
       "      <th>10</th>\n",
       "      <td>Octubre</td>\n",
       "      <td>18.43</td>\n",
       "    </tr>\n",
       "    <tr>\n",
       "      <th>11</th>\n",
       "      <td>Septiembre</td>\n",
       "      <td>21.21</td>\n",
       "    </tr>\n",
       "  </tbody>\n",
       "</table>\n",
       "</div>"
      ],
      "text/plain": [
       "    nombre_mes  Media 1975_2000\n",
       "0        Abril            13.34\n",
       "1       Agosto            22.77\n",
       "2    Diciembre            13.96\n",
       "3        Enero            12.30\n",
       "4      Febrero            12.39\n",
       "5        Julio            21.61\n",
       "6        Junio            18.91\n",
       "7        Marzo            12.58\n",
       "8         Mayo            15.54\n",
       "9    Noviembre            16.22\n",
       "10     Octubre            18.43\n",
       "11  Septiembre            21.21"
      ]
     },
     "execution_count": 6,
     "metadata": {},
     "output_type": "execute_result"
    }
   ],
   "source": [
    "temp_hist = pd.read_csv(\"C:/Users/monic/OneDrive/Desktop/It Academmy - Data Analysis/Projecte/valores_historicos_temperatura_mar_1975_2000.csv\", delimiter=\",\", quotechar='\"', encoding='latin-1')\n",
    "\n",
    "temp_hist_media = temp_hist.groupby(['nombre_mes']).agg({\n",
    "    'temperatura':'mean'\n",
    "}).reset_index()\n",
    "\n",
    "temp_hist_media.rename(columns = {\n",
    "    \"temperatura\":\"media_hist_temp\"\n",
    "}, inplace= True)\n",
    "\n",
    "temp_hist_media['media_hist_temp']=temp_hist_media['media_hist_temp'].round(2)\n",
    "\n",
    "temp_hist_media.rename(columns= {\n",
    "    'media_hist_temp': 'Media 1975_2000'\n",
    "}, inplace=True)\n",
    "\n",
    "temp_hist_media "
   ]
  },
  {
   "cell_type": "markdown",
   "id": "8d7d57a4",
   "metadata": {},
   "source": [
    "Merge con los tablas de temperaturas con la de temperaturas históricas"
   ]
  },
  {
   "cell_type": "code",
   "execution_count": 7,
   "id": "180d6cab",
   "metadata": {},
   "outputs": [
    {
     "data": {
      "application/vnd.microsoft.datawrangler.viewer.v0+json": {
       "columns": [
        {
         "name": "index",
         "rawType": "int64",
         "type": "integer"
        },
        {
         "name": "nombre_mes",
         "rawType": "object",
         "type": "string"
        },
        {
         "name": "Media 1975_2000",
         "rawType": "float64",
         "type": "float"
        },
        {
         "name": "Tª 2007",
         "rawType": "float64",
         "type": "float"
        },
        {
         "name": "Diferencia Tª 2007",
         "rawType": "float64",
         "type": "float"
        },
        {
         "name": "Tª 2012",
         "rawType": "float64",
         "type": "float"
        },
        {
         "name": "Diferencia Tª 2012",
         "rawType": "float64",
         "type": "float"
        },
        {
         "name": "Tª 2017",
         "rawType": "float64",
         "type": "float"
        },
        {
         "name": "Diferencia Tª 2017",
         "rawType": "float64",
         "type": "float"
        },
        {
         "name": "Tª 2023",
         "rawType": "float64",
         "type": "float"
        },
        {
         "name": "Diferencia Tª 2023",
         "rawType": "float64",
         "type": "float"
        }
       ],
       "ref": "6f5f0d3e-f147-4030-8989-41f1bbea86a6",
       "rows": [
        [
         "0",
         "Abril",
         "13.34",
         "15.0",
         "1.66",
         "14.1",
         "0.76",
         "14.8",
         "1.46",
         "14.4",
         "1.06"
        ],
        [
         "1",
         "Agosto",
         "22.77",
         "22.2",
         "-0.57",
         "23.9",
         "1.13",
         "23.6",
         "0.83",
         "24.8",
         "2.03"
        ],
        [
         "2",
         "Diciembre",
         "13.96",
         "14.1",
         "0.14",
         "14.2",
         "0.24",
         "13.6",
         "-0.36",
         "14.8",
         "0.84"
        ],
        [
         "3",
         "Enero",
         "12.3",
         "14.7",
         "2.4",
         "14.0",
         "1.7",
         "13.9",
         "1.6",
         "14.6",
         "2.3"
        ],
        [
         "4",
         "Febrero",
         "12.39",
         "13.6",
         "1.21",
         "12.8",
         "0.41",
         "12.8",
         "0.41",
         "13.2",
         "0.81"
        ],
        [
         "5",
         "Julio",
         "21.61",
         "21.9",
         "0.29",
         "21.5",
         "-0.11",
         "23.8",
         "2.19",
         "24.4",
         "2.79"
        ],
        [
         "6",
         "Junio",
         "18.91",
         "19.2",
         "0.29",
         "20.0",
         "1.09",
         "21.9",
         "2.99",
         "21.5",
         "2.59"
        ],
        [
         "7",
         "Marzo",
         "12.58",
         "13.6",
         "1.02",
         "13.2",
         "0.62",
         "13.7",
         "1.12",
         "13.6",
         "1.02"
        ],
        [
         "8",
         "Mayo",
         "15.54",
         "17.4",
         "1.86",
         "16.4",
         "0.86",
         "17.1",
         "1.56",
         "16.8",
         "1.26"
        ],
        [
         "9",
         "Noviembre",
         "16.22",
         "15.8",
         "-0.42",
         "16.1",
         "-0.12",
         "16.5",
         "0.28",
         "17.3",
         "1.08"
        ],
        [
         "10",
         "Octubre",
         "18.43",
         "18.5",
         "0.07",
         "18.9",
         "0.47",
         "19.2",
         "0.77",
         "21.4",
         "2.97"
        ],
        [
         "11",
         "Septiembre",
         "21.21",
         "19.7",
         "-1.51",
         "20.3",
         "-0.91",
         "23.0",
         "1.79",
         "22.6",
         "1.39"
        ]
       ],
       "shape": {
        "columns": 10,
        "rows": 12
       }
      },
      "text/html": [
       "<div>\n",
       "<style scoped>\n",
       "    .dataframe tbody tr th:only-of-type {\n",
       "        vertical-align: middle;\n",
       "    }\n",
       "\n",
       "    .dataframe tbody tr th {\n",
       "        vertical-align: top;\n",
       "    }\n",
       "\n",
       "    .dataframe thead th {\n",
       "        text-align: right;\n",
       "    }\n",
       "</style>\n",
       "<table border=\"1\" class=\"dataframe\">\n",
       "  <thead>\n",
       "    <tr style=\"text-align: right;\">\n",
       "      <th></th>\n",
       "      <th>nombre_mes</th>\n",
       "      <th>Media 1975_2000</th>\n",
       "      <th>Tª 2007</th>\n",
       "      <th>Diferencia Tª 2007</th>\n",
       "      <th>Tª 2012</th>\n",
       "      <th>Diferencia Tª 2012</th>\n",
       "      <th>Tª 2017</th>\n",
       "      <th>Diferencia Tª 2017</th>\n",
       "      <th>Tª 2023</th>\n",
       "      <th>Diferencia Tª 2023</th>\n",
       "    </tr>\n",
       "  </thead>\n",
       "  <tbody>\n",
       "    <tr>\n",
       "      <th>0</th>\n",
       "      <td>Abril</td>\n",
       "      <td>13.34</td>\n",
       "      <td>15.0</td>\n",
       "      <td>1.66</td>\n",
       "      <td>14.1</td>\n",
       "      <td>0.76</td>\n",
       "      <td>14.8</td>\n",
       "      <td>1.46</td>\n",
       "      <td>14.4</td>\n",
       "      <td>1.06</td>\n",
       "    </tr>\n",
       "    <tr>\n",
       "      <th>1</th>\n",
       "      <td>Agosto</td>\n",
       "      <td>22.77</td>\n",
       "      <td>22.2</td>\n",
       "      <td>-0.57</td>\n",
       "      <td>23.9</td>\n",
       "      <td>1.13</td>\n",
       "      <td>23.6</td>\n",
       "      <td>0.83</td>\n",
       "      <td>24.8</td>\n",
       "      <td>2.03</td>\n",
       "    </tr>\n",
       "    <tr>\n",
       "      <th>2</th>\n",
       "      <td>Diciembre</td>\n",
       "      <td>13.96</td>\n",
       "      <td>14.1</td>\n",
       "      <td>0.14</td>\n",
       "      <td>14.2</td>\n",
       "      <td>0.24</td>\n",
       "      <td>13.6</td>\n",
       "      <td>-0.36</td>\n",
       "      <td>14.8</td>\n",
       "      <td>0.84</td>\n",
       "    </tr>\n",
       "    <tr>\n",
       "      <th>3</th>\n",
       "      <td>Enero</td>\n",
       "      <td>12.30</td>\n",
       "      <td>14.7</td>\n",
       "      <td>2.40</td>\n",
       "      <td>14.0</td>\n",
       "      <td>1.70</td>\n",
       "      <td>13.9</td>\n",
       "      <td>1.60</td>\n",
       "      <td>14.6</td>\n",
       "      <td>2.30</td>\n",
       "    </tr>\n",
       "    <tr>\n",
       "      <th>4</th>\n",
       "      <td>Febrero</td>\n",
       "      <td>12.39</td>\n",
       "      <td>13.6</td>\n",
       "      <td>1.21</td>\n",
       "      <td>12.8</td>\n",
       "      <td>0.41</td>\n",
       "      <td>12.8</td>\n",
       "      <td>0.41</td>\n",
       "      <td>13.2</td>\n",
       "      <td>0.81</td>\n",
       "    </tr>\n",
       "    <tr>\n",
       "      <th>5</th>\n",
       "      <td>Julio</td>\n",
       "      <td>21.61</td>\n",
       "      <td>21.9</td>\n",
       "      <td>0.29</td>\n",
       "      <td>21.5</td>\n",
       "      <td>-0.11</td>\n",
       "      <td>23.8</td>\n",
       "      <td>2.19</td>\n",
       "      <td>24.4</td>\n",
       "      <td>2.79</td>\n",
       "    </tr>\n",
       "    <tr>\n",
       "      <th>6</th>\n",
       "      <td>Junio</td>\n",
       "      <td>18.91</td>\n",
       "      <td>19.2</td>\n",
       "      <td>0.29</td>\n",
       "      <td>20.0</td>\n",
       "      <td>1.09</td>\n",
       "      <td>21.9</td>\n",
       "      <td>2.99</td>\n",
       "      <td>21.5</td>\n",
       "      <td>2.59</td>\n",
       "    </tr>\n",
       "    <tr>\n",
       "      <th>7</th>\n",
       "      <td>Marzo</td>\n",
       "      <td>12.58</td>\n",
       "      <td>13.6</td>\n",
       "      <td>1.02</td>\n",
       "      <td>13.2</td>\n",
       "      <td>0.62</td>\n",
       "      <td>13.7</td>\n",
       "      <td>1.12</td>\n",
       "      <td>13.6</td>\n",
       "      <td>1.02</td>\n",
       "    </tr>\n",
       "    <tr>\n",
       "      <th>8</th>\n",
       "      <td>Mayo</td>\n",
       "      <td>15.54</td>\n",
       "      <td>17.4</td>\n",
       "      <td>1.86</td>\n",
       "      <td>16.4</td>\n",
       "      <td>0.86</td>\n",
       "      <td>17.1</td>\n",
       "      <td>1.56</td>\n",
       "      <td>16.8</td>\n",
       "      <td>1.26</td>\n",
       "    </tr>\n",
       "    <tr>\n",
       "      <th>9</th>\n",
       "      <td>Noviembre</td>\n",
       "      <td>16.22</td>\n",
       "      <td>15.8</td>\n",
       "      <td>-0.42</td>\n",
       "      <td>16.1</td>\n",
       "      <td>-0.12</td>\n",
       "      <td>16.5</td>\n",
       "      <td>0.28</td>\n",
       "      <td>17.3</td>\n",
       "      <td>1.08</td>\n",
       "    </tr>\n",
       "    <tr>\n",
       "      <th>10</th>\n",
       "      <td>Octubre</td>\n",
       "      <td>18.43</td>\n",
       "      <td>18.5</td>\n",
       "      <td>0.07</td>\n",
       "      <td>18.9</td>\n",
       "      <td>0.47</td>\n",
       "      <td>19.2</td>\n",
       "      <td>0.77</td>\n",
       "      <td>21.4</td>\n",
       "      <td>2.97</td>\n",
       "    </tr>\n",
       "    <tr>\n",
       "      <th>11</th>\n",
       "      <td>Septiembre</td>\n",
       "      <td>21.21</td>\n",
       "      <td>19.7</td>\n",
       "      <td>-1.51</td>\n",
       "      <td>20.3</td>\n",
       "      <td>-0.91</td>\n",
       "      <td>23.0</td>\n",
       "      <td>1.79</td>\n",
       "      <td>22.6</td>\n",
       "      <td>1.39</td>\n",
       "    </tr>\n",
       "  </tbody>\n",
       "</table>\n",
       "</div>"
      ],
      "text/plain": [
       "    nombre_mes  Media 1975_2000  Tª 2007  Diferencia Tª 2007  Tª 2012  \\\n",
       "0        Abril            13.34     15.0                1.66     14.1   \n",
       "1       Agosto            22.77     22.2               -0.57     23.9   \n",
       "2    Diciembre            13.96     14.1                0.14     14.2   \n",
       "3        Enero            12.30     14.7                2.40     14.0   \n",
       "4      Febrero            12.39     13.6                1.21     12.8   \n",
       "5        Julio            21.61     21.9                0.29     21.5   \n",
       "6        Junio            18.91     19.2                0.29     20.0   \n",
       "7        Marzo            12.58     13.6                1.02     13.2   \n",
       "8         Mayo            15.54     17.4                1.86     16.4   \n",
       "9    Noviembre            16.22     15.8               -0.42     16.1   \n",
       "10     Octubre            18.43     18.5                0.07     18.9   \n",
       "11  Septiembre            21.21     19.7               -1.51     20.3   \n",
       "\n",
       "    Diferencia Tª 2012  Tª 2017  Diferencia Tª 2017  Tª 2023  \\\n",
       "0                 0.76     14.8                1.46     14.4   \n",
       "1                 1.13     23.6                0.83     24.8   \n",
       "2                 0.24     13.6               -0.36     14.8   \n",
       "3                 1.70     13.9                1.60     14.6   \n",
       "4                 0.41     12.8                0.41     13.2   \n",
       "5                -0.11     23.8                2.19     24.4   \n",
       "6                 1.09     21.9                2.99     21.5   \n",
       "7                 0.62     13.7                1.12     13.6   \n",
       "8                 0.86     17.1                1.56     16.8   \n",
       "9                -0.12     16.5                0.28     17.3   \n",
       "10                0.47     19.2                0.77     21.4   \n",
       "11               -0.91     23.0                1.79     22.6   \n",
       "\n",
       "    Diferencia Tª 2023  \n",
       "0                 1.06  \n",
       "1                 2.03  \n",
       "2                 0.84  \n",
       "3                 2.30  \n",
       "4                 0.81  \n",
       "5                 2.79  \n",
       "6                 2.59  \n",
       "7                 1.02  \n",
       "8                 1.26  \n",
       "9                 1.08  \n",
       "10                2.97  \n",
       "11                1.39  "
      ]
     },
     "execution_count": 7,
     "metadata": {},
     "output_type": "execute_result"
    }
   ],
   "source": [
    "temperaturas_totales= temp_hist_media.merge(temp_2007, on = 'nombre_mes')\n",
    "temperaturas_totales['Diferencia Tª 2007'] = temperaturas_totales['Tª 2007'] - temp_hist_media['Media 1975_2000']\n",
    "temperaturas_totales['Diferencia Tª 2007']=temperaturas_totales['Diferencia Tª 2007'].round(2)\n",
    "\n",
    "temperaturas_totales= temperaturas_totales.merge(temp_2012, on = 'nombre_mes')\n",
    "temperaturas_totales['Diferencia Tª 2012'] = temperaturas_totales['Tª 2012'] - temp_hist_media['Media 1975_2000']\n",
    "temperaturas_totales['Diferencia Tª 2012']=temperaturas_totales['Diferencia Tª 2012'].round(2)\n",
    "\n",
    "temperaturas_totales= temperaturas_totales.merge(temp_2017, on = 'nombre_mes')\n",
    "temperaturas_totales['Diferencia Tª 2017'] = temperaturas_totales['Tª 2017'] - temp_hist_media['Media 1975_2000']\n",
    "temperaturas_totales['Diferencia Tª 2017'] = temperaturas_totales['Diferencia Tª 2017'].round(2)\n",
    "\n",
    "temperaturas_totales.drop(['year_x', 'year_y', 'year'], axis = 1, inplace = True)\n",
    "\n",
    "temperaturas_totales= temperaturas_totales.merge(temp_2023, on = 'nombre_mes')\n",
    "temperaturas_totales['Diferencia Tª 2023'] = temperaturas_totales['Tª 2023'] - temp_hist_media['Media 1975_2000']\n",
    "temperaturas_totales['Diferencia Tª 2023']=temperaturas_totales['Diferencia Tª 2023'].round(2)\n",
    "\n",
    "temperaturas_totales.drop(['year'], axis = 1, inplace = True)\n",
    "\n",
    "temperaturas_totales"
   ]
  },
  {
   "cell_type": "markdown",
   "id": "c9bd1a81",
   "metadata": {},
   "source": [
    "### Necessito ordenar los meses por orden Cronologico"
   ]
  },
  {
   "cell_type": "code",
   "execution_count": 8,
   "id": "2f59c95f",
   "metadata": {},
   "outputs": [
    {
     "data": {
      "application/vnd.microsoft.datawrangler.viewer.v0+json": {
       "columns": [
        {
         "name": "index",
         "rawType": "int64",
         "type": "integer"
        },
        {
         "name": "nombre_mes",
         "rawType": "category",
         "type": "unknown"
        },
        {
         "name": "Media 1975_2000",
         "rawType": "float64",
         "type": "float"
        },
        {
         "name": "Tª 2007",
         "rawType": "float64",
         "type": "float"
        },
        {
         "name": "Diferencia Tª 2007",
         "rawType": "float64",
         "type": "float"
        },
        {
         "name": "Tª 2012",
         "rawType": "float64",
         "type": "float"
        },
        {
         "name": "Diferencia Tª 2012",
         "rawType": "float64",
         "type": "float"
        },
        {
         "name": "Tª 2017",
         "rawType": "float64",
         "type": "float"
        },
        {
         "name": "Diferencia Tª 2017",
         "rawType": "float64",
         "type": "float"
        },
        {
         "name": "Tª 2023",
         "rawType": "float64",
         "type": "float"
        },
        {
         "name": "Diferencia Tª 2023",
         "rawType": "float64",
         "type": "float"
        }
       ],
       "ref": "64d86811-0d57-45c6-b701-14de6d5f4842",
       "rows": [
        [
         "3",
         "Enero",
         "12.3",
         "14.7",
         "2.4",
         "14.0",
         "1.7",
         "13.9",
         "1.6",
         "14.6",
         "2.3"
        ],
        [
         "4",
         "Febrero",
         "12.39",
         "13.6",
         "1.21",
         "12.8",
         "0.41",
         "12.8",
         "0.41",
         "13.2",
         "0.81"
        ],
        [
         "7",
         "Marzo",
         "12.58",
         "13.6",
         "1.02",
         "13.2",
         "0.62",
         "13.7",
         "1.12",
         "13.6",
         "1.02"
        ],
        [
         "0",
         "Abril",
         "13.34",
         "15.0",
         "1.66",
         "14.1",
         "0.76",
         "14.8",
         "1.46",
         "14.4",
         "1.06"
        ],
        [
         "8",
         "Mayo",
         "15.54",
         "17.4",
         "1.86",
         "16.4",
         "0.86",
         "17.1",
         "1.56",
         "16.8",
         "1.26"
        ],
        [
         "6",
         "Junio",
         "18.91",
         "19.2",
         "0.29",
         "20.0",
         "1.09",
         "21.9",
         "2.99",
         "21.5",
         "2.59"
        ],
        [
         "5",
         "Julio",
         "21.61",
         "21.9",
         "0.29",
         "21.5",
         "-0.11",
         "23.8",
         "2.19",
         "24.4",
         "2.79"
        ],
        [
         "1",
         "Agosto",
         "22.77",
         "22.2",
         "-0.57",
         "23.9",
         "1.13",
         "23.6",
         "0.83",
         "24.8",
         "2.03"
        ],
        [
         "11",
         "Septiembre",
         "21.21",
         "19.7",
         "-1.51",
         "20.3",
         "-0.91",
         "23.0",
         "1.79",
         "22.6",
         "1.39"
        ],
        [
         "10",
         "Octubre",
         "18.43",
         "18.5",
         "0.07",
         "18.9",
         "0.47",
         "19.2",
         "0.77",
         "21.4",
         "2.97"
        ],
        [
         "9",
         "Noviembre",
         "16.22",
         "15.8",
         "-0.42",
         "16.1",
         "-0.12",
         "16.5",
         "0.28",
         "17.3",
         "1.08"
        ],
        [
         "2",
         "Diciembre",
         "13.96",
         "14.1",
         "0.14",
         "14.2",
         "0.24",
         "13.6",
         "-0.36",
         "14.8",
         "0.84"
        ]
       ],
       "shape": {
        "columns": 10,
        "rows": 12
       }
      },
      "text/html": [
       "<div>\n",
       "<style scoped>\n",
       "    .dataframe tbody tr th:only-of-type {\n",
       "        vertical-align: middle;\n",
       "    }\n",
       "\n",
       "    .dataframe tbody tr th {\n",
       "        vertical-align: top;\n",
       "    }\n",
       "\n",
       "    .dataframe thead th {\n",
       "        text-align: right;\n",
       "    }\n",
       "</style>\n",
       "<table border=\"1\" class=\"dataframe\">\n",
       "  <thead>\n",
       "    <tr style=\"text-align: right;\">\n",
       "      <th></th>\n",
       "      <th>nombre_mes</th>\n",
       "      <th>Media 1975_2000</th>\n",
       "      <th>Tª 2007</th>\n",
       "      <th>Diferencia Tª 2007</th>\n",
       "      <th>Tª 2012</th>\n",
       "      <th>Diferencia Tª 2012</th>\n",
       "      <th>Tª 2017</th>\n",
       "      <th>Diferencia Tª 2017</th>\n",
       "      <th>Tª 2023</th>\n",
       "      <th>Diferencia Tª 2023</th>\n",
       "    </tr>\n",
       "  </thead>\n",
       "  <tbody>\n",
       "    <tr>\n",
       "      <th>3</th>\n",
       "      <td>Enero</td>\n",
       "      <td>12.30</td>\n",
       "      <td>14.7</td>\n",
       "      <td>2.40</td>\n",
       "      <td>14.0</td>\n",
       "      <td>1.70</td>\n",
       "      <td>13.9</td>\n",
       "      <td>1.60</td>\n",
       "      <td>14.6</td>\n",
       "      <td>2.30</td>\n",
       "    </tr>\n",
       "    <tr>\n",
       "      <th>4</th>\n",
       "      <td>Febrero</td>\n",
       "      <td>12.39</td>\n",
       "      <td>13.6</td>\n",
       "      <td>1.21</td>\n",
       "      <td>12.8</td>\n",
       "      <td>0.41</td>\n",
       "      <td>12.8</td>\n",
       "      <td>0.41</td>\n",
       "      <td>13.2</td>\n",
       "      <td>0.81</td>\n",
       "    </tr>\n",
       "    <tr>\n",
       "      <th>7</th>\n",
       "      <td>Marzo</td>\n",
       "      <td>12.58</td>\n",
       "      <td>13.6</td>\n",
       "      <td>1.02</td>\n",
       "      <td>13.2</td>\n",
       "      <td>0.62</td>\n",
       "      <td>13.7</td>\n",
       "      <td>1.12</td>\n",
       "      <td>13.6</td>\n",
       "      <td>1.02</td>\n",
       "    </tr>\n",
       "    <tr>\n",
       "      <th>0</th>\n",
       "      <td>Abril</td>\n",
       "      <td>13.34</td>\n",
       "      <td>15.0</td>\n",
       "      <td>1.66</td>\n",
       "      <td>14.1</td>\n",
       "      <td>0.76</td>\n",
       "      <td>14.8</td>\n",
       "      <td>1.46</td>\n",
       "      <td>14.4</td>\n",
       "      <td>1.06</td>\n",
       "    </tr>\n",
       "    <tr>\n",
       "      <th>8</th>\n",
       "      <td>Mayo</td>\n",
       "      <td>15.54</td>\n",
       "      <td>17.4</td>\n",
       "      <td>1.86</td>\n",
       "      <td>16.4</td>\n",
       "      <td>0.86</td>\n",
       "      <td>17.1</td>\n",
       "      <td>1.56</td>\n",
       "      <td>16.8</td>\n",
       "      <td>1.26</td>\n",
       "    </tr>\n",
       "    <tr>\n",
       "      <th>6</th>\n",
       "      <td>Junio</td>\n",
       "      <td>18.91</td>\n",
       "      <td>19.2</td>\n",
       "      <td>0.29</td>\n",
       "      <td>20.0</td>\n",
       "      <td>1.09</td>\n",
       "      <td>21.9</td>\n",
       "      <td>2.99</td>\n",
       "      <td>21.5</td>\n",
       "      <td>2.59</td>\n",
       "    </tr>\n",
       "    <tr>\n",
       "      <th>5</th>\n",
       "      <td>Julio</td>\n",
       "      <td>21.61</td>\n",
       "      <td>21.9</td>\n",
       "      <td>0.29</td>\n",
       "      <td>21.5</td>\n",
       "      <td>-0.11</td>\n",
       "      <td>23.8</td>\n",
       "      <td>2.19</td>\n",
       "      <td>24.4</td>\n",
       "      <td>2.79</td>\n",
       "    </tr>\n",
       "    <tr>\n",
       "      <th>1</th>\n",
       "      <td>Agosto</td>\n",
       "      <td>22.77</td>\n",
       "      <td>22.2</td>\n",
       "      <td>-0.57</td>\n",
       "      <td>23.9</td>\n",
       "      <td>1.13</td>\n",
       "      <td>23.6</td>\n",
       "      <td>0.83</td>\n",
       "      <td>24.8</td>\n",
       "      <td>2.03</td>\n",
       "    </tr>\n",
       "    <tr>\n",
       "      <th>11</th>\n",
       "      <td>Septiembre</td>\n",
       "      <td>21.21</td>\n",
       "      <td>19.7</td>\n",
       "      <td>-1.51</td>\n",
       "      <td>20.3</td>\n",
       "      <td>-0.91</td>\n",
       "      <td>23.0</td>\n",
       "      <td>1.79</td>\n",
       "      <td>22.6</td>\n",
       "      <td>1.39</td>\n",
       "    </tr>\n",
       "    <tr>\n",
       "      <th>10</th>\n",
       "      <td>Octubre</td>\n",
       "      <td>18.43</td>\n",
       "      <td>18.5</td>\n",
       "      <td>0.07</td>\n",
       "      <td>18.9</td>\n",
       "      <td>0.47</td>\n",
       "      <td>19.2</td>\n",
       "      <td>0.77</td>\n",
       "      <td>21.4</td>\n",
       "      <td>2.97</td>\n",
       "    </tr>\n",
       "    <tr>\n",
       "      <th>9</th>\n",
       "      <td>Noviembre</td>\n",
       "      <td>16.22</td>\n",
       "      <td>15.8</td>\n",
       "      <td>-0.42</td>\n",
       "      <td>16.1</td>\n",
       "      <td>-0.12</td>\n",
       "      <td>16.5</td>\n",
       "      <td>0.28</td>\n",
       "      <td>17.3</td>\n",
       "      <td>1.08</td>\n",
       "    </tr>\n",
       "    <tr>\n",
       "      <th>2</th>\n",
       "      <td>Diciembre</td>\n",
       "      <td>13.96</td>\n",
       "      <td>14.1</td>\n",
       "      <td>0.14</td>\n",
       "      <td>14.2</td>\n",
       "      <td>0.24</td>\n",
       "      <td>13.6</td>\n",
       "      <td>-0.36</td>\n",
       "      <td>14.8</td>\n",
       "      <td>0.84</td>\n",
       "    </tr>\n",
       "  </tbody>\n",
       "</table>\n",
       "</div>"
      ],
      "text/plain": [
       "    nombre_mes  Media 1975_2000  Tª 2007  Diferencia Tª 2007  Tª 2012  \\\n",
       "3        Enero            12.30     14.7                2.40     14.0   \n",
       "4      Febrero            12.39     13.6                1.21     12.8   \n",
       "7        Marzo            12.58     13.6                1.02     13.2   \n",
       "0        Abril            13.34     15.0                1.66     14.1   \n",
       "8         Mayo            15.54     17.4                1.86     16.4   \n",
       "6        Junio            18.91     19.2                0.29     20.0   \n",
       "5        Julio            21.61     21.9                0.29     21.5   \n",
       "1       Agosto            22.77     22.2               -0.57     23.9   \n",
       "11  Septiembre            21.21     19.7               -1.51     20.3   \n",
       "10     Octubre            18.43     18.5                0.07     18.9   \n",
       "9    Noviembre            16.22     15.8               -0.42     16.1   \n",
       "2    Diciembre            13.96     14.1                0.14     14.2   \n",
       "\n",
       "    Diferencia Tª 2012  Tª 2017  Diferencia Tª 2017  Tª 2023  \\\n",
       "3                 1.70     13.9                1.60     14.6   \n",
       "4                 0.41     12.8                0.41     13.2   \n",
       "7                 0.62     13.7                1.12     13.6   \n",
       "0                 0.76     14.8                1.46     14.4   \n",
       "8                 0.86     17.1                1.56     16.8   \n",
       "6                 1.09     21.9                2.99     21.5   \n",
       "5                -0.11     23.8                2.19     24.4   \n",
       "1                 1.13     23.6                0.83     24.8   \n",
       "11               -0.91     23.0                1.79     22.6   \n",
       "10                0.47     19.2                0.77     21.4   \n",
       "9                -0.12     16.5                0.28     17.3   \n",
       "2                 0.24     13.6               -0.36     14.8   \n",
       "\n",
       "    Diferencia Tª 2023  \n",
       "3                 2.30  \n",
       "4                 0.81  \n",
       "7                 1.02  \n",
       "0                 1.06  \n",
       "8                 1.26  \n",
       "6                 2.59  \n",
       "5                 2.79  \n",
       "1                 2.03  \n",
       "11                1.39  \n",
       "10                2.97  \n",
       "9                 1.08  \n",
       "2                 0.84  "
      ]
     },
     "execution_count": 8,
     "metadata": {},
     "output_type": "execute_result"
    }
   ],
   "source": [
    "months = ['Enero', 'Febrero', 'Marzo', 'Abril', 'Mayo', 'Junio', 'Julio', 'Agosto', 'Septiembre', 'Octubre', 'Noviembre', 'Diciembre'] #Esta lista genera el orden de los meses\n",
    "\n",
    "orden_mes = pd.CategoricalDtype(months, ordered=True) # Creo un elemento de tipo categorico y le digo que tenga en cuenta el orden.\n",
    "\n",
    "# Ordeno los elementos de la columna de mes con el orden de la lista\n",
    "temperaturas_totales['nombre_mes'] = temperaturas_totales['nombre_mes'].astype(orden_mes) \n",
    "\n",
    "temperaturas_totales = temperaturas_totales.sort_values('nombre_mes')\n",
    "\n",
    "temperaturas_totales"
   ]
  },
  {
   "cell_type": "markdown",
   "id": "ac88a8b0",
   "metadata": {},
   "source": [
    "Vuelvo a reorganizar el DF."
   ]
  },
  {
   "cell_type": "code",
   "execution_count": 9,
   "id": "40d286fe",
   "metadata": {},
   "outputs": [
    {
     "data": {
      "application/vnd.microsoft.datawrangler.viewer.v0+json": {
       "columns": [
        {
         "name": "index",
         "rawType": "int64",
         "type": "integer"
        },
        {
         "name": "nombre_mes",
         "rawType": "category",
         "type": "unknown"
        },
        {
         "name": "Año",
         "rawType": "object",
         "type": "string"
        },
        {
         "name": "Temperatura",
         "rawType": "float64",
         "type": "float"
        }
       ],
       "ref": "99a6a92e-ba55-487d-8318-9fd6b6351a02",
       "rows": [
        [
         "0",
         "Enero",
         "1975-2000",
         "12.3"
        ],
        [
         "1",
         "Febrero",
         "1975-2000",
         "12.39"
        ],
        [
         "2",
         "Marzo",
         "1975-2000",
         "12.58"
        ],
        [
         "3",
         "Abril",
         "1975-2000",
         "13.34"
        ],
        [
         "4",
         "Mayo",
         "1975-2000",
         "15.54"
        ],
        [
         "5",
         "Junio",
         "1975-2000",
         "18.91"
        ],
        [
         "6",
         "Julio",
         "1975-2000",
         "21.61"
        ],
        [
         "7",
         "Agosto",
         "1975-2000",
         "22.77"
        ],
        [
         "8",
         "Septiembre",
         "1975-2000",
         "21.21"
        ],
        [
         "9",
         "Octubre",
         "1975-2000",
         "18.43"
        ],
        [
         "10",
         "Noviembre",
         "1975-2000",
         "16.22"
        ],
        [
         "11",
         "Diciembre",
         "1975-2000",
         "13.96"
        ],
        [
         "12",
         "Enero",
         "2007",
         "14.7"
        ],
        [
         "13",
         "Febrero",
         "2007",
         "13.6"
        ],
        [
         "14",
         "Marzo",
         "2007",
         "13.6"
        ],
        [
         "15",
         "Abril",
         "2007",
         "15.0"
        ],
        [
         "16",
         "Mayo",
         "2007",
         "17.4"
        ],
        [
         "17",
         "Junio",
         "2007",
         "19.2"
        ],
        [
         "18",
         "Julio",
         "2007",
         "21.9"
        ],
        [
         "19",
         "Agosto",
         "2007",
         "22.2"
        ],
        [
         "20",
         "Septiembre",
         "2007",
         "19.7"
        ],
        [
         "21",
         "Octubre",
         "2007",
         "18.5"
        ],
        [
         "22",
         "Noviembre",
         "2007",
         "15.8"
        ],
        [
         "23",
         "Diciembre",
         "2007",
         "14.1"
        ],
        [
         "24",
         "Enero",
         "2012",
         "14.0"
        ],
        [
         "25",
         "Febrero",
         "2012",
         "12.8"
        ],
        [
         "26",
         "Marzo",
         "2012",
         "13.2"
        ],
        [
         "27",
         "Abril",
         "2012",
         "14.1"
        ],
        [
         "28",
         "Mayo",
         "2012",
         "16.4"
        ],
        [
         "29",
         "Junio",
         "2012",
         "20.0"
        ],
        [
         "30",
         "Julio",
         "2012",
         "21.5"
        ],
        [
         "31",
         "Agosto",
         "2012",
         "23.9"
        ],
        [
         "32",
         "Septiembre",
         "2012",
         "20.3"
        ],
        [
         "33",
         "Octubre",
         "2012",
         "18.9"
        ],
        [
         "34",
         "Noviembre",
         "2012",
         "16.1"
        ],
        [
         "35",
         "Diciembre",
         "2012",
         "14.2"
        ],
        [
         "36",
         "Enero",
         "2017",
         "13.9"
        ],
        [
         "37",
         "Febrero",
         "2017",
         "12.8"
        ],
        [
         "38",
         "Marzo",
         "2017",
         "13.7"
        ],
        [
         "39",
         "Abril",
         "2017",
         "14.8"
        ],
        [
         "40",
         "Mayo",
         "2017",
         "17.1"
        ],
        [
         "41",
         "Junio",
         "2017",
         "21.9"
        ],
        [
         "42",
         "Julio",
         "2017",
         "23.8"
        ],
        [
         "43",
         "Agosto",
         "2017",
         "23.6"
        ],
        [
         "44",
         "Septiembre",
         "2017",
         "23.0"
        ],
        [
         "45",
         "Octubre",
         "2017",
         "19.2"
        ],
        [
         "46",
         "Noviembre",
         "2017",
         "16.5"
        ],
        [
         "47",
         "Diciembre",
         "2017",
         "13.6"
        ],
        [
         "48",
         "Enero",
         "2023",
         "14.6"
        ],
        [
         "49",
         "Febrero",
         "2023",
         "13.2"
        ]
       ],
       "shape": {
        "columns": 3,
        "rows": 60
       }
      },
      "text/html": [
       "<div>\n",
       "<style scoped>\n",
       "    .dataframe tbody tr th:only-of-type {\n",
       "        vertical-align: middle;\n",
       "    }\n",
       "\n",
       "    .dataframe tbody tr th {\n",
       "        vertical-align: top;\n",
       "    }\n",
       "\n",
       "    .dataframe thead th {\n",
       "        text-align: right;\n",
       "    }\n",
       "</style>\n",
       "<table border=\"1\" class=\"dataframe\">\n",
       "  <thead>\n",
       "    <tr style=\"text-align: right;\">\n",
       "      <th></th>\n",
       "      <th>nombre_mes</th>\n",
       "      <th>Año</th>\n",
       "      <th>Temperatura</th>\n",
       "    </tr>\n",
       "  </thead>\n",
       "  <tbody>\n",
       "    <tr>\n",
       "      <th>0</th>\n",
       "      <td>Enero</td>\n",
       "      <td>1975-2000</td>\n",
       "      <td>12.30</td>\n",
       "    </tr>\n",
       "    <tr>\n",
       "      <th>1</th>\n",
       "      <td>Febrero</td>\n",
       "      <td>1975-2000</td>\n",
       "      <td>12.39</td>\n",
       "    </tr>\n",
       "    <tr>\n",
       "      <th>2</th>\n",
       "      <td>Marzo</td>\n",
       "      <td>1975-2000</td>\n",
       "      <td>12.58</td>\n",
       "    </tr>\n",
       "    <tr>\n",
       "      <th>3</th>\n",
       "      <td>Abril</td>\n",
       "      <td>1975-2000</td>\n",
       "      <td>13.34</td>\n",
       "    </tr>\n",
       "    <tr>\n",
       "      <th>4</th>\n",
       "      <td>Mayo</td>\n",
       "      <td>1975-2000</td>\n",
       "      <td>15.54</td>\n",
       "    </tr>\n",
       "    <tr>\n",
       "      <th>5</th>\n",
       "      <td>Junio</td>\n",
       "      <td>1975-2000</td>\n",
       "      <td>18.91</td>\n",
       "    </tr>\n",
       "    <tr>\n",
       "      <th>6</th>\n",
       "      <td>Julio</td>\n",
       "      <td>1975-2000</td>\n",
       "      <td>21.61</td>\n",
       "    </tr>\n",
       "    <tr>\n",
       "      <th>7</th>\n",
       "      <td>Agosto</td>\n",
       "      <td>1975-2000</td>\n",
       "      <td>22.77</td>\n",
       "    </tr>\n",
       "    <tr>\n",
       "      <th>8</th>\n",
       "      <td>Septiembre</td>\n",
       "      <td>1975-2000</td>\n",
       "      <td>21.21</td>\n",
       "    </tr>\n",
       "    <tr>\n",
       "      <th>9</th>\n",
       "      <td>Octubre</td>\n",
       "      <td>1975-2000</td>\n",
       "      <td>18.43</td>\n",
       "    </tr>\n",
       "    <tr>\n",
       "      <th>10</th>\n",
       "      <td>Noviembre</td>\n",
       "      <td>1975-2000</td>\n",
       "      <td>16.22</td>\n",
       "    </tr>\n",
       "    <tr>\n",
       "      <th>11</th>\n",
       "      <td>Diciembre</td>\n",
       "      <td>1975-2000</td>\n",
       "      <td>13.96</td>\n",
       "    </tr>\n",
       "    <tr>\n",
       "      <th>12</th>\n",
       "      <td>Enero</td>\n",
       "      <td>2007</td>\n",
       "      <td>14.70</td>\n",
       "    </tr>\n",
       "    <tr>\n",
       "      <th>13</th>\n",
       "      <td>Febrero</td>\n",
       "      <td>2007</td>\n",
       "      <td>13.60</td>\n",
       "    </tr>\n",
       "    <tr>\n",
       "      <th>14</th>\n",
       "      <td>Marzo</td>\n",
       "      <td>2007</td>\n",
       "      <td>13.60</td>\n",
       "    </tr>\n",
       "    <tr>\n",
       "      <th>15</th>\n",
       "      <td>Abril</td>\n",
       "      <td>2007</td>\n",
       "      <td>15.00</td>\n",
       "    </tr>\n",
       "    <tr>\n",
       "      <th>16</th>\n",
       "      <td>Mayo</td>\n",
       "      <td>2007</td>\n",
       "      <td>17.40</td>\n",
       "    </tr>\n",
       "    <tr>\n",
       "      <th>17</th>\n",
       "      <td>Junio</td>\n",
       "      <td>2007</td>\n",
       "      <td>19.20</td>\n",
       "    </tr>\n",
       "    <tr>\n",
       "      <th>18</th>\n",
       "      <td>Julio</td>\n",
       "      <td>2007</td>\n",
       "      <td>21.90</td>\n",
       "    </tr>\n",
       "    <tr>\n",
       "      <th>19</th>\n",
       "      <td>Agosto</td>\n",
       "      <td>2007</td>\n",
       "      <td>22.20</td>\n",
       "    </tr>\n",
       "    <tr>\n",
       "      <th>20</th>\n",
       "      <td>Septiembre</td>\n",
       "      <td>2007</td>\n",
       "      <td>19.70</td>\n",
       "    </tr>\n",
       "    <tr>\n",
       "      <th>21</th>\n",
       "      <td>Octubre</td>\n",
       "      <td>2007</td>\n",
       "      <td>18.50</td>\n",
       "    </tr>\n",
       "    <tr>\n",
       "      <th>22</th>\n",
       "      <td>Noviembre</td>\n",
       "      <td>2007</td>\n",
       "      <td>15.80</td>\n",
       "    </tr>\n",
       "    <tr>\n",
       "      <th>23</th>\n",
       "      <td>Diciembre</td>\n",
       "      <td>2007</td>\n",
       "      <td>14.10</td>\n",
       "    </tr>\n",
       "    <tr>\n",
       "      <th>24</th>\n",
       "      <td>Enero</td>\n",
       "      <td>2012</td>\n",
       "      <td>14.00</td>\n",
       "    </tr>\n",
       "    <tr>\n",
       "      <th>25</th>\n",
       "      <td>Febrero</td>\n",
       "      <td>2012</td>\n",
       "      <td>12.80</td>\n",
       "    </tr>\n",
       "    <tr>\n",
       "      <th>26</th>\n",
       "      <td>Marzo</td>\n",
       "      <td>2012</td>\n",
       "      <td>13.20</td>\n",
       "    </tr>\n",
       "    <tr>\n",
       "      <th>27</th>\n",
       "      <td>Abril</td>\n",
       "      <td>2012</td>\n",
       "      <td>14.10</td>\n",
       "    </tr>\n",
       "    <tr>\n",
       "      <th>28</th>\n",
       "      <td>Mayo</td>\n",
       "      <td>2012</td>\n",
       "      <td>16.40</td>\n",
       "    </tr>\n",
       "    <tr>\n",
       "      <th>29</th>\n",
       "      <td>Junio</td>\n",
       "      <td>2012</td>\n",
       "      <td>20.00</td>\n",
       "    </tr>\n",
       "    <tr>\n",
       "      <th>30</th>\n",
       "      <td>Julio</td>\n",
       "      <td>2012</td>\n",
       "      <td>21.50</td>\n",
       "    </tr>\n",
       "    <tr>\n",
       "      <th>31</th>\n",
       "      <td>Agosto</td>\n",
       "      <td>2012</td>\n",
       "      <td>23.90</td>\n",
       "    </tr>\n",
       "    <tr>\n",
       "      <th>32</th>\n",
       "      <td>Septiembre</td>\n",
       "      <td>2012</td>\n",
       "      <td>20.30</td>\n",
       "    </tr>\n",
       "    <tr>\n",
       "      <th>33</th>\n",
       "      <td>Octubre</td>\n",
       "      <td>2012</td>\n",
       "      <td>18.90</td>\n",
       "    </tr>\n",
       "    <tr>\n",
       "      <th>34</th>\n",
       "      <td>Noviembre</td>\n",
       "      <td>2012</td>\n",
       "      <td>16.10</td>\n",
       "    </tr>\n",
       "    <tr>\n",
       "      <th>35</th>\n",
       "      <td>Diciembre</td>\n",
       "      <td>2012</td>\n",
       "      <td>14.20</td>\n",
       "    </tr>\n",
       "    <tr>\n",
       "      <th>36</th>\n",
       "      <td>Enero</td>\n",
       "      <td>2017</td>\n",
       "      <td>13.90</td>\n",
       "    </tr>\n",
       "    <tr>\n",
       "      <th>37</th>\n",
       "      <td>Febrero</td>\n",
       "      <td>2017</td>\n",
       "      <td>12.80</td>\n",
       "    </tr>\n",
       "    <tr>\n",
       "      <th>38</th>\n",
       "      <td>Marzo</td>\n",
       "      <td>2017</td>\n",
       "      <td>13.70</td>\n",
       "    </tr>\n",
       "    <tr>\n",
       "      <th>39</th>\n",
       "      <td>Abril</td>\n",
       "      <td>2017</td>\n",
       "      <td>14.80</td>\n",
       "    </tr>\n",
       "    <tr>\n",
       "      <th>40</th>\n",
       "      <td>Mayo</td>\n",
       "      <td>2017</td>\n",
       "      <td>17.10</td>\n",
       "    </tr>\n",
       "    <tr>\n",
       "      <th>41</th>\n",
       "      <td>Junio</td>\n",
       "      <td>2017</td>\n",
       "      <td>21.90</td>\n",
       "    </tr>\n",
       "    <tr>\n",
       "      <th>42</th>\n",
       "      <td>Julio</td>\n",
       "      <td>2017</td>\n",
       "      <td>23.80</td>\n",
       "    </tr>\n",
       "    <tr>\n",
       "      <th>43</th>\n",
       "      <td>Agosto</td>\n",
       "      <td>2017</td>\n",
       "      <td>23.60</td>\n",
       "    </tr>\n",
       "    <tr>\n",
       "      <th>44</th>\n",
       "      <td>Septiembre</td>\n",
       "      <td>2017</td>\n",
       "      <td>23.00</td>\n",
       "    </tr>\n",
       "    <tr>\n",
       "      <th>45</th>\n",
       "      <td>Octubre</td>\n",
       "      <td>2017</td>\n",
       "      <td>19.20</td>\n",
       "    </tr>\n",
       "    <tr>\n",
       "      <th>46</th>\n",
       "      <td>Noviembre</td>\n",
       "      <td>2017</td>\n",
       "      <td>16.50</td>\n",
       "    </tr>\n",
       "    <tr>\n",
       "      <th>47</th>\n",
       "      <td>Diciembre</td>\n",
       "      <td>2017</td>\n",
       "      <td>13.60</td>\n",
       "    </tr>\n",
       "    <tr>\n",
       "      <th>48</th>\n",
       "      <td>Enero</td>\n",
       "      <td>2023</td>\n",
       "      <td>14.60</td>\n",
       "    </tr>\n",
       "    <tr>\n",
       "      <th>49</th>\n",
       "      <td>Febrero</td>\n",
       "      <td>2023</td>\n",
       "      <td>13.20</td>\n",
       "    </tr>\n",
       "    <tr>\n",
       "      <th>50</th>\n",
       "      <td>Marzo</td>\n",
       "      <td>2023</td>\n",
       "      <td>13.60</td>\n",
       "    </tr>\n",
       "    <tr>\n",
       "      <th>51</th>\n",
       "      <td>Abril</td>\n",
       "      <td>2023</td>\n",
       "      <td>14.40</td>\n",
       "    </tr>\n",
       "    <tr>\n",
       "      <th>52</th>\n",
       "      <td>Mayo</td>\n",
       "      <td>2023</td>\n",
       "      <td>16.80</td>\n",
       "    </tr>\n",
       "    <tr>\n",
       "      <th>53</th>\n",
       "      <td>Junio</td>\n",
       "      <td>2023</td>\n",
       "      <td>21.50</td>\n",
       "    </tr>\n",
       "    <tr>\n",
       "      <th>54</th>\n",
       "      <td>Julio</td>\n",
       "      <td>2023</td>\n",
       "      <td>24.40</td>\n",
       "    </tr>\n",
       "    <tr>\n",
       "      <th>55</th>\n",
       "      <td>Agosto</td>\n",
       "      <td>2023</td>\n",
       "      <td>24.80</td>\n",
       "    </tr>\n",
       "    <tr>\n",
       "      <th>56</th>\n",
       "      <td>Septiembre</td>\n",
       "      <td>2023</td>\n",
       "      <td>22.60</td>\n",
       "    </tr>\n",
       "    <tr>\n",
       "      <th>57</th>\n",
       "      <td>Octubre</td>\n",
       "      <td>2023</td>\n",
       "      <td>21.40</td>\n",
       "    </tr>\n",
       "    <tr>\n",
       "      <th>58</th>\n",
       "      <td>Noviembre</td>\n",
       "      <td>2023</td>\n",
       "      <td>17.30</td>\n",
       "    </tr>\n",
       "    <tr>\n",
       "      <th>59</th>\n",
       "      <td>Diciembre</td>\n",
       "      <td>2023</td>\n",
       "      <td>14.80</td>\n",
       "    </tr>\n",
       "  </tbody>\n",
       "</table>\n",
       "</div>"
      ],
      "text/plain": [
       "    nombre_mes        Año  Temperatura\n",
       "0        Enero  1975-2000        12.30\n",
       "1      Febrero  1975-2000        12.39\n",
       "2        Marzo  1975-2000        12.58\n",
       "3        Abril  1975-2000        13.34\n",
       "4         Mayo  1975-2000        15.54\n",
       "5        Junio  1975-2000        18.91\n",
       "6        Julio  1975-2000        21.61\n",
       "7       Agosto  1975-2000        22.77\n",
       "8   Septiembre  1975-2000        21.21\n",
       "9      Octubre  1975-2000        18.43\n",
       "10   Noviembre  1975-2000        16.22\n",
       "11   Diciembre  1975-2000        13.96\n",
       "12       Enero       2007        14.70\n",
       "13     Febrero       2007        13.60\n",
       "14       Marzo       2007        13.60\n",
       "15       Abril       2007        15.00\n",
       "16        Mayo       2007        17.40\n",
       "17       Junio       2007        19.20\n",
       "18       Julio       2007        21.90\n",
       "19      Agosto       2007        22.20\n",
       "20  Septiembre       2007        19.70\n",
       "21     Octubre       2007        18.50\n",
       "22   Noviembre       2007        15.80\n",
       "23   Diciembre       2007        14.10\n",
       "24       Enero       2012        14.00\n",
       "25     Febrero       2012        12.80\n",
       "26       Marzo       2012        13.20\n",
       "27       Abril       2012        14.10\n",
       "28        Mayo       2012        16.40\n",
       "29       Junio       2012        20.00\n",
       "30       Julio       2012        21.50\n",
       "31      Agosto       2012        23.90\n",
       "32  Septiembre       2012        20.30\n",
       "33     Octubre       2012        18.90\n",
       "34   Noviembre       2012        16.10\n",
       "35   Diciembre       2012        14.20\n",
       "36       Enero       2017        13.90\n",
       "37     Febrero       2017        12.80\n",
       "38       Marzo       2017        13.70\n",
       "39       Abril       2017        14.80\n",
       "40        Mayo       2017        17.10\n",
       "41       Junio       2017        21.90\n",
       "42       Julio       2017        23.80\n",
       "43      Agosto       2017        23.60\n",
       "44  Septiembre       2017        23.00\n",
       "45     Octubre       2017        19.20\n",
       "46   Noviembre       2017        16.50\n",
       "47   Diciembre       2017        13.60\n",
       "48       Enero       2023        14.60\n",
       "49     Febrero       2023        13.20\n",
       "50       Marzo       2023        13.60\n",
       "51       Abril       2023        14.40\n",
       "52        Mayo       2023        16.80\n",
       "53       Junio       2023        21.50\n",
       "54       Julio       2023        24.40\n",
       "55      Agosto       2023        24.80\n",
       "56  Septiembre       2023        22.60\n",
       "57     Octubre       2023        21.40\n",
       "58   Noviembre       2023        17.30\n",
       "59   Diciembre       2023        14.80"
      ]
     },
     "execution_count": 9,
     "metadata": {},
     "output_type": "execute_result"
    }
   ],
   "source": [
    "temperaturas_totales2 = temperaturas_totales.melt(id_vars=['nombre_mes'],\n",
    "                  value_vars=['Media 1975_2000', 'Tª 2007', 'Tª 2012', 'Tª 2017','Tª 2023'],\n",
    "                  var_name='Tipo de Temperatura', \n",
    "                  value_name='Temperatura') \n",
    "\n",
    "temperaturas_totales2['Tipo de Temperatura'] = temperaturas_totales2['Tipo de Temperatura'].replace('Tª 2007', '2007')\n",
    "temperaturas_totales2['Tipo de Temperatura'] = temperaturas_totales2['Tipo de Temperatura'].replace('Tª 2012', '2012')\n",
    "temperaturas_totales2['Tipo de Temperatura'] = temperaturas_totales2['Tipo de Temperatura'].replace('Tª 2017', '2017')\n",
    "temperaturas_totales2['Tipo de Temperatura'] = temperaturas_totales2['Tipo de Temperatura'].replace('Tª 2023', '2023')\n",
    "temperaturas_totales2['Tipo de Temperatura'] = temperaturas_totales2['Tipo de Temperatura'].replace('Media 1975_2000', '1975-2000')\n",
    "\n",
    "temperaturas_totales2.rename(columns={\n",
    "    'Tipo de Temperatura':'Año'    \n",
    "}, inplace=True)\n",
    "\n",
    "temperaturas_totales2   "
   ]
  },
  {
   "cell_type": "markdown",
   "id": "4fd6c531",
   "metadata": {},
   "source": [
    "# Graficos"
   ]
  },
  {
   "cell_type": "markdown",
   "id": "6f81aba0",
   "metadata": {},
   "source": [
    "### Grafico con los valores historicos de temperatura"
   ]
  },
  {
   "cell_type": "code",
   "execution_count": 10,
   "id": "381e3710",
   "metadata": {},
   "outputs": [],
   "source": [
    "# Colores que usaré en los graficos\n",
    "color_map ={\n",
    "    '1975-2000':'#1F0C07',\n",
    "    '2007':'#0072B2',\n",
    "    '2012':'#D55E00',\n",
    "    '2017':'#009E73',\n",
    "    '2023':'#CC79A7',\n",
    "    '2024':'#8B0000',\n",
    "    '2022':'#DC143C',\n",
    "    '2025':'#FF2400',\n",
    "    '2021':'#FF69B4',\n",
    "    '2020': '#DB1A73'\n",
    "    }\n",
    "\n",
    "# Tipos de líneas para los graficos\n",
    "dash_map = {\n",
    "    '1975-2000':'dash',\n",
    "    '2007':'solid',\n",
    "    '2012':'solid',\n",
    "    '2017':'solid',\n",
    "    '2023' : 'solid'\n",
    "}"
   ]
  },
  {
   "cell_type": "markdown",
   "id": "f94b11e4",
   "metadata": {},
   "source": [
    "## Grafico con las medias de SST por mes y año comparado con la media histórica"
   ]
  },
  {
   "cell_type": "code",
   "execution_count": 11,
   "id": "8ddbaac6",
   "metadata": {},
   "outputs": [
    {
     "data": {
      "application/vnd.plotly.v1+json": {
       "config": {
        "plotlyServerURL": "https://plot.ly"
       },
       "data": [
        {
         "hovertemplate": "<b>%{hovertext}</b><br><br>Año=1975-2000<br>Mes=%{x}<br>Temperatura en ºC=%{y:.2f}<extra></extra>",
         "hovertext": [
          "1975-2000",
          "1975-2000",
          "1975-2000",
          "1975-2000",
          "1975-2000",
          "1975-2000",
          "1975-2000",
          "1975-2000",
          "1975-2000",
          "1975-2000",
          "1975-2000",
          "1975-2000"
         ],
         "legendgroup": "1975-2000",
         "line": {
          "color": "#1F0C07",
          "dash": "dash"
         },
         "marker": {
          "symbol": "circle"
         },
         "mode": "lines",
         "name": "1975-2000",
         "orientation": "v",
         "showlegend": true,
         "type": "scatter",
         "x": [
          "Enero",
          "Febrero",
          "Marzo",
          "Abril",
          "Mayo",
          "Junio",
          "Julio",
          "Agosto",
          "Septiembre",
          "Octubre",
          "Noviembre",
          "Diciembre"
         ],
         "xaxis": "x",
         "y": {
          "bdata": "mpmZmZmZKEBI4XoUrscoQClcj8L1KClArkfhehSuKkAUrkfhehQvQClcj8L16DJAXI/C9SicNUCF61G4HsU2QPYoXI/CNTVArkfhehRuMkC4HoXrUTgwQOxRuB6F6ytA",
          "dtype": "f8"
         },
         "yaxis": "y"
        },
        {
         "hovertemplate": "<b>%{hovertext}</b><br><br>Año=2007<br>Mes=%{x}<br>Temperatura en ºC=%{y:.2f}<extra></extra>",
         "hovertext": [
          "2007",
          "2007",
          "2007",
          "2007",
          "2007",
          "2007",
          "2007",
          "2007",
          "2007",
          "2007",
          "2007",
          "2007"
         ],
         "legendgroup": "2007",
         "line": {
          "color": "#0072B2",
          "dash": "solid"
         },
         "marker": {
          "symbol": "circle"
         },
         "mode": "lines",
         "name": "2007",
         "orientation": "v",
         "showlegend": true,
         "type": "scatter",
         "x": [
          "Enero",
          "Febrero",
          "Marzo",
          "Abril",
          "Mayo",
          "Junio",
          "Julio",
          "Agosto",
          "Septiembre",
          "Octubre",
          "Noviembre",
          "Diciembre"
         ],
         "xaxis": "x",
         "y": {
          "bdata": "ZmZmZmZmLUAzMzMzMzMrQDMzMzMzMytAAAAAAAAALkBmZmZmZmYxQDMzMzMzMzNAZmZmZmbmNUAzMzMzMzM2QDMzMzMzszNAAAAAAACAMkCamZmZmZkvQDMzMzMzMyxA",
          "dtype": "f8"
         },
         "yaxis": "y"
        },
        {
         "hovertemplate": "<b>%{hovertext}</b><br><br>Año=2012<br>Mes=%{x}<br>Temperatura en ºC=%{y:.2f}<extra></extra>",
         "hovertext": [
          "2012",
          "2012",
          "2012",
          "2012",
          "2012",
          "2012",
          "2012",
          "2012",
          "2012",
          "2012",
          "2012",
          "2012"
         ],
         "legendgroup": "2012",
         "line": {
          "color": "#D55E00",
          "dash": "solid"
         },
         "marker": {
          "symbol": "circle"
         },
         "mode": "lines",
         "name": "2012",
         "orientation": "v",
         "showlegend": true,
         "type": "scatter",
         "x": [
          "Enero",
          "Febrero",
          "Marzo",
          "Abril",
          "Mayo",
          "Junio",
          "Julio",
          "Agosto",
          "Septiembre",
          "Octubre",
          "Noviembre",
          "Diciembre"
         ],
         "xaxis": "x",
         "y": {
          "bdata": "AAAAAAAALECamZmZmZkpQGZmZmZmZipAMzMzMzMzLEBmZmZmZmYwQAAAAAAAADRAAAAAAACANUBmZmZmZuY3QM3MzMzMTDRAZmZmZmbmMkCamZmZmRkwQGZmZmZmZixA",
          "dtype": "f8"
         },
         "yaxis": "y"
        },
        {
         "hovertemplate": "<b>%{hovertext}</b><br><br>Año=2017<br>Mes=%{x}<br>Temperatura en ºC=%{y:.2f}<extra></extra>",
         "hovertext": [
          "2017",
          "2017",
          "2017",
          "2017",
          "2017",
          "2017",
          "2017",
          "2017",
          "2017",
          "2017",
          "2017",
          "2017"
         ],
         "legendgroup": "2017",
         "line": {
          "color": "#009E73",
          "dash": "solid"
         },
         "marker": {
          "symbol": "circle"
         },
         "mode": "lines",
         "name": "2017",
         "orientation": "v",
         "showlegend": true,
         "type": "scatter",
         "x": [
          "Enero",
          "Febrero",
          "Marzo",
          "Abril",
          "Mayo",
          "Junio",
          "Julio",
          "Agosto",
          "Septiembre",
          "Octubre",
          "Noviembre",
          "Diciembre"
         ],
         "xaxis": "x",
         "y": {
          "bdata": "zczMzMzMK0CamZmZmZkpQGZmZmZmZitAmpmZmZmZLUCamZmZmRkxQGZmZmZm5jVAzczMzMzMN0CamZmZmZk3QAAAAAAAADdAMzMzMzMzM0AAAAAAAIAwQDMzMzMzMytA",
          "dtype": "f8"
         },
         "yaxis": "y"
        },
        {
         "hovertemplate": "<b>%{hovertext}</b><br><br>Año=2023<br>Mes=%{x}<br>Temperatura en ºC=%{y:.2f}<extra></extra>",
         "hovertext": [
          "2023",
          "2023",
          "2023",
          "2023",
          "2023",
          "2023",
          "2023",
          "2023",
          "2023",
          "2023",
          "2023",
          "2023"
         ],
         "legendgroup": "2023",
         "line": {
          "color": "#CC79A7",
          "dash": "solid"
         },
         "marker": {
          "symbol": "circle"
         },
         "mode": "lines",
         "name": "2023",
         "orientation": "v",
         "showlegend": true,
         "type": "scatter",
         "x": [
          "Enero",
          "Febrero",
          "Marzo",
          "Abril",
          "Mayo",
          "Junio",
          "Julio",
          "Agosto",
          "Septiembre",
          "Octubre",
          "Noviembre",
          "Diciembre"
         ],
         "xaxis": "x",
         "y": {
          "bdata": "MzMzMzMzLUBmZmZmZmYqQDMzMzMzMytAzczMzMzMLEDNzMzMzMwwQAAAAAAAgDVAZmZmZmZmOEDNzMzMzMw4QJqZmZmZmTZAZmZmZmZmNUDNzMzMzEwxQJqZmZmZmS1A",
          "dtype": "f8"
         },
         "yaxis": "y"
        }
       ],
       "layout": {
        "hovermode": "x unified",
        "legend": {
         "title": {
          "text": "Año"
         },
         "tracegroupgap": 0
        },
        "paper_bgcolor": "white",
        "plot_bgcolor": "white",
        "template": {
         "data": {
          "bar": [
           {
            "error_x": {
             "color": "#2a3f5f"
            },
            "error_y": {
             "color": "#2a3f5f"
            },
            "marker": {
             "line": {
              "color": "#E5ECF6",
              "width": 0.5
             },
             "pattern": {
              "fillmode": "overlay",
              "size": 10,
              "solidity": 0.2
             }
            },
            "type": "bar"
           }
          ],
          "barpolar": [
           {
            "marker": {
             "line": {
              "color": "#E5ECF6",
              "width": 0.5
             },
             "pattern": {
              "fillmode": "overlay",
              "size": 10,
              "solidity": 0.2
             }
            },
            "type": "barpolar"
           }
          ],
          "carpet": [
           {
            "aaxis": {
             "endlinecolor": "#2a3f5f",
             "gridcolor": "white",
             "linecolor": "white",
             "minorgridcolor": "white",
             "startlinecolor": "#2a3f5f"
            },
            "baxis": {
             "endlinecolor": "#2a3f5f",
             "gridcolor": "white",
             "linecolor": "white",
             "minorgridcolor": "white",
             "startlinecolor": "#2a3f5f"
            },
            "type": "carpet"
           }
          ],
          "choropleth": [
           {
            "colorbar": {
             "outlinewidth": 0,
             "ticks": ""
            },
            "type": "choropleth"
           }
          ],
          "contour": [
           {
            "colorbar": {
             "outlinewidth": 0,
             "ticks": ""
            },
            "colorscale": [
             [
              0,
              "#0d0887"
             ],
             [
              0.1111111111111111,
              "#46039f"
             ],
             [
              0.2222222222222222,
              "#7201a8"
             ],
             [
              0.3333333333333333,
              "#9c179e"
             ],
             [
              0.4444444444444444,
              "#bd3786"
             ],
             [
              0.5555555555555556,
              "#d8576b"
             ],
             [
              0.6666666666666666,
              "#ed7953"
             ],
             [
              0.7777777777777778,
              "#fb9f3a"
             ],
             [
              0.8888888888888888,
              "#fdca26"
             ],
             [
              1,
              "#f0f921"
             ]
            ],
            "type": "contour"
           }
          ],
          "contourcarpet": [
           {
            "colorbar": {
             "outlinewidth": 0,
             "ticks": ""
            },
            "type": "contourcarpet"
           }
          ],
          "heatmap": [
           {
            "colorbar": {
             "outlinewidth": 0,
             "ticks": ""
            },
            "colorscale": [
             [
              0,
              "#0d0887"
             ],
             [
              0.1111111111111111,
              "#46039f"
             ],
             [
              0.2222222222222222,
              "#7201a8"
             ],
             [
              0.3333333333333333,
              "#9c179e"
             ],
             [
              0.4444444444444444,
              "#bd3786"
             ],
             [
              0.5555555555555556,
              "#d8576b"
             ],
             [
              0.6666666666666666,
              "#ed7953"
             ],
             [
              0.7777777777777778,
              "#fb9f3a"
             ],
             [
              0.8888888888888888,
              "#fdca26"
             ],
             [
              1,
              "#f0f921"
             ]
            ],
            "type": "heatmap"
           }
          ],
          "histogram": [
           {
            "marker": {
             "pattern": {
              "fillmode": "overlay",
              "size": 10,
              "solidity": 0.2
             }
            },
            "type": "histogram"
           }
          ],
          "histogram2d": [
           {
            "colorbar": {
             "outlinewidth": 0,
             "ticks": ""
            },
            "colorscale": [
             [
              0,
              "#0d0887"
             ],
             [
              0.1111111111111111,
              "#46039f"
             ],
             [
              0.2222222222222222,
              "#7201a8"
             ],
             [
              0.3333333333333333,
              "#9c179e"
             ],
             [
              0.4444444444444444,
              "#bd3786"
             ],
             [
              0.5555555555555556,
              "#d8576b"
             ],
             [
              0.6666666666666666,
              "#ed7953"
             ],
             [
              0.7777777777777778,
              "#fb9f3a"
             ],
             [
              0.8888888888888888,
              "#fdca26"
             ],
             [
              1,
              "#f0f921"
             ]
            ],
            "type": "histogram2d"
           }
          ],
          "histogram2dcontour": [
           {
            "colorbar": {
             "outlinewidth": 0,
             "ticks": ""
            },
            "colorscale": [
             [
              0,
              "#0d0887"
             ],
             [
              0.1111111111111111,
              "#46039f"
             ],
             [
              0.2222222222222222,
              "#7201a8"
             ],
             [
              0.3333333333333333,
              "#9c179e"
             ],
             [
              0.4444444444444444,
              "#bd3786"
             ],
             [
              0.5555555555555556,
              "#d8576b"
             ],
             [
              0.6666666666666666,
              "#ed7953"
             ],
             [
              0.7777777777777778,
              "#fb9f3a"
             ],
             [
              0.8888888888888888,
              "#fdca26"
             ],
             [
              1,
              "#f0f921"
             ]
            ],
            "type": "histogram2dcontour"
           }
          ],
          "mesh3d": [
           {
            "colorbar": {
             "outlinewidth": 0,
             "ticks": ""
            },
            "type": "mesh3d"
           }
          ],
          "parcoords": [
           {
            "line": {
             "colorbar": {
              "outlinewidth": 0,
              "ticks": ""
             }
            },
            "type": "parcoords"
           }
          ],
          "pie": [
           {
            "automargin": true,
            "type": "pie"
           }
          ],
          "scatter": [
           {
            "fillpattern": {
             "fillmode": "overlay",
             "size": 10,
             "solidity": 0.2
            },
            "type": "scatter"
           }
          ],
          "scatter3d": [
           {
            "line": {
             "colorbar": {
              "outlinewidth": 0,
              "ticks": ""
             }
            },
            "marker": {
             "colorbar": {
              "outlinewidth": 0,
              "ticks": ""
             }
            },
            "type": "scatter3d"
           }
          ],
          "scattercarpet": [
           {
            "marker": {
             "colorbar": {
              "outlinewidth": 0,
              "ticks": ""
             }
            },
            "type": "scattercarpet"
           }
          ],
          "scattergeo": [
           {
            "marker": {
             "colorbar": {
              "outlinewidth": 0,
              "ticks": ""
             }
            },
            "type": "scattergeo"
           }
          ],
          "scattergl": [
           {
            "marker": {
             "colorbar": {
              "outlinewidth": 0,
              "ticks": ""
             }
            },
            "type": "scattergl"
           }
          ],
          "scattermap": [
           {
            "marker": {
             "colorbar": {
              "outlinewidth": 0,
              "ticks": ""
             }
            },
            "type": "scattermap"
           }
          ],
          "scattermapbox": [
           {
            "marker": {
             "colorbar": {
              "outlinewidth": 0,
              "ticks": ""
             }
            },
            "type": "scattermapbox"
           }
          ],
          "scatterpolar": [
           {
            "marker": {
             "colorbar": {
              "outlinewidth": 0,
              "ticks": ""
             }
            },
            "type": "scatterpolar"
           }
          ],
          "scatterpolargl": [
           {
            "marker": {
             "colorbar": {
              "outlinewidth": 0,
              "ticks": ""
             }
            },
            "type": "scatterpolargl"
           }
          ],
          "scatterternary": [
           {
            "marker": {
             "colorbar": {
              "outlinewidth": 0,
              "ticks": ""
             }
            },
            "type": "scatterternary"
           }
          ],
          "surface": [
           {
            "colorbar": {
             "outlinewidth": 0,
             "ticks": ""
            },
            "colorscale": [
             [
              0,
              "#0d0887"
             ],
             [
              0.1111111111111111,
              "#46039f"
             ],
             [
              0.2222222222222222,
              "#7201a8"
             ],
             [
              0.3333333333333333,
              "#9c179e"
             ],
             [
              0.4444444444444444,
              "#bd3786"
             ],
             [
              0.5555555555555556,
              "#d8576b"
             ],
             [
              0.6666666666666666,
              "#ed7953"
             ],
             [
              0.7777777777777778,
              "#fb9f3a"
             ],
             [
              0.8888888888888888,
              "#fdca26"
             ],
             [
              1,
              "#f0f921"
             ]
            ],
            "type": "surface"
           }
          ],
          "table": [
           {
            "cells": {
             "fill": {
              "color": "#EBF0F8"
             },
             "line": {
              "color": "white"
             }
            },
            "header": {
             "fill": {
              "color": "#C8D4E3"
             },
             "line": {
              "color": "white"
             }
            },
            "type": "table"
           }
          ]
         },
         "layout": {
          "annotationdefaults": {
           "arrowcolor": "#2a3f5f",
           "arrowhead": 0,
           "arrowwidth": 1
          },
          "autotypenumbers": "strict",
          "coloraxis": {
           "colorbar": {
            "outlinewidth": 0,
            "ticks": ""
           }
          },
          "colorscale": {
           "diverging": [
            [
             0,
             "#8e0152"
            ],
            [
             0.1,
             "#c51b7d"
            ],
            [
             0.2,
             "#de77ae"
            ],
            [
             0.3,
             "#f1b6da"
            ],
            [
             0.4,
             "#fde0ef"
            ],
            [
             0.5,
             "#f7f7f7"
            ],
            [
             0.6,
             "#e6f5d0"
            ],
            [
             0.7,
             "#b8e186"
            ],
            [
             0.8,
             "#7fbc41"
            ],
            [
             0.9,
             "#4d9221"
            ],
            [
             1,
             "#276419"
            ]
           ],
           "sequential": [
            [
             0,
             "#0d0887"
            ],
            [
             0.1111111111111111,
             "#46039f"
            ],
            [
             0.2222222222222222,
             "#7201a8"
            ],
            [
             0.3333333333333333,
             "#9c179e"
            ],
            [
             0.4444444444444444,
             "#bd3786"
            ],
            [
             0.5555555555555556,
             "#d8576b"
            ],
            [
             0.6666666666666666,
             "#ed7953"
            ],
            [
             0.7777777777777778,
             "#fb9f3a"
            ],
            [
             0.8888888888888888,
             "#fdca26"
            ],
            [
             1,
             "#f0f921"
            ]
           ],
           "sequentialminus": [
            [
             0,
             "#0d0887"
            ],
            [
             0.1111111111111111,
             "#46039f"
            ],
            [
             0.2222222222222222,
             "#7201a8"
            ],
            [
             0.3333333333333333,
             "#9c179e"
            ],
            [
             0.4444444444444444,
             "#bd3786"
            ],
            [
             0.5555555555555556,
             "#d8576b"
            ],
            [
             0.6666666666666666,
             "#ed7953"
            ],
            [
             0.7777777777777778,
             "#fb9f3a"
            ],
            [
             0.8888888888888888,
             "#fdca26"
            ],
            [
             1,
             "#f0f921"
            ]
           ]
          },
          "colorway": [
           "#636efa",
           "#EF553B",
           "#00cc96",
           "#ab63fa",
           "#FFA15A",
           "#19d3f3",
           "#FF6692",
           "#B6E880",
           "#FF97FF",
           "#FECB52"
          ],
          "font": {
           "color": "#2a3f5f"
          },
          "geo": {
           "bgcolor": "white",
           "lakecolor": "white",
           "landcolor": "#E5ECF6",
           "showlakes": true,
           "showland": true,
           "subunitcolor": "white"
          },
          "hoverlabel": {
           "align": "left"
          },
          "hovermode": "closest",
          "mapbox": {
           "style": "light"
          },
          "paper_bgcolor": "white",
          "plot_bgcolor": "#E5ECF6",
          "polar": {
           "angularaxis": {
            "gridcolor": "white",
            "linecolor": "white",
            "ticks": ""
           },
           "bgcolor": "#E5ECF6",
           "radialaxis": {
            "gridcolor": "white",
            "linecolor": "white",
            "ticks": ""
           }
          },
          "scene": {
           "xaxis": {
            "backgroundcolor": "#E5ECF6",
            "gridcolor": "white",
            "gridwidth": 2,
            "linecolor": "white",
            "showbackground": true,
            "ticks": "",
            "zerolinecolor": "white"
           },
           "yaxis": {
            "backgroundcolor": "#E5ECF6",
            "gridcolor": "white",
            "gridwidth": 2,
            "linecolor": "white",
            "showbackground": true,
            "ticks": "",
            "zerolinecolor": "white"
           },
           "zaxis": {
            "backgroundcolor": "#E5ECF6",
            "gridcolor": "white",
            "gridwidth": 2,
            "linecolor": "white",
            "showbackground": true,
            "ticks": "",
            "zerolinecolor": "white"
           }
          },
          "shapedefaults": {
           "line": {
            "color": "#2a3f5f"
           }
          },
          "ternary": {
           "aaxis": {
            "gridcolor": "white",
            "linecolor": "white",
            "ticks": ""
           },
           "baxis": {
            "gridcolor": "white",
            "linecolor": "white",
            "ticks": ""
           },
           "bgcolor": "#E5ECF6",
           "caxis": {
            "gridcolor": "white",
            "linecolor": "white",
            "ticks": ""
           }
          },
          "title": {
           "x": 0.05
          },
          "xaxis": {
           "automargin": true,
           "gridcolor": "white",
           "linecolor": "white",
           "ticks": "",
           "title": {
            "standoff": 15
           },
           "zerolinecolor": "white",
           "zerolinewidth": 2
          },
          "yaxis": {
           "automargin": true,
           "gridcolor": "white",
           "linecolor": "white",
           "ticks": "",
           "title": {
            "standoff": 15
           },
           "zerolinecolor": "white",
           "zerolinewidth": 2
          }
         }
        },
        "title": {
         "text": "Comparación de la temperatura superficial del mar (SST) durante los años"
        },
        "xaxis": {
         "anchor": "y",
         "domain": [
          0,
          1
         ],
         "gridcolor": "lightgray",
         "showgrid": true,
         "title": {
          "text": "Mes"
         }
        },
        "yaxis": {
         "anchor": "x",
         "domain": [
          0,
          1
         ],
         "gridcolor": "lightgray",
         "showgrid": true,
         "title": {
          "text": "Temperatura en ºC"
         }
        }
       }
      }
     },
     "metadata": {},
     "output_type": "display_data"
    }
   ],
   "source": [
    "fig = px.line(temperaturas_totales2,\n",
    "              x='nombre_mes',\n",
    "              y='Temperatura',\n",
    "              color='Año',\n",
    "              color_discrete_map=color_map, # Le digo que color par cada año con el dccionario de arriba\n",
    "              line_dash='Año',\n",
    "              line_dash_map = dash_map, # Le digo que tipo de línea para cada año.\n",
    "              title = 'Comparación de la temperatura superficial del mar (SST) durante los años',\n",
    "              labels = {'nombre_mes':'Mes', 'Temperatura' : 'Temperatura en ºC'},\n",
    "              hover_name='Año',\n",
    "              hover_data={'nombre_mes': True, 'Temperatura': ':.2f'} # Información que aparece en el tooltip\n",
    "              )\n",
    "\n",
    "\n",
    "# Modifico el grafico \n",
    "fig.update_layout(\n",
    "    hovermode=\"x unified\",\n",
    "    plot_bgcolor='white', \n",
    "    paper_bgcolor='white', \n",
    "    legend_title_text = 'Año',\n",
    "    xaxis=dict(\n",
    "        gridcolor='lightgray', \n",
    "        showgrid=True \n",
    "    ),\n",
    "    yaxis=dict(\n",
    "        gridcolor='lightgray', \n",
    "        showgrid=True\n",
    "    )\n",
    ")\n",
    "\n",
    "# Guardar el grafico en HTML\n",
    "fig.write_html(\"SST_años_207_2012_2017_2023.html\")\n",
    "\n",
    "fig.show()"
   ]
  },
  {
   "cell_type": "markdown",
   "id": "6138dde4",
   "metadata": {},
   "source": [
    "## Anomalía SST"
   ]
  },
  {
   "cell_type": "code",
   "execution_count": 12,
   "id": "1ba9e631",
   "metadata": {},
   "outputs": [
    {
     "data": {
      "application/vnd.microsoft.datawrangler.viewer.v0+json": {
       "columns": [
        {
         "name": "index",
         "rawType": "int64",
         "type": "integer"
        },
        {
         "name": "nombre_mes",
         "rawType": "category",
         "type": "unknown"
        },
        {
         "name": "Año",
         "rawType": "object",
         "type": "string"
        },
        {
         "name": "Diferencia",
         "rawType": "float64",
         "type": "float"
        }
       ],
       "ref": "678eae70-bcfe-4928-9f35-a68a1f474469",
       "rows": [
        [
         "0",
         "Enero",
         "2007",
         "2.4"
        ],
        [
         "1",
         "Febrero",
         "2007",
         "1.21"
        ],
        [
         "2",
         "Marzo",
         "2007",
         "1.02"
        ],
        [
         "3",
         "Abril",
         "2007",
         "1.66"
        ],
        [
         "4",
         "Mayo",
         "2007",
         "1.86"
        ],
        [
         "5",
         "Junio",
         "2007",
         "0.29"
        ],
        [
         "6",
         "Julio",
         "2007",
         "0.29"
        ],
        [
         "7",
         "Agosto",
         "2007",
         "-0.57"
        ],
        [
         "8",
         "Septiembre",
         "2007",
         "-1.51"
        ],
        [
         "9",
         "Octubre",
         "2007",
         "0.07"
        ],
        [
         "10",
         "Noviembre",
         "2007",
         "-0.42"
        ],
        [
         "11",
         "Diciembre",
         "2007",
         "0.14"
        ],
        [
         "12",
         "Enero",
         "2012",
         "1.7"
        ],
        [
         "13",
         "Febrero",
         "2012",
         "0.41"
        ],
        [
         "14",
         "Marzo",
         "2012",
         "0.62"
        ],
        [
         "15",
         "Abril",
         "2012",
         "0.76"
        ],
        [
         "16",
         "Mayo",
         "2012",
         "0.86"
        ],
        [
         "17",
         "Junio",
         "2012",
         "1.09"
        ],
        [
         "18",
         "Julio",
         "2012",
         "-0.11"
        ],
        [
         "19",
         "Agosto",
         "2012",
         "1.13"
        ],
        [
         "20",
         "Septiembre",
         "2012",
         "-0.91"
        ],
        [
         "21",
         "Octubre",
         "2012",
         "0.47"
        ],
        [
         "22",
         "Noviembre",
         "2012",
         "-0.12"
        ],
        [
         "23",
         "Diciembre",
         "2012",
         "0.24"
        ],
        [
         "24",
         "Enero",
         "2017",
         "1.6"
        ],
        [
         "25",
         "Febrero",
         "2017",
         "0.41"
        ],
        [
         "26",
         "Marzo",
         "2017",
         "1.12"
        ],
        [
         "27",
         "Abril",
         "2017",
         "1.46"
        ],
        [
         "28",
         "Mayo",
         "2017",
         "1.56"
        ],
        [
         "29",
         "Junio",
         "2017",
         "2.99"
        ],
        [
         "30",
         "Julio",
         "2017",
         "2.19"
        ],
        [
         "31",
         "Agosto",
         "2017",
         "0.83"
        ],
        [
         "32",
         "Septiembre",
         "2017",
         "1.79"
        ],
        [
         "33",
         "Octubre",
         "2017",
         "0.77"
        ],
        [
         "34",
         "Noviembre",
         "2017",
         "0.28"
        ],
        [
         "35",
         "Diciembre",
         "2017",
         "-0.36"
        ],
        [
         "36",
         "Enero",
         "2023",
         "2.3"
        ],
        [
         "37",
         "Febrero",
         "2023",
         "0.81"
        ],
        [
         "38",
         "Marzo",
         "2023",
         "1.02"
        ],
        [
         "39",
         "Abril",
         "2023",
         "1.06"
        ],
        [
         "40",
         "Mayo",
         "2023",
         "1.26"
        ],
        [
         "41",
         "Junio",
         "2023",
         "2.59"
        ],
        [
         "42",
         "Julio",
         "2023",
         "2.79"
        ],
        [
         "43",
         "Agosto",
         "2023",
         "2.03"
        ],
        [
         "44",
         "Septiembre",
         "2023",
         "1.39"
        ],
        [
         "45",
         "Octubre",
         "2023",
         "2.97"
        ],
        [
         "46",
         "Noviembre",
         "2023",
         "1.08"
        ],
        [
         "47",
         "Diciembre",
         "2023",
         "0.84"
        ]
       ],
       "shape": {
        "columns": 3,
        "rows": 48
       }
      },
      "text/html": [
       "<div>\n",
       "<style scoped>\n",
       "    .dataframe tbody tr th:only-of-type {\n",
       "        vertical-align: middle;\n",
       "    }\n",
       "\n",
       "    .dataframe tbody tr th {\n",
       "        vertical-align: top;\n",
       "    }\n",
       "\n",
       "    .dataframe thead th {\n",
       "        text-align: right;\n",
       "    }\n",
       "</style>\n",
       "<table border=\"1\" class=\"dataframe\">\n",
       "  <thead>\n",
       "    <tr style=\"text-align: right;\">\n",
       "      <th></th>\n",
       "      <th>nombre_mes</th>\n",
       "      <th>Año</th>\n",
       "      <th>Diferencia</th>\n",
       "    </tr>\n",
       "  </thead>\n",
       "  <tbody>\n",
       "    <tr>\n",
       "      <th>0</th>\n",
       "      <td>Enero</td>\n",
       "      <td>2007</td>\n",
       "      <td>2.40</td>\n",
       "    </tr>\n",
       "    <tr>\n",
       "      <th>1</th>\n",
       "      <td>Febrero</td>\n",
       "      <td>2007</td>\n",
       "      <td>1.21</td>\n",
       "    </tr>\n",
       "    <tr>\n",
       "      <th>2</th>\n",
       "      <td>Marzo</td>\n",
       "      <td>2007</td>\n",
       "      <td>1.02</td>\n",
       "    </tr>\n",
       "    <tr>\n",
       "      <th>3</th>\n",
       "      <td>Abril</td>\n",
       "      <td>2007</td>\n",
       "      <td>1.66</td>\n",
       "    </tr>\n",
       "    <tr>\n",
       "      <th>4</th>\n",
       "      <td>Mayo</td>\n",
       "      <td>2007</td>\n",
       "      <td>1.86</td>\n",
       "    </tr>\n",
       "    <tr>\n",
       "      <th>5</th>\n",
       "      <td>Junio</td>\n",
       "      <td>2007</td>\n",
       "      <td>0.29</td>\n",
       "    </tr>\n",
       "    <tr>\n",
       "      <th>6</th>\n",
       "      <td>Julio</td>\n",
       "      <td>2007</td>\n",
       "      <td>0.29</td>\n",
       "    </tr>\n",
       "    <tr>\n",
       "      <th>7</th>\n",
       "      <td>Agosto</td>\n",
       "      <td>2007</td>\n",
       "      <td>-0.57</td>\n",
       "    </tr>\n",
       "    <tr>\n",
       "      <th>8</th>\n",
       "      <td>Septiembre</td>\n",
       "      <td>2007</td>\n",
       "      <td>-1.51</td>\n",
       "    </tr>\n",
       "    <tr>\n",
       "      <th>9</th>\n",
       "      <td>Octubre</td>\n",
       "      <td>2007</td>\n",
       "      <td>0.07</td>\n",
       "    </tr>\n",
       "    <tr>\n",
       "      <th>10</th>\n",
       "      <td>Noviembre</td>\n",
       "      <td>2007</td>\n",
       "      <td>-0.42</td>\n",
       "    </tr>\n",
       "    <tr>\n",
       "      <th>11</th>\n",
       "      <td>Diciembre</td>\n",
       "      <td>2007</td>\n",
       "      <td>0.14</td>\n",
       "    </tr>\n",
       "    <tr>\n",
       "      <th>12</th>\n",
       "      <td>Enero</td>\n",
       "      <td>2012</td>\n",
       "      <td>1.70</td>\n",
       "    </tr>\n",
       "    <tr>\n",
       "      <th>13</th>\n",
       "      <td>Febrero</td>\n",
       "      <td>2012</td>\n",
       "      <td>0.41</td>\n",
       "    </tr>\n",
       "    <tr>\n",
       "      <th>14</th>\n",
       "      <td>Marzo</td>\n",
       "      <td>2012</td>\n",
       "      <td>0.62</td>\n",
       "    </tr>\n",
       "    <tr>\n",
       "      <th>15</th>\n",
       "      <td>Abril</td>\n",
       "      <td>2012</td>\n",
       "      <td>0.76</td>\n",
       "    </tr>\n",
       "    <tr>\n",
       "      <th>16</th>\n",
       "      <td>Mayo</td>\n",
       "      <td>2012</td>\n",
       "      <td>0.86</td>\n",
       "    </tr>\n",
       "    <tr>\n",
       "      <th>17</th>\n",
       "      <td>Junio</td>\n",
       "      <td>2012</td>\n",
       "      <td>1.09</td>\n",
       "    </tr>\n",
       "    <tr>\n",
       "      <th>18</th>\n",
       "      <td>Julio</td>\n",
       "      <td>2012</td>\n",
       "      <td>-0.11</td>\n",
       "    </tr>\n",
       "    <tr>\n",
       "      <th>19</th>\n",
       "      <td>Agosto</td>\n",
       "      <td>2012</td>\n",
       "      <td>1.13</td>\n",
       "    </tr>\n",
       "    <tr>\n",
       "      <th>20</th>\n",
       "      <td>Septiembre</td>\n",
       "      <td>2012</td>\n",
       "      <td>-0.91</td>\n",
       "    </tr>\n",
       "    <tr>\n",
       "      <th>21</th>\n",
       "      <td>Octubre</td>\n",
       "      <td>2012</td>\n",
       "      <td>0.47</td>\n",
       "    </tr>\n",
       "    <tr>\n",
       "      <th>22</th>\n",
       "      <td>Noviembre</td>\n",
       "      <td>2012</td>\n",
       "      <td>-0.12</td>\n",
       "    </tr>\n",
       "    <tr>\n",
       "      <th>23</th>\n",
       "      <td>Diciembre</td>\n",
       "      <td>2012</td>\n",
       "      <td>0.24</td>\n",
       "    </tr>\n",
       "    <tr>\n",
       "      <th>24</th>\n",
       "      <td>Enero</td>\n",
       "      <td>2017</td>\n",
       "      <td>1.60</td>\n",
       "    </tr>\n",
       "    <tr>\n",
       "      <th>25</th>\n",
       "      <td>Febrero</td>\n",
       "      <td>2017</td>\n",
       "      <td>0.41</td>\n",
       "    </tr>\n",
       "    <tr>\n",
       "      <th>26</th>\n",
       "      <td>Marzo</td>\n",
       "      <td>2017</td>\n",
       "      <td>1.12</td>\n",
       "    </tr>\n",
       "    <tr>\n",
       "      <th>27</th>\n",
       "      <td>Abril</td>\n",
       "      <td>2017</td>\n",
       "      <td>1.46</td>\n",
       "    </tr>\n",
       "    <tr>\n",
       "      <th>28</th>\n",
       "      <td>Mayo</td>\n",
       "      <td>2017</td>\n",
       "      <td>1.56</td>\n",
       "    </tr>\n",
       "    <tr>\n",
       "      <th>29</th>\n",
       "      <td>Junio</td>\n",
       "      <td>2017</td>\n",
       "      <td>2.99</td>\n",
       "    </tr>\n",
       "    <tr>\n",
       "      <th>30</th>\n",
       "      <td>Julio</td>\n",
       "      <td>2017</td>\n",
       "      <td>2.19</td>\n",
       "    </tr>\n",
       "    <tr>\n",
       "      <th>31</th>\n",
       "      <td>Agosto</td>\n",
       "      <td>2017</td>\n",
       "      <td>0.83</td>\n",
       "    </tr>\n",
       "    <tr>\n",
       "      <th>32</th>\n",
       "      <td>Septiembre</td>\n",
       "      <td>2017</td>\n",
       "      <td>1.79</td>\n",
       "    </tr>\n",
       "    <tr>\n",
       "      <th>33</th>\n",
       "      <td>Octubre</td>\n",
       "      <td>2017</td>\n",
       "      <td>0.77</td>\n",
       "    </tr>\n",
       "    <tr>\n",
       "      <th>34</th>\n",
       "      <td>Noviembre</td>\n",
       "      <td>2017</td>\n",
       "      <td>0.28</td>\n",
       "    </tr>\n",
       "    <tr>\n",
       "      <th>35</th>\n",
       "      <td>Diciembre</td>\n",
       "      <td>2017</td>\n",
       "      <td>-0.36</td>\n",
       "    </tr>\n",
       "    <tr>\n",
       "      <th>36</th>\n",
       "      <td>Enero</td>\n",
       "      <td>2023</td>\n",
       "      <td>2.30</td>\n",
       "    </tr>\n",
       "    <tr>\n",
       "      <th>37</th>\n",
       "      <td>Febrero</td>\n",
       "      <td>2023</td>\n",
       "      <td>0.81</td>\n",
       "    </tr>\n",
       "    <tr>\n",
       "      <th>38</th>\n",
       "      <td>Marzo</td>\n",
       "      <td>2023</td>\n",
       "      <td>1.02</td>\n",
       "    </tr>\n",
       "    <tr>\n",
       "      <th>39</th>\n",
       "      <td>Abril</td>\n",
       "      <td>2023</td>\n",
       "      <td>1.06</td>\n",
       "    </tr>\n",
       "    <tr>\n",
       "      <th>40</th>\n",
       "      <td>Mayo</td>\n",
       "      <td>2023</td>\n",
       "      <td>1.26</td>\n",
       "    </tr>\n",
       "    <tr>\n",
       "      <th>41</th>\n",
       "      <td>Junio</td>\n",
       "      <td>2023</td>\n",
       "      <td>2.59</td>\n",
       "    </tr>\n",
       "    <tr>\n",
       "      <th>42</th>\n",
       "      <td>Julio</td>\n",
       "      <td>2023</td>\n",
       "      <td>2.79</td>\n",
       "    </tr>\n",
       "    <tr>\n",
       "      <th>43</th>\n",
       "      <td>Agosto</td>\n",
       "      <td>2023</td>\n",
       "      <td>2.03</td>\n",
       "    </tr>\n",
       "    <tr>\n",
       "      <th>44</th>\n",
       "      <td>Septiembre</td>\n",
       "      <td>2023</td>\n",
       "      <td>1.39</td>\n",
       "    </tr>\n",
       "    <tr>\n",
       "      <th>45</th>\n",
       "      <td>Octubre</td>\n",
       "      <td>2023</td>\n",
       "      <td>2.97</td>\n",
       "    </tr>\n",
       "    <tr>\n",
       "      <th>46</th>\n",
       "      <td>Noviembre</td>\n",
       "      <td>2023</td>\n",
       "      <td>1.08</td>\n",
       "    </tr>\n",
       "    <tr>\n",
       "      <th>47</th>\n",
       "      <td>Diciembre</td>\n",
       "      <td>2023</td>\n",
       "      <td>0.84</td>\n",
       "    </tr>\n",
       "  </tbody>\n",
       "</table>\n",
       "</div>"
      ],
      "text/plain": [
       "    nombre_mes   Año  Diferencia\n",
       "0        Enero  2007        2.40\n",
       "1      Febrero  2007        1.21\n",
       "2        Marzo  2007        1.02\n",
       "3        Abril  2007        1.66\n",
       "4         Mayo  2007        1.86\n",
       "5        Junio  2007        0.29\n",
       "6        Julio  2007        0.29\n",
       "7       Agosto  2007       -0.57\n",
       "8   Septiembre  2007       -1.51\n",
       "9      Octubre  2007        0.07\n",
       "10   Noviembre  2007       -0.42\n",
       "11   Diciembre  2007        0.14\n",
       "12       Enero  2012        1.70\n",
       "13     Febrero  2012        0.41\n",
       "14       Marzo  2012        0.62\n",
       "15       Abril  2012        0.76\n",
       "16        Mayo  2012        0.86\n",
       "17       Junio  2012        1.09\n",
       "18       Julio  2012       -0.11\n",
       "19      Agosto  2012        1.13\n",
       "20  Septiembre  2012       -0.91\n",
       "21     Octubre  2012        0.47\n",
       "22   Noviembre  2012       -0.12\n",
       "23   Diciembre  2012        0.24\n",
       "24       Enero  2017        1.60\n",
       "25     Febrero  2017        0.41\n",
       "26       Marzo  2017        1.12\n",
       "27       Abril  2017        1.46\n",
       "28        Mayo  2017        1.56\n",
       "29       Junio  2017        2.99\n",
       "30       Julio  2017        2.19\n",
       "31      Agosto  2017        0.83\n",
       "32  Septiembre  2017        1.79\n",
       "33     Octubre  2017        0.77\n",
       "34   Noviembre  2017        0.28\n",
       "35   Diciembre  2017       -0.36\n",
       "36       Enero  2023        2.30\n",
       "37     Febrero  2023        0.81\n",
       "38       Marzo  2023        1.02\n",
       "39       Abril  2023        1.06\n",
       "40        Mayo  2023        1.26\n",
       "41       Junio  2023        2.59\n",
       "42       Julio  2023        2.79\n",
       "43      Agosto  2023        2.03\n",
       "44  Septiembre  2023        1.39\n",
       "45     Octubre  2023        2.97\n",
       "46   Noviembre  2023        1.08\n",
       "47   Diciembre  2023        0.84"
      ]
     },
     "execution_count": 12,
     "metadata": {},
     "output_type": "execute_result"
    }
   ],
   "source": [
    "# Preparación del DF.\n",
    "cambio_temp = temperaturas_totales.melt(id_vars=['nombre_mes'],\n",
    "                  value_vars=['Diferencia Tª 2007', 'Diferencia Tª 2012', 'Diferencia Tª 2017','Diferencia Tª 2023'],\n",
    "                  var_name='Tipo de Diferencia', \n",
    "                  value_name='Diferencia') \n",
    "\n",
    "cambio_temp['Tipo de Diferencia'] = cambio_temp['Tipo de Diferencia'].replace('Diferencia Tª 2007', '2007')\n",
    "cambio_temp['Tipo de Diferencia'] = cambio_temp['Tipo de Diferencia'].replace('Diferencia Tª 2012', '2012')\n",
    "cambio_temp['Tipo de Diferencia'] = cambio_temp['Tipo de Diferencia'].replace('Diferencia Tª 2017', '2017')\n",
    "cambio_temp['Tipo de Diferencia'] = cambio_temp['Tipo de Diferencia'].replace('Diferencia Tª 2023', '2023')\n",
    "\n",
    "cambio_temp.rename(columns = {\n",
    "    'Tipo de Diferencia':'Año',\n",
    "}, inplace = True)\n",
    "\n",
    "cambio_temp   "
   ]
  },
  {
   "cell_type": "code",
   "execution_count": 13,
   "id": "d83d83b9",
   "metadata": {},
   "outputs": [
    {
     "data": {
      "application/vnd.plotly.v1+json": {
       "config": {
        "plotlyServerURL": "https://plot.ly"
       },
       "data": [
        {
         "hovertemplate": "<b>%{hovertext}</b><br><br>Año=2007<br>Mes=%{x}<br>Diferencia de Temperatura (°C)=%{y:.2f}<extra></extra>",
         "hovertext": [
          "2007",
          "2007",
          "2007",
          "2007",
          "2007",
          "2007",
          "2007",
          "2007",
          "2007",
          "2007",
          "2007",
          "2007"
         ],
         "legendgroup": "2007",
         "line": {
          "color": "#0072B2",
          "dash": "solid"
         },
         "marker": {
          "symbol": "circle"
         },
         "mode": "lines",
         "name": "2007",
         "orientation": "v",
         "showlegend": true,
         "type": "scatter",
         "x": [
          "Enero",
          "Febrero",
          "Marzo",
          "Abril",
          "Mayo",
          "Junio",
          "Julio",
          "Agosto",
          "Septiembre",
          "Octubre",
          "Noviembre",
          "Diciembre"
         ],
         "xaxis": "x",
         "y": {
          "bdata": "MzMzMzMzA0Bcj8L1KFzzP1K4HoXrUfA/j8L1KFyP+j/D9Shcj8L9P4/C9Shcj9I/j8L1KFyP0j89CtejcD3ivylcj8L1KPi/7FG4HoXrsT/hehSuR+Hav+xRuB6F68E/",
          "dtype": "f8"
         },
         "yaxis": "y"
        },
        {
         "hovertemplate": "<b>%{hovertext}</b><br><br>Año=2012<br>Mes=%{x}<br>Diferencia de Temperatura (°C)=%{y:.2f}<extra></extra>",
         "hovertext": [
          "2012",
          "2012",
          "2012",
          "2012",
          "2012",
          "2012",
          "2012",
          "2012",
          "2012",
          "2012",
          "2012",
          "2012"
         ],
         "legendgroup": "2012",
         "line": {
          "color": "#D55E00",
          "dash": "solid"
         },
         "marker": {
          "symbol": "circle"
         },
         "mode": "lines",
         "name": "2012",
         "orientation": "v",
         "showlegend": true,
         "type": "scatter",
         "x": [
          "Enero",
          "Febrero",
          "Marzo",
          "Abril",
          "Mayo",
          "Junio",
          "Julio",
          "Agosto",
          "Septiembre",
          "Octubre",
          "Noviembre",
          "Diciembre"
         ],
         "xaxis": "x",
         "y": {
          "bdata": "MzMzMzMz+z89CtejcD3aP9ejcD0K1+M/UrgehetR6D+F61G4HoXrP3E9CtejcPE/KVyPwvUovL8UrkfhehTyPx+F61G4Hu2/FK5H4XoU3j+4HoXrUbi+v7gehetRuM4/",
          "dtype": "f8"
         },
         "yaxis": "y"
        },
        {
         "hovertemplate": "<b>%{hovertext}</b><br><br>Año=2017<br>Mes=%{x}<br>Diferencia de Temperatura (°C)=%{y:.2f}<extra></extra>",
         "hovertext": [
          "2017",
          "2017",
          "2017",
          "2017",
          "2017",
          "2017",
          "2017",
          "2017",
          "2017",
          "2017",
          "2017",
          "2017"
         ],
         "legendgroup": "2017",
         "line": {
          "color": "#009E73",
          "dash": "solid"
         },
         "marker": {
          "symbol": "circle"
         },
         "mode": "lines",
         "name": "2017",
         "orientation": "v",
         "showlegend": true,
         "type": "scatter",
         "x": [
          "Enero",
          "Febrero",
          "Marzo",
          "Abril",
          "Mayo",
          "Junio",
          "Julio",
          "Agosto",
          "Septiembre",
          "Octubre",
          "Noviembre",
          "Diciembre"
         ],
         "xaxis": "x",
         "y": {
          "bdata": "mpmZmZmZ+T89CtejcD3aP+xRuB6F6/E/XI/C9Shc9z/2KFyPwvX4P+xRuB6F6wdAhetRuB6FAUCPwvUoXI/qP6RwPQrXo/w/pHA9Ctej6D/sUbgehevRPwrXo3A9Cte/",
          "dtype": "f8"
         },
         "yaxis": "y"
        },
        {
         "hovertemplate": "<b>%{hovertext}</b><br><br>Año=2023<br>Mes=%{x}<br>Diferencia de Temperatura (°C)=%{y:.2f}<extra></extra>",
         "hovertext": [
          "2023",
          "2023",
          "2023",
          "2023",
          "2023",
          "2023",
          "2023",
          "2023",
          "2023",
          "2023",
          "2023",
          "2023"
         ],
         "legendgroup": "2023",
         "line": {
          "color": "#CC79A7",
          "dash": "solid"
         },
         "marker": {
          "symbol": "circle"
         },
         "mode": "lines",
         "name": "2023",
         "orientation": "v",
         "showlegend": true,
         "type": "scatter",
         "x": [
          "Enero",
          "Febrero",
          "Marzo",
          "Abril",
          "Mayo",
          "Junio",
          "Julio",
          "Agosto",
          "Septiembre",
          "Octubre",
          "Noviembre",
          "Diciembre"
         ],
         "xaxis": "x",
         "y": {
          "bdata": "ZmZmZmZmAkDsUbgehevpP1K4HoXrUfA/9ihcj8L18D8pXI/C9Sj0P7gehetRuARAUrgehetRBkA9CtejcD0AQD0K16NwPfY/w/UoXI/CB0BI4XoUrkfxP+F6FK5H4eo/",
          "dtype": "f8"
         },
         "yaxis": "y"
        }
       ],
       "layout": {
        "hovermode": "x unified",
        "legend": {
         "title": {
          "text": "Año"
         },
         "tracegroupgap": 0
        },
        "paper_bgcolor": "white",
        "plot_bgcolor": "white",
        "template": {
         "data": {
          "bar": [
           {
            "error_x": {
             "color": "#2a3f5f"
            },
            "error_y": {
             "color": "#2a3f5f"
            },
            "marker": {
             "line": {
              "color": "#E5ECF6",
              "width": 0.5
             },
             "pattern": {
              "fillmode": "overlay",
              "size": 10,
              "solidity": 0.2
             }
            },
            "type": "bar"
           }
          ],
          "barpolar": [
           {
            "marker": {
             "line": {
              "color": "#E5ECF6",
              "width": 0.5
             },
             "pattern": {
              "fillmode": "overlay",
              "size": 10,
              "solidity": 0.2
             }
            },
            "type": "barpolar"
           }
          ],
          "carpet": [
           {
            "aaxis": {
             "endlinecolor": "#2a3f5f",
             "gridcolor": "white",
             "linecolor": "white",
             "minorgridcolor": "white",
             "startlinecolor": "#2a3f5f"
            },
            "baxis": {
             "endlinecolor": "#2a3f5f",
             "gridcolor": "white",
             "linecolor": "white",
             "minorgridcolor": "white",
             "startlinecolor": "#2a3f5f"
            },
            "type": "carpet"
           }
          ],
          "choropleth": [
           {
            "colorbar": {
             "outlinewidth": 0,
             "ticks": ""
            },
            "type": "choropleth"
           }
          ],
          "contour": [
           {
            "colorbar": {
             "outlinewidth": 0,
             "ticks": ""
            },
            "colorscale": [
             [
              0,
              "#0d0887"
             ],
             [
              0.1111111111111111,
              "#46039f"
             ],
             [
              0.2222222222222222,
              "#7201a8"
             ],
             [
              0.3333333333333333,
              "#9c179e"
             ],
             [
              0.4444444444444444,
              "#bd3786"
             ],
             [
              0.5555555555555556,
              "#d8576b"
             ],
             [
              0.6666666666666666,
              "#ed7953"
             ],
             [
              0.7777777777777778,
              "#fb9f3a"
             ],
             [
              0.8888888888888888,
              "#fdca26"
             ],
             [
              1,
              "#f0f921"
             ]
            ],
            "type": "contour"
           }
          ],
          "contourcarpet": [
           {
            "colorbar": {
             "outlinewidth": 0,
             "ticks": ""
            },
            "type": "contourcarpet"
           }
          ],
          "heatmap": [
           {
            "colorbar": {
             "outlinewidth": 0,
             "ticks": ""
            },
            "colorscale": [
             [
              0,
              "#0d0887"
             ],
             [
              0.1111111111111111,
              "#46039f"
             ],
             [
              0.2222222222222222,
              "#7201a8"
             ],
             [
              0.3333333333333333,
              "#9c179e"
             ],
             [
              0.4444444444444444,
              "#bd3786"
             ],
             [
              0.5555555555555556,
              "#d8576b"
             ],
             [
              0.6666666666666666,
              "#ed7953"
             ],
             [
              0.7777777777777778,
              "#fb9f3a"
             ],
             [
              0.8888888888888888,
              "#fdca26"
             ],
             [
              1,
              "#f0f921"
             ]
            ],
            "type": "heatmap"
           }
          ],
          "histogram": [
           {
            "marker": {
             "pattern": {
              "fillmode": "overlay",
              "size": 10,
              "solidity": 0.2
             }
            },
            "type": "histogram"
           }
          ],
          "histogram2d": [
           {
            "colorbar": {
             "outlinewidth": 0,
             "ticks": ""
            },
            "colorscale": [
             [
              0,
              "#0d0887"
             ],
             [
              0.1111111111111111,
              "#46039f"
             ],
             [
              0.2222222222222222,
              "#7201a8"
             ],
             [
              0.3333333333333333,
              "#9c179e"
             ],
             [
              0.4444444444444444,
              "#bd3786"
             ],
             [
              0.5555555555555556,
              "#d8576b"
             ],
             [
              0.6666666666666666,
              "#ed7953"
             ],
             [
              0.7777777777777778,
              "#fb9f3a"
             ],
             [
              0.8888888888888888,
              "#fdca26"
             ],
             [
              1,
              "#f0f921"
             ]
            ],
            "type": "histogram2d"
           }
          ],
          "histogram2dcontour": [
           {
            "colorbar": {
             "outlinewidth": 0,
             "ticks": ""
            },
            "colorscale": [
             [
              0,
              "#0d0887"
             ],
             [
              0.1111111111111111,
              "#46039f"
             ],
             [
              0.2222222222222222,
              "#7201a8"
             ],
             [
              0.3333333333333333,
              "#9c179e"
             ],
             [
              0.4444444444444444,
              "#bd3786"
             ],
             [
              0.5555555555555556,
              "#d8576b"
             ],
             [
              0.6666666666666666,
              "#ed7953"
             ],
             [
              0.7777777777777778,
              "#fb9f3a"
             ],
             [
              0.8888888888888888,
              "#fdca26"
             ],
             [
              1,
              "#f0f921"
             ]
            ],
            "type": "histogram2dcontour"
           }
          ],
          "mesh3d": [
           {
            "colorbar": {
             "outlinewidth": 0,
             "ticks": ""
            },
            "type": "mesh3d"
           }
          ],
          "parcoords": [
           {
            "line": {
             "colorbar": {
              "outlinewidth": 0,
              "ticks": ""
             }
            },
            "type": "parcoords"
           }
          ],
          "pie": [
           {
            "automargin": true,
            "type": "pie"
           }
          ],
          "scatter": [
           {
            "fillpattern": {
             "fillmode": "overlay",
             "size": 10,
             "solidity": 0.2
            },
            "type": "scatter"
           }
          ],
          "scatter3d": [
           {
            "line": {
             "colorbar": {
              "outlinewidth": 0,
              "ticks": ""
             }
            },
            "marker": {
             "colorbar": {
              "outlinewidth": 0,
              "ticks": ""
             }
            },
            "type": "scatter3d"
           }
          ],
          "scattercarpet": [
           {
            "marker": {
             "colorbar": {
              "outlinewidth": 0,
              "ticks": ""
             }
            },
            "type": "scattercarpet"
           }
          ],
          "scattergeo": [
           {
            "marker": {
             "colorbar": {
              "outlinewidth": 0,
              "ticks": ""
             }
            },
            "type": "scattergeo"
           }
          ],
          "scattergl": [
           {
            "marker": {
             "colorbar": {
              "outlinewidth": 0,
              "ticks": ""
             }
            },
            "type": "scattergl"
           }
          ],
          "scattermap": [
           {
            "marker": {
             "colorbar": {
              "outlinewidth": 0,
              "ticks": ""
             }
            },
            "type": "scattermap"
           }
          ],
          "scattermapbox": [
           {
            "marker": {
             "colorbar": {
              "outlinewidth": 0,
              "ticks": ""
             }
            },
            "type": "scattermapbox"
           }
          ],
          "scatterpolar": [
           {
            "marker": {
             "colorbar": {
              "outlinewidth": 0,
              "ticks": ""
             }
            },
            "type": "scatterpolar"
           }
          ],
          "scatterpolargl": [
           {
            "marker": {
             "colorbar": {
              "outlinewidth": 0,
              "ticks": ""
             }
            },
            "type": "scatterpolargl"
           }
          ],
          "scatterternary": [
           {
            "marker": {
             "colorbar": {
              "outlinewidth": 0,
              "ticks": ""
             }
            },
            "type": "scatterternary"
           }
          ],
          "surface": [
           {
            "colorbar": {
             "outlinewidth": 0,
             "ticks": ""
            },
            "colorscale": [
             [
              0,
              "#0d0887"
             ],
             [
              0.1111111111111111,
              "#46039f"
             ],
             [
              0.2222222222222222,
              "#7201a8"
             ],
             [
              0.3333333333333333,
              "#9c179e"
             ],
             [
              0.4444444444444444,
              "#bd3786"
             ],
             [
              0.5555555555555556,
              "#d8576b"
             ],
             [
              0.6666666666666666,
              "#ed7953"
             ],
             [
              0.7777777777777778,
              "#fb9f3a"
             ],
             [
              0.8888888888888888,
              "#fdca26"
             ],
             [
              1,
              "#f0f921"
             ]
            ],
            "type": "surface"
           }
          ],
          "table": [
           {
            "cells": {
             "fill": {
              "color": "#EBF0F8"
             },
             "line": {
              "color": "white"
             }
            },
            "header": {
             "fill": {
              "color": "#C8D4E3"
             },
             "line": {
              "color": "white"
             }
            },
            "type": "table"
           }
          ]
         },
         "layout": {
          "annotationdefaults": {
           "arrowcolor": "#2a3f5f",
           "arrowhead": 0,
           "arrowwidth": 1
          },
          "autotypenumbers": "strict",
          "coloraxis": {
           "colorbar": {
            "outlinewidth": 0,
            "ticks": ""
           }
          },
          "colorscale": {
           "diverging": [
            [
             0,
             "#8e0152"
            ],
            [
             0.1,
             "#c51b7d"
            ],
            [
             0.2,
             "#de77ae"
            ],
            [
             0.3,
             "#f1b6da"
            ],
            [
             0.4,
             "#fde0ef"
            ],
            [
             0.5,
             "#f7f7f7"
            ],
            [
             0.6,
             "#e6f5d0"
            ],
            [
             0.7,
             "#b8e186"
            ],
            [
             0.8,
             "#7fbc41"
            ],
            [
             0.9,
             "#4d9221"
            ],
            [
             1,
             "#276419"
            ]
           ],
           "sequential": [
            [
             0,
             "#0d0887"
            ],
            [
             0.1111111111111111,
             "#46039f"
            ],
            [
             0.2222222222222222,
             "#7201a8"
            ],
            [
             0.3333333333333333,
             "#9c179e"
            ],
            [
             0.4444444444444444,
             "#bd3786"
            ],
            [
             0.5555555555555556,
             "#d8576b"
            ],
            [
             0.6666666666666666,
             "#ed7953"
            ],
            [
             0.7777777777777778,
             "#fb9f3a"
            ],
            [
             0.8888888888888888,
             "#fdca26"
            ],
            [
             1,
             "#f0f921"
            ]
           ],
           "sequentialminus": [
            [
             0,
             "#0d0887"
            ],
            [
             0.1111111111111111,
             "#46039f"
            ],
            [
             0.2222222222222222,
             "#7201a8"
            ],
            [
             0.3333333333333333,
             "#9c179e"
            ],
            [
             0.4444444444444444,
             "#bd3786"
            ],
            [
             0.5555555555555556,
             "#d8576b"
            ],
            [
             0.6666666666666666,
             "#ed7953"
            ],
            [
             0.7777777777777778,
             "#fb9f3a"
            ],
            [
             0.8888888888888888,
             "#fdca26"
            ],
            [
             1,
             "#f0f921"
            ]
           ]
          },
          "colorway": [
           "#636efa",
           "#EF553B",
           "#00cc96",
           "#ab63fa",
           "#FFA15A",
           "#19d3f3",
           "#FF6692",
           "#B6E880",
           "#FF97FF",
           "#FECB52"
          ],
          "font": {
           "color": "#2a3f5f"
          },
          "geo": {
           "bgcolor": "white",
           "lakecolor": "white",
           "landcolor": "#E5ECF6",
           "showlakes": true,
           "showland": true,
           "subunitcolor": "white"
          },
          "hoverlabel": {
           "align": "left"
          },
          "hovermode": "closest",
          "mapbox": {
           "style": "light"
          },
          "paper_bgcolor": "white",
          "plot_bgcolor": "#E5ECF6",
          "polar": {
           "angularaxis": {
            "gridcolor": "white",
            "linecolor": "white",
            "ticks": ""
           },
           "bgcolor": "#E5ECF6",
           "radialaxis": {
            "gridcolor": "white",
            "linecolor": "white",
            "ticks": ""
           }
          },
          "scene": {
           "xaxis": {
            "backgroundcolor": "#E5ECF6",
            "gridcolor": "white",
            "gridwidth": 2,
            "linecolor": "white",
            "showbackground": true,
            "ticks": "",
            "zerolinecolor": "white"
           },
           "yaxis": {
            "backgroundcolor": "#E5ECF6",
            "gridcolor": "white",
            "gridwidth": 2,
            "linecolor": "white",
            "showbackground": true,
            "ticks": "",
            "zerolinecolor": "white"
           },
           "zaxis": {
            "backgroundcolor": "#E5ECF6",
            "gridcolor": "white",
            "gridwidth": 2,
            "linecolor": "white",
            "showbackground": true,
            "ticks": "",
            "zerolinecolor": "white"
           }
          },
          "shapedefaults": {
           "line": {
            "color": "#2a3f5f"
           }
          },
          "ternary": {
           "aaxis": {
            "gridcolor": "white",
            "linecolor": "white",
            "ticks": ""
           },
           "baxis": {
            "gridcolor": "white",
            "linecolor": "white",
            "ticks": ""
           },
           "bgcolor": "#E5ECF6",
           "caxis": {
            "gridcolor": "white",
            "linecolor": "white",
            "ticks": ""
           }
          },
          "title": {
           "x": 0.05
          },
          "xaxis": {
           "automargin": true,
           "gridcolor": "white",
           "linecolor": "white",
           "ticks": "",
           "title": {
            "standoff": 15
           },
           "zerolinecolor": "white",
           "zerolinewidth": 2
          },
          "yaxis": {
           "automargin": true,
           "gridcolor": "white",
           "linecolor": "white",
           "ticks": "",
           "title": {
            "standoff": 15
           },
           "zerolinecolor": "white",
           "zerolinewidth": 2
          }
         }
        },
        "title": {
         "text": "Anomalias Térmica de la Superficie del Mar Respecto a la Media Histórica (1975-2000)"
        },
        "xaxis": {
         "anchor": "y",
         "domain": [
          0,
          1
         ],
         "gridcolor": "lightgray",
         "showgrid": true,
         "title": {
          "text": "Mes"
         }
        },
        "yaxis": {
         "anchor": "x",
         "domain": [
          0,
          1
         ],
         "gridcolor": "lightgray",
         "showgrid": true,
         "title": {
          "text": "Diferencia de Temperatura (°C)"
         },
         "zeroline": true,
         "zerolinecolor": "black",
         "zerolinewidth": 3
        }
       }
      }
     },
     "metadata": {},
     "output_type": "display_data"
    }
   ],
   "source": [
    "# Creaciñon del gráfico.\n",
    "\n",
    "fig_diff = px.line(cambio_temp,\n",
    "                  x='nombre_mes',\n",
    "                  y='Diferencia',\n",
    "                  color='Año', \n",
    "                  line_group='Año',\n",
    "                  color_discrete_map=color_map,\n",
    "                  title='Anomalias Térmica de la Superficie del Mar Respecto a la Media Histórica (1975-2000)',\n",
    "                  labels={'nombre_mes': 'Mes', 'Diferencia': 'Diferencia de Temperatura (°C)'},\n",
    "                  hover_name='Año',\n",
    "                  hover_data={'nombre_mes': True, 'Diferencia': ':.2f'}\n",
    "                 )\n",
    "\n",
    "\n",
    "fig_diff.update_layout(\n",
    "    hovermode=\"x unified\",\n",
    "    plot_bgcolor='white', \n",
    "    paper_bgcolor='white',\n",
    "    legend_title_text = 'Año',\n",
    "     xaxis=dict(\n",
    "        gridcolor='lightgray', \n",
    "        showgrid=True \n",
    "        ),\n",
    "    yaxis=dict(\n",
    "        gridcolor='lightgray',\n",
    "        showgrid=True,\n",
    "        zeroline=True, # Pone una línea en el 0        \n",
    "        zerolinecolor='black', # Coloreo la línea del 0 de negro\n",
    "        zerolinewidth=3 # Le digo que la línea ha de ser de grosor 3\n",
    "        )\n",
    "    )\n",
    "\n",
    "fig_diff.show()"
   ]
  },
  {
   "cell_type": "markdown",
   "id": "d3a28e1d",
   "metadata": {},
   "source": [
    "### Calculo las anomalias en la SST como antes + los últimos 5 años. "
   ]
  },
  {
   "cell_type": "code",
   "execution_count": 14,
   "id": "93a926c4",
   "metadata": {},
   "outputs": [
    {
     "data": {
      "application/vnd.microsoft.datawrangler.viewer.v0+json": {
       "columns": [
        {
         "name": "index",
         "rawType": "int64",
         "type": "integer"
        },
        {
         "name": "year",
         "rawType": "int64",
         "type": "integer"
        },
        {
         "name": "nombre_mes",
         "rawType": "object",
         "type": "string"
        },
        {
         "name": "average_temperature",
         "rawType": "float64",
         "type": "float"
        },
        {
         "name": "Media 1975_2000",
         "rawType": "float64",
         "type": "float"
        },
        {
         "name": "Diferencia Tª",
         "rawType": "float64",
         "type": "float"
        }
       ],
       "ref": "92a58140-650c-4f85-97d1-b36fc04a15dd",
       "rows": [
        [
         "0",
         "2025",
         "Enero",
         "13.9",
         "12.3",
         "1.6"
        ],
        [
         "1",
         "2024",
         "Enero",
         "13.3",
         "12.3",
         "1.0"
        ],
        [
         "2",
         "2023",
         "Enero",
         "14.6",
         "12.3",
         "2.3"
        ],
        [
         "3",
         "2022",
         "Enero",
         "13.8",
         "12.3",
         "1.5"
        ],
        [
         "4",
         "2021",
         "Enero",
         "13.5",
         "12.3",
         "1.2"
        ],
        [
         "5",
         "2020",
         "Enero",
         "14.0",
         "12.3",
         "1.7"
        ],
        [
         "6",
         "2019",
         "Enero",
         "13.9",
         "12.3",
         "1.6"
        ],
        [
         "7",
         "2018",
         "Enero",
         "13.4",
         "12.3",
         "1.1"
        ],
        [
         "8",
         "2017",
         "Enero",
         "13.9",
         "12.3",
         "1.6"
        ],
        [
         "9",
         "2016",
         "Enero",
         "14.5",
         "12.3",
         "2.2"
        ],
        [
         "10",
         "2015",
         "Enero",
         "14.4",
         "12.3",
         "2.1"
        ],
        [
         "11",
         "2014",
         "Enero",
         "13.8",
         "12.3",
         "1.5"
        ],
        [
         "12",
         "2013",
         "Enero",
         "13.4",
         "12.3",
         "1.1"
        ],
        [
         "13",
         "2012",
         "Enero",
         "14.0",
         "12.3",
         "1.7"
        ],
        [
         "14",
         "2011",
         "Enero",
         "13.0",
         "12.3",
         "0.7"
        ],
        [
         "15",
         "2010",
         "Enero",
         "12.8",
         "12.3",
         "0.5"
        ],
        [
         "16",
         "2009",
         "Enero",
         "13.2",
         "12.3",
         "0.9"
        ],
        [
         "17",
         "2008",
         "Enero",
         "13.3",
         "12.3",
         "1.0"
        ],
        [
         "18",
         "2007",
         "Enero",
         "14.7",
         "12.3",
         "2.4"
        ],
        [
         "19",
         "2006",
         "Enero",
         "12.4",
         "12.3",
         "0.1"
        ],
        [
         "20",
         "2005",
         "Enero",
         "13.4",
         "12.3",
         "1.1"
        ],
        [
         "21",
         "2004",
         "Enero",
         "13.3",
         "12.3",
         "1.0"
        ],
        [
         "22",
         "2003",
         "Enero",
         "13.4",
         "12.3",
         "1.1"
        ],
        [
         "23",
         "2002",
         "Enero",
         "13.4",
         "12.3",
         "1.1"
        ],
        [
         "24",
         "2001",
         "Enero",
         "13.2",
         "12.3",
         "0.9"
        ],
        [
         "25",
         "2000",
         "Enero",
         "12.9",
         "12.3",
         "0.6"
        ],
        [
         "26",
         "2025",
         "Febrero",
         "12.8",
         "12.39",
         "0.41"
        ],
        [
         "27",
         "2024",
         "Febrero",
         "14.0",
         "12.39",
         "1.61"
        ],
        [
         "28",
         "2023",
         "Febrero",
         "13.2",
         "12.39",
         "0.81"
        ],
        [
         "29",
         "2022",
         "Febrero",
         "13.4",
         "12.39",
         "1.01"
        ],
        [
         "30",
         "2021",
         "Febrero",
         "12.9",
         "12.39",
         "0.51"
        ],
        [
         "31",
         "2020",
         "Febrero",
         "13.6",
         "12.39",
         "1.21"
        ],
        [
         "32",
         "2019",
         "Febrero",
         "13.1",
         "12.39",
         "0.71"
        ],
        [
         "33",
         "2018",
         "Febrero",
         "13.1",
         "12.39",
         "0.71"
        ],
        [
         "34",
         "2017",
         "Febrero",
         "12.8",
         "12.39",
         "0.41"
        ],
        [
         "35",
         "2016",
         "Febrero",
         "13.8",
         "12.39",
         "1.41"
        ],
        [
         "36",
         "2015",
         "Febrero",
         "13.0",
         "12.39",
         "0.61"
        ],
        [
         "37",
         "2014",
         "Febrero",
         "13.3",
         "12.39",
         "0.91"
        ],
        [
         "38",
         "2013",
         "Febrero",
         "12.7",
         "12.39",
         "0.31"
        ],
        [
         "39",
         "2012",
         "Febrero",
         "12.8",
         "12.39",
         "0.41"
        ],
        [
         "40",
         "2011",
         "Febrero",
         "12.3",
         "12.39",
         "-0.09"
        ],
        [
         "41",
         "2010",
         "Febrero",
         "12.5",
         "12.39",
         "0.11"
        ],
        [
         "42",
         "2009",
         "Febrero",
         "12.5",
         "12.39",
         "0.11"
        ],
        [
         "43",
         "2008",
         "Febrero",
         "13.4",
         "12.39",
         "1.01"
        ],
        [
         "44",
         "2007",
         "Febrero",
         "13.6",
         "12.39",
         "1.21"
        ],
        [
         "45",
         "2006",
         "Febrero",
         "11.7",
         "12.39",
         "-0.69"
        ],
        [
         "46",
         "2005",
         "Febrero",
         "12.4",
         "12.39",
         "0.01"
        ],
        [
         "47",
         "2004",
         "Febrero",
         "12.6",
         "12.39",
         "0.21"
        ],
        [
         "48",
         "2003",
         "Febrero",
         "12.2",
         "12.39",
         "-0.19"
        ],
        [
         "49",
         "2002",
         "Febrero",
         "12.9",
         "12.39",
         "0.51"
        ]
       ],
       "shape": {
        "columns": 5,
        "rows": 312
       }
      },
      "text/html": [
       "<div>\n",
       "<style scoped>\n",
       "    .dataframe tbody tr th:only-of-type {\n",
       "        vertical-align: middle;\n",
       "    }\n",
       "\n",
       "    .dataframe tbody tr th {\n",
       "        vertical-align: top;\n",
       "    }\n",
       "\n",
       "    .dataframe thead th {\n",
       "        text-align: right;\n",
       "    }\n",
       "</style>\n",
       "<table border=\"1\" class=\"dataframe\">\n",
       "  <thead>\n",
       "    <tr style=\"text-align: right;\">\n",
       "      <th></th>\n",
       "      <th>year</th>\n",
       "      <th>nombre_mes</th>\n",
       "      <th>average_temperature</th>\n",
       "      <th>Media 1975_2000</th>\n",
       "      <th>Diferencia Tª</th>\n",
       "    </tr>\n",
       "  </thead>\n",
       "  <tbody>\n",
       "    <tr>\n",
       "      <th>0</th>\n",
       "      <td>2025</td>\n",
       "      <td>Enero</td>\n",
       "      <td>13.9</td>\n",
       "      <td>12.30</td>\n",
       "      <td>1.60</td>\n",
       "    </tr>\n",
       "    <tr>\n",
       "      <th>1</th>\n",
       "      <td>2024</td>\n",
       "      <td>Enero</td>\n",
       "      <td>13.3</td>\n",
       "      <td>12.30</td>\n",
       "      <td>1.00</td>\n",
       "    </tr>\n",
       "    <tr>\n",
       "      <th>2</th>\n",
       "      <td>2023</td>\n",
       "      <td>Enero</td>\n",
       "      <td>14.6</td>\n",
       "      <td>12.30</td>\n",
       "      <td>2.30</td>\n",
       "    </tr>\n",
       "    <tr>\n",
       "      <th>3</th>\n",
       "      <td>2022</td>\n",
       "      <td>Enero</td>\n",
       "      <td>13.8</td>\n",
       "      <td>12.30</td>\n",
       "      <td>1.50</td>\n",
       "    </tr>\n",
       "    <tr>\n",
       "      <th>4</th>\n",
       "      <td>2021</td>\n",
       "      <td>Enero</td>\n",
       "      <td>13.5</td>\n",
       "      <td>12.30</td>\n",
       "      <td>1.20</td>\n",
       "    </tr>\n",
       "    <tr>\n",
       "      <th>...</th>\n",
       "      <td>...</td>\n",
       "      <td>...</td>\n",
       "      <td>...</td>\n",
       "      <td>...</td>\n",
       "      <td>...</td>\n",
       "    </tr>\n",
       "    <tr>\n",
       "      <th>307</th>\n",
       "      <td>2004</td>\n",
       "      <td>Diciembre</td>\n",
       "      <td>15.1</td>\n",
       "      <td>13.96</td>\n",
       "      <td>1.14</td>\n",
       "    </tr>\n",
       "    <tr>\n",
       "      <th>308</th>\n",
       "      <td>2003</td>\n",
       "      <td>Diciembre</td>\n",
       "      <td>13.8</td>\n",
       "      <td>13.96</td>\n",
       "      <td>-0.16</td>\n",
       "    </tr>\n",
       "    <tr>\n",
       "      <th>309</th>\n",
       "      <td>2002</td>\n",
       "      <td>Diciembre</td>\n",
       "      <td>14.2</td>\n",
       "      <td>13.96</td>\n",
       "      <td>0.24</td>\n",
       "    </tr>\n",
       "    <tr>\n",
       "      <th>310</th>\n",
       "      <td>2001</td>\n",
       "      <td>Diciembre</td>\n",
       "      <td>14.2</td>\n",
       "      <td>13.96</td>\n",
       "      <td>0.24</td>\n",
       "    </tr>\n",
       "    <tr>\n",
       "      <th>311</th>\n",
       "      <td>2000</td>\n",
       "      <td>Diciembre</td>\n",
       "      <td>14.6</td>\n",
       "      <td>13.96</td>\n",
       "      <td>0.64</td>\n",
       "    </tr>\n",
       "  </tbody>\n",
       "</table>\n",
       "<p>312 rows × 5 columns</p>\n",
       "</div>"
      ],
      "text/plain": [
       "     year nombre_mes  average_temperature  Media 1975_2000  Diferencia Tª\n",
       "0    2025      Enero                 13.9            12.30           1.60\n",
       "1    2024      Enero                 13.3            12.30           1.00\n",
       "2    2023      Enero                 14.6            12.30           2.30\n",
       "3    2022      Enero                 13.8            12.30           1.50\n",
       "4    2021      Enero                 13.5            12.30           1.20\n",
       "..    ...        ...                  ...              ...            ...\n",
       "307  2004  Diciembre                 15.1            13.96           1.14\n",
       "308  2003  Diciembre                 13.8            13.96          -0.16\n",
       "309  2002  Diciembre                 14.2            13.96           0.24\n",
       "310  2001  Diciembre                 14.2            13.96           0.24\n",
       "311  2000  Diciembre                 14.6            13.96           0.64\n",
       "\n",
       "[312 rows x 5 columns]"
      ]
     },
     "execution_count": 14,
     "metadata": {},
     "output_type": "execute_result"
    }
   ],
   "source": [
    "temp_total = df_temperatura_melted.merge(temp_hist_media, on='nombre_mes')\n",
    "\n",
    "temp_total['Diferencia Tª'] = temp_total['average_temperature'] - temp_total['Media 1975_2000']\n",
    "\n",
    "temp_total['Diferencia Tª']=temp_total['Diferencia Tª'].round(2)\n",
    "\n",
    "temp_total "
   ]
  },
  {
   "cell_type": "markdown",
   "id": "8fa60bac",
   "metadata": {},
   "source": [
    "Guardé el df como un archivo"
   ]
  },
  {
   "cell_type": "code",
   "execution_count": 15,
   "id": "53cb8b02",
   "metadata": {},
   "outputs": [],
   "source": [
    "#temp_total.to_csv('Temperaturas_medias_diferencia_temperatura', index=False)"
   ]
  },
  {
   "cell_type": "code",
   "execution_count": 16,
   "id": "2ccdbfb9",
   "metadata": {},
   "outputs": [
    {
     "name": "stderr",
     "output_type": "stream",
     "text": [
      "C:\\Users\\monic\\AppData\\Local\\Temp\\ipykernel_27676\\2868683040.py:3: SettingWithCopyWarning:\n",
      "\n",
      "\n",
      "A value is trying to be set on a copy of a slice from a DataFrame\n",
      "\n",
      "See the caveats in the documentation: https://pandas.pydata.org/pandas-docs/stable/user_guide/indexing.html#returning-a-view-versus-a-copy\n",
      "\n",
      "C:\\Users\\monic\\AppData\\Local\\Temp\\ipykernel_27676\\2868683040.py:9: SettingWithCopyWarning:\n",
      "\n",
      "\n",
      "A value is trying to be set on a copy of a slice from a DataFrame\n",
      "\n",
      "See the caveats in the documentation: https://pandas.pydata.org/pandas-docs/stable/user_guide/indexing.html#returning-a-view-versus-a-copy\n",
      "\n",
      "C:\\Users\\monic\\AppData\\Local\\Temp\\ipykernel_27676\\2868683040.py:15: SettingWithCopyWarning:\n",
      "\n",
      "\n",
      "A value is trying to be set on a copy of a slice from a DataFrame\n",
      "\n",
      "See the caveats in the documentation: https://pandas.pydata.org/pandas-docs/stable/user_guide/indexing.html#returning-a-view-versus-a-copy\n",
      "\n",
      "C:\\Users\\monic\\AppData\\Local\\Temp\\ipykernel_27676\\2868683040.py:21: SettingWithCopyWarning:\n",
      "\n",
      "\n",
      "A value is trying to be set on a copy of a slice from a DataFrame\n",
      "\n",
      "See the caveats in the documentation: https://pandas.pydata.org/pandas-docs/stable/user_guide/indexing.html#returning-a-view-versus-a-copy\n",
      "\n",
      "C:\\Users\\monic\\AppData\\Local\\Temp\\ipykernel_27676\\2868683040.py:26: SettingWithCopyWarning:\n",
      "\n",
      "\n",
      "A value is trying to be set on a copy of a slice from a DataFrame\n",
      "\n",
      "See the caveats in the documentation: https://pandas.pydata.org/pandas-docs/stable/user_guide/indexing.html#returning-a-view-versus-a-copy\n",
      "\n",
      "C:\\Users\\monic\\AppData\\Local\\Temp\\ipykernel_27676\\2868683040.py:31: SettingWithCopyWarning:\n",
      "\n",
      "\n",
      "A value is trying to be set on a copy of a slice from a DataFrame\n",
      "\n",
      "See the caveats in the documentation: https://pandas.pydata.org/pandas-docs/stable/user_guide/indexing.html#returning-a-view-versus-a-copy\n",
      "\n",
      "C:\\Users\\monic\\AppData\\Local\\Temp\\ipykernel_27676\\2868683040.py:37: SettingWithCopyWarning:\n",
      "\n",
      "\n",
      "A value is trying to be set on a copy of a slice from a DataFrame\n",
      "\n",
      "See the caveats in the documentation: https://pandas.pydata.org/pandas-docs/stable/user_guide/indexing.html#returning-a-view-versus-a-copy\n",
      "\n",
      "C:\\Users\\monic\\AppData\\Local\\Temp\\ipykernel_27676\\2868683040.py:43: SettingWithCopyWarning:\n",
      "\n",
      "\n",
      "A value is trying to be set on a copy of a slice from a DataFrame\n",
      "\n",
      "See the caveats in the documentation: https://pandas.pydata.org/pandas-docs/stable/user_guide/indexing.html#returning-a-view-versus-a-copy\n",
      "\n",
      "C:\\Users\\monic\\AppData\\Local\\Temp\\ipykernel_27676\\2868683040.py:50: SettingWithCopyWarning:\n",
      "\n",
      "\n",
      "A value is trying to be set on a copy of a slice from a DataFrame\n",
      "\n",
      "See the caveats in the documentation: https://pandas.pydata.org/pandas-docs/stable/user_guide/indexing.html#returning-a-view-versus-a-copy\n",
      "\n"
     ]
    }
   ],
   "source": [
    "temp_2023 = df_temperatura_melted[df_temperatura_melted['year'] == 2023]\n",
    "\n",
    "temp_2023.rename(columns= {\n",
    "    'average_temperature': 'Tª 2023'\n",
    "}, inplace=True)\n",
    "\n",
    "temp_2022 = df_temperatura_melted[df_temperatura_melted['year'] == 2022]\n",
    "\n",
    "temp_2022.rename(columns= {\n",
    "    'average_temperature': 'Tª 2022'\n",
    "}, inplace=True)\n",
    "\n",
    "temp_2021 = df_temperatura_melted[df_temperatura_melted['year'] == 2021]\n",
    "\n",
    "temp_2021.rename(columns= {\n",
    "    'average_temperature': 'Tª 2021'\n",
    "}, inplace=True)\n",
    "\n",
    "temp_2020 = df_temperatura_melted[df_temperatura_melted['year'] == 2020]\n",
    "\n",
    "temp_2020.rename(columns= {\n",
    "    'average_temperature': 'Tª 2020'}, inplace=True)\n",
    "\n",
    "temp_2024 = df_temperatura_melted[df_temperatura_melted['year'] == 2024]\n",
    "\n",
    "temp_2024.rename(columns= {\n",
    "    'average_temperature': 'Tª 2024'}, inplace=True)\n",
    "\n",
    "temp_2007 = df_temperatura_melted[df_temperatura_melted['year'] == 2007]\n",
    "\n",
    "temp_2007.rename(columns= {\n",
    "    'average_temperature': 'Tª 2007'\n",
    "}, inplace=True)\n",
    "\n",
    "temp_2012 = df_temperatura_melted[df_temperatura_melted['year'] == 2012]\n",
    "\n",
    "temp_2012.rename(columns= {\n",
    "    'average_temperature': 'Tª 2012'\n",
    "}, inplace=True)\n",
    "\n",
    "temp_2017 = df_temperatura_melted[df_temperatura_melted['year'] == 2017]\n",
    "\n",
    "temp_2017.rename(columns= {\n",
    "    'average_temperature': 'Tª 2017'\n",
    "}, inplace=True)\n",
    "\n",
    "\n",
    "temp_2023 = df_temperatura_melted[df_temperatura_melted['year'] == 2023]\n",
    "\n",
    "temp_2023.rename(columns= {\n",
    "    'average_temperature': 'Tª 2023'\n",
    "}, inplace=True)\n"
   ]
  },
  {
   "cell_type": "code",
   "execution_count": 17,
   "id": "e74e00eb",
   "metadata": {},
   "outputs": [
    {
     "data": {
      "application/vnd.microsoft.datawrangler.viewer.v0+json": {
       "columns": [
        {
         "name": "index",
         "rawType": "int64",
         "type": "integer"
        },
        {
         "name": "nombre_mes",
         "rawType": "category",
         "type": "unknown"
        },
        {
         "name": "Media 1975_2000",
         "rawType": "float64",
         "type": "float"
        },
        {
         "name": "Tª 2007",
         "rawType": "float64",
         "type": "float"
        },
        {
         "name": "Diferencia Tª 2007",
         "rawType": "float64",
         "type": "float"
        },
        {
         "name": "Tª 2012",
         "rawType": "float64",
         "type": "float"
        },
        {
         "name": "Diferencia Tª 2012",
         "rawType": "float64",
         "type": "float"
        },
        {
         "name": "Tª 2017",
         "rawType": "float64",
         "type": "float"
        },
        {
         "name": "Diferencia Tª 2017",
         "rawType": "float64",
         "type": "float"
        },
        {
         "name": "Tª 2023",
         "rawType": "float64",
         "type": "float"
        },
        {
         "name": "Diferencia Tª 2023",
         "rawType": "float64",
         "type": "float"
        },
        {
         "name": "Tª 2020",
         "rawType": "float64",
         "type": "float"
        },
        {
         "name": "Diferencia Tª 2020",
         "rawType": "float64",
         "type": "float"
        },
        {
         "name": "Tª 2021",
         "rawType": "float64",
         "type": "float"
        },
        {
         "name": "Diferencia Tª 2021",
         "rawType": "float64",
         "type": "float"
        },
        {
         "name": "Tª 2022",
         "rawType": "float64",
         "type": "float"
        },
        {
         "name": "Diferencia Tª 2022",
         "rawType": "float64",
         "type": "float"
        },
        {
         "name": "Tª 2024",
         "rawType": "float64",
         "type": "float"
        },
        {
         "name": "Diferencia Tª 2024",
         "rawType": "float64",
         "type": "float"
        }
       ],
       "ref": "96b5fd50-fe86-4009-a1ea-47e196e01a67",
       "rows": [
        [
         "3",
         "Enero",
         "12.3",
         "14.7",
         "2.4",
         "14.0",
         "1.7",
         "13.9",
         "1.6",
         "14.6",
         "2.3",
         "14.0",
         "1.7",
         "13.5",
         "1.2",
         "13.8",
         "1.5",
         "13.3",
         "1.0"
        ],
        [
         "4",
         "Febrero",
         "12.39",
         "13.6",
         "1.21",
         "12.8",
         "0.41",
         "12.8",
         "0.41",
         "13.2",
         "0.81",
         "13.6",
         "1.21",
         "12.9",
         "0.51",
         "13.4",
         "1.01",
         "14.0",
         "1.61"
        ],
        [
         "7",
         "Marzo",
         "12.58",
         "13.6",
         "1.02",
         "13.2",
         "0.62",
         "13.7",
         "1.12",
         "13.6",
         "1.02",
         "13.9",
         "1.32",
         "13.1",
         "0.52",
         "12.9",
         "0.32",
         "14.0",
         "1.42"
        ],
        [
         "0",
         "Abril",
         "13.34",
         "15.0",
         "1.66",
         "14.1",
         "0.76",
         "14.8",
         "1.46",
         "14.4",
         "1.06",
         "15.0",
         "1.66",
         "14.1",
         "0.76",
         "13.9",
         "0.56",
         "14.6",
         "1.26"
        ],
        [
         "8",
         "Mayo",
         "15.54",
         "17.4",
         "1.86",
         "16.4",
         "0.86",
         "17.1",
         "1.56",
         "16.8",
         "1.26",
         "18.4",
         "2.86",
         "15.8",
         "0.26",
         "17.1",
         "1.56",
         "16.7",
         "1.16"
        ],
        [
         "6",
         "Junio",
         "18.91",
         "19.2",
         "0.29",
         "20.0",
         "1.09",
         "21.9",
         "2.99",
         "21.5",
         "2.59",
         "20.8",
         "1.89",
         "21.2",
         "2.29",
         "21.4",
         "2.49",
         "20.9",
         "1.99"
        ],
        [
         "5",
         "Julio",
         "21.61",
         "21.9",
         "0.29",
         "21.5",
         "-0.11",
         "23.8",
         "2.19",
         "24.4",
         "2.79",
         "23.4",
         "1.79",
         "23.4",
         "1.79",
         "23.9",
         "2.29",
         "23.7",
         "2.09"
        ],
        [
         "1",
         "Agosto",
         "22.77",
         "22.2",
         "-0.57",
         "23.9",
         "1.13",
         "23.6",
         "0.83",
         "24.8",
         "2.03",
         "24.2",
         "1.43",
         "23.3",
         "0.53",
         "25.2",
         "2.43",
         "25.1",
         "2.33"
        ],
        [
         "11",
         "Septiembre",
         "21.21",
         "19.7",
         "-1.51",
         "20.3",
         "-0.91",
         "23.0",
         "1.79",
         "22.6",
         "1.39",
         "22.0",
         "0.79",
         "22.8",
         "1.59",
         "23.2",
         "1.99",
         "22.3",
         "1.09"
        ],
        [
         "10",
         "Octubre",
         "18.43",
         "18.5",
         "0.07",
         "18.9",
         "0.47",
         "19.2",
         "0.77",
         "21.4",
         "2.97",
         "18.3",
         "-0.13",
         "19.7",
         "1.27",
         "21.4",
         "2.97",
         "19.3",
         "0.87"
        ],
        [
         "9",
         "Noviembre",
         "16.22",
         "15.8",
         "-0.42",
         "16.1",
         "-0.12",
         "16.5",
         "0.28",
         "17.3",
         "1.08",
         "16.3",
         "0.08",
         "16.9",
         "0.68",
         "18.3",
         "2.08",
         "18.5",
         "2.28"
        ],
        [
         "2",
         "Diciembre",
         "13.96",
         "14.1",
         "0.14",
         "14.2",
         "0.24",
         "13.6",
         "-0.36",
         "14.8",
         "0.84",
         "14.5",
         "0.54",
         "14.8",
         "0.84",
         "15.4",
         "1.44",
         "16.0",
         "2.04"
        ]
       ],
       "shape": {
        "columns": 18,
        "rows": 12
       }
      },
      "text/html": [
       "<div>\n",
       "<style scoped>\n",
       "    .dataframe tbody tr th:only-of-type {\n",
       "        vertical-align: middle;\n",
       "    }\n",
       "\n",
       "    .dataframe tbody tr th {\n",
       "        vertical-align: top;\n",
       "    }\n",
       "\n",
       "    .dataframe thead th {\n",
       "        text-align: right;\n",
       "    }\n",
       "</style>\n",
       "<table border=\"1\" class=\"dataframe\">\n",
       "  <thead>\n",
       "    <tr style=\"text-align: right;\">\n",
       "      <th></th>\n",
       "      <th>nombre_mes</th>\n",
       "      <th>Media 1975_2000</th>\n",
       "      <th>Tª 2007</th>\n",
       "      <th>Diferencia Tª 2007</th>\n",
       "      <th>Tª 2012</th>\n",
       "      <th>Diferencia Tª 2012</th>\n",
       "      <th>Tª 2017</th>\n",
       "      <th>Diferencia Tª 2017</th>\n",
       "      <th>Tª 2023</th>\n",
       "      <th>Diferencia Tª 2023</th>\n",
       "      <th>Tª 2020</th>\n",
       "      <th>Diferencia Tª 2020</th>\n",
       "      <th>Tª 2021</th>\n",
       "      <th>Diferencia Tª 2021</th>\n",
       "      <th>Tª 2022</th>\n",
       "      <th>Diferencia Tª 2022</th>\n",
       "      <th>Tª 2024</th>\n",
       "      <th>Diferencia Tª 2024</th>\n",
       "    </tr>\n",
       "  </thead>\n",
       "  <tbody>\n",
       "    <tr>\n",
       "      <th>3</th>\n",
       "      <td>Enero</td>\n",
       "      <td>12.30</td>\n",
       "      <td>14.7</td>\n",
       "      <td>2.40</td>\n",
       "      <td>14.0</td>\n",
       "      <td>1.70</td>\n",
       "      <td>13.9</td>\n",
       "      <td>1.60</td>\n",
       "      <td>14.6</td>\n",
       "      <td>2.30</td>\n",
       "      <td>14.0</td>\n",
       "      <td>1.70</td>\n",
       "      <td>13.5</td>\n",
       "      <td>1.20</td>\n",
       "      <td>13.8</td>\n",
       "      <td>1.50</td>\n",
       "      <td>13.3</td>\n",
       "      <td>1.00</td>\n",
       "    </tr>\n",
       "    <tr>\n",
       "      <th>4</th>\n",
       "      <td>Febrero</td>\n",
       "      <td>12.39</td>\n",
       "      <td>13.6</td>\n",
       "      <td>1.21</td>\n",
       "      <td>12.8</td>\n",
       "      <td>0.41</td>\n",
       "      <td>12.8</td>\n",
       "      <td>0.41</td>\n",
       "      <td>13.2</td>\n",
       "      <td>0.81</td>\n",
       "      <td>13.6</td>\n",
       "      <td>1.21</td>\n",
       "      <td>12.9</td>\n",
       "      <td>0.51</td>\n",
       "      <td>13.4</td>\n",
       "      <td>1.01</td>\n",
       "      <td>14.0</td>\n",
       "      <td>1.61</td>\n",
       "    </tr>\n",
       "    <tr>\n",
       "      <th>7</th>\n",
       "      <td>Marzo</td>\n",
       "      <td>12.58</td>\n",
       "      <td>13.6</td>\n",
       "      <td>1.02</td>\n",
       "      <td>13.2</td>\n",
       "      <td>0.62</td>\n",
       "      <td>13.7</td>\n",
       "      <td>1.12</td>\n",
       "      <td>13.6</td>\n",
       "      <td>1.02</td>\n",
       "      <td>13.9</td>\n",
       "      <td>1.32</td>\n",
       "      <td>13.1</td>\n",
       "      <td>0.52</td>\n",
       "      <td>12.9</td>\n",
       "      <td>0.32</td>\n",
       "      <td>14.0</td>\n",
       "      <td>1.42</td>\n",
       "    </tr>\n",
       "    <tr>\n",
       "      <th>0</th>\n",
       "      <td>Abril</td>\n",
       "      <td>13.34</td>\n",
       "      <td>15.0</td>\n",
       "      <td>1.66</td>\n",
       "      <td>14.1</td>\n",
       "      <td>0.76</td>\n",
       "      <td>14.8</td>\n",
       "      <td>1.46</td>\n",
       "      <td>14.4</td>\n",
       "      <td>1.06</td>\n",
       "      <td>15.0</td>\n",
       "      <td>1.66</td>\n",
       "      <td>14.1</td>\n",
       "      <td>0.76</td>\n",
       "      <td>13.9</td>\n",
       "      <td>0.56</td>\n",
       "      <td>14.6</td>\n",
       "      <td>1.26</td>\n",
       "    </tr>\n",
       "    <tr>\n",
       "      <th>8</th>\n",
       "      <td>Mayo</td>\n",
       "      <td>15.54</td>\n",
       "      <td>17.4</td>\n",
       "      <td>1.86</td>\n",
       "      <td>16.4</td>\n",
       "      <td>0.86</td>\n",
       "      <td>17.1</td>\n",
       "      <td>1.56</td>\n",
       "      <td>16.8</td>\n",
       "      <td>1.26</td>\n",
       "      <td>18.4</td>\n",
       "      <td>2.86</td>\n",
       "      <td>15.8</td>\n",
       "      <td>0.26</td>\n",
       "      <td>17.1</td>\n",
       "      <td>1.56</td>\n",
       "      <td>16.7</td>\n",
       "      <td>1.16</td>\n",
       "    </tr>\n",
       "    <tr>\n",
       "      <th>6</th>\n",
       "      <td>Junio</td>\n",
       "      <td>18.91</td>\n",
       "      <td>19.2</td>\n",
       "      <td>0.29</td>\n",
       "      <td>20.0</td>\n",
       "      <td>1.09</td>\n",
       "      <td>21.9</td>\n",
       "      <td>2.99</td>\n",
       "      <td>21.5</td>\n",
       "      <td>2.59</td>\n",
       "      <td>20.8</td>\n",
       "      <td>1.89</td>\n",
       "      <td>21.2</td>\n",
       "      <td>2.29</td>\n",
       "      <td>21.4</td>\n",
       "      <td>2.49</td>\n",
       "      <td>20.9</td>\n",
       "      <td>1.99</td>\n",
       "    </tr>\n",
       "    <tr>\n",
       "      <th>5</th>\n",
       "      <td>Julio</td>\n",
       "      <td>21.61</td>\n",
       "      <td>21.9</td>\n",
       "      <td>0.29</td>\n",
       "      <td>21.5</td>\n",
       "      <td>-0.11</td>\n",
       "      <td>23.8</td>\n",
       "      <td>2.19</td>\n",
       "      <td>24.4</td>\n",
       "      <td>2.79</td>\n",
       "      <td>23.4</td>\n",
       "      <td>1.79</td>\n",
       "      <td>23.4</td>\n",
       "      <td>1.79</td>\n",
       "      <td>23.9</td>\n",
       "      <td>2.29</td>\n",
       "      <td>23.7</td>\n",
       "      <td>2.09</td>\n",
       "    </tr>\n",
       "    <tr>\n",
       "      <th>1</th>\n",
       "      <td>Agosto</td>\n",
       "      <td>22.77</td>\n",
       "      <td>22.2</td>\n",
       "      <td>-0.57</td>\n",
       "      <td>23.9</td>\n",
       "      <td>1.13</td>\n",
       "      <td>23.6</td>\n",
       "      <td>0.83</td>\n",
       "      <td>24.8</td>\n",
       "      <td>2.03</td>\n",
       "      <td>24.2</td>\n",
       "      <td>1.43</td>\n",
       "      <td>23.3</td>\n",
       "      <td>0.53</td>\n",
       "      <td>25.2</td>\n",
       "      <td>2.43</td>\n",
       "      <td>25.1</td>\n",
       "      <td>2.33</td>\n",
       "    </tr>\n",
       "    <tr>\n",
       "      <th>11</th>\n",
       "      <td>Septiembre</td>\n",
       "      <td>21.21</td>\n",
       "      <td>19.7</td>\n",
       "      <td>-1.51</td>\n",
       "      <td>20.3</td>\n",
       "      <td>-0.91</td>\n",
       "      <td>23.0</td>\n",
       "      <td>1.79</td>\n",
       "      <td>22.6</td>\n",
       "      <td>1.39</td>\n",
       "      <td>22.0</td>\n",
       "      <td>0.79</td>\n",
       "      <td>22.8</td>\n",
       "      <td>1.59</td>\n",
       "      <td>23.2</td>\n",
       "      <td>1.99</td>\n",
       "      <td>22.3</td>\n",
       "      <td>1.09</td>\n",
       "    </tr>\n",
       "    <tr>\n",
       "      <th>10</th>\n",
       "      <td>Octubre</td>\n",
       "      <td>18.43</td>\n",
       "      <td>18.5</td>\n",
       "      <td>0.07</td>\n",
       "      <td>18.9</td>\n",
       "      <td>0.47</td>\n",
       "      <td>19.2</td>\n",
       "      <td>0.77</td>\n",
       "      <td>21.4</td>\n",
       "      <td>2.97</td>\n",
       "      <td>18.3</td>\n",
       "      <td>-0.13</td>\n",
       "      <td>19.7</td>\n",
       "      <td>1.27</td>\n",
       "      <td>21.4</td>\n",
       "      <td>2.97</td>\n",
       "      <td>19.3</td>\n",
       "      <td>0.87</td>\n",
       "    </tr>\n",
       "    <tr>\n",
       "      <th>9</th>\n",
       "      <td>Noviembre</td>\n",
       "      <td>16.22</td>\n",
       "      <td>15.8</td>\n",
       "      <td>-0.42</td>\n",
       "      <td>16.1</td>\n",
       "      <td>-0.12</td>\n",
       "      <td>16.5</td>\n",
       "      <td>0.28</td>\n",
       "      <td>17.3</td>\n",
       "      <td>1.08</td>\n",
       "      <td>16.3</td>\n",
       "      <td>0.08</td>\n",
       "      <td>16.9</td>\n",
       "      <td>0.68</td>\n",
       "      <td>18.3</td>\n",
       "      <td>2.08</td>\n",
       "      <td>18.5</td>\n",
       "      <td>2.28</td>\n",
       "    </tr>\n",
       "    <tr>\n",
       "      <th>2</th>\n",
       "      <td>Diciembre</td>\n",
       "      <td>13.96</td>\n",
       "      <td>14.1</td>\n",
       "      <td>0.14</td>\n",
       "      <td>14.2</td>\n",
       "      <td>0.24</td>\n",
       "      <td>13.6</td>\n",
       "      <td>-0.36</td>\n",
       "      <td>14.8</td>\n",
       "      <td>0.84</td>\n",
       "      <td>14.5</td>\n",
       "      <td>0.54</td>\n",
       "      <td>14.8</td>\n",
       "      <td>0.84</td>\n",
       "      <td>15.4</td>\n",
       "      <td>1.44</td>\n",
       "      <td>16.0</td>\n",
       "      <td>2.04</td>\n",
       "    </tr>\n",
       "  </tbody>\n",
       "</table>\n",
       "</div>"
      ],
      "text/plain": [
       "    nombre_mes  Media 1975_2000  Tª 2007  Diferencia Tª 2007  Tª 2012  \\\n",
       "3        Enero            12.30     14.7                2.40     14.0   \n",
       "4      Febrero            12.39     13.6                1.21     12.8   \n",
       "7        Marzo            12.58     13.6                1.02     13.2   \n",
       "0        Abril            13.34     15.0                1.66     14.1   \n",
       "8         Mayo            15.54     17.4                1.86     16.4   \n",
       "6        Junio            18.91     19.2                0.29     20.0   \n",
       "5        Julio            21.61     21.9                0.29     21.5   \n",
       "1       Agosto            22.77     22.2               -0.57     23.9   \n",
       "11  Septiembre            21.21     19.7               -1.51     20.3   \n",
       "10     Octubre            18.43     18.5                0.07     18.9   \n",
       "9    Noviembre            16.22     15.8               -0.42     16.1   \n",
       "2    Diciembre            13.96     14.1                0.14     14.2   \n",
       "\n",
       "    Diferencia Tª 2012  Tª 2017  Diferencia Tª 2017  Tª 2023  \\\n",
       "3                 1.70     13.9                1.60     14.6   \n",
       "4                 0.41     12.8                0.41     13.2   \n",
       "7                 0.62     13.7                1.12     13.6   \n",
       "0                 0.76     14.8                1.46     14.4   \n",
       "8                 0.86     17.1                1.56     16.8   \n",
       "6                 1.09     21.9                2.99     21.5   \n",
       "5                -0.11     23.8                2.19     24.4   \n",
       "1                 1.13     23.6                0.83     24.8   \n",
       "11               -0.91     23.0                1.79     22.6   \n",
       "10                0.47     19.2                0.77     21.4   \n",
       "9                -0.12     16.5                0.28     17.3   \n",
       "2                 0.24     13.6               -0.36     14.8   \n",
       "\n",
       "    Diferencia Tª 2023  Tª 2020  Diferencia Tª 2020  Tª 2021  \\\n",
       "3                 2.30     14.0                1.70     13.5   \n",
       "4                 0.81     13.6                1.21     12.9   \n",
       "7                 1.02     13.9                1.32     13.1   \n",
       "0                 1.06     15.0                1.66     14.1   \n",
       "8                 1.26     18.4                2.86     15.8   \n",
       "6                 2.59     20.8                1.89     21.2   \n",
       "5                 2.79     23.4                1.79     23.4   \n",
       "1                 2.03     24.2                1.43     23.3   \n",
       "11                1.39     22.0                0.79     22.8   \n",
       "10                2.97     18.3               -0.13     19.7   \n",
       "9                 1.08     16.3                0.08     16.9   \n",
       "2                 0.84     14.5                0.54     14.8   \n",
       "\n",
       "    Diferencia Tª 2021  Tª 2022  Diferencia Tª 2022  Tª 2024  \\\n",
       "3                 1.20     13.8                1.50     13.3   \n",
       "4                 0.51     13.4                1.01     14.0   \n",
       "7                 0.52     12.9                0.32     14.0   \n",
       "0                 0.76     13.9                0.56     14.6   \n",
       "8                 0.26     17.1                1.56     16.7   \n",
       "6                 2.29     21.4                2.49     20.9   \n",
       "5                 1.79     23.9                2.29     23.7   \n",
       "1                 0.53     25.2                2.43     25.1   \n",
       "11                1.59     23.2                1.99     22.3   \n",
       "10                1.27     21.4                2.97     19.3   \n",
       "9                 0.68     18.3                2.08     18.5   \n",
       "2                 0.84     15.4                1.44     16.0   \n",
       "\n",
       "    Diferencia Tª 2024  \n",
       "3                 1.00  \n",
       "4                 1.61  \n",
       "7                 1.42  \n",
       "0                 1.26  \n",
       "8                 1.16  \n",
       "6                 1.99  \n",
       "5                 2.09  \n",
       "1                 2.33  \n",
       "11                1.09  \n",
       "10                0.87  \n",
       "9                 2.28  \n",
       "2                 2.04  "
      ]
     },
     "execution_count": 17,
     "metadata": {},
     "output_type": "execute_result"
    }
   ],
   "source": [
    "temperaturas_totales= temp_hist_media.merge(temp_2007, on = 'nombre_mes')\n",
    "temperaturas_totales['Diferencia Tª 2007'] = temperaturas_totales['Tª 2007'] - temp_hist_media['Media 1975_2000']\n",
    "temperaturas_totales['Diferencia Tª 2007']=temperaturas_totales['Diferencia Tª 2007'].round(2)\n",
    "\n",
    "temperaturas_totales= temperaturas_totales.merge(temp_2012, on = 'nombre_mes')\n",
    "temperaturas_totales['Diferencia Tª 2012'] = temperaturas_totales['Tª 2012'] - temp_hist_media['Media 1975_2000']\n",
    "temperaturas_totales['Diferencia Tª 2012']=temperaturas_totales['Diferencia Tª 2012'].round(2)\n",
    "\n",
    "temperaturas_totales= temperaturas_totales.merge(temp_2017, on = 'nombre_mes')\n",
    "temperaturas_totales['Diferencia Tª 2017'] = temperaturas_totales['Tª 2017'] - temp_hist_media['Media 1975_2000']\n",
    "temperaturas_totales['Diferencia Tª 2017'] = temperaturas_totales['Diferencia Tª 2017'].round(2)\n",
    "\n",
    "temperaturas_totales.drop(['year_x', 'year_y', 'year'], axis = 1, inplace = True)\n",
    "\n",
    "temperaturas_totales= temperaturas_totales.merge(temp_2023, on = 'nombre_mes')\n",
    "temperaturas_totales['Diferencia Tª 2023'] = temperaturas_totales['Tª 2023'] - temp_hist_media['Media 1975_2000']\n",
    "temperaturas_totales['Diferencia Tª 2023']=temperaturas_totales['Diferencia Tª 2023'].round(2)\n",
    "\n",
    "temperaturas_totales.drop(['year'], axis = 1, inplace = True)\n",
    "\n",
    "\n",
    "temperaturas_totales= temperaturas_totales.merge(temp_2020, on = 'nombre_mes')\n",
    "temperaturas_totales['Diferencia Tª 2020'] = temperaturas_totales['Tª 2020'] - temp_hist_media['Media 1975_2000']\n",
    "temperaturas_totales['Diferencia Tª 2020']=temperaturas_totales['Diferencia Tª 2020'].round(2)\n",
    "\n",
    "temperaturas_totales= temperaturas_totales.merge(temp_2021, on = 'nombre_mes')\n",
    "temperaturas_totales['Diferencia Tª 2021'] = temperaturas_totales['Tª 2021'] - temp_hist_media['Media 1975_2000']\n",
    "temperaturas_totales['Diferencia Tª 2021'] = temperaturas_totales['Diferencia Tª 2021'].round(2)\n",
    "\n",
    "temperaturas_totales= temperaturas_totales.merge(temp_2022, on = 'nombre_mes')\n",
    "temperaturas_totales['Diferencia Tª 2022'] = temperaturas_totales['Tª 2022'] - temp_hist_media['Media 1975_2000']\n",
    "temperaturas_totales['Diferencia Tª 2022'] = temperaturas_totales['Diferencia Tª 2022'].round(2)\n",
    "\n",
    "temperaturas_totales.drop(['year_x', 'year_y', 'year'], axis = 1, inplace = True)\n",
    "\n",
    "\n",
    "temperaturas_totales= temperaturas_totales.merge(temp_2024, on = 'nombre_mes')\n",
    "temperaturas_totales['Diferencia Tª 2024'] = temperaturas_totales['Tª 2024'] - temp_hist_media['Media 1975_2000']\n",
    "temperaturas_totales['Diferencia Tª 2024']=temperaturas_totales['Diferencia Tª 2024'].round(2)\n",
    "\n",
    "temperaturas_totales.drop(['year'], axis = 1, inplace = True)\n",
    "\n",
    "months = ['Enero', 'Febrero', 'Marzo', 'Abril', 'Mayo', 'Junio', 'Julio', 'Agosto', 'Septiembre', 'Octubre', 'Noviembre', 'Diciembre']\n",
    "\n",
    "orden_mes = pd.CategoricalDtype(months, ordered=True)\n",
    "\n",
    "temperaturas_totales['nombre_mes'] = temperaturas_totales['nombre_mes'].astype(orden_mes)\n",
    "\n",
    "temperaturas_totales = temperaturas_totales.sort_values('nombre_mes')\n",
    "\n",
    "temperaturas_totales"
   ]
  },
  {
   "cell_type": "code",
   "execution_count": 18,
   "id": "ecf2c2bc",
   "metadata": {},
   "outputs": [
    {
     "data": {
      "application/vnd.microsoft.datawrangler.viewer.v0+json": {
       "columns": [
        {
         "name": "index",
         "rawType": "int64",
         "type": "integer"
        },
        {
         "name": "nombre_mes",
         "rawType": "category",
         "type": "unknown"
        },
        {
         "name": "Año",
         "rawType": "object",
         "type": "string"
        },
        {
         "name": "Diferencia",
         "rawType": "float64",
         "type": "float"
        }
       ],
       "ref": "0f04306d-a0a7-406a-8777-01abc5fb8625",
       "rows": [
        [
         "0",
         "Enero",
         "2007",
         "2.4"
        ],
        [
         "1",
         "Febrero",
         "2007",
         "1.21"
        ],
        [
         "2",
         "Marzo",
         "2007",
         "1.02"
        ],
        [
         "3",
         "Abril",
         "2007",
         "1.66"
        ],
        [
         "4",
         "Mayo",
         "2007",
         "1.86"
        ],
        [
         "5",
         "Junio",
         "2007",
         "0.29"
        ],
        [
         "6",
         "Julio",
         "2007",
         "0.29"
        ],
        [
         "7",
         "Agosto",
         "2007",
         "-0.57"
        ],
        [
         "8",
         "Septiembre",
         "2007",
         "-1.51"
        ],
        [
         "9",
         "Octubre",
         "2007",
         "0.07"
        ],
        [
         "10",
         "Noviembre",
         "2007",
         "-0.42"
        ],
        [
         "11",
         "Diciembre",
         "2007",
         "0.14"
        ],
        [
         "12",
         "Enero",
         "2012",
         "1.7"
        ],
        [
         "13",
         "Febrero",
         "2012",
         "0.41"
        ],
        [
         "14",
         "Marzo",
         "2012",
         "0.62"
        ],
        [
         "15",
         "Abril",
         "2012",
         "0.76"
        ],
        [
         "16",
         "Mayo",
         "2012",
         "0.86"
        ],
        [
         "17",
         "Junio",
         "2012",
         "1.09"
        ],
        [
         "18",
         "Julio",
         "2012",
         "-0.11"
        ],
        [
         "19",
         "Agosto",
         "2012",
         "1.13"
        ],
        [
         "20",
         "Septiembre",
         "2012",
         "-0.91"
        ],
        [
         "21",
         "Octubre",
         "2012",
         "0.47"
        ],
        [
         "22",
         "Noviembre",
         "2012",
         "-0.12"
        ],
        [
         "23",
         "Diciembre",
         "2012",
         "0.24"
        ],
        [
         "24",
         "Enero",
         "2017",
         "1.6"
        ],
        [
         "25",
         "Febrero",
         "2017",
         "0.41"
        ],
        [
         "26",
         "Marzo",
         "2017",
         "1.12"
        ],
        [
         "27",
         "Abril",
         "2017",
         "1.46"
        ],
        [
         "28",
         "Mayo",
         "2017",
         "1.56"
        ],
        [
         "29",
         "Junio",
         "2017",
         "2.99"
        ],
        [
         "30",
         "Julio",
         "2017",
         "2.19"
        ],
        [
         "31",
         "Agosto",
         "2017",
         "0.83"
        ],
        [
         "32",
         "Septiembre",
         "2017",
         "1.79"
        ],
        [
         "33",
         "Octubre",
         "2017",
         "0.77"
        ],
        [
         "34",
         "Noviembre",
         "2017",
         "0.28"
        ],
        [
         "35",
         "Diciembre",
         "2017",
         "-0.36"
        ],
        [
         "36",
         "Enero",
         "2023",
         "2.3"
        ],
        [
         "37",
         "Febrero",
         "2023",
         "0.81"
        ],
        [
         "38",
         "Marzo",
         "2023",
         "1.02"
        ],
        [
         "39",
         "Abril",
         "2023",
         "1.06"
        ],
        [
         "40",
         "Mayo",
         "2023",
         "1.26"
        ],
        [
         "41",
         "Junio",
         "2023",
         "2.59"
        ],
        [
         "42",
         "Julio",
         "2023",
         "2.79"
        ],
        [
         "43",
         "Agosto",
         "2023",
         "2.03"
        ],
        [
         "44",
         "Septiembre",
         "2023",
         "1.39"
        ],
        [
         "45",
         "Octubre",
         "2023",
         "2.97"
        ],
        [
         "46",
         "Noviembre",
         "2023",
         "1.08"
        ],
        [
         "47",
         "Diciembre",
         "2023",
         "0.84"
        ],
        [
         "48",
         "Enero",
         "2020",
         "1.7"
        ],
        [
         "49",
         "Febrero",
         "2020",
         "1.21"
        ]
       ],
       "shape": {
        "columns": 3,
        "rows": 96
       }
      },
      "text/html": [
       "<div>\n",
       "<style scoped>\n",
       "    .dataframe tbody tr th:only-of-type {\n",
       "        vertical-align: middle;\n",
       "    }\n",
       "\n",
       "    .dataframe tbody tr th {\n",
       "        vertical-align: top;\n",
       "    }\n",
       "\n",
       "    .dataframe thead th {\n",
       "        text-align: right;\n",
       "    }\n",
       "</style>\n",
       "<table border=\"1\" class=\"dataframe\">\n",
       "  <thead>\n",
       "    <tr style=\"text-align: right;\">\n",
       "      <th></th>\n",
       "      <th>nombre_mes</th>\n",
       "      <th>Año</th>\n",
       "      <th>Diferencia</th>\n",
       "    </tr>\n",
       "  </thead>\n",
       "  <tbody>\n",
       "    <tr>\n",
       "      <th>0</th>\n",
       "      <td>Enero</td>\n",
       "      <td>2007</td>\n",
       "      <td>2.40</td>\n",
       "    </tr>\n",
       "    <tr>\n",
       "      <th>1</th>\n",
       "      <td>Febrero</td>\n",
       "      <td>2007</td>\n",
       "      <td>1.21</td>\n",
       "    </tr>\n",
       "    <tr>\n",
       "      <th>2</th>\n",
       "      <td>Marzo</td>\n",
       "      <td>2007</td>\n",
       "      <td>1.02</td>\n",
       "    </tr>\n",
       "    <tr>\n",
       "      <th>3</th>\n",
       "      <td>Abril</td>\n",
       "      <td>2007</td>\n",
       "      <td>1.66</td>\n",
       "    </tr>\n",
       "    <tr>\n",
       "      <th>4</th>\n",
       "      <td>Mayo</td>\n",
       "      <td>2007</td>\n",
       "      <td>1.86</td>\n",
       "    </tr>\n",
       "    <tr>\n",
       "      <th>...</th>\n",
       "      <td>...</td>\n",
       "      <td>...</td>\n",
       "      <td>...</td>\n",
       "    </tr>\n",
       "    <tr>\n",
       "      <th>91</th>\n",
       "      <td>Agosto</td>\n",
       "      <td>2024</td>\n",
       "      <td>2.33</td>\n",
       "    </tr>\n",
       "    <tr>\n",
       "      <th>92</th>\n",
       "      <td>Septiembre</td>\n",
       "      <td>2024</td>\n",
       "      <td>1.09</td>\n",
       "    </tr>\n",
       "    <tr>\n",
       "      <th>93</th>\n",
       "      <td>Octubre</td>\n",
       "      <td>2024</td>\n",
       "      <td>0.87</td>\n",
       "    </tr>\n",
       "    <tr>\n",
       "      <th>94</th>\n",
       "      <td>Noviembre</td>\n",
       "      <td>2024</td>\n",
       "      <td>2.28</td>\n",
       "    </tr>\n",
       "    <tr>\n",
       "      <th>95</th>\n",
       "      <td>Diciembre</td>\n",
       "      <td>2024</td>\n",
       "      <td>2.04</td>\n",
       "    </tr>\n",
       "  </tbody>\n",
       "</table>\n",
       "<p>96 rows × 3 columns</p>\n",
       "</div>"
      ],
      "text/plain": [
       "    nombre_mes   Año  Diferencia\n",
       "0        Enero  2007        2.40\n",
       "1      Febrero  2007        1.21\n",
       "2        Marzo  2007        1.02\n",
       "3        Abril  2007        1.66\n",
       "4         Mayo  2007        1.86\n",
       "..         ...   ...         ...\n",
       "91      Agosto  2024        2.33\n",
       "92  Septiembre  2024        1.09\n",
       "93     Octubre  2024        0.87\n",
       "94   Noviembre  2024        2.28\n",
       "95   Diciembre  2024        2.04\n",
       "\n",
       "[96 rows x 3 columns]"
      ]
     },
     "execution_count": 18,
     "metadata": {},
     "output_type": "execute_result"
    }
   ],
   "source": [
    "cambio_temp_2 = temperaturas_totales.melt(id_vars=['nombre_mes'],\n",
    "                  value_vars=['Diferencia Tª 2007','Diferencia Tª 2012','Diferencia Tª 2017','Diferencia Tª 2023','Diferencia Tª 2020', 'Diferencia Tª 2021', 'Diferencia Tª 2022', 'Diferencia Tª 2023', 'Diferencia Tª 2024'],\n",
    "                  var_name='Tipo de Diferencia', \n",
    "                  value_name='Diferencia') \n",
    "\n",
    "cambio_temp_2['Tipo de Diferencia'] = cambio_temp_2['Tipo de Diferencia'].replace('Diferencia Tª 2007', '2007')\n",
    "cambio_temp_2['Tipo de Diferencia'] = cambio_temp_2['Tipo de Diferencia'].replace('Diferencia Tª 2012', '2012')\n",
    "cambio_temp_2['Tipo de Diferencia'] = cambio_temp_2['Tipo de Diferencia'].replace('Diferencia Tª 2017', '2017')\n",
    "cambio_temp_2['Tipo de Diferencia'] = cambio_temp_2['Tipo de Diferencia'].replace('Diferencia Tª 2023', '2023')\n",
    "\n",
    "\n",
    "\n",
    "cambio_temp_2['Tipo de Diferencia'] = cambio_temp_2['Tipo de Diferencia'].replace('Diferencia Tª 2020', '2020')\n",
    "cambio_temp_2['Tipo de Diferencia'] = cambio_temp_2['Tipo de Diferencia'].replace('Diferencia Tª 2021', '2021')\n",
    "cambio_temp_2['Tipo de Diferencia'] = cambio_temp_2['Tipo de Diferencia'].replace('Diferencia Tª 2022', '2022')\n",
    "cambio_temp_2['Tipo de Diferencia'] = cambio_temp_2['Tipo de Diferencia'].replace('Diferencia Tª 2023', '2023')\n",
    "cambio_temp_2['Tipo de Diferencia'] = cambio_temp_2['Tipo de Diferencia'].replace('Diferencia Tª 2024', '2024')\n",
    "\n",
    "\n",
    "cambio_temp_2.rename(columns = {\n",
    "    'Tipo de Diferencia':'Año',\n",
    "}, inplace = True)\n",
    "\n",
    "\n",
    "cambio_temp_2"
   ]
  },
  {
   "cell_type": "code",
   "execution_count": 19,
   "id": "4dded84a",
   "metadata": {},
   "outputs": [
    {
     "data": {
      "application/vnd.plotly.v1+json": {
       "config": {
        "plotlyServerURL": "https://plot.ly"
       },
       "data": [
        {
         "hovertemplate": "<b>%{hovertext}</b><br><br>Año=2007<br>Mes=%{x}<br>Diferencia de Temperatura (°C)=%{y:.2f}<extra></extra>",
         "hovertext": [
          "2007",
          "2007",
          "2007",
          "2007",
          "2007",
          "2007",
          "2007",
          "2007",
          "2007",
          "2007",
          "2007",
          "2007"
         ],
         "legendgroup": "2007",
         "line": {
          "color": "#0072B2",
          "dash": "solid"
         },
         "marker": {
          "symbol": "circle"
         },
         "mode": "lines",
         "name": "2007",
         "orientation": "v",
         "showlegend": true,
         "type": "scatter",
         "x": [
          "Enero",
          "Febrero",
          "Marzo",
          "Abril",
          "Mayo",
          "Junio",
          "Julio",
          "Agosto",
          "Septiembre",
          "Octubre",
          "Noviembre",
          "Diciembre"
         ],
         "xaxis": "x",
         "y": {
          "bdata": "MzMzMzMzA0Bcj8L1KFzzP1K4HoXrUfA/j8L1KFyP+j/D9Shcj8L9P4/C9Shcj9I/j8L1KFyP0j89CtejcD3ivylcj8L1KPi/7FG4HoXrsT/hehSuR+Hav+xRuB6F68E/",
          "dtype": "f8"
         },
         "yaxis": "y"
        },
        {
         "hovertemplate": "<b>%{hovertext}</b><br><br>Año=2012<br>Mes=%{x}<br>Diferencia de Temperatura (°C)=%{y:.2f}<extra></extra>",
         "hovertext": [
          "2012",
          "2012",
          "2012",
          "2012",
          "2012",
          "2012",
          "2012",
          "2012",
          "2012",
          "2012",
          "2012",
          "2012"
         ],
         "legendgroup": "2012",
         "line": {
          "color": "#D55E00",
          "dash": "solid"
         },
         "marker": {
          "symbol": "circle"
         },
         "mode": "lines",
         "name": "2012",
         "orientation": "v",
         "showlegend": true,
         "type": "scatter",
         "x": [
          "Enero",
          "Febrero",
          "Marzo",
          "Abril",
          "Mayo",
          "Junio",
          "Julio",
          "Agosto",
          "Septiembre",
          "Octubre",
          "Noviembre",
          "Diciembre"
         ],
         "xaxis": "x",
         "y": {
          "bdata": "MzMzMzMz+z89CtejcD3aP9ejcD0K1+M/UrgehetR6D+F61G4HoXrP3E9CtejcPE/KVyPwvUovL8UrkfhehTyPx+F61G4Hu2/FK5H4XoU3j+4HoXrUbi+v7gehetRuM4/",
          "dtype": "f8"
         },
         "yaxis": "y"
        },
        {
         "hovertemplate": "<b>%{hovertext}</b><br><br>Año=2017<br>Mes=%{x}<br>Diferencia de Temperatura (°C)=%{y:.2f}<extra></extra>",
         "hovertext": [
          "2017",
          "2017",
          "2017",
          "2017",
          "2017",
          "2017",
          "2017",
          "2017",
          "2017",
          "2017",
          "2017",
          "2017"
         ],
         "legendgroup": "2017",
         "line": {
          "color": "#009E73",
          "dash": "solid"
         },
         "marker": {
          "symbol": "circle"
         },
         "mode": "lines",
         "name": "2017",
         "orientation": "v",
         "showlegend": true,
         "type": "scatter",
         "x": [
          "Enero",
          "Febrero",
          "Marzo",
          "Abril",
          "Mayo",
          "Junio",
          "Julio",
          "Agosto",
          "Septiembre",
          "Octubre",
          "Noviembre",
          "Diciembre"
         ],
         "xaxis": "x",
         "y": {
          "bdata": "mpmZmZmZ+T89CtejcD3aP+xRuB6F6/E/XI/C9Shc9z/2KFyPwvX4P+xRuB6F6wdAhetRuB6FAUCPwvUoXI/qP6RwPQrXo/w/pHA9Ctej6D/sUbgehevRPwrXo3A9Cte/",
          "dtype": "f8"
         },
         "yaxis": "y"
        },
        {
         "hovertemplate": "<b>%{hovertext}</b><br><br>Año=2023<br>Mes=%{x}<br>Diferencia de Temperatura (°C)=%{y:.2f}<extra></extra>",
         "hovertext": [
          "2023",
          "2023",
          "2023",
          "2023",
          "2023",
          "2023",
          "2023",
          "2023",
          "2023",
          "2023",
          "2023",
          "2023"
         ],
         "legendgroup": "2023",
         "line": {
          "color": "#CC79A7",
          "dash": "solid"
         },
         "marker": {
          "symbol": "circle"
         },
         "mode": "lines",
         "name": "2023",
         "orientation": "v",
         "showlegend": true,
         "type": "scatter",
         "x": [
          "Enero",
          "Febrero",
          "Marzo",
          "Abril",
          "Mayo",
          "Junio",
          "Julio",
          "Agosto",
          "Septiembre",
          "Octubre",
          "Noviembre",
          "Diciembre"
         ],
         "xaxis": "x",
         "y": {
          "bdata": "ZmZmZmZmAkDsUbgehevpP1K4HoXrUfA/9ihcj8L18D8pXI/C9Sj0P7gehetRuARAUrgehetRBkA9CtejcD0AQD0K16NwPfY/w/UoXI/CB0BI4XoUrkfxP+F6FK5H4eo/",
          "dtype": "f8"
         },
         "yaxis": "y"
        },
        {
         "hovertemplate": "<b>%{hovertext}</b><br><br>Año=2020<br>Mes=%{x}<br>Diferencia de Temperatura (°C)=%{y:.2f}<extra></extra>",
         "hovertext": [
          "2020",
          "2020",
          "2020",
          "2020",
          "2020",
          "2020",
          "2020",
          "2020",
          "2020",
          "2020",
          "2020",
          "2020"
         ],
         "legendgroup": "2020",
         "line": {
          "color": "#DB1A73",
          "dash": "solid"
         },
         "marker": {
          "symbol": "circle"
         },
         "mode": "lines",
         "name": "2020",
         "orientation": "v",
         "showlegend": true,
         "type": "scatter",
         "x": [
          "Enero",
          "Febrero",
          "Marzo",
          "Abril",
          "Mayo",
          "Junio",
          "Julio",
          "Agosto",
          "Septiembre",
          "Octubre",
          "Noviembre",
          "Diciembre"
         ],
         "xaxis": "x",
         "y": {
          "bdata": "MzMzMzMz+z9cj8L1KFzzPx+F61G4HvU/j8L1KFyP+j/hehSuR+EGQD0K16NwPf4/pHA9Ctej/D/hehSuR+H2P0jhehSuR+k/pHA9CtejwL97FK5H4Xq0P0jhehSuR+E/",
          "dtype": "f8"
         },
         "yaxis": "y"
        },
        {
         "hovertemplate": "<b>%{hovertext}</b><br><br>Año=2021<br>Mes=%{x}<br>Diferencia de Temperatura (°C)=%{y:.2f}<extra></extra>",
         "hovertext": [
          "2021",
          "2021",
          "2021",
          "2021",
          "2021",
          "2021",
          "2021",
          "2021",
          "2021",
          "2021",
          "2021",
          "2021"
         ],
         "legendgroup": "2021",
         "line": {
          "color": "#FF69B4",
          "dash": "solid"
         },
         "marker": {
          "symbol": "circle"
         },
         "mode": "lines",
         "name": "2021",
         "orientation": "v",
         "showlegend": true,
         "type": "scatter",
         "x": [
          "Enero",
          "Febrero",
          "Marzo",
          "Abril",
          "Mayo",
          "Junio",
          "Julio",
          "Agosto",
          "Septiembre",
          "Octubre",
          "Noviembre",
          "Diciembre"
         ],
         "xaxis": "x",
         "y": {
          "bdata": "MzMzMzMz8z9SuB6F61HgP6RwPQrXo+A/UrgehetR6D+kcD0K16PQP1K4HoXrUQJApHA9Ctej/D/2KFyPwvXgP3E9CtejcPk/UrgehetR9D/D9Shcj8LlP+F6FK5H4eo/",
          "dtype": "f8"
         },
         "yaxis": "y"
        },
        {
         "hovertemplate": "<b>%{hovertext}</b><br><br>Año=2022<br>Mes=%{x}<br>Diferencia de Temperatura (°C)=%{y:.2f}<extra></extra>",
         "hovertext": [
          "2022",
          "2022",
          "2022",
          "2022",
          "2022",
          "2022",
          "2022",
          "2022",
          "2022",
          "2022",
          "2022",
          "2022"
         ],
         "legendgroup": "2022",
         "line": {
          "color": "#DC143C",
          "dash": "solid"
         },
         "marker": {
          "symbol": "circle"
         },
         "mode": "lines",
         "name": "2022",
         "orientation": "v",
         "showlegend": true,
         "type": "scatter",
         "x": [
          "Enero",
          "Febrero",
          "Marzo",
          "Abril",
          "Mayo",
          "Junio",
          "Julio",
          "Agosto",
          "Septiembre",
          "Octubre",
          "Noviembre",
          "Diciembre"
         ],
         "xaxis": "x",
         "y": {
          "bdata": "AAAAAAAA+D8pXI/C9SjwP3sUrkfhetQ/7FG4HoXr4T/2KFyPwvX4P+xRuB6F6wNAUrgehetRAkBxPQrXo3ADQNejcD0K1/8/w/UoXI/CB0CkcD0K16MAQArXo3A9Cvc/",
          "dtype": "f8"
         },
         "yaxis": "y"
        },
        {
         "hovertemplate": "<b>%{hovertext}</b><br><br>Año=2024<br>Mes=%{x}<br>Diferencia de Temperatura (°C)=%{y:.2f}<extra></extra>",
         "hovertext": [
          "2024",
          "2024",
          "2024",
          "2024",
          "2024",
          "2024",
          "2024",
          "2024",
          "2024",
          "2024",
          "2024",
          "2024"
         ],
         "legendgroup": "2024",
         "line": {
          "color": "#8B0000",
          "dash": "solid"
         },
         "marker": {
          "symbol": "circle"
         },
         "mode": "lines",
         "name": "2024",
         "orientation": "v",
         "showlegend": true,
         "type": "scatter",
         "x": [
          "Enero",
          "Febrero",
          "Marzo",
          "Abril",
          "Mayo",
          "Junio",
          "Julio",
          "Agosto",
          "Septiembre",
          "Octubre",
          "Noviembre",
          "Diciembre"
         ],
         "xaxis": "x",
         "y": {
          "bdata": "AAAAAAAA8D/D9Shcj8L5P7gehetRuPY/KVyPwvUo9D+PwvUoXI/yP9ejcD0K1/8/uB6F61G4AECkcD0K16MCQHE9CtejcPE/16NwPQrX6z89CtejcD0CQFK4HoXrUQBA",
          "dtype": "f8"
         },
         "yaxis": "y"
        }
       ],
       "layout": {
        "hovermode": "x unified",
        "legend": {
         "title": {
          "text": "Año"
         },
         "tracegroupgap": 0
        },
        "paper_bgcolor": "white",
        "plot_bgcolor": "white",
        "template": {
         "data": {
          "bar": [
           {
            "error_x": {
             "color": "#2a3f5f"
            },
            "error_y": {
             "color": "#2a3f5f"
            },
            "marker": {
             "line": {
              "color": "#E5ECF6",
              "width": 0.5
             },
             "pattern": {
              "fillmode": "overlay",
              "size": 10,
              "solidity": 0.2
             }
            },
            "type": "bar"
           }
          ],
          "barpolar": [
           {
            "marker": {
             "line": {
              "color": "#E5ECF6",
              "width": 0.5
             },
             "pattern": {
              "fillmode": "overlay",
              "size": 10,
              "solidity": 0.2
             }
            },
            "type": "barpolar"
           }
          ],
          "carpet": [
           {
            "aaxis": {
             "endlinecolor": "#2a3f5f",
             "gridcolor": "white",
             "linecolor": "white",
             "minorgridcolor": "white",
             "startlinecolor": "#2a3f5f"
            },
            "baxis": {
             "endlinecolor": "#2a3f5f",
             "gridcolor": "white",
             "linecolor": "white",
             "minorgridcolor": "white",
             "startlinecolor": "#2a3f5f"
            },
            "type": "carpet"
           }
          ],
          "choropleth": [
           {
            "colorbar": {
             "outlinewidth": 0,
             "ticks": ""
            },
            "type": "choropleth"
           }
          ],
          "contour": [
           {
            "colorbar": {
             "outlinewidth": 0,
             "ticks": ""
            },
            "colorscale": [
             [
              0,
              "#0d0887"
             ],
             [
              0.1111111111111111,
              "#46039f"
             ],
             [
              0.2222222222222222,
              "#7201a8"
             ],
             [
              0.3333333333333333,
              "#9c179e"
             ],
             [
              0.4444444444444444,
              "#bd3786"
             ],
             [
              0.5555555555555556,
              "#d8576b"
             ],
             [
              0.6666666666666666,
              "#ed7953"
             ],
             [
              0.7777777777777778,
              "#fb9f3a"
             ],
             [
              0.8888888888888888,
              "#fdca26"
             ],
             [
              1,
              "#f0f921"
             ]
            ],
            "type": "contour"
           }
          ],
          "contourcarpet": [
           {
            "colorbar": {
             "outlinewidth": 0,
             "ticks": ""
            },
            "type": "contourcarpet"
           }
          ],
          "heatmap": [
           {
            "colorbar": {
             "outlinewidth": 0,
             "ticks": ""
            },
            "colorscale": [
             [
              0,
              "#0d0887"
             ],
             [
              0.1111111111111111,
              "#46039f"
             ],
             [
              0.2222222222222222,
              "#7201a8"
             ],
             [
              0.3333333333333333,
              "#9c179e"
             ],
             [
              0.4444444444444444,
              "#bd3786"
             ],
             [
              0.5555555555555556,
              "#d8576b"
             ],
             [
              0.6666666666666666,
              "#ed7953"
             ],
             [
              0.7777777777777778,
              "#fb9f3a"
             ],
             [
              0.8888888888888888,
              "#fdca26"
             ],
             [
              1,
              "#f0f921"
             ]
            ],
            "type": "heatmap"
           }
          ],
          "histogram": [
           {
            "marker": {
             "pattern": {
              "fillmode": "overlay",
              "size": 10,
              "solidity": 0.2
             }
            },
            "type": "histogram"
           }
          ],
          "histogram2d": [
           {
            "colorbar": {
             "outlinewidth": 0,
             "ticks": ""
            },
            "colorscale": [
             [
              0,
              "#0d0887"
             ],
             [
              0.1111111111111111,
              "#46039f"
             ],
             [
              0.2222222222222222,
              "#7201a8"
             ],
             [
              0.3333333333333333,
              "#9c179e"
             ],
             [
              0.4444444444444444,
              "#bd3786"
             ],
             [
              0.5555555555555556,
              "#d8576b"
             ],
             [
              0.6666666666666666,
              "#ed7953"
             ],
             [
              0.7777777777777778,
              "#fb9f3a"
             ],
             [
              0.8888888888888888,
              "#fdca26"
             ],
             [
              1,
              "#f0f921"
             ]
            ],
            "type": "histogram2d"
           }
          ],
          "histogram2dcontour": [
           {
            "colorbar": {
             "outlinewidth": 0,
             "ticks": ""
            },
            "colorscale": [
             [
              0,
              "#0d0887"
             ],
             [
              0.1111111111111111,
              "#46039f"
             ],
             [
              0.2222222222222222,
              "#7201a8"
             ],
             [
              0.3333333333333333,
              "#9c179e"
             ],
             [
              0.4444444444444444,
              "#bd3786"
             ],
             [
              0.5555555555555556,
              "#d8576b"
             ],
             [
              0.6666666666666666,
              "#ed7953"
             ],
             [
              0.7777777777777778,
              "#fb9f3a"
             ],
             [
              0.8888888888888888,
              "#fdca26"
             ],
             [
              1,
              "#f0f921"
             ]
            ],
            "type": "histogram2dcontour"
           }
          ],
          "mesh3d": [
           {
            "colorbar": {
             "outlinewidth": 0,
             "ticks": ""
            },
            "type": "mesh3d"
           }
          ],
          "parcoords": [
           {
            "line": {
             "colorbar": {
              "outlinewidth": 0,
              "ticks": ""
             }
            },
            "type": "parcoords"
           }
          ],
          "pie": [
           {
            "automargin": true,
            "type": "pie"
           }
          ],
          "scatter": [
           {
            "fillpattern": {
             "fillmode": "overlay",
             "size": 10,
             "solidity": 0.2
            },
            "type": "scatter"
           }
          ],
          "scatter3d": [
           {
            "line": {
             "colorbar": {
              "outlinewidth": 0,
              "ticks": ""
             }
            },
            "marker": {
             "colorbar": {
              "outlinewidth": 0,
              "ticks": ""
             }
            },
            "type": "scatter3d"
           }
          ],
          "scattercarpet": [
           {
            "marker": {
             "colorbar": {
              "outlinewidth": 0,
              "ticks": ""
             }
            },
            "type": "scattercarpet"
           }
          ],
          "scattergeo": [
           {
            "marker": {
             "colorbar": {
              "outlinewidth": 0,
              "ticks": ""
             }
            },
            "type": "scattergeo"
           }
          ],
          "scattergl": [
           {
            "marker": {
             "colorbar": {
              "outlinewidth": 0,
              "ticks": ""
             }
            },
            "type": "scattergl"
           }
          ],
          "scattermap": [
           {
            "marker": {
             "colorbar": {
              "outlinewidth": 0,
              "ticks": ""
             }
            },
            "type": "scattermap"
           }
          ],
          "scattermapbox": [
           {
            "marker": {
             "colorbar": {
              "outlinewidth": 0,
              "ticks": ""
             }
            },
            "type": "scattermapbox"
           }
          ],
          "scatterpolar": [
           {
            "marker": {
             "colorbar": {
              "outlinewidth": 0,
              "ticks": ""
             }
            },
            "type": "scatterpolar"
           }
          ],
          "scatterpolargl": [
           {
            "marker": {
             "colorbar": {
              "outlinewidth": 0,
              "ticks": ""
             }
            },
            "type": "scatterpolargl"
           }
          ],
          "scatterternary": [
           {
            "marker": {
             "colorbar": {
              "outlinewidth": 0,
              "ticks": ""
             }
            },
            "type": "scatterternary"
           }
          ],
          "surface": [
           {
            "colorbar": {
             "outlinewidth": 0,
             "ticks": ""
            },
            "colorscale": [
             [
              0,
              "#0d0887"
             ],
             [
              0.1111111111111111,
              "#46039f"
             ],
             [
              0.2222222222222222,
              "#7201a8"
             ],
             [
              0.3333333333333333,
              "#9c179e"
             ],
             [
              0.4444444444444444,
              "#bd3786"
             ],
             [
              0.5555555555555556,
              "#d8576b"
             ],
             [
              0.6666666666666666,
              "#ed7953"
             ],
             [
              0.7777777777777778,
              "#fb9f3a"
             ],
             [
              0.8888888888888888,
              "#fdca26"
             ],
             [
              1,
              "#f0f921"
             ]
            ],
            "type": "surface"
           }
          ],
          "table": [
           {
            "cells": {
             "fill": {
              "color": "#EBF0F8"
             },
             "line": {
              "color": "white"
             }
            },
            "header": {
             "fill": {
              "color": "#C8D4E3"
             },
             "line": {
              "color": "white"
             }
            },
            "type": "table"
           }
          ]
         },
         "layout": {
          "annotationdefaults": {
           "arrowcolor": "#2a3f5f",
           "arrowhead": 0,
           "arrowwidth": 1
          },
          "autotypenumbers": "strict",
          "coloraxis": {
           "colorbar": {
            "outlinewidth": 0,
            "ticks": ""
           }
          },
          "colorscale": {
           "diverging": [
            [
             0,
             "#8e0152"
            ],
            [
             0.1,
             "#c51b7d"
            ],
            [
             0.2,
             "#de77ae"
            ],
            [
             0.3,
             "#f1b6da"
            ],
            [
             0.4,
             "#fde0ef"
            ],
            [
             0.5,
             "#f7f7f7"
            ],
            [
             0.6,
             "#e6f5d0"
            ],
            [
             0.7,
             "#b8e186"
            ],
            [
             0.8,
             "#7fbc41"
            ],
            [
             0.9,
             "#4d9221"
            ],
            [
             1,
             "#276419"
            ]
           ],
           "sequential": [
            [
             0,
             "#0d0887"
            ],
            [
             0.1111111111111111,
             "#46039f"
            ],
            [
             0.2222222222222222,
             "#7201a8"
            ],
            [
             0.3333333333333333,
             "#9c179e"
            ],
            [
             0.4444444444444444,
             "#bd3786"
            ],
            [
             0.5555555555555556,
             "#d8576b"
            ],
            [
             0.6666666666666666,
             "#ed7953"
            ],
            [
             0.7777777777777778,
             "#fb9f3a"
            ],
            [
             0.8888888888888888,
             "#fdca26"
            ],
            [
             1,
             "#f0f921"
            ]
           ],
           "sequentialminus": [
            [
             0,
             "#0d0887"
            ],
            [
             0.1111111111111111,
             "#46039f"
            ],
            [
             0.2222222222222222,
             "#7201a8"
            ],
            [
             0.3333333333333333,
             "#9c179e"
            ],
            [
             0.4444444444444444,
             "#bd3786"
            ],
            [
             0.5555555555555556,
             "#d8576b"
            ],
            [
             0.6666666666666666,
             "#ed7953"
            ],
            [
             0.7777777777777778,
             "#fb9f3a"
            ],
            [
             0.8888888888888888,
             "#fdca26"
            ],
            [
             1,
             "#f0f921"
            ]
           ]
          },
          "colorway": [
           "#636efa",
           "#EF553B",
           "#00cc96",
           "#ab63fa",
           "#FFA15A",
           "#19d3f3",
           "#FF6692",
           "#B6E880",
           "#FF97FF",
           "#FECB52"
          ],
          "font": {
           "color": "#2a3f5f"
          },
          "geo": {
           "bgcolor": "white",
           "lakecolor": "white",
           "landcolor": "#E5ECF6",
           "showlakes": true,
           "showland": true,
           "subunitcolor": "white"
          },
          "hoverlabel": {
           "align": "left"
          },
          "hovermode": "closest",
          "mapbox": {
           "style": "light"
          },
          "paper_bgcolor": "white",
          "plot_bgcolor": "#E5ECF6",
          "polar": {
           "angularaxis": {
            "gridcolor": "white",
            "linecolor": "white",
            "ticks": ""
           },
           "bgcolor": "#E5ECF6",
           "radialaxis": {
            "gridcolor": "white",
            "linecolor": "white",
            "ticks": ""
           }
          },
          "scene": {
           "xaxis": {
            "backgroundcolor": "#E5ECF6",
            "gridcolor": "white",
            "gridwidth": 2,
            "linecolor": "white",
            "showbackground": true,
            "ticks": "",
            "zerolinecolor": "white"
           },
           "yaxis": {
            "backgroundcolor": "#E5ECF6",
            "gridcolor": "white",
            "gridwidth": 2,
            "linecolor": "white",
            "showbackground": true,
            "ticks": "",
            "zerolinecolor": "white"
           },
           "zaxis": {
            "backgroundcolor": "#E5ECF6",
            "gridcolor": "white",
            "gridwidth": 2,
            "linecolor": "white",
            "showbackground": true,
            "ticks": "",
            "zerolinecolor": "white"
           }
          },
          "shapedefaults": {
           "line": {
            "color": "#2a3f5f"
           }
          },
          "ternary": {
           "aaxis": {
            "gridcolor": "white",
            "linecolor": "white",
            "ticks": ""
           },
           "baxis": {
            "gridcolor": "white",
            "linecolor": "white",
            "ticks": ""
           },
           "bgcolor": "#E5ECF6",
           "caxis": {
            "gridcolor": "white",
            "linecolor": "white",
            "ticks": ""
           }
          },
          "title": {
           "x": 0.05
          },
          "xaxis": {
           "automargin": true,
           "gridcolor": "white",
           "linecolor": "white",
           "ticks": "",
           "title": {
            "standoff": 15
           },
           "zerolinecolor": "white",
           "zerolinewidth": 2
          },
          "yaxis": {
           "automargin": true,
           "gridcolor": "white",
           "linecolor": "white",
           "ticks": "",
           "title": {
            "standoff": 15
           },
           "zerolinecolor": "white",
           "zerolinewidth": 2
          }
         }
        },
        "title": {
         "text": "Anomalía Térmica de la Superficie del Mar del 2020-2024 respecto a la Media Histórica (1975-2000)"
        },
        "xaxis": {
         "anchor": "y",
         "domain": [
          0,
          1
         ],
         "gridcolor": "lightgray",
         "showgrid": true,
         "title": {
          "text": "Mes"
         }
        },
        "yaxis": {
         "anchor": "x",
         "domain": [
          0,
          1
         ],
         "gridcolor": "lightgray",
         "showgrid": true,
         "title": {
          "text": "Diferencia de Temperatura (°C)"
         },
         "zeroline": true,
         "zerolinecolor": "black",
         "zerolinewidth": 3
        }
       }
      }
     },
     "metadata": {},
     "output_type": "display_data"
    }
   ],
   "source": [
    "fig_diff = px.line(cambio_temp_2,\n",
    "                  x='nombre_mes',\n",
    "                  y='Diferencia',\n",
    "                  color='Año', \n",
    "                  line_group='Año',\n",
    "                  color_discrete_map=color_map,\n",
    "                  title='Anomalía Térmica de la Superficie del Mar del 2020-2024 respecto a la Media Histórica (1975-2000)',\n",
    "                  labels={'nombre_mes': 'Mes', 'Diferencia': 'Diferencia de Temperatura (°C)'},\n",
    "                  hover_name='Año',\n",
    "                  hover_data={'nombre_mes': True, 'Diferencia': ':.2f'}\n",
    "                 )\n",
    "\n",
    "fig_diff.update_layout(\n",
    "    hovermode=\"x unified\",\n",
    "    plot_bgcolor='white', \n",
    "    paper_bgcolor='white',\n",
    "     xaxis=dict(\n",
    "        gridcolor='lightgray', \n",
    "        showgrid=True \n",
    "    ),\n",
    "    yaxis=dict(\n",
    "        gridcolor='lightgray',\n",
    "        showgrid=True,\n",
    "        zeroline=True,         \n",
    "        zerolinecolor='black', \n",
    "        zerolinewidth=3\n",
    "        )\n",
    "    )\n",
    "\n",
    "fig_diff.show()"
   ]
  },
  {
   "cell_type": "markdown",
   "id": "8864bdde",
   "metadata": {},
   "source": [
    "### Anomalía de las SST en 2007 y 2023"
   ]
  },
  {
   "cell_type": "code",
   "execution_count": 20,
   "id": "a967828f",
   "metadata": {},
   "outputs": [
    {
     "data": {
      "application/vnd.microsoft.datawrangler.viewer.v0+json": {
       "columns": [
        {
         "name": "index",
         "rawType": "int64",
         "type": "integer"
        },
        {
         "name": "nombre_mes",
         "rawType": "category",
         "type": "unknown"
        },
        {
         "name": "Año",
         "rawType": "object",
         "type": "string"
        },
        {
         "name": "Diferencia",
         "rawType": "float64",
         "type": "float"
        }
       ],
       "ref": "be1922bf-d8b8-444e-9635-71c511808da3",
       "rows": [
        [
         "0",
         "Enero",
         "2007",
         "2.4"
        ],
        [
         "1",
         "Febrero",
         "2007",
         "1.21"
        ],
        [
         "2",
         "Marzo",
         "2007",
         "1.02"
        ],
        [
         "3",
         "Abril",
         "2007",
         "1.66"
        ],
        [
         "4",
         "Mayo",
         "2007",
         "1.86"
        ],
        [
         "5",
         "Junio",
         "2007",
         "0.29"
        ],
        [
         "6",
         "Julio",
         "2007",
         "0.29"
        ],
        [
         "7",
         "Agosto",
         "2007",
         "-0.57"
        ],
        [
         "8",
         "Septiembre",
         "2007",
         "-1.51"
        ],
        [
         "9",
         "Octubre",
         "2007",
         "0.07"
        ],
        [
         "10",
         "Noviembre",
         "2007",
         "-0.42"
        ],
        [
         "11",
         "Diciembre",
         "2007",
         "0.14"
        ],
        [
         "36",
         "Enero",
         "2023",
         "2.3"
        ],
        [
         "37",
         "Febrero",
         "2023",
         "0.81"
        ],
        [
         "38",
         "Marzo",
         "2023",
         "1.02"
        ],
        [
         "39",
         "Abril",
         "2023",
         "1.06"
        ],
        [
         "40",
         "Mayo",
         "2023",
         "1.26"
        ],
        [
         "41",
         "Junio",
         "2023",
         "2.59"
        ],
        [
         "42",
         "Julio",
         "2023",
         "2.79"
        ],
        [
         "43",
         "Agosto",
         "2023",
         "2.03"
        ],
        [
         "44",
         "Septiembre",
         "2023",
         "1.39"
        ],
        [
         "45",
         "Octubre",
         "2023",
         "2.97"
        ],
        [
         "46",
         "Noviembre",
         "2023",
         "1.08"
        ],
        [
         "47",
         "Diciembre",
         "2023",
         "0.84"
        ]
       ],
       "shape": {
        "columns": 3,
        "rows": 24
       }
      },
      "text/html": [
       "<div>\n",
       "<style scoped>\n",
       "    .dataframe tbody tr th:only-of-type {\n",
       "        vertical-align: middle;\n",
       "    }\n",
       "\n",
       "    .dataframe tbody tr th {\n",
       "        vertical-align: top;\n",
       "    }\n",
       "\n",
       "    .dataframe thead th {\n",
       "        text-align: right;\n",
       "    }\n",
       "</style>\n",
       "<table border=\"1\" class=\"dataframe\">\n",
       "  <thead>\n",
       "    <tr style=\"text-align: right;\">\n",
       "      <th></th>\n",
       "      <th>nombre_mes</th>\n",
       "      <th>Año</th>\n",
       "      <th>Diferencia</th>\n",
       "    </tr>\n",
       "  </thead>\n",
       "  <tbody>\n",
       "    <tr>\n",
       "      <th>0</th>\n",
       "      <td>Enero</td>\n",
       "      <td>2007</td>\n",
       "      <td>2.40</td>\n",
       "    </tr>\n",
       "    <tr>\n",
       "      <th>1</th>\n",
       "      <td>Febrero</td>\n",
       "      <td>2007</td>\n",
       "      <td>1.21</td>\n",
       "    </tr>\n",
       "    <tr>\n",
       "      <th>2</th>\n",
       "      <td>Marzo</td>\n",
       "      <td>2007</td>\n",
       "      <td>1.02</td>\n",
       "    </tr>\n",
       "    <tr>\n",
       "      <th>3</th>\n",
       "      <td>Abril</td>\n",
       "      <td>2007</td>\n",
       "      <td>1.66</td>\n",
       "    </tr>\n",
       "    <tr>\n",
       "      <th>4</th>\n",
       "      <td>Mayo</td>\n",
       "      <td>2007</td>\n",
       "      <td>1.86</td>\n",
       "    </tr>\n",
       "    <tr>\n",
       "      <th>5</th>\n",
       "      <td>Junio</td>\n",
       "      <td>2007</td>\n",
       "      <td>0.29</td>\n",
       "    </tr>\n",
       "    <tr>\n",
       "      <th>6</th>\n",
       "      <td>Julio</td>\n",
       "      <td>2007</td>\n",
       "      <td>0.29</td>\n",
       "    </tr>\n",
       "    <tr>\n",
       "      <th>7</th>\n",
       "      <td>Agosto</td>\n",
       "      <td>2007</td>\n",
       "      <td>-0.57</td>\n",
       "    </tr>\n",
       "    <tr>\n",
       "      <th>8</th>\n",
       "      <td>Septiembre</td>\n",
       "      <td>2007</td>\n",
       "      <td>-1.51</td>\n",
       "    </tr>\n",
       "    <tr>\n",
       "      <th>9</th>\n",
       "      <td>Octubre</td>\n",
       "      <td>2007</td>\n",
       "      <td>0.07</td>\n",
       "    </tr>\n",
       "    <tr>\n",
       "      <th>10</th>\n",
       "      <td>Noviembre</td>\n",
       "      <td>2007</td>\n",
       "      <td>-0.42</td>\n",
       "    </tr>\n",
       "    <tr>\n",
       "      <th>11</th>\n",
       "      <td>Diciembre</td>\n",
       "      <td>2007</td>\n",
       "      <td>0.14</td>\n",
       "    </tr>\n",
       "    <tr>\n",
       "      <th>36</th>\n",
       "      <td>Enero</td>\n",
       "      <td>2023</td>\n",
       "      <td>2.30</td>\n",
       "    </tr>\n",
       "    <tr>\n",
       "      <th>37</th>\n",
       "      <td>Febrero</td>\n",
       "      <td>2023</td>\n",
       "      <td>0.81</td>\n",
       "    </tr>\n",
       "    <tr>\n",
       "      <th>38</th>\n",
       "      <td>Marzo</td>\n",
       "      <td>2023</td>\n",
       "      <td>1.02</td>\n",
       "    </tr>\n",
       "    <tr>\n",
       "      <th>39</th>\n",
       "      <td>Abril</td>\n",
       "      <td>2023</td>\n",
       "      <td>1.06</td>\n",
       "    </tr>\n",
       "    <tr>\n",
       "      <th>40</th>\n",
       "      <td>Mayo</td>\n",
       "      <td>2023</td>\n",
       "      <td>1.26</td>\n",
       "    </tr>\n",
       "    <tr>\n",
       "      <th>41</th>\n",
       "      <td>Junio</td>\n",
       "      <td>2023</td>\n",
       "      <td>2.59</td>\n",
       "    </tr>\n",
       "    <tr>\n",
       "      <th>42</th>\n",
       "      <td>Julio</td>\n",
       "      <td>2023</td>\n",
       "      <td>2.79</td>\n",
       "    </tr>\n",
       "    <tr>\n",
       "      <th>43</th>\n",
       "      <td>Agosto</td>\n",
       "      <td>2023</td>\n",
       "      <td>2.03</td>\n",
       "    </tr>\n",
       "    <tr>\n",
       "      <th>44</th>\n",
       "      <td>Septiembre</td>\n",
       "      <td>2023</td>\n",
       "      <td>1.39</td>\n",
       "    </tr>\n",
       "    <tr>\n",
       "      <th>45</th>\n",
       "      <td>Octubre</td>\n",
       "      <td>2023</td>\n",
       "      <td>2.97</td>\n",
       "    </tr>\n",
       "    <tr>\n",
       "      <th>46</th>\n",
       "      <td>Noviembre</td>\n",
       "      <td>2023</td>\n",
       "      <td>1.08</td>\n",
       "    </tr>\n",
       "    <tr>\n",
       "      <th>47</th>\n",
       "      <td>Diciembre</td>\n",
       "      <td>2023</td>\n",
       "      <td>0.84</td>\n",
       "    </tr>\n",
       "  </tbody>\n",
       "</table>\n",
       "</div>"
      ],
      "text/plain": [
       "    nombre_mes   Año  Diferencia\n",
       "0        Enero  2007        2.40\n",
       "1      Febrero  2007        1.21\n",
       "2        Marzo  2007        1.02\n",
       "3        Abril  2007        1.66\n",
       "4         Mayo  2007        1.86\n",
       "5        Junio  2007        0.29\n",
       "6        Julio  2007        0.29\n",
       "7       Agosto  2007       -0.57\n",
       "8   Septiembre  2007       -1.51\n",
       "9      Octubre  2007        0.07\n",
       "10   Noviembre  2007       -0.42\n",
       "11   Diciembre  2007        0.14\n",
       "36       Enero  2023        2.30\n",
       "37     Febrero  2023        0.81\n",
       "38       Marzo  2023        1.02\n",
       "39       Abril  2023        1.06\n",
       "40        Mayo  2023        1.26\n",
       "41       Junio  2023        2.59\n",
       "42       Julio  2023        2.79\n",
       "43      Agosto  2023        2.03\n",
       "44  Septiembre  2023        1.39\n",
       "45     Octubre  2023        2.97\n",
       "46   Noviembre  2023        1.08\n",
       "47   Diciembre  2023        0.84"
      ]
     },
     "execution_count": 20,
     "metadata": {},
     "output_type": "execute_result"
    }
   ],
   "source": [
    "cambio_temp_3 = cambio_temp_2[(cambio_temp_2['Año'] == '2007') | (cambio_temp_2['Año'] == '2023')]\n",
    "\n",
    "cambio_temp_3"
   ]
  },
  {
   "cell_type": "code",
   "execution_count": 21,
   "id": "edcef0ad",
   "metadata": {},
   "outputs": [
    {
     "data": {
      "application/vnd.plotly.v1+json": {
       "config": {
        "plotlyServerURL": "https://plot.ly"
       },
       "data": [
        {
         "hovertemplate": "<b>%{hovertext}</b><br><br>Año=2007<br>Mes=%{x}<br>Diferencia de Temperatura (°C)=%{y:.2f}<extra></extra>",
         "hovertext": [
          "2007",
          "2007",
          "2007",
          "2007",
          "2007",
          "2007",
          "2007",
          "2007",
          "2007",
          "2007",
          "2007",
          "2007"
         ],
         "legendgroup": "2007",
         "line": {
          "color": "#0072B2",
          "dash": "solid"
         },
         "marker": {
          "symbol": "circle"
         },
         "mode": "lines",
         "name": "2007",
         "orientation": "v",
         "showlegend": true,
         "type": "scatter",
         "x": [
          "Enero",
          "Febrero",
          "Marzo",
          "Abril",
          "Mayo",
          "Junio",
          "Julio",
          "Agosto",
          "Septiembre",
          "Octubre",
          "Noviembre",
          "Diciembre"
         ],
         "xaxis": "x",
         "y": {
          "bdata": "MzMzMzMzA0Bcj8L1KFzzP1K4HoXrUfA/j8L1KFyP+j/D9Shcj8L9P4/C9Shcj9I/j8L1KFyP0j89CtejcD3ivylcj8L1KPi/7FG4HoXrsT/hehSuR+Hav+xRuB6F68E/",
          "dtype": "f8"
         },
         "yaxis": "y"
        },
        {
         "hovertemplate": "<b>%{hovertext}</b><br><br>Año=2023<br>Mes=%{x}<br>Diferencia de Temperatura (°C)=%{y:.2f}<extra></extra>",
         "hovertext": [
          "2023",
          "2023",
          "2023",
          "2023",
          "2023",
          "2023",
          "2023",
          "2023",
          "2023",
          "2023",
          "2023",
          "2023"
         ],
         "legendgroup": "2023",
         "line": {
          "color": "#CC79A7",
          "dash": "solid"
         },
         "marker": {
          "symbol": "circle"
         },
         "mode": "lines",
         "name": "2023",
         "orientation": "v",
         "showlegend": true,
         "type": "scatter",
         "x": [
          "Enero",
          "Febrero",
          "Marzo",
          "Abril",
          "Mayo",
          "Junio",
          "Julio",
          "Agosto",
          "Septiembre",
          "Octubre",
          "Noviembre",
          "Diciembre"
         ],
         "xaxis": "x",
         "y": {
          "bdata": "ZmZmZmZmAkDsUbgehevpP1K4HoXrUfA/9ihcj8L18D8pXI/C9Sj0P7gehetRuARAUrgehetRBkA9CtejcD0AQD0K16NwPfY/w/UoXI/CB0BI4XoUrkfxP+F6FK5H4eo/",
          "dtype": "f8"
         },
         "yaxis": "y"
        }
       ],
       "layout": {
        "hovermode": "x unified",
        "legend": {
         "title": {
          "text": "Año"
         },
         "tracegroupgap": 0
        },
        "paper_bgcolor": "white",
        "plot_bgcolor": "white",
        "template": {
         "data": {
          "bar": [
           {
            "error_x": {
             "color": "#2a3f5f"
            },
            "error_y": {
             "color": "#2a3f5f"
            },
            "marker": {
             "line": {
              "color": "#E5ECF6",
              "width": 0.5
             },
             "pattern": {
              "fillmode": "overlay",
              "size": 10,
              "solidity": 0.2
             }
            },
            "type": "bar"
           }
          ],
          "barpolar": [
           {
            "marker": {
             "line": {
              "color": "#E5ECF6",
              "width": 0.5
             },
             "pattern": {
              "fillmode": "overlay",
              "size": 10,
              "solidity": 0.2
             }
            },
            "type": "barpolar"
           }
          ],
          "carpet": [
           {
            "aaxis": {
             "endlinecolor": "#2a3f5f",
             "gridcolor": "white",
             "linecolor": "white",
             "minorgridcolor": "white",
             "startlinecolor": "#2a3f5f"
            },
            "baxis": {
             "endlinecolor": "#2a3f5f",
             "gridcolor": "white",
             "linecolor": "white",
             "minorgridcolor": "white",
             "startlinecolor": "#2a3f5f"
            },
            "type": "carpet"
           }
          ],
          "choropleth": [
           {
            "colorbar": {
             "outlinewidth": 0,
             "ticks": ""
            },
            "type": "choropleth"
           }
          ],
          "contour": [
           {
            "colorbar": {
             "outlinewidth": 0,
             "ticks": ""
            },
            "colorscale": [
             [
              0,
              "#0d0887"
             ],
             [
              0.1111111111111111,
              "#46039f"
             ],
             [
              0.2222222222222222,
              "#7201a8"
             ],
             [
              0.3333333333333333,
              "#9c179e"
             ],
             [
              0.4444444444444444,
              "#bd3786"
             ],
             [
              0.5555555555555556,
              "#d8576b"
             ],
             [
              0.6666666666666666,
              "#ed7953"
             ],
             [
              0.7777777777777778,
              "#fb9f3a"
             ],
             [
              0.8888888888888888,
              "#fdca26"
             ],
             [
              1,
              "#f0f921"
             ]
            ],
            "type": "contour"
           }
          ],
          "contourcarpet": [
           {
            "colorbar": {
             "outlinewidth": 0,
             "ticks": ""
            },
            "type": "contourcarpet"
           }
          ],
          "heatmap": [
           {
            "colorbar": {
             "outlinewidth": 0,
             "ticks": ""
            },
            "colorscale": [
             [
              0,
              "#0d0887"
             ],
             [
              0.1111111111111111,
              "#46039f"
             ],
             [
              0.2222222222222222,
              "#7201a8"
             ],
             [
              0.3333333333333333,
              "#9c179e"
             ],
             [
              0.4444444444444444,
              "#bd3786"
             ],
             [
              0.5555555555555556,
              "#d8576b"
             ],
             [
              0.6666666666666666,
              "#ed7953"
             ],
             [
              0.7777777777777778,
              "#fb9f3a"
             ],
             [
              0.8888888888888888,
              "#fdca26"
             ],
             [
              1,
              "#f0f921"
             ]
            ],
            "type": "heatmap"
           }
          ],
          "histogram": [
           {
            "marker": {
             "pattern": {
              "fillmode": "overlay",
              "size": 10,
              "solidity": 0.2
             }
            },
            "type": "histogram"
           }
          ],
          "histogram2d": [
           {
            "colorbar": {
             "outlinewidth": 0,
             "ticks": ""
            },
            "colorscale": [
             [
              0,
              "#0d0887"
             ],
             [
              0.1111111111111111,
              "#46039f"
             ],
             [
              0.2222222222222222,
              "#7201a8"
             ],
             [
              0.3333333333333333,
              "#9c179e"
             ],
             [
              0.4444444444444444,
              "#bd3786"
             ],
             [
              0.5555555555555556,
              "#d8576b"
             ],
             [
              0.6666666666666666,
              "#ed7953"
             ],
             [
              0.7777777777777778,
              "#fb9f3a"
             ],
             [
              0.8888888888888888,
              "#fdca26"
             ],
             [
              1,
              "#f0f921"
             ]
            ],
            "type": "histogram2d"
           }
          ],
          "histogram2dcontour": [
           {
            "colorbar": {
             "outlinewidth": 0,
             "ticks": ""
            },
            "colorscale": [
             [
              0,
              "#0d0887"
             ],
             [
              0.1111111111111111,
              "#46039f"
             ],
             [
              0.2222222222222222,
              "#7201a8"
             ],
             [
              0.3333333333333333,
              "#9c179e"
             ],
             [
              0.4444444444444444,
              "#bd3786"
             ],
             [
              0.5555555555555556,
              "#d8576b"
             ],
             [
              0.6666666666666666,
              "#ed7953"
             ],
             [
              0.7777777777777778,
              "#fb9f3a"
             ],
             [
              0.8888888888888888,
              "#fdca26"
             ],
             [
              1,
              "#f0f921"
             ]
            ],
            "type": "histogram2dcontour"
           }
          ],
          "mesh3d": [
           {
            "colorbar": {
             "outlinewidth": 0,
             "ticks": ""
            },
            "type": "mesh3d"
           }
          ],
          "parcoords": [
           {
            "line": {
             "colorbar": {
              "outlinewidth": 0,
              "ticks": ""
             }
            },
            "type": "parcoords"
           }
          ],
          "pie": [
           {
            "automargin": true,
            "type": "pie"
           }
          ],
          "scatter": [
           {
            "fillpattern": {
             "fillmode": "overlay",
             "size": 10,
             "solidity": 0.2
            },
            "type": "scatter"
           }
          ],
          "scatter3d": [
           {
            "line": {
             "colorbar": {
              "outlinewidth": 0,
              "ticks": ""
             }
            },
            "marker": {
             "colorbar": {
              "outlinewidth": 0,
              "ticks": ""
             }
            },
            "type": "scatter3d"
           }
          ],
          "scattercarpet": [
           {
            "marker": {
             "colorbar": {
              "outlinewidth": 0,
              "ticks": ""
             }
            },
            "type": "scattercarpet"
           }
          ],
          "scattergeo": [
           {
            "marker": {
             "colorbar": {
              "outlinewidth": 0,
              "ticks": ""
             }
            },
            "type": "scattergeo"
           }
          ],
          "scattergl": [
           {
            "marker": {
             "colorbar": {
              "outlinewidth": 0,
              "ticks": ""
             }
            },
            "type": "scattergl"
           }
          ],
          "scattermap": [
           {
            "marker": {
             "colorbar": {
              "outlinewidth": 0,
              "ticks": ""
             }
            },
            "type": "scattermap"
           }
          ],
          "scattermapbox": [
           {
            "marker": {
             "colorbar": {
              "outlinewidth": 0,
              "ticks": ""
             }
            },
            "type": "scattermapbox"
           }
          ],
          "scatterpolar": [
           {
            "marker": {
             "colorbar": {
              "outlinewidth": 0,
              "ticks": ""
             }
            },
            "type": "scatterpolar"
           }
          ],
          "scatterpolargl": [
           {
            "marker": {
             "colorbar": {
              "outlinewidth": 0,
              "ticks": ""
             }
            },
            "type": "scatterpolargl"
           }
          ],
          "scatterternary": [
           {
            "marker": {
             "colorbar": {
              "outlinewidth": 0,
              "ticks": ""
             }
            },
            "type": "scatterternary"
           }
          ],
          "surface": [
           {
            "colorbar": {
             "outlinewidth": 0,
             "ticks": ""
            },
            "colorscale": [
             [
              0,
              "#0d0887"
             ],
             [
              0.1111111111111111,
              "#46039f"
             ],
             [
              0.2222222222222222,
              "#7201a8"
             ],
             [
              0.3333333333333333,
              "#9c179e"
             ],
             [
              0.4444444444444444,
              "#bd3786"
             ],
             [
              0.5555555555555556,
              "#d8576b"
             ],
             [
              0.6666666666666666,
              "#ed7953"
             ],
             [
              0.7777777777777778,
              "#fb9f3a"
             ],
             [
              0.8888888888888888,
              "#fdca26"
             ],
             [
              1,
              "#f0f921"
             ]
            ],
            "type": "surface"
           }
          ],
          "table": [
           {
            "cells": {
             "fill": {
              "color": "#EBF0F8"
             },
             "line": {
              "color": "white"
             }
            },
            "header": {
             "fill": {
              "color": "#C8D4E3"
             },
             "line": {
              "color": "white"
             }
            },
            "type": "table"
           }
          ]
         },
         "layout": {
          "annotationdefaults": {
           "arrowcolor": "#2a3f5f",
           "arrowhead": 0,
           "arrowwidth": 1
          },
          "autotypenumbers": "strict",
          "coloraxis": {
           "colorbar": {
            "outlinewidth": 0,
            "ticks": ""
           }
          },
          "colorscale": {
           "diverging": [
            [
             0,
             "#8e0152"
            ],
            [
             0.1,
             "#c51b7d"
            ],
            [
             0.2,
             "#de77ae"
            ],
            [
             0.3,
             "#f1b6da"
            ],
            [
             0.4,
             "#fde0ef"
            ],
            [
             0.5,
             "#f7f7f7"
            ],
            [
             0.6,
             "#e6f5d0"
            ],
            [
             0.7,
             "#b8e186"
            ],
            [
             0.8,
             "#7fbc41"
            ],
            [
             0.9,
             "#4d9221"
            ],
            [
             1,
             "#276419"
            ]
           ],
           "sequential": [
            [
             0,
             "#0d0887"
            ],
            [
             0.1111111111111111,
             "#46039f"
            ],
            [
             0.2222222222222222,
             "#7201a8"
            ],
            [
             0.3333333333333333,
             "#9c179e"
            ],
            [
             0.4444444444444444,
             "#bd3786"
            ],
            [
             0.5555555555555556,
             "#d8576b"
            ],
            [
             0.6666666666666666,
             "#ed7953"
            ],
            [
             0.7777777777777778,
             "#fb9f3a"
            ],
            [
             0.8888888888888888,
             "#fdca26"
            ],
            [
             1,
             "#f0f921"
            ]
           ],
           "sequentialminus": [
            [
             0,
             "#0d0887"
            ],
            [
             0.1111111111111111,
             "#46039f"
            ],
            [
             0.2222222222222222,
             "#7201a8"
            ],
            [
             0.3333333333333333,
             "#9c179e"
            ],
            [
             0.4444444444444444,
             "#bd3786"
            ],
            [
             0.5555555555555556,
             "#d8576b"
            ],
            [
             0.6666666666666666,
             "#ed7953"
            ],
            [
             0.7777777777777778,
             "#fb9f3a"
            ],
            [
             0.8888888888888888,
             "#fdca26"
            ],
            [
             1,
             "#f0f921"
            ]
           ]
          },
          "colorway": [
           "#636efa",
           "#EF553B",
           "#00cc96",
           "#ab63fa",
           "#FFA15A",
           "#19d3f3",
           "#FF6692",
           "#B6E880",
           "#FF97FF",
           "#FECB52"
          ],
          "font": {
           "color": "#2a3f5f"
          },
          "geo": {
           "bgcolor": "white",
           "lakecolor": "white",
           "landcolor": "#E5ECF6",
           "showlakes": true,
           "showland": true,
           "subunitcolor": "white"
          },
          "hoverlabel": {
           "align": "left"
          },
          "hovermode": "closest",
          "mapbox": {
           "style": "light"
          },
          "paper_bgcolor": "white",
          "plot_bgcolor": "#E5ECF6",
          "polar": {
           "angularaxis": {
            "gridcolor": "white",
            "linecolor": "white",
            "ticks": ""
           },
           "bgcolor": "#E5ECF6",
           "radialaxis": {
            "gridcolor": "white",
            "linecolor": "white",
            "ticks": ""
           }
          },
          "scene": {
           "xaxis": {
            "backgroundcolor": "#E5ECF6",
            "gridcolor": "white",
            "gridwidth": 2,
            "linecolor": "white",
            "showbackground": true,
            "ticks": "",
            "zerolinecolor": "white"
           },
           "yaxis": {
            "backgroundcolor": "#E5ECF6",
            "gridcolor": "white",
            "gridwidth": 2,
            "linecolor": "white",
            "showbackground": true,
            "ticks": "",
            "zerolinecolor": "white"
           },
           "zaxis": {
            "backgroundcolor": "#E5ECF6",
            "gridcolor": "white",
            "gridwidth": 2,
            "linecolor": "white",
            "showbackground": true,
            "ticks": "",
            "zerolinecolor": "white"
           }
          },
          "shapedefaults": {
           "line": {
            "color": "#2a3f5f"
           }
          },
          "ternary": {
           "aaxis": {
            "gridcolor": "white",
            "linecolor": "white",
            "ticks": ""
           },
           "baxis": {
            "gridcolor": "white",
            "linecolor": "white",
            "ticks": ""
           },
           "bgcolor": "#E5ECF6",
           "caxis": {
            "gridcolor": "white",
            "linecolor": "white",
            "ticks": ""
           }
          },
          "title": {
           "x": 0.05
          },
          "xaxis": {
           "automargin": true,
           "gridcolor": "white",
           "linecolor": "white",
           "ticks": "",
           "title": {
            "standoff": 15
           },
           "zerolinecolor": "white",
           "zerolinewidth": 2
          },
          "yaxis": {
           "automargin": true,
           "gridcolor": "white",
           "linecolor": "white",
           "ticks": "",
           "title": {
            "standoff": 15
           },
           "zerolinecolor": "white",
           "zerolinewidth": 2
          }
         }
        },
        "title": {
         "text": "Anomalía Térmica de la Superficie del Mar del 2020-2024 respecto a la Media Histórica (1975-2000)"
        },
        "xaxis": {
         "anchor": "y",
         "domain": [
          0,
          1
         ],
         "gridcolor": "lightgray",
         "showgrid": true,
         "title": {
          "text": "Mes"
         }
        },
        "yaxis": {
         "anchor": "x",
         "domain": [
          0,
          1
         ],
         "gridcolor": "lightgray",
         "showgrid": true,
         "title": {
          "text": "Diferencia de Temperatura (°C)"
         },
         "zeroline": true,
         "zerolinecolor": "black",
         "zerolinewidth": 3
        }
       }
      }
     },
     "metadata": {},
     "output_type": "display_data"
    }
   ],
   "source": [
    "fig_diff = px.line(cambio_temp_3,\n",
    "                  x='nombre_mes',\n",
    "                  y='Diferencia',\n",
    "                  color='Año', \n",
    "                  line_group='Año',\n",
    "                  color_discrete_map=color_map,\n",
    "                  title='Anomalía Térmica de la Superficie del Mar del 2020-2024 respecto a la Media Histórica (1975-2000)',\n",
    "                  labels={'nombre_mes': 'Mes', 'Diferencia': 'Diferencia de Temperatura (°C)'},\n",
    "                  hover_name='Año',\n",
    "                  hover_data={'nombre_mes': True, 'Diferencia': ':.2f'}\n",
    "                 )\n",
    "\n",
    "fig_diff.update_layout(\n",
    "    hovermode=\"x unified\",\n",
    "    plot_bgcolor='white', \n",
    "    paper_bgcolor='white',\n",
    "     xaxis=dict(\n",
    "        gridcolor='lightgray', \n",
    "        showgrid=True \n",
    "    ),\n",
    "    yaxis=dict(\n",
    "        gridcolor='lightgray',\n",
    "        showgrid=True,\n",
    "        zeroline=True,         \n",
    "        zerolinecolor='black', \n",
    "        zerolinewidth=3\n",
    "        )\n",
    "    )\n",
    "\n",
    "fig_diff.show()"
   ]
  },
  {
   "cell_type": "markdown",
   "id": "395c4323",
   "metadata": {},
   "source": [
    "# SST Media total por año"
   ]
  },
  {
   "cell_type": "code",
   "execution_count": 28,
   "id": "a3317570",
   "metadata": {},
   "outputs": [
    {
     "data": {
      "application/vnd.microsoft.datawrangler.viewer.v0+json": {
       "columns": [
        {
         "name": "index",
         "rawType": "int64",
         "type": "integer"
        },
        {
         "name": "year",
         "rawType": "int64",
         "type": "integer"
        },
        {
         "name": "Tipo de Temperatura",
         "rawType": "object",
         "type": "string"
        },
        {
         "name": "Temperatura",
         "rawType": "float64",
         "type": "float"
        }
       ],
       "ref": "d26053b7-6458-4197-8519-f595cdefcd41",
       "rows": [
        [
         "0",
         "2000",
         "average_temperature",
         "16.91"
        ],
        [
         "1",
         "2001",
         "average_temperature",
         "17.12"
        ],
        [
         "2",
         "2002",
         "average_temperature",
         "16.78"
        ],
        [
         "3",
         "2003",
         "average_temperature",
         "17.18"
        ],
        [
         "4",
         "2004",
         "average_temperature",
         "16.97"
        ],
        [
         "5",
         "2005",
         "average_temperature",
         "17.06"
        ],
        [
         "6",
         "2006",
         "average_temperature",
         "17.5"
        ],
        [
         "7",
         "2007",
         "average_temperature",
         "17.14"
        ],
        [
         "8",
         "2008",
         "average_temperature",
         "16.92"
        ],
        [
         "9",
         "2009",
         "average_temperature",
         "17.35"
        ],
        [
         "10",
         "2010",
         "average_temperature",
         "16.53"
        ],
        [
         "11",
         "2011",
         "average_temperature",
         "17.52"
        ],
        [
         "12",
         "2012",
         "average_temperature",
         "17.12"
        ],
        [
         "13",
         "2013",
         "average_temperature",
         "16.85"
        ],
        [
         "14",
         "2014",
         "average_temperature",
         "17.88"
        ],
        [
         "15",
         "2015",
         "average_temperature",
         "17.53"
        ],
        [
         "16",
         "2016",
         "average_temperature",
         "17.66"
        ],
        [
         "17",
         "2017",
         "average_temperature",
         "17.82"
        ],
        [
         "18",
         "2018",
         "average_temperature",
         "17.8"
        ],
        [
         "19",
         "2019",
         "average_temperature",
         "17.58"
        ],
        [
         "20",
         "2020",
         "average_temperature",
         "17.87"
        ],
        [
         "21",
         "2021",
         "average_temperature",
         "17.62"
        ],
        [
         "22",
         "2022",
         "average_temperature",
         "18.32"
        ],
        [
         "23",
         "2023",
         "average_temperature",
         "18.28"
        ],
        [
         "24",
         "2024",
         "average_temperature",
         "18.2"
        ],
        [
         "25",
         "2000",
         "Media 1975_2000",
         "16.6"
        ],
        [
         "26",
         "2001",
         "Media 1975_2000",
         "16.6"
        ],
        [
         "27",
         "2002",
         "Media 1975_2000",
         "16.6"
        ],
        [
         "28",
         "2003",
         "Media 1975_2000",
         "16.6"
        ],
        [
         "29",
         "2004",
         "Media 1975_2000",
         "16.6"
        ],
        [
         "30",
         "2005",
         "Media 1975_2000",
         "16.6"
        ],
        [
         "31",
         "2006",
         "Media 1975_2000",
         "16.6"
        ],
        [
         "32",
         "2007",
         "Media 1975_2000",
         "16.6"
        ],
        [
         "33",
         "2008",
         "Media 1975_2000",
         "16.6"
        ],
        [
         "34",
         "2009",
         "Media 1975_2000",
         "16.6"
        ],
        [
         "35",
         "2010",
         "Media 1975_2000",
         "16.6"
        ],
        [
         "36",
         "2011",
         "Media 1975_2000",
         "16.6"
        ],
        [
         "37",
         "2012",
         "Media 1975_2000",
         "16.6"
        ],
        [
         "38",
         "2013",
         "Media 1975_2000",
         "16.6"
        ],
        [
         "39",
         "2014",
         "Media 1975_2000",
         "16.6"
        ],
        [
         "40",
         "2015",
         "Media 1975_2000",
         "16.6"
        ],
        [
         "41",
         "2016",
         "Media 1975_2000",
         "16.6"
        ],
        [
         "42",
         "2017",
         "Media 1975_2000",
         "16.6"
        ],
        [
         "43",
         "2018",
         "Media 1975_2000",
         "16.6"
        ],
        [
         "44",
         "2019",
         "Media 1975_2000",
         "16.6"
        ],
        [
         "45",
         "2020",
         "Media 1975_2000",
         "16.6"
        ],
        [
         "46",
         "2021",
         "Media 1975_2000",
         "16.6"
        ],
        [
         "47",
         "2022",
         "Media 1975_2000",
         "16.6"
        ],
        [
         "48",
         "2023",
         "Media 1975_2000",
         "16.6"
        ],
        [
         "49",
         "2024",
         "Media 1975_2000",
         "16.6"
        ]
       ],
       "shape": {
        "columns": 3,
        "rows": 50
       }
      },
      "text/html": [
       "<div>\n",
       "<style scoped>\n",
       "    .dataframe tbody tr th:only-of-type {\n",
       "        vertical-align: middle;\n",
       "    }\n",
       "\n",
       "    .dataframe tbody tr th {\n",
       "        vertical-align: top;\n",
       "    }\n",
       "\n",
       "    .dataframe thead th {\n",
       "        text-align: right;\n",
       "    }\n",
       "</style>\n",
       "<table border=\"1\" class=\"dataframe\">\n",
       "  <thead>\n",
       "    <tr style=\"text-align: right;\">\n",
       "      <th></th>\n",
       "      <th>year</th>\n",
       "      <th>Tipo de Temperatura</th>\n",
       "      <th>Temperatura</th>\n",
       "    </tr>\n",
       "  </thead>\n",
       "  <tbody>\n",
       "    <tr>\n",
       "      <th>0</th>\n",
       "      <td>2000</td>\n",
       "      <td>average_temperature</td>\n",
       "      <td>16.91</td>\n",
       "    </tr>\n",
       "    <tr>\n",
       "      <th>1</th>\n",
       "      <td>2001</td>\n",
       "      <td>average_temperature</td>\n",
       "      <td>17.12</td>\n",
       "    </tr>\n",
       "    <tr>\n",
       "      <th>2</th>\n",
       "      <td>2002</td>\n",
       "      <td>average_temperature</td>\n",
       "      <td>16.78</td>\n",
       "    </tr>\n",
       "    <tr>\n",
       "      <th>3</th>\n",
       "      <td>2003</td>\n",
       "      <td>average_temperature</td>\n",
       "      <td>17.18</td>\n",
       "    </tr>\n",
       "    <tr>\n",
       "      <th>4</th>\n",
       "      <td>2004</td>\n",
       "      <td>average_temperature</td>\n",
       "      <td>16.97</td>\n",
       "    </tr>\n",
       "    <tr>\n",
       "      <th>5</th>\n",
       "      <td>2005</td>\n",
       "      <td>average_temperature</td>\n",
       "      <td>17.06</td>\n",
       "    </tr>\n",
       "    <tr>\n",
       "      <th>6</th>\n",
       "      <td>2006</td>\n",
       "      <td>average_temperature</td>\n",
       "      <td>17.50</td>\n",
       "    </tr>\n",
       "    <tr>\n",
       "      <th>7</th>\n",
       "      <td>2007</td>\n",
       "      <td>average_temperature</td>\n",
       "      <td>17.14</td>\n",
       "    </tr>\n",
       "    <tr>\n",
       "      <th>8</th>\n",
       "      <td>2008</td>\n",
       "      <td>average_temperature</td>\n",
       "      <td>16.92</td>\n",
       "    </tr>\n",
       "    <tr>\n",
       "      <th>9</th>\n",
       "      <td>2009</td>\n",
       "      <td>average_temperature</td>\n",
       "      <td>17.35</td>\n",
       "    </tr>\n",
       "    <tr>\n",
       "      <th>10</th>\n",
       "      <td>2010</td>\n",
       "      <td>average_temperature</td>\n",
       "      <td>16.53</td>\n",
       "    </tr>\n",
       "    <tr>\n",
       "      <th>11</th>\n",
       "      <td>2011</td>\n",
       "      <td>average_temperature</td>\n",
       "      <td>17.52</td>\n",
       "    </tr>\n",
       "    <tr>\n",
       "      <th>12</th>\n",
       "      <td>2012</td>\n",
       "      <td>average_temperature</td>\n",
       "      <td>17.12</td>\n",
       "    </tr>\n",
       "    <tr>\n",
       "      <th>13</th>\n",
       "      <td>2013</td>\n",
       "      <td>average_temperature</td>\n",
       "      <td>16.85</td>\n",
       "    </tr>\n",
       "    <tr>\n",
       "      <th>14</th>\n",
       "      <td>2014</td>\n",
       "      <td>average_temperature</td>\n",
       "      <td>17.88</td>\n",
       "    </tr>\n",
       "    <tr>\n",
       "      <th>15</th>\n",
       "      <td>2015</td>\n",
       "      <td>average_temperature</td>\n",
       "      <td>17.53</td>\n",
       "    </tr>\n",
       "    <tr>\n",
       "      <th>16</th>\n",
       "      <td>2016</td>\n",
       "      <td>average_temperature</td>\n",
       "      <td>17.66</td>\n",
       "    </tr>\n",
       "    <tr>\n",
       "      <th>17</th>\n",
       "      <td>2017</td>\n",
       "      <td>average_temperature</td>\n",
       "      <td>17.82</td>\n",
       "    </tr>\n",
       "    <tr>\n",
       "      <th>18</th>\n",
       "      <td>2018</td>\n",
       "      <td>average_temperature</td>\n",
       "      <td>17.80</td>\n",
       "    </tr>\n",
       "    <tr>\n",
       "      <th>19</th>\n",
       "      <td>2019</td>\n",
       "      <td>average_temperature</td>\n",
       "      <td>17.58</td>\n",
       "    </tr>\n",
       "    <tr>\n",
       "      <th>20</th>\n",
       "      <td>2020</td>\n",
       "      <td>average_temperature</td>\n",
       "      <td>17.87</td>\n",
       "    </tr>\n",
       "    <tr>\n",
       "      <th>21</th>\n",
       "      <td>2021</td>\n",
       "      <td>average_temperature</td>\n",
       "      <td>17.62</td>\n",
       "    </tr>\n",
       "    <tr>\n",
       "      <th>22</th>\n",
       "      <td>2022</td>\n",
       "      <td>average_temperature</td>\n",
       "      <td>18.32</td>\n",
       "    </tr>\n",
       "    <tr>\n",
       "      <th>23</th>\n",
       "      <td>2023</td>\n",
       "      <td>average_temperature</td>\n",
       "      <td>18.28</td>\n",
       "    </tr>\n",
       "    <tr>\n",
       "      <th>24</th>\n",
       "      <td>2024</td>\n",
       "      <td>average_temperature</td>\n",
       "      <td>18.20</td>\n",
       "    </tr>\n",
       "    <tr>\n",
       "      <th>25</th>\n",
       "      <td>2000</td>\n",
       "      <td>Media 1975_2000</td>\n",
       "      <td>16.60</td>\n",
       "    </tr>\n",
       "    <tr>\n",
       "      <th>26</th>\n",
       "      <td>2001</td>\n",
       "      <td>Media 1975_2000</td>\n",
       "      <td>16.60</td>\n",
       "    </tr>\n",
       "    <tr>\n",
       "      <th>27</th>\n",
       "      <td>2002</td>\n",
       "      <td>Media 1975_2000</td>\n",
       "      <td>16.60</td>\n",
       "    </tr>\n",
       "    <tr>\n",
       "      <th>28</th>\n",
       "      <td>2003</td>\n",
       "      <td>Media 1975_2000</td>\n",
       "      <td>16.60</td>\n",
       "    </tr>\n",
       "    <tr>\n",
       "      <th>29</th>\n",
       "      <td>2004</td>\n",
       "      <td>Media 1975_2000</td>\n",
       "      <td>16.60</td>\n",
       "    </tr>\n",
       "    <tr>\n",
       "      <th>30</th>\n",
       "      <td>2005</td>\n",
       "      <td>Media 1975_2000</td>\n",
       "      <td>16.60</td>\n",
       "    </tr>\n",
       "    <tr>\n",
       "      <th>31</th>\n",
       "      <td>2006</td>\n",
       "      <td>Media 1975_2000</td>\n",
       "      <td>16.60</td>\n",
       "    </tr>\n",
       "    <tr>\n",
       "      <th>32</th>\n",
       "      <td>2007</td>\n",
       "      <td>Media 1975_2000</td>\n",
       "      <td>16.60</td>\n",
       "    </tr>\n",
       "    <tr>\n",
       "      <th>33</th>\n",
       "      <td>2008</td>\n",
       "      <td>Media 1975_2000</td>\n",
       "      <td>16.60</td>\n",
       "    </tr>\n",
       "    <tr>\n",
       "      <th>34</th>\n",
       "      <td>2009</td>\n",
       "      <td>Media 1975_2000</td>\n",
       "      <td>16.60</td>\n",
       "    </tr>\n",
       "    <tr>\n",
       "      <th>35</th>\n",
       "      <td>2010</td>\n",
       "      <td>Media 1975_2000</td>\n",
       "      <td>16.60</td>\n",
       "    </tr>\n",
       "    <tr>\n",
       "      <th>36</th>\n",
       "      <td>2011</td>\n",
       "      <td>Media 1975_2000</td>\n",
       "      <td>16.60</td>\n",
       "    </tr>\n",
       "    <tr>\n",
       "      <th>37</th>\n",
       "      <td>2012</td>\n",
       "      <td>Media 1975_2000</td>\n",
       "      <td>16.60</td>\n",
       "    </tr>\n",
       "    <tr>\n",
       "      <th>38</th>\n",
       "      <td>2013</td>\n",
       "      <td>Media 1975_2000</td>\n",
       "      <td>16.60</td>\n",
       "    </tr>\n",
       "    <tr>\n",
       "      <th>39</th>\n",
       "      <td>2014</td>\n",
       "      <td>Media 1975_2000</td>\n",
       "      <td>16.60</td>\n",
       "    </tr>\n",
       "    <tr>\n",
       "      <th>40</th>\n",
       "      <td>2015</td>\n",
       "      <td>Media 1975_2000</td>\n",
       "      <td>16.60</td>\n",
       "    </tr>\n",
       "    <tr>\n",
       "      <th>41</th>\n",
       "      <td>2016</td>\n",
       "      <td>Media 1975_2000</td>\n",
       "      <td>16.60</td>\n",
       "    </tr>\n",
       "    <tr>\n",
       "      <th>42</th>\n",
       "      <td>2017</td>\n",
       "      <td>Media 1975_2000</td>\n",
       "      <td>16.60</td>\n",
       "    </tr>\n",
       "    <tr>\n",
       "      <th>43</th>\n",
       "      <td>2018</td>\n",
       "      <td>Media 1975_2000</td>\n",
       "      <td>16.60</td>\n",
       "    </tr>\n",
       "    <tr>\n",
       "      <th>44</th>\n",
       "      <td>2019</td>\n",
       "      <td>Media 1975_2000</td>\n",
       "      <td>16.60</td>\n",
       "    </tr>\n",
       "    <tr>\n",
       "      <th>45</th>\n",
       "      <td>2020</td>\n",
       "      <td>Media 1975_2000</td>\n",
       "      <td>16.60</td>\n",
       "    </tr>\n",
       "    <tr>\n",
       "      <th>46</th>\n",
       "      <td>2021</td>\n",
       "      <td>Media 1975_2000</td>\n",
       "      <td>16.60</td>\n",
       "    </tr>\n",
       "    <tr>\n",
       "      <th>47</th>\n",
       "      <td>2022</td>\n",
       "      <td>Media 1975_2000</td>\n",
       "      <td>16.60</td>\n",
       "    </tr>\n",
       "    <tr>\n",
       "      <th>48</th>\n",
       "      <td>2023</td>\n",
       "      <td>Media 1975_2000</td>\n",
       "      <td>16.60</td>\n",
       "    </tr>\n",
       "    <tr>\n",
       "      <th>49</th>\n",
       "      <td>2024</td>\n",
       "      <td>Media 1975_2000</td>\n",
       "      <td>16.60</td>\n",
       "    </tr>\n",
       "  </tbody>\n",
       "</table>\n",
       "</div>"
      ],
      "text/plain": [
       "    year  Tipo de Temperatura  Temperatura\n",
       "0   2000  average_temperature        16.91\n",
       "1   2001  average_temperature        17.12\n",
       "2   2002  average_temperature        16.78\n",
       "3   2003  average_temperature        17.18\n",
       "4   2004  average_temperature        16.97\n",
       "5   2005  average_temperature        17.06\n",
       "6   2006  average_temperature        17.50\n",
       "7   2007  average_temperature        17.14\n",
       "8   2008  average_temperature        16.92\n",
       "9   2009  average_temperature        17.35\n",
       "10  2010  average_temperature        16.53\n",
       "11  2011  average_temperature        17.52\n",
       "12  2012  average_temperature        17.12\n",
       "13  2013  average_temperature        16.85\n",
       "14  2014  average_temperature        17.88\n",
       "15  2015  average_temperature        17.53\n",
       "16  2016  average_temperature        17.66\n",
       "17  2017  average_temperature        17.82\n",
       "18  2018  average_temperature        17.80\n",
       "19  2019  average_temperature        17.58\n",
       "20  2020  average_temperature        17.87\n",
       "21  2021  average_temperature        17.62\n",
       "22  2022  average_temperature        18.32\n",
       "23  2023  average_temperature        18.28\n",
       "24  2024  average_temperature        18.20\n",
       "25  2000      Media 1975_2000        16.60\n",
       "26  2001      Media 1975_2000        16.60\n",
       "27  2002      Media 1975_2000        16.60\n",
       "28  2003      Media 1975_2000        16.60\n",
       "29  2004      Media 1975_2000        16.60\n",
       "30  2005      Media 1975_2000        16.60\n",
       "31  2006      Media 1975_2000        16.60\n",
       "32  2007      Media 1975_2000        16.60\n",
       "33  2008      Media 1975_2000        16.60\n",
       "34  2009      Media 1975_2000        16.60\n",
       "35  2010      Media 1975_2000        16.60\n",
       "36  2011      Media 1975_2000        16.60\n",
       "37  2012      Media 1975_2000        16.60\n",
       "38  2013      Media 1975_2000        16.60\n",
       "39  2014      Media 1975_2000        16.60\n",
       "40  2015      Media 1975_2000        16.60\n",
       "41  2016      Media 1975_2000        16.60\n",
       "42  2017      Media 1975_2000        16.60\n",
       "43  2018      Media 1975_2000        16.60\n",
       "44  2019      Media 1975_2000        16.60\n",
       "45  2020      Media 1975_2000        16.60\n",
       "46  2021      Media 1975_2000        16.60\n",
       "47  2022      Media 1975_2000        16.60\n",
       "48  2023      Media 1975_2000        16.60\n",
       "49  2024      Media 1975_2000        16.60"
      ]
     },
     "execution_count": 28,
     "metadata": {},
     "output_type": "execute_result"
    }
   ],
   "source": [
    "# Prepara el DF para calcular la media de SST por año.\n",
    "temp_total_media = temp_total.groupby('year').agg({\n",
    "    'average_temperature':'mean',\n",
    "    'Media 1975_2000':'mean'    \n",
    "}, inplace=True).reset_index()\n",
    "\n",
    "temp_total_media['average_temperature']=temp_total_media['average_temperature'].round(2)\n",
    "temp_total_media['Media 1975_2000']=temp_total_media['Media 1975_2000'].round(2)\n",
    "\n",
    "temp_total_media = temp_total_media[temp_total_media['year'] != 2025]\n",
    "temp_total_media\n",
    "\n",
    "temp_total_media = temp_total_media.melt(id_vars=['year'],\n",
    "                                 value_vars=['average_temperature', 'Media 1975_2000'],\n",
    "                                 var_name='Tipo de Temperatura',\n",
    "                                 value_name='Temperatura')\n",
    "\n",
    "temp_total_media"
   ]
  },
  {
   "cell_type": "code",
   "execution_count": null,
   "id": "b00a1352",
   "metadata": {},
   "outputs": [
    {
     "data": {
      "application/vnd.plotly.v1+json": {
       "config": {
        "plotlyServerURL": "https://plot.ly"
       },
       "data": [
        {
         "hovertemplate": "Serie=average_temperature<br>Año=%{x}<br>Temperatura (°C)=%{y:.2f}<extra></extra>",
         "legendgroup": "average_temperature",
         "line": {
          "color": "#0072B2",
          "dash": "solid"
         },
         "marker": {
          "symbol": "circle"
         },
         "mode": "lines",
         "name": "average_temperature",
         "orientation": "v",
         "showlegend": true,
         "type": "scatter",
         "x": {
          "bdata": "0AfRB9IH0wfUB9UH1gfXB9gH2QfaB9sH3AfdB94H3wfgB+EH4gfjB+QH5QfmB+cH6Ac=",
          "dtype": "i2"
         },
         "xaxis": "x",
         "y": {
          "bdata": "KVyPwvXoMEAfhetRuB4xQEjhehSuxzBArkfhehQuMUC4HoXrUfgwQI/C9ShcDzFAAAAAAACAMUCkcD0K1yMxQOxRuB6F6zBAmpmZmZlZMUBI4XoUrocwQIXrUbgehTFAH4XrUbgeMUCamZmZmdkwQOF6FK5H4TFASOF6FK6HMUApXI/C9agxQFK4HoXr0TFAzczMzMzMMUAUrkfhepQxQB+F61G43jFAH4XrUbieMUBSuB6F61EyQEjhehSuRzJAMzMzMzMzMkA=",
          "dtype": "f8"
         },
         "yaxis": "y"
        },
        {
         "hovertemplate": "Serie=Media 1975_2000<br>Año=%{x}<br>Temperatura (°C)=%{y:.2f}<extra></extra>",
         "legendgroup": "Media 1975_2000",
         "line": {
          "color": "#D55E00",
          "dash": "solid"
         },
         "marker": {
          "symbol": "circle"
         },
         "mode": "lines",
         "name": "Media 1975_2000",
         "orientation": "v",
         "showlegend": true,
         "type": "scatter",
         "x": {
          "bdata": "0AfRB9IH0wfUB9UH1gfXB9gH2QfaB9sH3AfdB94H3wfgB+EH4gfjB+QH5QfmB+cH6Ac=",
          "dtype": "i2"
         },
         "xaxis": "x",
         "y": {
          "bdata": "mpmZmZmZMECamZmZmZkwQJqZmZmZmTBAmpmZmZmZMECamZmZmZkwQJqZmZmZmTBAmpmZmZmZMECamZmZmZkwQJqZmZmZmTBAmpmZmZmZMECamZmZmZkwQJqZmZmZmTBAmpmZmZmZMECamZmZmZkwQJqZmZmZmTBAmpmZmZmZMECamZmZmZkwQJqZmZmZmTBAmpmZmZmZMECamZmZmZkwQJqZmZmZmTBAmpmZmZmZMECamZmZmZkwQJqZmZmZmTBAmpmZmZmZMEA=",
          "dtype": "f8"
         },
         "yaxis": "y"
        }
       ],
       "layout": {
        "hovermode": "x unified",
        "legend": {
         "title": {
          "text": "Serie"
         },
         "tracegroupgap": 0
        },
        "paper_bgcolor": "white",
        "plot_bgcolor": "white",
        "template": {
         "data": {
          "bar": [
           {
            "error_x": {
             "color": "#2a3f5f"
            },
            "error_y": {
             "color": "#2a3f5f"
            },
            "marker": {
             "line": {
              "color": "#E5ECF6",
              "width": 0.5
             },
             "pattern": {
              "fillmode": "overlay",
              "size": 10,
              "solidity": 0.2
             }
            },
            "type": "bar"
           }
          ],
          "barpolar": [
           {
            "marker": {
             "line": {
              "color": "#E5ECF6",
              "width": 0.5
             },
             "pattern": {
              "fillmode": "overlay",
              "size": 10,
              "solidity": 0.2
             }
            },
            "type": "barpolar"
           }
          ],
          "carpet": [
           {
            "aaxis": {
             "endlinecolor": "#2a3f5f",
             "gridcolor": "white",
             "linecolor": "white",
             "minorgridcolor": "white",
             "startlinecolor": "#2a3f5f"
            },
            "baxis": {
             "endlinecolor": "#2a3f5f",
             "gridcolor": "white",
             "linecolor": "white",
             "minorgridcolor": "white",
             "startlinecolor": "#2a3f5f"
            },
            "type": "carpet"
           }
          ],
          "choropleth": [
           {
            "colorbar": {
             "outlinewidth": 0,
             "ticks": ""
            },
            "type": "choropleth"
           }
          ],
          "contour": [
           {
            "colorbar": {
             "outlinewidth": 0,
             "ticks": ""
            },
            "colorscale": [
             [
              0,
              "#0d0887"
             ],
             [
              0.1111111111111111,
              "#46039f"
             ],
             [
              0.2222222222222222,
              "#7201a8"
             ],
             [
              0.3333333333333333,
              "#9c179e"
             ],
             [
              0.4444444444444444,
              "#bd3786"
             ],
             [
              0.5555555555555556,
              "#d8576b"
             ],
             [
              0.6666666666666666,
              "#ed7953"
             ],
             [
              0.7777777777777778,
              "#fb9f3a"
             ],
             [
              0.8888888888888888,
              "#fdca26"
             ],
             [
              1,
              "#f0f921"
             ]
            ],
            "type": "contour"
           }
          ],
          "contourcarpet": [
           {
            "colorbar": {
             "outlinewidth": 0,
             "ticks": ""
            },
            "type": "contourcarpet"
           }
          ],
          "heatmap": [
           {
            "colorbar": {
             "outlinewidth": 0,
             "ticks": ""
            },
            "colorscale": [
             [
              0,
              "#0d0887"
             ],
             [
              0.1111111111111111,
              "#46039f"
             ],
             [
              0.2222222222222222,
              "#7201a8"
             ],
             [
              0.3333333333333333,
              "#9c179e"
             ],
             [
              0.4444444444444444,
              "#bd3786"
             ],
             [
              0.5555555555555556,
              "#d8576b"
             ],
             [
              0.6666666666666666,
              "#ed7953"
             ],
             [
              0.7777777777777778,
              "#fb9f3a"
             ],
             [
              0.8888888888888888,
              "#fdca26"
             ],
             [
              1,
              "#f0f921"
             ]
            ],
            "type": "heatmap"
           }
          ],
          "histogram": [
           {
            "marker": {
             "pattern": {
              "fillmode": "overlay",
              "size": 10,
              "solidity": 0.2
             }
            },
            "type": "histogram"
           }
          ],
          "histogram2d": [
           {
            "colorbar": {
             "outlinewidth": 0,
             "ticks": ""
            },
            "colorscale": [
             [
              0,
              "#0d0887"
             ],
             [
              0.1111111111111111,
              "#46039f"
             ],
             [
              0.2222222222222222,
              "#7201a8"
             ],
             [
              0.3333333333333333,
              "#9c179e"
             ],
             [
              0.4444444444444444,
              "#bd3786"
             ],
             [
              0.5555555555555556,
              "#d8576b"
             ],
             [
              0.6666666666666666,
              "#ed7953"
             ],
             [
              0.7777777777777778,
              "#fb9f3a"
             ],
             [
              0.8888888888888888,
              "#fdca26"
             ],
             [
              1,
              "#f0f921"
             ]
            ],
            "type": "histogram2d"
           }
          ],
          "histogram2dcontour": [
           {
            "colorbar": {
             "outlinewidth": 0,
             "ticks": ""
            },
            "colorscale": [
             [
              0,
              "#0d0887"
             ],
             [
              0.1111111111111111,
              "#46039f"
             ],
             [
              0.2222222222222222,
              "#7201a8"
             ],
             [
              0.3333333333333333,
              "#9c179e"
             ],
             [
              0.4444444444444444,
              "#bd3786"
             ],
             [
              0.5555555555555556,
              "#d8576b"
             ],
             [
              0.6666666666666666,
              "#ed7953"
             ],
             [
              0.7777777777777778,
              "#fb9f3a"
             ],
             [
              0.8888888888888888,
              "#fdca26"
             ],
             [
              1,
              "#f0f921"
             ]
            ],
            "type": "histogram2dcontour"
           }
          ],
          "mesh3d": [
           {
            "colorbar": {
             "outlinewidth": 0,
             "ticks": ""
            },
            "type": "mesh3d"
           }
          ],
          "parcoords": [
           {
            "line": {
             "colorbar": {
              "outlinewidth": 0,
              "ticks": ""
             }
            },
            "type": "parcoords"
           }
          ],
          "pie": [
           {
            "automargin": true,
            "type": "pie"
           }
          ],
          "scatter": [
           {
            "fillpattern": {
             "fillmode": "overlay",
             "size": 10,
             "solidity": 0.2
            },
            "type": "scatter"
           }
          ],
          "scatter3d": [
           {
            "line": {
             "colorbar": {
              "outlinewidth": 0,
              "ticks": ""
             }
            },
            "marker": {
             "colorbar": {
              "outlinewidth": 0,
              "ticks": ""
             }
            },
            "type": "scatter3d"
           }
          ],
          "scattercarpet": [
           {
            "marker": {
             "colorbar": {
              "outlinewidth": 0,
              "ticks": ""
             }
            },
            "type": "scattercarpet"
           }
          ],
          "scattergeo": [
           {
            "marker": {
             "colorbar": {
              "outlinewidth": 0,
              "ticks": ""
             }
            },
            "type": "scattergeo"
           }
          ],
          "scattergl": [
           {
            "marker": {
             "colorbar": {
              "outlinewidth": 0,
              "ticks": ""
             }
            },
            "type": "scattergl"
           }
          ],
          "scattermap": [
           {
            "marker": {
             "colorbar": {
              "outlinewidth": 0,
              "ticks": ""
             }
            },
            "type": "scattermap"
           }
          ],
          "scattermapbox": [
           {
            "marker": {
             "colorbar": {
              "outlinewidth": 0,
              "ticks": ""
             }
            },
            "type": "scattermapbox"
           }
          ],
          "scatterpolar": [
           {
            "marker": {
             "colorbar": {
              "outlinewidth": 0,
              "ticks": ""
             }
            },
            "type": "scatterpolar"
           }
          ],
          "scatterpolargl": [
           {
            "marker": {
             "colorbar": {
              "outlinewidth": 0,
              "ticks": ""
             }
            },
            "type": "scatterpolargl"
           }
          ],
          "scatterternary": [
           {
            "marker": {
             "colorbar": {
              "outlinewidth": 0,
              "ticks": ""
             }
            },
            "type": "scatterternary"
           }
          ],
          "surface": [
           {
            "colorbar": {
             "outlinewidth": 0,
             "ticks": ""
            },
            "colorscale": [
             [
              0,
              "#0d0887"
             ],
             [
              0.1111111111111111,
              "#46039f"
             ],
             [
              0.2222222222222222,
              "#7201a8"
             ],
             [
              0.3333333333333333,
              "#9c179e"
             ],
             [
              0.4444444444444444,
              "#bd3786"
             ],
             [
              0.5555555555555556,
              "#d8576b"
             ],
             [
              0.6666666666666666,
              "#ed7953"
             ],
             [
              0.7777777777777778,
              "#fb9f3a"
             ],
             [
              0.8888888888888888,
              "#fdca26"
             ],
             [
              1,
              "#f0f921"
             ]
            ],
            "type": "surface"
           }
          ],
          "table": [
           {
            "cells": {
             "fill": {
              "color": "#EBF0F8"
             },
             "line": {
              "color": "white"
             }
            },
            "header": {
             "fill": {
              "color": "#C8D4E3"
             },
             "line": {
              "color": "white"
             }
            },
            "type": "table"
           }
          ]
         },
         "layout": {
          "annotationdefaults": {
           "arrowcolor": "#2a3f5f",
           "arrowhead": 0,
           "arrowwidth": 1
          },
          "autotypenumbers": "strict",
          "coloraxis": {
           "colorbar": {
            "outlinewidth": 0,
            "ticks": ""
           }
          },
          "colorscale": {
           "diverging": [
            [
             0,
             "#8e0152"
            ],
            [
             0.1,
             "#c51b7d"
            ],
            [
             0.2,
             "#de77ae"
            ],
            [
             0.3,
             "#f1b6da"
            ],
            [
             0.4,
             "#fde0ef"
            ],
            [
             0.5,
             "#f7f7f7"
            ],
            [
             0.6,
             "#e6f5d0"
            ],
            [
             0.7,
             "#b8e186"
            ],
            [
             0.8,
             "#7fbc41"
            ],
            [
             0.9,
             "#4d9221"
            ],
            [
             1,
             "#276419"
            ]
           ],
           "sequential": [
            [
             0,
             "#0d0887"
            ],
            [
             0.1111111111111111,
             "#46039f"
            ],
            [
             0.2222222222222222,
             "#7201a8"
            ],
            [
             0.3333333333333333,
             "#9c179e"
            ],
            [
             0.4444444444444444,
             "#bd3786"
            ],
            [
             0.5555555555555556,
             "#d8576b"
            ],
            [
             0.6666666666666666,
             "#ed7953"
            ],
            [
             0.7777777777777778,
             "#fb9f3a"
            ],
            [
             0.8888888888888888,
             "#fdca26"
            ],
            [
             1,
             "#f0f921"
            ]
           ],
           "sequentialminus": [
            [
             0,
             "#0d0887"
            ],
            [
             0.1111111111111111,
             "#46039f"
            ],
            [
             0.2222222222222222,
             "#7201a8"
            ],
            [
             0.3333333333333333,
             "#9c179e"
            ],
            [
             0.4444444444444444,
             "#bd3786"
            ],
            [
             0.5555555555555556,
             "#d8576b"
            ],
            [
             0.6666666666666666,
             "#ed7953"
            ],
            [
             0.7777777777777778,
             "#fb9f3a"
            ],
            [
             0.8888888888888888,
             "#fdca26"
            ],
            [
             1,
             "#f0f921"
            ]
           ]
          },
          "colorway": [
           "#636efa",
           "#EF553B",
           "#00cc96",
           "#ab63fa",
           "#FFA15A",
           "#19d3f3",
           "#FF6692",
           "#B6E880",
           "#FF97FF",
           "#FECB52"
          ],
          "font": {
           "color": "#2a3f5f"
          },
          "geo": {
           "bgcolor": "white",
           "lakecolor": "white",
           "landcolor": "#E5ECF6",
           "showlakes": true,
           "showland": true,
           "subunitcolor": "white"
          },
          "hoverlabel": {
           "align": "left"
          },
          "hovermode": "closest",
          "mapbox": {
           "style": "light"
          },
          "paper_bgcolor": "white",
          "plot_bgcolor": "#E5ECF6",
          "polar": {
           "angularaxis": {
            "gridcolor": "white",
            "linecolor": "white",
            "ticks": ""
           },
           "bgcolor": "#E5ECF6",
           "radialaxis": {
            "gridcolor": "white",
            "linecolor": "white",
            "ticks": ""
           }
          },
          "scene": {
           "xaxis": {
            "backgroundcolor": "#E5ECF6",
            "gridcolor": "white",
            "gridwidth": 2,
            "linecolor": "white",
            "showbackground": true,
            "ticks": "",
            "zerolinecolor": "white"
           },
           "yaxis": {
            "backgroundcolor": "#E5ECF6",
            "gridcolor": "white",
            "gridwidth": 2,
            "linecolor": "white",
            "showbackground": true,
            "ticks": "",
            "zerolinecolor": "white"
           },
           "zaxis": {
            "backgroundcolor": "#E5ECF6",
            "gridcolor": "white",
            "gridwidth": 2,
            "linecolor": "white",
            "showbackground": true,
            "ticks": "",
            "zerolinecolor": "white"
           }
          },
          "shapedefaults": {
           "line": {
            "color": "#2a3f5f"
           }
          },
          "ternary": {
           "aaxis": {
            "gridcolor": "white",
            "linecolor": "white",
            "ticks": ""
           },
           "baxis": {
            "gridcolor": "white",
            "linecolor": "white",
            "ticks": ""
           },
           "bgcolor": "#E5ECF6",
           "caxis": {
            "gridcolor": "white",
            "linecolor": "white",
            "ticks": ""
           }
          },
          "title": {
           "x": 0.05
          },
          "xaxis": {
           "automargin": true,
           "gridcolor": "white",
           "linecolor": "white",
           "ticks": "",
           "title": {
            "standoff": 15
           },
           "zerolinecolor": "white",
           "zerolinewidth": 2
          },
          "yaxis": {
           "automargin": true,
           "gridcolor": "white",
           "linecolor": "white",
           "ticks": "",
           "title": {
            "standoff": 15
           },
           "zerolinecolor": "white",
           "zerolinewidth": 2
          }
         }
        },
        "title": {
         "text": "Temperatura Media Anual y Media Histórica (1975-2000)"
        },
        "xaxis": {
         "anchor": "y",
         "domain": [
          0,
          1
         ],
         "gridcolor": "lightgray",
         "showgrid": true,
         "title": {
          "text": "Año"
         }
        },
        "yaxis": {
         "anchor": "x",
         "domain": [
          0,
          1
         ],
         "gridcolor": "lightgray",
         "showgrid": true,
         "title": {
          "text": "Temperatura (°C)"
         },
         "zeroline": true,
         "zerolinecolor": "black",
         "zerolinewidth": 1
        }
       }
      }
     },
     "metadata": {},
     "output_type": "display_data"
    }
   ],
   "source": [
    "# Colores para las lineas\n",
    "color_map_temp = {\n",
    "    'average_temperature': '#0072B2',  \n",
    "    'Media 1975_2000': '#D55E00'     \n",
    "}\n",
    "\n",
    "fig = px.line(temp_total_media,\n",
    "                       x='year',\n",
    "                       y='Temperatura',\n",
    "                       color='Tipo de Temperatura', \n",
    "                       color_discrete_map=color_map_temp,\n",
    "                       title='Temperatura Media Anual y Media Histórica (1975-2000)',\n",
    "                       labels={'year': 'Año', 'Temperatura': 'Temperatura (°C)', 'Tipo de Temperatura': 'Serie'},\n",
    "                       hover_data={'Temperatura': ':.2f'}\n",
    "                      )\n",
    "\n",
    "fig.update_layout(\n",
    "    hovermode=\"x unified\",\n",
    "    plot_bgcolor='white',\n",
    "    paper_bgcolor='white',\n",
    "    xaxis=dict(\n",
    "        gridcolor='lightgray',\n",
    "        showgrid=True\n",
    "    ),\n",
    "    yaxis=dict(\n",
    "        gridcolor='lightgray',\n",
    "        showgrid=True,\n",
    "        zeroline=True,\n",
    "        zerolinecolor='black',\n",
    "        zerolinewidth=1\n",
    "    )\n",
    ")\n",
    "\n",
    "fig.write_html(\"SST_Media_total.html\")\n",
    "\n",
    "fig.show()"
   ]
  },
  {
   "cell_type": "markdown",
   "id": "487ffafe",
   "metadata": {},
   "source": [
    "# Media anomalía SST por año"
   ]
  },
  {
   "cell_type": "code",
   "execution_count": 24,
   "id": "3d3de6d3",
   "metadata": {},
   "outputs": [
    {
     "data": {
      "application/vnd.microsoft.datawrangler.viewer.v0+json": {
       "columns": [
        {
         "name": "index",
         "rawType": "int64",
         "type": "integer"
        },
        {
         "name": "year",
         "rawType": "int64",
         "type": "integer"
        },
        {
         "name": "average_temperature",
         "rawType": "float64",
         "type": "float"
        },
        {
         "name": "Media 1975_2000",
         "rawType": "float64",
         "type": "float"
        },
        {
         "name": "Diferencia",
         "rawType": "float64",
         "type": "float"
        }
       ],
       "ref": "bceb537f-53f1-40df-a450-87d77bd8db1f",
       "rows": [
        [
         "0",
         "2000",
         "16.91",
         "16.6",
         "0.31"
        ],
        [
         "1",
         "2001",
         "17.12",
         "16.6",
         "0.52"
        ],
        [
         "2",
         "2002",
         "16.78",
         "16.6",
         "0.18"
        ],
        [
         "3",
         "2003",
         "17.18",
         "16.6",
         "0.58"
        ],
        [
         "4",
         "2004",
         "16.97",
         "16.6",
         "0.37"
        ],
        [
         "5",
         "2005",
         "17.06",
         "16.6",
         "0.46"
        ],
        [
         "6",
         "2006",
         "17.5",
         "16.6",
         "0.9"
        ],
        [
         "7",
         "2007",
         "17.14",
         "16.6",
         "0.54"
        ],
        [
         "8",
         "2008",
         "16.92",
         "16.6",
         "0.32"
        ],
        [
         "9",
         "2009",
         "17.35",
         "16.6",
         "0.75"
        ],
        [
         "10",
         "2010",
         "16.53",
         "16.6",
         "-0.07"
        ],
        [
         "11",
         "2011",
         "17.52",
         "16.6",
         "0.92"
        ],
        [
         "12",
         "2012",
         "17.12",
         "16.6",
         "0.52"
        ],
        [
         "13",
         "2013",
         "16.85",
         "16.6",
         "0.25"
        ],
        [
         "14",
         "2014",
         "17.88",
         "16.6",
         "1.28"
        ],
        [
         "15",
         "2015",
         "17.53",
         "16.6",
         "0.93"
        ],
        [
         "16",
         "2016",
         "17.66",
         "16.6",
         "1.06"
        ],
        [
         "17",
         "2017",
         "17.82",
         "16.6",
         "1.22"
        ],
        [
         "18",
         "2018",
         "17.8",
         "16.6",
         "1.2"
        ],
        [
         "19",
         "2019",
         "17.58",
         "16.6",
         "0.98"
        ],
        [
         "20",
         "2020",
         "17.87",
         "16.6",
         "1.27"
        ],
        [
         "21",
         "2021",
         "17.62",
         "16.6",
         "1.02"
        ],
        [
         "22",
         "2022",
         "18.32",
         "16.6",
         "1.72"
        ],
        [
         "23",
         "2023",
         "18.28",
         "16.6",
         "1.68"
        ],
        [
         "24",
         "2024",
         "18.2",
         "16.6",
         "1.6"
        ]
       ],
       "shape": {
        "columns": 4,
        "rows": 25
       }
      },
      "text/html": [
       "<div>\n",
       "<style scoped>\n",
       "    .dataframe tbody tr th:only-of-type {\n",
       "        vertical-align: middle;\n",
       "    }\n",
       "\n",
       "    .dataframe tbody tr th {\n",
       "        vertical-align: top;\n",
       "    }\n",
       "\n",
       "    .dataframe thead th {\n",
       "        text-align: right;\n",
       "    }\n",
       "</style>\n",
       "<table border=\"1\" class=\"dataframe\">\n",
       "  <thead>\n",
       "    <tr style=\"text-align: right;\">\n",
       "      <th></th>\n",
       "      <th>year</th>\n",
       "      <th>average_temperature</th>\n",
       "      <th>Media 1975_2000</th>\n",
       "      <th>Diferencia</th>\n",
       "    </tr>\n",
       "  </thead>\n",
       "  <tbody>\n",
       "    <tr>\n",
       "      <th>0</th>\n",
       "      <td>2000</td>\n",
       "      <td>16.91</td>\n",
       "      <td>16.6</td>\n",
       "      <td>0.31</td>\n",
       "    </tr>\n",
       "    <tr>\n",
       "      <th>1</th>\n",
       "      <td>2001</td>\n",
       "      <td>17.12</td>\n",
       "      <td>16.6</td>\n",
       "      <td>0.52</td>\n",
       "    </tr>\n",
       "    <tr>\n",
       "      <th>2</th>\n",
       "      <td>2002</td>\n",
       "      <td>16.78</td>\n",
       "      <td>16.6</td>\n",
       "      <td>0.18</td>\n",
       "    </tr>\n",
       "    <tr>\n",
       "      <th>3</th>\n",
       "      <td>2003</td>\n",
       "      <td>17.18</td>\n",
       "      <td>16.6</td>\n",
       "      <td>0.58</td>\n",
       "    </tr>\n",
       "    <tr>\n",
       "      <th>4</th>\n",
       "      <td>2004</td>\n",
       "      <td>16.97</td>\n",
       "      <td>16.6</td>\n",
       "      <td>0.37</td>\n",
       "    </tr>\n",
       "    <tr>\n",
       "      <th>5</th>\n",
       "      <td>2005</td>\n",
       "      <td>17.06</td>\n",
       "      <td>16.6</td>\n",
       "      <td>0.46</td>\n",
       "    </tr>\n",
       "    <tr>\n",
       "      <th>6</th>\n",
       "      <td>2006</td>\n",
       "      <td>17.50</td>\n",
       "      <td>16.6</td>\n",
       "      <td>0.90</td>\n",
       "    </tr>\n",
       "    <tr>\n",
       "      <th>7</th>\n",
       "      <td>2007</td>\n",
       "      <td>17.14</td>\n",
       "      <td>16.6</td>\n",
       "      <td>0.54</td>\n",
       "    </tr>\n",
       "    <tr>\n",
       "      <th>8</th>\n",
       "      <td>2008</td>\n",
       "      <td>16.92</td>\n",
       "      <td>16.6</td>\n",
       "      <td>0.32</td>\n",
       "    </tr>\n",
       "    <tr>\n",
       "      <th>9</th>\n",
       "      <td>2009</td>\n",
       "      <td>17.35</td>\n",
       "      <td>16.6</td>\n",
       "      <td>0.75</td>\n",
       "    </tr>\n",
       "    <tr>\n",
       "      <th>10</th>\n",
       "      <td>2010</td>\n",
       "      <td>16.53</td>\n",
       "      <td>16.6</td>\n",
       "      <td>-0.07</td>\n",
       "    </tr>\n",
       "    <tr>\n",
       "      <th>11</th>\n",
       "      <td>2011</td>\n",
       "      <td>17.52</td>\n",
       "      <td>16.6</td>\n",
       "      <td>0.92</td>\n",
       "    </tr>\n",
       "    <tr>\n",
       "      <th>12</th>\n",
       "      <td>2012</td>\n",
       "      <td>17.12</td>\n",
       "      <td>16.6</td>\n",
       "      <td>0.52</td>\n",
       "    </tr>\n",
       "    <tr>\n",
       "      <th>13</th>\n",
       "      <td>2013</td>\n",
       "      <td>16.85</td>\n",
       "      <td>16.6</td>\n",
       "      <td>0.25</td>\n",
       "    </tr>\n",
       "    <tr>\n",
       "      <th>14</th>\n",
       "      <td>2014</td>\n",
       "      <td>17.88</td>\n",
       "      <td>16.6</td>\n",
       "      <td>1.28</td>\n",
       "    </tr>\n",
       "    <tr>\n",
       "      <th>15</th>\n",
       "      <td>2015</td>\n",
       "      <td>17.53</td>\n",
       "      <td>16.6</td>\n",
       "      <td>0.93</td>\n",
       "    </tr>\n",
       "    <tr>\n",
       "      <th>16</th>\n",
       "      <td>2016</td>\n",
       "      <td>17.66</td>\n",
       "      <td>16.6</td>\n",
       "      <td>1.06</td>\n",
       "    </tr>\n",
       "    <tr>\n",
       "      <th>17</th>\n",
       "      <td>2017</td>\n",
       "      <td>17.82</td>\n",
       "      <td>16.6</td>\n",
       "      <td>1.22</td>\n",
       "    </tr>\n",
       "    <tr>\n",
       "      <th>18</th>\n",
       "      <td>2018</td>\n",
       "      <td>17.80</td>\n",
       "      <td>16.6</td>\n",
       "      <td>1.20</td>\n",
       "    </tr>\n",
       "    <tr>\n",
       "      <th>19</th>\n",
       "      <td>2019</td>\n",
       "      <td>17.58</td>\n",
       "      <td>16.6</td>\n",
       "      <td>0.98</td>\n",
       "    </tr>\n",
       "    <tr>\n",
       "      <th>20</th>\n",
       "      <td>2020</td>\n",
       "      <td>17.87</td>\n",
       "      <td>16.6</td>\n",
       "      <td>1.27</td>\n",
       "    </tr>\n",
       "    <tr>\n",
       "      <th>21</th>\n",
       "      <td>2021</td>\n",
       "      <td>17.62</td>\n",
       "      <td>16.6</td>\n",
       "      <td>1.02</td>\n",
       "    </tr>\n",
       "    <tr>\n",
       "      <th>22</th>\n",
       "      <td>2022</td>\n",
       "      <td>18.32</td>\n",
       "      <td>16.6</td>\n",
       "      <td>1.72</td>\n",
       "    </tr>\n",
       "    <tr>\n",
       "      <th>23</th>\n",
       "      <td>2023</td>\n",
       "      <td>18.28</td>\n",
       "      <td>16.6</td>\n",
       "      <td>1.68</td>\n",
       "    </tr>\n",
       "    <tr>\n",
       "      <th>24</th>\n",
       "      <td>2024</td>\n",
       "      <td>18.20</td>\n",
       "      <td>16.6</td>\n",
       "      <td>1.60</td>\n",
       "    </tr>\n",
       "  </tbody>\n",
       "</table>\n",
       "</div>"
      ],
      "text/plain": [
       "    year  average_temperature  Media 1975_2000  Diferencia\n",
       "0   2000                16.91             16.6        0.31\n",
       "1   2001                17.12             16.6        0.52\n",
       "2   2002                16.78             16.6        0.18\n",
       "3   2003                17.18             16.6        0.58\n",
       "4   2004                16.97             16.6        0.37\n",
       "5   2005                17.06             16.6        0.46\n",
       "6   2006                17.50             16.6        0.90\n",
       "7   2007                17.14             16.6        0.54\n",
       "8   2008                16.92             16.6        0.32\n",
       "9   2009                17.35             16.6        0.75\n",
       "10  2010                16.53             16.6       -0.07\n",
       "11  2011                17.52             16.6        0.92\n",
       "12  2012                17.12             16.6        0.52\n",
       "13  2013                16.85             16.6        0.25\n",
       "14  2014                17.88             16.6        1.28\n",
       "15  2015                17.53             16.6        0.93\n",
       "16  2016                17.66             16.6        1.06\n",
       "17  2017                17.82             16.6        1.22\n",
       "18  2018                17.80             16.6        1.20\n",
       "19  2019                17.58             16.6        0.98\n",
       "20  2020                17.87             16.6        1.27\n",
       "21  2021                17.62             16.6        1.02\n",
       "22  2022                18.32             16.6        1.72\n",
       "23  2023                18.28             16.6        1.68\n",
       "24  2024                18.20             16.6        1.60"
      ]
     },
     "execution_count": 24,
     "metadata": {},
     "output_type": "execute_result"
    }
   ],
   "source": [
    "temp_total_media['Diferencia'] = (temp_total_media['average_temperature'] - temp_total_media['Media 1975_2000']).round(2)\n",
    "temp_total_media"
   ]
  },
  {
   "cell_type": "code",
   "execution_count": null,
   "id": "aab59a94",
   "metadata": {},
   "outputs": [
    {
     "data": {
      "application/vnd.plotly.v1+json": {
       "config": {
        "plotlyServerURL": "https://plot.ly"
       },
       "data": [
        {
         "hovertemplate": "<b>%{hovertext}</b><br><br>Año=%{x}<br>Diferencia de Temperatura (°C)=%{y:.2f}<extra></extra>",
         "hovertext": {
          "bdata": "AAAAAABAn0AAAAAAAESfQAAAAAAASJ9AAAAAAABMn0AAAAAAAFCfQAAAAAAAVJ9AAAAAAABYn0AAAAAAAFyfQAAAAAAAYJ9AAAAAAABkn0AAAAAAAGifQAAAAAAAbJ9AAAAAAABwn0AAAAAAAHSfQAAAAAAAeJ9AAAAAAAB8n0AAAAAAAICfQAAAAAAAhJ9AAAAAAACIn0AAAAAAAIyfQAAAAAAAkJ9AAAAAAACUn0AAAAAAAJifQAAAAAAAnJ9AAAAAAACgn0A=",
          "dtype": "f8"
         },
         "legendgroup": "",
         "line": {
          "color": "#636efa",
          "dash": "solid"
         },
         "marker": {
          "symbol": "circle"
         },
         "mode": "lines",
         "name": "",
         "orientation": "v",
         "showlegend": false,
         "type": "scatter",
         "x": {
          "bdata": "0AfRB9IH0wfUB9UH1gfXB9gH2QfaB9sH3AfdB94H3wfgB+EH4gfjB+QH5QfmB+cH6Ac=",
          "dtype": "i2"
         },
         "xaxis": "x",
         "y": {
          "bdata": "16NwPQrX0z+kcD0K16PgPwrXo3A9Csc/j8L1KFyP4j+uR+F6FK7XP3E9CtejcN0/zczMzMzM7D9I4XoUrkfhP3sUrkfhetQ/AAAAAAAA6D/sUbgeheuxv3E9CtejcO0/pHA9Ctej4D8AAAAAAADQP3sUrkfhevQ/w/UoXI/C7T/2KFyPwvXwP4XrUbgehfM/MzMzMzMz8z9cj8L1KFzvP1K4HoXrUfQ/UrgehetR8D+F61G4HoX7P+F6FK5H4fo/mpmZmZmZ+T8=",
          "dtype": "f8"
         },
         "yaxis": "y"
        }
       ],
       "layout": {
        "hovermode": "x unified",
        "legend": {
         "tracegroupgap": 0
        },
        "paper_bgcolor": "white",
        "plot_bgcolor": "white",
        "template": {
         "data": {
          "bar": [
           {
            "error_x": {
             "color": "#2a3f5f"
            },
            "error_y": {
             "color": "#2a3f5f"
            },
            "marker": {
             "line": {
              "color": "#E5ECF6",
              "width": 0.5
             },
             "pattern": {
              "fillmode": "overlay",
              "size": 10,
              "solidity": 0.2
             }
            },
            "type": "bar"
           }
          ],
          "barpolar": [
           {
            "marker": {
             "line": {
              "color": "#E5ECF6",
              "width": 0.5
             },
             "pattern": {
              "fillmode": "overlay",
              "size": 10,
              "solidity": 0.2
             }
            },
            "type": "barpolar"
           }
          ],
          "carpet": [
           {
            "aaxis": {
             "endlinecolor": "#2a3f5f",
             "gridcolor": "white",
             "linecolor": "white",
             "minorgridcolor": "white",
             "startlinecolor": "#2a3f5f"
            },
            "baxis": {
             "endlinecolor": "#2a3f5f",
             "gridcolor": "white",
             "linecolor": "white",
             "minorgridcolor": "white",
             "startlinecolor": "#2a3f5f"
            },
            "type": "carpet"
           }
          ],
          "choropleth": [
           {
            "colorbar": {
             "outlinewidth": 0,
             "ticks": ""
            },
            "type": "choropleth"
           }
          ],
          "contour": [
           {
            "colorbar": {
             "outlinewidth": 0,
             "ticks": ""
            },
            "colorscale": [
             [
              0,
              "#0d0887"
             ],
             [
              0.1111111111111111,
              "#46039f"
             ],
             [
              0.2222222222222222,
              "#7201a8"
             ],
             [
              0.3333333333333333,
              "#9c179e"
             ],
             [
              0.4444444444444444,
              "#bd3786"
             ],
             [
              0.5555555555555556,
              "#d8576b"
             ],
             [
              0.6666666666666666,
              "#ed7953"
             ],
             [
              0.7777777777777778,
              "#fb9f3a"
             ],
             [
              0.8888888888888888,
              "#fdca26"
             ],
             [
              1,
              "#f0f921"
             ]
            ],
            "type": "contour"
           }
          ],
          "contourcarpet": [
           {
            "colorbar": {
             "outlinewidth": 0,
             "ticks": ""
            },
            "type": "contourcarpet"
           }
          ],
          "heatmap": [
           {
            "colorbar": {
             "outlinewidth": 0,
             "ticks": ""
            },
            "colorscale": [
             [
              0,
              "#0d0887"
             ],
             [
              0.1111111111111111,
              "#46039f"
             ],
             [
              0.2222222222222222,
              "#7201a8"
             ],
             [
              0.3333333333333333,
              "#9c179e"
             ],
             [
              0.4444444444444444,
              "#bd3786"
             ],
             [
              0.5555555555555556,
              "#d8576b"
             ],
             [
              0.6666666666666666,
              "#ed7953"
             ],
             [
              0.7777777777777778,
              "#fb9f3a"
             ],
             [
              0.8888888888888888,
              "#fdca26"
             ],
             [
              1,
              "#f0f921"
             ]
            ],
            "type": "heatmap"
           }
          ],
          "histogram": [
           {
            "marker": {
             "pattern": {
              "fillmode": "overlay",
              "size": 10,
              "solidity": 0.2
             }
            },
            "type": "histogram"
           }
          ],
          "histogram2d": [
           {
            "colorbar": {
             "outlinewidth": 0,
             "ticks": ""
            },
            "colorscale": [
             [
              0,
              "#0d0887"
             ],
             [
              0.1111111111111111,
              "#46039f"
             ],
             [
              0.2222222222222222,
              "#7201a8"
             ],
             [
              0.3333333333333333,
              "#9c179e"
             ],
             [
              0.4444444444444444,
              "#bd3786"
             ],
             [
              0.5555555555555556,
              "#d8576b"
             ],
             [
              0.6666666666666666,
              "#ed7953"
             ],
             [
              0.7777777777777778,
              "#fb9f3a"
             ],
             [
              0.8888888888888888,
              "#fdca26"
             ],
             [
              1,
              "#f0f921"
             ]
            ],
            "type": "histogram2d"
           }
          ],
          "histogram2dcontour": [
           {
            "colorbar": {
             "outlinewidth": 0,
             "ticks": ""
            },
            "colorscale": [
             [
              0,
              "#0d0887"
             ],
             [
              0.1111111111111111,
              "#46039f"
             ],
             [
              0.2222222222222222,
              "#7201a8"
             ],
             [
              0.3333333333333333,
              "#9c179e"
             ],
             [
              0.4444444444444444,
              "#bd3786"
             ],
             [
              0.5555555555555556,
              "#d8576b"
             ],
             [
              0.6666666666666666,
              "#ed7953"
             ],
             [
              0.7777777777777778,
              "#fb9f3a"
             ],
             [
              0.8888888888888888,
              "#fdca26"
             ],
             [
              1,
              "#f0f921"
             ]
            ],
            "type": "histogram2dcontour"
           }
          ],
          "mesh3d": [
           {
            "colorbar": {
             "outlinewidth": 0,
             "ticks": ""
            },
            "type": "mesh3d"
           }
          ],
          "parcoords": [
           {
            "line": {
             "colorbar": {
              "outlinewidth": 0,
              "ticks": ""
             }
            },
            "type": "parcoords"
           }
          ],
          "pie": [
           {
            "automargin": true,
            "type": "pie"
           }
          ],
          "scatter": [
           {
            "fillpattern": {
             "fillmode": "overlay",
             "size": 10,
             "solidity": 0.2
            },
            "type": "scatter"
           }
          ],
          "scatter3d": [
           {
            "line": {
             "colorbar": {
              "outlinewidth": 0,
              "ticks": ""
             }
            },
            "marker": {
             "colorbar": {
              "outlinewidth": 0,
              "ticks": ""
             }
            },
            "type": "scatter3d"
           }
          ],
          "scattercarpet": [
           {
            "marker": {
             "colorbar": {
              "outlinewidth": 0,
              "ticks": ""
             }
            },
            "type": "scattercarpet"
           }
          ],
          "scattergeo": [
           {
            "marker": {
             "colorbar": {
              "outlinewidth": 0,
              "ticks": ""
             }
            },
            "type": "scattergeo"
           }
          ],
          "scattergl": [
           {
            "marker": {
             "colorbar": {
              "outlinewidth": 0,
              "ticks": ""
             }
            },
            "type": "scattergl"
           }
          ],
          "scattermap": [
           {
            "marker": {
             "colorbar": {
              "outlinewidth": 0,
              "ticks": ""
             }
            },
            "type": "scattermap"
           }
          ],
          "scattermapbox": [
           {
            "marker": {
             "colorbar": {
              "outlinewidth": 0,
              "ticks": ""
             }
            },
            "type": "scattermapbox"
           }
          ],
          "scatterpolar": [
           {
            "marker": {
             "colorbar": {
              "outlinewidth": 0,
              "ticks": ""
             }
            },
            "type": "scatterpolar"
           }
          ],
          "scatterpolargl": [
           {
            "marker": {
             "colorbar": {
              "outlinewidth": 0,
              "ticks": ""
             }
            },
            "type": "scatterpolargl"
           }
          ],
          "scatterternary": [
           {
            "marker": {
             "colorbar": {
              "outlinewidth": 0,
              "ticks": ""
             }
            },
            "type": "scatterternary"
           }
          ],
          "surface": [
           {
            "colorbar": {
             "outlinewidth": 0,
             "ticks": ""
            },
            "colorscale": [
             [
              0,
              "#0d0887"
             ],
             [
              0.1111111111111111,
              "#46039f"
             ],
             [
              0.2222222222222222,
              "#7201a8"
             ],
             [
              0.3333333333333333,
              "#9c179e"
             ],
             [
              0.4444444444444444,
              "#bd3786"
             ],
             [
              0.5555555555555556,
              "#d8576b"
             ],
             [
              0.6666666666666666,
              "#ed7953"
             ],
             [
              0.7777777777777778,
              "#fb9f3a"
             ],
             [
              0.8888888888888888,
              "#fdca26"
             ],
             [
              1,
              "#f0f921"
             ]
            ],
            "type": "surface"
           }
          ],
          "table": [
           {
            "cells": {
             "fill": {
              "color": "#EBF0F8"
             },
             "line": {
              "color": "white"
             }
            },
            "header": {
             "fill": {
              "color": "#C8D4E3"
             },
             "line": {
              "color": "white"
             }
            },
            "type": "table"
           }
          ]
         },
         "layout": {
          "annotationdefaults": {
           "arrowcolor": "#2a3f5f",
           "arrowhead": 0,
           "arrowwidth": 1
          },
          "autotypenumbers": "strict",
          "coloraxis": {
           "colorbar": {
            "outlinewidth": 0,
            "ticks": ""
           }
          },
          "colorscale": {
           "diverging": [
            [
             0,
             "#8e0152"
            ],
            [
             0.1,
             "#c51b7d"
            ],
            [
             0.2,
             "#de77ae"
            ],
            [
             0.3,
             "#f1b6da"
            ],
            [
             0.4,
             "#fde0ef"
            ],
            [
             0.5,
             "#f7f7f7"
            ],
            [
             0.6,
             "#e6f5d0"
            ],
            [
             0.7,
             "#b8e186"
            ],
            [
             0.8,
             "#7fbc41"
            ],
            [
             0.9,
             "#4d9221"
            ],
            [
             1,
             "#276419"
            ]
           ],
           "sequential": [
            [
             0,
             "#0d0887"
            ],
            [
             0.1111111111111111,
             "#46039f"
            ],
            [
             0.2222222222222222,
             "#7201a8"
            ],
            [
             0.3333333333333333,
             "#9c179e"
            ],
            [
             0.4444444444444444,
             "#bd3786"
            ],
            [
             0.5555555555555556,
             "#d8576b"
            ],
            [
             0.6666666666666666,
             "#ed7953"
            ],
            [
             0.7777777777777778,
             "#fb9f3a"
            ],
            [
             0.8888888888888888,
             "#fdca26"
            ],
            [
             1,
             "#f0f921"
            ]
           ],
           "sequentialminus": [
            [
             0,
             "#0d0887"
            ],
            [
             0.1111111111111111,
             "#46039f"
            ],
            [
             0.2222222222222222,
             "#7201a8"
            ],
            [
             0.3333333333333333,
             "#9c179e"
            ],
            [
             0.4444444444444444,
             "#bd3786"
            ],
            [
             0.5555555555555556,
             "#d8576b"
            ],
            [
             0.6666666666666666,
             "#ed7953"
            ],
            [
             0.7777777777777778,
             "#fb9f3a"
            ],
            [
             0.8888888888888888,
             "#fdca26"
            ],
            [
             1,
             "#f0f921"
            ]
           ]
          },
          "colorway": [
           "#636efa",
           "#EF553B",
           "#00cc96",
           "#ab63fa",
           "#FFA15A",
           "#19d3f3",
           "#FF6692",
           "#B6E880",
           "#FF97FF",
           "#FECB52"
          ],
          "font": {
           "color": "#2a3f5f"
          },
          "geo": {
           "bgcolor": "white",
           "lakecolor": "white",
           "landcolor": "#E5ECF6",
           "showlakes": true,
           "showland": true,
           "subunitcolor": "white"
          },
          "hoverlabel": {
           "align": "left"
          },
          "hovermode": "closest",
          "mapbox": {
           "style": "light"
          },
          "paper_bgcolor": "white",
          "plot_bgcolor": "#E5ECF6",
          "polar": {
           "angularaxis": {
            "gridcolor": "white",
            "linecolor": "white",
            "ticks": ""
           },
           "bgcolor": "#E5ECF6",
           "radialaxis": {
            "gridcolor": "white",
            "linecolor": "white",
            "ticks": ""
           }
          },
          "scene": {
           "xaxis": {
            "backgroundcolor": "#E5ECF6",
            "gridcolor": "white",
            "gridwidth": 2,
            "linecolor": "white",
            "showbackground": true,
            "ticks": "",
            "zerolinecolor": "white"
           },
           "yaxis": {
            "backgroundcolor": "#E5ECF6",
            "gridcolor": "white",
            "gridwidth": 2,
            "linecolor": "white",
            "showbackground": true,
            "ticks": "",
            "zerolinecolor": "white"
           },
           "zaxis": {
            "backgroundcolor": "#E5ECF6",
            "gridcolor": "white",
            "gridwidth": 2,
            "linecolor": "white",
            "showbackground": true,
            "ticks": "",
            "zerolinecolor": "white"
           }
          },
          "shapedefaults": {
           "line": {
            "color": "#2a3f5f"
           }
          },
          "ternary": {
           "aaxis": {
            "gridcolor": "white",
            "linecolor": "white",
            "ticks": ""
           },
           "baxis": {
            "gridcolor": "white",
            "linecolor": "white",
            "ticks": ""
           },
           "bgcolor": "#E5ECF6",
           "caxis": {
            "gridcolor": "white",
            "linecolor": "white",
            "ticks": ""
           }
          },
          "title": {
           "x": 0.05
          },
          "xaxis": {
           "automargin": true,
           "gridcolor": "white",
           "linecolor": "white",
           "ticks": "",
           "title": {
            "standoff": 15
           },
           "zerolinecolor": "white",
           "zerolinewidth": 2
          },
          "yaxis": {
           "automargin": true,
           "gridcolor": "white",
           "linecolor": "white",
           "ticks": "",
           "title": {
            "standoff": 15
           },
           "zerolinecolor": "white",
           "zerolinewidth": 2
          }
         }
        },
        "title": {
         "text": "Anomalía Térmica Media de la Superficie del Mar del 2006-2024 respecto a la Media Histórica (1975-2000)"
        },
        "xaxis": {
         "anchor": "y",
         "domain": [
          0,
          1
         ],
         "gridcolor": "lightgray",
         "showgrid": true,
         "title": {
          "text": "Año"
         }
        },
        "yaxis": {
         "anchor": "x",
         "domain": [
          0,
          1
         ],
         "gridcolor": "lightgray",
         "showgrid": true,
         "title": {
          "text": "Diferencia de Temperatura (°C)"
         },
         "zeroline": true,
         "zerolinecolor": "black",
         "zerolinewidth": 3
        }
       }
      }
     },
     "metadata": {},
     "output_type": "display_data"
    }
   ],
   "source": [
    "fig = px.line(temp_total_media,\n",
    "                  x='year',\n",
    "                  y='Diferencia',\n",
    "                  title='Anomalía Térmica Media de la Superficie del Mar del 2006-2024 respecto a la Media Histórica (1975-2000)',\n",
    "                  labels={'year': 'Año', 'Diferencia': 'Diferencia de Temperatura (°C)'},\n",
    "                  hover_name='year',\n",
    "                  hover_data={'Diferencia': ':.2f'}\n",
    "                 )\n",
    "\n",
    "fig.update_layout(\n",
    "    hovermode=\"x unified\",\n",
    "    plot_bgcolor='white', \n",
    "    paper_bgcolor='white',\n",
    "     xaxis=dict(\n",
    "        gridcolor='lightgray', \n",
    "        showgrid=True \n",
    "    ),\n",
    "    yaxis=dict(\n",
    "        gridcolor='lightgray',\n",
    "        showgrid=True,\n",
    "        zeroline=True,         \n",
    "        zerolinecolor='black', \n",
    "        zerolinewidth=3))\n",
    "\n",
    "fig.write_html(\"anomalia_SST_Media_total.html\")\n",
    "\n",
    "fig.show()"
   ]
  }
 ],
 "metadata": {
  "kernelspec": {
   "display_name": "AnalisisPajaros",
   "language": "python",
   "name": "python3"
  },
  "language_info": {
   "codemirror_mode": {
    "name": "ipython",
    "version": 3
   },
   "file_extension": ".py",
   "mimetype": "text/x-python",
   "name": "python",
   "nbconvert_exporter": "python",
   "pygments_lexer": "ipython3",
   "version": "3.12.9"
  }
 },
 "nbformat": 4,
 "nbformat_minor": 5
}
