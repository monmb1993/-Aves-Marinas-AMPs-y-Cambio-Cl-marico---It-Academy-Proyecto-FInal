{
 "cells": [
  {
   "cell_type": "markdown",
   "id": "63afe729",
   "metadata": {},
   "source": [
    "# Modelo GML limpio "
   ]
  },
  {
   "cell_type": "code",
   "execution_count": null,
   "id": "56ee43ad",
   "metadata": {},
   "outputs": [],
   "source": [
    "import pandas as pd \n",
    "import csv\n",
    "from pprint import pprint\n",
    "from datetime import datetime, timedelta\n",
    "from scipy.stats import pearsonr\n",
    "import matplotlib.pyplot as plt\n",
    "import scipy.stats as stats\n",
    "import numpy as np\n",
    "import plotly.express as px\n",
    "import seaborn as sns\n",
    "from scipy.stats import shapiro, kstest, anderson\n",
    "import plotly.graph_objects as go\n",
    "import plotly.figure_factory as ff\n",
    "from pySankey.sankey import sankey\n",
    "from plottable import Table\n",
    "import statsmodels.api as sm\n",
    "import statsmodels.formula.api as smf\n",
    "from patsy import dmatrices\n",
    "from statsmodels.discrete.discrete_model import NegativeBinomial\n",
    "from mord import LogisticAT \n",
    "from sklearn.model_selection import train_test_split\n",
    "from sklearn.metrics import classification_report, accuracy_score"
   ]
  },
  {
   "cell_type": "markdown",
   "id": "efc72b73",
   "metadata": {},
   "source": [
    "## Ultimos detalles tabla"
   ]
  },
  {
   "cell_type": "code",
   "execution_count": 41,
   "id": "48074aa1",
   "metadata": {},
   "outputs": [],
   "source": [
    "censo = pd.read_csv(r'C:/Users/monic/OneDrive/Desktop/It Academmy - Data Analysis/Projecte/Python archibos buenos/tabla_madre.csv', delimiter=',', quotechar='\"')\n",
    "censo['LR2021 Repro'] = censo['LR2021 Repro'].replace('VU(EN/VU)', 'VU')\n",
    "\n",
    "censo['Estatus Consolidado'] = censo['Estatus Consolidado'].replace('VU(EN/VU)', 'VU')\n",
    "\n",
    "censo['LR2004'] = censo['LR2004'].replace('EN/VU', 'VU')\n",
    "\n",
    "censo['Average SST month'] = pd.to_numeric(censo['Average SST month'], errors='coerce')\n",
    "\n",
    "censo['SST change'] = pd.to_numeric(censo['SST change'], errors='coerce')\n",
    "\n",
    "censo['Total_MPAs'] = censo['World heritage site'] + censo['SPAMI'] + censo['Marine Natura 2000 site'] + censo['Marine Natura 2000 proposed site'] + censo['MPA with a national statute'] + censo['Biosphere reserve']\n",
    "\n",
    "censo = censo[censo['year'].isin(list(range(2007,2024)))] "
   ]
  },
  {
   "cell_type": "markdown",
   "id": "ce1cd990",
   "metadata": {},
   "source": [
    "## Puebas de normalidad "
   ]
  },
  {
   "cell_type": "markdown",
   "id": "190c38fd",
   "metadata": {},
   "source": [
    "### Shapiro-Wilk"
   ]
  },
  {
   "cell_type": "code",
   "execution_count": 42,
   "id": "37abffe8",
   "metadata": {},
   "outputs": [
    {
     "name": "stdout",
     "output_type": "stream",
     "text": [
      "Shapiro-Wilk (conteos de aves marinas):\n",
      "  Estadístico = 0.7238, p-value = 0.0000\n",
      "  Los datos no parecen seguir una distribución normal\n"
     ]
    }
   ],
   "source": [
    "# Prueba de Shapiro-Wilk para el conteo de aves\n",
    "data = censo['count_aves']\n",
    "\n",
    "# Test de Shapiro-Wilk\n",
    "shapiro_stat_all, shapiro_p_all = stats.shapiro(data)\n",
    "print(f\"Shapiro-Wilk (conteos de aves marinas):\")\n",
    "print(f\"  Estadístico = {shapiro_stat_all:.4f}, p-value = {shapiro_p_all:.4f}\")\n",
    "if shapiro_p_all > 0.05:\n",
    "    print(\"  Los datos parecen seguir una distribución normal\")\n",
    "else:\n",
    "    print(\"  Los datos no parecen seguir una distribución normal\")"
   ]
  },
  {
   "cell_type": "markdown",
   "id": "e4265fe3",
   "metadata": {},
   "source": [
    "### Kolmogorov-Smirnov"
   ]
  },
  {
   "cell_type": "code",
   "execution_count": 43,
   "id": "8afa3e21",
   "metadata": {},
   "outputs": [
    {
     "name": "stdout",
     "output_type": "stream",
     "text": [
      "\n",
      "Kolmogorov-Smirnov (todos los conteos, comparando con N(4.41, 4.05)):\n",
      "  Estadístico = 0.2156, p-value = 0.0000\n",
      "  Los datos no parecen seguir una distribución normal\n",
      "\n",
      "\n"
     ]
    }
   ],
   "source": [
    "# Kolmogorov-Smirnov \n",
    "# Calcula la media y la desviación estándar de tus datos\n",
    "mean_all = data.mean()\n",
    "std_all = data.std()\n",
    "\n",
    "kolmogorov_stat_all, kolmogorov_p_all = stats.kstest(data, 'norm', args=(mean_all, std_all))\n",
    "print(f\"\\nKolmogorov-Smirnov (todos los conteos, comparando con N({mean_all:.2f}, {std_all:.2f})):\")\n",
    "print(f\"  Estadístico = {kolmogorov_stat_all:.4f}, p-value = {kolmogorov_p_all:.4f}\")\n",
    "if kolmogorov_p_all > 0.05:\n",
    "    print(\"  Los datos parecen seguir una distribución normal\")\n",
    "else:\n",
    "    print(\"  Los datos no parecen seguir una distribución normal\")\n",
    "\n",
    "print(\"\\n\")"
   ]
  },
  {
   "cell_type": "markdown",
   "id": "260d9e37",
   "metadata": {},
   "source": [
    "## Graficos para ver la normalidad"
   ]
  },
  {
   "cell_type": "markdown",
   "id": "8b87cd54",
   "metadata": {},
   "source": [
    "### Q-Q Plot"
   ]
  },
  {
   "cell_type": "code",
   "execution_count": 59,
   "id": "d9b2af1c",
   "metadata": {},
   "outputs": [
    {
     "data": {
      "application/vnd.plotly.v1+json": {
       "config": {
        "plotlyServerURL": "https://plot.ly"
       },
       "data": [
        {
         "marker": {
          "color": "blue",
          "size": 8
         },
         "mode": "markers",
         "name": "Cuantiles de la Muestra",
         "type": "scatter",
         "x": {
          "bdata": "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",
          "dtype": "f8"
         },
         "y": {
          "bdata": "AQEBAQEBAQEBAQEBAQEBAQEBAQEBAQEBAQEBAQEBAQEBAQEBAQEBAQEBAQEBAQEBAQEBAQEBAQEBAQEBAQEBAQEBAQEBAQEBAQEBAQEBAQEBAQEBAQEBAQEBAQEBAQEBAQEBAQEBAQEBAQEBAQEBAQEBAQEBAQEBAQEBAQEBAQEBAQEBAQEBAQEBAQEBAQEBAQEBAQEBAQEBAQEBAQEBAQEBAQEBAQEBAQEBAQEBAQEBAQEBAQEBAQEBAQEBAQEBAQEBAQEBAQEBAQEBAQEBAQEBAQEBAQEBAQEBAQEBAQEBAQEBAQEBAQEBAQEBAQEBAQEBAQEBAQEBAQEBAQEBAQEBAQEBAQEBAQEBAQEBAQEBAQEBAQEBAQEBAQEBAQEBAQEBAQEBAQEBAQEBAQEBAQEBAQEBAQEBAQEBAQEBAQEBAQEBAQEBAQEBAQEBAQEBAQEBAQEBAQEBAQEBAQEBAQEBAQEBAQEBAQEBAQEBAQEBAQEBAQEBAQEBAQEBAQEBAQEBAQEBAQEBAQEBAQEBAQEBAQEBAQEBAQEBAQEBAQEBAQEBAQEBAQEBAQEBAQEBAQEBAQEBAQEBAQEBAQEBAQEBAQEBAQEBAQEBAQEBAQEBAQECAgICAgICAgICAgICAgICAgICAgICAgICAgICAgICAgICAgICAgICAgICAgICAgICAgICAgICAgICAgICAgICAgICAgICAgICAgICAgICAgICAgICAgICAgICAgICAgICAgICAgICAgICAgICAgICAgICAgICAgICAgICAgICAgICAgICAgICAgICAgICAgICAgICAgICAgICAgICAgICAgICAgICAgICAgICAgICAgICAgICAgICAgICAgICAgICAgICAgICAgICAgICAgICAgICAgICAgICAgICAgICAgICAgICAgICAgICAgICAgMDAwMDAwMDAwMDAwMDAwMDAwMDAwMDAwMDAwMDAwMDAwMDAwMDAwMDAwMDAwMDAwMDAwMDAwMDAwMDAwMDAwMDAwMDAwMDAwMDAwMDAwMDAwMDAwMDAwMDAwMDAwMDAwMDAwMDAwMDAwMDAwMDAwMDAwMDAwMDAwMDAwMDAwMDAwMDAwMDAwMDAwMDAwMDAwMDAwMDAwMDAwMDAwMDAwMDAwMDAwMDAwMDAwMDAwMDAwMDAwMDAwMDAwMDAwMDAwMDAwMDAwMDBAQEBAQEBAQEBAQEBAQEBAQEBAQEBAQEBAQEBAQEBAQEBAQEBAQEBAQEBAQEBAQEBAQEBAQEBAQEBAQEBAQEBAQEBAQEBAQEBAQEBAQEBAQEBAQEBAQEBAQEBAQEBAQEBAQEBAQEBAQEBAQEBAQEBAQEBAQEBAQEBAQEBAQEBAQEBAQEBAQEBAQEBAQEBAQEBAQEBAQEBAQEBAQEBAQEBAQEBAQEBAQEBAQEBAQEBAQEBAQEBAQEBAUFBQUFBQUFBQUFBQUFBQUFBQUFBQUFBQUFBQUFBQUFBQUFBQUFBQUFBQUFBQUFBQUFBQUFBQUFBQUFBQUFBQUFBQUFBQUFBQUFBQUFBQUFBQUFBQUFBQUFBQUFBQUFBQUFBQUFBQUFBQUFBQUFBQUFBQUFBQUFBQUFBQUFBQUFBQUFBQUFBQUFBQUFBQUFBQUFBQUFBQUFBQUFBQUFBQUFBQUFBQUFBQUFBQUFBQUFBQUFBQUFBQUFBQUFBQUFBQYGBgYGBgYGBgYGBgYGBgYGBgYGBgYGBgYGBgYGBgYGBgYGBgYGBgYGBgYGBgYGBgYGBgYGBgYGBgYGBgYGBgYGBgYGBgYGBgYGBgYGBgYGBgYGBgYGBgYGBgYGBgYGBgYGBgYGBgYGBgYGBgYGBgYGBgYGBgYGBgYGBgYGBgYGBgYGBgYGBgYGBgYGBgYGBgYGBgYGBgYGBgYGBgYGBgYGBgYGBgYGBgYGBgYGBgYGBgYGBgYGBgYGBgYGBgYGBgYGBgYGBgYGBgYGBgYGBgYGBgYGBgYGBgYGBgYGBgYGBgYGBgYGBgYGBgYGBgYGBgYGBgYGBgYGBgYGBgYGBgYGBgYGBgYGBgYGBgYGBgYGBgYGBgYGBgYGBgYGBgYGBgYGBgYGBgYGBgYGBgYGBgYGBgYGBgYGBgYGBgYGBgYGBgYGBgYGBgYGBwcHBwcHBwcHBwcHBwcHBwcHBwcHBwcHBwcHBwcHBwcHBwcHBwcHBwgICAgICAgICAgICAgICAgICAgICAgICAgICQkJCQkJCQkJCQkJCQkJCQkJCQkKCgoKCgoKCgoKCgoKCgoKCgoKCgoKCgoKCgsLCwsLCwsLCwsLCwwMDAwMDAwMDAwMDAwMDAwMDAwMDAwMDA0NDQ0NDQ0NDQ0NDQ0NDQ0NDg4ODg4ODg4ODg4ODg4ODg4ODg4PDw8PDw8PDw8PDw8PDw8PDw8PDw8PDw8PDw8PDw8PDw8PEBAQERISEhISExQUFBQWFxkaHh8fHyIjOg==",
          "dtype": "i1"
         }
        },
        {
         "line": {
          "color": "red",
          "dash": "dash"
         },
         "mode": "lines",
         "name": "Línea de Referencia Normal",
         "type": "scatter",
         "x": {
          "bdata": "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",
          "dtype": "f8"
         },
         "y": {
          "bdata": "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",
          "dtype": "f8"
         }
        }
       ],
       "layout": {
        "height": 500,
        "showlegend": true,
        "template": {
         "data": {
          "bar": [
           {
            "error_x": {
             "color": "#2a3f5f"
            },
            "error_y": {
             "color": "#2a3f5f"
            },
            "marker": {
             "line": {
              "color": "white",
              "width": 0.5
             },
             "pattern": {
              "fillmode": "overlay",
              "size": 10,
              "solidity": 0.2
             }
            },
            "type": "bar"
           }
          ],
          "barpolar": [
           {
            "marker": {
             "line": {
              "color": "white",
              "width": 0.5
             },
             "pattern": {
              "fillmode": "overlay",
              "size": 10,
              "solidity": 0.2
             }
            },
            "type": "barpolar"
           }
          ],
          "carpet": [
           {
            "aaxis": {
             "endlinecolor": "#2a3f5f",
             "gridcolor": "#C8D4E3",
             "linecolor": "#C8D4E3",
             "minorgridcolor": "#C8D4E3",
             "startlinecolor": "#2a3f5f"
            },
            "baxis": {
             "endlinecolor": "#2a3f5f",
             "gridcolor": "#C8D4E3",
             "linecolor": "#C8D4E3",
             "minorgridcolor": "#C8D4E3",
             "startlinecolor": "#2a3f5f"
            },
            "type": "carpet"
           }
          ],
          "choropleth": [
           {
            "colorbar": {
             "outlinewidth": 0,
             "ticks": ""
            },
            "type": "choropleth"
           }
          ],
          "contour": [
           {
            "colorbar": {
             "outlinewidth": 0,
             "ticks": ""
            },
            "colorscale": [
             [
              0,
              "#0d0887"
             ],
             [
              0.1111111111111111,
              "#46039f"
             ],
             [
              0.2222222222222222,
              "#7201a8"
             ],
             [
              0.3333333333333333,
              "#9c179e"
             ],
             [
              0.4444444444444444,
              "#bd3786"
             ],
             [
              0.5555555555555556,
              "#d8576b"
             ],
             [
              0.6666666666666666,
              "#ed7953"
             ],
             [
              0.7777777777777778,
              "#fb9f3a"
             ],
             [
              0.8888888888888888,
              "#fdca26"
             ],
             [
              1,
              "#f0f921"
             ]
            ],
            "type": "contour"
           }
          ],
          "contourcarpet": [
           {
            "colorbar": {
             "outlinewidth": 0,
             "ticks": ""
            },
            "type": "contourcarpet"
           }
          ],
          "heatmap": [
           {
            "colorbar": {
             "outlinewidth": 0,
             "ticks": ""
            },
            "colorscale": [
             [
              0,
              "#0d0887"
             ],
             [
              0.1111111111111111,
              "#46039f"
             ],
             [
              0.2222222222222222,
              "#7201a8"
             ],
             [
              0.3333333333333333,
              "#9c179e"
             ],
             [
              0.4444444444444444,
              "#bd3786"
             ],
             [
              0.5555555555555556,
              "#d8576b"
             ],
             [
              0.6666666666666666,
              "#ed7953"
             ],
             [
              0.7777777777777778,
              "#fb9f3a"
             ],
             [
              0.8888888888888888,
              "#fdca26"
             ],
             [
              1,
              "#f0f921"
             ]
            ],
            "type": "heatmap"
           }
          ],
          "histogram": [
           {
            "marker": {
             "pattern": {
              "fillmode": "overlay",
              "size": 10,
              "solidity": 0.2
             }
            },
            "type": "histogram"
           }
          ],
          "histogram2d": [
           {
            "colorbar": {
             "outlinewidth": 0,
             "ticks": ""
            },
            "colorscale": [
             [
              0,
              "#0d0887"
             ],
             [
              0.1111111111111111,
              "#46039f"
             ],
             [
              0.2222222222222222,
              "#7201a8"
             ],
             [
              0.3333333333333333,
              "#9c179e"
             ],
             [
              0.4444444444444444,
              "#bd3786"
             ],
             [
              0.5555555555555556,
              "#d8576b"
             ],
             [
              0.6666666666666666,
              "#ed7953"
             ],
             [
              0.7777777777777778,
              "#fb9f3a"
             ],
             [
              0.8888888888888888,
              "#fdca26"
             ],
             [
              1,
              "#f0f921"
             ]
            ],
            "type": "histogram2d"
           }
          ],
          "histogram2dcontour": [
           {
            "colorbar": {
             "outlinewidth": 0,
             "ticks": ""
            },
            "colorscale": [
             [
              0,
              "#0d0887"
             ],
             [
              0.1111111111111111,
              "#46039f"
             ],
             [
              0.2222222222222222,
              "#7201a8"
             ],
             [
              0.3333333333333333,
              "#9c179e"
             ],
             [
              0.4444444444444444,
              "#bd3786"
             ],
             [
              0.5555555555555556,
              "#d8576b"
             ],
             [
              0.6666666666666666,
              "#ed7953"
             ],
             [
              0.7777777777777778,
              "#fb9f3a"
             ],
             [
              0.8888888888888888,
              "#fdca26"
             ],
             [
              1,
              "#f0f921"
             ]
            ],
            "type": "histogram2dcontour"
           }
          ],
          "mesh3d": [
           {
            "colorbar": {
             "outlinewidth": 0,
             "ticks": ""
            },
            "type": "mesh3d"
           }
          ],
          "parcoords": [
           {
            "line": {
             "colorbar": {
              "outlinewidth": 0,
              "ticks": ""
             }
            },
            "type": "parcoords"
           }
          ],
          "pie": [
           {
            "automargin": true,
            "type": "pie"
           }
          ],
          "scatter": [
           {
            "fillpattern": {
             "fillmode": "overlay",
             "size": 10,
             "solidity": 0.2
            },
            "type": "scatter"
           }
          ],
          "scatter3d": [
           {
            "line": {
             "colorbar": {
              "outlinewidth": 0,
              "ticks": ""
             }
            },
            "marker": {
             "colorbar": {
              "outlinewidth": 0,
              "ticks": ""
             }
            },
            "type": "scatter3d"
           }
          ],
          "scattercarpet": [
           {
            "marker": {
             "colorbar": {
              "outlinewidth": 0,
              "ticks": ""
             }
            },
            "type": "scattercarpet"
           }
          ],
          "scattergeo": [
           {
            "marker": {
             "colorbar": {
              "outlinewidth": 0,
              "ticks": ""
             }
            },
            "type": "scattergeo"
           }
          ],
          "scattergl": [
           {
            "marker": {
             "colorbar": {
              "outlinewidth": 0,
              "ticks": ""
             }
            },
            "type": "scattergl"
           }
          ],
          "scattermap": [
           {
            "marker": {
             "colorbar": {
              "outlinewidth": 0,
              "ticks": ""
             }
            },
            "type": "scattermap"
           }
          ],
          "scattermapbox": [
           {
            "marker": {
             "colorbar": {
              "outlinewidth": 0,
              "ticks": ""
             }
            },
            "type": "scattermapbox"
           }
          ],
          "scatterpolar": [
           {
            "marker": {
             "colorbar": {
              "outlinewidth": 0,
              "ticks": ""
             }
            },
            "type": "scatterpolar"
           }
          ],
          "scatterpolargl": [
           {
            "marker": {
             "colorbar": {
              "outlinewidth": 0,
              "ticks": ""
             }
            },
            "type": "scatterpolargl"
           }
          ],
          "scatterternary": [
           {
            "marker": {
             "colorbar": {
              "outlinewidth": 0,
              "ticks": ""
             }
            },
            "type": "scatterternary"
           }
          ],
          "surface": [
           {
            "colorbar": {
             "outlinewidth": 0,
             "ticks": ""
            },
            "colorscale": [
             [
              0,
              "#0d0887"
             ],
             [
              0.1111111111111111,
              "#46039f"
             ],
             [
              0.2222222222222222,
              "#7201a8"
             ],
             [
              0.3333333333333333,
              "#9c179e"
             ],
             [
              0.4444444444444444,
              "#bd3786"
             ],
             [
              0.5555555555555556,
              "#d8576b"
             ],
             [
              0.6666666666666666,
              "#ed7953"
             ],
             [
              0.7777777777777778,
              "#fb9f3a"
             ],
             [
              0.8888888888888888,
              "#fdca26"
             ],
             [
              1,
              "#f0f921"
             ]
            ],
            "type": "surface"
           }
          ],
          "table": [
           {
            "cells": {
             "fill": {
              "color": "#EBF0F8"
             },
             "line": {
              "color": "white"
             }
            },
            "header": {
             "fill": {
              "color": "#C8D4E3"
             },
             "line": {
              "color": "white"
             }
            },
            "type": "table"
           }
          ]
         },
         "layout": {
          "annotationdefaults": {
           "arrowcolor": "#2a3f5f",
           "arrowhead": 0,
           "arrowwidth": 1
          },
          "autotypenumbers": "strict",
          "coloraxis": {
           "colorbar": {
            "outlinewidth": 0,
            "ticks": ""
           }
          },
          "colorscale": {
           "diverging": [
            [
             0,
             "#8e0152"
            ],
            [
             0.1,
             "#c51b7d"
            ],
            [
             0.2,
             "#de77ae"
            ],
            [
             0.3,
             "#f1b6da"
            ],
            [
             0.4,
             "#fde0ef"
            ],
            [
             0.5,
             "#f7f7f7"
            ],
            [
             0.6,
             "#e6f5d0"
            ],
            [
             0.7,
             "#b8e186"
            ],
            [
             0.8,
             "#7fbc41"
            ],
            [
             0.9,
             "#4d9221"
            ],
            [
             1,
             "#276419"
            ]
           ],
           "sequential": [
            [
             0,
             "#0d0887"
            ],
            [
             0.1111111111111111,
             "#46039f"
            ],
            [
             0.2222222222222222,
             "#7201a8"
            ],
            [
             0.3333333333333333,
             "#9c179e"
            ],
            [
             0.4444444444444444,
             "#bd3786"
            ],
            [
             0.5555555555555556,
             "#d8576b"
            ],
            [
             0.6666666666666666,
             "#ed7953"
            ],
            [
             0.7777777777777778,
             "#fb9f3a"
            ],
            [
             0.8888888888888888,
             "#fdca26"
            ],
            [
             1,
             "#f0f921"
            ]
           ],
           "sequentialminus": [
            [
             0,
             "#0d0887"
            ],
            [
             0.1111111111111111,
             "#46039f"
            ],
            [
             0.2222222222222222,
             "#7201a8"
            ],
            [
             0.3333333333333333,
             "#9c179e"
            ],
            [
             0.4444444444444444,
             "#bd3786"
            ],
            [
             0.5555555555555556,
             "#d8576b"
            ],
            [
             0.6666666666666666,
             "#ed7953"
            ],
            [
             0.7777777777777778,
             "#fb9f3a"
            ],
            [
             0.8888888888888888,
             "#fdca26"
            ],
            [
             1,
             "#f0f921"
            ]
           ]
          },
          "colorway": [
           "#636efa",
           "#EF553B",
           "#00cc96",
           "#ab63fa",
           "#FFA15A",
           "#19d3f3",
           "#FF6692",
           "#B6E880",
           "#FF97FF",
           "#FECB52"
          ],
          "font": {
           "color": "#2a3f5f"
          },
          "geo": {
           "bgcolor": "white",
           "lakecolor": "white",
           "landcolor": "white",
           "showlakes": true,
           "showland": true,
           "subunitcolor": "#C8D4E3"
          },
          "hoverlabel": {
           "align": "left"
          },
          "hovermode": "closest",
          "mapbox": {
           "style": "light"
          },
          "paper_bgcolor": "white",
          "plot_bgcolor": "white",
          "polar": {
           "angularaxis": {
            "gridcolor": "#EBF0F8",
            "linecolor": "#EBF0F8",
            "ticks": ""
           },
           "bgcolor": "white",
           "radialaxis": {
            "gridcolor": "#EBF0F8",
            "linecolor": "#EBF0F8",
            "ticks": ""
           }
          },
          "scene": {
           "xaxis": {
            "backgroundcolor": "white",
            "gridcolor": "#DFE8F3",
            "gridwidth": 2,
            "linecolor": "#EBF0F8",
            "showbackground": true,
            "ticks": "",
            "zerolinecolor": "#EBF0F8"
           },
           "yaxis": {
            "backgroundcolor": "white",
            "gridcolor": "#DFE8F3",
            "gridwidth": 2,
            "linecolor": "#EBF0F8",
            "showbackground": true,
            "ticks": "",
            "zerolinecolor": "#EBF0F8"
           },
           "zaxis": {
            "backgroundcolor": "white",
            "gridcolor": "#DFE8F3",
            "gridwidth": 2,
            "linecolor": "#EBF0F8",
            "showbackground": true,
            "ticks": "",
            "zerolinecolor": "#EBF0F8"
           }
          },
          "shapedefaults": {
           "line": {
            "color": "#2a3f5f"
           }
          },
          "ternary": {
           "aaxis": {
            "gridcolor": "#DFE8F3",
            "linecolor": "#A2B1C6",
            "ticks": ""
           },
           "baxis": {
            "gridcolor": "#DFE8F3",
            "linecolor": "#A2B1C6",
            "ticks": ""
           },
           "bgcolor": "white",
           "caxis": {
            "gridcolor": "#DFE8F3",
            "linecolor": "#A2B1C6",
            "ticks": ""
           }
          },
          "title": {
           "x": 0.05
          },
          "xaxis": {
           "automargin": true,
           "gridcolor": "#EBF0F8",
           "linecolor": "#EBF0F8",
           "ticks": "",
           "title": {
            "standoff": 15
           },
           "zerolinecolor": "#EBF0F8",
           "zerolinewidth": 2
          },
          "yaxis": {
           "automargin": true,
           "gridcolor": "#EBF0F8",
           "linecolor": "#EBF0F8",
           "ticks": "",
           "title": {
            "standoff": 15
           },
           "zerolinecolor": "#EBF0F8",
           "zerolinewidth": 2
          }
         }
        },
        "title": {
         "text": "Gráfico Q-Q de Todos los Conteos"
        },
        "width": 900,
        "xaxis": {
         "title": {
          "text": "Cuantiles Teóricos (Normal)"
         }
        },
        "yaxis": {
         "title": {
          "text": "Cuantiles de la Muestra"
         }
        }
       }
      }
     },
     "metadata": {},
     "output_type": "display_data"
    }
   ],
   "source": [
    "#Seleccionamos los datos que voy a usar\n",
    "data_to_plot_all = censo['count_aves']\n",
    "\n",
    "# Generar los datos para el Q-Q plot\n",
    "qq_data = stats.probplot(data_to_plot_all, dist=\"norm\")\n",
    "x_qq = qq_data[0][0] # Cuantiles teóricos\n",
    "y_qq = qq_data[0][1] # Cuantiles de la muestra\n",
    "slope = qq_data[1][0] # Pendiente de la línea de referencia\n",
    "intercept = qq_data[1][1] # Intercepto de la línea de referencia\n",
    "\n",
    "# Crear el gráfico Q-Q\n",
    "fig_qq_all = go.Figure()\n",
    "\n",
    "# Añadir los puntos de los datos\n",
    "fig_qq_all.add_trace(go.Scatter(\n",
    "    x=x_qq,\n",
    "    y=y_qq,\n",
    "    mode='markers',\n",
    "    name='Cuantiles de la Muestra',\n",
    "    marker=dict(color='blue', size=8)\n",
    "))\n",
    "\n",
    "# Añadir la línea de referencia normal \n",
    "fig_qq_all.add_trace(go.Scatter(\n",
    "    x=x_qq,\n",
    "    y=slope * x_qq + intercept, # Línea de referencia\n",
    "    mode='lines',\n",
    "    name='Línea de Referencia Normal',\n",
    "    line=dict(color='red', dash='dash')\n",
    "))\n",
    "\n",
    "fig_qq_all.update_layout(\n",
    "    title='Gráfico Q-Q de Todos los Conteos',\n",
    "    xaxis_title='Cuantiles Teóricos (Normal)',\n",
    "    yaxis_title='Cuantiles de la Muestra',\n",
    "    template='plotly_white',\n",
    "    showlegend=True,\n",
    "     width=900,  \n",
    "    height=500 \n",
    ")\n",
    "fig_qq_all.show()"
   ]
  },
  {
   "cell_type": "code",
   "execution_count": 45,
   "id": "02551dc1",
   "metadata": {},
   "outputs": [
    {
     "data": {
      "application/vnd.plotly.v1+json": {
       "config": {
        "plotlyServerURL": "https://plot.ly"
       },
       "data": [
        {
         "alignmentgroup": "True",
         "hovertemplate": "year=%{x}<br>count_aves=%{y}<extra></extra>",
         "legendgroup": "2007",
         "marker": {
          "color": "#636efa"
         },
         "name": "2007",
         "notched": false,
         "offsetgroup": "2007",
         "orientation": "v",
         "showlegend": true,
         "type": "box",
         "x": {
          "bdata": "1wfXB9cH1wfXB9cH1wfXB9cH1wfXB9cH1wfXB9cH1wfXB9cH1wfXB9cH1wfXB9cH1wfXB9cH1wfXB9cH1wfXB9cH1wfXB9cH1wfXB9cH1wfXB9cH1wfXB9cH1wfXB9cH1wfXB9cH1wfXB9cH1wfXB9cH1wfXB9cH1wfXB9cH1wfXB9cH1wfXB9cH1wfXB9cH1wfXB9cH1wfXB9cH1wfXB9cH1wfXB9cH1wfXB9cH1wfXB9cH1wfXB9cH1wfXB9cH1wfXB9cH1wfXB9cH1wfXB9cH1wfXB9cH1wfXB9cH1wfXB9cH1wfXB9cH1wfXB9cH1wfXB9cH1wfXB9cH",
          "dtype": "i2"
         },
         "x0": " ",
         "xaxis": "x",
         "y": {
          "bdata": "CQQFDA0NBw8GBAIKBQUBAwEFBQYGBgQGCgYEAgYEBgYBAw4BBQIEBQIEAQEPDwMPAQUPAwIPBgEJDAECASIBBg0HDwYHCgULCAgODgIHBgUJAwMBBQ4QAQ0GAQEFASMFDw8SAQMGAg8NEAMfAQ0ODQ0GDgUIDx4BAQUDCg4G",
          "dtype": "i1"
         },
         "y0": " ",
         "yaxis": "y"
        },
        {
         "alignmentgroup": "True",
         "hovertemplate": "year=%{x}<br>count_aves=%{y}<extra></extra>",
         "legendgroup": "2008",
         "marker": {
          "color": "#EF553B"
         },
         "name": "2008",
         "notched": false,
         "offsetgroup": "2008",
         "orientation": "v",
         "showlegend": true,
         "type": "box",
         "x": {
          "bdata": "2AfYB9gH2AfYB9gH2AfYB9gH2AfYB9gH2AfYB9gH2AfYB9gH2AfYB9gH2AfYB9gH2AfYB9gH2AfYB9gH2AfYB9gH2AfYB9gH2AfYB9gH2AfYB9gH2AfYB9gH2AfYB9gH2AfYB9gH2AfYB9gH2AfYB9gH2AfYB9gH2AfYB9gH2AfYB9gH2AfYB9gH2AfYB9gH2AfYB9gH2AfYB9gH2AfYB9gH2AfYB9gH2AfYB9gH2AfYB9gH2AfYB9gH2AfYB9gH2AfYB9gH2AfYB9gH2AfYB9gH2AfYB9gH2AfYB9gH2AfYB9gH2AfYB9gH2AfYB9gH2AfYB9gH2AfYBw==",
          "dtype": "i2"
         },
         "x0": " ",
         "xaxis": "x",
         "y": {
          "bdata": "AQgEBxcLAQIHBQ8GBgEHHwMDBAgCDwYNCRIMHwUDAQwBDQYEDAYUAQwaBQIBFAIBBgICBQYPCQcBAQQEBAkBCwYPBQ4BCQoMBgwEBQgBAw8NCgYBBwMBBAIHDgIOAQMCAwEPDQQGCAQDAg8CAQMMAQcGDwYJDxQCAQQHDgY=",
          "dtype": "i1"
         },
         "y0": " ",
         "yaxis": "y"
        },
        {
         "alignmentgroup": "True",
         "hovertemplate": "year=%{x}<br>count_aves=%{y}<extra></extra>",
         "legendgroup": "2009",
         "marker": {
          "color": "#00cc96"
         },
         "name": "2009",
         "notched": false,
         "offsetgroup": "2009",
         "orientation": "v",
         "showlegend": true,
         "type": "box",
         "x": {
          "bdata": "2QfZB9kH2QfZB9kH2QfZB9kH2QfZB9kH2QfZB9kH2QfZB9kH2QfZB9kH2QfZB9kH2QfZB9kH2QfZB9kH2QfZB9kH2QfZB9kH2QfZB9kH2QfZB9kH2QfZB9kH2QfZB9kH2QfZB9kH2QfZB9kH2QfZB9kH2QfZB9kH2QfZB9kH2QfZB9kH2QfZB9kH2QfZB9kH2QfZB9kH2QfZB9kH2QfZB9kH2QfZB9kH2QfZB9kH2QfZB9kH2QfZB9kH2QfZB9kH2QfZB9kH2QfZB9kH2QfZB9kH2QfZB9kH2QfZB9kH2QfZB9kH2QfZB9kH2QfZB9kH2QfZB9kH2QfZB9kH2QfZB9kH2Qc=",
          "dtype": "i2"
         },
         "x0": " ",
         "xaxis": "x",
         "y": {
          "bdata": "CAYHCg4BBAUDBQEPBgoHCgYTBQwEDQoMBgEFDw4ZAwwBCxEBCwIBBgUBCAcJCQgFAQEBCgIHAQYDBA8EBQEBAgEIAgEMAg8GAwsKARYCAQEKCw4GAQIDAggCAQMCAgMCCA4PCgQBAgMBDgECDgwBDQECDQ8SDwYLBQIHEgQHBgUPBg==",
          "dtype": "i1"
         },
         "y0": " ",
         "yaxis": "y"
        },
        {
         "alignmentgroup": "True",
         "hovertemplate": "year=%{x}<br>count_aves=%{y}<extra></extra>",
         "legendgroup": "2010",
         "marker": {
          "color": "#ab63fa"
         },
         "name": "2010",
         "notched": false,
         "offsetgroup": "2010",
         "orientation": "v",
         "showlegend": true,
         "type": "box",
         "x": {
          "bdata": "2gfaB9oH2gfaB9oH2gfaB9oH2gfaB9oH2gfaB9oH2gfaB9oH2gfaB9oH2gfaB9oH2gfaB9oH2gfaB9oH2gfaB9oH2gfaB9oH2gfaB9oH2gfaB9oH2gfaB9oH2gfaB9oH2gfaB9oH2gfaB9oH2gfaB9oH2gfaB9oH2gfaB9oH2gfaB9oH2gfaB9oH2gfaB9oH2gfaB9oH2gfaB9oH2gfaB9oH2gfaB9oH2gfaB9oH2gfaB9oH2gfaB9oH2gfaB9oH2gfaB9oH2gfaB9oH2gfaB9oH2gfaB9oH2gfaB9oH2gfaB9oH2gfaB9oH",
          "dtype": "i2"
         },
         "x0": " ",
         "xaxis": "x",
         "y": {
          "bdata": "DAcDEgQOAQkGAQ8GCgsGEAQBAggKAQ8GBg8LDgIBBgwPBgMBCQkHBwEBAQgEAwIBBgIKAwEMAgEIAQoDAgcBDQYDCgIUAQwEDAYEBgkEAQkHAgEBAgQBAQEFAQIBBQUHAgQCAwsDBQYGAwYCAwUJAQEBBgMF",
          "dtype": "i1"
         },
         "y0": " ",
         "yaxis": "y"
        },
        {
         "alignmentgroup": "True",
         "hovertemplate": "year=%{x}<br>count_aves=%{y}<extra></extra>",
         "legendgroup": "2011",
         "marker": {
          "color": "#FFA15A"
         },
         "name": "2011",
         "notched": false,
         "offsetgroup": "2011",
         "orientation": "v",
         "showlegend": true,
         "type": "box",
         "x": {
          "bdata": "2wfbB9sH2wfbB9sH2wfbB9sH2wfbB9sH2wfbB9sH2wfbB9sH2wfbB9sH2wfbB9sH2wfbB9sH2wfbB9sH2wfbB9sH2wfbB9sH2wfbB9sH2wfbB9sH2wfbB9sH2wfbB9sH2wfbB9sH2wfbB9sH2wfbB9sH2wfbB9sH2wfbB9sH2wfbB9sH2wfbB9sH2wfbB9sH2wfbB9sH2wfbB9sH2wfbB9sH2wfbB9sH2wfbB9sH2wfbB9sH2wfbB9sH2wfbB9sH2wfbB9sH2wfbB9sH2wfbB9sH2wfbB9sH2wfbB9sH2wfbB9sH2wfbB9sH2wfbBw==",
          "dtype": "i2"
         },
         "x0": " ",
         "xaxis": "x",
         "y": {
          "bdata": "BgMGBQkGBAQCBgECAgYECgEBBQICBgUGBgkBAQEGBQMFAQIDAQEBAQUDAQQDAQYHAgMCAwUGAQMGAwMBAQgBAQYFBQIBAggDBAMGBgICAwEDAQYFBAMBAQgCAQIBBgUCAQQEAwIDAgEEBQQEAwYEDgECAwUGBQY=",
          "dtype": "i1"
         },
         "y0": " ",
         "yaxis": "y"
        },
        {
         "alignmentgroup": "True",
         "hovertemplate": "year=%{x}<br>count_aves=%{y}<extra></extra>",
         "legendgroup": "2012",
         "marker": {
          "color": "#19d3f3"
         },
         "name": "2012",
         "notched": false,
         "offsetgroup": "2012",
         "orientation": "v",
         "showlegend": true,
         "type": "box",
         "x": {
          "bdata": "3AfcB9wH3AfcB9wH3AfcB9wH3AfcB9wH3AfcB9wH3AfcB9wH3AfcB9wH3AfcB9wH3AfcB9wH3AfcB9wH3AfcB9wH3AfcB9wH3AfcB9wH3AfcB9wH3AfcB9wH3AfcB9wH3AfcB9wH3AfcB9wH3AfcB9wH3AfcB9wH3AfcB9wH3AfcB9wH3AfcB9wH3AfcB9wH3AfcB9wH3AfcB9wH3AfcB9wH3AfcB9wH3AfcB9wH3AfcB9wH3AfcB9wH3Ac=",
          "dtype": "i2"
         },
         "x0": " ",
         "xaxis": "x",
         "y": {
          "bdata": "BAECDAEEAgIFAgIEBAEFBgYGBAEGBgYEAgYGBQMGAQQCAgEGBgMGBQEBBgYGAgYKAQEEBgYGAgUFBQQGBgEDBgMGBgEBAQMFAQQBBgYBBQIGBAUGBQMFBQYBAwMFBQ==",
          "dtype": "i1"
         },
         "y0": " ",
         "yaxis": "y"
        },
        {
         "alignmentgroup": "True",
         "hovertemplate": "year=%{x}<br>count_aves=%{y}<extra></extra>",
         "legendgroup": "2013",
         "marker": {
          "color": "#FF6692"
         },
         "name": "2013",
         "notched": false,
         "offsetgroup": "2013",
         "orientation": "v",
         "showlegend": true,
         "type": "box",
         "x": {
          "bdata": "3QfdB90H3QfdB90H3QfdB90H3QfdB90H3QfdB90H3QfdB90H3QfdB90H3QfdB90H3QfdB90H3QfdB90H3QfdB90H3QfdB90H3QfdB90H3QfdB90H3QfdB90H3QfdB90H3QfdB90H3QfdB90H3QfdB90H3QfdB90H3QfdB90H3QfdB90H3QfdB90H3QfdB90H3QfdB90H3QfdB90H3QfdB90H3QfdB90H3QfdB90H3QfdBw==",
          "dtype": "i2"
         },
         "x0": " ",
         "xaxis": "x",
         "y": {
          "bdata": "AwQFAgEBAQMFAwICBwIEBgYGAQQBAwEBBQUGBAYBAgEFAQEDAwQDBQQBAwEGAQIEAQEBAgMBBgYEAQQBAwEDAgEFBgYBAQYEAQEGBQUBBAQDBgUGAQMBAwY=",
          "dtype": "i1"
         },
         "y0": " ",
         "yaxis": "y"
        },
        {
         "alignmentgroup": "True",
         "hovertemplate": "year=%{x}<br>count_aves=%{y}<extra></extra>",
         "legendgroup": "2014",
         "marker": {
          "color": "#B6E880"
         },
         "name": "2014",
         "notched": false,
         "offsetgroup": "2014",
         "orientation": "v",
         "showlegend": true,
         "type": "box",
         "x": {
          "bdata": "3gfeB94H3gfeB94H3gfeB94H3gfeB94H3gfeB94H3gfeB94H3gfeB94H3gfeB94H3gfeB94H3gfeB94H3gfeB94H3gfeB94H3gfeB94H3gfeB94H3gfeB94H3gfeB94H3gfeB94H3gfeB94H3gfeB94H3gfeB94H3gfeB94H3gfeB94H3gfeB94H3gfeB94H3gfeB94H3gfeB94H3gfeB94H3gfeB94H3gfeB94H3gfeB94H3gfeB94H3gfeB94H3gfeB94H3gfeB94H3gfeB94H3gfeBw==",
          "dtype": "i2"
         },
         "x0": " ",
         "xaxis": "x",
         "y": {
          "bdata": "BgIFBAcBAQEDAwEGBgMDBAcBBgIGBgUGBAIBAgUFBgUEAgYFCAECAgYGBQYBBQQBAgMCBAECBgEKAQEGBgYBAQIBAwIGBAIEAwYFAQEEAwEDAgEGBQEEBgQBBQEBBgUGBgUGBQUPAQEEBQY=",
          "dtype": "i1"
         },
         "y0": " ",
         "yaxis": "y"
        },
        {
         "alignmentgroup": "True",
         "hovertemplate": "year=%{x}<br>count_aves=%{y}<extra></extra>",
         "legendgroup": "2015",
         "marker": {
          "color": "#FF97FF"
         },
         "name": "2015",
         "notched": false,
         "offsetgroup": "2015",
         "orientation": "v",
         "showlegend": true,
         "type": "box",
         "x": {
          "bdata": "3wffB98H3wffB98H3wffB98H3wffB98H3wffB98H3wffB98H3wffB98H3wffB98H3wffB98H3wffB98H3wffB98H3wffB98H3wffB98H3wffB98H3wffB98H3wffB98H3wffB98H3wffB98H3wffB98H3wffB98H3wffB98H3wffB98H3wffB98H3wffB98H3wffB98H3wffB98H3wffB98H3wffB98H3wffB98H3wffB98H3wffB98H3wffB98H3wc=",
          "dtype": "i2"
         },
         "x0": " ",
         "xaxis": "x",
         "y": {
          "bdata": "BgQGBwEBBgYEBgUIAQEBBAMCBgYBBgMDAQEBBAIDBgIGBgQBAQUGAgUBBgEGAgICAwEGAgYDAQUBAQMGBAQEAQEGAQIGAQEBAgYCBgEDAQQFAgYCAwQFBgYGBQYHBQYCBg==",
          "dtype": "i1"
         },
         "y0": " ",
         "yaxis": "y"
        },
        {
         "alignmentgroup": "True",
         "hovertemplate": "year=%{x}<br>count_aves=%{y}<extra></extra>",
         "legendgroup": "2016",
         "marker": {
          "color": "#FECB52"
         },
         "name": "2016",
         "notched": false,
         "offsetgroup": "2016",
         "orientation": "v",
         "showlegend": true,
         "type": "box",
         "x": {
          "bdata": "4AfgB+AH4AfgB+AH4AfgB+AH4AfgB+AH4AfgB+AH4AfgB+AH4AfgB+AH4AfgB+AH4AfgB+AH4AfgB+AH4AfgB+AH4AfgB+AH4AfgB+AH4AfgB+AH4AfgB+AH4AfgB+AH4AfgB+AH4AfgB+AH4AfgB+AH4AfgB+AH4AfgB+AH4AfgB+AH4AfgB+AH4AfgB+AH4AfgB+AH4AfgB+AH4AfgB+AH4AfgB+AH4AfgB+AH4AfgB+AH4AfgB+AH4AfgB+AH4AfgB+AH4AfgB+AH4AfgBw==",
          "dtype": "i2"
         },
         "x0": " ",
         "xaxis": "x",
         "y": {
          "bdata": "BgEEBwIBAwQCBgQBAgMEAQEDBQUEBgMFAQECAwEGAwUGBQQBBgYEAQUBAQYGBgEBAQEBBgIGBgECAwYGBgYBAwEEBgUEAgUDAQIDAwEEAQEBAQEDBQMEAwIDAwMBBAIEBgMMAQECBAQ=",
          "dtype": "i1"
         },
         "y0": " ",
         "yaxis": "y"
        },
        {
         "alignmentgroup": "True",
         "hovertemplate": "year=%{x}<br>count_aves=%{y}<extra></extra>",
         "legendgroup": "2017",
         "marker": {
          "color": "#636efa"
         },
         "name": "2017",
         "notched": false,
         "offsetgroup": "2017",
         "orientation": "v",
         "showlegend": true,
         "type": "box",
         "x": {
          "bdata": "4QfhB+EH4QfhB+EH4QfhB+EH4QfhB+EH4QfhB+EH4QfhB+EH4QfhB+EH4QfhB+EH4QfhB+EH4QfhB+EH4QfhB+EH4QfhB+EH4QfhB+EH4QfhB+EH4QfhB+EH4QfhB+EH4QfhB+EH4QfhB+EH4QfhB+EH4QfhB+EH4QfhB+EH4QfhB+EH4QfhB+EH4QfhB+EH4QfhB+EH4QfhB+EH4QfhB+EH4QfhB+EH4QfhB+EH4QfhB+EH4QfhB+EH4QfhB+EH4QfhB+EH4QfhB+EH4Qc=",
          "dtype": "i2"
         },
         "x0": " ",
         "xaxis": "x",
         "y": {
          "bdata": "BgMFAgcBBAYDBgQCAgMEAgEFBgYCBQYEAwEGBgEGAQYGBgEDBQEBBgUBAgUEAQYBBQYBAwEMAQEGBgYFAwEDAwYDBgcBBgQCAwMFAQIFBAICBgIGAgQEAwEFAwUGBQQBAQEBAgEBBA==",
          "dtype": "i1"
         },
         "y0": " ",
         "yaxis": "y"
        },
        {
         "alignmentgroup": "True",
         "hovertemplate": "year=%{x}<br>count_aves=%{y}<extra></extra>",
         "legendgroup": "2018",
         "marker": {
          "color": "#EF553B"
         },
         "name": "2018",
         "notched": false,
         "offsetgroup": "2018",
         "orientation": "v",
         "showlegend": true,
         "type": "box",
         "x": {
          "bdata": "4gfiB+IH4gfiB+IH4gfiB+IH4gfiB+IH4gfiB+IH4gfiB+IH4gfiB+IH4gfiB+IH4gfiB+IH4gfiB+IH4gfiB+IH4gfiB+IH4gfiB+IH4gfiB+IH4gfiB+IH4gfiB+IH4gfiB+IH4gfiB+IH4gfiB+IH4gfiB+IH4gfiB+IH4gfiB+IH4gfiB+IH4gfiB+IH4gfiB+IH4gfiB+IH4gfiB+IH4gfiB+IH4gfiB+IH4gfiB+IH4gfiB+IH4gfiB+IH4gfiB+IH4gfiB+IH4gfiB+IH4gfiB+IH4gfiB+IH",
          "dtype": "i2"
         },
         "x0": " ",
         "xaxis": "x",
         "y": {
          "bdata": "BgEGAgYBBAYCBAYEBAMGBAUCBAIGAwIGBQgBAQEFBQIDBgIFAgIDAgYDAQEFBgYBBQEBAgYFAQIBAQEGBgQFAQYGAwYCBAIBBAQGBgEBAgQBAwIDAwEBBAYGBQUEBQcBAQIDBQcEAgIEBAEBAQEF",
          "dtype": "i1"
         },
         "y0": " ",
         "yaxis": "y"
        },
        {
         "alignmentgroup": "True",
         "hovertemplate": "year=%{x}<br>count_aves=%{y}<extra></extra>",
         "legendgroup": "2019",
         "marker": {
          "color": "#00cc96"
         },
         "name": "2019",
         "notched": false,
         "offsetgroup": "2019",
         "orientation": "v",
         "showlegend": true,
         "type": "box",
         "x": {
          "bdata": "4wfjB+MH4wfjB+MH4wfjB+MH4wfjB+MH4wfjB+MH4wfjB+MH4wfjB+MH4wfjB+MH4wfjB+MH4wfjB+MH4wfjB+MH4wfjB+MH4wfjB+MH4wfjB+MH4wfjB+MH4wfjB+MH4wfjB+MH4wfjB+MH4wfjB+MH4wfjB+MH4wfjB+MH4wfjB+MH4wfjB+MH4wfjB+MH4wfjB+MH4wfjB+MH4wfjB+MH4wfjB+MH4wfjB+MH4wfjB+MH4wc=",
          "dtype": "i2"
         },
         "x0": " ",
         "xaxis": "x",
         "y": {
          "bdata": "BAQBBAECAQIGAQEFAQYDBgIBBgYEBgMGAgYCAwEBBgYGAgIFBgYBAQEFBQYGAQEBAwYFBQEEAwECBgQBAgEBAgIDBQECAQYBBAMEAgUBAQEBBgUDBgIFBQMBBQ==",
          "dtype": "i1"
         },
         "y0": " ",
         "yaxis": "y"
        },
        {
         "alignmentgroup": "True",
         "hovertemplate": "year=%{x}<br>count_aves=%{y}<extra></extra>",
         "legendgroup": "2020",
         "marker": {
          "color": "#ab63fa"
         },
         "name": "2020",
         "notched": false,
         "offsetgroup": "2020",
         "orientation": "v",
         "showlegend": true,
         "type": "box",
         "x": {
          "bdata": "5AfkB+QH5AfkB+QH5AfkB+QH5AfkB+QH5AfkB+QH5AfkB+QH5AfkB+QH5AfkB+QH5AfkB+QH5AfkB+QH5AfkB+QH5AfkB+QH5AfkB+QH5AfkB+QH5AfkB+QH5AfkB+QH5AfkB+QH5AfkB+QH5AfkB+QH5AfkB+QH5AfkB+QH5AfkB+QH5AfkB+QH5AfkB+QH5AfkB+QH5AfkB+QH5AfkB+QH5AfkB+QH5AfkB+QH5AfkB+QH5AfkB+QH5AfkBw==",
          "dtype": "i2"
         },
         "x0": " ",
         "xaxis": "x",
         "y": {
          "bdata": "AwEGAQEGBgQDBAYBAgEDBAYGAQIBAQIGBQIGAQUDAQMBAgEFAQIGBQMBAwUGBAUEBQMGBgUBAgIBAQICBgYFAQEFAgMFBAEBBgQDBgQGAgMEAwMEBAIGBgYFCAIBBgY=",
          "dtype": "i1"
         },
         "y0": " ",
         "yaxis": "y"
        },
        {
         "alignmentgroup": "True",
         "hovertemplate": "year=%{x}<br>count_aves=%{y}<extra></extra>",
         "legendgroup": "2021",
         "marker": {
          "color": "#FFA15A"
         },
         "name": "2021",
         "notched": false,
         "offsetgroup": "2021",
         "orientation": "v",
         "showlegend": true,
         "type": "box",
         "x": {
          "bdata": "5QflB+UH5QflB+UH5QflB+UH5QflB+UH5QflB+UH5QflB+UH5QflB+UH5QflB+UH5QflB+UH5QflB+UH5QflB+UH5QflB+UH5QflB+UH5QflB+UH5QflB+UH5QflB+UH5QflB+UH5QflB+UH5QflB+UH5QflB+UH5QflB+UH5QflB+UH5QflB+UH5QflB+UH5QflB+UH5QflB+UH5QflB+UH5QflB+UH5QflB+UH5QflB+UH5QflB+UH5QflB+UH5QflB+UH5QflB+UH5QflB+UH5QflB+UH",
          "dtype": "i2"
         },
         "x0": " ",
         "xaxis": "x",
         "y": {
          "bdata": "BQMDAwEDAwMGAgQFAQEGAQYBBAYCCgoCCAMCAgQNAgIBBQUBBQEDAQUEBgIDAgMEAwMBBAECAwYBAgYFBQQBBwIEBgYDBQIBAgECAgUEAwUBAQIBAQUGBAUCAQMBBgQDAwEFAwEIBwEDBgYG",
          "dtype": "i1"
         },
         "y0": " ",
         "yaxis": "y"
        },
        {
         "alignmentgroup": "True",
         "hovertemplate": "year=%{x}<br>count_aves=%{y}<extra></extra>",
         "legendgroup": "2022",
         "marker": {
          "color": "#19d3f3"
         },
         "name": "2022",
         "notched": false,
         "offsetgroup": "2022",
         "orientation": "v",
         "showlegend": true,
         "type": "box",
         "x": {
          "bdata": "5gfmB+YH5gfmB+YH5gfmB+YH5gfmB+YH5gfmB+YH5gfmB+YH5gfmB+YH5gfmB+YH5gfmB+YH5gfmB+YH5gfmB+YH5gfmB+YH5gfmB+YH5gfmB+YH5gfmB+YH5gfmB+YH5gfmB+YH5gfmB+YH5gfmB+YH5gfmB+YH5gfmB+YH5gfmB+YH5gfmB+YH5gfmB+YH5gfmB+YH5gfmB+YH5gfmB+YH5gfmB+YH5gfmB+YH5gfmB+YH5gfmB+YH5gfmB+YH5gfmB+YH5gfmB+YH5gfmB+YH5gfmB+YH5gfmB+YH5gfmBw==",
          "dtype": "i2"
         },
         "x0": " ",
         "xaxis": "x",
         "y": {
          "bdata": "BAQEAgEDAwIFBAQGAQQCAgEBAQEGBQYBBgYEAgEBAgQEAQMGBAIBAQEEAQYDBgEGAwEEAQIFAQEFAgYHAQECAgYGBgEFAgUFBgMBAQEBAwUBAQIEAQECAgIBAQQBAgMBAgEBAQMGAQUEAQcBBAYCBQE=",
          "dtype": "i1"
         },
         "y0": " ",
         "yaxis": "y"
        },
        {
         "alignmentgroup": "True",
         "hovertemplate": "year=%{x}<br>count_aves=%{y}<extra></extra>",
         "legendgroup": "2023",
         "marker": {
          "color": "#FF6692"
         },
         "name": "2023",
         "notched": false,
         "offsetgroup": "2023",
         "orientation": "v",
         "showlegend": true,
         "type": "box",
         "x": {
          "bdata": "5wfnB+cH5wfnB+cH5wfnB+cH5wfnB+cH5wfnB+cH5wfnB+cH5wfnB+cH5wfnB+cH5wfnB+cH5wfnB+cH5wfnB+cH5wfnB+cH5wfnB+cH5wfnB+cH5wfnB+cH5wfnB+cH5wfnB+cH5wfnB+cH5wfnB+cH5wfnB+cH5wfnB+cH5wfnB+cH5wfnB+cH5wfnB+cH5wfnB+cH5wfnB+cH5wfnB+cH5wfnB+cH5wfnB+cH5wfnB+cH5wfnB+cH5wfnB+cH5wfnB+cH5wfnB+cH5wfnB+cH5wfnB+cH5wfnB+cH5wfnB+cH5wfnB+cH5wfnB+cH5wfnB+cH5wfnB+cH",
          "dtype": "i2"
         },
         "x0": " ",
         "xaxis": "x",
         "y": {
          "bdata": "BQMBBgEGAQUGAgYBAwICBgEFAQUFAQYBAgEBAwIJBAECAQECBgEBAgYBAggBBAYEBgECBgECAQEBAgEBBgECAwEBAwQBDAEBAQMFBgUGAQYDAwYCBAECAQEBAwYEAQEDAQEGBQIFAQsDAQEBAQIKDwQKAQEBBwEBAQwBCToB",
          "dtype": "i1"
         },
         "y0": " ",
         "yaxis": "y"
        }
       ],
       "layout": {
        "boxmode": "overlay",
        "height": 800,
        "legend": {
         "title": {
          "text": "year"
         },
         "tracegroupgap": 0
        },
        "showlegend": false,
        "template": {
         "data": {
          "bar": [
           {
            "error_x": {
             "color": "#2a3f5f"
            },
            "error_y": {
             "color": "#2a3f5f"
            },
            "marker": {
             "line": {
              "color": "white",
              "width": 0.5
             },
             "pattern": {
              "fillmode": "overlay",
              "size": 10,
              "solidity": 0.2
             }
            },
            "type": "bar"
           }
          ],
          "barpolar": [
           {
            "marker": {
             "line": {
              "color": "white",
              "width": 0.5
             },
             "pattern": {
              "fillmode": "overlay",
              "size": 10,
              "solidity": 0.2
             }
            },
            "type": "barpolar"
           }
          ],
          "carpet": [
           {
            "aaxis": {
             "endlinecolor": "#2a3f5f",
             "gridcolor": "#C8D4E3",
             "linecolor": "#C8D4E3",
             "minorgridcolor": "#C8D4E3",
             "startlinecolor": "#2a3f5f"
            },
            "baxis": {
             "endlinecolor": "#2a3f5f",
             "gridcolor": "#C8D4E3",
             "linecolor": "#C8D4E3",
             "minorgridcolor": "#C8D4E3",
             "startlinecolor": "#2a3f5f"
            },
            "type": "carpet"
           }
          ],
          "choropleth": [
           {
            "colorbar": {
             "outlinewidth": 0,
             "ticks": ""
            },
            "type": "choropleth"
           }
          ],
          "contour": [
           {
            "colorbar": {
             "outlinewidth": 0,
             "ticks": ""
            },
            "colorscale": [
             [
              0,
              "#0d0887"
             ],
             [
              0.1111111111111111,
              "#46039f"
             ],
             [
              0.2222222222222222,
              "#7201a8"
             ],
             [
              0.3333333333333333,
              "#9c179e"
             ],
             [
              0.4444444444444444,
              "#bd3786"
             ],
             [
              0.5555555555555556,
              "#d8576b"
             ],
             [
              0.6666666666666666,
              "#ed7953"
             ],
             [
              0.7777777777777778,
              "#fb9f3a"
             ],
             [
              0.8888888888888888,
              "#fdca26"
             ],
             [
              1,
              "#f0f921"
             ]
            ],
            "type": "contour"
           }
          ],
          "contourcarpet": [
           {
            "colorbar": {
             "outlinewidth": 0,
             "ticks": ""
            },
            "type": "contourcarpet"
           }
          ],
          "heatmap": [
           {
            "colorbar": {
             "outlinewidth": 0,
             "ticks": ""
            },
            "colorscale": [
             [
              0,
              "#0d0887"
             ],
             [
              0.1111111111111111,
              "#46039f"
             ],
             [
              0.2222222222222222,
              "#7201a8"
             ],
             [
              0.3333333333333333,
              "#9c179e"
             ],
             [
              0.4444444444444444,
              "#bd3786"
             ],
             [
              0.5555555555555556,
              "#d8576b"
             ],
             [
              0.6666666666666666,
              "#ed7953"
             ],
             [
              0.7777777777777778,
              "#fb9f3a"
             ],
             [
              0.8888888888888888,
              "#fdca26"
             ],
             [
              1,
              "#f0f921"
             ]
            ],
            "type": "heatmap"
           }
          ],
          "histogram": [
           {
            "marker": {
             "pattern": {
              "fillmode": "overlay",
              "size": 10,
              "solidity": 0.2
             }
            },
            "type": "histogram"
           }
          ],
          "histogram2d": [
           {
            "colorbar": {
             "outlinewidth": 0,
             "ticks": ""
            },
            "colorscale": [
             [
              0,
              "#0d0887"
             ],
             [
              0.1111111111111111,
              "#46039f"
             ],
             [
              0.2222222222222222,
              "#7201a8"
             ],
             [
              0.3333333333333333,
              "#9c179e"
             ],
             [
              0.4444444444444444,
              "#bd3786"
             ],
             [
              0.5555555555555556,
              "#d8576b"
             ],
             [
              0.6666666666666666,
              "#ed7953"
             ],
             [
              0.7777777777777778,
              "#fb9f3a"
             ],
             [
              0.8888888888888888,
              "#fdca26"
             ],
             [
              1,
              "#f0f921"
             ]
            ],
            "type": "histogram2d"
           }
          ],
          "histogram2dcontour": [
           {
            "colorbar": {
             "outlinewidth": 0,
             "ticks": ""
            },
            "colorscale": [
             [
              0,
              "#0d0887"
             ],
             [
              0.1111111111111111,
              "#46039f"
             ],
             [
              0.2222222222222222,
              "#7201a8"
             ],
             [
              0.3333333333333333,
              "#9c179e"
             ],
             [
              0.4444444444444444,
              "#bd3786"
             ],
             [
              0.5555555555555556,
              "#d8576b"
             ],
             [
              0.6666666666666666,
              "#ed7953"
             ],
             [
              0.7777777777777778,
              "#fb9f3a"
             ],
             [
              0.8888888888888888,
              "#fdca26"
             ],
             [
              1,
              "#f0f921"
             ]
            ],
            "type": "histogram2dcontour"
           }
          ],
          "mesh3d": [
           {
            "colorbar": {
             "outlinewidth": 0,
             "ticks": ""
            },
            "type": "mesh3d"
           }
          ],
          "parcoords": [
           {
            "line": {
             "colorbar": {
              "outlinewidth": 0,
              "ticks": ""
             }
            },
            "type": "parcoords"
           }
          ],
          "pie": [
           {
            "automargin": true,
            "type": "pie"
           }
          ],
          "scatter": [
           {
            "fillpattern": {
             "fillmode": "overlay",
             "size": 10,
             "solidity": 0.2
            },
            "type": "scatter"
           }
          ],
          "scatter3d": [
           {
            "line": {
             "colorbar": {
              "outlinewidth": 0,
              "ticks": ""
             }
            },
            "marker": {
             "colorbar": {
              "outlinewidth": 0,
              "ticks": ""
             }
            },
            "type": "scatter3d"
           }
          ],
          "scattercarpet": [
           {
            "marker": {
             "colorbar": {
              "outlinewidth": 0,
              "ticks": ""
             }
            },
            "type": "scattercarpet"
           }
          ],
          "scattergeo": [
           {
            "marker": {
             "colorbar": {
              "outlinewidth": 0,
              "ticks": ""
             }
            },
            "type": "scattergeo"
           }
          ],
          "scattergl": [
           {
            "marker": {
             "colorbar": {
              "outlinewidth": 0,
              "ticks": ""
             }
            },
            "type": "scattergl"
           }
          ],
          "scattermap": [
           {
            "marker": {
             "colorbar": {
              "outlinewidth": 0,
              "ticks": ""
             }
            },
            "type": "scattermap"
           }
          ],
          "scattermapbox": [
           {
            "marker": {
             "colorbar": {
              "outlinewidth": 0,
              "ticks": ""
             }
            },
            "type": "scattermapbox"
           }
          ],
          "scatterpolar": [
           {
            "marker": {
             "colorbar": {
              "outlinewidth": 0,
              "ticks": ""
             }
            },
            "type": "scatterpolar"
           }
          ],
          "scatterpolargl": [
           {
            "marker": {
             "colorbar": {
              "outlinewidth": 0,
              "ticks": ""
             }
            },
            "type": "scatterpolargl"
           }
          ],
          "scatterternary": [
           {
            "marker": {
             "colorbar": {
              "outlinewidth": 0,
              "ticks": ""
             }
            },
            "type": "scatterternary"
           }
          ],
          "surface": [
           {
            "colorbar": {
             "outlinewidth": 0,
             "ticks": ""
            },
            "colorscale": [
             [
              0,
              "#0d0887"
             ],
             [
              0.1111111111111111,
              "#46039f"
             ],
             [
              0.2222222222222222,
              "#7201a8"
             ],
             [
              0.3333333333333333,
              "#9c179e"
             ],
             [
              0.4444444444444444,
              "#bd3786"
             ],
             [
              0.5555555555555556,
              "#d8576b"
             ],
             [
              0.6666666666666666,
              "#ed7953"
             ],
             [
              0.7777777777777778,
              "#fb9f3a"
             ],
             [
              0.8888888888888888,
              "#fdca26"
             ],
             [
              1,
              "#f0f921"
             ]
            ],
            "type": "surface"
           }
          ],
          "table": [
           {
            "cells": {
             "fill": {
              "color": "#EBF0F8"
             },
             "line": {
              "color": "white"
             }
            },
            "header": {
             "fill": {
              "color": "#C8D4E3"
             },
             "line": {
              "color": "white"
             }
            },
            "type": "table"
           }
          ]
         },
         "layout": {
          "annotationdefaults": {
           "arrowcolor": "#2a3f5f",
           "arrowhead": 0,
           "arrowwidth": 1
          },
          "autotypenumbers": "strict",
          "coloraxis": {
           "colorbar": {
            "outlinewidth": 0,
            "ticks": ""
           }
          },
          "colorscale": {
           "diverging": [
            [
             0,
             "#8e0152"
            ],
            [
             0.1,
             "#c51b7d"
            ],
            [
             0.2,
             "#de77ae"
            ],
            [
             0.3,
             "#f1b6da"
            ],
            [
             0.4,
             "#fde0ef"
            ],
            [
             0.5,
             "#f7f7f7"
            ],
            [
             0.6,
             "#e6f5d0"
            ],
            [
             0.7,
             "#b8e186"
            ],
            [
             0.8,
             "#7fbc41"
            ],
            [
             0.9,
             "#4d9221"
            ],
            [
             1,
             "#276419"
            ]
           ],
           "sequential": [
            [
             0,
             "#0d0887"
            ],
            [
             0.1111111111111111,
             "#46039f"
            ],
            [
             0.2222222222222222,
             "#7201a8"
            ],
            [
             0.3333333333333333,
             "#9c179e"
            ],
            [
             0.4444444444444444,
             "#bd3786"
            ],
            [
             0.5555555555555556,
             "#d8576b"
            ],
            [
             0.6666666666666666,
             "#ed7953"
            ],
            [
             0.7777777777777778,
             "#fb9f3a"
            ],
            [
             0.8888888888888888,
             "#fdca26"
            ],
            [
             1,
             "#f0f921"
            ]
           ],
           "sequentialminus": [
            [
             0,
             "#0d0887"
            ],
            [
             0.1111111111111111,
             "#46039f"
            ],
            [
             0.2222222222222222,
             "#7201a8"
            ],
            [
             0.3333333333333333,
             "#9c179e"
            ],
            [
             0.4444444444444444,
             "#bd3786"
            ],
            [
             0.5555555555555556,
             "#d8576b"
            ],
            [
             0.6666666666666666,
             "#ed7953"
            ],
            [
             0.7777777777777778,
             "#fb9f3a"
            ],
            [
             0.8888888888888888,
             "#fdca26"
            ],
            [
             1,
             "#f0f921"
            ]
           ]
          },
          "colorway": [
           "#636efa",
           "#EF553B",
           "#00cc96",
           "#ab63fa",
           "#FFA15A",
           "#19d3f3",
           "#FF6692",
           "#B6E880",
           "#FF97FF",
           "#FECB52"
          ],
          "font": {
           "color": "#2a3f5f"
          },
          "geo": {
           "bgcolor": "white",
           "lakecolor": "white",
           "landcolor": "white",
           "showlakes": true,
           "showland": true,
           "subunitcolor": "#C8D4E3"
          },
          "hoverlabel": {
           "align": "left"
          },
          "hovermode": "closest",
          "mapbox": {
           "style": "light"
          },
          "paper_bgcolor": "white",
          "plot_bgcolor": "white",
          "polar": {
           "angularaxis": {
            "gridcolor": "#EBF0F8",
            "linecolor": "#EBF0F8",
            "ticks": ""
           },
           "bgcolor": "white",
           "radialaxis": {
            "gridcolor": "#EBF0F8",
            "linecolor": "#EBF0F8",
            "ticks": ""
           }
          },
          "scene": {
           "xaxis": {
            "backgroundcolor": "white",
            "gridcolor": "#DFE8F3",
            "gridwidth": 2,
            "linecolor": "#EBF0F8",
            "showbackground": true,
            "ticks": "",
            "zerolinecolor": "#EBF0F8"
           },
           "yaxis": {
            "backgroundcolor": "white",
            "gridcolor": "#DFE8F3",
            "gridwidth": 2,
            "linecolor": "#EBF0F8",
            "showbackground": true,
            "ticks": "",
            "zerolinecolor": "#EBF0F8"
           },
           "zaxis": {
            "backgroundcolor": "white",
            "gridcolor": "#DFE8F3",
            "gridwidth": 2,
            "linecolor": "#EBF0F8",
            "showbackground": true,
            "ticks": "",
            "zerolinecolor": "#EBF0F8"
           }
          },
          "shapedefaults": {
           "line": {
            "color": "#2a3f5f"
           }
          },
          "ternary": {
           "aaxis": {
            "gridcolor": "#DFE8F3",
            "linecolor": "#A2B1C6",
            "ticks": ""
           },
           "baxis": {
            "gridcolor": "#DFE8F3",
            "linecolor": "#A2B1C6",
            "ticks": ""
           },
           "bgcolor": "white",
           "caxis": {
            "gridcolor": "#DFE8F3",
            "linecolor": "#A2B1C6",
            "ticks": ""
           }
          },
          "title": {
           "x": 0.05
          },
          "xaxis": {
           "automargin": true,
           "gridcolor": "#EBF0F8",
           "linecolor": "#EBF0F8",
           "ticks": "",
           "title": {
            "standoff": 15
           },
           "zerolinecolor": "#EBF0F8",
           "zerolinewidth": 2
          },
          "yaxis": {
           "automargin": true,
           "gridcolor": "#EBF0F8",
           "linecolor": "#EBF0F8",
           "ticks": "",
           "title": {
            "standoff": 15
           },
           "zerolinecolor": "#EBF0F8",
           "zerolinewidth": 2
          }
         }
        },
        "title": {
         "text": "Distribución de Conteos de Aves por Año"
        },
        "xaxis": {
         "anchor": "y",
         "categoryarray": [
          2007,
          2008,
          2009,
          2010,
          2011,
          2012,
          2013,
          2014,
          2015,
          2016,
          2017,
          2018,
          2019,
          2020,
          2021,
          2022,
          2023
         ],
         "categoryorder": "array",
         "domain": [
          0,
          1
         ],
         "title": {
          "text": "year"
         }
        },
        "yaxis": {
         "anchor": "x",
         "domain": [
          0,
          1
         ],
         "title": {
          "text": "count_aves"
         }
        }
       }
      }
     },
     "metadata": {},
     "output_type": "display_data"
    }
   ],
   "source": [
    "censo_year = censo.groupby('year')['count_aves'].sum().reset_index()\n",
    "\n",
    "# Boxplots en facetas para cada año\n",
    "fig_boxplot_facets = px.box(\n",
    "    censo,\n",
    "    y='count_aves', \n",
    "    x='year', \n",
    "    title='Distribución de Conteos de Aves por Año',\n",
    "    labels={'Conteo': 'Conteo de Aves'},\n",
    "    color='year',\n",
    "    template='plotly_white',\n",
    "    height=800\n",
    ")\n",
    "fig_boxplot_facets.update_layout(showlegend=False) \n",
    "fig_boxplot_facets.show()"
   ]
  },
  {
   "cell_type": "markdown",
   "id": "d1fc12fb",
   "metadata": {},
   "source": [
    "# Prepara los datos para el analisis GML"
   ]
  },
  {
   "cell_type": "code",
   "execution_count": 47,
   "id": "2ef02d93",
   "metadata": {},
   "outputs": [
    {
     "data": {
      "application/vnd.microsoft.datawrangler.viewer.v0+json": {
       "columns": [
        {
         "name": "index",
         "rawType": "int64",
         "type": "integer"
        },
        {
         "name": "speciesname",
         "rawType": "object",
         "type": "string"
        },
        {
         "name": "year",
         "rawType": "int64",
         "type": "integer"
        },
        {
         "name": "count_aves",
         "rawType": "int64",
         "type": "integer"
        },
        {
         "name": "speciesid",
         "rawType": "int64",
         "type": "integer"
        },
        {
         "name": "Ordre",
         "rawType": "object",
         "type": "string"
        },
        {
         "name": "Protection_status_in_Catlunya",
         "rawType": "object",
         "type": "string"
        },
        {
         "name": "SST_change",
         "rawType": "float64",
         "type": "float"
        },
        {
         "name": "Arrossegament_fons_Mediterrani",
         "rawType": "float64",
         "type": "float"
        },
        {
         "name": "Arts_menors_Mediterrani",
         "rawType": "float64",
         "type": "float"
        },
        {
         "name": "Palangre_fons_Mediterrani",
         "rawType": "float64",
         "type": "float"
        },
        {
         "name": "Palangre_superficie_Mediterrani",
         "rawType": "float64",
         "type": "float"
        },
        {
         "name": "Total_CAT",
         "rawType": "float64",
         "type": "float"
        },
        {
         "name": "NOMBRE COMÚN",
         "rawType": "object",
         "type": "string"
        },
        {
         "name": "LR2004",
         "rawType": "object",
         "type": "string"
        },
        {
         "name": "LR2021 Invern/Migrat",
         "rawType": "object",
         "type": "string"
        },
        {
         "name": "LR2021 Repro",
         "rawType": "object",
         "type": "string"
        },
        {
         "name": "Evolucion_Categoria_2004_2021",
         "rawType": "object",
         "type": "string"
        },
        {
         "name": "Estatus_2021",
         "rawType": "object",
         "type": "string"
        },
        {
         "name": "Biosphere_reserve",
         "rawType": "float64",
         "type": "float"
        },
        {
         "name": "MPA_national_statute",
         "rawType": "float64",
         "type": "float"
        },
        {
         "name": "Marine_Natura_2000_proposed_site",
         "rawType": "float64",
         "type": "float"
        },
        {
         "name": "Marine_Natura_2000_site",
         "rawType": "float64",
         "type": "float"
        },
        {
         "name": "SPAMI",
         "rawType": "float64",
         "type": "float"
        },
        {
         "name": "World_heritage_site",
         "rawType": "float64",
         "type": "float"
        },
        {
         "name": "Total_MPAs",
         "rawType": "float64",
         "type": "float"
        }
       ],
       "ref": "f4323125-c0bb-493d-9958-753fcd20b881",
       "rows": [
        [
         "75",
         "Balearic Shearwater",
         "2007",
         "9",
         "454",
         "Procel·lariformes",
         "Critically Endangered",
         "2.4",
         "331.0",
         "700.0",
         "56.0",
         "10.0",
         "1203.0",
         "Pardela balear",
         "CR",
         "Sin datos",
         "CR",
         "Sin Variaciones",
         "CR",
         "4450.05",
         "2594.0",
         "156.01",
         "2146.42",
         "247.22",
         "135.56",
         "9729.26"
        ],
        [
         "76",
         "Balearic-/Yelkouan Shearwater",
         "2007",
         "4",
         "4646",
         "Procel·lariformes",
         "Critically Endangered/Protected",
         "2.4",
         "331.0",
         "700.0",
         "56.0",
         "10.0",
         "1203.0",
         "Pardela balear/mediterránea",
         "CR/EN",
         "Sin datos",
         "CR/VU",
         "Sin Variaciones/Desfavorable",
         "CR/VU",
         "4450.05",
         "2594.0",
         "156.01",
         "2146.42",
         "247.22",
         "135.56",
         "9729.26"
        ],
        [
         "77",
         "Black-headed Gull",
         "2007",
         "5",
         "200",
         "Charadriiformes",
         "No Evaluated",
         "2.4",
         "331.0",
         "700.0",
         "56.0",
         "10.0",
         "1203.0",
         "Gaviota reidora",
         "NE",
         "LC",
         "Sin datos",
         "Favorable",
         "LC",
         "4450.05",
         "2594.0",
         "156.01",
         "2146.42",
         "247.22",
         "135.56",
         "9729.26"
        ],
        [
         "78",
         "Cormorant",
         "2007",
         "12",
         "20",
         "Suliformes",
         "No Evaluated",
         "2.4",
         "331.0",
         "700.0",
         "56.0",
         "10.0",
         "1203.0",
         "Cormorán grande",
         "NE",
         "LC",
         "LC",
         "Favorable",
         "LC",
         "4450.05",
         "2594.0",
         "156.01",
         "2146.42",
         "247.22",
         "135.56",
         "9729.26"
        ],
        [
         "79",
         "Gannet",
         "2007",
         "13",
         "19",
         "Suliformes",
         "Protected",
         "2.4",
         "331.0",
         "700.0",
         "56.0",
         "10.0",
         "1203.0",
         "Alcatraz atlántico",
         "NE",
         "LC",
         "Sin datos",
         "Favorable",
         "LC",
         "4450.05",
         "2594.0",
         "156.01",
         "2146.42",
         "247.22",
         "135.56",
         "9729.26"
        ],
        [
         "80",
         "Razorbill",
         "2007",
         "13",
         "226",
         "Charadriiformes",
         "Vulnerable",
         "2.4",
         "331.0",
         "700.0",
         "56.0",
         "10.0",
         "1203.0",
         "Alca común",
         "NE",
         "DD",
         "Sin datos",
         "Datos Insuficientes",
         "DD",
         "4450.05",
         "2594.0",
         "156.01",
         "2146.42",
         "247.22",
         "135.56",
         "9729.26"
        ],
        [
         "81",
         "Sandwich Tern",
         "2007",
         "7",
         "215",
         "Charadriiformes",
         "Vulnerable",
         "2.4",
         "331.0",
         "700.0",
         "56.0",
         "10.0",
         "1203.0",
         "Charrán patinegro",
         "NT",
         "Sin datos",
         "VU",
         "Desfavorable",
         "VU",
         "4450.05",
         "2594.0",
         "156.01",
         "2146.42",
         "247.22",
         "135.56",
         "9729.26"
        ],
        [
         "82",
         "Yelkouan Shearwater",
         "2007",
         "15",
         "495",
         "Procel·lariformes",
         "Vulnerable",
         "2.4",
         "331.0",
         "700.0",
         "56.0",
         "10.0",
         "1203.0",
         "Pardela mediterránea",
         "NE",
         "Sin datos",
         "VU",
         "Desfavorable",
         "VU",
         "4450.05",
         "2594.0",
         "156.01",
         "2146.42",
         "247.22",
         "135.56",
         "9729.26"
        ],
        [
         "83",
         "Yellow-legged Gull",
         "2007",
         "6",
         "445",
         "Charadriiformes",
         "No Evaluated",
         "2.4",
         "331.0",
         "700.0",
         "56.0",
         "10.0",
         "1203.0",
         "Gaviota patiamarilla",
         "NE",
         "Sin datos",
         "NT",
         "Desfavorable",
         "NT",
         "4450.05",
         "2594.0",
         "156.01",
         "2146.42",
         "247.22",
         "135.56",
         "9729.26"
        ],
        [
         "84",
         "Balearic Shearwater",
         "2007",
         "4",
         "454",
         "Procel·lariformes",
         "Critically Endangered",
         "1.21",
         "331.0",
         "700.0",
         "56.0",
         "10.0",
         "1203.0",
         "Pardela balear",
         "CR",
         "Sin datos",
         "CR",
         "Sin Variaciones",
         "CR",
         "4450.05",
         "2594.0",
         "156.01",
         "2146.42",
         "247.22",
         "135.56",
         "9729.26"
        ],
        [
         "85",
         "Balearic-/Yelkouan Shearwater",
         "2007",
         "2",
         "4646",
         "Procel·lariformes",
         "Critically Endangered/Protected",
         "1.21",
         "331.0",
         "700.0",
         "56.0",
         "10.0",
         "1203.0",
         "Pardela balear/mediterránea",
         "CR/EN",
         "Sin datos",
         "CR/VU",
         "Sin Variaciones/Desfavorable",
         "CR/VU",
         "4450.05",
         "2594.0",
         "156.01",
         "2146.42",
         "247.22",
         "135.56",
         "9729.26"
        ],
        [
         "86",
         "Black-headed Gull",
         "2007",
         "10",
         "200",
         "Charadriiformes",
         "No Evaluated",
         "1.21",
         "331.0",
         "700.0",
         "56.0",
         "10.0",
         "1203.0",
         "Gaviota reidora",
         "NE",
         "LC",
         "Sin datos",
         "Favorable",
         "LC",
         "4450.05",
         "2594.0",
         "156.01",
         "2146.42",
         "247.22",
         "135.56",
         "9729.26"
        ],
        [
         "87",
         "Cormorant",
         "2007",
         "5",
         "20",
         "Suliformes",
         "No Evaluated",
         "1.21",
         "331.0",
         "700.0",
         "56.0",
         "10.0",
         "1203.0",
         "Cormorán grande",
         "NE",
         "LC",
         "LC",
         "Favorable",
         "LC",
         "4450.05",
         "2594.0",
         "156.01",
         "2146.42",
         "247.22",
         "135.56",
         "9729.26"
        ],
        [
         "88",
         "Gannet",
         "2007",
         "5",
         "19",
         "Suliformes",
         "Protected",
         "1.21",
         "331.0",
         "700.0",
         "56.0",
         "10.0",
         "1203.0",
         "Alcatraz atlántico",
         "NE",
         "LC",
         "Sin datos",
         "Favorable",
         "LC",
         "4450.05",
         "2594.0",
         "156.01",
         "2146.42",
         "247.22",
         "135.56",
         "9729.26"
        ],
        [
         "89",
         "Kittiwake",
         "2007",
         "1",
         "211",
         "Charadriiformes",
         "Protected",
         "1.21",
         "331.0",
         "700.0",
         "56.0",
         "10.0",
         "1203.0",
         "Gaviota tridáctila",
         "VU",
         "Sin datos",
         "CR",
         "Desfavorable",
         "CR",
         "4450.05",
         "2594.0",
         "156.01",
         "2146.42",
         "247.22",
         "135.56",
         "9729.26"
        ],
        [
         "90",
         "Mediterranean Gull",
         "2007",
         "3",
         "196",
         "Charadriiformes",
         "Protected",
         "1.21",
         "331.0",
         "700.0",
         "56.0",
         "10.0",
         "1203.0",
         "Gaviota cabecinegra",
         "NE",
         "NT",
         "Sin datos",
         "Desfavorable",
         "NT",
         "4450.05",
         "2594.0",
         "156.01",
         "2146.42",
         "247.22",
         "135.56",
         "9729.26"
        ],
        [
         "91",
         "Razorbill",
         "2007",
         "1",
         "226",
         "Charadriiformes",
         "Vulnerable",
         "1.21",
         "331.0",
         "700.0",
         "56.0",
         "10.0",
         "1203.0",
         "Alca común",
         "NE",
         "DD",
         "Sin datos",
         "Datos Insuficientes",
         "DD",
         "4450.05",
         "2594.0",
         "156.01",
         "2146.42",
         "247.22",
         "135.56",
         "9729.26"
        ],
        [
         "92",
         "Sandwich Tern",
         "2007",
         "5",
         "215",
         "Charadriiformes",
         "Vulnerable",
         "1.21",
         "331.0",
         "700.0",
         "56.0",
         "10.0",
         "1203.0",
         "Charrán patinegro",
         "NT",
         "Sin datos",
         "VU",
         "Desfavorable",
         "VU",
         "4450.05",
         "2594.0",
         "156.01",
         "2146.42",
         "247.22",
         "135.56",
         "9729.26"
        ],
        [
         "93",
         "Yelkouan Shearwater",
         "2007",
         "5",
         "495",
         "Procel·lariformes",
         "Vulnerable",
         "1.21",
         "331.0",
         "700.0",
         "56.0",
         "10.0",
         "1203.0",
         "Pardela mediterránea",
         "NE",
         "Sin datos",
         "VU",
         "Desfavorable",
         "VU",
         "4450.05",
         "2594.0",
         "156.01",
         "2146.42",
         "247.22",
         "135.56",
         "9729.26"
        ],
        [
         "94",
         "Yellow-legged Gull",
         "2007",
         "6",
         "445",
         "Charadriiformes",
         "No Evaluated",
         "1.21",
         "331.0",
         "700.0",
         "56.0",
         "10.0",
         "1203.0",
         "Gaviota patiamarilla",
         "NE",
         "Sin datos",
         "NT",
         "Desfavorable",
         "NT",
         "4450.05",
         "2594.0",
         "156.01",
         "2146.42",
         "247.22",
         "135.56",
         "9729.26"
        ],
        [
         "95",
         "Balearic Shearwater",
         "2007",
         "6",
         "454",
         "Procel·lariformes",
         "Critically Endangered",
         "1.02",
         "331.0",
         "700.0",
         "56.0",
         "10.0",
         "1203.0",
         "Pardela balear",
         "CR",
         "Sin datos",
         "CR",
         "Sin Variaciones",
         "CR",
         "4450.05",
         "2594.0",
         "156.01",
         "2146.42",
         "247.22",
         "135.56",
         "9729.26"
        ],
        [
         "96",
         "Balearic-/Yelkouan Shearwater",
         "2007",
         "6",
         "4646",
         "Procel·lariformes",
         "Critically Endangered/Protected",
         "1.02",
         "331.0",
         "700.0",
         "56.0",
         "10.0",
         "1203.0",
         "Pardela balear/mediterránea",
         "CR/EN",
         "Sin datos",
         "CR/VU",
         "Sin Variaciones/Desfavorable",
         "CR/VU",
         "4450.05",
         "2594.0",
         "156.01",
         "2146.42",
         "247.22",
         "135.56",
         "9729.26"
        ],
        [
         "97",
         "Black-headed Gull",
         "2007",
         "4",
         "200",
         "Charadriiformes",
         "No Evaluated",
         "1.02",
         "331.0",
         "700.0",
         "56.0",
         "10.0",
         "1203.0",
         "Gaviota reidora",
         "NE",
         "LC",
         "Sin datos",
         "Favorable",
         "LC",
         "4450.05",
         "2594.0",
         "156.01",
         "2146.42",
         "247.22",
         "135.56",
         "9729.26"
        ],
        [
         "98",
         "Cormorant",
         "2007",
         "6",
         "20",
         "Suliformes",
         "No Evaluated",
         "1.02",
         "331.0",
         "700.0",
         "56.0",
         "10.0",
         "1203.0",
         "Cormorán grande",
         "NE",
         "LC",
         "LC",
         "Favorable",
         "LC",
         "4450.05",
         "2594.0",
         "156.01",
         "2146.42",
         "247.22",
         "135.56",
         "9729.26"
        ],
        [
         "99",
         "Gannet",
         "2007",
         "10",
         "19",
         "Suliformes",
         "Protected",
         "1.02",
         "331.0",
         "700.0",
         "56.0",
         "10.0",
         "1203.0",
         "Alcatraz atlántico",
         "NE",
         "LC",
         "Sin datos",
         "Favorable",
         "LC",
         "4450.05",
         "2594.0",
         "156.01",
         "2146.42",
         "247.22",
         "135.56",
         "9729.26"
        ],
        [
         "100",
         "Razorbill",
         "2007",
         "6",
         "226",
         "Charadriiformes",
         "Vulnerable",
         "1.02",
         "331.0",
         "700.0",
         "56.0",
         "10.0",
         "1203.0",
         "Alca común",
         "NE",
         "DD",
         "Sin datos",
         "Datos Insuficientes",
         "DD",
         "4450.05",
         "2594.0",
         "156.01",
         "2146.42",
         "247.22",
         "135.56",
         "9729.26"
        ],
        [
         "101",
         "Sandwich Tern",
         "2007",
         "4",
         "215",
         "Charadriiformes",
         "Vulnerable",
         "1.02",
         "331.0",
         "700.0",
         "56.0",
         "10.0",
         "1203.0",
         "Charrán patinegro",
         "NT",
         "Sin datos",
         "VU",
         "Desfavorable",
         "VU",
         "4450.05",
         "2594.0",
         "156.01",
         "2146.42",
         "247.22",
         "135.56",
         "9729.26"
        ],
        [
         "102",
         "Shag",
         "2007",
         "2",
         "21",
         "Suliformes",
         "Vulnerable",
         "1.02",
         "331.0",
         "700.0",
         "56.0",
         "10.0",
         "1203.0",
         "Cormorán moñudo",
         "VU",
         "Sin datos",
         "VU",
         "Sin Variaciones",
         "VU",
         "4450.05",
         "2594.0",
         "156.01",
         "2146.42",
         "247.22",
         "135.56",
         "9729.26"
        ],
        [
         "103",
         "Yelkouan Shearwater",
         "2007",
         "6",
         "495",
         "Procel·lariformes",
         "Vulnerable",
         "1.02",
         "331.0",
         "700.0",
         "56.0",
         "10.0",
         "1203.0",
         "Pardela mediterránea",
         "NE",
         "Sin datos",
         "VU",
         "Desfavorable",
         "VU",
         "4450.05",
         "2594.0",
         "156.01",
         "2146.42",
         "247.22",
         "135.56",
         "9729.26"
        ],
        [
         "104",
         "Arctic Skua",
         "2007",
         "4",
         "192",
         "Charadriiformes",
         "Protected",
         "1.66",
         "331.0",
         "700.0",
         "56.0",
         "10.0",
         "1203.0",
         "Págalo parásito",
         "NE",
         "NE",
         "Sin datos",
         "No Evaluada",
         "NE",
         "4450.05",
         "2594.0",
         "156.01",
         "2146.42",
         "247.22",
         "135.56",
         "9729.26"
        ],
        [
         "105",
         "Balearic Shearwater",
         "2007",
         "6",
         "454",
         "Procel·lariformes",
         "Critically Endangered",
         "1.66",
         "331.0",
         "700.0",
         "56.0",
         "10.0",
         "1203.0",
         "Pardela balear",
         "CR",
         "Sin datos",
         "CR",
         "Sin Variaciones",
         "CR",
         "4450.05",
         "2594.0",
         "156.01",
         "2146.42",
         "247.22",
         "135.56",
         "9729.26"
        ],
        [
         "106",
         "Balearic-/Yelkouan Shearwater",
         "2007",
         "6",
         "4646",
         "Procel·lariformes",
         "Critically Endangered/Protected",
         "1.66",
         "331.0",
         "700.0",
         "56.0",
         "10.0",
         "1203.0",
         "Pardela balear/mediterránea",
         "CR/EN",
         "Sin datos",
         "CR/VU",
         "Sin Variaciones/Desfavorable",
         "CR/VU",
         "4450.05",
         "2594.0",
         "156.01",
         "2146.42",
         "247.22",
         "135.56",
         "9729.26"
        ],
        [
         "107",
         "Black-headed Gull",
         "2007",
         "1",
         "200",
         "Charadriiformes",
         "No Evaluated",
         "1.66",
         "331.0",
         "700.0",
         "56.0",
         "10.0",
         "1203.0",
         "Gaviota reidora",
         "NE",
         "LC",
         "Sin datos",
         "Favorable",
         "LC",
         "4450.05",
         "2594.0",
         "156.01",
         "2146.42",
         "247.22",
         "135.56",
         "9729.26"
        ],
        [
         "108",
         "Cormorant",
         "2007",
         "3",
         "20",
         "Suliformes",
         "No Evaluated",
         "1.66",
         "331.0",
         "700.0",
         "56.0",
         "10.0",
         "1203.0",
         "Cormorán grande",
         "NE",
         "LC",
         "LC",
         "Favorable",
         "LC",
         "4450.05",
         "2594.0",
         "156.01",
         "2146.42",
         "247.22",
         "135.56",
         "9729.26"
        ],
        [
         "109",
         "Gannet",
         "2007",
         "14",
         "19",
         "Suliformes",
         "Protected",
         "1.66",
         "331.0",
         "700.0",
         "56.0",
         "10.0",
         "1203.0",
         "Alcatraz atlántico",
         "NE",
         "LC",
         "Sin datos",
         "Favorable",
         "LC",
         "4450.05",
         "2594.0",
         "156.01",
         "2146.42",
         "247.22",
         "135.56",
         "9729.26"
        ],
        [
         "110",
         "Great Skua",
         "2007",
         "1",
         "194",
         "Charadriiformes",
         "Protected",
         "1.66",
         "331.0",
         "700.0",
         "56.0",
         "10.0",
         "1203.0",
         "Págalo grande",
         "NE",
         "NE",
         "Sin datos",
         "No Evaluada",
         "NE",
         "4450.05",
         "2594.0",
         "156.01",
         "2146.42",
         "247.22",
         "135.56",
         "9729.26"
        ],
        [
         "111",
         "Mediterranean Gull",
         "2007",
         "5",
         "196",
         "Charadriiformes",
         "Protected",
         "1.66",
         "331.0",
         "700.0",
         "56.0",
         "10.0",
         "1203.0",
         "Gaviota cabecinegra",
         "NE",
         "NT",
         "Sin datos",
         "Desfavorable",
         "NT",
         "4450.05",
         "2594.0",
         "156.01",
         "2146.42",
         "247.22",
         "135.56",
         "9729.26"
        ],
        [
         "112",
         "Puffin",
         "2007",
         "2",
         "229",
         "Charadriiformes",
         "Protected",
         "1.66",
         "331.0",
         "700.0",
         "56.0",
         "10.0",
         "1203.0",
         "Frailecillo atlántico",
         "NE",
         "Sin datos",
         "DD",
         "Datos Insuficientes",
         "DD",
         "4450.05",
         "2594.0",
         "156.01",
         "2146.42",
         "247.22",
         "135.56",
         "9729.26"
        ],
        [
         "113",
         "Razorbill",
         "2007",
         "4",
         "226",
         "Charadriiformes",
         "Vulnerable",
         "1.66",
         "331.0",
         "700.0",
         "56.0",
         "10.0",
         "1203.0",
         "Alca común",
         "NE",
         "DD",
         "Sin datos",
         "Datos Insuficientes",
         "DD",
         "4450.05",
         "2594.0",
         "156.01",
         "2146.42",
         "247.22",
         "135.56",
         "9729.26"
        ],
        [
         "114",
         "Sandwich Tern",
         "2007",
         "5",
         "215",
         "Charadriiformes",
         "Vulnerable",
         "1.66",
         "331.0",
         "700.0",
         "56.0",
         "10.0",
         "1203.0",
         "Charrán patinegro",
         "NT",
         "Sin datos",
         "VU",
         "Desfavorable",
         "VU",
         "4450.05",
         "2594.0",
         "156.01",
         "2146.42",
         "247.22",
         "135.56",
         "9729.26"
        ],
        [
         "115",
         "Shag",
         "2007",
         "2",
         "21",
         "Suliformes",
         "Vulnerable",
         "1.66",
         "331.0",
         "700.0",
         "56.0",
         "10.0",
         "1203.0",
         "Cormorán moñudo",
         "VU",
         "Sin datos",
         "VU",
         "Sin Variaciones",
         "VU",
         "4450.05",
         "2594.0",
         "156.01",
         "2146.42",
         "247.22",
         "135.56",
         "9729.26"
        ],
        [
         "116",
         "Yelkouan Shearwater",
         "2007",
         "4",
         "495",
         "Procel·lariformes",
         "Vulnerable",
         "1.66",
         "331.0",
         "700.0",
         "56.0",
         "10.0",
         "1203.0",
         "Pardela mediterránea",
         "NE",
         "Sin datos",
         "VU",
         "Desfavorable",
         "VU",
         "4450.05",
         "2594.0",
         "156.01",
         "2146.42",
         "247.22",
         "135.56",
         "9729.26"
        ],
        [
         "117",
         "Arctic Skua",
         "2007",
         "1",
         "192",
         "Charadriiformes",
         "Protected",
         "1.86",
         "331.0",
         "700.0",
         "56.0",
         "10.0",
         "1203.0",
         "Págalo parásito",
         "NE",
         "NE",
         "Sin datos",
         "No Evaluada",
         "NE",
         "4450.05",
         "2594.0",
         "156.01",
         "2146.42",
         "247.22",
         "135.56",
         "9729.26"
        ],
        [
         "118",
         "Audouin's Gull",
         "2007",
         "1",
         "677",
         "Charadriiformes",
         "Critically Endangered",
         "1.86",
         "331.0",
         "700.0",
         "56.0",
         "10.0",
         "1203.0",
         "Gaviota de Audouin",
         "VU",
         "Sin datos",
         "VU",
         "Sin Variaciones",
         "VU",
         "4450.05",
         "2594.0",
         "156.01",
         "2146.42",
         "247.22",
         "135.56",
         "9729.26"
        ],
        [
         "119",
         "Balearic Shearwater",
         "2007",
         "15",
         "454",
         "Procel·lariformes",
         "Critically Endangered",
         "1.86",
         "331.0",
         "700.0",
         "56.0",
         "10.0",
         "1203.0",
         "Pardela balear",
         "CR",
         "Sin datos",
         "CR",
         "Sin Variaciones",
         "CR",
         "4450.05",
         "2594.0",
         "156.01",
         "2146.42",
         "247.22",
         "135.56",
         "9729.26"
        ],
        [
         "120",
         "Balearic-/Yelkouan Shearwater",
         "2007",
         "15",
         "4646",
         "Procel·lariformes",
         "Critically Endangered/Protected",
         "1.86",
         "331.0",
         "700.0",
         "56.0",
         "10.0",
         "1203.0",
         "Pardela balear/mediterránea",
         "CR/EN",
         "Sin datos",
         "CR/VU",
         "Sin Variaciones/Desfavorable",
         "CR/VU",
         "4450.05",
         "2594.0",
         "156.01",
         "2146.42",
         "247.22",
         "135.56",
         "9729.26"
        ],
        [
         "121",
         "Common Tern",
         "2007",
         "3",
         "217",
         "Charadriiformes",
         "Vulnerable",
         "1.86",
         "331.0",
         "700.0",
         "56.0",
         "10.0",
         "1203.0",
         "Charrán común",
         "NT",
         "Sin datos",
         "NT",
         "Sin Variaciones",
         "NT",
         "4450.05",
         "2594.0",
         "156.01",
         "2146.42",
         "247.22",
         "135.56",
         "9729.26"
        ],
        [
         "122",
         "Gannet",
         "2007",
         "15",
         "19",
         "Suliformes",
         "Protected",
         "1.86",
         "331.0",
         "700.0",
         "56.0",
         "10.0",
         "1203.0",
         "Alcatraz atlántico",
         "NE",
         "LC",
         "Sin datos",
         "Favorable",
         "LC",
         "4450.05",
         "2594.0",
         "156.01",
         "2146.42",
         "247.22",
         "135.56",
         "9729.26"
        ],
        [
         "123",
         "Mediterranean Gull",
         "2007",
         "1",
         "196",
         "Charadriiformes",
         "Protected",
         "1.86",
         "331.0",
         "700.0",
         "56.0",
         "10.0",
         "1203.0",
         "Gaviota cabecinegra",
         "NE",
         "NT",
         "Sin datos",
         "Desfavorable",
         "NT",
         "4450.05",
         "2594.0",
         "156.01",
         "2146.42",
         "247.22",
         "135.56",
         "9729.26"
        ],
        [
         "124",
         "Sandwich Tern",
         "2007",
         "5",
         "215",
         "Charadriiformes",
         "Vulnerable",
         "1.86",
         "331.0",
         "700.0",
         "56.0",
         "10.0",
         "1203.0",
         "Charrán patinegro",
         "NT",
         "Sin datos",
         "VU",
         "Desfavorable",
         "VU",
         "4450.05",
         "2594.0",
         "156.01",
         "2146.42",
         "247.22",
         "135.56",
         "9729.26"
        ]
       ],
       "shape": {
        "columns": 25,
        "rows": 1855
       }
      },
      "text/html": [
       "<div>\n",
       "<style scoped>\n",
       "    .dataframe tbody tr th:only-of-type {\n",
       "        vertical-align: middle;\n",
       "    }\n",
       "\n",
       "    .dataframe tbody tr th {\n",
       "        vertical-align: top;\n",
       "    }\n",
       "\n",
       "    .dataframe thead th {\n",
       "        text-align: right;\n",
       "    }\n",
       "</style>\n",
       "<table border=\"1\" class=\"dataframe\">\n",
       "  <thead>\n",
       "    <tr style=\"text-align: right;\">\n",
       "      <th></th>\n",
       "      <th>speciesname</th>\n",
       "      <th>year</th>\n",
       "      <th>count_aves</th>\n",
       "      <th>speciesid</th>\n",
       "      <th>Ordre</th>\n",
       "      <th>Protection_status_in_Catlunya</th>\n",
       "      <th>SST_change</th>\n",
       "      <th>Arrossegament_fons_Mediterrani</th>\n",
       "      <th>Arts_menors_Mediterrani</th>\n",
       "      <th>Palangre_fons_Mediterrani</th>\n",
       "      <th>...</th>\n",
       "      <th>LR2021 Repro</th>\n",
       "      <th>Evolucion_Categoria_2004_2021</th>\n",
       "      <th>Estatus_2021</th>\n",
       "      <th>Biosphere_reserve</th>\n",
       "      <th>MPA_national_statute</th>\n",
       "      <th>Marine_Natura_2000_proposed_site</th>\n",
       "      <th>Marine_Natura_2000_site</th>\n",
       "      <th>SPAMI</th>\n",
       "      <th>World_heritage_site</th>\n",
       "      <th>Total_MPAs</th>\n",
       "    </tr>\n",
       "  </thead>\n",
       "  <tbody>\n",
       "    <tr>\n",
       "      <th>75</th>\n",
       "      <td>Balearic Shearwater</td>\n",
       "      <td>2007</td>\n",
       "      <td>9</td>\n",
       "      <td>454</td>\n",
       "      <td>Procel·lariformes</td>\n",
       "      <td>Critically Endangered</td>\n",
       "      <td>2.40</td>\n",
       "      <td>331.0</td>\n",
       "      <td>700.0</td>\n",
       "      <td>56.0</td>\n",
       "      <td>...</td>\n",
       "      <td>CR</td>\n",
       "      <td>Sin Variaciones</td>\n",
       "      <td>CR</td>\n",
       "      <td>4450.05</td>\n",
       "      <td>2594.00</td>\n",
       "      <td>156.01</td>\n",
       "      <td>2146.42</td>\n",
       "      <td>247.22</td>\n",
       "      <td>135.56</td>\n",
       "      <td>9729.26</td>\n",
       "    </tr>\n",
       "    <tr>\n",
       "      <th>76</th>\n",
       "      <td>Balearic-/Yelkouan Shearwater</td>\n",
       "      <td>2007</td>\n",
       "      <td>4</td>\n",
       "      <td>4646</td>\n",
       "      <td>Procel·lariformes</td>\n",
       "      <td>Critically Endangered/Protected</td>\n",
       "      <td>2.40</td>\n",
       "      <td>331.0</td>\n",
       "      <td>700.0</td>\n",
       "      <td>56.0</td>\n",
       "      <td>...</td>\n",
       "      <td>CR/VU</td>\n",
       "      <td>Sin Variaciones/Desfavorable</td>\n",
       "      <td>CR/VU</td>\n",
       "      <td>4450.05</td>\n",
       "      <td>2594.00</td>\n",
       "      <td>156.01</td>\n",
       "      <td>2146.42</td>\n",
       "      <td>247.22</td>\n",
       "      <td>135.56</td>\n",
       "      <td>9729.26</td>\n",
       "    </tr>\n",
       "    <tr>\n",
       "      <th>77</th>\n",
       "      <td>Black-headed Gull</td>\n",
       "      <td>2007</td>\n",
       "      <td>5</td>\n",
       "      <td>200</td>\n",
       "      <td>Charadriiformes</td>\n",
       "      <td>No Evaluated</td>\n",
       "      <td>2.40</td>\n",
       "      <td>331.0</td>\n",
       "      <td>700.0</td>\n",
       "      <td>56.0</td>\n",
       "      <td>...</td>\n",
       "      <td>Sin datos</td>\n",
       "      <td>Favorable</td>\n",
       "      <td>LC</td>\n",
       "      <td>4450.05</td>\n",
       "      <td>2594.00</td>\n",
       "      <td>156.01</td>\n",
       "      <td>2146.42</td>\n",
       "      <td>247.22</td>\n",
       "      <td>135.56</td>\n",
       "      <td>9729.26</td>\n",
       "    </tr>\n",
       "    <tr>\n",
       "      <th>78</th>\n",
       "      <td>Cormorant</td>\n",
       "      <td>2007</td>\n",
       "      <td>12</td>\n",
       "      <td>20</td>\n",
       "      <td>Suliformes</td>\n",
       "      <td>No Evaluated</td>\n",
       "      <td>2.40</td>\n",
       "      <td>331.0</td>\n",
       "      <td>700.0</td>\n",
       "      <td>56.0</td>\n",
       "      <td>...</td>\n",
       "      <td>LC</td>\n",
       "      <td>Favorable</td>\n",
       "      <td>LC</td>\n",
       "      <td>4450.05</td>\n",
       "      <td>2594.00</td>\n",
       "      <td>156.01</td>\n",
       "      <td>2146.42</td>\n",
       "      <td>247.22</td>\n",
       "      <td>135.56</td>\n",
       "      <td>9729.26</td>\n",
       "    </tr>\n",
       "    <tr>\n",
       "      <th>79</th>\n",
       "      <td>Gannet</td>\n",
       "      <td>2007</td>\n",
       "      <td>13</td>\n",
       "      <td>19</td>\n",
       "      <td>Suliformes</td>\n",
       "      <td>Protected</td>\n",
       "      <td>2.40</td>\n",
       "      <td>331.0</td>\n",
       "      <td>700.0</td>\n",
       "      <td>56.0</td>\n",
       "      <td>...</td>\n",
       "      <td>Sin datos</td>\n",
       "      <td>Favorable</td>\n",
       "      <td>LC</td>\n",
       "      <td>4450.05</td>\n",
       "      <td>2594.00</td>\n",
       "      <td>156.01</td>\n",
       "      <td>2146.42</td>\n",
       "      <td>247.22</td>\n",
       "      <td>135.56</td>\n",
       "      <td>9729.26</td>\n",
       "    </tr>\n",
       "    <tr>\n",
       "      <th>...</th>\n",
       "      <td>...</td>\n",
       "      <td>...</td>\n",
       "      <td>...</td>\n",
       "      <td>...</td>\n",
       "      <td>...</td>\n",
       "      <td>...</td>\n",
       "      <td>...</td>\n",
       "      <td>...</td>\n",
       "      <td>...</td>\n",
       "      <td>...</td>\n",
       "      <td>...</td>\n",
       "      <td>...</td>\n",
       "      <td>...</td>\n",
       "      <td>...</td>\n",
       "      <td>...</td>\n",
       "      <td>...</td>\n",
       "      <td>...</td>\n",
       "      <td>...</td>\n",
       "      <td>...</td>\n",
       "      <td>...</td>\n",
       "      <td>...</td>\n",
       "    </tr>\n",
       "    <tr>\n",
       "      <th>1925</th>\n",
       "      <td>Razorbill</td>\n",
       "      <td>2023</td>\n",
       "      <td>12</td>\n",
       "      <td>226</td>\n",
       "      <td>Charadriiformes</td>\n",
       "      <td>Vulnerable</td>\n",
       "      <td>0.84</td>\n",
       "      <td>206.0</td>\n",
       "      <td>323.0</td>\n",
       "      <td>16.0</td>\n",
       "      <td>...</td>\n",
       "      <td>Sin datos</td>\n",
       "      <td>Datos Insuficientes</td>\n",
       "      <td>DD</td>\n",
       "      <td>5251.70</td>\n",
       "      <td>49295.58</td>\n",
       "      <td>4459.98</td>\n",
       "      <td>20091.67</td>\n",
       "      <td>247.22</td>\n",
       "      <td>135.56</td>\n",
       "      <td>79481.71</td>\n",
       "    </tr>\n",
       "    <tr>\n",
       "      <th>1926</th>\n",
       "      <td>Sandwich Tern</td>\n",
       "      <td>2023</td>\n",
       "      <td>1</td>\n",
       "      <td>215</td>\n",
       "      <td>Charadriiformes</td>\n",
       "      <td>Vulnerable</td>\n",
       "      <td>0.84</td>\n",
       "      <td>206.0</td>\n",
       "      <td>323.0</td>\n",
       "      <td>16.0</td>\n",
       "      <td>...</td>\n",
       "      <td>VU</td>\n",
       "      <td>Desfavorable</td>\n",
       "      <td>VU</td>\n",
       "      <td>5251.70</td>\n",
       "      <td>49295.58</td>\n",
       "      <td>4459.98</td>\n",
       "      <td>20091.67</td>\n",
       "      <td>247.22</td>\n",
       "      <td>135.56</td>\n",
       "      <td>79481.71</td>\n",
       "    </tr>\n",
       "    <tr>\n",
       "      <th>1927</th>\n",
       "      <td>Shag</td>\n",
       "      <td>2023</td>\n",
       "      <td>9</td>\n",
       "      <td>21</td>\n",
       "      <td>Suliformes</td>\n",
       "      <td>Vulnerable</td>\n",
       "      <td>0.84</td>\n",
       "      <td>206.0</td>\n",
       "      <td>323.0</td>\n",
       "      <td>16.0</td>\n",
       "      <td>...</td>\n",
       "      <td>VU</td>\n",
       "      <td>Sin Variaciones</td>\n",
       "      <td>VU</td>\n",
       "      <td>5251.70</td>\n",
       "      <td>49295.58</td>\n",
       "      <td>4459.98</td>\n",
       "      <td>20091.67</td>\n",
       "      <td>247.22</td>\n",
       "      <td>135.56</td>\n",
       "      <td>79481.71</td>\n",
       "    </tr>\n",
       "    <tr>\n",
       "      <th>1928</th>\n",
       "      <td>Yelkouan Shearwater</td>\n",
       "      <td>2023</td>\n",
       "      <td>58</td>\n",
       "      <td>495</td>\n",
       "      <td>Procel·lariformes</td>\n",
       "      <td>Vulnerable</td>\n",
       "      <td>0.84</td>\n",
       "      <td>206.0</td>\n",
       "      <td>323.0</td>\n",
       "      <td>16.0</td>\n",
       "      <td>...</td>\n",
       "      <td>VU</td>\n",
       "      <td>Desfavorable</td>\n",
       "      <td>VU</td>\n",
       "      <td>5251.70</td>\n",
       "      <td>49295.58</td>\n",
       "      <td>4459.98</td>\n",
       "      <td>20091.67</td>\n",
       "      <td>247.22</td>\n",
       "      <td>135.56</td>\n",
       "      <td>79481.71</td>\n",
       "    </tr>\n",
       "    <tr>\n",
       "      <th>1929</th>\n",
       "      <td>Yellow-legged Gull</td>\n",
       "      <td>2023</td>\n",
       "      <td>1</td>\n",
       "      <td>445</td>\n",
       "      <td>Charadriiformes</td>\n",
       "      <td>No Evaluated</td>\n",
       "      <td>0.84</td>\n",
       "      <td>206.0</td>\n",
       "      <td>323.0</td>\n",
       "      <td>16.0</td>\n",
       "      <td>...</td>\n",
       "      <td>NT</td>\n",
       "      <td>Desfavorable</td>\n",
       "      <td>NT</td>\n",
       "      <td>5251.70</td>\n",
       "      <td>49295.58</td>\n",
       "      <td>4459.98</td>\n",
       "      <td>20091.67</td>\n",
       "      <td>247.22</td>\n",
       "      <td>135.56</td>\n",
       "      <td>79481.71</td>\n",
       "    </tr>\n",
       "  </tbody>\n",
       "</table>\n",
       "<p>1855 rows × 25 columns</p>\n",
       "</div>"
      ],
      "text/plain": [
       "                        speciesname  year  count_aves  speciesid  \\\n",
       "75              Balearic Shearwater  2007           9        454   \n",
       "76    Balearic-/Yelkouan Shearwater  2007           4       4646   \n",
       "77                Black-headed Gull  2007           5        200   \n",
       "78                        Cormorant  2007          12         20   \n",
       "79                           Gannet  2007          13         19   \n",
       "...                             ...   ...         ...        ...   \n",
       "1925                      Razorbill  2023          12        226   \n",
       "1926                  Sandwich Tern  2023           1        215   \n",
       "1927                           Shag  2023           9         21   \n",
       "1928            Yelkouan Shearwater  2023          58        495   \n",
       "1929             Yellow-legged Gull  2023           1        445   \n",
       "\n",
       "                  Ordre    Protection_status_in_Catlunya  SST_change  \\\n",
       "75    Procel·lariformes            Critically Endangered        2.40   \n",
       "76    Procel·lariformes  Critically Endangered/Protected        2.40   \n",
       "77      Charadriiformes                     No Evaluated        2.40   \n",
       "78           Suliformes                     No Evaluated        2.40   \n",
       "79           Suliformes                        Protected        2.40   \n",
       "...                 ...                              ...         ...   \n",
       "1925    Charadriiformes                       Vulnerable        0.84   \n",
       "1926    Charadriiformes                       Vulnerable        0.84   \n",
       "1927         Suliformes                       Vulnerable        0.84   \n",
       "1928  Procel·lariformes                       Vulnerable        0.84   \n",
       "1929    Charadriiformes                     No Evaluated        0.84   \n",
       "\n",
       "      Arrossegament_fons_Mediterrani  Arts_menors_Mediterrani  \\\n",
       "75                             331.0                    700.0   \n",
       "76                             331.0                    700.0   \n",
       "77                             331.0                    700.0   \n",
       "78                             331.0                    700.0   \n",
       "79                             331.0                    700.0   \n",
       "...                              ...                      ...   \n",
       "1925                           206.0                    323.0   \n",
       "1926                           206.0                    323.0   \n",
       "1927                           206.0                    323.0   \n",
       "1928                           206.0                    323.0   \n",
       "1929                           206.0                    323.0   \n",
       "\n",
       "      Palangre_fons_Mediterrani  ...  LR2021 Repro  \\\n",
       "75                         56.0  ...            CR   \n",
       "76                         56.0  ...         CR/VU   \n",
       "77                         56.0  ...     Sin datos   \n",
       "78                         56.0  ...            LC   \n",
       "79                         56.0  ...     Sin datos   \n",
       "...                         ...  ...           ...   \n",
       "1925                       16.0  ...     Sin datos   \n",
       "1926                       16.0  ...            VU   \n",
       "1927                       16.0  ...            VU   \n",
       "1928                       16.0  ...            VU   \n",
       "1929                       16.0  ...            NT   \n",
       "\n",
       "      Evolucion_Categoria_2004_2021 Estatus_2021 Biosphere_reserve  \\\n",
       "75                  Sin Variaciones           CR           4450.05   \n",
       "76     Sin Variaciones/Desfavorable        CR/VU           4450.05   \n",
       "77                        Favorable           LC           4450.05   \n",
       "78                        Favorable           LC           4450.05   \n",
       "79                        Favorable           LC           4450.05   \n",
       "...                             ...          ...               ...   \n",
       "1925            Datos Insuficientes           DD           5251.70   \n",
       "1926                   Desfavorable           VU           5251.70   \n",
       "1927                Sin Variaciones           VU           5251.70   \n",
       "1928                   Desfavorable           VU           5251.70   \n",
       "1929                   Desfavorable           NT           5251.70   \n",
       "\n",
       "     MPA_national_statute Marine_Natura_2000_proposed_site  \\\n",
       "75                2594.00                           156.01   \n",
       "76                2594.00                           156.01   \n",
       "77                2594.00                           156.01   \n",
       "78                2594.00                           156.01   \n",
       "79                2594.00                           156.01   \n",
       "...                   ...                              ...   \n",
       "1925             49295.58                          4459.98   \n",
       "1926             49295.58                          4459.98   \n",
       "1927             49295.58                          4459.98   \n",
       "1928             49295.58                          4459.98   \n",
       "1929             49295.58                          4459.98   \n",
       "\n",
       "     Marine_Natura_2000_site   SPAMI  World_heritage_site  Total_MPAs  \n",
       "75                   2146.42  247.22               135.56     9729.26  \n",
       "76                   2146.42  247.22               135.56     9729.26  \n",
       "77                   2146.42  247.22               135.56     9729.26  \n",
       "78                   2146.42  247.22               135.56     9729.26  \n",
       "79                   2146.42  247.22               135.56     9729.26  \n",
       "...                      ...     ...                  ...         ...  \n",
       "1925                20091.67  247.22               135.56    79481.71  \n",
       "1926                20091.67  247.22               135.56    79481.71  \n",
       "1927                20091.67  247.22               135.56    79481.71  \n",
       "1928                20091.67  247.22               135.56    79481.71  \n",
       "1929                20091.67  247.22               135.56    79481.71  \n",
       "\n",
       "[1855 rows x 25 columns]"
      ]
     },
     "execution_count": 47,
     "metadata": {},
     "output_type": "execute_result"
    }
   ],
   "source": [
    "censo_gml = censo.copy()\n",
    "censo_gml = censo_gml.rename(columns={\n",
    "    'SST change': 'SST_change',\n",
    "    'Estatus Consolidado': 'Estatus_2021',\n",
    "    'Arrossegament de fons al Mediterrani': 'Arrossegament_fons_Mediterrani',\n",
    "    'Arts menors en el Mediterrani': 'Arts_menors_Mediterrani',\n",
    "    'Encerclament al Mediterrani': 'Encerclament_Mediterrani',\n",
    "    'Encerclament tonyina vermella al Mediterrani': 'Encerclament_tonyina_vermella_Mediterrani',\n",
    "    'Palangre de fons al Mediterrani': 'Palangre_fons_Mediterrani',\n",
    "    'Palangre de superficie al Mediterrani': 'Palangre_superficie_Mediterrani',\n",
    "    'Total CAT': 'Total_CAT',\n",
    "    'EVOLUCIÓN CATEGORÍA 2004-2021': 'Evolucion_Categoria_2004_2021',\n",
    "    'Biosphere reserve': 'Biosphere_reserve',\n",
    "    'MPA with a national statute': 'MPA_national_statute',\n",
    "    'Marine Natura 2000 proposed site': 'Marine_Natura_2000_proposed_site',\n",
    "    'Marine Natura 2000 site': 'Marine_Natura_2000_site',\n",
    "    'Ramsar site': 'Ramsar_site',\n",
    "    'World heritage site': 'World_heritage_site', \n",
    "    'Protection status in Catlunya': 'Protection_status_in_Catlunya'\n",
    "})\n",
    "\n",
    "censo_gml.drop(['date', 'Scientific name', 'yday', 'fecha', 'fecha_formateada', 'month', 'nombre_mes', 'Catalan name', 'Average SST 1975-2000', 'Average SST month', 'calculo', 'Ramsar_site', 'Encerclament_tonyina_vermella_Mediterrani', 'Encerclament_Mediterrani'], axis=1, inplace=True)\n",
    "\n",
    "censo_gml"
   ]
  },
  {
   "cell_type": "code",
   "execution_count": 48,
   "id": "02c46b6c",
   "metadata": {},
   "outputs": [
    {
     "name": "stdout",
     "output_type": "stream",
     "text": [
      "\n",
      "Estadísticas descriptivas de 'count_aves':\n",
      "count    1855.000000\n",
      "mean        4.406469\n",
      "std         4.053813\n",
      "min         1.000000\n",
      "25%         1.000000\n",
      "50%         4.000000\n",
      "75%         6.000000\n",
      "max        58.000000\n",
      "Name: count_aves, dtype: float64\n"
     ]
    }
   ],
   "source": [
    "print(\"\\nEstadísticas descriptivas de 'count_aves':\")\n",
    "print(censo_gml['count_aves'].describe())"
   ]
  },
  {
   "cell_type": "code",
   "execution_count": 49,
   "id": "bc89fbb5",
   "metadata": {},
   "outputs": [
    {
     "name": "stdout",
     "output_type": "stream",
     "text": [
      "\n",
      "Distribución de 'count_aves' (histograma):\n"
     ]
    },
    {
     "data": {
      "image/png": "[encoded data removed]",
      "text/plain": [
       "<Figure size 800x500 with 1 Axes>"
      ]
     },
     "metadata": {},
     "output_type": "display_data"
    }
   ],
   "source": [
    "print(\"\\nDistribución de 'count_aves' (histograma):\")\n",
    "plt.figure(figsize=(8, 5))\n",
    "sns.histplot(censo_gml['count_aves'], bins=30, kde=True)\n",
    "plt.title('Distribución de Conteo de Aves')\n",
    "plt.xlabel('Conteo de Aves')\n",
    "plt.ylabel('Frecuencia')\n",
    "plt.show()"
   ]
  },
  {
   "cell_type": "markdown",
   "id": "df604c5b",
   "metadata": {},
   "source": [
    "## GML para el numero de aves"
   ]
  },
  {
   "cell_type": "markdown",
   "id": "20e5ef35",
   "metadata": {},
   "source": [
    "Con areas marinas totales y con el cambio en la cetegoria de coservación."
   ]
  },
  {
   "cell_type": "code",
   "execution_count": 50,
   "id": "5cb46556",
   "metadata": {},
   "outputs": [
    {
     "data": {
      "application/vnd.microsoft.datawrangler.viewer.v0+json": {
       "columns": [
        {
         "name": "index",
         "rawType": "int64",
         "type": "integer"
        },
        {
         "name": "speciesname",
         "rawType": "object",
         "type": "string"
        },
        {
         "name": "year",
         "rawType": "int64",
         "type": "integer"
        },
        {
         "name": "count_aves",
         "rawType": "int64",
         "type": "integer"
        },
        {
         "name": "speciesid",
         "rawType": "int64",
         "type": "integer"
        },
        {
         "name": "Ordre",
         "rawType": "object",
         "type": "string"
        },
        {
         "name": "Protection_status_in_Catlunya",
         "rawType": "object",
         "type": "string"
        },
        {
         "name": "SST_change",
         "rawType": "float64",
         "type": "float"
        },
        {
         "name": "Arrossegament_fons_Mediterrani",
         "rawType": "float64",
         "type": "float"
        },
        {
         "name": "Arts_menors_Mediterrani",
         "rawType": "float64",
         "type": "float"
        },
        {
         "name": "Encerclament_Mediterrani",
         "rawType": "float64",
         "type": "float"
        },
        {
         "name": "Palangre_fons_Mediterrani",
         "rawType": "float64",
         "type": "float"
        },
        {
         "name": "Palangre_superficie_Mediterrani",
         "rawType": "float64",
         "type": "float"
        },
        {
         "name": "Total_CAT",
         "rawType": "float64",
         "type": "float"
        },
        {
         "name": "NOMBRE COMÚN",
         "rawType": "object",
         "type": "string"
        },
        {
         "name": "LR2004",
         "rawType": "object",
         "type": "string"
        },
        {
         "name": "LR2021 Invern/Migrat",
         "rawType": "object",
         "type": "string"
        },
        {
         "name": "LR2021 Repro",
         "rawType": "object",
         "type": "string"
        },
        {
         "name": "Evolucion_Categoria_2004_2021",
         "rawType": "object",
         "type": "string"
        },
        {
         "name": "Estatus_2021",
         "rawType": "object",
         "type": "string"
        },
        {
         "name": "Biosphere_reserve",
         "rawType": "float64",
         "type": "float"
        },
        {
         "name": "MPA_national_statute",
         "rawType": "float64",
         "type": "float"
        },
        {
         "name": "Marine_Natura_2000_proposed_site",
         "rawType": "float64",
         "type": "float"
        },
        {
         "name": "Marine_Natura_2000_site",
         "rawType": "float64",
         "type": "float"
        },
        {
         "name": "SPAMI",
         "rawType": "float64",
         "type": "float"
        },
        {
         "name": "World_heritage_site",
         "rawType": "float64",
         "type": "float"
        },
        {
         "name": "Total_MPAs",
         "rawType": "float64",
         "type": "float"
        }
       ],
       "ref": "9542ae77-2d21-4c8d-9073-e9065a0dd06e",
       "rows": [
        [
         "75",
         "Balearic Shearwater",
         "2007",
         "9",
         "454",
         "Procel·lariformes",
         "Critically Endangered",
         "2.4",
         "331.0",
         "700.0",
         "100.0",
         "56.0",
         "10.0",
         "1203.0",
         "Pardela balear",
         "CR",
         "Sin datos",
         "CR",
         "Sin Variaciones",
         "CR",
         "4450.05",
         "2594.0",
         "156.01",
         "2146.42",
         "247.22",
         "135.56",
         "9729.26"
        ],
        [
         "76",
         "Balearic-/Yelkouan Shearwater",
         "2007",
         "4",
         "4646",
         "Procel·lariformes",
         "Critically Endangered/Protected",
         "2.4",
         "331.0",
         "700.0",
         "100.0",
         "56.0",
         "10.0",
         "1203.0",
         "Pardela balear/mediterránea",
         "CR/EN",
         "Sin datos",
         "CR/VU",
         "Sin Variaciones/Desfavorable",
         "CR/VU",
         "4450.05",
         "2594.0",
         "156.01",
         "2146.42",
         "247.22",
         "135.56",
         "9729.26"
        ],
        [
         "77",
         "Black-headed Gull",
         "2007",
         "5",
         "200",
         "Charadriiformes",
         "No Evaluated",
         "2.4",
         "331.0",
         "700.0",
         "100.0",
         "56.0",
         "10.0",
         "1203.0",
         "Gaviota reidora",
         "NE",
         "LC",
         "Sin datos",
         "Favorable",
         "LC",
         "4450.05",
         "2594.0",
         "156.01",
         "2146.42",
         "247.22",
         "135.56",
         "9729.26"
        ],
        [
         "78",
         "Cormorant",
         "2007",
         "12",
         "20",
         "Suliformes",
         "No Evaluated",
         "2.4",
         "331.0",
         "700.0",
         "100.0",
         "56.0",
         "10.0",
         "1203.0",
         "Cormorán grande",
         "NE",
         "LC",
         "LC",
         "Favorable",
         "LC",
         "4450.05",
         "2594.0",
         "156.01",
         "2146.42",
         "247.22",
         "135.56",
         "9729.26"
        ],
        [
         "79",
         "Gannet",
         "2007",
         "13",
         "19",
         "Suliformes",
         "Protected",
         "2.4",
         "331.0",
         "700.0",
         "100.0",
         "56.0",
         "10.0",
         "1203.0",
         "Alcatraz atlántico",
         "NE",
         "LC",
         "Sin datos",
         "Favorable",
         "LC",
         "4450.05",
         "2594.0",
         "156.01",
         "2146.42",
         "247.22",
         "135.56",
         "9729.26"
        ],
        [
         "80",
         "Razorbill",
         "2007",
         "13",
         "226",
         "Charadriiformes",
         "Vulnerable",
         "2.4",
         "331.0",
         "700.0",
         "100.0",
         "56.0",
         "10.0",
         "1203.0",
         "Alca común",
         "NE",
         "DD",
         "Sin datos",
         "Datos Insuficientes",
         "DD",
         "4450.05",
         "2594.0",
         "156.01",
         "2146.42",
         "247.22",
         "135.56",
         "9729.26"
        ],
        [
         "81",
         "Sandwich Tern",
         "2007",
         "7",
         "215",
         "Charadriiformes",
         "Vulnerable",
         "2.4",
         "331.0",
         "700.0",
         "100.0",
         "56.0",
         "10.0",
         "1203.0",
         "Charrán patinegro",
         "NT",
         "Sin datos",
         "VU",
         "Desfavorable",
         "VU",
         "4450.05",
         "2594.0",
         "156.01",
         "2146.42",
         "247.22",
         "135.56",
         "9729.26"
        ],
        [
         "82",
         "Yelkouan Shearwater",
         "2007",
         "15",
         "495",
         "Procel·lariformes",
         "Vulnerable",
         "2.4",
         "331.0",
         "700.0",
         "100.0",
         "56.0",
         "10.0",
         "1203.0",
         "Pardela mediterránea",
         "NE",
         "Sin datos",
         "VU",
         "Desfavorable",
         "VU",
         "4450.05",
         "2594.0",
         "156.01",
         "2146.42",
         "247.22",
         "135.56",
         "9729.26"
        ],
        [
         "83",
         "Yellow-legged Gull",
         "2007",
         "6",
         "445",
         "Charadriiformes",
         "No Evaluated",
         "2.4",
         "331.0",
         "700.0",
         "100.0",
         "56.0",
         "10.0",
         "1203.0",
         "Gaviota patiamarilla",
         "NE",
         "Sin datos",
         "NT",
         "Desfavorable",
         "NT",
         "4450.05",
         "2594.0",
         "156.01",
         "2146.42",
         "247.22",
         "135.56",
         "9729.26"
        ],
        [
         "84",
         "Balearic Shearwater",
         "2007",
         "4",
         "454",
         "Procel·lariformes",
         "Critically Endangered",
         "1.21",
         "331.0",
         "700.0",
         "100.0",
         "56.0",
         "10.0",
         "1203.0",
         "Pardela balear",
         "CR",
         "Sin datos",
         "CR",
         "Sin Variaciones",
         "CR",
         "4450.05",
         "2594.0",
         "156.01",
         "2146.42",
         "247.22",
         "135.56",
         "9729.26"
        ],
        [
         "85",
         "Balearic-/Yelkouan Shearwater",
         "2007",
         "2",
         "4646",
         "Procel·lariformes",
         "Critically Endangered/Protected",
         "1.21",
         "331.0",
         "700.0",
         "100.0",
         "56.0",
         "10.0",
         "1203.0",
         "Pardela balear/mediterránea",
         "CR/EN",
         "Sin datos",
         "CR/VU",
         "Sin Variaciones/Desfavorable",
         "CR/VU",
         "4450.05",
         "2594.0",
         "156.01",
         "2146.42",
         "247.22",
         "135.56",
         "9729.26"
        ],
        [
         "86",
         "Black-headed Gull",
         "2007",
         "10",
         "200",
         "Charadriiformes",
         "No Evaluated",
         "1.21",
         "331.0",
         "700.0",
         "100.0",
         "56.0",
         "10.0",
         "1203.0",
         "Gaviota reidora",
         "NE",
         "LC",
         "Sin datos",
         "Favorable",
         "LC",
         "4450.05",
         "2594.0",
         "156.01",
         "2146.42",
         "247.22",
         "135.56",
         "9729.26"
        ],
        [
         "87",
         "Cormorant",
         "2007",
         "5",
         "20",
         "Suliformes",
         "No Evaluated",
         "1.21",
         "331.0",
         "700.0",
         "100.0",
         "56.0",
         "10.0",
         "1203.0",
         "Cormorán grande",
         "NE",
         "LC",
         "LC",
         "Favorable",
         "LC",
         "4450.05",
         "2594.0",
         "156.01",
         "2146.42",
         "247.22",
         "135.56",
         "9729.26"
        ],
        [
         "88",
         "Gannet",
         "2007",
         "5",
         "19",
         "Suliformes",
         "Protected",
         "1.21",
         "331.0",
         "700.0",
         "100.0",
         "56.0",
         "10.0",
         "1203.0",
         "Alcatraz atlántico",
         "NE",
         "LC",
         "Sin datos",
         "Favorable",
         "LC",
         "4450.05",
         "2594.0",
         "156.01",
         "2146.42",
         "247.22",
         "135.56",
         "9729.26"
        ],
        [
         "89",
         "Kittiwake",
         "2007",
         "1",
         "211",
         "Charadriiformes",
         "Protected",
         "1.21",
         "331.0",
         "700.0",
         "100.0",
         "56.0",
         "10.0",
         "1203.0",
         "Gaviota tridáctila",
         "VU",
         "Sin datos",
         "CR",
         "Desfavorable",
         "CR",
         "4450.05",
         "2594.0",
         "156.01",
         "2146.42",
         "247.22",
         "135.56",
         "9729.26"
        ],
        [
         "90",
         "Mediterranean Gull",
         "2007",
         "3",
         "196",
         "Charadriiformes",
         "Protected",
         "1.21",
         "331.0",
         "700.0",
         "100.0",
         "56.0",
         "10.0",
         "1203.0",
         "Gaviota cabecinegra",
         "NE",
         "NT",
         "Sin datos",
         "Desfavorable",
         "NT",
         "4450.05",
         "2594.0",
         "156.01",
         "2146.42",
         "247.22",
         "135.56",
         "9729.26"
        ],
        [
         "91",
         "Razorbill",
         "2007",
         "1",
         "226",
         "Charadriiformes",
         "Vulnerable",
         "1.21",
         "331.0",
         "700.0",
         "100.0",
         "56.0",
         "10.0",
         "1203.0",
         "Alca común",
         "NE",
         "DD",
         "Sin datos",
         "Datos Insuficientes",
         "DD",
         "4450.05",
         "2594.0",
         "156.01",
         "2146.42",
         "247.22",
         "135.56",
         "9729.26"
        ],
        [
         "92",
         "Sandwich Tern",
         "2007",
         "5",
         "215",
         "Charadriiformes",
         "Vulnerable",
         "1.21",
         "331.0",
         "700.0",
         "100.0",
         "56.0",
         "10.0",
         "1203.0",
         "Charrán patinegro",
         "NT",
         "Sin datos",
         "VU",
         "Desfavorable",
         "VU",
         "4450.05",
         "2594.0",
         "156.01",
         "2146.42",
         "247.22",
         "135.56",
         "9729.26"
        ],
        [
         "93",
         "Yelkouan Shearwater",
         "2007",
         "5",
         "495",
         "Procel·lariformes",
         "Vulnerable",
         "1.21",
         "331.0",
         "700.0",
         "100.0",
         "56.0",
         "10.0",
         "1203.0",
         "Pardela mediterránea",
         "NE",
         "Sin datos",
         "VU",
         "Desfavorable",
         "VU",
         "4450.05",
         "2594.0",
         "156.01",
         "2146.42",
         "247.22",
         "135.56",
         "9729.26"
        ],
        [
         "94",
         "Yellow-legged Gull",
         "2007",
         "6",
         "445",
         "Charadriiformes",
         "No Evaluated",
         "1.21",
         "331.0",
         "700.0",
         "100.0",
         "56.0",
         "10.0",
         "1203.0",
         "Gaviota patiamarilla",
         "NE",
         "Sin datos",
         "NT",
         "Desfavorable",
         "NT",
         "4450.05",
         "2594.0",
         "156.01",
         "2146.42",
         "247.22",
         "135.56",
         "9729.26"
        ],
        [
         "95",
         "Balearic Shearwater",
         "2007",
         "6",
         "454",
         "Procel·lariformes",
         "Critically Endangered",
         "1.02",
         "331.0",
         "700.0",
         "100.0",
         "56.0",
         "10.0",
         "1203.0",
         "Pardela balear",
         "CR",
         "Sin datos",
         "CR",
         "Sin Variaciones",
         "CR",
         "4450.05",
         "2594.0",
         "156.01",
         "2146.42",
         "247.22",
         "135.56",
         "9729.26"
        ],
        [
         "96",
         "Balearic-/Yelkouan Shearwater",
         "2007",
         "6",
         "4646",
         "Procel·lariformes",
         "Critically Endangered/Protected",
         "1.02",
         "331.0",
         "700.0",
         "100.0",
         "56.0",
         "10.0",
         "1203.0",
         "Pardela balear/mediterránea",
         "CR/EN",
         "Sin datos",
         "CR/VU",
         "Sin Variaciones/Desfavorable",
         "CR/VU",
         "4450.05",
         "2594.0",
         "156.01",
         "2146.42",
         "247.22",
         "135.56",
         "9729.26"
        ],
        [
         "97",
         "Black-headed Gull",
         "2007",
         "4",
         "200",
         "Charadriiformes",
         "No Evaluated",
         "1.02",
         "331.0",
         "700.0",
         "100.0",
         "56.0",
         "10.0",
         "1203.0",
         "Gaviota reidora",
         "NE",
         "LC",
         "Sin datos",
         "Favorable",
         "LC",
         "4450.05",
         "2594.0",
         "156.01",
         "2146.42",
         "247.22",
         "135.56",
         "9729.26"
        ],
        [
         "98",
         "Cormorant",
         "2007",
         "6",
         "20",
         "Suliformes",
         "No Evaluated",
         "1.02",
         "331.0",
         "700.0",
         "100.0",
         "56.0",
         "10.0",
         "1203.0",
         "Cormorán grande",
         "NE",
         "LC",
         "LC",
         "Favorable",
         "LC",
         "4450.05",
         "2594.0",
         "156.01",
         "2146.42",
         "247.22",
         "135.56",
         "9729.26"
        ],
        [
         "99",
         "Gannet",
         "2007",
         "10",
         "19",
         "Suliformes",
         "Protected",
         "1.02",
         "331.0",
         "700.0",
         "100.0",
         "56.0",
         "10.0",
         "1203.0",
         "Alcatraz atlántico",
         "NE",
         "LC",
         "Sin datos",
         "Favorable",
         "LC",
         "4450.05",
         "2594.0",
         "156.01",
         "2146.42",
         "247.22",
         "135.56",
         "9729.26"
        ],
        [
         "100",
         "Razorbill",
         "2007",
         "6",
         "226",
         "Charadriiformes",
         "Vulnerable",
         "1.02",
         "331.0",
         "700.0",
         "100.0",
         "56.0",
         "10.0",
         "1203.0",
         "Alca común",
         "NE",
         "DD",
         "Sin datos",
         "Datos Insuficientes",
         "DD",
         "4450.05",
         "2594.0",
         "156.01",
         "2146.42",
         "247.22",
         "135.56",
         "9729.26"
        ],
        [
         "101",
         "Sandwich Tern",
         "2007",
         "4",
         "215",
         "Charadriiformes",
         "Vulnerable",
         "1.02",
         "331.0",
         "700.0",
         "100.0",
         "56.0",
         "10.0",
         "1203.0",
         "Charrán patinegro",
         "NT",
         "Sin datos",
         "VU",
         "Desfavorable",
         "VU",
         "4450.05",
         "2594.0",
         "156.01",
         "2146.42",
         "247.22",
         "135.56",
         "9729.26"
        ],
        [
         "102",
         "Shag",
         "2007",
         "2",
         "21",
         "Suliformes",
         "Vulnerable",
         "1.02",
         "331.0",
         "700.0",
         "100.0",
         "56.0",
         "10.0",
         "1203.0",
         "Cormorán moñudo",
         "VU",
         "Sin datos",
         "VU",
         "Sin Variaciones",
         "VU",
         "4450.05",
         "2594.0",
         "156.01",
         "2146.42",
         "247.22",
         "135.56",
         "9729.26"
        ],
        [
         "103",
         "Yelkouan Shearwater",
         "2007",
         "6",
         "495",
         "Procel·lariformes",
         "Vulnerable",
         "1.02",
         "331.0",
         "700.0",
         "100.0",
         "56.0",
         "10.0",
         "1203.0",
         "Pardela mediterránea",
         "NE",
         "Sin datos",
         "VU",
         "Desfavorable",
         "VU",
         "4450.05",
         "2594.0",
         "156.01",
         "2146.42",
         "247.22",
         "135.56",
         "9729.26"
        ],
        [
         "104",
         "Arctic Skua",
         "2007",
         "4",
         "192",
         "Charadriiformes",
         "Protected",
         "1.66",
         "331.0",
         "700.0",
         "100.0",
         "56.0",
         "10.0",
         "1203.0",
         "Págalo parásito",
         "NE",
         "NE",
         "Sin datos",
         "No Evaluada",
         "NE",
         "4450.05",
         "2594.0",
         "156.01",
         "2146.42",
         "247.22",
         "135.56",
         "9729.26"
        ],
        [
         "105",
         "Balearic Shearwater",
         "2007",
         "6",
         "454",
         "Procel·lariformes",
         "Critically Endangered",
         "1.66",
         "331.0",
         "700.0",
         "100.0",
         "56.0",
         "10.0",
         "1203.0",
         "Pardela balear",
         "CR",
         "Sin datos",
         "CR",
         "Sin Variaciones",
         "CR",
         "4450.05",
         "2594.0",
         "156.01",
         "2146.42",
         "247.22",
         "135.56",
         "9729.26"
        ],
        [
         "106",
         "Balearic-/Yelkouan Shearwater",
         "2007",
         "6",
         "4646",
         "Procel·lariformes",
         "Critically Endangered/Protected",
         "1.66",
         "331.0",
         "700.0",
         "100.0",
         "56.0",
         "10.0",
         "1203.0",
         "Pardela balear/mediterránea",
         "CR/EN",
         "Sin datos",
         "CR/VU",
         "Sin Variaciones/Desfavorable",
         "CR/VU",
         "4450.05",
         "2594.0",
         "156.01",
         "2146.42",
         "247.22",
         "135.56",
         "9729.26"
        ],
        [
         "107",
         "Black-headed Gull",
         "2007",
         "1",
         "200",
         "Charadriiformes",
         "No Evaluated",
         "1.66",
         "331.0",
         "700.0",
         "100.0",
         "56.0",
         "10.0",
         "1203.0",
         "Gaviota reidora",
         "NE",
         "LC",
         "Sin datos",
         "Favorable",
         "LC",
         "4450.05",
         "2594.0",
         "156.01",
         "2146.42",
         "247.22",
         "135.56",
         "9729.26"
        ],
        [
         "108",
         "Cormorant",
         "2007",
         "3",
         "20",
         "Suliformes",
         "No Evaluated",
         "1.66",
         "331.0",
         "700.0",
         "100.0",
         "56.0",
         "10.0",
         "1203.0",
         "Cormorán grande",
         "NE",
         "LC",
         "LC",
         "Favorable",
         "LC",
         "4450.05",
         "2594.0",
         "156.01",
         "2146.42",
         "247.22",
         "135.56",
         "9729.26"
        ],
        [
         "109",
         "Gannet",
         "2007",
         "14",
         "19",
         "Suliformes",
         "Protected",
         "1.66",
         "331.0",
         "700.0",
         "100.0",
         "56.0",
         "10.0",
         "1203.0",
         "Alcatraz atlántico",
         "NE",
         "LC",
         "Sin datos",
         "Favorable",
         "LC",
         "4450.05",
         "2594.0",
         "156.01",
         "2146.42",
         "247.22",
         "135.56",
         "9729.26"
        ],
        [
         "110",
         "Great Skua",
         "2007",
         "1",
         "194",
         "Charadriiformes",
         "Protected",
         "1.66",
         "331.0",
         "700.0",
         "100.0",
         "56.0",
         "10.0",
         "1203.0",
         "Págalo grande",
         "NE",
         "NE",
         "Sin datos",
         "No Evaluada",
         "NE",
         "4450.05",
         "2594.0",
         "156.01",
         "2146.42",
         "247.22",
         "135.56",
         "9729.26"
        ],
        [
         "111",
         "Mediterranean Gull",
         "2007",
         "5",
         "196",
         "Charadriiformes",
         "Protected",
         "1.66",
         "331.0",
         "700.0",
         "100.0",
         "56.0",
         "10.0",
         "1203.0",
         "Gaviota cabecinegra",
         "NE",
         "NT",
         "Sin datos",
         "Desfavorable",
         "NT",
         "4450.05",
         "2594.0",
         "156.01",
         "2146.42",
         "247.22",
         "135.56",
         "9729.26"
        ],
        [
         "112",
         "Puffin",
         "2007",
         "2",
         "229",
         "Charadriiformes",
         "Protected",
         "1.66",
         "331.0",
         "700.0",
         "100.0",
         "56.0",
         "10.0",
         "1203.0",
         "Frailecillo atlántico",
         "NE",
         "Sin datos",
         "DD",
         "Datos Insuficientes",
         "DD",
         "4450.05",
         "2594.0",
         "156.01",
         "2146.42",
         "247.22",
         "135.56",
         "9729.26"
        ],
        [
         "113",
         "Razorbill",
         "2007",
         "4",
         "226",
         "Charadriiformes",
         "Vulnerable",
         "1.66",
         "331.0",
         "700.0",
         "100.0",
         "56.0",
         "10.0",
         "1203.0",
         "Alca común",
         "NE",
         "DD",
         "Sin datos",
         "Datos Insuficientes",
         "DD",
         "4450.05",
         "2594.0",
         "156.01",
         "2146.42",
         "247.22",
         "135.56",
         "9729.26"
        ],
        [
         "114",
         "Sandwich Tern",
         "2007",
         "5",
         "215",
         "Charadriiformes",
         "Vulnerable",
         "1.66",
         "331.0",
         "700.0",
         "100.0",
         "56.0",
         "10.0",
         "1203.0",
         "Charrán patinegro",
         "NT",
         "Sin datos",
         "VU",
         "Desfavorable",
         "VU",
         "4450.05",
         "2594.0",
         "156.01",
         "2146.42",
         "247.22",
         "135.56",
         "9729.26"
        ],
        [
         "115",
         "Shag",
         "2007",
         "2",
         "21",
         "Suliformes",
         "Vulnerable",
         "1.66",
         "331.0",
         "700.0",
         "100.0",
         "56.0",
         "10.0",
         "1203.0",
         "Cormorán moñudo",
         "VU",
         "Sin datos",
         "VU",
         "Sin Variaciones",
         "VU",
         "4450.05",
         "2594.0",
         "156.01",
         "2146.42",
         "247.22",
         "135.56",
         "9729.26"
        ],
        [
         "116",
         "Yelkouan Shearwater",
         "2007",
         "4",
         "495",
         "Procel·lariformes",
         "Vulnerable",
         "1.66",
         "331.0",
         "700.0",
         "100.0",
         "56.0",
         "10.0",
         "1203.0",
         "Pardela mediterránea",
         "NE",
         "Sin datos",
         "VU",
         "Desfavorable",
         "VU",
         "4450.05",
         "2594.0",
         "156.01",
         "2146.42",
         "247.22",
         "135.56",
         "9729.26"
        ],
        [
         "117",
         "Arctic Skua",
         "2007",
         "1",
         "192",
         "Charadriiformes",
         "Protected",
         "1.86",
         "331.0",
         "700.0",
         "100.0",
         "56.0",
         "10.0",
         "1203.0",
         "Págalo parásito",
         "NE",
         "NE",
         "Sin datos",
         "No Evaluada",
         "NE",
         "4450.05",
         "2594.0",
         "156.01",
         "2146.42",
         "247.22",
         "135.56",
         "9729.26"
        ],
        [
         "118",
         "Audouin's Gull",
         "2007",
         "1",
         "677",
         "Charadriiformes",
         "Critically Endangered",
         "1.86",
         "331.0",
         "700.0",
         "100.0",
         "56.0",
         "10.0",
         "1203.0",
         "Gaviota de Audouin",
         "VU",
         "Sin datos",
         "VU",
         "Sin Variaciones",
         "VU",
         "4450.05",
         "2594.0",
         "156.01",
         "2146.42",
         "247.22",
         "135.56",
         "9729.26"
        ],
        [
         "119",
         "Balearic Shearwater",
         "2007",
         "15",
         "454",
         "Procel·lariformes",
         "Critically Endangered",
         "1.86",
         "331.0",
         "700.0",
         "100.0",
         "56.0",
         "10.0",
         "1203.0",
         "Pardela balear",
         "CR",
         "Sin datos",
         "CR",
         "Sin Variaciones",
         "CR",
         "4450.05",
         "2594.0",
         "156.01",
         "2146.42",
         "247.22",
         "135.56",
         "9729.26"
        ],
        [
         "120",
         "Balearic-/Yelkouan Shearwater",
         "2007",
         "15",
         "4646",
         "Procel·lariformes",
         "Critically Endangered/Protected",
         "1.86",
         "331.0",
         "700.0",
         "100.0",
         "56.0",
         "10.0",
         "1203.0",
         "Pardela balear/mediterránea",
         "CR/EN",
         "Sin datos",
         "CR/VU",
         "Sin Variaciones/Desfavorable",
         "CR/VU",
         "4450.05",
         "2594.0",
         "156.01",
         "2146.42",
         "247.22",
         "135.56",
         "9729.26"
        ],
        [
         "121",
         "Common Tern",
         "2007",
         "3",
         "217",
         "Charadriiformes",
         "Vulnerable",
         "1.86",
         "331.0",
         "700.0",
         "100.0",
         "56.0",
         "10.0",
         "1203.0",
         "Charrán común",
         "NT",
         "Sin datos",
         "NT",
         "Sin Variaciones",
         "NT",
         "4450.05",
         "2594.0",
         "156.01",
         "2146.42",
         "247.22",
         "135.56",
         "9729.26"
        ],
        [
         "122",
         "Gannet",
         "2007",
         "15",
         "19",
         "Suliformes",
         "Protected",
         "1.86",
         "331.0",
         "700.0",
         "100.0",
         "56.0",
         "10.0",
         "1203.0",
         "Alcatraz atlántico",
         "NE",
         "LC",
         "Sin datos",
         "Favorable",
         "LC",
         "4450.05",
         "2594.0",
         "156.01",
         "2146.42",
         "247.22",
         "135.56",
         "9729.26"
        ],
        [
         "123",
         "Mediterranean Gull",
         "2007",
         "1",
         "196",
         "Charadriiformes",
         "Protected",
         "1.86",
         "331.0",
         "700.0",
         "100.0",
         "56.0",
         "10.0",
         "1203.0",
         "Gaviota cabecinegra",
         "NE",
         "NT",
         "Sin datos",
         "Desfavorable",
         "NT",
         "4450.05",
         "2594.0",
         "156.01",
         "2146.42",
         "247.22",
         "135.56",
         "9729.26"
        ],
        [
         "124",
         "Sandwich Tern",
         "2007",
         "5",
         "215",
         "Charadriiformes",
         "Vulnerable",
         "1.86",
         "331.0",
         "700.0",
         "100.0",
         "56.0",
         "10.0",
         "1203.0",
         "Charrán patinegro",
         "NT",
         "Sin datos",
         "VU",
         "Desfavorable",
         "VU",
         "4450.05",
         "2594.0",
         "156.01",
         "2146.42",
         "247.22",
         "135.56",
         "9729.26"
        ]
       ],
       "shape": {
        "columns": 26,
        "rows": 1855
       }
      },
      "text/html": [
       "<div>\n",
       "<style scoped>\n",
       "    .dataframe tbody tr th:only-of-type {\n",
       "        vertical-align: middle;\n",
       "    }\n",
       "\n",
       "    .dataframe tbody tr th {\n",
       "        vertical-align: top;\n",
       "    }\n",
       "\n",
       "    .dataframe thead th {\n",
       "        text-align: right;\n",
       "    }\n",
       "</style>\n",
       "<table border=\"1\" class=\"dataframe\">\n",
       "  <thead>\n",
       "    <tr style=\"text-align: right;\">\n",
       "      <th></th>\n",
       "      <th>speciesname</th>\n",
       "      <th>year</th>\n",
       "      <th>count_aves</th>\n",
       "      <th>speciesid</th>\n",
       "      <th>Ordre</th>\n",
       "      <th>Protection_status_in_Catlunya</th>\n",
       "      <th>SST_change</th>\n",
       "      <th>Arrossegament_fons_Mediterrani</th>\n",
       "      <th>Arts_menors_Mediterrani</th>\n",
       "      <th>Encerclament_Mediterrani</th>\n",
       "      <th>...</th>\n",
       "      <th>LR2021 Repro</th>\n",
       "      <th>Evolucion_Categoria_2004_2021</th>\n",
       "      <th>Estatus_2021</th>\n",
       "      <th>Biosphere_reserve</th>\n",
       "      <th>MPA_national_statute</th>\n",
       "      <th>Marine_Natura_2000_proposed_site</th>\n",
       "      <th>Marine_Natura_2000_site</th>\n",
       "      <th>SPAMI</th>\n",
       "      <th>World_heritage_site</th>\n",
       "      <th>Total_MPAs</th>\n",
       "    </tr>\n",
       "  </thead>\n",
       "  <tbody>\n",
       "    <tr>\n",
       "      <th>75</th>\n",
       "      <td>Balearic Shearwater</td>\n",
       "      <td>2007</td>\n",
       "      <td>9</td>\n",
       "      <td>454</td>\n",
       "      <td>Procel·lariformes</td>\n",
       "      <td>Critically Endangered</td>\n",
       "      <td>2.40</td>\n",
       "      <td>331.0</td>\n",
       "      <td>700.0</td>\n",
       "      <td>100.0</td>\n",
       "      <td>...</td>\n",
       "      <td>CR</td>\n",
       "      <td>Sin Variaciones</td>\n",
       "      <td>CR</td>\n",
       "      <td>4450.05</td>\n",
       "      <td>2594.00</td>\n",
       "      <td>156.01</td>\n",
       "      <td>2146.42</td>\n",
       "      <td>247.22</td>\n",
       "      <td>135.56</td>\n",
       "      <td>9729.26</td>\n",
       "    </tr>\n",
       "    <tr>\n",
       "      <th>76</th>\n",
       "      <td>Balearic-/Yelkouan Shearwater</td>\n",
       "      <td>2007</td>\n",
       "      <td>4</td>\n",
       "      <td>4646</td>\n",
       "      <td>Procel·lariformes</td>\n",
       "      <td>Critically Endangered/Protected</td>\n",
       "      <td>2.40</td>\n",
       "      <td>331.0</td>\n",
       "      <td>700.0</td>\n",
       "      <td>100.0</td>\n",
       "      <td>...</td>\n",
       "      <td>CR/VU</td>\n",
       "      <td>Sin Variaciones/Desfavorable</td>\n",
       "      <td>CR/VU</td>\n",
       "      <td>4450.05</td>\n",
       "      <td>2594.00</td>\n",
       "      <td>156.01</td>\n",
       "      <td>2146.42</td>\n",
       "      <td>247.22</td>\n",
       "      <td>135.56</td>\n",
       "      <td>9729.26</td>\n",
       "    </tr>\n",
       "    <tr>\n",
       "      <th>77</th>\n",
       "      <td>Black-headed Gull</td>\n",
       "      <td>2007</td>\n",
       "      <td>5</td>\n",
       "      <td>200</td>\n",
       "      <td>Charadriiformes</td>\n",
       "      <td>No Evaluated</td>\n",
       "      <td>2.40</td>\n",
       "      <td>331.0</td>\n",
       "      <td>700.0</td>\n",
       "      <td>100.0</td>\n",
       "      <td>...</td>\n",
       "      <td>Sin datos</td>\n",
       "      <td>Favorable</td>\n",
       "      <td>LC</td>\n",
       "      <td>4450.05</td>\n",
       "      <td>2594.00</td>\n",
       "      <td>156.01</td>\n",
       "      <td>2146.42</td>\n",
       "      <td>247.22</td>\n",
       "      <td>135.56</td>\n",
       "      <td>9729.26</td>\n",
       "    </tr>\n",
       "    <tr>\n",
       "      <th>78</th>\n",
       "      <td>Cormorant</td>\n",
       "      <td>2007</td>\n",
       "      <td>12</td>\n",
       "      <td>20</td>\n",
       "      <td>Suliformes</td>\n",
       "      <td>No Evaluated</td>\n",
       "      <td>2.40</td>\n",
       "      <td>331.0</td>\n",
       "      <td>700.0</td>\n",
       "      <td>100.0</td>\n",
       "      <td>...</td>\n",
       "      <td>LC</td>\n",
       "      <td>Favorable</td>\n",
       "      <td>LC</td>\n",
       "      <td>4450.05</td>\n",
       "      <td>2594.00</td>\n",
       "      <td>156.01</td>\n",
       "      <td>2146.42</td>\n",
       "      <td>247.22</td>\n",
       "      <td>135.56</td>\n",
       "      <td>9729.26</td>\n",
       "    </tr>\n",
       "    <tr>\n",
       "      <th>79</th>\n",
       "      <td>Gannet</td>\n",
       "      <td>2007</td>\n",
       "      <td>13</td>\n",
       "      <td>19</td>\n",
       "      <td>Suliformes</td>\n",
       "      <td>Protected</td>\n",
       "      <td>2.40</td>\n",
       "      <td>331.0</td>\n",
       "      <td>700.0</td>\n",
       "      <td>100.0</td>\n",
       "      <td>...</td>\n",
       "      <td>Sin datos</td>\n",
       "      <td>Favorable</td>\n",
       "      <td>LC</td>\n",
       "      <td>4450.05</td>\n",
       "      <td>2594.00</td>\n",
       "      <td>156.01</td>\n",
       "      <td>2146.42</td>\n",
       "      <td>247.22</td>\n",
       "      <td>135.56</td>\n",
       "      <td>9729.26</td>\n",
       "    </tr>\n",
       "    <tr>\n",
       "      <th>...</th>\n",
       "      <td>...</td>\n",
       "      <td>...</td>\n",
       "      <td>...</td>\n",
       "      <td>...</td>\n",
       "      <td>...</td>\n",
       "      <td>...</td>\n",
       "      <td>...</td>\n",
       "      <td>...</td>\n",
       "      <td>...</td>\n",
       "      <td>...</td>\n",
       "      <td>...</td>\n",
       "      <td>...</td>\n",
       "      <td>...</td>\n",
       "      <td>...</td>\n",
       "      <td>...</td>\n",
       "      <td>...</td>\n",
       "      <td>...</td>\n",
       "      <td>...</td>\n",
       "      <td>...</td>\n",
       "      <td>...</td>\n",
       "      <td>...</td>\n",
       "    </tr>\n",
       "    <tr>\n",
       "      <th>1925</th>\n",
       "      <td>Razorbill</td>\n",
       "      <td>2023</td>\n",
       "      <td>12</td>\n",
       "      <td>226</td>\n",
       "      <td>Charadriiformes</td>\n",
       "      <td>Vulnerable</td>\n",
       "      <td>0.84</td>\n",
       "      <td>206.0</td>\n",
       "      <td>323.0</td>\n",
       "      <td>57.0</td>\n",
       "      <td>...</td>\n",
       "      <td>Sin datos</td>\n",
       "      <td>Datos Insuficientes</td>\n",
       "      <td>DD</td>\n",
       "      <td>5251.70</td>\n",
       "      <td>49295.58</td>\n",
       "      <td>4459.98</td>\n",
       "      <td>20091.67</td>\n",
       "      <td>247.22</td>\n",
       "      <td>135.56</td>\n",
       "      <td>79481.71</td>\n",
       "    </tr>\n",
       "    <tr>\n",
       "      <th>1926</th>\n",
       "      <td>Sandwich Tern</td>\n",
       "      <td>2023</td>\n",
       "      <td>1</td>\n",
       "      <td>215</td>\n",
       "      <td>Charadriiformes</td>\n",
       "      <td>Vulnerable</td>\n",
       "      <td>0.84</td>\n",
       "      <td>206.0</td>\n",
       "      <td>323.0</td>\n",
       "      <td>57.0</td>\n",
       "      <td>...</td>\n",
       "      <td>VU</td>\n",
       "      <td>Desfavorable</td>\n",
       "      <td>VU</td>\n",
       "      <td>5251.70</td>\n",
       "      <td>49295.58</td>\n",
       "      <td>4459.98</td>\n",
       "      <td>20091.67</td>\n",
       "      <td>247.22</td>\n",
       "      <td>135.56</td>\n",
       "      <td>79481.71</td>\n",
       "    </tr>\n",
       "    <tr>\n",
       "      <th>1927</th>\n",
       "      <td>Shag</td>\n",
       "      <td>2023</td>\n",
       "      <td>9</td>\n",
       "      <td>21</td>\n",
       "      <td>Suliformes</td>\n",
       "      <td>Vulnerable</td>\n",
       "      <td>0.84</td>\n",
       "      <td>206.0</td>\n",
       "      <td>323.0</td>\n",
       "      <td>57.0</td>\n",
       "      <td>...</td>\n",
       "      <td>VU</td>\n",
       "      <td>Sin Variaciones</td>\n",
       "      <td>VU</td>\n",
       "      <td>5251.70</td>\n",
       "      <td>49295.58</td>\n",
       "      <td>4459.98</td>\n",
       "      <td>20091.67</td>\n",
       "      <td>247.22</td>\n",
       "      <td>135.56</td>\n",
       "      <td>79481.71</td>\n",
       "    </tr>\n",
       "    <tr>\n",
       "      <th>1928</th>\n",
       "      <td>Yelkouan Shearwater</td>\n",
       "      <td>2023</td>\n",
       "      <td>58</td>\n",
       "      <td>495</td>\n",
       "      <td>Procel·lariformes</td>\n",
       "      <td>Vulnerable</td>\n",
       "      <td>0.84</td>\n",
       "      <td>206.0</td>\n",
       "      <td>323.0</td>\n",
       "      <td>57.0</td>\n",
       "      <td>...</td>\n",
       "      <td>VU</td>\n",
       "      <td>Desfavorable</td>\n",
       "      <td>VU</td>\n",
       "      <td>5251.70</td>\n",
       "      <td>49295.58</td>\n",
       "      <td>4459.98</td>\n",
       "      <td>20091.67</td>\n",
       "      <td>247.22</td>\n",
       "      <td>135.56</td>\n",
       "      <td>79481.71</td>\n",
       "    </tr>\n",
       "    <tr>\n",
       "      <th>1929</th>\n",
       "      <td>Yellow-legged Gull</td>\n",
       "      <td>2023</td>\n",
       "      <td>1</td>\n",
       "      <td>445</td>\n",
       "      <td>Charadriiformes</td>\n",
       "      <td>No Evaluated</td>\n",
       "      <td>0.84</td>\n",
       "      <td>206.0</td>\n",
       "      <td>323.0</td>\n",
       "      <td>57.0</td>\n",
       "      <td>...</td>\n",
       "      <td>NT</td>\n",
       "      <td>Desfavorable</td>\n",
       "      <td>NT</td>\n",
       "      <td>5251.70</td>\n",
       "      <td>49295.58</td>\n",
       "      <td>4459.98</td>\n",
       "      <td>20091.67</td>\n",
       "      <td>247.22</td>\n",
       "      <td>135.56</td>\n",
       "      <td>79481.71</td>\n",
       "    </tr>\n",
       "  </tbody>\n",
       "</table>\n",
       "<p>1855 rows × 26 columns</p>\n",
       "</div>"
      ],
      "text/plain": [
       "                        speciesname  year  count_aves  speciesid  \\\n",
       "75              Balearic Shearwater  2007           9        454   \n",
       "76    Balearic-/Yelkouan Shearwater  2007           4       4646   \n",
       "77                Black-headed Gull  2007           5        200   \n",
       "78                        Cormorant  2007          12         20   \n",
       "79                           Gannet  2007          13         19   \n",
       "...                             ...   ...         ...        ...   \n",
       "1925                      Razorbill  2023          12        226   \n",
       "1926                  Sandwich Tern  2023           1        215   \n",
       "1927                           Shag  2023           9         21   \n",
       "1928            Yelkouan Shearwater  2023          58        495   \n",
       "1929             Yellow-legged Gull  2023           1        445   \n",
       "\n",
       "                  Ordre    Protection_status_in_Catlunya  SST_change  \\\n",
       "75    Procel·lariformes            Critically Endangered        2.40   \n",
       "76    Procel·lariformes  Critically Endangered/Protected        2.40   \n",
       "77      Charadriiformes                     No Evaluated        2.40   \n",
       "78           Suliformes                     No Evaluated        2.40   \n",
       "79           Suliformes                        Protected        2.40   \n",
       "...                 ...                              ...         ...   \n",
       "1925    Charadriiformes                       Vulnerable        0.84   \n",
       "1926    Charadriiformes                       Vulnerable        0.84   \n",
       "1927         Suliformes                       Vulnerable        0.84   \n",
       "1928  Procel·lariformes                       Vulnerable        0.84   \n",
       "1929    Charadriiformes                     No Evaluated        0.84   \n",
       "\n",
       "      Arrossegament_fons_Mediterrani  Arts_menors_Mediterrani  \\\n",
       "75                             331.0                    700.0   \n",
       "76                             331.0                    700.0   \n",
       "77                             331.0                    700.0   \n",
       "78                             331.0                    700.0   \n",
       "79                             331.0                    700.0   \n",
       "...                              ...                      ...   \n",
       "1925                           206.0                    323.0   \n",
       "1926                           206.0                    323.0   \n",
       "1927                           206.0                    323.0   \n",
       "1928                           206.0                    323.0   \n",
       "1929                           206.0                    323.0   \n",
       "\n",
       "      Encerclament_Mediterrani  ...  LR2021 Repro  \\\n",
       "75                       100.0  ...            CR   \n",
       "76                       100.0  ...         CR/VU   \n",
       "77                       100.0  ...     Sin datos   \n",
       "78                       100.0  ...            LC   \n",
       "79                       100.0  ...     Sin datos   \n",
       "...                        ...  ...           ...   \n",
       "1925                      57.0  ...     Sin datos   \n",
       "1926                      57.0  ...            VU   \n",
       "1927                      57.0  ...            VU   \n",
       "1928                      57.0  ...            VU   \n",
       "1929                      57.0  ...            NT   \n",
       "\n",
       "      Evolucion_Categoria_2004_2021  Estatus_2021 Biosphere_reserve  \\\n",
       "75                  Sin Variaciones            CR           4450.05   \n",
       "76     Sin Variaciones/Desfavorable         CR/VU           4450.05   \n",
       "77                        Favorable            LC           4450.05   \n",
       "78                        Favorable            LC           4450.05   \n",
       "79                        Favorable            LC           4450.05   \n",
       "...                             ...           ...               ...   \n",
       "1925            Datos Insuficientes            DD           5251.70   \n",
       "1926                   Desfavorable            VU           5251.70   \n",
       "1927                Sin Variaciones            VU           5251.70   \n",
       "1928                   Desfavorable            VU           5251.70   \n",
       "1929                   Desfavorable            NT           5251.70   \n",
       "\n",
       "     MPA_national_statute Marine_Natura_2000_proposed_site  \\\n",
       "75                2594.00                           156.01   \n",
       "76                2594.00                           156.01   \n",
       "77                2594.00                           156.01   \n",
       "78                2594.00                           156.01   \n",
       "79                2594.00                           156.01   \n",
       "...                   ...                              ...   \n",
       "1925             49295.58                          4459.98   \n",
       "1926             49295.58                          4459.98   \n",
       "1927             49295.58                          4459.98   \n",
       "1928             49295.58                          4459.98   \n",
       "1929             49295.58                          4459.98   \n",
       "\n",
       "     Marine_Natura_2000_site   SPAMI World_heritage_site  Total_MPAs  \n",
       "75                   2146.42  247.22              135.56     9729.26  \n",
       "76                   2146.42  247.22              135.56     9729.26  \n",
       "77                   2146.42  247.22              135.56     9729.26  \n",
       "78                   2146.42  247.22              135.56     9729.26  \n",
       "79                   2146.42  247.22              135.56     9729.26  \n",
       "...                      ...     ...                 ...         ...  \n",
       "1925                20091.67  247.22              135.56    79481.71  \n",
       "1926                20091.67  247.22              135.56    79481.71  \n",
       "1927                20091.67  247.22              135.56    79481.71  \n",
       "1928                20091.67  247.22              135.56    79481.71  \n",
       "1929                20091.67  247.22              135.56    79481.71  \n",
       "\n",
       "[1855 rows x 26 columns]"
      ]
     },
     "execution_count": 50,
     "metadata": {},
     "output_type": "execute_result"
    }
   ],
   "source": [
    "censo_gml = censo.copy()\n",
    "censo_gml = censo_gml.rename(columns={\n",
    "    'SST change': 'SST_change',\n",
    "    'Estatus Consolidado': 'Estatus_2021',\n",
    "    'Arrossegament de fons al Mediterrani': 'Arrossegament_fons_Mediterrani',\n",
    "    'Arts menors en el Mediterrani': 'Arts_menors_Mediterrani',\n",
    "    'Encerclament al Mediterrani': 'Encerclament_Mediterrani',\n",
    "    'Encerclament tonyina vermella al Mediterrani': 'Encerclament_tonyina_vermella_Mediterrani',\n",
    "    'Palangre de fons al Mediterrani': 'Palangre_fons_Mediterrani',\n",
    "    'Palangre de superficie al Mediterrani': 'Palangre_superficie_Mediterrani',\n",
    "    'Total CAT': 'Total_CAT',\n",
    "    'EVOLUCIÓN CATEGORÍA 2004-2021': 'Evolucion_Categoria_2004_2021',\n",
    "    'Biosphere reserve': 'Biosphere_reserve',\n",
    "    'MPA with a national statute': 'MPA_national_statute',\n",
    "    'Marine Natura 2000 proposed site': 'Marine_Natura_2000_proposed_site',\n",
    "    'Marine Natura 2000 site': 'Marine_Natura_2000_site',\n",
    "    'Ramsar site': 'Ramsar_site',\n",
    "    'World heritage site': 'World_heritage_site', \n",
    "    'Protection status in Catlunya': 'Protection_status_in_Catlunya'\n",
    "})\n",
    "\n",
    "censo_gml.drop(['date', 'Scientific name', 'yday', 'fecha', 'fecha_formateada', 'month', 'nombre_mes', 'Catalan name', 'Average SST 1975-2000', 'Average SST month', 'calculo', 'Ramsar_site', 'Encerclament_tonyina_vermella_Mediterrani'], axis=1, inplace=True)\n",
    "\n",
    "censo_gml"
   ]
  },
  {
   "cell_type": "code",
   "execution_count": 51,
   "id": "15d4fc10",
   "metadata": {},
   "outputs": [
    {
     "name": "stdout",
     "output_type": "stream",
     "text": [
      "\n",
      "Categorías de Evolucion_Categoria_2004_2021 reordenadas. La primera es la referencia:\n",
      "['Sin Variaciones', 'Datos Insuficientes', 'Desfavorable', 'Favorable', 'No Evaluada', 'Sin Variaciones/Desfavorable']\n"
     ]
    }
   ],
   "source": [
    "# Código para establecer la categoría de referencia de Evolucion_Categoria_2004_2021 \n",
    "\n",
    "# 1. Obtener todas las categorías únicas de la columna\n",
    "existing_categories = censo_gml['Evolucion_Categoria_2004_2021'].unique().tolist()\n",
    "\n",
    "# 2. Definir la categoría de referencia deseada\n",
    "reference_category = 'Sin Variaciones'\n",
    "\n",
    "# 3. Crear el nuevo orden de categorías, poniendo la de referencia primero\n",
    "other_categories = sorted([cat for cat in existing_categories if cat != reference_category])\n",
    "desired_category_order = [reference_category] + other_categories\n",
    "\n",
    "# 4. Convertir la columna a tipo Categorical con el orden especificado\n",
    "censo_gml['Evolucion_Categoria_2004_2021'] = pd.Categorical(\n",
    "    censo_gml['Evolucion_Categoria_2004_2021'],\n",
    "    categories=desired_category_order,\n",
    "    ordered=False # Se usa False porque el orden no implica una jerarquía numérica\n",
    ")\n",
    "\n",
    "print(f\"\\nCategorías de Evolucion_Categoria_2004_2021 reordenadas. La primera es la referencia:\")\n",
    "print(censo_gml['Evolucion_Categoria_2004_2021'].cat.categories.tolist())"
   ]
  },
  {
   "cell_type": "code",
   "execution_count": null,
   "id": "ce45846c",
   "metadata": {},
   "outputs": [
    {
     "name": "stdout",
     "output_type": "stream",
     "text": [
      "Media del conteo: 4.41\n",
      "Varianza del conteo: 16.43\n",
      "La varianza es mayor que la media, lo que sugiere sobredispersión. NegativeBinomial es una buena elección.\n",
      "\n",
      "Variables numéricas estandarizadas.\n",
      "\n",
      "Preparando matrices de diseño...\n",
      "Matrices de diseño creadas exitosamente.\n",
      "\n",
      "--- Ajustando el modelo NegativeBinomial con estimación de alpha ---\n",
      "Optimization terminated successfully.\n",
      "         Current function value: 2.372230\n",
      "         Iterations: 37\n",
      "         Function evaluations: 38\n",
      "         Gradient evaluations: 38\n",
      "                     NegativeBinomial Regression Results                      \n",
      "==============================================================================\n",
      "Dep. Variable:             count_aves   No. Observations:                 1855\n",
      "Model:               NegativeBinomial   Df Residuals:                     1842\n",
      "Method:                           MLE   Df Model:                           12\n",
      "Date:               mi., 04 jun. 2025   Pseudo R-squ.:                 0.04562\n",
      "Time:                        20:17:01   Log-Likelihood:                -4400.5\n",
      "converged:                       True   LL-Null:                       -4610.9\n",
      "Covariance Type:            nonrobust   LLR p-value:                 1.536e-82\n",
      "====================================================================================================================================\n",
      "                                                                       coef    std err          z      P>|z|      [0.025      0.975]\n",
      "------------------------------------------------------------------------------------------------------------------------------------\n",
      "Intercept                                                            1.4872      0.032     46.694      0.000       1.425       1.550\n",
      "C(Evolucion_Categoria_2004_2021)[T.Datos Insuficientes]             -0.2797      0.090     -3.106      0.002      -0.456      -0.103\n",
      "C(Evolucion_Categoria_2004_2021)[T.Desfavorable]                    -0.0511      0.043     -1.191      0.234      -0.135       0.033\n",
      "C(Evolucion_Categoria_2004_2021)[T.Favorable]                        0.1200      0.046      2.595      0.009       0.029       0.211\n",
      "C(Evolucion_Categoria_2004_2021)[T.No Evaluada]                     -0.7838      0.082     -9.529      0.000      -0.945      -0.623\n",
      "C(Evolucion_Categoria_2004_2021)[T.Sin Variaciones/Desfavorable]    -0.1889      0.080     -2.370      0.018      -0.345      -0.033\n",
      "SST_change_scaled                                                   -0.0030      0.019     -0.161      0.872      -0.039       0.033\n",
      "Total_MPAs_scaled                                                    0.2138      0.062      3.472      0.001       0.093       0.334\n",
      "Palangre_superficie_Mediterrani_scaled                              -0.0378      0.029     -1.318      0.188      -0.094       0.018\n",
      "Palangre_fons_Mediterrani_scaled                                     0.0669      0.123      0.542      0.588      -0.175       0.309\n",
      "Arrossegament_fons_Mediterrani_scaled                                0.3743      0.158      2.370      0.018       0.065       0.684\n",
      "Arts_menors_Mediterrani_scaled                                      -0.0498      0.112     -0.444      0.657      -0.270       0.170\n",
      "Encerclament_Mediterrani_scaled                                      0.0516      0.122      0.423      0.672      -0.187       0.291\n",
      "alpha                                                                0.2736      0.016     16.887      0.000       0.242       0.305\n",
      "====================================================================================================================================\n",
      "\n",
      "Parámetro alpha estimado por discrete.discrete_model.NegativeBinomial: 0.2736\n"
     ]
    }
   ],
   "source": [
    "print(f\"Media del conteo: {censo_gml['count_aves'].mean():.2f}\")\n",
    "print(f\"Varianza del conteo: {censo_gml['count_aves'].var():.2f}\")\n",
    "if censo_gml['count_aves'].var() > censo_gml['count_aves'].mean():\n",
    "    print(\"La varianza es mayor que la media, lo que sugiere sobredispersión. NegativeBinomial es una buena elección.\")\n",
    "else:\n",
    "    print(\"La varianza no es mayor que la media. Poisson podría ser suficiente o NegativeBinomial no sería la mejor opción por sobredispersión.\")\n",
    "\n",
    "# Estandarizar variables numéricas\n",
    "numeric_cols = [\n",
    "    'SST_change',\n",
    "    'Total_MPAs',\n",
    "    'Palangre_superficie_Mediterrani',\n",
    "    'Palangre_fons_Mediterrani',\n",
    "    'Arrossegament_fons_Mediterrani',\n",
    "    'Arts_menors_Mediterrani', \n",
    "    'Encerclament_Mediterrani'\n",
    "]\n",
    "\n",
    "\n",
    "# Crea nuevas columnas escaladas en el DataFrame\n",
    "for col in numeric_cols:\n",
    "    # Calcula la media y desviación estándar para la columna\n",
    "    mean_val = censo_gml[col].mean()\n",
    "    std_val = censo_gml[col].std()\n",
    "\n",
    "    # Estandariza solo si la desviación estándar es mayor que cero (para evitar división por cero)\n",
    "    if std_val > 0:\n",
    "        censo_gml[f'{col}_scaled'] = (censo_gml[col] - mean_val) / std_val\n",
    "    else:\n",
    "        print(f\"Advertencia: La columna '{col}' tiene desviación estándar cero (valor constante). No se escalará.\")\n",
    "        censo_gml[f'{col}_scaled'] = censo_gml[col]\n",
    "\n",
    "print(\"\\nVariables numéricas estandarizadas.\")\n",
    "\n",
    "\n",
    "# Definir la fórmula del modelo con las variables escaladas\n",
    "formula_scaled = (\n",
    "    'count_aves ~ SST_change_scaled + Total_MPAs_scaled + '\n",
    "    ' + Palangre_superficie_Mediterrani_scaled + Palangre_fons_Mediterrani_scaled +'\n",
    "    'Arrossegament_fons_Mediterrani_scaled + Arts_menors_Mediterrani_scaled + Encerclament_Mediterrani_scaled + C(Evolucion_Categoria_2004_2021)'\n",
    ")\n",
    "\n",
    "\n",
    "#Preparar datos para el modelo\n",
    "print(\"\\nPreparando matrices de diseño...\")\n",
    "try:\n",
    "    y, X = dmatrices(formula_scaled, data=censo_gml, return_type='dataframe')\n",
    "    print(\"Matrices de diseño creadas exitosamente.\")\n",
    "except Exception as e:\n",
    "    print(f\"Error al crear matrices de diseño: {e}\")\n",
    "    print(\"Asegúrate de que todas las columnas en la fórmula existen en censo_gml y no hay NaNs en ellas.\")\n",
    "    exit()\n",
    "\n",
    "#Ajustar el modelo NegativeBinomial\n",
    "print(\"\\n--- Ajustando el modelo NegativeBinomial con estimación de alpha ---\")\n",
    "try:\n",
    "    nb_model = NegativeBinomial(endog=y, exog=X)\n",
    "    nb_results = nb_model.fit(disp=True,  maxiter=5000)\n",
    "\n",
    "    print(nb_results.summary())\n",
    "\n",
    "    # El parámetro de dispersión estimado está en nb_results.params['alpha']\n",
    "    print(f\"\\nParámetro alpha estimado por discrete.discrete_model.NegativeBinomial: {nb_results.params['alpha']:.4f}\")\n",
    "\n",
    "except Exception as e:\n",
    "    print(f\"\\nError al ajustar el modelo NegativeBinomial: {e}\")\n",
    "    print(\"Posibles causas: Problemas de convergencia. Considera un maxiter mayor, valores iniciales, o revisar la colinealidad en variables categóricas.\")\n"
   ]
  }
 ],
 "metadata": {
  "kernelspec": {
   "display_name": "AnalisisPajaros",
   "language": "python",
   "name": "python3"
  },
  "language_info": {
   "codemirror_mode": {
    "name": "ipython",
    "version": 3
   },
   "file_extension": ".py",
   "mimetype": "text/x-python",
   "name": "python",
   "nbconvert_exporter": "python",
   "pygments_lexer": "ipython3",
   "version": "3.12.9"
  }
 },
 "nbformat": 4,
 "nbformat_minor": 5
}
